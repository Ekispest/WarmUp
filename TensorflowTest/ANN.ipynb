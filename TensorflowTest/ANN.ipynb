{
 "cells": [
  {
   "cell_type": "markdown",
   "metadata": {},
   "source": [
    "# <center> Майнор \"Интеллектуальный анализ данных\" </center>"
   ]
  },
  {
   "cell_type": "markdown",
   "metadata": {},
   "source": [
    "# <center> Курс \"Современные методы машинного обучения\" </center>"
   ]
  },
  {
   "cell_type": "markdown",
   "metadata": {},
   "source": [
    "# <center> ANN and Deep Learning </center>"
   ]
  },
  {
   "cell_type": "markdown",
   "metadata": {},
   "source": [
    "# Table of contents  \n",
    "  \n",
    "1. [](#)\n",
    "2. [](#)"
   ]
  },
  {
   "cell_type": "markdown",
   "metadata": {},
   "source": [
    "## Set up the environment"
   ]
  },
  {
   "cell_type": "markdown",
   "metadata": {},
   "source": [
    "### For Anaconda "
   ]
  },
  {
   "cell_type": "markdown",
   "metadata": {},
   "source": [
    "Создание virtual environment:  \n",
    "  \n",
    "``` \n",
    "conda create -n minor_dl_env python=3.6\n",
    "```"
   ]
  },
  {
   "cell_type": "markdown",
   "metadata": {},
   "source": [
    "По умолчанию minor_dl_env будет создана в папке env в директории conda.  \n",
    "Локацию можно изменить указав при создании полный путь:  \n",
    "  \n",
    "```\n",
    "conda create -p full/path/to/minor_dl_env python=3.6\n",
    "```"
   ]
  },
  {
   "cell_type": "markdown",
   "metadata": {},
   "source": [
    "Список все установленных окрудений:  \n",
    "  \n",
    "```\n",
    "conda env list\n",
    "```"
   ]
  },
  {
   "cell_type": "markdown",
   "metadata": {},
   "source": [
    "Чтобы работать в конкретном окржуении, нужно его активировать. После этого можно работать как обычно.  \n",
    "  \n",
    "``` \n",
    "conda activate minor_dl_env\n",
    "```  \n",
    "  \n",
    "Деактивация:  \n",
    "  \n",
    "``` \n",
    "deactivate \n",
    "```"
   ]
  },
  {
   "cell_type": "markdown",
   "metadata": {},
   "source": [
    "Чтобы использовать virt env как ядро в Jupyter notebook, нужно в этом окржуении установить модуль `nb_conda`:  \n",
    "  \n",
    "```\n",
    "conda activate minor_dl_env\n",
    "conda install nb_conda\n",
    "```  \n",
    "  \n",
    "После этого minor_dl_env появится в списке ядер (если jupyter notebook был запущен, нужно будет перезапустить). "
   ]
  },
  {
   "cell_type": "markdown",
   "metadata": {},
   "source": [
    "Далее можно устанавливать все необходимые для работы модули, используя conda или pip."
   ]
  },
  {
   "cell_type": "markdown",
   "metadata": {},
   "source": [
    "Подробнее про virtual environment в conda можно почитать [здесь](https://conda.io/docs/user-guide/tasks/manage-environments.html)."
   ]
  },
  {
   "cell_type": "markdown",
   "metadata": {},
   "source": [
    "## Установка tensorflow + Keras"
   ]
  },
  {
   "cell_type": "markdown",
   "metadata": {},
   "source": [
    "### For Anaconda"
   ]
  },
  {
   "cell_type": "markdown",
   "metadata": {},
   "source": [
    "Активируйте virt env и через conda установите tensorflow:  \n",
    "  \n",
    "```\n",
    "conda activate minor_dl_env   \n",
    "  \n",
    "conda install tensorflow\n",
    "```"
   ]
  },
  {
   "cell_type": "markdown",
   "metadata": {},
   "source": [
    "[Утвержается](https://towardsdatascience.com/stop-installing-tensorflow-using-pip-for-performance-sake-5854f9d9eb0c), что версия conda работает быстрее за счет использования MKL (и это относится также к scikit-learn и numpy)."
   ]
  },
  {
   "cell_type": "markdown",
   "metadata": {},
   "source": [
    "### For Python"
   ]
  },
  {
   "cell_type": "markdown",
   "metadata": {},
   "source": [
    "Интструкция по созданию virt env и установке tensorflow в python для разных платформ: [здесь](https://www.tensorflow.org/install/pip)."
   ]
  },
  {
   "cell_type": "markdown",
   "metadata": {},
   "source": [
    "## Data"
   ]
  },
  {
   "cell_type": "code",
   "execution_count": 42,
   "metadata": {},
   "outputs": [],
   "source": [
    "# TensorFlow and tf.keras\n",
    "import tensorflow as tf\n",
    "from tensorflow import keras"
   ]
  },
  {
   "cell_type": "code",
   "execution_count": 43,
   "metadata": {},
   "outputs": [
    {
     "name": "stdout",
     "output_type": "stream",
     "text": [
      "1.10.0\n"
     ]
    }
   ],
   "source": [
    "print(tf.__version__)"
   ]
  },
  {
   "cell_type": "code",
   "execution_count": 44,
   "metadata": {
    "collapsed": true
   },
   "outputs": [],
   "source": [
    "import numpy as np\n",
    "import pandas as pd\n",
    "import matplotlib.pyplot as plt\n",
    "\n",
    "from matplotlib import style\n",
    "style.use('seaborn')"
   ]
  },
  {
   "cell_type": "markdown",
   "metadata": {},
   "source": [
    "### MNIST"
   ]
  },
  {
   "cell_type": "code",
   "execution_count": 45,
   "metadata": {
    "collapsed": true
   },
   "outputs": [],
   "source": [
    "mnist_data = keras.datasets.mnist\n",
    "(train_images, train_labels), (test_images, test_labels) = mnist_data.load_data()"
   ]
  },
  {
   "cell_type": "code",
   "execution_count": 46,
   "metadata": {},
   "outputs": [
    {
     "name": "stdout",
     "output_type": "stream",
     "text": [
      "Train data size: (60000, 28, 28) \n",
      "Test data size: (10000, 28, 28) \n",
      "\n",
      "Train label size: (60000,) \n",
      "Test label size: (10000,)\n"
     ]
    }
   ],
   "source": [
    "print('Train data size:', train_images.shape,\n",
    "      '\\nTest data size:', test_images.shape,\n",
    "      '\\n\\nTrain label size:', train_labels.shape,\n",
    "      '\\nTest label size:', test_labels.shape)"
   ]
  },
  {
   "cell_type": "markdown",
   "metadata": {},
   "source": [
    "**Labels**"
   ]
  },
  {
   "cell_type": "code",
   "execution_count": 47,
   "metadata": {},
   "outputs": [
    {
     "data": {
      "text/plain": [
       "array([5, 0, 4, ..., 5, 6, 8], dtype=uint8)"
      ]
     },
     "execution_count": 47,
     "metadata": {},
     "output_type": "execute_result"
    }
   ],
   "source": [
    "train_labels"
   ]
  },
  {
   "cell_type": "code",
   "execution_count": 48,
   "metadata": {},
   "outputs": [
    {
     "data": {
      "text/plain": [
       "(array([0, 1, 2, 3, 4, 5, 6, 7, 8, 9], dtype=uint8),\n",
       " array([5923, 6742, 5958, 6131, 5842, 5421, 5918, 6265, 5851, 5949],\n",
       "       dtype=int64))"
      ]
     },
     "execution_count": 48,
     "metadata": {},
     "output_type": "execute_result"
    }
   ],
   "source": [
    "np.unique(train_labels, return_counts=True)"
   ]
  },
  {
   "cell_type": "code",
   "execution_count": 49,
   "metadata": {},
   "outputs": [
    {
     "data": {
      "text/plain": [
       "(array([0, 1, 2, 3, 4, 5, 6, 7, 8, 9], dtype=uint8),\n",
       " array([ 980, 1135, 1032, 1010,  982,  892,  958, 1028,  974, 1009],\n",
       "       dtype=int64))"
      ]
     },
     "execution_count": 49,
     "metadata": {},
     "output_type": "execute_result"
    }
   ],
   "source": [
    "np.unique(test_labels, return_counts=True)"
   ]
  },
  {
   "cell_type": "markdown",
   "metadata": {},
   "source": [
    "**Data**"
   ]
  },
  {
   "cell_type": "code",
   "execution_count": 50,
   "metadata": {},
   "outputs": [
    {
     "data": {
      "text/plain": [
       "<matplotlib.figure.Figure at 0x1e3f0e49da0>"
      ]
     },
     "metadata": {},
     "output_type": "display_data"
    },
    {
     "data": {
      "text/plain": [
       "<matplotlib.figure.Figure at 0x1e3f10ab8d0>"
      ]
     },
     "metadata": {},
     "output_type": "display_data"
    },
    {
     "data": {
      "text/plain": [
       "<matplotlib.figure.Figure at 0x1e3f2ad9438>"
      ]
     },
     "metadata": {},
     "output_type": "display_data"
    },
    {
     "data": {
      "text/plain": [
       "<matplotlib.figure.Figure at 0x1e3f2218470>"
      ]
     },
     "metadata": {},
     "output_type": "display_data"
    },
    {
     "data": {
      "text/plain": [
       "<matplotlib.figure.Figure at 0x1e3f2170160>"
      ]
     },
     "metadata": {},
     "output_type": "display_data"
    },
    {
     "data": {
      "image/png": "[encoded data removed]",
      "text/plain": [
       "<matplotlib.figure.Figure at 0x1e3ef050c50>"
      ]
     },
     "metadata": {},
     "output_type": "display_data"
    }
   ],
   "source": [
    "plt.figure()\n",
    "plt.imshow(train_images[57], cmap='gray_r')\n",
    "plt.colorbar()\n",
    "plt.grid(False)\n",
    "plt.show()"
   ]
  },
  {
   "cell_type": "code",
   "execution_count": 51,
   "metadata": {},
   "outputs": [
    {
     "data": {
      "image/png": "[encoded data removed]",
      "text/plain": [
       "<matplotlib.figure.Figure at 0x1e3f2ae4cf8>"
      ]
     },
     "metadata": {},
     "output_type": "display_data"
    }
   ],
   "source": [
    "plt.figure(figsize=(10,10))\n",
    "for i in range(25):\n",
    "    plt.subplot(5,5,i+1)\n",
    "    plt.xticks([])\n",
    "    plt.yticks([])\n",
    "    plt.imshow(train_images[i], cmap=plt.cm.binary)\n",
    "    plt.xlabel(train_labels[i])\n",
    "    plt.grid(False)\n",
    "\n",
    "plt.show()"
   ]
  },
  {
   "cell_type": "markdown",
   "metadata": {},
   "source": [
    "<br>\n",
    "<rn>\n",
    "Переведем значения в шкалу от 0 до 1:"
   ]
  },
  {
   "cell_type": "code",
   "execution_count": 52,
   "metadata": {
    "collapsed": true
   },
   "outputs": [],
   "source": [
    "train_images = train_images / 255.0\n",
    "test_images = test_images / 255.0"
   ]
  },
  {
   "cell_type": "code",
   "execution_count": 53,
   "metadata": {},
   "outputs": [
    {
     "data": {
      "image/png": "[encoded data removed]",
      "text/plain": [
       "<matplotlib.figure.Figure at 0x1e3ef050b00>"
      ]
     },
     "metadata": {},
     "output_type": "display_data"
    }
   ],
   "source": [
    "plt.figure()\n",
    "plt.imshow(train_images[57], cmap='gray_r')\n",
    "plt.colorbar()\n",
    "plt.grid(False)\n",
    "plt.show()"
   ]
  },
  {
   "cell_type": "markdown",
   "metadata": {},
   "source": [
    "## Linear classifier"
   ]
  },
  {
   "cell_type": "markdown",
   "metadata": {},
   "source": [
    "Построим однослойную сеть (без скрытых слоев)."
   ]
  },
  {
   "cell_type": "markdown",
   "metadata": {},
   "source": [
    "Layers: [here](https://www.tensorflow.org/api_docs/python/tf/layers)"
   ]
  },
  {
   "cell_type": "code",
   "execution_count": 54,
   "metadata": {
    "collapsed": true
   },
   "outputs": [],
   "source": [
    "linear_model = keras.Sequential([\n",
    "    keras.layers.Flatten(input_shape=(28, 28)), # перевод данных в вектор размерности 28*28=784 (построчно)\n",
    "    keras.layers.Dense(10, activation=tf.nn.softmax) # 10 - число классов\n",
    "])"
   ]
  },
  {
   "cell_type": "markdown",
   "metadata": {},
   "source": [
    "Функции потерь (loss functions): в [keras](https://keras.io/losses/) и [tensorflow](https://www.tensorflow.org/api_guides/python/nn#Losses)  \n",
    "Метрики: в [keras](https://keras.io/metrics/) и [tensorflow](https://www.tensorflow.org/api_docs/python/tf/metrics)"
   ]
  },
  {
   "cell_type": "code",
   "execution_count": 55,
   "metadata": {
    "collapsed": true
   },
   "outputs": [],
   "source": [
    "linear_model.compile(optimizer=tf.train.GradientDescentOptimizer(learning_rate=0.01), \n",
    "                     loss='sparse_categorical_crossentropy',\n",
    "                     metrics=['accuracy'])"
   ]
  },
  {
   "cell_type": "code",
   "execution_count": 56,
   "metadata": {},
   "outputs": [
    {
     "name": "stdout",
     "output_type": "stream",
     "text": [
      "Epoch 1/10\n",
      "60000/60000 [==============================] - 2s 40us/step - loss: 0.7782 - acc: 0.8137\n",
      "Epoch 2/10\n",
      "60000/60000 [==============================] - 2s 37us/step - loss: 0.4560 - acc: 0.8805\n",
      "Epoch 3/10\n",
      "60000/60000 [==============================] - 2s 37us/step - loss: 0.4031 - acc: 0.8909\n",
      "Epoch 4/10\n",
      "60000/60000 [==============================] - 2s 38us/step - loss: 0.3767 - acc: 0.8968\n",
      "Epoch 5/10\n",
      "60000/60000 [==============================] - 2s 38us/step - loss: 0.3600 - acc: 0.9007\n",
      "Epoch 6/10\n",
      "60000/60000 [==============================] - 2s 37us/step - loss: 0.3481 - acc: 0.9031\n",
      "Epoch 7/10\n",
      "60000/60000 [==============================] - 2s 36us/step - loss: 0.3391 - acc: 0.9052\n",
      "Epoch 8/10\n",
      "60000/60000 [==============================] - 2s 37us/step - loss: 0.3319 - acc: 0.9072\n",
      "Epoch 9/10\n",
      "60000/60000 [==============================] - 2s 37us/step - loss: 0.3261 - acc: 0.9093\n",
      "Epoch 10/10\n",
      "60000/60000 [==============================] - 2s 37us/step - loss: 0.3212 - acc: 0.9103\n"
     ]
    },
    {
     "data": {
      "text/plain": [
       "<tensorflow.python.keras.callbacks.History at 0x1e38693a4e0>"
      ]
     },
     "execution_count": 56,
     "metadata": {},
     "output_type": "execute_result"
    }
   ],
   "source": [
    "linear_model.fit(train_images, train_labels, epochs=10)"
   ]
  },
  {
   "cell_type": "code",
   "execution_count": 57,
   "metadata": {},
   "outputs": [
    {
     "name": "stdout",
     "output_type": "stream",
     "text": [
      "10000/10000 [==============================] - 0s 26us/step\n"
     ]
    }
   ],
   "source": [
    "test_loss, test_acc = linear_model.evaluate(test_images, test_labels)"
   ]
  },
  {
   "cell_type": "code",
   "execution_count": 58,
   "metadata": {},
   "outputs": [
    {
     "name": "stdout",
     "output_type": "stream",
     "text": [
      "Test accuracy: 0.9141 \n",
      "Test loss: 0.3060480312824249\n"
     ]
    }
   ],
   "source": [
    "print('Test accuracy:', test_acc, '\\nTest loss:', test_loss)"
   ]
  },
  {
   "cell_type": "markdown",
   "metadata": {},
   "source": [
    "У каждого пикселя есть свой вес, веса разные для каждого класса.  \n",
    "Мы можем свернуть вектор весов в картинку $28 \\times 28$ и провизуализировать:"
   ]
  },
  {
   "cell_type": "code",
   "execution_count": 59,
   "metadata": {},
   "outputs": [
    {
     "data": {
      "image/png": "[encoded data removed]",
      "text/plain": [
       "<matplotlib.figure.Figure at 0x1e3801f7dd8>"
      ]
     },
     "metadata": {},
     "output_type": "display_data"
    }
   ],
   "source": [
    "plt.figure(figsize=(10,10))\n",
    "for i in range(10):\n",
    "    plt.subplot(5,2,i+1)\n",
    "    plt.xticks([])\n",
    "    plt.yticks([])\n",
    "    plt.imshow(linear_model.get_layer(index=1).get_weights()[0][:, i].reshape((28, 28)) * -1, cmap='gray')\n",
    "    plt.xlabel(i)\n",
    "    plt.grid(False)\n",
    "\n",
    "plt.show()"
   ]
  },
  {
   "cell_type": "markdown",
   "metadata": {},
   "source": [
    "На некоторых изображениях можно увидеть ччто-то похожее на цифру, соотвествующую классу. "
   ]
  },
  {
   "cell_type": "code",
   "execution_count": 60,
   "metadata": {},
   "outputs": [
    {
     "ename": "ModuleNotFoundError",
     "evalue": "No module named 'plot_cm'",
     "output_type": "error",
     "traceback": [
      "\u001b[1;31m---------------------------------------------------------------------------\u001b[0m",
      "\u001b[1;31mModuleNotFoundError\u001b[0m                       Traceback (most recent call last)",
      "\u001b[1;32m<ipython-input-60-b43f219722a8>\u001b[0m in \u001b[0;36m<module>\u001b[1;34m()\u001b[0m\n\u001b[0;32m      1\u001b[0m \u001b[1;32mfrom\u001b[0m \u001b[0msklearn\u001b[0m \u001b[1;32mimport\u001b[0m \u001b[0mmetrics\u001b[0m\u001b[1;33m\u001b[0m\u001b[0m\n\u001b[1;32m----> 2\u001b[1;33m \u001b[1;32mfrom\u001b[0m \u001b[0mplot_cm\u001b[0m \u001b[1;32mimport\u001b[0m \u001b[0mplot_confusion_matrix\u001b[0m\u001b[1;33m\u001b[0m\u001b[0m\n\u001b[0m",
      "\u001b[1;31mModuleNotFoundError\u001b[0m: No module named 'plot_cm'"
     ]
    }
   ],
   "source": [
    "from sklearn import metrics\n",
    "from plot_cm import plot_confusion_matrix"
   ]
  },
  {
   "cell_type": "code",
   "execution_count": null,
   "metadata": {},
   "outputs": [],
   "source": [
    "style.use('default')\n",
    "plot_confusion_matrix(cm=metrics.confusion_matrix(test_labels, linear_model.predict_classes(test_images)),\n",
    "                      target_names=np.arange(0, 10),\n",
    "                      normalize=True)"
   ]
  },
  {
   "cell_type": "code",
   "execution_count": null,
   "metadata": {},
   "outputs": [],
   "source": [
    "%%time \n",
    "\n",
    "linear_model = keras.Sequential([\n",
    "    keras.layers.Flatten(input_shape=(28, 28)), # перевод данных в вектор размерности 28*28=784 (построчно)\n",
    "    keras.layers.Dense(10, activation=tf.nn.softmax) # 10 - число классов\n",
    "])\n",
    "\n",
    "linear_model.compile(optimizer=tf.train.GradientDescentOptimizer(learning_rate=0.01), \n",
    "                     loss='sparse_categorical_crossentropy',\n",
    "                     metrics=['accuracy'])\n",
    "\n",
    "linear_model.fit(train_images, train_labels, epochs=100, verbose=0)"
   ]
  },
  {
   "cell_type": "code",
   "execution_count": null,
   "metadata": {},
   "outputs": [],
   "source": [
    "test_loss, test_acc = linear_model.evaluate(test_images, test_labels)\n",
    "print('Test accuracy:', test_acc, '\\nTest loss:', test_loss)"
   ]
  },
  {
   "cell_type": "code",
   "execution_count": null,
   "metadata": {},
   "outputs": [],
   "source": [
    "plt.figure(figsize=(10,10))\n",
    "for i in range(10):\n",
    "    plt.subplot(5,2,i+1)\n",
    "    plt.xticks([])\n",
    "    plt.yticks([])\n",
    "    plt.imshow(linear_model.get_layer(index=1).get_weights()[0][:, i].reshape((28, 28)), cmap='gray_r')\n",
    "    plt.xlabel(i)\n",
    "    plt.grid(False)\n",
    "\n",
    "plt.show()"
   ]
  },
  {
   "cell_type": "code",
   "execution_count": null,
   "metadata": {
    "collapsed": true
   },
   "outputs": [],
   "source": [
    "style.use('default')\n",
    "plot_confusion_matrix(cm=metrics.confusion_matrix(test_labels, linear_model.predict_classes(test_images)),\n",
    "                      target_names=np.arange(0, 10),\n",
    "                      normalize=True)"
   ]
  },
  {
   "cell_type": "markdown",
   "metadata": {},
   "source": [
    "## Многослойная нейросеть"
   ]
  },
  {
   "cell_type": "markdown",
   "metadata": {},
   "source": [
    "Функции активации (activations): в [keras](https://keras.io/activations/) и [tensorflow](https://www.tensorflow.org/api_guides/python/nn#Activation_Functions)"
   ]
  },
  {
   "cell_type": "markdown",
   "metadata": {},
   "source": [
    "Добавим один скрытый слой из 100 нейронов в модель:"
   ]
  },
  {
   "cell_type": "code",
   "execution_count": null,
   "metadata": {
    "collapsed": true
   },
   "outputs": [],
   "source": [
    "linear_model = keras.Sequential()\n",
    "\n",
    "linear_model.add(keras.layers.Flatten(input_shape=(28, 28))) # перевод данных в вектор размерности 28*28=784 (построчно)\n",
    "linear_model.add(keras.layers.Dense(100))\n",
    "linear_model.add(keras.layers.Activation('relu')) # скрытый слой из 100 нейронов\n",
    "linear_model.add(keras.layers.Dense(10, activation=tf.nn.softmax)) # 10 - число классов"
   ]
  },
  {
   "cell_type": "code",
   "execution_count": null,
   "metadata": {
    "collapsed": true
   },
   "outputs": [],
   "source": [
    "linear_model.compile(optimizer=keras.optimizers.SGD(lr=0.01), \n",
    "                     loss='sparse_categorical_crossentropy',\n",
    "                     metrics=['accuracy'])"
   ]
  },
  {
   "cell_type": "code",
   "execution_count": null,
   "metadata": {
    "collapsed": true
   },
   "outputs": [],
   "source": [
    "linear_model.fit(train_images, train_labels, epochs=10, verbose=0)"
   ]
  },
  {
   "cell_type": "code",
   "execution_count": null,
   "metadata": {
    "collapsed": true
   },
   "outputs": [],
   "source": [
    "test_loss, test_acc = linear_model.evaluate(test_images, test_labels)\n",
    "print('Test accuracy:', test_acc, '\\nTest loss:', test_loss)"
   ]
  },
  {
   "cell_type": "code",
   "execution_count": null,
   "metadata": {
    "collapsed": true
   },
   "outputs": [],
   "source": [
    "len(linear_model.layers)"
   ]
  },
  {
   "cell_type": "code",
   "execution_count": null,
   "metadata": {
    "collapsed": true
   },
   "outputs": [],
   "source": [
    "plot_confusion_matrix(cm=metrics.confusion_matrix(test_labels, linear_model.predict_classes(test_images)),\n",
    "                      target_names=np.arange(0, 10),\n",
    "                      normalize=True)"
   ]
  },
  {
   "cell_type": "code",
   "execution_count": null,
   "metadata": {
    "collapsed": true
   },
   "outputs": [],
   "source": [
    "plt.figure(figsize=(20, 20))\n",
    "for i in range(100):\n",
    "    plt.subplot(10,10,i+1)\n",
    "    plt.xticks([])\n",
    "    plt.yticks([])\n",
    "    plt.imshow(linear_model.get_layer(index=1).get_weights()[0][:, i].reshape((28, 28)), cmap='gray_r')\n",
    "    plt.xlabel(i)\n",
    "    plt.grid(False)\n",
    "\n",
    "plt.show()"
   ]
  },
  {
   "cell_type": "code",
   "execution_count": null,
   "metadata": {
    "collapsed": true
   },
   "outputs": [],
   "source": [
    "df = pd.DataFrame(linear_model.get_layer(index=3).get_weights()[0][:,5].reshape(10,10).round(3))\n",
    "df.style.background_gradient(cmap='coolwarm')"
   ]
  },
  {
   "cell_type": "markdown",
   "metadata": {
    "collapsed": true
   },
   "source": [
    "<br>\n",
    "<br>\n",
    "### Задание  \n",
    "  \n",
    "* Используйти данные Fashion MNIST - их можно загрузить также, только вместо `keras.datasets.mnist` вызывайте `keras.datasets.fashion_mnist`  \n",
    "* Обучите линейную модель (однослойную нейросеть, без скрытых слоев), оцените качество, провизуализируйте веса.  \n",
    "* Обучите модель с одним скрытым слоем, поцените качество, посмотрите на веса, сравните с линейной моделью.  "
   ]
  },
  {
   "cell_type": "code",
   "execution_count": 81,
   "metadata": {
    "collapsed": true
   },
   "outputs": [],
   "source": [
    "mnist_data = keras.datasets.fashion_mnist\n",
    "(train_images, train_labels), (test_images, test_labels) = mnist_data.load_data()"
   ]
  },
  {
   "cell_type": "code",
   "execution_count": 82,
   "metadata": {},
   "outputs": [
    {
     "name": "stdout",
     "output_type": "stream",
     "text": [
      "Train data size: (60000, 28, 28) \n",
      "Test data size: (10000, 28, 28) \n",
      "\n",
      "Train label size: (60000,) \n",
      "Test label size: (10000,)\n"
     ]
    }
   ],
   "source": [
    "print('Train data size:', train_images.shape,\n",
    "      '\\nTest data size:', test_images.shape,\n",
    "      '\\n\\nTrain label size:', train_labels.shape,\n",
    "      '\\nTest label size:', test_labels.shape)"
   ]
  },
  {
   "cell_type": "code",
   "execution_count": 83,
   "metadata": {
    "collapsed": true
   },
   "outputs": [],
   "source": [
    "train_images = train_images / 255.0\n",
    "test_images = test_images / 255.0"
   ]
  },
  {
   "cell_type": "code",
   "execution_count": 84,
   "metadata": {},
   "outputs": [
    {
     "data": {
      "image/png": "[encoded data removed]",
      "text/plain": [
       "<matplotlib.figure.Figure at 0x1e3eeffe550>"
      ]
     },
     "metadata": {},
     "output_type": "display_data"
    }
   ],
   "source": [
    "plt.figure()\n",
    "plt.imshow(train_images[0], cmap='gray_r')\n",
    "plt.colorbar()\n",
    "plt.grid(False)\n",
    "plt.show()"
   ]
  },
  {
   "cell_type": "code",
   "execution_count": 85,
   "metadata": {},
   "outputs": [
    {
     "data": {
      "image/png": "[encoded data removed]",
      "text/plain": [
       "<matplotlib.figure.Figure at 0x1e3eee05cc0>"
      ]
     },
     "metadata": {},
     "output_type": "display_data"
    }
   ],
   "source": [
    "plt.figure(figsize=(10,10))\n",
    "for i in range(25):\n",
    "    plt.subplot(5,5,i+1)\n",
    "    plt.xticks([])\n",
    "    plt.yticks([])\n",
    "    plt.imshow(train_images[i], cmap=plt.cm.binary)\n",
    "    plt.xlabel(train_labels[i])\n",
    "    plt.grid(False)\n",
    "\n",
    "plt.show()"
   ]
  },
  {
   "cell_type": "code",
   "execution_count": 86,
   "metadata": {
    "collapsed": true
   },
   "outputs": [],
   "source": [
    "linear_model = keras.Sequential([\n",
    "    keras.layers.Flatten(input_shape=(28, 28)),\n",
    "    keras.layers.Dense(10, activation=tf.nn.softmax)\n",
    "])"
   ]
  },
  {
   "cell_type": "code",
   "execution_count": 88,
   "metadata": {
    "collapsed": true
   },
   "outputs": [],
   "source": [
    "linear_model.compile(optimizer=tf.train.GradientDescentOptimizer(learning_rate=0.01), \n",
    "                     loss='sparse_categorical_crossentropy',\n",
    "                     metrics=['accuracy'])"
   ]
  },
  {
   "cell_type": "code",
   "execution_count": 89,
   "metadata": {},
   "outputs": [
    {
     "name": "stdout",
     "output_type": "stream",
     "text": [
      "Epoch 1/10\n",
      "60000/60000 [==============================] - 2s 41us/step - loss: 0.8231 - acc: 0.7401\n",
      "Epoch 2/10\n",
      "60000/60000 [==============================] - 2s 37us/step - loss: 0.5918 - acc: 0.8079\n",
      "Epoch 3/10\n",
      "60000/60000 [==============================] - 2s 38us/step - loss: 0.5422 - acc: 0.8213\n",
      "Epoch 4/10\n",
      "60000/60000 [==============================] - 2s 38us/step - loss: 0.5153 - acc: 0.8289\n",
      "Epoch 5/10\n",
      "60000/60000 [==============================] - 2s 38us/step - loss: 0.4981 - acc: 0.8339\n",
      "Epoch 6/10\n",
      "60000/60000 [==============================] - 2s 38us/step - loss: 0.4852 - acc: 0.8376\n",
      "Epoch 7/10\n",
      "60000/60000 [==============================] - 2s 38us/step - loss: 0.4757 - acc: 0.8397\n",
      "Epoch 8/10\n",
      "60000/60000 [==============================] - 2s 38us/step - loss: 0.4681 - acc: 0.8421\n",
      "Epoch 9/10\n",
      "60000/60000 [==============================] - 2s 37us/step - loss: 0.4613 - acc: 0.8435\n",
      "Epoch 10/10\n",
      "60000/60000 [==============================] - 2s 37us/step - loss: 0.4562 - acc: 0.8453\n"
     ]
    },
    {
     "data": {
      "text/plain": [
       "<tensorflow.python.keras.callbacks.History at 0x1e3ef00abe0>"
      ]
     },
     "execution_count": 89,
     "metadata": {},
     "output_type": "execute_result"
    }
   ],
   "source": [
    "linear_model.fit(train_images, train_labels, epochs=10)"
   ]
  },
  {
   "cell_type": "code",
   "execution_count": 91,
   "metadata": {},
   "outputs": [
    {
     "name": "stdout",
     "output_type": "stream",
     "text": [
      "10000/10000 [==============================] - 0s 24us/step\n"
     ]
    }
   ],
   "source": [
    "test_loss, test_acc = linear_model.evaluate(test_images, test_labels)"
   ]
  },
  {
   "cell_type": "code",
   "execution_count": 92,
   "metadata": {},
   "outputs": [
    {
     "name": "stdout",
     "output_type": "stream",
     "text": [
      "Test accuracy: 0.835 \n",
      "Test loss: 0.48557708339691164\n"
     ]
    }
   ],
   "source": [
    "print('Test accuracy:', test_acc, '\\nTest loss:', test_loss)"
   ]
  },
  {
   "cell_type": "code",
   "execution_count": 93,
   "metadata": {},
   "outputs": [
    {
     "data": {
      "image/png": "[encoded data removed]",
      "text/plain": [
       "<matplotlib.figure.Figure at 0x1e380b86e48>"
      ]
     },
     "metadata": {},
     "output_type": "display_data"
    }
   ],
   "source": [
    "plt.figure(figsize=(10,10))\n",
    "for i in range(10):\n",
    "    plt.subplot(5,2,i+1)\n",
    "    plt.xticks([])\n",
    "    plt.yticks([])\n",
    "    plt.imshow(linear_model.get_layer(index=1).get_weights()[0][:, i].reshape((28, 28)) * -1, cmap='gray')\n",
    "    plt.xlabel(i)\n",
    "    plt.grid(False)\n",
    "\n",
    "plt.show()"
   ]
  },
  {
   "cell_type": "code",
   "execution_count": 105,
   "metadata": {},
   "outputs": [
    {
     "ename": "SyntaxError",
     "evalue": "invalid syntax (<ipython-input-105-848835f33e6a>, line 1)",
     "output_type": "error",
     "traceback": [
      "\u001b[1;36m  File \u001b[1;32m\"<ipython-input-105-848835f33e6a>\"\u001b[1;36m, line \u001b[1;32m1\u001b[0m\n\u001b[1;33m    from tensorflow import train|\u001b[0m\n\u001b[1;37m                                ^\u001b[0m\n\u001b[1;31mSyntaxError\u001b[0m\u001b[1;31m:\u001b[0m invalid syntax\n"
     ]
    }
   ],
   "source": [
    "from tensorflow import train"
   ]
  },
  {
   "cell_type": "markdown",
   "metadata": {},
   "source": [
    "Пробую многослойную сеть"
   ]
  },
  {
   "cell_type": "code",
   "execution_count": 106,
   "metadata": {
    "collapsed": true
   },
   "outputs": [],
   "source": [
    "linear_model = keras.Sequential()\n",
    "\n",
    "linear_model.add(keras.layers.Flatten(input_shape=(28, 28)))\n",
    "linear_model.add(keras.layers.Dense(128, activation=tf.nn.relu))\n",
    "linear_model.add(keras.layers.Dense(10, activation=tf.nn.softmax))"
   ]
  },
  {
   "cell_type": "code",
   "execution_count": 107,
   "metadata": {},
   "outputs": [],
   "source": [
    "linear_model.compile(optimizer=train.AdamOptimizer(), \n",
    "                     loss='sparse_categorical_crossentropy',\n",
    "                     metrics=['accuracy'])"
   ]
  },
  {
   "cell_type": "code",
   "execution_count": 108,
   "metadata": {},
   "outputs": [
    {
     "data": {
      "text/plain": [
       "<tensorflow.python.keras.callbacks.History at 0x1e38087d518>"
      ]
     },
     "execution_count": 108,
     "metadata": {},
     "output_type": "execute_result"
    }
   ],
   "source": [
    "linear_model.fit(train_images, train_labels, epochs=10, verbose=0)"
   ]
  },
  {
   "cell_type": "code",
   "execution_count": 109,
   "metadata": {},
   "outputs": [
    {
     "name": "stdout",
     "output_type": "stream",
     "text": [
      "10000/10000 [==============================] - 0s 41us/step\n",
      "Test accuracy: 0.8838 \n",
      "Test loss: 0.3248329364061356\n"
     ]
    }
   ],
   "source": [
    "test_loss, test_acc = linear_model.evaluate(test_images, test_labels)\n",
    "print('Test accuracy:', test_acc, '\\nTest loss:', test_loss)"
   ]
  },
  {
   "cell_type": "markdown",
   "metadata": {},
   "source": [
    "## Параметры нейросети"
   ]
  },
  {
   "cell_type": "markdown",
   "metadata": {},
   "source": [
    "Способы инициализации весов: в [keras](https://keras.io/initializers/)"
   ]
  },
  {
   "cell_type": "code",
   "execution_count": 34,
   "metadata": {
    "collapsed": true
   },
   "outputs": [],
   "source": [
    "from tensorflow import keras\n",
    "from tensorflow.keras.models import Sequential\n",
    "from tensorflow.keras.layers import Dense, Flatten\n",
    "from tensorflow.keras.optimizers import SGD"
   ]
  },
  {
   "cell_type": "code",
   "execution_count": 35,
   "metadata": {
    "collapsed": true
   },
   "outputs": [],
   "source": [
    "ann_model = Sequential(\n",
    "    [\n",
    "        Flatten(input_shape=(28, 28)),  # перевод данных в вектор размерности 28*28=784 (построчно)\n",
    "        Dense(100, activation='relu', \n",
    "              kernel_initializer='glorot_uniform', bias_initializer='zeros'),  # скрытый слой из 100 нейронов\n",
    "        Dense(50, activation='relu', \n",
    "              kernel_initializer='glorot_uniform', bias_initializer='zeros'),   # скрытый слой из 50 нейронов\n",
    "        Dense(10, activation='softmax', \n",
    "              kernel_initializer='glorot_uniform', bias_initializer='zeros') # выходной слой из 10 нейронов по числу классов\n",
    "    ]\n",
    ")"
   ]
  },
  {
   "cell_type": "code",
   "execution_count": 36,
   "metadata": {
    "collapsed": true
   },
   "outputs": [],
   "source": [
    "ann_model.compile(optimizer=SGD(lr=0.01), \n",
    "                  loss='sparse_categorical_crossentropy',\n",
    "                  metrics=['accuracy'])"
   ]
  },
  {
   "cell_type": "code",
   "execution_count": 38,
   "metadata": {},
   "outputs": [
    {
     "name": "stdout",
     "output_type": "stream",
     "text": [
      "10000/10000 [==============================] - 0s 25us/step\n",
      "Wall time: 3min 45s\n"
     ]
    }
   ],
   "source": [
    "%%time\n",
    "ann_model.fit(train_images, train_labels, epochs=100, verbose=0)"
   ]
  },
  {
   "cell_type": "code",
   "execution_count": 40,
   "metadata": {},
   "outputs": [
    {
     "name": "stdout",
     "output_type": "stream",
     "text": [
      "10000/10000 [==============================] - 0s 21us/step\n",
      "Test accuracy: 0.9772 \n",
      "Test loss: 0.09014754519591298\n"
     ]
    }
   ],
   "source": [
    "test_loss, test_acc = ann_model.evaluate(test_images, test_labels)\n",
    "print('Test accuracy:', test_acc, '\\nTest loss:', test_loss)"
   ]
  },
  {
   "cell_type": "markdown",
   "metadata": {},
   "source": [
    "<br>\n",
    "<br>\n",
    "Инициализируем нулями и посмотрим на результат:"
   ]
  },
  {
   "cell_type": "code",
   "execution_count": 47,
   "metadata": {
    "collapsed": true
   },
   "outputs": [],
   "source": [
    "ann_model = Sequential(\n",
    "    [\n",
    "        Flatten(input_shape=(28, 28)),  # перевод данных в вектор размерности 28*28=784 (построчно)\n",
    "        Dense(100, activation='relu', \n",
    "              kernel_initializer='zeros', bias_initializer='zeros'),  # скрытый слой из 100 нейронов\n",
    "        Dense(50, activation='relu', \n",
    "              kernel_initializer='zeros', bias_initializer='zeros'),   # скрытый слой из 50 нейронов\n",
    "        Dense(10, activation='softmax', \n",
    "              kernel_initializer='zeros', bias_initializer='zeros') # выходной слой из 10 нейронов по числу классов\n",
    "    ]\n",
    ")\n",
    "\n",
    "ann_model.compile(optimizer=SGD(lr=0.01), \n",
    "                  loss='sparse_categorical_crossentropy',\n",
    "                  metrics=['accuracy'])"
   ]
  },
  {
   "cell_type": "code",
   "execution_count": 48,
   "metadata": {},
   "outputs": [
    {
     "name": "stdout",
     "output_type": "stream",
     "text": [
      "10000/10000 [==============================] - 0s 25us/step\n",
      "Test accuracy: 0.1135 \n",
      "Test loss: 2.301069207763672\n",
      "Wall time: 3min 50s\n"
     ]
    }
   ],
   "source": [
    "%%time\n",
    "ann_model.fit(train_images, train_labels, epochs=100, verbose=0)\n",
    "\n",
    "test_loss, test_acc = ann_model.evaluate(test_images, test_labels)\n",
    "print('Test accuracy:', test_acc, '\\nTest loss:', test_loss)"
   ]
  },
  {
   "cell_type": "markdown",
   "metadata": {},
   "source": [
    "### Batch"
   ]
  },
  {
   "cell_type": "code",
   "execution_count": 62,
   "metadata": {
    "collapsed": true
   },
   "outputs": [],
   "source": [
    "ann_model = Sequential(\n",
    "    [\n",
    "        Flatten(input_shape=(28, 28)),  # перевод данных в вектор размерности 28*28=784 (построчно)\n",
    "        Dense(100, activation='relu'),  # скрытый слой из 100 нейронов\n",
    "        Dense(50, activation='relu'),   # скрытый слой из 50 нейронов\n",
    "        Dense(10, activation='softmax') # выходной слой из 10 нейронов по числу классов\n",
    "    ]\n",
    ")\n",
    "\n",
    "ann_model.compile(optimizer=SGD(lr=0.01), \n",
    "                  loss='sparse_categorical_crossentropy',\n",
    "                  metrics=['accuracy'])"
   ]
  },
  {
   "cell_type": "code",
   "execution_count": 64,
   "metadata": {},
   "outputs": [
    {
     "name": "stdout",
     "output_type": "stream",
     "text": [
      "10000/10000 [==============================] - 0s 23us/step\n",
      "\n",
      "Test accuracy: 0.9734 \n",
      "Test loss: 0.08487982233446091 \n",
      "\n",
      "Wall time: 2min 17s\n"
     ]
    }
   ],
   "source": [
    "%%time\n",
    "ann_model.fit(train_images, train_labels, epochs=200, verbose=0, batch_size=512)\n",
    "\n",
    "test_loss, test_acc = ann_model.evaluate(test_images, test_labels)\n",
    "print('\\nTest accuracy:', test_acc, '\\nTest loss:', test_loss, '\\n')"
   ]
  },
  {
   "cell_type": "code",
   "execution_count": 70,
   "metadata": {
    "collapsed": true
   },
   "outputs": [],
   "source": [
    "from tensorflow.keras.layers import BatchNormalization, Activation"
   ]
  },
  {
   "cell_type": "code",
   "execution_count": 71,
   "metadata": {
    "collapsed": true
   },
   "outputs": [],
   "source": [
    "ann_model = Sequential(\n",
    "    [\n",
    "        Flatten(input_shape=(28, 28)),  # перевод данных в вектор размерности 28*28=784 (построчно)\n",
    "        Dense(100),  # скрытый слой из 100 нейронов\n",
    "        BatchNormalization(),\n",
    "        Activation('relu'),\n",
    "        Dense(50),   # скрытый слой из 50 нейронов\n",
    "        BatchNormalization(),\n",
    "        Activation('relu'),\n",
    "        Dense(10, activation='softmax') # выходной слой из 10 нейронов по числу классов\n",
    "    ]\n",
    ")\n",
    "\n",
    "ann_model.compile(optimizer=SGD(lr=0.01), \n",
    "                  loss='sparse_categorical_crossentropy',\n",
    "                  metrics=['accuracy'])"
   ]
  },
  {
   "cell_type": "code",
   "execution_count": 72,
   "metadata": {},
   "outputs": [
    {
     "name": "stdout",
     "output_type": "stream",
     "text": [
      "10000/10000 [==============================] - 0s 40us/step\n",
      "\n",
      "Test accuracy: 0.9745 \n",
      "Test loss: 0.08510605235304683 \n",
      "\n",
      "Wall time: 2min 54s\n"
     ]
    }
   ],
   "source": [
    "%%time\n",
    "ann_model.fit(train_images, train_labels, epochs=200, verbose=0, batch_size=512)\n",
    "\n",
    "test_loss, test_acc = ann_model.evaluate(test_images, test_labels)\n",
    "print('\\nTest accuracy:', test_acc, '\\nTest loss:', test_loss, '\\n')"
   ]
  }
 ],
 "metadata": {
  "anaconda-cloud": {},
  "kernelspec": {
   "display_name": "Python 3",
   "language": "python",
   "name": "python3"
  },
  "language_info": {
   "codemirror_mode": {
    "name": "ipython",
    "version": 3
   },
   "file_extension": ".py",
   "mimetype": "text/x-python",
   "name": "python",
   "nbconvert_exporter": "python",
   "pygments_lexer": "ipython3",
   "version": "3.6.3"
  }
 },
 "nbformat": 4,
 "nbformat_minor": 1
}
