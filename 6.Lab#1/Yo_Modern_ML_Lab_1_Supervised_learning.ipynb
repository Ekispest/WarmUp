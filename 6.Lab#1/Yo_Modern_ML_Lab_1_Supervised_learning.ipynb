{
  "nbformat": 4,
  "nbformat_minor": 0,
  "metadata": {
    "colab": {
      "name": "Yo_Modern_ML_Lab_1_Supervised_learning.ipynb",
      "version": "0.3.2",
      "provenance": []
    },
    "kernelspec": {
      "display_name": "Python 3",
      "language": "python",
      "name": "python3"
    }
  },
  "cells": [
    {
      "metadata": {
        "id": "TC-mRhKap8QA",
        "colab_type": "text"
      },
      "cell_type": "markdown",
      "source": [
        "# <center> Майнор \"Интеллектуальный анализ данных\" <center>"
      ]
    },
    {
      "metadata": {
        "id": "K4lUSGQkp8QE",
        "colab_type": "text"
      },
      "cell_type": "markdown",
      "source": [
        "# <center> Курс \"Современные методы машинного обучения\" <center>"
      ]
    },
    {
      "metadata": {
        "id": "crKpX73lp8QG",
        "colab_type": "text"
      },
      "cell_type": "markdown",
      "source": [
        "# <center> Лабораторная работа №1. Supervised learning <center>"
      ]
    },
    {
      "metadata": {
        "id": "BpI9OgF0p8QH",
        "colab_type": "text"
      },
      "cell_type": "markdown",
      "source": [
        "## Table of contents  \n",
        "  \n",
        "* [Часть 1. Работа с данными](#part1)\n",
        "* [Часть 2. Методы машинного обучения](#part2)\n",
        "* [Часть 3. Соревнование по машинному обучению](#part3)"
      ]
    },
    {
      "metadata": {
        "id": "mL9Al7Xgp8QI",
        "colab_type": "text"
      },
      "cell_type": "markdown",
      "source": [
        "## Часть 1. Работа с данными <a id=\"part1\"></a>"
      ]
    },
    {
      "metadata": {
        "id": "NPpD1alqp8QK",
        "colab_type": "text"
      },
      "cell_type": "markdown",
      "source": [
        "В данной части лабораторной вам предстоит работать с данными по оттоку клиентов одной телекомуникационной компании. Оригинал данных доступен [здесь](https://bigml.com/user/francisco/gallery/dataset/5163ad540c0b5e5b22000383). Для лабораторной работы данные были модифицированы."
      ]
    },
    {
      "metadata": {
        "id": "YKaNV8-4p8QL",
        "colab_type": "text"
      },
      "cell_type": "markdown",
      "source": [
        "Данные находятся в файле `telecom_churn_mod.csv`"
      ]
    },
    {
      "metadata": {
        "id": "8iGw7Tugp8QN",
        "colab_type": "text"
      },
      "cell_type": "markdown",
      "source": [
        "**Описание данных:**"
      ]
    },
    {
      "metadata": {
        "id": "unNciOJ1p8QO",
        "colab_type": "code",
        "colab": {}
      },
      "cell_type": "code",
      "source": [
        "import numpy as np\n",
        "import pandas as pd\n",
        "\n",
        "# будем отображать графики прямо в jupyter'e\n",
        "%matplotlib inline\n",
        "import matplotlib.pyplot as plt\n",
        "import seaborn as sns\n",
        "\n",
        "# стиль seaborn\n",
        "# style.available выводит все доступные стили\n",
        "#from matplotlib import style\n",
        "#style.use('seaborn')\n",
        "\n",
        "#графики в svg выглядят более четкими\n",
        "%config InlineBackend.figure_format = 'svg' \n",
        "\n",
        "# отключим предупреждения Anaconda\n",
        "import warnings\n",
        "warnings.simplefilter('ignore')"
      ],
      "execution_count": 0,
      "outputs": []
    },
    {
      "metadata": {
        "id": "CxAppcSGp8QU",
        "colab_type": "code",
        "colab": {}
      },
      "cell_type": "code",
      "source": [
        "pd.set_option('display.max_columns', 25)\n",
        "pd.set_option('display.max_colwidth', -1)"
      ],
      "execution_count": 0,
      "outputs": []
    },
    {
      "metadata": {
        "scrolled": false,
        "id": "cyk54CWFp8QZ",
        "colab_type": "code",
        "colab": {},
        "outputId": "794452e7-ffca-4829-d87a-62c9cda8229c"
      },
      "cell_type": "code",
      "source": [
        "pd.read_csv('telecom_churn_description.csv')"
      ],
      "execution_count": 0,
      "outputs": [
        {
          "output_type": "execute_result",
          "data": {
            "text/html": [
              "<div>\n",
              "<style scoped>\n",
              "    .dataframe tbody tr th:only-of-type {\n",
              "        vertical-align: middle;\n",
              "    }\n",
              "\n",
              "    .dataframe tbody tr th {\n",
              "        vertical-align: top;\n",
              "    }\n",
              "\n",
              "    .dataframe thead th {\n",
              "        text-align: right;\n",
              "    }\n",
              "</style>\n",
              "<table border=\"1\" class=\"dataframe\">\n",
              "  <thead>\n",
              "    <tr style=\"text-align: right;\">\n",
              "      <th></th>\n",
              "      <th>Признак</th>\n",
              "      <th>Описание</th>\n",
              "      <th>Тип</th>\n",
              "    </tr>\n",
              "  </thead>\n",
              "  <tbody>\n",
              "    <tr>\n",
              "      <th>0</th>\n",
              "      <td>ID</td>\n",
              "      <td>Уникальный идентификатор объекта</td>\n",
              "      <td>Числовой (integer)</td>\n",
              "    </tr>\n",
              "    <tr>\n",
              "      <th>1</th>\n",
              "      <td>Sex</td>\n",
              "      <td>Пол</td>\n",
              "      <td>Символьный</td>\n",
              "    </tr>\n",
              "    <tr>\n",
              "      <th>2</th>\n",
              "      <td>Age</td>\n",
              "      <td>Возраст</td>\n",
              "      <td>Числовой (integer)</td>\n",
              "    </tr>\n",
              "    <tr>\n",
              "      <th>3</th>\n",
              "      <td>State</td>\n",
              "      <td>Буквенный код штата</td>\n",
              "      <td>Символьный</td>\n",
              "    </tr>\n",
              "    <tr>\n",
              "      <th>4</th>\n",
              "      <td>Account length</td>\n",
              "      <td>Как долго клиент обслуживается компанией</td>\n",
              "      <td>Числовой (integer)</td>\n",
              "    </tr>\n",
              "    <tr>\n",
              "      <th>5</th>\n",
              "      <td>Phone number</td>\n",
              "      <td>Номер телефона клиента</td>\n",
              "      <td>Символьный</td>\n",
              "    </tr>\n",
              "    <tr>\n",
              "      <th>6</th>\n",
              "      <td>Plans</td>\n",
              "      <td>Подключенные планы</td>\n",
              "      <td>Символьный (None; International/Voice mail or both)</td>\n",
              "    </tr>\n",
              "    <tr>\n",
              "      <th>7</th>\n",
              "      <td>Number vmail messages</td>\n",
              "      <td>Количество голосовых сообщений</td>\n",
              "      <td>Числовой (integer)</td>\n",
              "    </tr>\n",
              "    <tr>\n",
              "      <th>8</th>\n",
              "      <td>Total day minutes</td>\n",
              "      <td>Общая длительность разговоров днем</td>\n",
              "      <td>Числовой (float)</td>\n",
              "    </tr>\n",
              "    <tr>\n",
              "      <th>9</th>\n",
              "      <td>Total day calls</td>\n",
              "      <td>Общее количество звонков днем</td>\n",
              "      <td>Числовой (float)</td>\n",
              "    </tr>\n",
              "    <tr>\n",
              "      <th>10</th>\n",
              "      <td>Total day charge</td>\n",
              "      <td>Общая сумма оплаты за услуги днем</td>\n",
              "      <td>Числовой (float)</td>\n",
              "    </tr>\n",
              "    <tr>\n",
              "      <th>11</th>\n",
              "      <td>Total eve minutes</td>\n",
              "      <td>Общая длительность разговоров вечером</td>\n",
              "      <td>Числовой (float)</td>\n",
              "    </tr>\n",
              "    <tr>\n",
              "      <th>12</th>\n",
              "      <td>Total eve calls</td>\n",
              "      <td>Общее количество звонков вечером</td>\n",
              "      <td>Числовой (float)</td>\n",
              "    </tr>\n",
              "    <tr>\n",
              "      <th>13</th>\n",
              "      <td>Total eve charge</td>\n",
              "      <td>Общая сумма оплаты за услуги вечером</td>\n",
              "      <td>Числовой (float)</td>\n",
              "    </tr>\n",
              "    <tr>\n",
              "      <th>14</th>\n",
              "      <td>Total night minutes</td>\n",
              "      <td>Общая длительность разговоров ночью</td>\n",
              "      <td>Числовой (float)</td>\n",
              "    </tr>\n",
              "    <tr>\n",
              "      <th>15</th>\n",
              "      <td>Total night calls</td>\n",
              "      <td>Общее количество звонков ночью</td>\n",
              "      <td>Числовой (float)</td>\n",
              "    </tr>\n",
              "    <tr>\n",
              "      <th>16</th>\n",
              "      <td>Total night charge</td>\n",
              "      <td>Общая сумма оплаты за услуги ночью</td>\n",
              "      <td>Числовой (float)</td>\n",
              "    </tr>\n",
              "    <tr>\n",
              "      <th>17</th>\n",
              "      <td>Total intl minutes</td>\n",
              "      <td>Общая длительность международных разговоров</td>\n",
              "      <td>Числовой (float)</td>\n",
              "    </tr>\n",
              "    <tr>\n",
              "      <th>18</th>\n",
              "      <td>Total intl calls</td>\n",
              "      <td>Общее количество международных разговоров</td>\n",
              "      <td>Числовой (float)</td>\n",
              "    </tr>\n",
              "    <tr>\n",
              "      <th>19</th>\n",
              "      <td>Total intl charge</td>\n",
              "      <td>Общая сумма оплаты за международные разговор</td>\n",
              "      <td>Числовой (float)</td>\n",
              "    </tr>\n",
              "    <tr>\n",
              "      <th>20</th>\n",
              "      <td>Total charge</td>\n",
              "      <td>Общая сумма оплаты за услуги</td>\n",
              "      <td>Числовой (float)</td>\n",
              "    </tr>\n",
              "    <tr>\n",
              "      <th>21</th>\n",
              "      <td>Customer service calls</td>\n",
              "      <td>Число обращений в сервисный центр</td>\n",
              "      <td>Числовой (integer)</td>\n",
              "    </tr>\n",
              "    <tr>\n",
              "      <th>22</th>\n",
              "      <td>Churn</td>\n",
              "      <td>Отток клиента (остался или ушел)</td>\n",
              "      <td>Логический (True - ушел; False - остался)</td>\n",
              "    </tr>\n",
              "  </tbody>\n",
              "</table>\n",
              "</div>"
            ],
            "text/plain": [
              "                   Признак                                      Описание  \\\n",
              "0   ID                      Уникальный идентификатор объекта               \n",
              "1   Sex                     Пол                                            \n",
              "2   Age                     Возраст                                        \n",
              "3   State                   Буквенный код штата                            \n",
              "4   Account length          Как долго клиент обслуживается компанией       \n",
              "5   Phone number            Номер телефона клиента                         \n",
              "6   Plans                   Подключенные планы                             \n",
              "7   Number vmail messages   Количество голосовых сообщений                 \n",
              "8   Total day minutes       Общая длительность разговоров днем             \n",
              "9   Total day calls         Общее количество звонков днем                  \n",
              "10  Total day charge        Общая сумма оплаты за услуги днем              \n",
              "11  Total eve minutes       Общая длительность разговоров вечером          \n",
              "12  Total eve calls         Общее количество звонков вечером               \n",
              "13  Total eve charge        Общая сумма оплаты за услуги вечером           \n",
              "14  Total night minutes     Общая длительность разговоров ночью            \n",
              "15  Total night calls       Общее количество звонков ночью                 \n",
              "16  Total night charge      Общая сумма оплаты за услуги ночью             \n",
              "17  Total intl minutes      Общая длительность международных разговоров    \n",
              "18  Total intl calls        Общее количество международных разговоров      \n",
              "19  Total intl charge       Общая сумма оплаты за международные разговор   \n",
              "20  Total charge            Общая сумма оплаты за услуги                   \n",
              "21  Customer service calls  Число обращений в сервисный центр              \n",
              "22  Churn                   Отток клиента (остался или ушел)               \n",
              "\n",
              "                                                    Тип  \n",
              "0   Числовой (integer)                                   \n",
              "1   Символьный                                           \n",
              "2   Числовой (integer)                                   \n",
              "3   Символьный                                           \n",
              "4   Числовой (integer)                                   \n",
              "5   Символьный                                           \n",
              "6   Символьный (None; International/Voice mail or both)  \n",
              "7   Числовой (integer)                                   \n",
              "8    Числовой (float)                                    \n",
              "9   Числовой (float)                                     \n",
              "10  Числовой (float)                                     \n",
              "11  Числовой (float)                                     \n",
              "12  Числовой (float)                                     \n",
              "13  Числовой (float)                                     \n",
              "14  Числовой (float)                                     \n",
              "15  Числовой (float)                                     \n",
              "16  Числовой (float)                                     \n",
              "17  Числовой (float)                                     \n",
              "18  Числовой (float)                                     \n",
              "19  Числовой (float)                                     \n",
              "20  Числовой (float)                                     \n",
              "21   Числовой (integer)                                  \n",
              "22  Логический (True - ушел; False - остался)            "
            ]
          },
          "metadata": {
            "tags": []
          },
          "execution_count": 464
        }
      ]
    },
    {
      "metadata": {
        "id": "SVZon7jZp8Qi",
        "colab_type": "text"
      },
      "cell_type": "markdown",
      "source": [
        "### Задание 1  \n",
        "  \n",
        "Считайте данные из файла. Оцените размерность данных, есть ли в данных пропущенные значения. Посмотрите на автоматически определенные типы признаков."
      ]
    },
    {
      "metadata": {
        "id": "svaL-1Edp8Qj",
        "colab_type": "code",
        "colab": {},
        "outputId": "4d076c74-5c3f-4f33-b07e-fa514552724a"
      },
      "cell_type": "code",
      "source": [
        "data = pd.read_csv('telecom_churn_mod.csv', sep=';')\n",
        "data.head(5)"
      ],
      "execution_count": 0,
      "outputs": [
        {
          "output_type": "execute_result",
          "data": {
            "text/html": [
              "<div>\n",
              "<style scoped>\n",
              "    .dataframe tbody tr th:only-of-type {\n",
              "        vertical-align: middle;\n",
              "    }\n",
              "\n",
              "    .dataframe tbody tr th {\n",
              "        vertical-align: top;\n",
              "    }\n",
              "\n",
              "    .dataframe thead th {\n",
              "        text-align: right;\n",
              "    }\n",
              "</style>\n",
              "<table border=\"1\" class=\"dataframe\">\n",
              "  <thead>\n",
              "    <tr style=\"text-align: right;\">\n",
              "      <th></th>\n",
              "      <th>ID</th>\n",
              "      <th>Sex</th>\n",
              "      <th>Age</th>\n",
              "      <th>State</th>\n",
              "      <th>Account length</th>\n",
              "      <th>Phone number</th>\n",
              "      <th>Plans</th>\n",
              "      <th>Number vmail messages</th>\n",
              "      <th>Total day minutes</th>\n",
              "      <th>Total day calls</th>\n",
              "      <th>Total day charge</th>\n",
              "      <th>Total eve minutes</th>\n",
              "      <th>Total eve calls</th>\n",
              "      <th>Total eve charge</th>\n",
              "      <th>Total night minutes</th>\n",
              "      <th>Total night calls</th>\n",
              "      <th>Total night charge</th>\n",
              "      <th>Total intl minutes</th>\n",
              "      <th>Total intl calls</th>\n",
              "      <th>Total intl charge</th>\n",
              "      <th>Total charge</th>\n",
              "      <th>Customer service calls</th>\n",
              "      <th>Churn</th>\n",
              "    </tr>\n",
              "  </thead>\n",
              "  <tbody>\n",
              "    <tr>\n",
              "      <th>0</th>\n",
              "      <td>40075</td>\n",
              "      <td>Female</td>\n",
              "      <td>37.0</td>\n",
              "      <td>KS</td>\n",
              "      <td>128</td>\n",
              "      <td>415 424 17 55</td>\n",
              "      <td>Voice mail</td>\n",
              "      <td>25</td>\n",
              "      <td>265.1</td>\n",
              "      <td>110.0</td>\n",
              "      <td>45.07</td>\n",
              "      <td>197.4</td>\n",
              "      <td>99.0</td>\n",
              "      <td>16.78</td>\n",
              "      <td>244.7</td>\n",
              "      <td>91.0</td>\n",
              "      <td>11.01</td>\n",
              "      <td>10.0</td>\n",
              "      <td>3.0</td>\n",
              "      <td>2.70</td>\n",
              "      <td>75.56</td>\n",
              "      <td>1</td>\n",
              "      <td>False</td>\n",
              "    </tr>\n",
              "    <tr>\n",
              "      <th>1</th>\n",
              "      <td>17475</td>\n",
              "      <td>Female</td>\n",
              "      <td>NaN</td>\n",
              "      <td>OH</td>\n",
              "      <td>107</td>\n",
              "      <td>415 759 41 43</td>\n",
              "      <td>Voice mail</td>\n",
              "      <td>26</td>\n",
              "      <td>161.6</td>\n",
              "      <td>123.0</td>\n",
              "      <td>27.47</td>\n",
              "      <td>195.5</td>\n",
              "      <td>103.0</td>\n",
              "      <td>16.62</td>\n",
              "      <td>254.4</td>\n",
              "      <td>103.0</td>\n",
              "      <td>11.45</td>\n",
              "      <td>13.7</td>\n",
              "      <td>3.0</td>\n",
              "      <td>3.70</td>\n",
              "      <td>59.24</td>\n",
              "      <td>1</td>\n",
              "      <td>False</td>\n",
              "    </tr>\n",
              "    <tr>\n",
              "      <th>2</th>\n",
              "      <td>62242</td>\n",
              "      <td>Female</td>\n",
              "      <td>19.0</td>\n",
              "      <td>NJ</td>\n",
              "      <td>137</td>\n",
              "      <td>415 213 11 40</td>\n",
              "      <td>None</td>\n",
              "      <td>0</td>\n",
              "      <td>243.4</td>\n",
              "      <td>114.0</td>\n",
              "      <td>41.38</td>\n",
              "      <td>121.2</td>\n",
              "      <td>110.0</td>\n",
              "      <td>10.30</td>\n",
              "      <td>l62.6</td>\n",
              "      <td>104.0</td>\n",
              "      <td>7.32</td>\n",
              "      <td>12.2</td>\n",
              "      <td>5.0</td>\n",
              "      <td>3.29</td>\n",
              "      <td>62.29</td>\n",
              "      <td>0</td>\n",
              "      <td>False</td>\n",
              "    </tr>\n",
              "    <tr>\n",
              "      <th>3</th>\n",
              "      <td>81231</td>\n",
              "      <td>Female</td>\n",
              "      <td>31.0</td>\n",
              "      <td>OH</td>\n",
              "      <td>84</td>\n",
              "      <td>408 487 53 35</td>\n",
              "      <td>International</td>\n",
              "      <td>0</td>\n",
              "      <td>299.4</td>\n",
              "      <td>71.0</td>\n",
              "      <td>50.90</td>\n",
              "      <td>61.9</td>\n",
              "      <td>88.0</td>\n",
              "      <td>5.26</td>\n",
              "      <td>196.9</td>\n",
              "      <td>89.0</td>\n",
              "      <td>8.86</td>\n",
              "      <td>6.6</td>\n",
              "      <td>7.0</td>\n",
              "      <td>1.78</td>\n",
              "      <td>66.8</td>\n",
              "      <td>2</td>\n",
              "      <td>False</td>\n",
              "    </tr>\n",
              "    <tr>\n",
              "      <th>4</th>\n",
              "      <td>78542</td>\n",
              "      <td>Female</td>\n",
              "      <td>30.0</td>\n",
              "      <td>OK</td>\n",
              "      <td>75</td>\n",
              "      <td>415 509 25 27</td>\n",
              "      <td>International</td>\n",
              "      <td>0</td>\n",
              "      <td>166.7</td>\n",
              "      <td>113.0</td>\n",
              "      <td>28.34</td>\n",
              "      <td>148.3</td>\n",
              "      <td>122.0</td>\n",
              "      <td>12.61</td>\n",
              "      <td>186.9</td>\n",
              "      <td>121.0</td>\n",
              "      <td>8.41</td>\n",
              "      <td>10.1</td>\n",
              "      <td>3.0</td>\n",
              "      <td>2.73</td>\n",
              "      <td>52.09</td>\n",
              "      <td>3</td>\n",
              "      <td>False</td>\n",
              "    </tr>\n",
              "  </tbody>\n",
              "</table>\n",
              "</div>"
            ],
            "text/plain": [
              "      ID     Sex   Age State  Account length   Phone number          Plans  \\\n",
              "0  40075  Female  37.0  KS    128             415 424 17 55  Voice mail      \n",
              "1  17475  Female NaN    OH    107             415 759 41 43  Voice mail      \n",
              "2  62242  Female  19.0  NJ    137             415 213 11 40  None            \n",
              "3  81231  Female  31.0  OH    84              408 487 53 35  International   \n",
              "4  78542  Female  30.0  OK    75              415 509 25 27  International   \n",
              "\n",
              "   Number vmail messages Total day minutes Total day calls  Total day charge  \\\n",
              "0  25                     265.1             110.0           45.07              \n",
              "1  26                     161.6             123.0           27.47              \n",
              "2  0                      243.4             114.0           41.38              \n",
              "3  0                      299.4             71.0            50.90              \n",
              "4  0                      166.7             113.0           28.34              \n",
              "\n",
              "   Total eve minutes  Total eve calls  Total eve charge Total night minutes  \\\n",
              "0  197.4              99.0             16.78             244.7                \n",
              "1  195.5              103.0            16.62             254.4                \n",
              "2  121.2              110.0            10.30             l62.6                \n",
              "3  61.9               88.0             5.26              196.9                \n",
              "4  148.3              122.0            12.61             186.9                \n",
              "\n",
              "   Total night calls  Total night charge Total intl minutes  Total intl calls  \\\n",
              "0  91.0               11.01               10.0               3.0                \n",
              "1  103.0              11.45               13.7               3.0                \n",
              "2  104.0              7.32                12.2               5.0                \n",
              "3  89.0               8.86                6.6                7.0                \n",
              "4  121.0              8.41                10.1               3.0                \n",
              "\n",
              "   Total intl charge Total charge Customer service calls  Churn  \n",
              "0  2.70               75.56        1                      False  \n",
              "1  3.70               59.24        1                      False  \n",
              "2  3.29               62.29        0                      False  \n",
              "3  1.78               66.8         2                      False  \n",
              "4  2.73               52.09        3                      False  "
            ]
          },
          "metadata": {
            "tags": []
          },
          "execution_count": 465
        }
      ]
    },
    {
      "metadata": {
        "id": "qSjmq88xp8Qp",
        "colab_type": "code",
        "colab": {},
        "outputId": "61f8da51-aea0-4323-bc49-d2b1ab605744"
      },
      "cell_type": "code",
      "source": [
        "print('Размерность данных: ', data.shape)"
      ],
      "execution_count": 0,
      "outputs": [
        {
          "output_type": "stream",
          "text": [
            "Размерность данных:  (3333, 23)\n"
          ],
          "name": "stdout"
        }
      ]
    },
    {
      "metadata": {
        "id": "4ZudsOzbp8Qu",
        "colab_type": "code",
        "colab": {},
        "outputId": "5e2f1283-7f6f-4acc-936f-60cd40853b8a"
      },
      "cell_type": "code",
      "source": [
        "data.info()"
      ],
      "execution_count": 0,
      "outputs": [
        {
          "output_type": "stream",
          "text": [
            "<class 'pandas.core.frame.DataFrame'>\n",
            "RangeIndex: 3333 entries, 0 to 3332\n",
            "Data columns (total 23 columns):\n",
            "ID                        3333 non-null int64\n",
            "Sex                       3333 non-null object\n",
            "Age                       2333 non-null float64\n",
            "State                     3333 non-null object\n",
            "Account length            3333 non-null int64\n",
            "Phone number              3333 non-null object\n",
            "Plans                     3233 non-null object\n",
            "Number vmail messages     3333 non-null int64\n",
            "Total day minutes         3333 non-null object\n",
            "Total day calls           3333 non-null object\n",
            "Total day charge          3333 non-null float64\n",
            "Total eve minutes         3333 non-null float64\n",
            "Total eve calls           3333 non-null float64\n",
            "Total eve charge          3333 non-null float64\n",
            "Total night minutes       3333 non-null object\n",
            "Total night calls         3333 non-null float64\n",
            "Total night charge        3333 non-null float64\n",
            "Total intl minutes        3333 non-null object\n",
            "Total intl calls          3333 non-null float64\n",
            "Total intl charge         3333 non-null float64\n",
            "Total charge              3333 non-null object\n",
            "Customer service calls    3333 non-null object\n",
            "Churn                     3333 non-null bool\n",
            "dtypes: bool(1), float64(9), int64(3), object(10)\n",
            "memory usage: 576.2+ KB\n"
          ],
          "name": "stdout"
        }
      ]
    },
    {
      "metadata": {
        "id": "Z5LPje69p8Q0",
        "colab_type": "text"
      },
      "cell_type": "markdown",
      "source": [
        "Пропущенные значения есть в признаках Age (1000 значений) и Plans (100 значений)."
      ]
    },
    {
      "metadata": {
        "id": "dByGrQqbp8Q1",
        "colab_type": "text"
      },
      "cell_type": "markdown",
      "source": [
        "Автоматически определенные признаки bool (1 - Churn), float64 (9 - Age, Total day charge, Total eve minutes, Total eve calls, Total eve charge, Total night calls, Total night charge, Total intl calls, Total intl charge), int64 (3 - ID, Account length, Number vmail messages), object (10 - Sex, State, Phone number, Plans, Total day minutes, Total day calls, Total night minutes, Total intl minutes, Total charge, Customer service calls)."
      ]
    },
    {
      "metadata": {
        "id": "ktoqxSIdp8Q3",
        "colab_type": "text"
      },
      "cell_type": "markdown",
      "source": [
        "### Задание 2  \n",
        "  \n",
        "Приведите числовые признаки, которые были распознаны некорректно, к числовому типу данных.  \n",
        "Найдите и опишите ошибки в данных, которые мешают приведению типов. Сколько признаков содержат ошибки, сколько наблюдений по каждому такому признаку? Исправьте эти ошибки и снова выполните приведение типов.  \n",
        "**NB:** Исправлять ошибки необходимо программно (используя python), изменять исходный файл \"руками\" не разрешается. "
      ]
    },
    {
      "metadata": {
        "id": "-hUuz3Xbp8Q3",
        "colab_type": "text"
      },
      "cell_type": "markdown",
      "source": [
        "Основные ошибки возникли из-за того, что вместо точки, нуля и единицы стоят запятая, буква О и L. Также в признаке Total charge есть названия месяцев и слово hundred вместо его числового значения.\n",
        "Ошибки содержат признаки: Total day minutes, Total day calls, Total night minutes, Total intl minutes, Total charge и Customer service calls."
      ]
    },
    {
      "metadata": {
        "collapsed": true,
        "id": "6HT5ysZep8Q5",
        "colab_type": "code",
        "colab": {}
      },
      "cell_type": "code",
      "source": [
        "error_total_day_minutes = [] \n",
        "error_total_day_calls = [] \n",
        "error_total_night_minutes = [] \n",
        "error_total_intl_minutes = [] \n",
        "error_total_charge = [] \n",
        "error_customer_service_calls = []"
      ],
      "execution_count": 0,
      "outputs": []
    },
    {
      "metadata": {
        "collapsed": true,
        "id": "cy0umm0Pp8Q9",
        "colab_type": "code",
        "colab": {}
      },
      "cell_type": "code",
      "source": [
        "for i in range(len(data)): \n",
        "    try: float (data['Total day minutes'][i]) \n",
        "    except ValueError: error_total_day_minutes.append(data['Total day minutes'][i])\n",
        "        \n",
        "    try: float (data['Total day calls'][i]) \n",
        "    except ValueError: error_total_day_calls.append(data['Total day calls'][i])\n",
        "        \n",
        "    try: float (data['Total night minutes'][i]) \n",
        "    except ValueError: error_total_night_minutes.append(data['Total night minutes'][i])\n",
        "        \n",
        "    try: float (data['Total intl minutes'][i]) \n",
        "    except ValueError: error_total_intl_minutes.append(data['Total intl minutes'][i])\n",
        "        \n",
        "    try: float (data['Total charge'][i]) \n",
        "    except ValueError: error_total_charge.append(data['Total charge'][i])\n",
        "        \n",
        "    try: int (data['Customer service calls'][i]) \n",
        "    except ValueError: error_customer_service_calls.append(data['Customer service calls'][i])"
      ],
      "execution_count": 0,
      "outputs": []
    },
    {
      "metadata": {
        "id": "Ie4XrFppp8RB",
        "colab_type": "code",
        "colab": {},
        "outputId": "761ab6e6-760e-45a1-aa6f-f26446ff8bc0"
      },
      "cell_type": "code",
      "source": [
        "print('Количество ошибок:\\nTotal day minutes ', len(error_total_day_minutes),\n",
        "     '\\nTotal day calls ', len(error_total_day_calls),\n",
        "     '\\nTotal night minutes ', len(error_total_night_minutes),\n",
        "     '\\nTotal intl charge ', len(error_total_intl_minutes),\n",
        "     '\\nTotal charge ', len(error_total_charge),\n",
        "     '\\nCustomer service calls', len(error_customer_service_calls))"
      ],
      "execution_count": 0,
      "outputs": [
        {
          "output_type": "stream",
          "text": [
            "Количество ошибок:\n",
            "Total day minutes  50 \n",
            "Total day calls  4 \n",
            "Total night minutes  10 \n",
            "Total intl charge  32 \n",
            "Total charge  15 \n",
            "Customer service calls 6\n"
          ],
          "name": "stdout"
        }
      ]
    },
    {
      "metadata": {
        "id": "eWY1wseyp8RI",
        "colab_type": "text"
      },
      "cell_type": "markdown",
      "source": [
        "Чтобы исправить ошибку в признаке Total charge удалим слово hundred после пробела числа и умножим это число на 100. \n",
        "Затем переведем этот признак в тип float."
      ]
    },
    {
      "metadata": {
        "collapsed": true,
        "id": "-s2YozSFp8RI",
        "colab_type": "code",
        "colab": {}
      },
      "cell_type": "code",
      "source": [
        "for i in range(len(data['Total charge'])):\n",
        "    try: float(data['Total charge'][i])\n",
        "    except ValueError:\n",
        "        data['Total charge'][i] = float(data['Total charge'][i].split(' ')[0]) * 100"
      ],
      "execution_count": 0,
      "outputs": []
    },
    {
      "metadata": {
        "collapsed": true,
        "id": "01lLzsNyp8RO",
        "colab_type": "code",
        "colab": {}
      },
      "cell_type": "code",
      "source": [
        "data['Total charge'] = data['Total charge'].astype('float64')"
      ],
      "execution_count": 0,
      "outputs": []
    },
    {
      "metadata": {
        "id": "zbiINOc_p8RS",
        "colab_type": "text"
      },
      "cell_type": "markdown",
      "source": [
        "Чтобы исправить ошибки в остальных признаках заменим \"неправильные\" символы (буква О, запятая, буква L) на \"правильные\" (ноль, точка, единица). Приведем к типам данных float и int. "
      ]
    },
    {
      "metadata": {
        "collapsed": true,
        "id": "gQZvMUoip8RX",
        "colab_type": "code",
        "colab": {}
      },
      "cell_type": "code",
      "source": [
        "data['Customer service calls'] = data['Customer service calls'].str.replace('o','0').apply(pd.to_numeric)\n",
        "data['Total intl minutes'] = data['Total intl minutes'].str.replace(',','.').apply(pd.to_numeric)\n",
        "data['Total day minutes'] = data['Total day minutes'].str.replace(',','.')\n",
        "data['Total day calls'] = data['Total day calls'].str.replace('o','0').apply(pd.to_numeric)\n",
        "data['Total night minutes'] = data['Total night minutes'].str.replace('l','1').apply(pd.to_numeric)\n",
        "data['Total day minutes'] = data['Total day minutes'].str.replace('o','0').apply(pd.to_numeric)"
      ],
      "execution_count": 0,
      "outputs": []
    },
    {
      "metadata": {
        "id": "DNRLuZ8wp8Re",
        "colab_type": "code",
        "colab": {},
        "outputId": "d4ca65ad-57df-4b1d-eb6d-31d97a811f38"
      },
      "cell_type": "code",
      "source": [
        "data.info()"
      ],
      "execution_count": 0,
      "outputs": [
        {
          "output_type": "stream",
          "text": [
            "<class 'pandas.core.frame.DataFrame'>\n",
            "RangeIndex: 3333 entries, 0 to 3332\n",
            "Data columns (total 23 columns):\n",
            "ID                        3333 non-null int64\n",
            "Sex                       3333 non-null object\n",
            "Age                       2333 non-null float64\n",
            "State                     3333 non-null object\n",
            "Account length            3333 non-null int64\n",
            "Phone number              3333 non-null object\n",
            "Plans                     3233 non-null object\n",
            "Number vmail messages     3333 non-null int64\n",
            "Total day minutes         3333 non-null float64\n",
            "Total day calls           3333 non-null float64\n",
            "Total day charge          3333 non-null float64\n",
            "Total eve minutes         3333 non-null float64\n",
            "Total eve calls           3333 non-null float64\n",
            "Total eve charge          3333 non-null float64\n",
            "Total night minutes       3333 non-null float64\n",
            "Total night calls         3333 non-null float64\n",
            "Total night charge        3333 non-null float64\n",
            "Total intl minutes        3333 non-null float64\n",
            "Total intl calls          3333 non-null float64\n",
            "Total intl charge         3333 non-null float64\n",
            "Total charge              3333 non-null float64\n",
            "Customer service calls    3333 non-null int64\n",
            "Churn                     3333 non-null bool\n",
            "dtypes: bool(1), float64(14), int64(4), object(4)\n",
            "memory usage: 576.2+ KB\n"
          ],
          "name": "stdout"
        }
      ]
    },
    {
      "metadata": {
        "id": "G398kYlPp8Rl",
        "colab_type": "text"
      },
      "cell_type": "markdown",
      "source": [
        "### Задание 3  \n",
        "  \n",
        "Оцените набор данных на предмет пропущенных значений. Какие признаки содержат пропуски? Сколько наблюдений с пропусками по каждому такому признаку?  \n",
        "По каждому признаку предложите и обоснуйте, что делать с пропущенными значениями. "
      ]
    },
    {
      "metadata": {
        "id": "OD9mow-5p8Rm",
        "colab_type": "code",
        "colab": {},
        "outputId": "05edbbb9-0e21-4b88-bf4d-7016cece3b10"
      },
      "cell_type": "code",
      "source": [
        "data.isnull().sum()"
      ],
      "execution_count": 0,
      "outputs": [
        {
          "output_type": "execute_result",
          "data": {
            "text/plain": [
              "ID                        0   \n",
              "Sex                       0   \n",
              "Age                       1000\n",
              "State                     0   \n",
              "Account length            0   \n",
              "Phone number              0   \n",
              "Plans                     100 \n",
              "Number vmail messages     0   \n",
              "Total day minutes         0   \n",
              "Total day calls           0   \n",
              "Total day charge          0   \n",
              "Total eve minutes         0   \n",
              "Total eve calls           0   \n",
              "Total eve charge          0   \n",
              "Total night minutes       0   \n",
              "Total night calls         0   \n",
              "Total night charge        0   \n",
              "Total intl minutes        0   \n",
              "Total intl calls          0   \n",
              "Total intl charge         0   \n",
              "Total charge              0   \n",
              "Customer service calls    0   \n",
              "Churn                     0   \n",
              "dtype: int64"
            ]
          },
          "metadata": {
            "tags": []
          },
          "execution_count": 475
        }
      ]
    },
    {
      "metadata": {
        "id": "alfFLwqHp8Rr",
        "colab_type": "text"
      },
      "cell_type": "markdown",
      "source": [
        "Видно, что в признаке Age пропущено около 1000 значений, в Plans - 100 значений.\n",
        "Пропущенные значения Age можно заполнить средним значением этого признака, а в Plans заполнить значением None."
      ]
    },
    {
      "metadata": {
        "id": "FyT8n1YEp8Rt",
        "colab_type": "code",
        "colab": {}
      },
      "cell_type": "code",
      "source": [
        "data['Age'] = data['Age'].fillna(data['Age'].mean())\n",
        "data['Plans'] = data['Plans'].fillna('None')"
      ],
      "execution_count": 0,
      "outputs": []
    },
    {
      "metadata": {
        "id": "LT9JJDE0p8Rw",
        "colab_type": "code",
        "colab": {},
        "outputId": "74500882-7123-45b9-bfe3-35688d66159c"
      },
      "cell_type": "code",
      "source": [
        "data.isnull().sum()"
      ],
      "execution_count": 0,
      "outputs": [
        {
          "output_type": "execute_result",
          "data": {
            "text/plain": [
              "ID                        0\n",
              "Sex                       0\n",
              "Age                       0\n",
              "State                     0\n",
              "Account length            0\n",
              "Phone number              0\n",
              "Plans                     0\n",
              "Number vmail messages     0\n",
              "Total day minutes         0\n",
              "Total day calls           0\n",
              "Total day charge          0\n",
              "Total eve minutes         0\n",
              "Total eve calls           0\n",
              "Total eve charge          0\n",
              "Total night minutes       0\n",
              "Total night calls         0\n",
              "Total night charge        0\n",
              "Total intl minutes        0\n",
              "Total intl calls          0\n",
              "Total intl charge         0\n",
              "Total charge              0\n",
              "Customer service calls    0\n",
              "Churn                     0\n",
              "dtype: int64"
            ]
          },
          "metadata": {
            "tags": []
          },
          "execution_count": 477
        }
      ]
    },
    {
      "metadata": {
        "id": "GaIKpZaQp8R2",
        "colab_type": "text"
      },
      "cell_type": "markdown",
      "source": [
        "### Задание 4  \n",
        "  \n",
        "В признаке `Phone number` первые три цифры номера отвечают за код зоны покрытия сети.  \n",
        "Создайте новый признак `Area code`, содержайщий код покрытия сети.  \n",
        "Вычислите, сколько таких зон представлено в данных. Сколько наблюдений по каждой зоне?  \n",
        "Вычислите, сколько штатов входит в каждую зону. Есть ли штаты, которые находятся сразу в нескольких зонах покрытия? Если есть, приведите примеры."
      ]
    },
    {
      "metadata": {
        "id": "UKJ6kZbLp8R4",
        "colab_type": "text"
      },
      "cell_type": "markdown",
      "source": [
        "Создадим признак Area code по первым трем цифрам признака Phone number. Приведем его к типу int64."
      ]
    },
    {
      "metadata": {
        "id": "iUBZ778op8R4",
        "colab_type": "code",
        "colab": {}
      },
      "cell_type": "code",
      "source": [
        "data['Area code'] = [x[:3] for x in data['Phone number']]"
      ],
      "execution_count": 0,
      "outputs": []
    },
    {
      "metadata": {
        "id": "XAa3t06Rp8R9",
        "colab_type": "code",
        "colab": {}
      },
      "cell_type": "code",
      "source": [
        "data['Area code'] = data['Area code'].astype('int64')"
      ],
      "execution_count": 0,
      "outputs": []
    },
    {
      "metadata": {
        "id": "q_btAffrp8SB",
        "colab_type": "code",
        "colab": {},
        "outputId": "fe7446f9-c13f-41f6-9bd6-be1ad4aac9ce"
      },
      "cell_type": "code",
      "source": [
        "data.head(5)"
      ],
      "execution_count": 0,
      "outputs": [
        {
          "output_type": "execute_result",
          "data": {
            "text/html": [
              "<div>\n",
              "<style scoped>\n",
              "    .dataframe tbody tr th:only-of-type {\n",
              "        vertical-align: middle;\n",
              "    }\n",
              "\n",
              "    .dataframe tbody tr th {\n",
              "        vertical-align: top;\n",
              "    }\n",
              "\n",
              "    .dataframe thead th {\n",
              "        text-align: right;\n",
              "    }\n",
              "</style>\n",
              "<table border=\"1\" class=\"dataframe\">\n",
              "  <thead>\n",
              "    <tr style=\"text-align: right;\">\n",
              "      <th></th>\n",
              "      <th>ID</th>\n",
              "      <th>Sex</th>\n",
              "      <th>Age</th>\n",
              "      <th>State</th>\n",
              "      <th>Account length</th>\n",
              "      <th>Phone number</th>\n",
              "      <th>Plans</th>\n",
              "      <th>Number vmail messages</th>\n",
              "      <th>Total day minutes</th>\n",
              "      <th>Total day calls</th>\n",
              "      <th>Total day charge</th>\n",
              "      <th>Total eve minutes</th>\n",
              "      <th>Total eve calls</th>\n",
              "      <th>Total eve charge</th>\n",
              "      <th>Total night minutes</th>\n",
              "      <th>Total night calls</th>\n",
              "      <th>Total night charge</th>\n",
              "      <th>Total intl minutes</th>\n",
              "      <th>Total intl calls</th>\n",
              "      <th>Total intl charge</th>\n",
              "      <th>Total charge</th>\n",
              "      <th>Customer service calls</th>\n",
              "      <th>Churn</th>\n",
              "      <th>Area code</th>\n",
              "    </tr>\n",
              "  </thead>\n",
              "  <tbody>\n",
              "    <tr>\n",
              "      <th>0</th>\n",
              "      <td>40075</td>\n",
              "      <td>Female</td>\n",
              "      <td>37.000000</td>\n",
              "      <td>KS</td>\n",
              "      <td>128</td>\n",
              "      <td>415 424 17 55</td>\n",
              "      <td>Voice mail</td>\n",
              "      <td>25</td>\n",
              "      <td>265.1</td>\n",
              "      <td>110.0</td>\n",
              "      <td>45.07</td>\n",
              "      <td>197.4</td>\n",
              "      <td>99.0</td>\n",
              "      <td>16.78</td>\n",
              "      <td>244.7</td>\n",
              "      <td>91.0</td>\n",
              "      <td>11.01</td>\n",
              "      <td>10.0</td>\n",
              "      <td>3.0</td>\n",
              "      <td>2.70</td>\n",
              "      <td>75.56</td>\n",
              "      <td>1</td>\n",
              "      <td>False</td>\n",
              "      <td>415</td>\n",
              "    </tr>\n",
              "    <tr>\n",
              "      <th>1</th>\n",
              "      <td>17475</td>\n",
              "      <td>Female</td>\n",
              "      <td>34.504501</td>\n",
              "      <td>OH</td>\n",
              "      <td>107</td>\n",
              "      <td>415 759 41 43</td>\n",
              "      <td>Voice mail</td>\n",
              "      <td>26</td>\n",
              "      <td>161.6</td>\n",
              "      <td>123.0</td>\n",
              "      <td>27.47</td>\n",
              "      <td>195.5</td>\n",
              "      <td>103.0</td>\n",
              "      <td>16.62</td>\n",
              "      <td>254.4</td>\n",
              "      <td>103.0</td>\n",
              "      <td>11.45</td>\n",
              "      <td>13.7</td>\n",
              "      <td>3.0</td>\n",
              "      <td>3.70</td>\n",
              "      <td>59.24</td>\n",
              "      <td>1</td>\n",
              "      <td>False</td>\n",
              "      <td>415</td>\n",
              "    </tr>\n",
              "    <tr>\n",
              "      <th>2</th>\n",
              "      <td>62242</td>\n",
              "      <td>Female</td>\n",
              "      <td>19.000000</td>\n",
              "      <td>NJ</td>\n",
              "      <td>137</td>\n",
              "      <td>415 213 11 40</td>\n",
              "      <td>None</td>\n",
              "      <td>0</td>\n",
              "      <td>243.4</td>\n",
              "      <td>114.0</td>\n",
              "      <td>41.38</td>\n",
              "      <td>121.2</td>\n",
              "      <td>110.0</td>\n",
              "      <td>10.30</td>\n",
              "      <td>162.6</td>\n",
              "      <td>104.0</td>\n",
              "      <td>7.32</td>\n",
              "      <td>12.2</td>\n",
              "      <td>5.0</td>\n",
              "      <td>3.29</td>\n",
              "      <td>62.29</td>\n",
              "      <td>0</td>\n",
              "      <td>False</td>\n",
              "      <td>415</td>\n",
              "    </tr>\n",
              "    <tr>\n",
              "      <th>3</th>\n",
              "      <td>81231</td>\n",
              "      <td>Female</td>\n",
              "      <td>31.000000</td>\n",
              "      <td>OH</td>\n",
              "      <td>84</td>\n",
              "      <td>408 487 53 35</td>\n",
              "      <td>International</td>\n",
              "      <td>0</td>\n",
              "      <td>299.4</td>\n",
              "      <td>71.0</td>\n",
              "      <td>50.90</td>\n",
              "      <td>61.9</td>\n",
              "      <td>88.0</td>\n",
              "      <td>5.26</td>\n",
              "      <td>196.9</td>\n",
              "      <td>89.0</td>\n",
              "      <td>8.86</td>\n",
              "      <td>6.6</td>\n",
              "      <td>7.0</td>\n",
              "      <td>1.78</td>\n",
              "      <td>66.80</td>\n",
              "      <td>2</td>\n",
              "      <td>False</td>\n",
              "      <td>408</td>\n",
              "    </tr>\n",
              "    <tr>\n",
              "      <th>4</th>\n",
              "      <td>78542</td>\n",
              "      <td>Female</td>\n",
              "      <td>30.000000</td>\n",
              "      <td>OK</td>\n",
              "      <td>75</td>\n",
              "      <td>415 509 25 27</td>\n",
              "      <td>International</td>\n",
              "      <td>0</td>\n",
              "      <td>166.7</td>\n",
              "      <td>113.0</td>\n",
              "      <td>28.34</td>\n",
              "      <td>148.3</td>\n",
              "      <td>122.0</td>\n",
              "      <td>12.61</td>\n",
              "      <td>186.9</td>\n",
              "      <td>121.0</td>\n",
              "      <td>8.41</td>\n",
              "      <td>10.1</td>\n",
              "      <td>3.0</td>\n",
              "      <td>2.73</td>\n",
              "      <td>52.09</td>\n",
              "      <td>3</td>\n",
              "      <td>False</td>\n",
              "      <td>415</td>\n",
              "    </tr>\n",
              "  </tbody>\n",
              "</table>\n",
              "</div>"
            ],
            "text/plain": [
              "      ID     Sex        Age State  Account length   Phone number  \\\n",
              "0  40075  Female  37.000000  KS    128             415 424 17 55   \n",
              "1  17475  Female  34.504501  OH    107             415 759 41 43   \n",
              "2  62242  Female  19.000000  NJ    137             415 213 11 40   \n",
              "3  81231  Female  31.000000  OH    84              408 487 53 35   \n",
              "4  78542  Female  30.000000  OK    75              415 509 25 27   \n",
              "\n",
              "           Plans  Number vmail messages  Total day minutes  Total day calls  \\\n",
              "0  Voice mail     25                     265.1              110.0             \n",
              "1  Voice mail     26                     161.6              123.0             \n",
              "2  None           0                      243.4              114.0             \n",
              "3  International  0                      299.4              71.0              \n",
              "4  International  0                      166.7              113.0             \n",
              "\n",
              "   Total day charge  Total eve minutes  Total eve calls  Total eve charge  \\\n",
              "0  45.07             197.4              99.0             16.78              \n",
              "1  27.47             195.5              103.0            16.62              \n",
              "2  41.38             121.2              110.0            10.30              \n",
              "3  50.90             61.9               88.0             5.26               \n",
              "4  28.34             148.3              122.0            12.61              \n",
              "\n",
              "   Total night minutes  Total night calls  Total night charge  \\\n",
              "0  244.7                91.0               11.01                \n",
              "1  254.4                103.0              11.45                \n",
              "2  162.6                104.0              7.32                 \n",
              "3  196.9                89.0               8.86                 \n",
              "4  186.9                121.0              8.41                 \n",
              "\n",
              "   Total intl minutes  Total intl calls  Total intl charge  Total charge  \\\n",
              "0  10.0                3.0               2.70               75.56          \n",
              "1  13.7                3.0               3.70               59.24          \n",
              "2  12.2                5.0               3.29               62.29          \n",
              "3  6.6                 7.0               1.78               66.80          \n",
              "4  10.1                3.0               2.73               52.09          \n",
              "\n",
              "   Customer service calls  Churn  Area code  \n",
              "0  1                       False  415        \n",
              "1  1                       False  415        \n",
              "2  0                       False  415        \n",
              "3  2                       False  408        \n",
              "4  3                       False  415        "
            ]
          },
          "metadata": {
            "tags": []
          },
          "execution_count": 480
        }
      ]
    },
    {
      "metadata": {
        "id": "9gumkVwnp8SG",
        "colab_type": "text"
      },
      "cell_type": "markdown",
      "source": [
        "Видим, что всего 3 зоны, наблюдения по каждой зоне:"
      ]
    },
    {
      "metadata": {
        "id": "7XoGn2Q1p8SJ",
        "colab_type": "code",
        "colab": {},
        "outputId": "61804ac4-6997-41b6-936f-5640dc3eeea6"
      },
      "cell_type": "code",
      "source": [
        "data['Area code'].value_counts()"
      ],
      "execution_count": 0,
      "outputs": [
        {
          "output_type": "execute_result",
          "data": {
            "text/plain": [
              "415    1655\n",
              "510    840 \n",
              "408    838 \n",
              "Name: Area code, dtype: int64"
            ]
          },
          "metadata": {
            "tags": []
          },
          "execution_count": 481
        }
      ]
    },
    {
      "metadata": {
        "id": "a757qLqzp8SP",
        "colab_type": "text"
      },
      "cell_type": "markdown",
      "source": [
        "Видим, что каждая зона покрывает все штаты."
      ]
    },
    {
      "metadata": {
        "id": "bmQYszacp8SQ",
        "colab_type": "code",
        "colab": {},
        "outputId": "9dd1cc59-2b3d-4136-be8d-cdc4768b41c1"
      },
      "cell_type": "code",
      "source": [
        "pd.crosstab(data['Area code'], data['State'])"
      ],
      "execution_count": 0,
      "outputs": [
        {
          "output_type": "execute_result",
          "data": {
            "text/html": [
              "<div>\n",
              "<style scoped>\n",
              "    .dataframe tbody tr th:only-of-type {\n",
              "        vertical-align: middle;\n",
              "    }\n",
              "\n",
              "    .dataframe tbody tr th {\n",
              "        vertical-align: top;\n",
              "    }\n",
              "\n",
              "    .dataframe thead th {\n",
              "        text-align: right;\n",
              "    }\n",
              "</style>\n",
              "<table border=\"1\" class=\"dataframe\">\n",
              "  <thead>\n",
              "    <tr style=\"text-align: right;\">\n",
              "      <th>State</th>\n",
              "      <th>AK</th>\n",
              "      <th>AL</th>\n",
              "      <th>AR</th>\n",
              "      <th>AZ</th>\n",
              "      <th>CA</th>\n",
              "      <th>CO</th>\n",
              "      <th>CT</th>\n",
              "      <th>DC</th>\n",
              "      <th>DE</th>\n",
              "      <th>FL</th>\n",
              "      <th>GA</th>\n",
              "      <th>HI</th>\n",
              "      <th>...</th>\n",
              "      <th>RI</th>\n",
              "      <th>SC</th>\n",
              "      <th>SD</th>\n",
              "      <th>TN</th>\n",
              "      <th>TX</th>\n",
              "      <th>UT</th>\n",
              "      <th>VA</th>\n",
              "      <th>VT</th>\n",
              "      <th>WA</th>\n",
              "      <th>WI</th>\n",
              "      <th>WV</th>\n",
              "      <th>WY</th>\n",
              "    </tr>\n",
              "    <tr>\n",
              "      <th>Area code</th>\n",
              "      <th></th>\n",
              "      <th></th>\n",
              "      <th></th>\n",
              "      <th></th>\n",
              "      <th></th>\n",
              "      <th></th>\n",
              "      <th></th>\n",
              "      <th></th>\n",
              "      <th></th>\n",
              "      <th></th>\n",
              "      <th></th>\n",
              "      <th></th>\n",
              "      <th></th>\n",
              "      <th></th>\n",
              "      <th></th>\n",
              "      <th></th>\n",
              "      <th></th>\n",
              "      <th></th>\n",
              "      <th></th>\n",
              "      <th></th>\n",
              "      <th></th>\n",
              "      <th></th>\n",
              "      <th></th>\n",
              "      <th></th>\n",
              "      <th></th>\n",
              "    </tr>\n",
              "  </thead>\n",
              "  <tbody>\n",
              "    <tr>\n",
              "      <th>408</th>\n",
              "      <td>14</td>\n",
              "      <td>25</td>\n",
              "      <td>13</td>\n",
              "      <td>15</td>\n",
              "      <td>7</td>\n",
              "      <td>25</td>\n",
              "      <td>22</td>\n",
              "      <td>14</td>\n",
              "      <td>13</td>\n",
              "      <td>12</td>\n",
              "      <td>15</td>\n",
              "      <td>15</td>\n",
              "      <td>...</td>\n",
              "      <td>12</td>\n",
              "      <td>13</td>\n",
              "      <td>16</td>\n",
              "      <td>11</td>\n",
              "      <td>20</td>\n",
              "      <td>12</td>\n",
              "      <td>25</td>\n",
              "      <td>17</td>\n",
              "      <td>23</td>\n",
              "      <td>22</td>\n",
              "      <td>20</td>\n",
              "      <td>17</td>\n",
              "    </tr>\n",
              "    <tr>\n",
              "      <th>415</th>\n",
              "      <td>24</td>\n",
              "      <td>40</td>\n",
              "      <td>27</td>\n",
              "      <td>36</td>\n",
              "      <td>17</td>\n",
              "      <td>29</td>\n",
              "      <td>39</td>\n",
              "      <td>27</td>\n",
              "      <td>31</td>\n",
              "      <td>31</td>\n",
              "      <td>21</td>\n",
              "      <td>30</td>\n",
              "      <td>...</td>\n",
              "      <td>35</td>\n",
              "      <td>30</td>\n",
              "      <td>28</td>\n",
              "      <td>30</td>\n",
              "      <td>37</td>\n",
              "      <td>37</td>\n",
              "      <td>35</td>\n",
              "      <td>36</td>\n",
              "      <td>26</td>\n",
              "      <td>35</td>\n",
              "      <td>52</td>\n",
              "      <td>41</td>\n",
              "    </tr>\n",
              "    <tr>\n",
              "      <th>510</th>\n",
              "      <td>14</td>\n",
              "      <td>15</td>\n",
              "      <td>15</td>\n",
              "      <td>13</td>\n",
              "      <td>10</td>\n",
              "      <td>12</td>\n",
              "      <td>13</td>\n",
              "      <td>13</td>\n",
              "      <td>17</td>\n",
              "      <td>20</td>\n",
              "      <td>18</td>\n",
              "      <td>8</td>\n",
              "      <td>...</td>\n",
              "      <td>18</td>\n",
              "      <td>17</td>\n",
              "      <td>16</td>\n",
              "      <td>12</td>\n",
              "      <td>15</td>\n",
              "      <td>23</td>\n",
              "      <td>17</td>\n",
              "      <td>20</td>\n",
              "      <td>17</td>\n",
              "      <td>21</td>\n",
              "      <td>34</td>\n",
              "      <td>19</td>\n",
              "    </tr>\n",
              "  </tbody>\n",
              "</table>\n",
              "<p>3 rows × 51 columns</p>\n",
              "</div>"
            ],
            "text/plain": [
              "State      AK  AL  AR  AZ  CA  CO  CT  DC  DE  FL  GA  HI ...  RI  SC  SD  TN  \\\n",
              "Area code                                                 ...                   \n",
              "408        14  25  13  15  7   25  22  14  13  12  15  15 ...  12  13  16  11   \n",
              "415        24  40  27  36  17  29  39  27  31  31  21  30 ...  35  30  28  30   \n",
              "510        14  15  15  13  10  12  13  13  17  20  18  8  ...  18  17  16  12   \n",
              "\n",
              "State      TX  UT  VA  VT  WA  WI  WV  WY  \n",
              "Area code                                  \n",
              "408        20  12  25  17  23  22  20  17  \n",
              "415        37  37  35  36  26  35  52  41  \n",
              "510        15  23  17  20  17  21  34  19  \n",
              "\n",
              "[3 rows x 51 columns]"
            ]
          },
          "metadata": {
            "tags": []
          },
          "execution_count": 482
        }
      ]
    },
    {
      "metadata": {
        "id": "Ctji0TKrp8SX",
        "colab_type": "code",
        "colab": {},
        "outputId": "7d7191ff-8f9c-4079-9ab1-41b0feac383e"
      },
      "cell_type": "code",
      "source": [
        "pd.crosstab(data['Area code'], data['State']).isnull().sum()"
      ],
      "execution_count": 0,
      "outputs": [
        {
          "output_type": "execute_result",
          "data": {
            "text/plain": [
              "State\n",
              "AK    0\n",
              "AL    0\n",
              "AR    0\n",
              "AZ    0\n",
              "CA    0\n",
              "CO    0\n",
              "CT    0\n",
              "DC    0\n",
              "DE    0\n",
              "FL    0\n",
              "GA    0\n",
              "HI    0\n",
              "IA    0\n",
              "ID    0\n",
              "IL    0\n",
              "IN    0\n",
              "KS    0\n",
              "KY    0\n",
              "LA    0\n",
              "MA    0\n",
              "MD    0\n",
              "ME    0\n",
              "MI    0\n",
              "MN    0\n",
              "MO    0\n",
              "MS    0\n",
              "MT    0\n",
              "NC    0\n",
              "ND    0\n",
              "NE    0\n",
              "NH    0\n",
              "NJ    0\n",
              "NM    0\n",
              "NV    0\n",
              "NY    0\n",
              "OH    0\n",
              "OK    0\n",
              "OR    0\n",
              "PA    0\n",
              "RI    0\n",
              "SC    0\n",
              "SD    0\n",
              "TN    0\n",
              "TX    0\n",
              "UT    0\n",
              "VA    0\n",
              "VT    0\n",
              "WA    0\n",
              "WI    0\n",
              "WV    0\n",
              "WY    0\n",
              "dtype: int64"
            ]
          },
          "metadata": {
            "tags": []
          },
          "execution_count": 483
        }
      ]
    },
    {
      "metadata": {
        "id": "03wKOlkup8Sb",
        "colab_type": "text"
      },
      "cell_type": "markdown",
      "source": [
        "### Задание 5  \n",
        "  \n",
        "Вычислите тарифные планы (стоимость минуты разговора): day, eve, night, intl.  \n",
        "Проверьте, различаются ли они для различных зон покрытия сети. "
      ]
    },
    {
      "metadata": {
        "id": "pDE6Nt72p8Sd",
        "colab_type": "text"
      },
      "cell_type": "markdown",
      "source": [
        "Создадим новые признаки стоимости 1 минуты разговора для каждого наблюдения, для этого разделим стоимость на минуты. "
      ]
    },
    {
      "metadata": {
        "collapsed": true,
        "id": "pZ8CXZVcp8Sf",
        "colab_type": "code",
        "colab": {}
      },
      "cell_type": "code",
      "source": [
        "day_cost = []\n",
        "eve_cost = []\n",
        "night_cost = []\n",
        "intl_cost = []\n",
        "\n",
        "for i in range (0, data.shape[0]):\n",
        "    day_cost = data['Total day charge'][i] / data['Total day minutes'][i]\n",
        "    eve_cost = data['Total eve charge'][i] / data['Total eve minutes'][i]\n",
        "    night_cost = data['Total night charge'][i] / data['Total night minutes'][i]\n",
        "    intl_cost = data['Total intl charge'][i] / data['Total intl minutes'][i]\n",
        "    i += 1\n",
        "    \n",
        "data['Day cost'] = day_cost\n",
        "data['Eve cost']= eve_cost\n",
        "data['Night cost'] = night_cost\n",
        "data['Intl cost'] = intl_cost"
      ],
      "execution_count": 0,
      "outputs": []
    },
    {
      "metadata": {
        "id": "B7yzqGpNp8Si",
        "colab_type": "code",
        "colab": {},
        "outputId": "63023a92-25ab-4668-8b36-102ff90d5ae4"
      },
      "cell_type": "code",
      "source": [
        "data.head(5)"
      ],
      "execution_count": 0,
      "outputs": [
        {
          "output_type": "execute_result",
          "data": {
            "text/html": [
              "<div>\n",
              "<style scoped>\n",
              "    .dataframe tbody tr th:only-of-type {\n",
              "        vertical-align: middle;\n",
              "    }\n",
              "\n",
              "    .dataframe tbody tr th {\n",
              "        vertical-align: top;\n",
              "    }\n",
              "\n",
              "    .dataframe thead th {\n",
              "        text-align: right;\n",
              "    }\n",
              "</style>\n",
              "<table border=\"1\" class=\"dataframe\">\n",
              "  <thead>\n",
              "    <tr style=\"text-align: right;\">\n",
              "      <th></th>\n",
              "      <th>ID</th>\n",
              "      <th>Sex</th>\n",
              "      <th>Age</th>\n",
              "      <th>State</th>\n",
              "      <th>Account length</th>\n",
              "      <th>Phone number</th>\n",
              "      <th>Plans</th>\n",
              "      <th>Number vmail messages</th>\n",
              "      <th>Total day minutes</th>\n",
              "      <th>Total day calls</th>\n",
              "      <th>Total day charge</th>\n",
              "      <th>Total eve minutes</th>\n",
              "      <th>...</th>\n",
              "      <th>Total night charge</th>\n",
              "      <th>Total intl minutes</th>\n",
              "      <th>Total intl calls</th>\n",
              "      <th>Total intl charge</th>\n",
              "      <th>Total charge</th>\n",
              "      <th>Customer service calls</th>\n",
              "      <th>Churn</th>\n",
              "      <th>Area code</th>\n",
              "      <th>Day cost</th>\n",
              "      <th>Eve cost</th>\n",
              "      <th>Night cost</th>\n",
              "      <th>Intl cost</th>\n",
              "    </tr>\n",
              "  </thead>\n",
              "  <tbody>\n",
              "    <tr>\n",
              "      <th>0</th>\n",
              "      <td>40075</td>\n",
              "      <td>Female</td>\n",
              "      <td>37.000000</td>\n",
              "      <td>KS</td>\n",
              "      <td>128</td>\n",
              "      <td>415 424 17 55</td>\n",
              "      <td>Voice mail</td>\n",
              "      <td>25</td>\n",
              "      <td>265.1</td>\n",
              "      <td>110.0</td>\n",
              "      <td>45.07</td>\n",
              "      <td>197.4</td>\n",
              "      <td>...</td>\n",
              "      <td>11.01</td>\n",
              "      <td>10.0</td>\n",
              "      <td>3.0</td>\n",
              "      <td>2.70</td>\n",
              "      <td>75.56</td>\n",
              "      <td>1</td>\n",
              "      <td>False</td>\n",
              "      <td>415</td>\n",
              "      <td>0.170009</td>\n",
              "      <td>0.084994</td>\n",
              "      <td>0.044988</td>\n",
              "      <td>0.270073</td>\n",
              "    </tr>\n",
              "    <tr>\n",
              "      <th>1</th>\n",
              "      <td>17475</td>\n",
              "      <td>Female</td>\n",
              "      <td>34.504501</td>\n",
              "      <td>OH</td>\n",
              "      <td>107</td>\n",
              "      <td>415 759 41 43</td>\n",
              "      <td>Voice mail</td>\n",
              "      <td>26</td>\n",
              "      <td>161.6</td>\n",
              "      <td>123.0</td>\n",
              "      <td>27.47</td>\n",
              "      <td>195.5</td>\n",
              "      <td>...</td>\n",
              "      <td>11.45</td>\n",
              "      <td>13.7</td>\n",
              "      <td>3.0</td>\n",
              "      <td>3.70</td>\n",
              "      <td>59.24</td>\n",
              "      <td>1</td>\n",
              "      <td>False</td>\n",
              "      <td>415</td>\n",
              "      <td>0.170009</td>\n",
              "      <td>0.084994</td>\n",
              "      <td>0.044988</td>\n",
              "      <td>0.270073</td>\n",
              "    </tr>\n",
              "    <tr>\n",
              "      <th>2</th>\n",
              "      <td>62242</td>\n",
              "      <td>Female</td>\n",
              "      <td>19.000000</td>\n",
              "      <td>NJ</td>\n",
              "      <td>137</td>\n",
              "      <td>415 213 11 40</td>\n",
              "      <td>None</td>\n",
              "      <td>0</td>\n",
              "      <td>243.4</td>\n",
              "      <td>114.0</td>\n",
              "      <td>41.38</td>\n",
              "      <td>121.2</td>\n",
              "      <td>...</td>\n",
              "      <td>7.32</td>\n",
              "      <td>12.2</td>\n",
              "      <td>5.0</td>\n",
              "      <td>3.29</td>\n",
              "      <td>62.29</td>\n",
              "      <td>0</td>\n",
              "      <td>False</td>\n",
              "      <td>415</td>\n",
              "      <td>0.170009</td>\n",
              "      <td>0.084994</td>\n",
              "      <td>0.044988</td>\n",
              "      <td>0.270073</td>\n",
              "    </tr>\n",
              "    <tr>\n",
              "      <th>3</th>\n",
              "      <td>81231</td>\n",
              "      <td>Female</td>\n",
              "      <td>31.000000</td>\n",
              "      <td>OH</td>\n",
              "      <td>84</td>\n",
              "      <td>408 487 53 35</td>\n",
              "      <td>International</td>\n",
              "      <td>0</td>\n",
              "      <td>299.4</td>\n",
              "      <td>71.0</td>\n",
              "      <td>50.90</td>\n",
              "      <td>61.9</td>\n",
              "      <td>...</td>\n",
              "      <td>8.86</td>\n",
              "      <td>6.6</td>\n",
              "      <td>7.0</td>\n",
              "      <td>1.78</td>\n",
              "      <td>66.80</td>\n",
              "      <td>2</td>\n",
              "      <td>False</td>\n",
              "      <td>408</td>\n",
              "      <td>0.170009</td>\n",
              "      <td>0.084994</td>\n",
              "      <td>0.044988</td>\n",
              "      <td>0.270073</td>\n",
              "    </tr>\n",
              "    <tr>\n",
              "      <th>4</th>\n",
              "      <td>78542</td>\n",
              "      <td>Female</td>\n",
              "      <td>30.000000</td>\n",
              "      <td>OK</td>\n",
              "      <td>75</td>\n",
              "      <td>415 509 25 27</td>\n",
              "      <td>International</td>\n",
              "      <td>0</td>\n",
              "      <td>166.7</td>\n",
              "      <td>113.0</td>\n",
              "      <td>28.34</td>\n",
              "      <td>148.3</td>\n",
              "      <td>...</td>\n",
              "      <td>8.41</td>\n",
              "      <td>10.1</td>\n",
              "      <td>3.0</td>\n",
              "      <td>2.73</td>\n",
              "      <td>52.09</td>\n",
              "      <td>3</td>\n",
              "      <td>False</td>\n",
              "      <td>415</td>\n",
              "      <td>0.170009</td>\n",
              "      <td>0.084994</td>\n",
              "      <td>0.044988</td>\n",
              "      <td>0.270073</td>\n",
              "    </tr>\n",
              "  </tbody>\n",
              "</table>\n",
              "<p>5 rows × 28 columns</p>\n",
              "</div>"
            ],
            "text/plain": [
              "      ID     Sex        Age State  Account length   Phone number  \\\n",
              "0  40075  Female  37.000000  KS    128             415 424 17 55   \n",
              "1  17475  Female  34.504501  OH    107             415 759 41 43   \n",
              "2  62242  Female  19.000000  NJ    137             415 213 11 40   \n",
              "3  81231  Female  31.000000  OH    84              408 487 53 35   \n",
              "4  78542  Female  30.000000  OK    75              415 509 25 27   \n",
              "\n",
              "           Plans  Number vmail messages  Total day minutes  Total day calls  \\\n",
              "0  Voice mail     25                     265.1              110.0             \n",
              "1  Voice mail     26                     161.6              123.0             \n",
              "2  None           0                      243.4              114.0             \n",
              "3  International  0                      299.4              71.0              \n",
              "4  International  0                      166.7              113.0             \n",
              "\n",
              "   Total day charge  Total eve minutes    ...      Total night charge  \\\n",
              "0  45.07             197.4                ...      11.01                \n",
              "1  27.47             195.5                ...      11.45                \n",
              "2  41.38             121.2                ...      7.32                 \n",
              "3  50.90             61.9                 ...      8.86                 \n",
              "4  28.34             148.3                ...      8.41                 \n",
              "\n",
              "   Total intl minutes  Total intl calls  Total intl charge  Total charge  \\\n",
              "0  10.0                3.0               2.70               75.56          \n",
              "1  13.7                3.0               3.70               59.24          \n",
              "2  12.2                5.0               3.29               62.29          \n",
              "3  6.6                 7.0               1.78               66.80          \n",
              "4  10.1                3.0               2.73               52.09          \n",
              "\n",
              "   Customer service calls  Churn  Area code  Day cost  Eve cost  Night cost  \\\n",
              "0  1                       False  415        0.170009  0.084994  0.044988     \n",
              "1  1                       False  415        0.170009  0.084994  0.044988     \n",
              "2  0                       False  415        0.170009  0.084994  0.044988     \n",
              "3  2                       False  408        0.170009  0.084994  0.044988     \n",
              "4  3                       False  415        0.170009  0.084994  0.044988     \n",
              "\n",
              "   Intl cost  \n",
              "0  0.270073   \n",
              "1  0.270073   \n",
              "2  0.270073   \n",
              "3  0.270073   \n",
              "4  0.270073   \n",
              "\n",
              "[5 rows x 28 columns]"
            ]
          },
          "metadata": {
            "tags": []
          },
          "execution_count": 485
        }
      ]
    },
    {
      "metadata": {
        "id": "fJnmi3sZp8Sn",
        "colab_type": "code",
        "colab": {},
        "outputId": "ea6c31b8-ff05-4b3e-dfca-a4aa9f323b44"
      },
      "cell_type": "code",
      "source": [
        "print('Средняя стоимость минуты разговора днем = ' + str(data['Day cost'].mean()))\n",
        "print('Средняя стоимость минуты разговора  вечером = ' + str(data['Eve cost'].mean()))\n",
        "print('Средняя стоимость минуты разговора  ночью = ' + str(data['Night cost'].mean()))\n",
        "print('Средняя стоимость минуты международного разговора = ' + str(data['Intl cost'].mean()))"
      ],
      "execution_count": 0,
      "outputs": [
        {
          "output_type": "stream",
          "text": [
            "Средняя стоимость минуты разговора днем = 0.1700085324232049\n",
            "Средняя стоимость минуты разговора  вечером = 0.08499435878149932\n",
            "Средняя стоимость минуты разговора  ночью = 0.04498757249378569\n",
            "Средняя стоимость минуты международного разговора = 0.2700729927007371\n"
          ],
          "name": "stdout"
        }
      ]
    },
    {
      "metadata": {
        "id": "hXUV--9dp8Sr",
        "colab_type": "text"
      },
      "cell_type": "markdown",
      "source": [
        "Проверим различается ли средняя стоимость минуты для различных зон покрытия. "
      ]
    },
    {
      "metadata": {
        "id": "SnmOOpY8p8Ss",
        "colab_type": "code",
        "colab": {},
        "outputId": "f2afa608-7ba8-4d4a-c88d-86b18e384459"
      },
      "cell_type": "code",
      "source": [
        "data.groupby('Area code')['Day cost'].describe()"
      ],
      "execution_count": 0,
      "outputs": [
        {
          "output_type": "execute_result",
          "data": {
            "text/html": [
              "<div>\n",
              "<style scoped>\n",
              "    .dataframe tbody tr th:only-of-type {\n",
              "        vertical-align: middle;\n",
              "    }\n",
              "\n",
              "    .dataframe tbody tr th {\n",
              "        vertical-align: top;\n",
              "    }\n",
              "\n",
              "    .dataframe thead th {\n",
              "        text-align: right;\n",
              "    }\n",
              "</style>\n",
              "<table border=\"1\" class=\"dataframe\">\n",
              "  <thead>\n",
              "    <tr style=\"text-align: right;\">\n",
              "      <th></th>\n",
              "      <th>count</th>\n",
              "      <th>mean</th>\n",
              "      <th>std</th>\n",
              "      <th>min</th>\n",
              "      <th>25%</th>\n",
              "      <th>50%</th>\n",
              "      <th>75%</th>\n",
              "      <th>max</th>\n",
              "    </tr>\n",
              "    <tr>\n",
              "      <th>Area code</th>\n",
              "      <th></th>\n",
              "      <th></th>\n",
              "      <th></th>\n",
              "      <th></th>\n",
              "      <th></th>\n",
              "      <th></th>\n",
              "      <th></th>\n",
              "      <th></th>\n",
              "    </tr>\n",
              "  </thead>\n",
              "  <tbody>\n",
              "    <tr>\n",
              "      <th>408</th>\n",
              "      <td>838.0</td>\n",
              "      <td>0.170009</td>\n",
              "      <td>2.777215e-16</td>\n",
              "      <td>0.170009</td>\n",
              "      <td>0.170009</td>\n",
              "      <td>0.170009</td>\n",
              "      <td>0.170009</td>\n",
              "      <td>0.170009</td>\n",
              "    </tr>\n",
              "    <tr>\n",
              "      <th>415</th>\n",
              "      <td>1655.0</td>\n",
              "      <td>0.170009</td>\n",
              "      <td>5.663849e-15</td>\n",
              "      <td>0.170009</td>\n",
              "      <td>0.170009</td>\n",
              "      <td>0.170009</td>\n",
              "      <td>0.170009</td>\n",
              "      <td>0.170009</td>\n",
              "    </tr>\n",
              "    <tr>\n",
              "      <th>510</th>\n",
              "      <td>840.0</td>\n",
              "      <td>0.170009</td>\n",
              "      <td>2.499490e-16</td>\n",
              "      <td>0.170009</td>\n",
              "      <td>0.170009</td>\n",
              "      <td>0.170009</td>\n",
              "      <td>0.170009</td>\n",
              "      <td>0.170009</td>\n",
              "    </tr>\n",
              "  </tbody>\n",
              "</table>\n",
              "</div>"
            ],
            "text/plain": [
              "            count      mean           std       min       25%       50%  \\\n",
              "Area code                                                                 \n",
              "408        838.0   0.170009  2.777215e-16  0.170009  0.170009  0.170009   \n",
              "415        1655.0  0.170009  5.663849e-15  0.170009  0.170009  0.170009   \n",
              "510        840.0   0.170009  2.499490e-16  0.170009  0.170009  0.170009   \n",
              "\n",
              "                75%       max  \n",
              "Area code                      \n",
              "408        0.170009  0.170009  \n",
              "415        0.170009  0.170009  \n",
              "510        0.170009  0.170009  "
            ]
          },
          "metadata": {
            "tags": []
          },
          "execution_count": 487
        }
      ]
    },
    {
      "metadata": {
        "id": "PdUKaxYvp8Sx",
        "colab_type": "code",
        "colab": {},
        "outputId": "8b69a422-bb6b-4d43-b115-dfdddffe5c2b"
      },
      "cell_type": "code",
      "source": [
        "data.groupby('Area code')['Eve cost'].describe()"
      ],
      "execution_count": 0,
      "outputs": [
        {
          "output_type": "execute_result",
          "data": {
            "text/html": [
              "<div>\n",
              "<style scoped>\n",
              "    .dataframe tbody tr th:only-of-type {\n",
              "        vertical-align: middle;\n",
              "    }\n",
              "\n",
              "    .dataframe tbody tr th {\n",
              "        vertical-align: top;\n",
              "    }\n",
              "\n",
              "    .dataframe thead th {\n",
              "        text-align: right;\n",
              "    }\n",
              "</style>\n",
              "<table border=\"1\" class=\"dataframe\">\n",
              "  <thead>\n",
              "    <tr style=\"text-align: right;\">\n",
              "      <th></th>\n",
              "      <th>count</th>\n",
              "      <th>mean</th>\n",
              "      <th>std</th>\n",
              "      <th>min</th>\n",
              "      <th>25%</th>\n",
              "      <th>50%</th>\n",
              "      <th>75%</th>\n",
              "      <th>max</th>\n",
              "    </tr>\n",
              "    <tr>\n",
              "      <th>Area code</th>\n",
              "      <th></th>\n",
              "      <th></th>\n",
              "      <th></th>\n",
              "      <th></th>\n",
              "      <th></th>\n",
              "      <th></th>\n",
              "      <th></th>\n",
              "      <th></th>\n",
              "    </tr>\n",
              "  </thead>\n",
              "  <tbody>\n",
              "    <tr>\n",
              "      <th>408</th>\n",
              "      <td>838.0</td>\n",
              "      <td>0.084994</td>\n",
              "      <td>1.097000e-15</td>\n",
              "      <td>0.084994</td>\n",
              "      <td>0.084994</td>\n",
              "      <td>0.084994</td>\n",
              "      <td>0.084994</td>\n",
              "      <td>0.084994</td>\n",
              "    </tr>\n",
              "    <tr>\n",
              "      <th>415</th>\n",
              "      <td>1655.0</td>\n",
              "      <td>0.084994</td>\n",
              "      <td>1.263260e-15</td>\n",
              "      <td>0.084994</td>\n",
              "      <td>0.084994</td>\n",
              "      <td>0.084994</td>\n",
              "      <td>0.084994</td>\n",
              "      <td>0.084994</td>\n",
              "    </tr>\n",
              "    <tr>\n",
              "      <th>510</th>\n",
              "      <td>840.0</td>\n",
              "      <td>0.084994</td>\n",
              "      <td>1.083112e-15</td>\n",
              "      <td>0.084994</td>\n",
              "      <td>0.084994</td>\n",
              "      <td>0.084994</td>\n",
              "      <td>0.084994</td>\n",
              "      <td>0.084994</td>\n",
              "    </tr>\n",
              "  </tbody>\n",
              "</table>\n",
              "</div>"
            ],
            "text/plain": [
              "            count      mean           std       min       25%       50%  \\\n",
              "Area code                                                                 \n",
              "408        838.0   0.084994  1.097000e-15  0.084994  0.084994  0.084994   \n",
              "415        1655.0  0.084994  1.263260e-15  0.084994  0.084994  0.084994   \n",
              "510        840.0   0.084994  1.083112e-15  0.084994  0.084994  0.084994   \n",
              "\n",
              "                75%       max  \n",
              "Area code                      \n",
              "408        0.084994  0.084994  \n",
              "415        0.084994  0.084994  \n",
              "510        0.084994  0.084994  "
            ]
          },
          "metadata": {
            "tags": []
          },
          "execution_count": 488
        }
      ]
    },
    {
      "metadata": {
        "id": "Uf1gJjDop8S2",
        "colab_type": "code",
        "colab": {},
        "outputId": "bf4e149e-5029-45b6-83ef-3a4ea2f60b4e"
      },
      "cell_type": "code",
      "source": [
        "data.groupby('Area code')['Night cost'].describe()"
      ],
      "execution_count": 0,
      "outputs": [
        {
          "output_type": "execute_result",
          "data": {
            "text/html": [
              "<div>\n",
              "<style scoped>\n",
              "    .dataframe tbody tr th:only-of-type {\n",
              "        vertical-align: middle;\n",
              "    }\n",
              "\n",
              "    .dataframe tbody tr th {\n",
              "        vertical-align: top;\n",
              "    }\n",
              "\n",
              "    .dataframe thead th {\n",
              "        text-align: right;\n",
              "    }\n",
              "</style>\n",
              "<table border=\"1\" class=\"dataframe\">\n",
              "  <thead>\n",
              "    <tr style=\"text-align: right;\">\n",
              "      <th></th>\n",
              "      <th>count</th>\n",
              "      <th>mean</th>\n",
              "      <th>std</th>\n",
              "      <th>min</th>\n",
              "      <th>25%</th>\n",
              "      <th>50%</th>\n",
              "      <th>75%</th>\n",
              "      <th>max</th>\n",
              "    </tr>\n",
              "    <tr>\n",
              "      <th>Area code</th>\n",
              "      <th></th>\n",
              "      <th></th>\n",
              "      <th></th>\n",
              "      <th></th>\n",
              "      <th></th>\n",
              "      <th></th>\n",
              "      <th></th>\n",
              "      <th></th>\n",
              "    </tr>\n",
              "  </thead>\n",
              "  <tbody>\n",
              "    <tr>\n",
              "      <th>408</th>\n",
              "      <td>838.0</td>\n",
              "      <td>0.044988</td>\n",
              "      <td>2.777215e-16</td>\n",
              "      <td>0.044988</td>\n",
              "      <td>0.044988</td>\n",
              "      <td>0.044988</td>\n",
              "      <td>0.044988</td>\n",
              "      <td>0.044988</td>\n",
              "    </tr>\n",
              "    <tr>\n",
              "      <th>415</th>\n",
              "      <td>1655.0</td>\n",
              "      <td>0.044988</td>\n",
              "      <td>1.388198e-16</td>\n",
              "      <td>0.044988</td>\n",
              "      <td>0.044988</td>\n",
              "      <td>0.044988</td>\n",
              "      <td>0.044988</td>\n",
              "      <td>0.044988</td>\n",
              "    </tr>\n",
              "    <tr>\n",
              "      <th>510</th>\n",
              "      <td>840.0</td>\n",
              "      <td>0.044988</td>\n",
              "      <td>2.707781e-16</td>\n",
              "      <td>0.044988</td>\n",
              "      <td>0.044988</td>\n",
              "      <td>0.044988</td>\n",
              "      <td>0.044988</td>\n",
              "      <td>0.044988</td>\n",
              "    </tr>\n",
              "  </tbody>\n",
              "</table>\n",
              "</div>"
            ],
            "text/plain": [
              "            count      mean           std       min       25%       50%  \\\n",
              "Area code                                                                 \n",
              "408        838.0   0.044988  2.777215e-16  0.044988  0.044988  0.044988   \n",
              "415        1655.0  0.044988  1.388198e-16  0.044988  0.044988  0.044988   \n",
              "510        840.0   0.044988  2.707781e-16  0.044988  0.044988  0.044988   \n",
              "\n",
              "                75%       max  \n",
              "Area code                      \n",
              "408        0.044988  0.044988  \n",
              "415        0.044988  0.044988  \n",
              "510        0.044988  0.044988  "
            ]
          },
          "metadata": {
            "tags": []
          },
          "execution_count": 489
        }
      ]
    },
    {
      "metadata": {
        "id": "7IfrdxBpp8TA",
        "colab_type": "code",
        "colab": {},
        "outputId": "83109270-d93e-4515-b479-37bf04a895d6"
      },
      "cell_type": "code",
      "source": [
        "data.groupby('Area code')['Intl cost'].describe()"
      ],
      "execution_count": 0,
      "outputs": [
        {
          "output_type": "execute_result",
          "data": {
            "text/html": [
              "<div>\n",
              "<style scoped>\n",
              "    .dataframe tbody tr th:only-of-type {\n",
              "        vertical-align: middle;\n",
              "    }\n",
              "\n",
              "    .dataframe tbody tr th {\n",
              "        vertical-align: top;\n",
              "    }\n",
              "\n",
              "    .dataframe thead th {\n",
              "        text-align: right;\n",
              "    }\n",
              "</style>\n",
              "<table border=\"1\" class=\"dataframe\">\n",
              "  <thead>\n",
              "    <tr style=\"text-align: right;\">\n",
              "      <th></th>\n",
              "      <th>count</th>\n",
              "      <th>mean</th>\n",
              "      <th>std</th>\n",
              "      <th>min</th>\n",
              "      <th>25%</th>\n",
              "      <th>50%</th>\n",
              "      <th>75%</th>\n",
              "      <th>max</th>\n",
              "    </tr>\n",
              "    <tr>\n",
              "      <th>Area code</th>\n",
              "      <th></th>\n",
              "      <th></th>\n",
              "      <th></th>\n",
              "      <th></th>\n",
              "      <th></th>\n",
              "      <th></th>\n",
              "      <th></th>\n",
              "      <th></th>\n",
              "    </tr>\n",
              "  </thead>\n",
              "  <tbody>\n",
              "    <tr>\n",
              "      <th>408</th>\n",
              "      <td>838.0</td>\n",
              "      <td>0.270073</td>\n",
              "      <td>2.610582e-15</td>\n",
              "      <td>0.270073</td>\n",
              "      <td>0.270073</td>\n",
              "      <td>0.270073</td>\n",
              "      <td>0.270073</td>\n",
              "      <td>0.270073</td>\n",
              "    </tr>\n",
              "    <tr>\n",
              "      <th>415</th>\n",
              "      <td>1655.0</td>\n",
              "      <td>0.270073</td>\n",
              "      <td>9.328692e-15</td>\n",
              "      <td>0.270073</td>\n",
              "      <td>0.270073</td>\n",
              "      <td>0.270073</td>\n",
              "      <td>0.270073</td>\n",
              "      <td>0.270073</td>\n",
              "    </tr>\n",
              "    <tr>\n",
              "      <th>510</th>\n",
              "      <td>840.0</td>\n",
              "      <td>0.270073</td>\n",
              "      <td>2.610578e-15</td>\n",
              "      <td>0.270073</td>\n",
              "      <td>0.270073</td>\n",
              "      <td>0.270073</td>\n",
              "      <td>0.270073</td>\n",
              "      <td>0.270073</td>\n",
              "    </tr>\n",
              "  </tbody>\n",
              "</table>\n",
              "</div>"
            ],
            "text/plain": [
              "            count      mean           std       min       25%       50%  \\\n",
              "Area code                                                                 \n",
              "408        838.0   0.270073  2.610582e-15  0.270073  0.270073  0.270073   \n",
              "415        1655.0  0.270073  9.328692e-15  0.270073  0.270073  0.270073   \n",
              "510        840.0   0.270073  2.610578e-15  0.270073  0.270073  0.270073   \n",
              "\n",
              "                75%       max  \n",
              "Area code                      \n",
              "408        0.270073  0.270073  \n",
              "415        0.270073  0.270073  \n",
              "510        0.270073  0.270073  "
            ]
          },
          "metadata": {
            "tags": []
          },
          "execution_count": 490
        }
      ]
    },
    {
      "metadata": {
        "id": "LBl-xtX8p8TF",
        "colab_type": "text"
      },
      "cell_type": "markdown",
      "source": [
        "Как мы могли заметить (по значению mean), тарифы для различных зон покрытия одинаковые и не отличаются."
      ]
    },
    {
      "metadata": {
        "id": "iJwR4zfjp8TG",
        "colab_type": "text"
      },
      "cell_type": "markdown",
      "source": [
        "### Задание 6  \n",
        "  \n",
        "По каждому штату и каждому плану в признаке `Plans` (International и Voice mail) вычислите количество клиентов, подключивших этот план и их долю внутри штата. Пример вывода:\n",
        "  \n",
        "<table border=\"1\" class=\"dataframe\">\n",
        "  <thead>\n",
        "    <tr style=\"text-align: right;\">\n",
        "      <th></th>\n",
        "      <th>State</th>\n",
        "      <th>Plan</th>\n",
        "      <th>Count</th>\n",
        "      <th>Frac</th>\n",
        "    </tr>\n",
        "  </thead>\n",
        "  <tbody>\n",
        "    <tr>\n",
        "      <th>0</th>\n",
        "      <td>state_1</td>\n",
        "      <td>International</td>\n",
        "      <td>40</td>\n",
        "      <td>0.4</td>\n",
        "    </tr>\n",
        "    <tr>\n",
        "      <th>1</th>\n",
        "      <td>state_1</td>\n",
        "      <td>Voice mail</td>\n",
        "      <td>30</td>\n",
        "      <td>0.3</td>\n",
        "    </tr>\n",
        "    <tr>\n",
        "      <th>2</th>\n",
        "      <td>state_2</td>\n",
        "      <td>International</td>\n",
        "      <td>25</td>\n",
        "      <td>0.5</td>\n",
        "    </tr>\n",
        "    <tr>\n",
        "      <th>3</th>\n",
        "      <td>state_2</td>\n",
        "      <td>Voice mail</td>\n",
        "      <td>35</td>\n",
        "      <td>0.7</td>\n",
        "    </tr>\n",
        "  </tbody>\n",
        "</table>"
      ]
    },
    {
      "metadata": {
        "collapsed": true,
        "id": "_dGcVbodp8TH",
        "colab_type": "code",
        "colab": {}
      },
      "cell_type": "code",
      "source": [
        "new_data = data.copy()"
      ],
      "execution_count": 0,
      "outputs": []
    },
    {
      "metadata": {
        "id": "m8U2Nhmvp8TN",
        "colab_type": "code",
        "colab": {},
        "outputId": "fd5bb1c9-4bcd-4e76-effd-0f98ac4a41b8"
      },
      "cell_type": "code",
      "source": [
        "new_data.head(3)"
      ],
      "execution_count": 0,
      "outputs": [
        {
          "output_type": "execute_result",
          "data": {
            "text/html": [
              "<div>\n",
              "<style scoped>\n",
              "    .dataframe tbody tr th:only-of-type {\n",
              "        vertical-align: middle;\n",
              "    }\n",
              "\n",
              "    .dataframe tbody tr th {\n",
              "        vertical-align: top;\n",
              "    }\n",
              "\n",
              "    .dataframe thead th {\n",
              "        text-align: right;\n",
              "    }\n",
              "</style>\n",
              "<table border=\"1\" class=\"dataframe\">\n",
              "  <thead>\n",
              "    <tr style=\"text-align: right;\">\n",
              "      <th></th>\n",
              "      <th>ID</th>\n",
              "      <th>Sex</th>\n",
              "      <th>Age</th>\n",
              "      <th>State</th>\n",
              "      <th>Account length</th>\n",
              "      <th>Phone number</th>\n",
              "      <th>Plans</th>\n",
              "      <th>Number vmail messages</th>\n",
              "      <th>Total day minutes</th>\n",
              "      <th>Total day calls</th>\n",
              "      <th>Total day charge</th>\n",
              "      <th>Total eve minutes</th>\n",
              "      <th>...</th>\n",
              "      <th>Total night charge</th>\n",
              "      <th>Total intl minutes</th>\n",
              "      <th>Total intl calls</th>\n",
              "      <th>Total intl charge</th>\n",
              "      <th>Total charge</th>\n",
              "      <th>Customer service calls</th>\n",
              "      <th>Churn</th>\n",
              "      <th>Area code</th>\n",
              "      <th>Day cost</th>\n",
              "      <th>Eve cost</th>\n",
              "      <th>Night cost</th>\n",
              "      <th>Intl cost</th>\n",
              "    </tr>\n",
              "  </thead>\n",
              "  <tbody>\n",
              "    <tr>\n",
              "      <th>0</th>\n",
              "      <td>40075</td>\n",
              "      <td>Female</td>\n",
              "      <td>37.000000</td>\n",
              "      <td>KS</td>\n",
              "      <td>128</td>\n",
              "      <td>415 424 17 55</td>\n",
              "      <td>Voice mail</td>\n",
              "      <td>25</td>\n",
              "      <td>265.1</td>\n",
              "      <td>110.0</td>\n",
              "      <td>45.07</td>\n",
              "      <td>197.4</td>\n",
              "      <td>...</td>\n",
              "      <td>11.01</td>\n",
              "      <td>10.0</td>\n",
              "      <td>3.0</td>\n",
              "      <td>2.70</td>\n",
              "      <td>75.56</td>\n",
              "      <td>1</td>\n",
              "      <td>False</td>\n",
              "      <td>415</td>\n",
              "      <td>0.170009</td>\n",
              "      <td>0.084994</td>\n",
              "      <td>0.044988</td>\n",
              "      <td>0.270073</td>\n",
              "    </tr>\n",
              "    <tr>\n",
              "      <th>1</th>\n",
              "      <td>17475</td>\n",
              "      <td>Female</td>\n",
              "      <td>34.504501</td>\n",
              "      <td>OH</td>\n",
              "      <td>107</td>\n",
              "      <td>415 759 41 43</td>\n",
              "      <td>Voice mail</td>\n",
              "      <td>26</td>\n",
              "      <td>161.6</td>\n",
              "      <td>123.0</td>\n",
              "      <td>27.47</td>\n",
              "      <td>195.5</td>\n",
              "      <td>...</td>\n",
              "      <td>11.45</td>\n",
              "      <td>13.7</td>\n",
              "      <td>3.0</td>\n",
              "      <td>3.70</td>\n",
              "      <td>59.24</td>\n",
              "      <td>1</td>\n",
              "      <td>False</td>\n",
              "      <td>415</td>\n",
              "      <td>0.170009</td>\n",
              "      <td>0.084994</td>\n",
              "      <td>0.044988</td>\n",
              "      <td>0.270073</td>\n",
              "    </tr>\n",
              "    <tr>\n",
              "      <th>2</th>\n",
              "      <td>62242</td>\n",
              "      <td>Female</td>\n",
              "      <td>19.000000</td>\n",
              "      <td>NJ</td>\n",
              "      <td>137</td>\n",
              "      <td>415 213 11 40</td>\n",
              "      <td>None</td>\n",
              "      <td>0</td>\n",
              "      <td>243.4</td>\n",
              "      <td>114.0</td>\n",
              "      <td>41.38</td>\n",
              "      <td>121.2</td>\n",
              "      <td>...</td>\n",
              "      <td>7.32</td>\n",
              "      <td>12.2</td>\n",
              "      <td>5.0</td>\n",
              "      <td>3.29</td>\n",
              "      <td>62.29</td>\n",
              "      <td>0</td>\n",
              "      <td>False</td>\n",
              "      <td>415</td>\n",
              "      <td>0.170009</td>\n",
              "      <td>0.084994</td>\n",
              "      <td>0.044988</td>\n",
              "      <td>0.270073</td>\n",
              "    </tr>\n",
              "  </tbody>\n",
              "</table>\n",
              "<p>3 rows × 28 columns</p>\n",
              "</div>"
            ],
            "text/plain": [
              "      ID     Sex        Age State  Account length   Phone number       Plans  \\\n",
              "0  40075  Female  37.000000  KS    128             415 424 17 55  Voice mail   \n",
              "1  17475  Female  34.504501  OH    107             415 759 41 43  Voice mail   \n",
              "2  62242  Female  19.000000  NJ    137             415 213 11 40  None         \n",
              "\n",
              "   Number vmail messages  Total day minutes  Total day calls  \\\n",
              "0  25                     265.1              110.0             \n",
              "1  26                     161.6              123.0             \n",
              "2  0                      243.4              114.0             \n",
              "\n",
              "   Total day charge  Total eve minutes    ...      Total night charge  \\\n",
              "0  45.07             197.4                ...      11.01                \n",
              "1  27.47             195.5                ...      11.45                \n",
              "2  41.38             121.2                ...      7.32                 \n",
              "\n",
              "   Total intl minutes  Total intl calls  Total intl charge  Total charge  \\\n",
              "0  10.0                3.0               2.70               75.56          \n",
              "1  13.7                3.0               3.70               59.24          \n",
              "2  12.2                5.0               3.29               62.29          \n",
              "\n",
              "   Customer service calls  Churn  Area code  Day cost  Eve cost  Night cost  \\\n",
              "0  1                       False  415        0.170009  0.084994  0.044988     \n",
              "1  1                       False  415        0.170009  0.084994  0.044988     \n",
              "2  0                       False  415        0.170009  0.084994  0.044988     \n",
              "\n",
              "   Intl cost  \n",
              "0  0.270073   \n",
              "1  0.270073   \n",
              "2  0.270073   \n",
              "\n",
              "[3 rows x 28 columns]"
            ]
          },
          "metadata": {
            "tags": []
          },
          "execution_count": 492
        }
      ]
    },
    {
      "metadata": {
        "collapsed": true,
        "id": "B6Cc5X1rp8TS",
        "colab_type": "code",
        "colab": {}
      },
      "cell_type": "code",
      "source": [
        "new_data.drop(new_data[new_data['Plans'] == 'None'].index, inplace = True)\n",
        "\n",
        "new_data = new_data.reset_index()\n",
        "\n",
        "for i in range(len(new_data)):\n",
        "    if new_data.Plans[i] == 'International, Voice mail' :\n",
        "        new_data.append(new_data.loc[i], ignore_index = True)\n",
        "        new_data.Plans[i] = 'International'\n",
        "        new_data.Plans[len(new_data)-1] = 'Voice mail'\n",
        "        \n",
        "plans = new_data.groupby(['State', 'Plans'])['ID'].count().reset_index()\n",
        "states = data['State'].value_counts().reset_index().rename(index=str, columns = {'index' : 'State', 'State' : 'Count'})\n",
        "\n",
        "new_data = pd.merge(plans, states)\n",
        "\n",
        "new_data['Frac'] = new_data['ID'] / new_data['Count']\n",
        "new_data.drop(['Count'], axis = 1, inplace=True)\n",
        "new_data.rename(index=str, columns = {'ID' : 'Count'}, inplace=True)"
      ],
      "execution_count": 0,
      "outputs": []
    },
    {
      "metadata": {
        "id": "q6WiJF1Mp8TV",
        "colab_type": "code",
        "colab": {},
        "outputId": "1ff9b90c-dc04-4d7d-b204-4b354ee4ae39"
      },
      "cell_type": "code",
      "source": [
        "new_data.head(5)"
      ],
      "execution_count": 0,
      "outputs": [
        {
          "output_type": "execute_result",
          "data": {
            "text/html": [
              "<div>\n",
              "<style scoped>\n",
              "    .dataframe tbody tr th:only-of-type {\n",
              "        vertical-align: middle;\n",
              "    }\n",
              "\n",
              "    .dataframe tbody tr th {\n",
              "        vertical-align: top;\n",
              "    }\n",
              "\n",
              "    .dataframe thead th {\n",
              "        text-align: right;\n",
              "    }\n",
              "</style>\n",
              "<table border=\"1\" class=\"dataframe\">\n",
              "  <thead>\n",
              "    <tr style=\"text-align: right;\">\n",
              "      <th></th>\n",
              "      <th>State</th>\n",
              "      <th>Plans</th>\n",
              "      <th>Count</th>\n",
              "      <th>Frac</th>\n",
              "    </tr>\n",
              "  </thead>\n",
              "  <tbody>\n",
              "    <tr>\n",
              "      <th>0</th>\n",
              "      <td>AK</td>\n",
              "      <td>International</td>\n",
              "      <td>4</td>\n",
              "      <td>0.076923</td>\n",
              "    </tr>\n",
              "    <tr>\n",
              "      <th>1</th>\n",
              "      <td>AK</td>\n",
              "      <td>Voice mail</td>\n",
              "      <td>14</td>\n",
              "      <td>0.269231</td>\n",
              "    </tr>\n",
              "    <tr>\n",
              "      <th>2</th>\n",
              "      <td>AL</td>\n",
              "      <td>International</td>\n",
              "      <td>8</td>\n",
              "      <td>0.100000</td>\n",
              "    </tr>\n",
              "    <tr>\n",
              "      <th>3</th>\n",
              "      <td>AL</td>\n",
              "      <td>Voice mail</td>\n",
              "      <td>20</td>\n",
              "      <td>0.250000</td>\n",
              "    </tr>\n",
              "    <tr>\n",
              "      <th>4</th>\n",
              "      <td>AR</td>\n",
              "      <td>International</td>\n",
              "      <td>8</td>\n",
              "      <td>0.145455</td>\n",
              "    </tr>\n",
              "  </tbody>\n",
              "</table>\n",
              "</div>"
            ],
            "text/plain": [
              "  State          Plans  Count      Frac\n",
              "0  AK    International  4      0.076923\n",
              "1  AK    Voice mail     14     0.269231\n",
              "2  AL    International  8      0.100000\n",
              "3  AL    Voice mail     20     0.250000\n",
              "4  AR    International  8      0.145455"
            ]
          },
          "metadata": {
            "tags": []
          },
          "execution_count": 494
        }
      ]
    },
    {
      "metadata": {
        "id": "8zjxd_FEp8Ta",
        "colab_type": "text"
      },
      "cell_type": "markdown",
      "source": [
        "### Задание 7  \n",
        "  \n",
        "Для нечисловых признаков выполните преобразование к числовому виду. Обоснуйте выбранное преобразование для каждого признака. "
      ]
    },
    {
      "metadata": {
        "id": "BoKshyySp8Ta",
        "colab_type": "code",
        "colab": {},
        "outputId": "856a57ad-cd33-4a85-e5be-f8bdc4961024"
      },
      "cell_type": "code",
      "source": [
        "data = data.replace({'Sex': {'Female' : '0', 'Male' : '1'}})\n",
        "data = data.replace({'Plans': {'Voice mail' : '1', 'International' : '2', 'None' : '0', 'International, Voice mail' : '3'}})\n",
        "data['Phone number'] = data['Phone number'].str.replace(' ', '').apply(pd.to_numeric)\n",
        "\n",
        "data.head(4)"
      ],
      "execution_count": 0,
      "outputs": [
        {
          "output_type": "execute_result",
          "data": {
            "text/html": [
              "<div>\n",
              "<style scoped>\n",
              "    .dataframe tbody tr th:only-of-type {\n",
              "        vertical-align: middle;\n",
              "    }\n",
              "\n",
              "    .dataframe tbody tr th {\n",
              "        vertical-align: top;\n",
              "    }\n",
              "\n",
              "    .dataframe thead th {\n",
              "        text-align: right;\n",
              "    }\n",
              "</style>\n",
              "<table border=\"1\" class=\"dataframe\">\n",
              "  <thead>\n",
              "    <tr style=\"text-align: right;\">\n",
              "      <th></th>\n",
              "      <th>ID</th>\n",
              "      <th>Sex</th>\n",
              "      <th>Age</th>\n",
              "      <th>State</th>\n",
              "      <th>Account length</th>\n",
              "      <th>Phone number</th>\n",
              "      <th>Plans</th>\n",
              "      <th>Number vmail messages</th>\n",
              "      <th>Total day minutes</th>\n",
              "      <th>Total day calls</th>\n",
              "      <th>Total day charge</th>\n",
              "      <th>Total eve minutes</th>\n",
              "      <th>...</th>\n",
              "      <th>Total night charge</th>\n",
              "      <th>Total intl minutes</th>\n",
              "      <th>Total intl calls</th>\n",
              "      <th>Total intl charge</th>\n",
              "      <th>Total charge</th>\n",
              "      <th>Customer service calls</th>\n",
              "      <th>Churn</th>\n",
              "      <th>Area code</th>\n",
              "      <th>Day cost</th>\n",
              "      <th>Eve cost</th>\n",
              "      <th>Night cost</th>\n",
              "      <th>Intl cost</th>\n",
              "    </tr>\n",
              "  </thead>\n",
              "  <tbody>\n",
              "    <tr>\n",
              "      <th>0</th>\n",
              "      <td>40075</td>\n",
              "      <td>0</td>\n",
              "      <td>37.000000</td>\n",
              "      <td>KS</td>\n",
              "      <td>128</td>\n",
              "      <td>4154241755</td>\n",
              "      <td>1</td>\n",
              "      <td>25</td>\n",
              "      <td>265.1</td>\n",
              "      <td>110.0</td>\n",
              "      <td>45.07</td>\n",
              "      <td>197.4</td>\n",
              "      <td>...</td>\n",
              "      <td>11.01</td>\n",
              "      <td>10.0</td>\n",
              "      <td>3.0</td>\n",
              "      <td>2.70</td>\n",
              "      <td>75.56</td>\n",
              "      <td>1</td>\n",
              "      <td>False</td>\n",
              "      <td>415</td>\n",
              "      <td>0.170009</td>\n",
              "      <td>0.084994</td>\n",
              "      <td>0.044988</td>\n",
              "      <td>0.270073</td>\n",
              "    </tr>\n",
              "    <tr>\n",
              "      <th>1</th>\n",
              "      <td>17475</td>\n",
              "      <td>0</td>\n",
              "      <td>34.504501</td>\n",
              "      <td>OH</td>\n",
              "      <td>107</td>\n",
              "      <td>4157594143</td>\n",
              "      <td>1</td>\n",
              "      <td>26</td>\n",
              "      <td>161.6</td>\n",
              "      <td>123.0</td>\n",
              "      <td>27.47</td>\n",
              "      <td>195.5</td>\n",
              "      <td>...</td>\n",
              "      <td>11.45</td>\n",
              "      <td>13.7</td>\n",
              "      <td>3.0</td>\n",
              "      <td>3.70</td>\n",
              "      <td>59.24</td>\n",
              "      <td>1</td>\n",
              "      <td>False</td>\n",
              "      <td>415</td>\n",
              "      <td>0.170009</td>\n",
              "      <td>0.084994</td>\n",
              "      <td>0.044988</td>\n",
              "      <td>0.270073</td>\n",
              "    </tr>\n",
              "    <tr>\n",
              "      <th>2</th>\n",
              "      <td>62242</td>\n",
              "      <td>0</td>\n",
              "      <td>19.000000</td>\n",
              "      <td>NJ</td>\n",
              "      <td>137</td>\n",
              "      <td>4152131140</td>\n",
              "      <td>0</td>\n",
              "      <td>0</td>\n",
              "      <td>243.4</td>\n",
              "      <td>114.0</td>\n",
              "      <td>41.38</td>\n",
              "      <td>121.2</td>\n",
              "      <td>...</td>\n",
              "      <td>7.32</td>\n",
              "      <td>12.2</td>\n",
              "      <td>5.0</td>\n",
              "      <td>3.29</td>\n",
              "      <td>62.29</td>\n",
              "      <td>0</td>\n",
              "      <td>False</td>\n",
              "      <td>415</td>\n",
              "      <td>0.170009</td>\n",
              "      <td>0.084994</td>\n",
              "      <td>0.044988</td>\n",
              "      <td>0.270073</td>\n",
              "    </tr>\n",
              "    <tr>\n",
              "      <th>3</th>\n",
              "      <td>81231</td>\n",
              "      <td>0</td>\n",
              "      <td>31.000000</td>\n",
              "      <td>OH</td>\n",
              "      <td>84</td>\n",
              "      <td>4084875335</td>\n",
              "      <td>2</td>\n",
              "      <td>0</td>\n",
              "      <td>299.4</td>\n",
              "      <td>71.0</td>\n",
              "      <td>50.90</td>\n",
              "      <td>61.9</td>\n",
              "      <td>...</td>\n",
              "      <td>8.86</td>\n",
              "      <td>6.6</td>\n",
              "      <td>7.0</td>\n",
              "      <td>1.78</td>\n",
              "      <td>66.80</td>\n",
              "      <td>2</td>\n",
              "      <td>False</td>\n",
              "      <td>408</td>\n",
              "      <td>0.170009</td>\n",
              "      <td>0.084994</td>\n",
              "      <td>0.044988</td>\n",
              "      <td>0.270073</td>\n",
              "    </tr>\n",
              "  </tbody>\n",
              "</table>\n",
              "<p>4 rows × 28 columns</p>\n",
              "</div>"
            ],
            "text/plain": [
              "      ID Sex        Age State  Account length  Phone number Plans  \\\n",
              "0  40075  0   37.000000  KS    128             4154241755    1      \n",
              "1  17475  0   34.504501  OH    107             4157594143    1      \n",
              "2  62242  0   19.000000  NJ    137             4152131140    0      \n",
              "3  81231  0   31.000000  OH    84              4084875335    2      \n",
              "\n",
              "   Number vmail messages  Total day minutes  Total day calls  \\\n",
              "0  25                     265.1              110.0             \n",
              "1  26                     161.6              123.0             \n",
              "2  0                      243.4              114.0             \n",
              "3  0                      299.4              71.0              \n",
              "\n",
              "   Total day charge  Total eve minutes    ...      Total night charge  \\\n",
              "0  45.07             197.4                ...      11.01                \n",
              "1  27.47             195.5                ...      11.45                \n",
              "2  41.38             121.2                ...      7.32                 \n",
              "3  50.90             61.9                 ...      8.86                 \n",
              "\n",
              "   Total intl minutes  Total intl calls  Total intl charge  Total charge  \\\n",
              "0  10.0                3.0               2.70               75.56          \n",
              "1  13.7                3.0               3.70               59.24          \n",
              "2  12.2                5.0               3.29               62.29          \n",
              "3  6.6                 7.0               1.78               66.80          \n",
              "\n",
              "   Customer service calls  Churn  Area code  Day cost  Eve cost  Night cost  \\\n",
              "0  1                       False  415        0.170009  0.084994  0.044988     \n",
              "1  1                       False  415        0.170009  0.084994  0.044988     \n",
              "2  0                       False  415        0.170009  0.084994  0.044988     \n",
              "3  2                       False  408        0.170009  0.084994  0.044988     \n",
              "\n",
              "   Intl cost  \n",
              "0  0.270073   \n",
              "1  0.270073   \n",
              "2  0.270073   \n",
              "3  0.270073   \n",
              "\n",
              "[4 rows x 28 columns]"
            ]
          },
          "metadata": {
            "tags": []
          },
          "execution_count": 495
        }
      ]
    },
    {
      "metadata": {
        "collapsed": true,
        "id": "8UXEXJDTp8Te",
        "colab_type": "code",
        "colab": {}
      },
      "cell_type": "code",
      "source": [
        "list_states = data['State'].values\n",
        "unique_states = np.unique(list_states)\n",
        "\n",
        "for i in range(0, 51):\n",
        "    data['State'] = data['State'].str.replace(str(unique_states[i]), str(i))\n",
        "    \n",
        "data[['State']] = data[['State']].apply(pd.to_numeric)"
      ],
      "execution_count": 0,
      "outputs": []
    },
    {
      "metadata": {
        "collapsed": true,
        "id": "Un7ys4ZOp8Tk",
        "colab_type": "code",
        "colab": {}
      },
      "cell_type": "code",
      "source": [
        "data['Sex'] = data['Sex'].astype('int64')\n",
        "data['Plans'] = data['Plans'].astype('int64')"
      ],
      "execution_count": 0,
      "outputs": []
    },
    {
      "metadata": {
        "id": "dEle0Pt_p8To",
        "colab_type": "code",
        "colab": {},
        "outputId": "5a15075a-0cca-45cd-9bf8-141814bb752d"
      },
      "cell_type": "code",
      "source": [
        "data.info()"
      ],
      "execution_count": 0,
      "outputs": [
        {
          "output_type": "stream",
          "text": [
            "<class 'pandas.core.frame.DataFrame'>\n",
            "RangeIndex: 3333 entries, 0 to 3332\n",
            "Data columns (total 28 columns):\n",
            "ID                        3333 non-null int64\n",
            "Sex                       3333 non-null int64\n",
            "Age                       3333 non-null float64\n",
            "State                     3333 non-null int64\n",
            "Account length            3333 non-null int64\n",
            "Phone number              3333 non-null int64\n",
            "Plans                     3333 non-null int64\n",
            "Number vmail messages     3333 non-null int64\n",
            "Total day minutes         3333 non-null float64\n",
            "Total day calls           3333 non-null float64\n",
            "Total day charge          3333 non-null float64\n",
            "Total eve minutes         3333 non-null float64\n",
            "Total eve calls           3333 non-null float64\n",
            "Total eve charge          3333 non-null float64\n",
            "Total night minutes       3333 non-null float64\n",
            "Total night calls         3333 non-null float64\n",
            "Total night charge        3333 non-null float64\n",
            "Total intl minutes        3333 non-null float64\n",
            "Total intl calls          3333 non-null float64\n",
            "Total intl charge         3333 non-null float64\n",
            "Total charge              3333 non-null float64\n",
            "Customer service calls    3333 non-null int64\n",
            "Churn                     3333 non-null bool\n",
            "Area code                 3333 non-null int64\n",
            "Day cost                  3333 non-null float64\n",
            "Eve cost                  3333 non-null float64\n",
            "Night cost                3333 non-null float64\n",
            "Intl cost                 3333 non-null float64\n",
            "dtypes: bool(1), float64(18), int64(9)\n",
            "memory usage: 706.4 KB\n"
          ],
          "name": "stdout"
        }
      ]
    },
    {
      "metadata": {
        "id": "ziK2b4Fmp8Tw",
        "colab_type": "text"
      },
      "cell_type": "markdown",
      "source": [
        "### Задание 8  \n",
        "  \n",
        "Сколько линейно-зависимых признаков присуствует в данных?  \n",
        "Определите и удалите признаки, которые линейно зависят от остальных."
      ]
    },
    {
      "metadata": {
        "id": "yUMoPkFbp8Tx",
        "colab_type": "code",
        "colab": {},
        "outputId": "6bc4dcf2-a835-46a6-dbbb-c92138ff8b0f"
      },
      "cell_type": "code",
      "source": [
        "data.corr()"
      ],
      "execution_count": 0,
      "outputs": [
        {
          "output_type": "execute_result",
          "data": {
            "text/html": [
              "<div>\n",
              "<style scoped>\n",
              "    .dataframe tbody tr th:only-of-type {\n",
              "        vertical-align: middle;\n",
              "    }\n",
              "\n",
              "    .dataframe tbody tr th {\n",
              "        vertical-align: top;\n",
              "    }\n",
              "\n",
              "    .dataframe thead th {\n",
              "        text-align: right;\n",
              "    }\n",
              "</style>\n",
              "<table border=\"1\" class=\"dataframe\">\n",
              "  <thead>\n",
              "    <tr style=\"text-align: right;\">\n",
              "      <th></th>\n",
              "      <th>ID</th>\n",
              "      <th>Sex</th>\n",
              "      <th>Age</th>\n",
              "      <th>State</th>\n",
              "      <th>Account length</th>\n",
              "      <th>Phone number</th>\n",
              "      <th>Plans</th>\n",
              "      <th>Number vmail messages</th>\n",
              "      <th>Total day minutes</th>\n",
              "      <th>Total day calls</th>\n",
              "      <th>Total day charge</th>\n",
              "      <th>Total eve minutes</th>\n",
              "      <th>...</th>\n",
              "      <th>Total night charge</th>\n",
              "      <th>Total intl minutes</th>\n",
              "      <th>Total intl calls</th>\n",
              "      <th>Total intl charge</th>\n",
              "      <th>Total charge</th>\n",
              "      <th>Customer service calls</th>\n",
              "      <th>Churn</th>\n",
              "      <th>Area code</th>\n",
              "      <th>Day cost</th>\n",
              "      <th>Eve cost</th>\n",
              "      <th>Night cost</th>\n",
              "      <th>Intl cost</th>\n",
              "    </tr>\n",
              "  </thead>\n",
              "  <tbody>\n",
              "    <tr>\n",
              "      <th>ID</th>\n",
              "      <td>1.000000e+00</td>\n",
              "      <td>-1.044890e-02</td>\n",
              "      <td>-1.419577e-02</td>\n",
              "      <td>-2.394812e-02</td>\n",
              "      <td>-1.659955e-02</td>\n",
              "      <td>-1.642188e-04</td>\n",
              "      <td>1.645982e-02</td>\n",
              "      <td>-2.036087e-02</td>\n",
              "      <td>1.073995e-02</td>\n",
              "      <td>5.606874e-02</td>\n",
              "      <td>1.073951e-02</td>\n",
              "      <td>1.909680e-02</td>\n",
              "      <td>...</td>\n",
              "      <td>-1.023016e-03</td>\n",
              "      <td>1.582428e-02</td>\n",
              "      <td>8.416481e-03</td>\n",
              "      <td>1.582630e-02</td>\n",
              "      <td>1.740054e-02</td>\n",
              "      <td>1.657236e-02</td>\n",
              "      <td>4.713963e-02</td>\n",
              "      <td>5.724255e-05</td>\n",
              "      <td>-4.388292e-16</td>\n",
              "      <td>4.448992e-16</td>\n",
              "      <td>5.608721e-16</td>\n",
              "      <td>3.736663e-16</td>\n",
              "    </tr>\n",
              "    <tr>\n",
              "      <th>Sex</th>\n",
              "      <td>-1.044890e-02</td>\n",
              "      <td>1.000000e+00</td>\n",
              "      <td>9.690194e-03</td>\n",
              "      <td>-2.471007e-02</td>\n",
              "      <td>-3.322147e-02</td>\n",
              "      <td>-1.837849e-02</td>\n",
              "      <td>1.931164e-02</td>\n",
              "      <td>6.578438e-03</td>\n",
              "      <td>2.401611e-02</td>\n",
              "      <td>2.532569e-02</td>\n",
              "      <td>2.402348e-02</td>\n",
              "      <td>6.159425e-04</td>\n",
              "      <td>...</td>\n",
              "      <td>4.655161e-03</td>\n",
              "      <td>2.336080e-02</td>\n",
              "      <td>-5.576471e-03</td>\n",
              "      <td>2.347708e-02</td>\n",
              "      <td>2.337831e-02</td>\n",
              "      <td>8.171014e-03</td>\n",
              "      <td>3.413041e-02</td>\n",
              "      <td>-1.823072e-02</td>\n",
              "      <td>-4.057083e-16</td>\n",
              "      <td>3.007377e-16</td>\n",
              "      <td>-2.709624e-16</td>\n",
              "      <td>4.290209e-16</td>\n",
              "    </tr>\n",
              "    <tr>\n",
              "      <th>Age</th>\n",
              "      <td>-1.419577e-02</td>\n",
              "      <td>9.690194e-03</td>\n",
              "      <td>1.000000e+00</td>\n",
              "      <td>1.831308e-02</td>\n",
              "      <td>-2.319941e-02</td>\n",
              "      <td>-8.004639e-03</td>\n",
              "      <td>-3.417345e-02</td>\n",
              "      <td>-1.434118e-03</td>\n",
              "      <td>-8.822428e-03</td>\n",
              "      <td>1.358471e-02</td>\n",
              "      <td>-8.829204e-03</td>\n",
              "      <td>-1.164749e-02</td>\n",
              "      <td>...</td>\n",
              "      <td>-2.311171e-02</td>\n",
              "      <td>-2.686698e-02</td>\n",
              "      <td>-3.585190e-02</td>\n",
              "      <td>-2.685821e-02</td>\n",
              "      <td>-1.851726e-02</td>\n",
              "      <td>1.099395e-02</td>\n",
              "      <td>-1.927359e-02</td>\n",
              "      <td>-7.992670e-03</td>\n",
              "      <td>1.231133e-13</td>\n",
              "      <td>-1.227534e-13</td>\n",
              "      <td>1.227942e-13</td>\n",
              "      <td>-1.228343e-13</td>\n",
              "    </tr>\n",
              "    <tr>\n",
              "      <th>State</th>\n",
              "      <td>-2.394812e-02</td>\n",
              "      <td>-2.471007e-02</td>\n",
              "      <td>1.831308e-02</td>\n",
              "      <td>1.000000e+00</td>\n",
              "      <td>3.677624e-03</td>\n",
              "      <td>1.583891e-02</td>\n",
              "      <td>-2.269752e-02</td>\n",
              "      <td>-2.776213e-02</td>\n",
              "      <td>-1.470829e-03</td>\n",
              "      <td>2.876444e-03</td>\n",
              "      <td>-1.470696e-03</td>\n",
              "      <td>1.693419e-02</td>\n",
              "      <td>...</td>\n",
              "      <td>2.754260e-02</td>\n",
              "      <td>-4.675942e-03</td>\n",
              "      <td>1.513684e-02</td>\n",
              "      <td>-4.665382e-03</td>\n",
              "      <td>1.050271e-02</td>\n",
              "      <td>-2.586065e-02</td>\n",
              "      <td>7.780314e-03</td>\n",
              "      <td>1.581410e-02</td>\n",
              "      <td>-2.412714e-16</td>\n",
              "      <td>-2.947027e-16</td>\n",
              "      <td>-6.650370e-16</td>\n",
              "      <td>5.739001e-16</td>\n",
              "    </tr>\n",
              "    <tr>\n",
              "      <th>Account length</th>\n",
              "      <td>-1.659955e-02</td>\n",
              "      <td>-3.322147e-02</td>\n",
              "      <td>-2.319941e-02</td>\n",
              "      <td>3.677624e-03</td>\n",
              "      <td>1.000000e+00</td>\n",
              "      <td>-1.246845e-02</td>\n",
              "      <td>2.142851e-02</td>\n",
              "      <td>-4.627824e-03</td>\n",
              "      <td>1.114693e-02</td>\n",
              "      <td>4.189633e-02</td>\n",
              "      <td>1.114460e-02</td>\n",
              "      <td>-2.495030e-03</td>\n",
              "      <td>...</td>\n",
              "      <td>-5.322643e-03</td>\n",
              "      <td>1.181584e-02</td>\n",
              "      <td>2.301951e-02</td>\n",
              "      <td>1.186038e-02</td>\n",
              "      <td>8.329346e-03</td>\n",
              "      <td>-3.795939e-03</td>\n",
              "      <td>1.654074e-02</td>\n",
              "      <td>-1.246350e-02</td>\n",
              "      <td>1.672809e-15</td>\n",
              "      <td>1.042363e-15</td>\n",
              "      <td>1.791777e-15</td>\n",
              "      <td>-1.282276e-15</td>\n",
              "    </tr>\n",
              "    <tr>\n",
              "      <th>Phone number</th>\n",
              "      <td>-1.642188e-04</td>\n",
              "      <td>-1.837849e-02</td>\n",
              "      <td>-8.004639e-03</td>\n",
              "      <td>1.583891e-02</td>\n",
              "      <td>-1.246845e-02</td>\n",
              "      <td>1.000000e+00</td>\n",
              "      <td>3.817973e-02</td>\n",
              "      <td>-1.978761e-03</td>\n",
              "      <td>-5.065636e-03</td>\n",
              "      <td>-7.510867e-03</td>\n",
              "      <td>-5.066155e-03</td>\n",
              "      <td>4.468693e-03</td>\n",
              "      <td>...</td>\n",
              "      <td>-3.293703e-03</td>\n",
              "      <td>-1.631452e-02</td>\n",
              "      <td>-2.284824e-02</td>\n",
              "      <td>-1.640984e-02</td>\n",
              "      <td>-4.388152e-03</td>\n",
              "      <td>2.761395e-02</td>\n",
              "      <td>6.135952e-03</td>\n",
              "      <td>9.999814e-01</td>\n",
              "      <td>-4.591657e-16</td>\n",
              "      <td>5.677029e-17</td>\n",
              "      <td>4.593260e-17</td>\n",
              "      <td>5.358594e-16</td>\n",
              "    </tr>\n",
              "    <tr>\n",
              "      <th>Plans</th>\n",
              "      <td>1.645982e-02</td>\n",
              "      <td>1.931164e-02</td>\n",
              "      <td>-3.417345e-02</td>\n",
              "      <td>-2.269752e-02</td>\n",
              "      <td>2.142851e-02</td>\n",
              "      <td>3.817973e-02</td>\n",
              "      <td>1.000000e+00</td>\n",
              "      <td>5.824021e-01</td>\n",
              "      <td>3.394954e-02</td>\n",
              "      <td>-6.110922e-03</td>\n",
              "      <td>3.395103e-02</td>\n",
              "      <td>2.634115e-02</td>\n",
              "      <td>...</td>\n",
              "      <td>-2.037962e-02</td>\n",
              "      <td>3.421817e-02</td>\n",
              "      <td>1.783326e-02</td>\n",
              "      <td>3.416261e-02</td>\n",
              "      <td>3.741751e-02</td>\n",
              "      <td>-3.022275e-02</td>\n",
              "      <td>1.452552e-01</td>\n",
              "      <td>3.816700e-02</td>\n",
              "      <td>1.824181e-16</td>\n",
              "      <td>7.445138e-16</td>\n",
              "      <td>4.456384e-17</td>\n",
              "      <td>2.287786e-16</td>\n",
              "    </tr>\n",
              "    <tr>\n",
              "      <th>Number vmail messages</th>\n",
              "      <td>-2.036087e-02</td>\n",
              "      <td>6.578438e-03</td>\n",
              "      <td>-1.434118e-03</td>\n",
              "      <td>-2.776213e-02</td>\n",
              "      <td>-4.627824e-03</td>\n",
              "      <td>-1.978761e-03</td>\n",
              "      <td>5.824021e-01</td>\n",
              "      <td>1.000000e+00</td>\n",
              "      <td>-4.984348e-03</td>\n",
              "      <td>-1.358182e-02</td>\n",
              "      <td>-4.986244e-03</td>\n",
              "      <td>1.357696e-02</td>\n",
              "      <td>...</td>\n",
              "      <td>3.345408e-03</td>\n",
              "      <td>-1.187269e-03</td>\n",
              "      <td>1.107412e-02</td>\n",
              "      <td>-1.157466e-03</td>\n",
              "      <td>1.535805e-03</td>\n",
              "      <td>-1.326258e-02</td>\n",
              "      <td>-8.972797e-02</td>\n",
              "      <td>-1.994370e-03</td>\n",
              "      <td>3.193436e-17</td>\n",
              "      <td>-4.185288e-16</td>\n",
              "      <td>-3.257347e-16</td>\n",
              "      <td>-8.285029e-16</td>\n",
              "    </tr>\n",
              "    <tr>\n",
              "      <th>Total day minutes</th>\n",
              "      <td>1.073995e-02</td>\n",
              "      <td>2.401611e-02</td>\n",
              "      <td>-8.822428e-03</td>\n",
              "      <td>-1.470829e-03</td>\n",
              "      <td>1.114693e-02</td>\n",
              "      <td>-5.065636e-03</td>\n",
              "      <td>3.394954e-02</td>\n",
              "      <td>-4.984348e-03</td>\n",
              "      <td>1.000000e+00</td>\n",
              "      <td>5.028695e-02</td>\n",
              "      <td>1.000000e+00</td>\n",
              "      <td>6.366366e-02</td>\n",
              "      <td>...</td>\n",
              "      <td>6.086239e-02</td>\n",
              "      <td>3.623371e-02</td>\n",
              "      <td>4.546451e-02</td>\n",
              "      <td>3.633946e-02</td>\n",
              "      <td>8.978302e-01</td>\n",
              "      <td>-1.630746e-02</td>\n",
              "      <td>2.254889e-01</td>\n",
              "      <td>-5.032806e-03</td>\n",
              "      <td>-3.520689e-15</td>\n",
              "      <td>3.641282e-15</td>\n",
              "      <td>-4.057895e-15</td>\n",
              "      <td>3.488762e-15</td>\n",
              "    </tr>\n",
              "    <tr>\n",
              "      <th>Total day calls</th>\n",
              "      <td>5.606874e-02</td>\n",
              "      <td>2.532569e-02</td>\n",
              "      <td>1.358471e-02</td>\n",
              "      <td>2.876444e-03</td>\n",
              "      <td>4.189633e-02</td>\n",
              "      <td>-7.510867e-03</td>\n",
              "      <td>-6.110922e-03</td>\n",
              "      <td>-1.358182e-02</td>\n",
              "      <td>5.028695e-02</td>\n",
              "      <td>1.000000e+00</td>\n",
              "      <td>5.028937e-02</td>\n",
              "      <td>-5.959685e-03</td>\n",
              "      <td>...</td>\n",
              "      <td>3.792744e-02</td>\n",
              "      <td>3.220132e-02</td>\n",
              "      <td>1.488002e-02</td>\n",
              "      <td>3.233170e-02</td>\n",
              "      <td>5.073594e-02</td>\n",
              "      <td>-2.184551e-02</td>\n",
              "      <td>4.171803e-02</td>\n",
              "      <td>-7.341956e-03</td>\n",
              "      <td>1.606955e-16</td>\n",
              "      <td>-5.941096e-16</td>\n",
              "      <td>9.697089e-17</td>\n",
              "      <td>-1.771136e-16</td>\n",
              "    </tr>\n",
              "    <tr>\n",
              "      <th>Total day charge</th>\n",
              "      <td>1.073951e-02</td>\n",
              "      <td>2.402348e-02</td>\n",
              "      <td>-8.829204e-03</td>\n",
              "      <td>-1.470696e-03</td>\n",
              "      <td>1.114460e-02</td>\n",
              "      <td>-5.066155e-03</td>\n",
              "      <td>3.395103e-02</td>\n",
              "      <td>-4.986244e-03</td>\n",
              "      <td>1.000000e+00</td>\n",
              "      <td>5.028937e-02</td>\n",
              "      <td>1.000000e+00</td>\n",
              "      <td>6.367061e-02</td>\n",
              "      <td>...</td>\n",
              "      <td>6.086427e-02</td>\n",
              "      <td>3.623304e-02</td>\n",
              "      <td>4.546306e-02</td>\n",
              "      <td>3.633878e-02</td>\n",
              "      <td>8.978333e-01</td>\n",
              "      <td>-1.631132e-02</td>\n",
              "      <td>2.254878e-01</td>\n",
              "      <td>-5.033292e-03</td>\n",
              "      <td>-1.551124e-15</td>\n",
              "      <td>1.535296e-15</td>\n",
              "      <td>-1.587882e-15</td>\n",
              "      <td>1.489547e-15</td>\n",
              "    </tr>\n",
              "    <tr>\n",
              "      <th>Total eve minutes</th>\n",
              "      <td>1.909680e-02</td>\n",
              "      <td>6.159425e-04</td>\n",
              "      <td>-1.164749e-02</td>\n",
              "      <td>1.693419e-02</td>\n",
              "      <td>-2.495030e-03</td>\n",
              "      <td>4.468693e-03</td>\n",
              "      <td>2.634115e-02</td>\n",
              "      <td>1.357696e-02</td>\n",
              "      <td>6.366366e-02</td>\n",
              "      <td>-5.959685e-03</td>\n",
              "      <td>6.367061e-02</td>\n",
              "      <td>1.000000e+00</td>\n",
              "      <td>...</td>\n",
              "      <td>1.322077e-02</td>\n",
              "      <td>8.499699e-03</td>\n",
              "      <td>2.305616e-02</td>\n",
              "      <td>8.493248e-03</td>\n",
              "      <td>4.416758e-01</td>\n",
              "      <td>-1.484773e-02</td>\n",
              "      <td>1.145607e-01</td>\n",
              "      <td>4.518669e-03</td>\n",
              "      <td>6.996245e-16</td>\n",
              "      <td>-5.897760e-16</td>\n",
              "      <td>7.370286e-16</td>\n",
              "      <td>-6.172896e-16</td>\n",
              "    </tr>\n",
              "    <tr>\n",
              "      <th>Total eve calls</th>\n",
              "      <td>2.080517e-02</td>\n",
              "      <td>-2.861186e-02</td>\n",
              "      <td>1.963489e-02</td>\n",
              "      <td>-1.153659e-02</td>\n",
              "      <td>2.420330e-02</td>\n",
              "      <td>-8.900324e-03</td>\n",
              "      <td>-1.556174e-03</td>\n",
              "      <td>-1.070767e-02</td>\n",
              "      <td>8.012304e-02</td>\n",
              "      <td>2.623927e-02</td>\n",
              "      <td>8.012304e-02</td>\n",
              "      <td>1.837792e-02</td>\n",
              "      <td>...</td>\n",
              "      <td>2.698827e-02</td>\n",
              "      <td>3.026811e-02</td>\n",
              "      <td>3.767569e-02</td>\n",
              "      <td>3.026903e-02</td>\n",
              "      <td>8.334029e-02</td>\n",
              "      <td>-7.453021e-04</td>\n",
              "      <td>3.697755e-02</td>\n",
              "      <td>-8.979466e-03</td>\n",
              "      <td>-8.571541e-17</td>\n",
              "      <td>3.730140e-16</td>\n",
              "      <td>1.742619e-16</td>\n",
              "      <td>4.053775e-16</td>\n",
              "    </tr>\n",
              "    <tr>\n",
              "      <th>Total eve charge</th>\n",
              "      <td>1.910008e-02</td>\n",
              "      <td>6.252942e-04</td>\n",
              "      <td>-1.162085e-02</td>\n",
              "      <td>1.692644e-02</td>\n",
              "      <td>-2.483687e-03</td>\n",
              "      <td>4.494642e-03</td>\n",
              "      <td>2.635674e-02</td>\n",
              "      <td>1.359335e-02</td>\n",
              "      <td>6.364638e-02</td>\n",
              "      <td>-5.964748e-03</td>\n",
              "      <td>6.365334e-02</td>\n",
              "      <td>9.999998e-01</td>\n",
              "      <td>...</td>\n",
              "      <td>1.321157e-02</td>\n",
              "      <td>8.489986e-03</td>\n",
              "      <td>2.305708e-02</td>\n",
              "      <td>8.483518e-03</td>\n",
              "      <td>4.416586e-01</td>\n",
              "      <td>-1.485000e-02</td>\n",
              "      <td>1.145503e-01</td>\n",
              "      <td>4.544616e-03</td>\n",
              "      <td>2.060565e-15</td>\n",
              "      <td>-2.065644e-15</td>\n",
              "      <td>2.100032e-15</td>\n",
              "      <td>-2.115096e-15</td>\n",
              "    </tr>\n",
              "    <tr>\n",
              "      <th>Total night minutes</th>\n",
              "      <td>-9.816821e-04</td>\n",
              "      <td>4.659882e-03</td>\n",
              "      <td>-2.310387e-02</td>\n",
              "      <td>2.754457e-02</td>\n",
              "      <td>-5.316104e-03</td>\n",
              "      <td>-3.271512e-03</td>\n",
              "      <td>-2.036106e-02</td>\n",
              "      <td>3.363316e-03</td>\n",
              "      <td>6.088449e-02</td>\n",
              "      <td>3.793146e-02</td>\n",
              "      <td>6.088638e-02</td>\n",
              "      <td>1.323113e-02</td>\n",
              "      <td>...</td>\n",
              "      <td>9.999992e-01</td>\n",
              "      <td>5.468056e-03</td>\n",
              "      <td>7.275165e-03</td>\n",
              "      <td>5.519169e-03</td>\n",
              "      <td>2.603648e-01</td>\n",
              "      <td>-1.198021e-02</td>\n",
              "      <td>5.805897e-02</td>\n",
              "      <td>-3.203340e-03</td>\n",
              "      <td>-1.484044e-15</td>\n",
              "      <td>1.795704e-15</td>\n",
              "      <td>-1.444201e-15</td>\n",
              "      <td>1.490744e-15</td>\n",
              "    </tr>\n",
              "    <tr>\n",
              "      <th>Total night calls</th>\n",
              "      <td>-9.036895e-03</td>\n",
              "      <td>-6.880899e-03</td>\n",
              "      <td>1.035556e-02</td>\n",
              "      <td>1.218937e-02</td>\n",
              "      <td>-7.887772e-03</td>\n",
              "      <td>1.807926e-02</td>\n",
              "      <td>1.657180e-02</td>\n",
              "      <td>1.804258e-03</td>\n",
              "      <td>9.191493e-02</td>\n",
              "      <td>2.087932e-03</td>\n",
              "      <td>9.191561e-02</td>\n",
              "      <td>4.072662e-02</td>\n",
              "      <td>...</td>\n",
              "      <td>4.336589e-02</td>\n",
              "      <td>1.070679e-02</td>\n",
              "      <td>2.410629e-02</td>\n",
              "      <td>1.071122e-02</td>\n",
              "      <td>1.040573e-01</td>\n",
              "      <td>-1.496801e-02</td>\n",
              "      <td>3.519512e-02</td>\n",
              "      <td>1.825685e-02</td>\n",
              "      <td>4.342700e-16</td>\n",
              "      <td>-2.967396e-16</td>\n",
              "      <td>-4.734190e-16</td>\n",
              "      <td>-4.446731e-16</td>\n",
              "    </tr>\n",
              "    <tr>\n",
              "      <th>Total night charge</th>\n",
              "      <td>-1.023016e-03</td>\n",
              "      <td>4.655161e-03</td>\n",
              "      <td>-2.311171e-02</td>\n",
              "      <td>2.754260e-02</td>\n",
              "      <td>-5.322643e-03</td>\n",
              "      <td>-3.293703e-03</td>\n",
              "      <td>-2.037962e-02</td>\n",
              "      <td>3.345408e-03</td>\n",
              "      <td>6.086239e-02</td>\n",
              "      <td>3.792744e-02</td>\n",
              "      <td>6.086427e-02</td>\n",
              "      <td>1.322077e-02</td>\n",
              "      <td>...</td>\n",
              "      <td>1.000000e+00</td>\n",
              "      <td>5.467745e-03</td>\n",
              "      <td>7.297016e-03</td>\n",
              "      <td>5.518789e-03</td>\n",
              "      <td>2.603419e-01</td>\n",
              "      <td>-1.196948e-02</td>\n",
              "      <td>5.805818e-02</td>\n",
              "      <td>-3.225501e-03</td>\n",
              "      <td>-6.183849e-15</td>\n",
              "      <td>6.164614e-15</td>\n",
              "      <td>-6.170676e-15</td>\n",
              "      <td>6.126715e-15</td>\n",
              "    </tr>\n",
              "    <tr>\n",
              "      <th>Total intl minutes</th>\n",
              "      <td>1.582428e-02</td>\n",
              "      <td>2.336080e-02</td>\n",
              "      <td>-2.686698e-02</td>\n",
              "      <td>-4.675942e-03</td>\n",
              "      <td>1.181584e-02</td>\n",
              "      <td>-1.631452e-02</td>\n",
              "      <td>3.421817e-02</td>\n",
              "      <td>-1.187269e-03</td>\n",
              "      <td>3.623371e-02</td>\n",
              "      <td>3.220132e-02</td>\n",
              "      <td>3.623304e-02</td>\n",
              "      <td>8.499699e-03</td>\n",
              "      <td>...</td>\n",
              "      <td>5.467745e-03</td>\n",
              "      <td>1.000000e+00</td>\n",
              "      <td>4.832407e-02</td>\n",
              "      <td>9.999928e-01</td>\n",
              "      <td>1.022378e-01</td>\n",
              "      <td>-1.276848e-02</td>\n",
              "      <td>8.744605e-02</td>\n",
              "      <td>-1.624782e-02</td>\n",
              "      <td>3.347243e-16</td>\n",
              "      <td>-1.275391e-16</td>\n",
              "      <td>1.156621e-16</td>\n",
              "      <td>-3.924904e-16</td>\n",
              "    </tr>\n",
              "    <tr>\n",
              "      <th>Total intl calls</th>\n",
              "      <td>8.416481e-03</td>\n",
              "      <td>-5.576471e-03</td>\n",
              "      <td>-3.585190e-02</td>\n",
              "      <td>1.513684e-02</td>\n",
              "      <td>2.301951e-02</td>\n",
              "      <td>-2.284824e-02</td>\n",
              "      <td>1.783326e-02</td>\n",
              "      <td>1.107412e-02</td>\n",
              "      <td>4.546451e-02</td>\n",
              "      <td>1.488002e-02</td>\n",
              "      <td>4.546306e-02</td>\n",
              "      <td>2.305616e-02</td>\n",
              "      <td>...</td>\n",
              "      <td>7.297016e-03</td>\n",
              "      <td>4.832407e-02</td>\n",
              "      <td>1.000000e+00</td>\n",
              "      <td>4.839975e-02</td>\n",
              "      <td>5.259494e-02</td>\n",
              "      <td>-1.850979e-02</td>\n",
              "      <td>-3.930937e-02</td>\n",
              "      <td>-2.288826e-02</td>\n",
              "      <td>3.846672e-17</td>\n",
              "      <td>-4.438720e-16</td>\n",
              "      <td>6.077782e-16</td>\n",
              "      <td>-6.255191e-16</td>\n",
              "    </tr>\n",
              "    <tr>\n",
              "      <th>Total intl charge</th>\n",
              "      <td>1.582630e-02</td>\n",
              "      <td>2.347708e-02</td>\n",
              "      <td>-2.685821e-02</td>\n",
              "      <td>-4.665382e-03</td>\n",
              "      <td>1.186038e-02</td>\n",
              "      <td>-1.640984e-02</td>\n",
              "      <td>3.416261e-02</td>\n",
              "      <td>-1.157466e-03</td>\n",
              "      <td>3.633946e-02</td>\n",
              "      <td>3.233170e-02</td>\n",
              "      <td>3.633878e-02</td>\n",
              "      <td>8.493248e-03</td>\n",
              "      <td>...</td>\n",
              "      <td>5.518789e-03</td>\n",
              "      <td>9.999928e-01</td>\n",
              "      <td>4.839975e-02</td>\n",
              "      <td>1.000000e+00</td>\n",
              "      <td>1.023369e-01</td>\n",
              "      <td>-1.280529e-02</td>\n",
              "      <td>8.747499e-02</td>\n",
              "      <td>-1.634368e-02</td>\n",
              "      <td>1.430349e-14</td>\n",
              "      <td>-1.432139e-14</td>\n",
              "      <td>1.432129e-14</td>\n",
              "      <td>-1.427423e-14</td>\n",
              "    </tr>\n",
              "    <tr>\n",
              "      <th>Total charge</th>\n",
              "      <td>1.740054e-02</td>\n",
              "      <td>2.337831e-02</td>\n",
              "      <td>-1.851726e-02</td>\n",
              "      <td>1.050271e-02</td>\n",
              "      <td>8.329346e-03</td>\n",
              "      <td>-4.388152e-03</td>\n",
              "      <td>3.741751e-02</td>\n",
              "      <td>1.535805e-03</td>\n",
              "      <td>8.978302e-01</td>\n",
              "      <td>5.073594e-02</td>\n",
              "      <td>8.978333e-01</td>\n",
              "      <td>4.416758e-01</td>\n",
              "      <td>...</td>\n",
              "      <td>2.603419e-01</td>\n",
              "      <td>1.022378e-01</td>\n",
              "      <td>5.259494e-02</td>\n",
              "      <td>1.023369e-01</td>\n",
              "      <td>1.000000e+00</td>\n",
              "      <td>-2.298489e-02</td>\n",
              "      <td>2.551789e-01</td>\n",
              "      <td>-4.322518e-03</td>\n",
              "      <td>4.562938e-15</td>\n",
              "      <td>-4.541289e-15</td>\n",
              "      <td>4.524922e-15</td>\n",
              "      <td>-4.559454e-15</td>\n",
              "    </tr>\n",
              "    <tr>\n",
              "      <th>Customer service calls</th>\n",
              "      <td>1.657236e-02</td>\n",
              "      <td>8.171014e-03</td>\n",
              "      <td>1.099395e-02</td>\n",
              "      <td>-2.586065e-02</td>\n",
              "      <td>-3.795939e-03</td>\n",
              "      <td>2.761395e-02</td>\n",
              "      <td>-3.022275e-02</td>\n",
              "      <td>-1.326258e-02</td>\n",
              "      <td>-1.630746e-02</td>\n",
              "      <td>-2.184551e-02</td>\n",
              "      <td>-1.631132e-02</td>\n",
              "      <td>-1.484773e-02</td>\n",
              "      <td>...</td>\n",
              "      <td>-1.196948e-02</td>\n",
              "      <td>-1.276848e-02</td>\n",
              "      <td>-1.850979e-02</td>\n",
              "      <td>-1.280529e-02</td>\n",
              "      <td>-2.298489e-02</td>\n",
              "      <td>1.000000e+00</td>\n",
              "      <td>2.087500e-01</td>\n",
              "      <td>2.757223e-02</td>\n",
              "      <td>-4.808587e-16</td>\n",
              "      <td>5.314096e-16</td>\n",
              "      <td>2.427163e-16</td>\n",
              "      <td>-1.883658e-16</td>\n",
              "    </tr>\n",
              "    <tr>\n",
              "      <th>Churn</th>\n",
              "      <td>4.713963e-02</td>\n",
              "      <td>3.413041e-02</td>\n",
              "      <td>-1.927359e-02</td>\n",
              "      <td>7.780314e-03</td>\n",
              "      <td>1.654074e-02</td>\n",
              "      <td>6.135952e-03</td>\n",
              "      <td>1.452552e-01</td>\n",
              "      <td>-8.972797e-02</td>\n",
              "      <td>2.254889e-01</td>\n",
              "      <td>4.171803e-02</td>\n",
              "      <td>2.254878e-01</td>\n",
              "      <td>1.145607e-01</td>\n",
              "      <td>...</td>\n",
              "      <td>5.805818e-02</td>\n",
              "      <td>8.744605e-02</td>\n",
              "      <td>-3.930937e-02</td>\n",
              "      <td>8.747499e-02</td>\n",
              "      <td>2.551789e-01</td>\n",
              "      <td>2.087500e-01</td>\n",
              "      <td>1.000000e+00</td>\n",
              "      <td>6.174233e-03</td>\n",
              "      <td>1.192747e-16</td>\n",
              "      <td>-1.565439e-15</td>\n",
              "      <td>-1.124167e-15</td>\n",
              "      <td>1.285352e-15</td>\n",
              "    </tr>\n",
              "    <tr>\n",
              "      <th>Area code</th>\n",
              "      <td>5.724255e-05</td>\n",
              "      <td>-1.823072e-02</td>\n",
              "      <td>-7.992670e-03</td>\n",
              "      <td>1.581410e-02</td>\n",
              "      <td>-1.246350e-02</td>\n",
              "      <td>9.999814e-01</td>\n",
              "      <td>3.816700e-02</td>\n",
              "      <td>-1.994370e-03</td>\n",
              "      <td>-5.032806e-03</td>\n",
              "      <td>-7.341956e-03</td>\n",
              "      <td>-5.033292e-03</td>\n",
              "      <td>4.518669e-03</td>\n",
              "      <td>...</td>\n",
              "      <td>-3.225501e-03</td>\n",
              "      <td>-1.624782e-02</td>\n",
              "      <td>-2.288826e-02</td>\n",
              "      <td>-1.634368e-02</td>\n",
              "      <td>-4.322518e-03</td>\n",
              "      <td>2.757223e-02</td>\n",
              "      <td>6.174233e-03</td>\n",
              "      <td>1.000000e+00</td>\n",
              "      <td>1.233466e-15</td>\n",
              "      <td>5.390822e-17</td>\n",
              "      <td>6.220468e-16</td>\n",
              "      <td>-5.194802e-16</td>\n",
              "    </tr>\n",
              "    <tr>\n",
              "      <th>Day cost</th>\n",
              "      <td>-4.388292e-16</td>\n",
              "      <td>-4.057083e-16</td>\n",
              "      <td>1.231133e-13</td>\n",
              "      <td>-2.412714e-16</td>\n",
              "      <td>1.672809e-15</td>\n",
              "      <td>-4.591657e-16</td>\n",
              "      <td>1.824181e-16</td>\n",
              "      <td>3.193436e-17</td>\n",
              "      <td>-3.520689e-15</td>\n",
              "      <td>1.606955e-16</td>\n",
              "      <td>-1.551124e-15</td>\n",
              "      <td>6.996245e-16</td>\n",
              "      <td>...</td>\n",
              "      <td>-6.183849e-15</td>\n",
              "      <td>3.347243e-16</td>\n",
              "      <td>3.846672e-17</td>\n",
              "      <td>1.430349e-14</td>\n",
              "      <td>4.562938e-15</td>\n",
              "      <td>-4.808587e-16</td>\n",
              "      <td>1.192747e-16</td>\n",
              "      <td>1.233466e-15</td>\n",
              "      <td>1.000000e+00</td>\n",
              "      <td>-1.000000e+00</td>\n",
              "      <td>1.000000e+00</td>\n",
              "      <td>-1.000000e+00</td>\n",
              "    </tr>\n",
              "    <tr>\n",
              "      <th>Eve cost</th>\n",
              "      <td>4.448992e-16</td>\n",
              "      <td>3.007377e-16</td>\n",
              "      <td>-1.227534e-13</td>\n",
              "      <td>-2.947027e-16</td>\n",
              "      <td>1.042363e-15</td>\n",
              "      <td>5.677029e-17</td>\n",
              "      <td>7.445138e-16</td>\n",
              "      <td>-4.185288e-16</td>\n",
              "      <td>3.641282e-15</td>\n",
              "      <td>-5.941096e-16</td>\n",
              "      <td>1.535296e-15</td>\n",
              "      <td>-5.897760e-16</td>\n",
              "      <td>...</td>\n",
              "      <td>6.164614e-15</td>\n",
              "      <td>-1.275391e-16</td>\n",
              "      <td>-4.438720e-16</td>\n",
              "      <td>-1.432139e-14</td>\n",
              "      <td>-4.541289e-15</td>\n",
              "      <td>5.314096e-16</td>\n",
              "      <td>-1.565439e-15</td>\n",
              "      <td>5.390822e-17</td>\n",
              "      <td>-1.000000e+00</td>\n",
              "      <td>1.000000e+00</td>\n",
              "      <td>-1.000000e+00</td>\n",
              "      <td>1.000000e+00</td>\n",
              "    </tr>\n",
              "    <tr>\n",
              "      <th>Night cost</th>\n",
              "      <td>5.608721e-16</td>\n",
              "      <td>-2.709624e-16</td>\n",
              "      <td>1.227942e-13</td>\n",
              "      <td>-6.650370e-16</td>\n",
              "      <td>1.791777e-15</td>\n",
              "      <td>4.593260e-17</td>\n",
              "      <td>4.456384e-17</td>\n",
              "      <td>-3.257347e-16</td>\n",
              "      <td>-4.057895e-15</td>\n",
              "      <td>9.697089e-17</td>\n",
              "      <td>-1.587882e-15</td>\n",
              "      <td>7.370286e-16</td>\n",
              "      <td>...</td>\n",
              "      <td>-6.170676e-15</td>\n",
              "      <td>1.156621e-16</td>\n",
              "      <td>6.077782e-16</td>\n",
              "      <td>1.432129e-14</td>\n",
              "      <td>4.524922e-15</td>\n",
              "      <td>2.427163e-16</td>\n",
              "      <td>-1.124167e-15</td>\n",
              "      <td>6.220468e-16</td>\n",
              "      <td>1.000000e+00</td>\n",
              "      <td>-1.000000e+00</td>\n",
              "      <td>1.000000e+00</td>\n",
              "      <td>-1.000000e+00</td>\n",
              "    </tr>\n",
              "    <tr>\n",
              "      <th>Intl cost</th>\n",
              "      <td>3.736663e-16</td>\n",
              "      <td>4.290209e-16</td>\n",
              "      <td>-1.228343e-13</td>\n",
              "      <td>5.739001e-16</td>\n",
              "      <td>-1.282276e-15</td>\n",
              "      <td>5.358594e-16</td>\n",
              "      <td>2.287786e-16</td>\n",
              "      <td>-8.285029e-16</td>\n",
              "      <td>3.488762e-15</td>\n",
              "      <td>-1.771136e-16</td>\n",
              "      <td>1.489547e-15</td>\n",
              "      <td>-6.172896e-16</td>\n",
              "      <td>...</td>\n",
              "      <td>6.126715e-15</td>\n",
              "      <td>-3.924904e-16</td>\n",
              "      <td>-6.255191e-16</td>\n",
              "      <td>-1.427423e-14</td>\n",
              "      <td>-4.559454e-15</td>\n",
              "      <td>-1.883658e-16</td>\n",
              "      <td>1.285352e-15</td>\n",
              "      <td>-5.194802e-16</td>\n",
              "      <td>-1.000000e+00</td>\n",
              "      <td>1.000000e+00</td>\n",
              "      <td>-1.000000e+00</td>\n",
              "      <td>1.000000e+00</td>\n",
              "    </tr>\n",
              "  </tbody>\n",
              "</table>\n",
              "<p>28 rows × 28 columns</p>\n",
              "</div>"
            ],
            "text/plain": [
              "                                  ID           Sex           Age  \\\n",
              "ID                      1.000000e+00 -1.044890e-02 -1.419577e-02   \n",
              "Sex                    -1.044890e-02  1.000000e+00  9.690194e-03   \n",
              "Age                    -1.419577e-02  9.690194e-03  1.000000e+00   \n",
              "State                  -2.394812e-02 -2.471007e-02  1.831308e-02   \n",
              "Account length         -1.659955e-02 -3.322147e-02 -2.319941e-02   \n",
              "Phone number           -1.642188e-04 -1.837849e-02 -8.004639e-03   \n",
              "Plans                   1.645982e-02  1.931164e-02 -3.417345e-02   \n",
              "Number vmail messages  -2.036087e-02  6.578438e-03 -1.434118e-03   \n",
              "Total day minutes       1.073995e-02  2.401611e-02 -8.822428e-03   \n",
              "Total day calls         5.606874e-02  2.532569e-02  1.358471e-02   \n",
              "Total day charge        1.073951e-02  2.402348e-02 -8.829204e-03   \n",
              "Total eve minutes       1.909680e-02  6.159425e-04 -1.164749e-02   \n",
              "Total eve calls         2.080517e-02 -2.861186e-02  1.963489e-02   \n",
              "Total eve charge        1.910008e-02  6.252942e-04 -1.162085e-02   \n",
              "Total night minutes    -9.816821e-04  4.659882e-03 -2.310387e-02   \n",
              "Total night calls      -9.036895e-03 -6.880899e-03  1.035556e-02   \n",
              "Total night charge     -1.023016e-03  4.655161e-03 -2.311171e-02   \n",
              "Total intl minutes      1.582428e-02  2.336080e-02 -2.686698e-02   \n",
              "Total intl calls        8.416481e-03 -5.576471e-03 -3.585190e-02   \n",
              "Total intl charge       1.582630e-02  2.347708e-02 -2.685821e-02   \n",
              "Total charge            1.740054e-02  2.337831e-02 -1.851726e-02   \n",
              "Customer service calls  1.657236e-02  8.171014e-03  1.099395e-02   \n",
              "Churn                   4.713963e-02  3.413041e-02 -1.927359e-02   \n",
              "Area code               5.724255e-05 -1.823072e-02 -7.992670e-03   \n",
              "Day cost               -4.388292e-16 -4.057083e-16  1.231133e-13   \n",
              "Eve cost                4.448992e-16  3.007377e-16 -1.227534e-13   \n",
              "Night cost              5.608721e-16 -2.709624e-16  1.227942e-13   \n",
              "Intl cost               3.736663e-16  4.290209e-16 -1.228343e-13   \n",
              "\n",
              "                               State  Account length  Phone number  \\\n",
              "ID                     -2.394812e-02 -1.659955e-02   -1.642188e-04   \n",
              "Sex                    -2.471007e-02 -3.322147e-02   -1.837849e-02   \n",
              "Age                     1.831308e-02 -2.319941e-02   -8.004639e-03   \n",
              "State                   1.000000e+00  3.677624e-03    1.583891e-02   \n",
              "Account length          3.677624e-03  1.000000e+00   -1.246845e-02   \n",
              "Phone number            1.583891e-02 -1.246845e-02    1.000000e+00   \n",
              "Plans                  -2.269752e-02  2.142851e-02    3.817973e-02   \n",
              "Number vmail messages  -2.776213e-02 -4.627824e-03   -1.978761e-03   \n",
              "Total day minutes      -1.470829e-03  1.114693e-02   -5.065636e-03   \n",
              "Total day calls         2.876444e-03  4.189633e-02   -7.510867e-03   \n",
              "Total day charge       -1.470696e-03  1.114460e-02   -5.066155e-03   \n",
              "Total eve minutes       1.693419e-02 -2.495030e-03    4.468693e-03   \n",
              "Total eve calls        -1.153659e-02  2.420330e-02   -8.900324e-03   \n",
              "Total eve charge        1.692644e-02 -2.483687e-03    4.494642e-03   \n",
              "Total night minutes     2.754457e-02 -5.316104e-03   -3.271512e-03   \n",
              "Total night calls       1.218937e-02 -7.887772e-03    1.807926e-02   \n",
              "Total night charge      2.754260e-02 -5.322643e-03   -3.293703e-03   \n",
              "Total intl minutes     -4.675942e-03  1.181584e-02   -1.631452e-02   \n",
              "Total intl calls        1.513684e-02  2.301951e-02   -2.284824e-02   \n",
              "Total intl charge      -4.665382e-03  1.186038e-02   -1.640984e-02   \n",
              "Total charge            1.050271e-02  8.329346e-03   -4.388152e-03   \n",
              "Customer service calls -2.586065e-02 -3.795939e-03    2.761395e-02   \n",
              "Churn                   7.780314e-03  1.654074e-02    6.135952e-03   \n",
              "Area code               1.581410e-02 -1.246350e-02    9.999814e-01   \n",
              "Day cost               -2.412714e-16  1.672809e-15   -4.591657e-16   \n",
              "Eve cost               -2.947027e-16  1.042363e-15    5.677029e-17   \n",
              "Night cost             -6.650370e-16  1.791777e-15    4.593260e-17   \n",
              "Intl cost               5.739001e-16 -1.282276e-15    5.358594e-16   \n",
              "\n",
              "                               Plans  Number vmail messages  \\\n",
              "ID                      1.645982e-02 -2.036087e-02            \n",
              "Sex                     1.931164e-02  6.578438e-03            \n",
              "Age                    -3.417345e-02 -1.434118e-03            \n",
              "State                  -2.269752e-02 -2.776213e-02            \n",
              "Account length          2.142851e-02 -4.627824e-03            \n",
              "Phone number            3.817973e-02 -1.978761e-03            \n",
              "Plans                   1.000000e+00  5.824021e-01            \n",
              "Number vmail messages   5.824021e-01  1.000000e+00            \n",
              "Total day minutes       3.394954e-02 -4.984348e-03            \n",
              "Total day calls        -6.110922e-03 -1.358182e-02            \n",
              "Total day charge        3.395103e-02 -4.986244e-03            \n",
              "Total eve minutes       2.634115e-02  1.357696e-02            \n",
              "Total eve calls        -1.556174e-03 -1.070767e-02            \n",
              "Total eve charge        2.635674e-02  1.359335e-02            \n",
              "Total night minutes    -2.036106e-02  3.363316e-03            \n",
              "Total night calls       1.657180e-02  1.804258e-03            \n",
              "Total night charge     -2.037962e-02  3.345408e-03            \n",
              "Total intl minutes      3.421817e-02 -1.187269e-03            \n",
              "Total intl calls        1.783326e-02  1.107412e-02            \n",
              "Total intl charge       3.416261e-02 -1.157466e-03            \n",
              "Total charge            3.741751e-02  1.535805e-03            \n",
              "Customer service calls -3.022275e-02 -1.326258e-02            \n",
              "Churn                   1.452552e-01 -8.972797e-02            \n",
              "Area code               3.816700e-02 -1.994370e-03            \n",
              "Day cost                1.824181e-16  3.193436e-17            \n",
              "Eve cost                7.445138e-16 -4.185288e-16            \n",
              "Night cost              4.456384e-17 -3.257347e-16            \n",
              "Intl cost               2.287786e-16 -8.285029e-16            \n",
              "\n",
              "                        Total day minutes  Total day calls  Total day charge  \\\n",
              "ID                      1.073995e-02       5.606874e-02     1.073951e-02       \n",
              "Sex                     2.401611e-02       2.532569e-02     2.402348e-02       \n",
              "Age                    -8.822428e-03       1.358471e-02    -8.829204e-03       \n",
              "State                  -1.470829e-03       2.876444e-03    -1.470696e-03       \n",
              "Account length          1.114693e-02       4.189633e-02     1.114460e-02       \n",
              "Phone number           -5.065636e-03      -7.510867e-03    -5.066155e-03       \n",
              "Plans                   3.394954e-02      -6.110922e-03     3.395103e-02       \n",
              "Number vmail messages  -4.984348e-03      -1.358182e-02    -4.986244e-03       \n",
              "Total day minutes       1.000000e+00       5.028695e-02     1.000000e+00       \n",
              "Total day calls         5.028695e-02       1.000000e+00     5.028937e-02       \n",
              "Total day charge        1.000000e+00       5.028937e-02     1.000000e+00       \n",
              "Total eve minutes       6.366366e-02      -5.959685e-03     6.367061e-02       \n",
              "Total eve calls         8.012304e-02       2.623927e-02     8.012304e-02       \n",
              "Total eve charge        6.364638e-02      -5.964748e-03     6.365334e-02       \n",
              "Total night minutes     6.088449e-02       3.793146e-02     6.088638e-02       \n",
              "Total night calls       9.191493e-02       2.087932e-03     9.191561e-02       \n",
              "Total night charge      6.086239e-02       3.792744e-02     6.086427e-02       \n",
              "Total intl minutes      3.623371e-02       3.220132e-02     3.623304e-02       \n",
              "Total intl calls        4.546451e-02       1.488002e-02     4.546306e-02       \n",
              "Total intl charge       3.633946e-02       3.233170e-02     3.633878e-02       \n",
              "Total charge            8.978302e-01       5.073594e-02     8.978333e-01       \n",
              "Customer service calls -1.630746e-02      -2.184551e-02    -1.631132e-02       \n",
              "Churn                   2.254889e-01       4.171803e-02     2.254878e-01       \n",
              "Area code              -5.032806e-03      -7.341956e-03    -5.033292e-03       \n",
              "Day cost               -3.520689e-15       1.606955e-16    -1.551124e-15       \n",
              "Eve cost                3.641282e-15      -5.941096e-16     1.535296e-15       \n",
              "Night cost             -4.057895e-15       9.697089e-17    -1.587882e-15       \n",
              "Intl cost               3.488762e-15      -1.771136e-16     1.489547e-15       \n",
              "\n",
              "                        Total eve minutes      ...       Total night charge  \\\n",
              "ID                      1.909680e-02           ...      -1.023016e-03         \n",
              "Sex                     6.159425e-04           ...       4.655161e-03         \n",
              "Age                    -1.164749e-02           ...      -2.311171e-02         \n",
              "State                   1.693419e-02           ...       2.754260e-02         \n",
              "Account length         -2.495030e-03           ...      -5.322643e-03         \n",
              "Phone number            4.468693e-03           ...      -3.293703e-03         \n",
              "Plans                   2.634115e-02           ...      -2.037962e-02         \n",
              "Number vmail messages   1.357696e-02           ...       3.345408e-03         \n",
              "Total day minutes       6.366366e-02           ...       6.086239e-02         \n",
              "Total day calls        -5.959685e-03           ...       3.792744e-02         \n",
              "Total day charge        6.367061e-02           ...       6.086427e-02         \n",
              "Total eve minutes       1.000000e+00           ...       1.322077e-02         \n",
              "Total eve calls         1.837792e-02           ...       2.698827e-02         \n",
              "Total eve charge        9.999998e-01           ...       1.321157e-02         \n",
              "Total night minutes     1.323113e-02           ...       9.999992e-01         \n",
              "Total night calls       4.072662e-02           ...       4.336589e-02         \n",
              "Total night charge      1.322077e-02           ...       1.000000e+00         \n",
              "Total intl minutes      8.499699e-03           ...       5.467745e-03         \n",
              "Total intl calls        2.305616e-02           ...       7.297016e-03         \n",
              "Total intl charge       8.493248e-03           ...       5.518789e-03         \n",
              "Total charge            4.416758e-01           ...       2.603419e-01         \n",
              "Customer service calls -1.484773e-02           ...      -1.196948e-02         \n",
              "Churn                   1.145607e-01           ...       5.805818e-02         \n",
              "Area code               4.518669e-03           ...      -3.225501e-03         \n",
              "Day cost                6.996245e-16           ...      -6.183849e-15         \n",
              "Eve cost               -5.897760e-16           ...       6.164614e-15         \n",
              "Night cost              7.370286e-16           ...      -6.170676e-15         \n",
              "Intl cost              -6.172896e-16           ...       6.126715e-15         \n",
              "\n",
              "                        Total intl minutes  Total intl calls  \\\n",
              "ID                      1.582428e-02        8.416481e-03       \n",
              "Sex                     2.336080e-02       -5.576471e-03       \n",
              "Age                    -2.686698e-02       -3.585190e-02       \n",
              "State                  -4.675942e-03        1.513684e-02       \n",
              "Account length          1.181584e-02        2.301951e-02       \n",
              "Phone number           -1.631452e-02       -2.284824e-02       \n",
              "Plans                   3.421817e-02        1.783326e-02       \n",
              "Number vmail messages  -1.187269e-03        1.107412e-02       \n",
              "Total day minutes       3.623371e-02        4.546451e-02       \n",
              "Total day calls         3.220132e-02        1.488002e-02       \n",
              "Total day charge        3.623304e-02        4.546306e-02       \n",
              "Total eve minutes       8.499699e-03        2.305616e-02       \n",
              "Total eve calls         3.026811e-02        3.767569e-02       \n",
              "Total eve charge        8.489986e-03        2.305708e-02       \n",
              "Total night minutes     5.468056e-03        7.275165e-03       \n",
              "Total night calls       1.070679e-02        2.410629e-02       \n",
              "Total night charge      5.467745e-03        7.297016e-03       \n",
              "Total intl minutes      1.000000e+00        4.832407e-02       \n",
              "Total intl calls        4.832407e-02        1.000000e+00       \n",
              "Total intl charge       9.999928e-01        4.839975e-02       \n",
              "Total charge            1.022378e-01        5.259494e-02       \n",
              "Customer service calls -1.276848e-02       -1.850979e-02       \n",
              "Churn                   8.744605e-02       -3.930937e-02       \n",
              "Area code              -1.624782e-02       -2.288826e-02       \n",
              "Day cost                3.347243e-16        3.846672e-17       \n",
              "Eve cost               -1.275391e-16       -4.438720e-16       \n",
              "Night cost              1.156621e-16        6.077782e-16       \n",
              "Intl cost              -3.924904e-16       -6.255191e-16       \n",
              "\n",
              "                        Total intl charge  Total charge  \\\n",
              "ID                      1.582630e-02       1.740054e-02   \n",
              "Sex                     2.347708e-02       2.337831e-02   \n",
              "Age                    -2.685821e-02      -1.851726e-02   \n",
              "State                  -4.665382e-03       1.050271e-02   \n",
              "Account length          1.186038e-02       8.329346e-03   \n",
              "Phone number           -1.640984e-02      -4.388152e-03   \n",
              "Plans                   3.416261e-02       3.741751e-02   \n",
              "Number vmail messages  -1.157466e-03       1.535805e-03   \n",
              "Total day minutes       3.633946e-02       8.978302e-01   \n",
              "Total day calls         3.233170e-02       5.073594e-02   \n",
              "Total day charge        3.633878e-02       8.978333e-01   \n",
              "Total eve minutes       8.493248e-03       4.416758e-01   \n",
              "Total eve calls         3.026903e-02       8.334029e-02   \n",
              "Total eve charge        8.483518e-03       4.416586e-01   \n",
              "Total night minutes     5.519169e-03       2.603648e-01   \n",
              "Total night calls       1.071122e-02       1.040573e-01   \n",
              "Total night charge      5.518789e-03       2.603419e-01   \n",
              "Total intl minutes      9.999928e-01       1.022378e-01   \n",
              "Total intl calls        4.839975e-02       5.259494e-02   \n",
              "Total intl charge       1.000000e+00       1.023369e-01   \n",
              "Total charge            1.023369e-01       1.000000e+00   \n",
              "Customer service calls -1.280529e-02      -2.298489e-02   \n",
              "Churn                   8.747499e-02       2.551789e-01   \n",
              "Area code              -1.634368e-02      -4.322518e-03   \n",
              "Day cost                1.430349e-14       4.562938e-15   \n",
              "Eve cost               -1.432139e-14      -4.541289e-15   \n",
              "Night cost              1.432129e-14       4.524922e-15   \n",
              "Intl cost              -1.427423e-14      -4.559454e-15   \n",
              "\n",
              "                        Customer service calls         Churn     Area code  \\\n",
              "ID                      1.657236e-02            4.713963e-02  5.724255e-05   \n",
              "Sex                     8.171014e-03            3.413041e-02 -1.823072e-02   \n",
              "Age                     1.099395e-02           -1.927359e-02 -7.992670e-03   \n",
              "State                  -2.586065e-02            7.780314e-03  1.581410e-02   \n",
              "Account length         -3.795939e-03            1.654074e-02 -1.246350e-02   \n",
              "Phone number            2.761395e-02            6.135952e-03  9.999814e-01   \n",
              "Plans                  -3.022275e-02            1.452552e-01  3.816700e-02   \n",
              "Number vmail messages  -1.326258e-02           -8.972797e-02 -1.994370e-03   \n",
              "Total day minutes      -1.630746e-02            2.254889e-01 -5.032806e-03   \n",
              "Total day calls        -2.184551e-02            4.171803e-02 -7.341956e-03   \n",
              "Total day charge       -1.631132e-02            2.254878e-01 -5.033292e-03   \n",
              "Total eve minutes      -1.484773e-02            1.145607e-01  4.518669e-03   \n",
              "Total eve calls        -7.453021e-04            3.697755e-02 -8.979466e-03   \n",
              "Total eve charge       -1.485000e-02            1.145503e-01  4.544616e-03   \n",
              "Total night minutes    -1.198021e-02            5.805897e-02 -3.203340e-03   \n",
              "Total night calls      -1.496801e-02            3.519512e-02  1.825685e-02   \n",
              "Total night charge     -1.196948e-02            5.805818e-02 -3.225501e-03   \n",
              "Total intl minutes     -1.276848e-02            8.744605e-02 -1.624782e-02   \n",
              "Total intl calls       -1.850979e-02           -3.930937e-02 -2.288826e-02   \n",
              "Total intl charge      -1.280529e-02            8.747499e-02 -1.634368e-02   \n",
              "Total charge           -2.298489e-02            2.551789e-01 -4.322518e-03   \n",
              "Customer service calls  1.000000e+00            2.087500e-01  2.757223e-02   \n",
              "Churn                   2.087500e-01            1.000000e+00  6.174233e-03   \n",
              "Area code               2.757223e-02            6.174233e-03  1.000000e+00   \n",
              "Day cost               -4.808587e-16            1.192747e-16  1.233466e-15   \n",
              "Eve cost                5.314096e-16           -1.565439e-15  5.390822e-17   \n",
              "Night cost              2.427163e-16           -1.124167e-15  6.220468e-16   \n",
              "Intl cost              -1.883658e-16            1.285352e-15 -5.194802e-16   \n",
              "\n",
              "                            Day cost      Eve cost    Night cost     Intl cost  \n",
              "ID                     -4.388292e-16  4.448992e-16  5.608721e-16  3.736663e-16  \n",
              "Sex                    -4.057083e-16  3.007377e-16 -2.709624e-16  4.290209e-16  \n",
              "Age                     1.231133e-13 -1.227534e-13  1.227942e-13 -1.228343e-13  \n",
              "State                  -2.412714e-16 -2.947027e-16 -6.650370e-16  5.739001e-16  \n",
              "Account length          1.672809e-15  1.042363e-15  1.791777e-15 -1.282276e-15  \n",
              "Phone number           -4.591657e-16  5.677029e-17  4.593260e-17  5.358594e-16  \n",
              "Plans                   1.824181e-16  7.445138e-16  4.456384e-17  2.287786e-16  \n",
              "Number vmail messages   3.193436e-17 -4.185288e-16 -3.257347e-16 -8.285029e-16  \n",
              "Total day minutes      -3.520689e-15  3.641282e-15 -4.057895e-15  3.488762e-15  \n",
              "Total day calls         1.606955e-16 -5.941096e-16  9.697089e-17 -1.771136e-16  \n",
              "Total day charge       -1.551124e-15  1.535296e-15 -1.587882e-15  1.489547e-15  \n",
              "Total eve minutes       6.996245e-16 -5.897760e-16  7.370286e-16 -6.172896e-16  \n",
              "Total eve calls        -8.571541e-17  3.730140e-16  1.742619e-16  4.053775e-16  \n",
              "Total eve charge        2.060565e-15 -2.065644e-15  2.100032e-15 -2.115096e-15  \n",
              "Total night minutes    -1.484044e-15  1.795704e-15 -1.444201e-15  1.490744e-15  \n",
              "Total night calls       4.342700e-16 -2.967396e-16 -4.734190e-16 -4.446731e-16  \n",
              "Total night charge     -6.183849e-15  6.164614e-15 -6.170676e-15  6.126715e-15  \n",
              "Total intl minutes      3.347243e-16 -1.275391e-16  1.156621e-16 -3.924904e-16  \n",
              "Total intl calls        3.846672e-17 -4.438720e-16  6.077782e-16 -6.255191e-16  \n",
              "Total intl charge       1.430349e-14 -1.432139e-14  1.432129e-14 -1.427423e-14  \n",
              "Total charge            4.562938e-15 -4.541289e-15  4.524922e-15 -4.559454e-15  \n",
              "Customer service calls -4.808587e-16  5.314096e-16  2.427163e-16 -1.883658e-16  \n",
              "Churn                   1.192747e-16 -1.565439e-15 -1.124167e-15  1.285352e-15  \n",
              "Area code               1.233466e-15  5.390822e-17  6.220468e-16 -5.194802e-16  \n",
              "Day cost                1.000000e+00 -1.000000e+00  1.000000e+00 -1.000000e+00  \n",
              "Eve cost               -1.000000e+00  1.000000e+00 -1.000000e+00  1.000000e+00  \n",
              "Night cost              1.000000e+00 -1.000000e+00  1.000000e+00 -1.000000e+00  \n",
              "Intl cost              -1.000000e+00  1.000000e+00 -1.000000e+00  1.000000e+00  \n",
              "\n",
              "[28 rows x 28 columns]"
            ]
          },
          "metadata": {
            "tags": []
          },
          "execution_count": 499
        }
      ]
    },
    {
      "metadata": {
        "id": "16opGGG-p8T1",
        "colab_type": "text"
      },
      "cell_type": "markdown",
      "source": [
        "Признак ID является уникальным и не несет информации, его можно удалить.\n",
        "Признак Area сode был создан из Phone number, т.к. номер телефона является уникальным, то его можно удалить, а Area code оставить.\n",
        "Признаки о стоимости днем, вечером, ночью и международные исходят из минут, поэтому их можно удалить. Это же касается и признаков о поминутной оплате."
      ]
    },
    {
      "metadata": {
        "collapsed": true,
        "id": "NBixqgpfp8T2",
        "colab_type": "code",
        "colab": {}
      },
      "cell_type": "code",
      "source": [
        "data = data.drop(['ID', 'Phone number', 'Total day minutes', 'Total eve minutes', 'Total night minutes',\n",
        "                  'Total intl minutes', 'Day cost', 'Eve cost', 'Night cost', 'Intl cost'], axis=1) "
      ],
      "execution_count": 0,
      "outputs": []
    },
    {
      "metadata": {
        "id": "7Rdb7BWVp8T6",
        "colab_type": "text"
      },
      "cell_type": "markdown",
      "source": [
        "### Задание 9  \n",
        "  \n",
        "Проведите анализ зависимости признаков.  \n",
        "Для числовых признаков вычислите корреляции друг с другом и с целевой переменной `Churn`. Постройте heatmap.  \n",
        "Для категориальных признаков оцените их связь с целевой переменной, постройте графики.  \n",
        "  \n",
        "Сделайте выводы по результатм анализа. Можно ли избавиться от некоторых признаков? Если да, то от каких и почему?"
      ]
    },
    {
      "metadata": {
        "id": "mRAOmgp9p8T7",
        "colab_type": "code",
        "colab": {},
        "outputId": "8527f270-569e-421c-9d27-4eb6f0493980"
      },
      "cell_type": "code",
      "source": [
        "plt.figure(figsize=(15, 6))\n",
        "sns.heatmap(data.corr(), annot=True, fmt=\".2f\", linewidths=.5)"
      ],
      "execution_count": 0,
      "outputs": [
        {
          "output_type": "execute_result",
          "data": {
            "text/plain": [
              "<matplotlib.axes._subplots.AxesSubplot at 0x1a75cbe4fd0>"
            ]
          },
          "metadata": {
            "tags": []
          },
          "execution_count": 501
        },
        {
          "output_type": "display_data",
          "data": {
            "image/svg+xml": "<?xml version=\"1.0\" encoding=\"utf-8\" standalone=\"no\"?>\r\n<!DOCTYPE svg PUBLIC \"-//W3C//DTD SVG 1.1//EN\"\r\n  \"http://www.w3.org/Graphics/SVG/1.1/DTD/svg11.dtd\">\r\n<!-- Created with matplotlib (http://matplotlib.org/) -->\r\n<svg height=\"475pt\" version=\"1.1\" viewBox=\"0 0 896 475\" width=\"896pt\" xmlns=\"http://www.w3.org/2000/svg\" xmlns:xlink=\"http://www.w3.org/1999/xlink\">\r\n <defs>\r\n  <style type=\"text/css\">\r\n*{stroke-linecap:butt;stroke-linejoin:round;}\r\n  </style>\r\n </defs>\r\n <g id=\"figure_1\">\r\n  <g id=\"patch_1\">\r\n   <path d=\"M 0 475.382656 \r\nL 896.084562 475.382656 \r\nL 896.084562 -0 \r\nL 0 -0 \r\nz\r\n\" style=\"fill:none;\"/>\r\n  </g>\r\n  <g id=\"axes_1\">\r\n   <g id=\"patch_2\">\r\n    <path d=\"M 138.223437 337.159219 \r\nL 807.823438 337.159219 \r\nL 807.823438 10.999219 \r\nL 138.223437 10.999219 \r\nz\r\n\" style=\"fill:#ffffff;\"/>\r\n   </g>\r\n   <g id=\"QuadMesh_1\">\r\n    <path clip-path=\"url(#p558c391708)\" d=\"M 138.223437 10.999219 \r\nL 175.423437 10.999219 \r\nL 175.423437 29.119219 \r\nL 138.223437 29.119219 \r\nL 138.223437 10.999219 \r\n\" style=\"fill:#faebdd;stroke:#ffffff;stroke-width:0.5;\"/>\r\n    <path clip-path=\"url(#p558c391708)\" d=\"M 175.423437 10.999219 \r\nL 212.623437 10.999219 \r\nL 212.623437 29.119219 \r\nL 175.423437 29.119219 \r\nL 175.423437 10.999219 \r\n\" style=\"fill:#221331;stroke:#ffffff;stroke-width:0.5;\"/>\r\n    <path clip-path=\"url(#p558c391708)\" d=\"M 212.623437 10.999219 \r\nL 249.823438 10.999219 \r\nL 249.823438 29.119219 \r\nL 212.623437 29.119219 \r\nL 212.623437 10.999219 \r\n\" style=\"fill:#170f28;stroke:#ffffff;stroke-width:0.5;\"/>\r\n    <path clip-path=\"url(#p558c391708)\" d=\"M 249.823438 10.999219 \r\nL 287.023438 10.999219 \r\nL 287.023438 29.119219 \r\nL 249.823438 29.119219 \r\nL 249.823438 10.999219 \r\n\" style=\"fill:#140e26;stroke:#ffffff;stroke-width:0.5;\"/>\r\n    <path clip-path=\"url(#p558c391708)\" d=\"M 287.023438 10.999219 \r\nL 324.223437 10.999219 \r\nL 324.223437 29.119219 \r\nL 287.023438 29.119219 \r\nL 287.023438 10.999219 \r\n\" style=\"fill:#251433;stroke:#ffffff;stroke-width:0.5;\"/>\r\n    <path clip-path=\"url(#p558c391708)\" d=\"M 324.223437 10.999219 \r\nL 361.423437 10.999219 \r\nL 361.423437 29.119219 \r\nL 324.223437 29.119219 \r\nL 324.223437 10.999219 \r\n\" style=\"fill:#211330;stroke:#ffffff;stroke-width:0.5;\"/>\r\n    <path clip-path=\"url(#p558c391708)\" d=\"M 361.423437 10.999219 \r\nL 398.623438 10.999219 \r\nL 398.623438 29.119219 \r\nL 361.423437 29.119219 \r\nL 361.423437 10.999219 \r\n\" style=\"fill:#281535;stroke:#ffffff;stroke-width:0.5;\"/>\r\n    <path clip-path=\"url(#p558c391708)\" d=\"M 398.623438 10.999219 \r\nL 435.823438 10.999219 \r\nL 435.823438 29.119219 \r\nL 398.623438 29.119219 \r\nL 398.623438 10.999219 \r\n\" style=\"fill:#271534;stroke:#ffffff;stroke-width:0.5;\"/>\r\n    <path clip-path=\"url(#p558c391708)\" d=\"M 435.823438 10.999219 \r\nL 473.023438 10.999219 \r\nL 473.023438 29.119219 \r\nL 435.823438 29.119219 \r\nL 435.823438 10.999219 \r\n\" style=\"fill:#160e27;stroke:#ffffff;stroke-width:0.5;\"/>\r\n    <path clip-path=\"url(#p558c391708)\" d=\"M 473.023438 10.999219 \r\nL 510.223437 10.999219 \r\nL 510.223437 29.119219 \r\nL 473.023438 29.119219 \r\nL 473.023438 10.999219 \r\n\" style=\"fill:#20122e;stroke:#ffffff;stroke-width:0.5;\"/>\r\n    <path clip-path=\"url(#p558c391708)\" d=\"M 510.223437 10.999219 \r\nL 547.423438 10.999219 \r\nL 547.423438 29.119219 \r\nL 510.223437 29.119219 \r\nL 510.223437 10.999219 \r\n\" style=\"fill:#1d112c;stroke:#ffffff;stroke-width:0.5;\"/>\r\n    <path clip-path=\"url(#p558c391708)\" d=\"M 547.423438 10.999219 \r\nL 584.623438 10.999219 \r\nL 584.623438 29.119219 \r\nL 547.423438 29.119219 \r\nL 547.423438 10.999219 \r\n\" style=\"fill:#211330;stroke:#ffffff;stroke-width:0.5;\"/>\r\n    <path clip-path=\"url(#p558c391708)\" d=\"M 584.623438 10.999219 \r\nL 621.823437 10.999219 \r\nL 621.823437 29.119219 \r\nL 584.623438 29.119219 \r\nL 584.623438 10.999219 \r\n\" style=\"fill:#1d112c;stroke:#ffffff;stroke-width:0.5;\"/>\r\n    <path clip-path=\"url(#p558c391708)\" d=\"M 621.823437 10.999219 \r\nL 659.023438 10.999219 \r\nL 659.023438 29.119219 \r\nL 621.823437 29.119219 \r\nL 621.823437 10.999219 \r\n\" style=\"fill:#271534;stroke:#ffffff;stroke-width:0.5;\"/>\r\n    <path clip-path=\"url(#p558c391708)\" d=\"M 659.023438 10.999219 \r\nL 696.223438 10.999219 \r\nL 696.223438 29.119219 \r\nL 659.023438 29.119219 \r\nL 659.023438 10.999219 \r\n\" style=\"fill:#271534;stroke:#ffffff;stroke-width:0.5;\"/>\r\n    <path clip-path=\"url(#p558c391708)\" d=\"M 696.223438 10.999219 \r\nL 733.423438 10.999219 \r\nL 733.423438 29.119219 \r\nL 696.223438 29.119219 \r\nL 696.223438 10.999219 \r\n\" style=\"fill:#211330;stroke:#ffffff;stroke-width:0.5;\"/>\r\n    <path clip-path=\"url(#p558c391708)\" d=\"M 733.423438 10.999219 \r\nL 770.623438 10.999219 \r\nL 770.623438 29.119219 \r\nL 733.423438 29.119219 \r\nL 733.423438 10.999219 \r\n\" style=\"fill:#2b1637;stroke:#ffffff;stroke-width:0.5;\"/>\r\n    <path clip-path=\"url(#p558c391708)\" d=\"M 770.623438 10.999219 \r\nL 807.823437 10.999219 \r\nL 807.823437 29.119219 \r\nL 770.623438 29.119219 \r\nL 770.623438 10.999219 \r\n\" style=\"fill:#180f29;stroke:#ffffff;stroke-width:0.5;\"/>\r\n    <path clip-path=\"url(#p558c391708)\" d=\"M 138.223437 29.119219 \r\nL 175.423437 29.119219 \r\nL 175.423437 47.239219 \r\nL 138.223437 47.239219 \r\nL 138.223437 29.119219 \r\n\" style=\"fill:#221331;stroke:#ffffff;stroke-width:0.5;\"/>\r\n    <path clip-path=\"url(#p558c391708)\" d=\"M 175.423437 29.119219 \r\nL 212.623437 29.119219 \r\nL 212.623437 47.239219 \r\nL 175.423437 47.239219 \r\nL 175.423437 29.119219 \r\n\" style=\"fill:#faebdd;stroke:#ffffff;stroke-width:0.5;\"/>\r\n    <path clip-path=\"url(#p558c391708)\" d=\"M 212.623437 29.119219 \r\nL 249.823438 29.119219 \r\nL 249.823438 47.239219 \r\nL 212.623437 47.239219 \r\nL 212.623437 29.119219 \r\n\" style=\"fill:#251433;stroke:#ffffff;stroke-width:0.5;\"/>\r\n    <path clip-path=\"url(#p558c391708)\" d=\"M 249.823438 29.119219 \r\nL 287.023438 29.119219 \r\nL 287.023438 47.239219 \r\nL 249.823438 47.239219 \r\nL 249.823438 29.119219 \r\n\" style=\"fill:#170f28;stroke:#ffffff;stroke-width:0.5;\"/>\r\n    <path clip-path=\"url(#p558c391708)\" d=\"M 287.023438 29.119219 \r\nL 324.223437 29.119219 \r\nL 324.223437 47.239219 \r\nL 287.023438 47.239219 \r\nL 287.023438 29.119219 \r\n\" style=\"fill:#140e26;stroke:#ffffff;stroke-width:0.5;\"/>\r\n    <path clip-path=\"url(#p558c391708)\" d=\"M 324.223437 29.119219 \r\nL 361.423437 29.119219 \r\nL 361.423437 47.239219 \r\nL 324.223437 47.239219 \r\nL 324.223437 29.119219 \r\n\" style=\"fill:#1e122d;stroke:#ffffff;stroke-width:0.5;\"/>\r\n    <path clip-path=\"url(#p558c391708)\" d=\"M 361.423437 29.119219 \r\nL 398.623438 29.119219 \r\nL 398.623438 47.239219 \r\nL 361.423437 47.239219 \r\nL 361.423437 29.119219 \r\n\" style=\"fill:#241432;stroke:#ffffff;stroke-width:0.5;\"/>\r\n    <path clip-path=\"url(#p558c391708)\" d=\"M 398.623438 29.119219 \r\nL 435.823438 29.119219 \r\nL 435.823438 47.239219 \r\nL 398.623438 47.239219 \r\nL 398.623438 29.119219 \r\n\" style=\"fill:#1d112c;stroke:#ffffff;stroke-width:0.5;\"/>\r\n    <path clip-path=\"url(#p558c391708)\" d=\"M 435.823438 29.119219 \r\nL 473.023438 29.119219 \r\nL 473.023438 47.239219 \r\nL 435.823438 47.239219 \r\nL 435.823438 29.119219 \r\n\" style=\"fill:#251433;stroke:#ffffff;stroke-width:0.5;\"/>\r\n    <path clip-path=\"url(#p558c391708)\" d=\"M 473.023438 29.119219 \r\nL 510.223437 29.119219 \r\nL 510.223437 47.239219 \r\nL 473.023438 47.239219 \r\nL 473.023438 29.119219 \r\n\" style=\"fill:#1b112b;stroke:#ffffff;stroke-width:0.5;\"/>\r\n    <path clip-path=\"url(#p558c391708)\" d=\"M 510.223437 29.119219 \r\nL 547.423438 29.119219 \r\nL 547.423438 47.239219 \r\nL 510.223437 47.239219 \r\nL 510.223437 29.119219 \r\n\" style=\"fill:#221331;stroke:#ffffff;stroke-width:0.5;\"/>\r\n    <path clip-path=\"url(#p558c391708)\" d=\"M 547.423438 29.119219 \r\nL 584.623438 29.119219 \r\nL 584.623438 47.239219 \r\nL 547.423438 47.239219 \r\nL 547.423438 29.119219 \r\n\" style=\"fill:#170f28;stroke:#ffffff;stroke-width:0.5;\"/>\r\n    <path clip-path=\"url(#p558c391708)\" d=\"M 584.623438 29.119219 \r\nL 621.823437 29.119219 \r\nL 621.823437 47.239219 \r\nL 584.623438 47.239219 \r\nL 584.623438 29.119219 \r\n\" style=\"fill:#130d25;stroke:#ffffff;stroke-width:0.5;\"/>\r\n    <path clip-path=\"url(#p558c391708)\" d=\"M 621.823437 29.119219 \r\nL 659.023438 29.119219 \r\nL 659.023438 47.239219 \r\nL 621.823437 47.239219 \r\nL 621.823437 29.119219 \r\n\" style=\"fill:#160e27;stroke:#ffffff;stroke-width:0.5;\"/>\r\n    <path clip-path=\"url(#p558c391708)\" d=\"M 659.023438 29.119219 \r\nL 696.223438 29.119219 \r\nL 696.223438 47.239219 \r\nL 659.023438 47.239219 \r\nL 659.023438 29.119219 \r\n\" style=\"fill:#180f29;stroke:#ffffff;stroke-width:0.5;\"/>\r\n    <path clip-path=\"url(#p558c391708)\" d=\"M 696.223438 29.119219 \r\nL 733.423438 29.119219 \r\nL 733.423438 47.239219 \r\nL 696.223438 47.239219 \r\nL 696.223438 29.119219 \r\n\" style=\"fill:#221331;stroke:#ffffff;stroke-width:0.5;\"/>\r\n    <path clip-path=\"url(#p558c391708)\" d=\"M 733.423438 29.119219 \r\nL 770.623438 29.119219 \r\nL 770.623438 47.239219 \r\nL 733.423438 47.239219 \r\nL 733.423438 29.119219 \r\n\" style=\"fill:#180f29;stroke:#ffffff;stroke-width:0.5;\"/>\r\n    <path clip-path=\"url(#p558c391708)\" d=\"M 770.623438 29.119219 \r\nL 807.823437 29.119219 \r\nL 807.823437 47.239219 \r\nL 770.623438 47.239219 \r\nL 770.623438 29.119219 \r\n\" style=\"fill:#1d112c;stroke:#ffffff;stroke-width:0.5;\"/>\r\n    <path clip-path=\"url(#p558c391708)\" d=\"M 138.223437 47.239219 \r\nL 175.423437 47.239219 \r\nL 175.423437 65.359219 \r\nL 138.223437 65.359219 \r\nL 138.223437 47.239219 \r\n\" style=\"fill:#170f28;stroke:#ffffff;stroke-width:0.5;\"/>\r\n    <path clip-path=\"url(#p558c391708)\" d=\"M 175.423437 47.239219 \r\nL 212.623437 47.239219 \r\nL 212.623437 65.359219 \r\nL 175.423437 65.359219 \r\nL 175.423437 47.239219 \r\n\" style=\"fill:#251433;stroke:#ffffff;stroke-width:0.5;\"/>\r\n    <path clip-path=\"url(#p558c391708)\" d=\"M 212.623437 47.239219 \r\nL 249.823438 47.239219 \r\nL 249.823438 65.359219 \r\nL 212.623437 65.359219 \r\nL 212.623437 47.239219 \r\n\" style=\"fill:#faebdd;stroke:#ffffff;stroke-width:0.5;\"/>\r\n    <path clip-path=\"url(#p558c391708)\" d=\"M 249.823438 47.239219 \r\nL 287.023438 47.239219 \r\nL 287.023438 65.359219 \r\nL 249.823438 65.359219 \r\nL 249.823438 47.239219 \r\n\" style=\"fill:#20122e;stroke:#ffffff;stroke-width:0.5;\"/>\r\n    <path clip-path=\"url(#p558c391708)\" d=\"M 287.023438 47.239219 \r\nL 324.223437 47.239219 \r\nL 324.223437 65.359219 \r\nL 287.023438 65.359219 \r\nL 287.023438 47.239219 \r\n\" style=\"fill:#170f28;stroke:#ffffff;stroke-width:0.5;\"/>\r\n    <path clip-path=\"url(#p558c391708)\" d=\"M 324.223437 47.239219 \r\nL 361.423437 47.239219 \r\nL 361.423437 65.359219 \r\nL 324.223437 65.359219 \r\nL 324.223437 47.239219 \r\n\" style=\"fill:#160e27;stroke:#ffffff;stroke-width:0.5;\"/>\r\n    <path clip-path=\"url(#p558c391708)\" d=\"M 361.423437 47.239219 \r\nL 398.623438 47.239219 \r\nL 398.623438 65.359219 \r\nL 361.423437 65.359219 \r\nL 361.423437 47.239219 \r\n\" style=\"fill:#20122e;stroke:#ffffff;stroke-width:0.5;\"/>\r\n    <path clip-path=\"url(#p558c391708)\" d=\"M 398.623438 47.239219 \r\nL 435.823438 47.239219 \r\nL 435.823438 65.359219 \r\nL 398.623438 65.359219 \r\nL 398.623438 47.239219 \r\n\" style=\"fill:#1e122d;stroke:#ffffff;stroke-width:0.5;\"/>\r\n    <path clip-path=\"url(#p558c391708)\" d=\"M 435.823438 47.239219 \r\nL 473.023438 47.239219 \r\nL 473.023438 65.359219 \r\nL 435.823438 65.359219 \r\nL 435.823438 47.239219 \r\n\" style=\"fill:#1b112b;stroke:#ffffff;stroke-width:0.5;\"/>\r\n    <path clip-path=\"url(#p558c391708)\" d=\"M 473.023438 47.239219 \r\nL 510.223437 47.239219 \r\nL 510.223437 65.359219 \r\nL 473.023438 65.359219 \r\nL 473.023438 47.239219 \r\n\" style=\"fill:#251433;stroke:#ffffff;stroke-width:0.5;\"/>\r\n    <path clip-path=\"url(#p558c391708)\" d=\"M 510.223437 47.239219 \r\nL 547.423438 47.239219 \r\nL 547.423438 65.359219 \r\nL 510.223437 65.359219 \r\nL 510.223437 47.239219 \r\n\" style=\"fill:#221331;stroke:#ffffff;stroke-width:0.5;\"/>\r\n    <path clip-path=\"url(#p558c391708)\" d=\"M 547.423438 47.239219 \r\nL 584.623438 47.239219 \r\nL 584.623438 65.359219 \r\nL 547.423438 65.359219 \r\nL 547.423438 47.239219 \r\n\" style=\"fill:#281535;stroke:#ffffff;stroke-width:0.5;\"/>\r\n    <path clip-path=\"url(#p558c391708)\" d=\"M 584.623438 47.239219 \r\nL 621.823437 47.239219 \r\nL 621.823437 65.359219 \r\nL 584.623438 65.359219 \r\nL 584.623438 47.239219 \r\n\" style=\"fill:#241432;stroke:#ffffff;stroke-width:0.5;\"/>\r\n    <path clip-path=\"url(#p558c391708)\" d=\"M 621.823437 47.239219 \r\nL 659.023438 47.239219 \r\nL 659.023438 65.359219 \r\nL 621.823437 65.359219 \r\nL 621.823437 47.239219 \r\n\" style=\"fill:#1d112c;stroke:#ffffff;stroke-width:0.5;\"/>\r\n    <path clip-path=\"url(#p558c391708)\" d=\"M 659.023438 47.239219 \r\nL 696.223438 47.239219 \r\nL 696.223438 65.359219 \r\nL 659.023438 65.359219 \r\nL 659.023438 47.239219 \r\n\" style=\"fill:#221331;stroke:#ffffff;stroke-width:0.5;\"/>\r\n    <path clip-path=\"url(#p558c391708)\" d=\"M 696.223438 47.239219 \r\nL 733.423438 47.239219 \r\nL 733.423438 65.359219 \r\nL 696.223438 65.359219 \r\nL 696.223438 47.239219 \r\n\" style=\"fill:#170f28;stroke:#ffffff;stroke-width:0.5;\"/>\r\n    <path clip-path=\"url(#p558c391708)\" d=\"M 733.423438 47.239219 \r\nL 770.623438 47.239219 \r\nL 770.623438 65.359219 \r\nL 733.423438 65.359219 \r\nL 733.423438 47.239219 \r\n\" style=\"fill:#211330;stroke:#ffffff;stroke-width:0.5;\"/>\r\n    <path clip-path=\"url(#p558c391708)\" d=\"M 770.623438 47.239219 \r\nL 807.823437 47.239219 \r\nL 807.823437 65.359219 \r\nL 770.623438 65.359219 \r\nL 770.623438 47.239219 \r\n\" style=\"fill:#241432;stroke:#ffffff;stroke-width:0.5;\"/>\r\n    <path clip-path=\"url(#p558c391708)\" d=\"M 138.223437 65.359219 \r\nL 175.423437 65.359219 \r\nL 175.423437 83.479219 \r\nL 138.223437 83.479219 \r\nL 138.223437 65.359219 \r\n\" style=\"fill:#140e26;stroke:#ffffff;stroke-width:0.5;\"/>\r\n    <path clip-path=\"url(#p558c391708)\" d=\"M 175.423437 65.359219 \r\nL 212.623437 65.359219 \r\nL 212.623437 83.479219 \r\nL 175.423437 83.479219 \r\nL 175.423437 65.359219 \r\n\" style=\"fill:#170f28;stroke:#ffffff;stroke-width:0.5;\"/>\r\n    <path clip-path=\"url(#p558c391708)\" d=\"M 212.623437 65.359219 \r\nL 249.823438 65.359219 \r\nL 249.823438 83.479219 \r\nL 212.623437 83.479219 \r\nL 212.623437 65.359219 \r\n\" style=\"fill:#20122e;stroke:#ffffff;stroke-width:0.5;\"/>\r\n    <path clip-path=\"url(#p558c391708)\" d=\"M 249.823438 65.359219 \r\nL 287.023438 65.359219 \r\nL 287.023438 83.479219 \r\nL 249.823438 83.479219 \r\nL 249.823438 65.359219 \r\n\" style=\"fill:#faebdd;stroke:#ffffff;stroke-width:0.5;\"/>\r\n    <path clip-path=\"url(#p558c391708)\" d=\"M 287.023438 65.359219 \r\nL 324.223437 65.359219 \r\nL 324.223437 83.479219 \r\nL 287.023438 83.479219 \r\nL 287.023438 65.359219 \r\n\" style=\"fill:#271534;stroke:#ffffff;stroke-width:0.5;\"/>\r\n    <path clip-path=\"url(#p558c391708)\" d=\"M 324.223437 65.359219 \r\nL 361.423437 65.359219 \r\nL 361.423437 83.479219 \r\nL 324.223437 83.479219 \r\nL 324.223437 65.359219 \r\n\" style=\"fill:#1d112c;stroke:#ffffff;stroke-width:0.5;\"/>\r\n    <path clip-path=\"url(#p558c391708)\" d=\"M 361.423437 65.359219 \r\nL 398.623438 65.359219 \r\nL 398.623438 83.479219 \r\nL 361.423437 83.479219 \r\nL 361.423437 65.359219 \r\n\" style=\"fill:#2d1738;stroke:#ffffff;stroke-width:0.5;\"/>\r\n    <path clip-path=\"url(#p558c391708)\" d=\"M 398.623438 65.359219 \r\nL 435.823438 65.359219 \r\nL 435.823438 83.479219 \r\nL 398.623438 83.479219 \r\nL 398.623438 65.359219 \r\n\" style=\"fill:#221331;stroke:#ffffff;stroke-width:0.5;\"/>\r\n    <path clip-path=\"url(#p558c391708)\" d=\"M 435.823438 65.359219 \r\nL 473.023438 65.359219 \r\nL 473.023438 83.479219 \r\nL 435.823438 83.479219 \r\nL 435.823438 65.359219 \r\n\" style=\"fill:#271534;stroke:#ffffff;stroke-width:0.5;\"/>\r\n    <path clip-path=\"url(#p558c391708)\" d=\"M 473.023438 65.359219 \r\nL 510.223437 65.359219 \r\nL 510.223437 83.479219 \r\nL 473.023438 83.479219 \r\nL 473.023438 65.359219 \r\n\" style=\"fill:#1e122d;stroke:#ffffff;stroke-width:0.5;\"/>\r\n    <path clip-path=\"url(#p558c391708)\" d=\"M 510.223437 65.359219 \r\nL 547.423438 65.359219 \r\nL 547.423438 83.479219 \r\nL 510.223437 83.479219 \r\nL 510.223437 65.359219 \r\n\" style=\"fill:#1d112c;stroke:#ffffff;stroke-width:0.5;\"/>\r\n    <path clip-path=\"url(#p558c391708)\" d=\"M 547.423438 65.359219 \r\nL 584.623438 65.359219 \r\nL 584.623438 83.479219 \r\nL 547.423438 83.479219 \r\nL 547.423438 65.359219 \r\n\" style=\"fill:#1d112c;stroke:#ffffff;stroke-width:0.5;\"/>\r\n    <path clip-path=\"url(#p558c391708)\" d=\"M 584.623438 65.359219 \r\nL 621.823437 65.359219 \r\nL 621.823437 83.479219 \r\nL 584.623438 83.479219 \r\nL 584.623438 65.359219 \r\n\" style=\"fill:#271534;stroke:#ffffff;stroke-width:0.5;\"/>\r\n    <path clip-path=\"url(#p558c391708)\" d=\"M 621.823437 65.359219 \r\nL 659.023438 65.359219 \r\nL 659.023438 83.479219 \r\nL 621.823437 83.479219 \r\nL 621.823437 65.359219 \r\n\" style=\"fill:#221331;stroke:#ffffff;stroke-width:0.5;\"/>\r\n    <path clip-path=\"url(#p558c391708)\" d=\"M 659.023438 65.359219 \r\nL 696.223438 65.359219 \r\nL 696.223438 83.479219 \r\nL 659.023438 83.479219 \r\nL 659.023438 65.359219 \r\n\" style=\"fill:#221331;stroke:#ffffff;stroke-width:0.5;\"/>\r\n    <path clip-path=\"url(#p558c391708)\" d=\"M 696.223438 65.359219 \r\nL 733.423438 65.359219 \r\nL 733.423438 83.479219 \r\nL 696.223438 83.479219 \r\nL 696.223438 65.359219 \r\n\" style=\"fill:#1e122d;stroke:#ffffff;stroke-width:0.5;\"/>\r\n    <path clip-path=\"url(#p558c391708)\" d=\"M 733.423438 65.359219 \r\nL 770.623438 65.359219 \r\nL 770.623438 83.479219 \r\nL 733.423438 83.479219 \r\nL 733.423438 65.359219 \r\n\" style=\"fill:#241432;stroke:#ffffff;stroke-width:0.5;\"/>\r\n    <path clip-path=\"url(#p558c391708)\" d=\"M 770.623438 65.359219 \r\nL 807.823437 65.359219 \r\nL 807.823437 83.479219 \r\nL 770.623438 83.479219 \r\nL 770.623438 65.359219 \r\n\" style=\"fill:#1b112b;stroke:#ffffff;stroke-width:0.5;\"/>\r\n    <path clip-path=\"url(#p558c391708)\" d=\"M 138.223437 83.479219 \r\nL 175.423437 83.479219 \r\nL 175.423437 101.599219 \r\nL 138.223437 101.599219 \r\nL 138.223437 83.479219 \r\n\" style=\"fill:#251433;stroke:#ffffff;stroke-width:0.5;\"/>\r\n    <path clip-path=\"url(#p558c391708)\" d=\"M 175.423437 83.479219 \r\nL 212.623437 83.479219 \r\nL 212.623437 101.599219 \r\nL 175.423437 101.599219 \r\nL 175.423437 83.479219 \r\n\" style=\"fill:#140e26;stroke:#ffffff;stroke-width:0.5;\"/>\r\n    <path clip-path=\"url(#p558c391708)\" d=\"M 212.623437 83.479219 \r\nL 249.823438 83.479219 \r\nL 249.823438 101.599219 \r\nL 212.623437 101.599219 \r\nL 212.623437 83.479219 \r\n\" style=\"fill:#170f28;stroke:#ffffff;stroke-width:0.5;\"/>\r\n    <path clip-path=\"url(#p558c391708)\" d=\"M 249.823438 83.479219 \r\nL 287.023438 83.479219 \r\nL 287.023438 101.599219 \r\nL 249.823438 101.599219 \r\nL 249.823438 83.479219 \r\n\" style=\"fill:#271534;stroke:#ffffff;stroke-width:0.5;\"/>\r\n    <path clip-path=\"url(#p558c391708)\" d=\"M 287.023438 83.479219 \r\nL 324.223437 83.479219 \r\nL 324.223437 101.599219 \r\nL 287.023438 101.599219 \r\nL 287.023438 83.479219 \r\n\" style=\"fill:#faebdd;stroke:#ffffff;stroke-width:0.5;\"/>\r\n    <path clip-path=\"url(#p558c391708)\" d=\"M 324.223437 83.479219 \r\nL 361.423437 83.479219 \r\nL 361.423437 101.599219 \r\nL 324.223437 101.599219 \r\nL 324.223437 83.479219 \r\n\" style=\"fill:#eb463e;stroke:#ffffff;stroke-width:0.5;\"/>\r\n    <path clip-path=\"url(#p558c391708)\" d=\"M 361.423437 83.479219 \r\nL 398.623438 83.479219 \r\nL 398.623438 101.599219 \r\nL 361.423437 101.599219 \r\nL 361.423437 83.479219 \r\n\" style=\"fill:#1d112c;stroke:#ffffff;stroke-width:0.5;\"/>\r\n    <path clip-path=\"url(#p558c391708)\" d=\"M 398.623438 83.479219 \r\nL 435.823438 83.479219 \r\nL 435.823438 101.599219 \r\nL 398.623438 101.599219 \r\nL 398.623438 83.479219 \r\n\" style=\"fill:#2b1637;stroke:#ffffff;stroke-width:0.5;\"/>\r\n    <path clip-path=\"url(#p558c391708)\" d=\"M 435.823438 83.479219 \r\nL 473.023438 83.479219 \r\nL 473.023438 101.599219 \r\nL 435.823438 101.599219 \r\nL 435.823438 83.479219 \r\n\" style=\"fill:#1e122d;stroke:#ffffff;stroke-width:0.5;\"/>\r\n    <path clip-path=\"url(#p558c391708)\" d=\"M 473.023438 83.479219 \r\nL 510.223437 83.479219 \r\nL 510.223437 101.599219 \r\nL 473.023438 101.599219 \r\nL 473.023438 83.479219 \r\n\" style=\"fill:#281535;stroke:#ffffff;stroke-width:0.5;\"/>\r\n    <path clip-path=\"url(#p558c391708)\" d=\"M 510.223437 83.479219 \r\nL 547.423438 83.479219 \r\nL 547.423438 101.599219 \r\nL 510.223437 101.599219 \r\nL 510.223437 83.479219 \r\n\" style=\"fill:#241432;stroke:#ffffff;stroke-width:0.5;\"/>\r\n    <path clip-path=\"url(#p558c391708)\" d=\"M 547.423438 83.479219 \r\nL 584.623438 83.479219 \r\nL 584.623438 101.599219 \r\nL 547.423438 101.599219 \r\nL 547.423438 83.479219 \r\n\" style=\"fill:#180f29;stroke:#ffffff;stroke-width:0.5;\"/>\r\n    <path clip-path=\"url(#p558c391708)\" d=\"M 584.623438 83.479219 \r\nL 621.823437 83.479219 \r\nL 621.823437 101.599219 \r\nL 584.623438 101.599219 \r\nL 584.623438 83.479219 \r\n\" style=\"fill:#251433;stroke:#ffffff;stroke-width:0.5;\"/>\r\n    <path clip-path=\"url(#p558c391708)\" d=\"M 621.823437 83.479219 \r\nL 659.023438 83.479219 \r\nL 659.023438 101.599219 \r\nL 621.823437 101.599219 \r\nL 621.823437 83.479219 \r\n\" style=\"fill:#2b1637;stroke:#ffffff;stroke-width:0.5;\"/>\r\n    <path clip-path=\"url(#p558c391708)\" d=\"M 659.023438 83.479219 \r\nL 696.223438 83.479219 \r\nL 696.223438 101.599219 \r\nL 659.023438 101.599219 \r\nL 659.023438 83.479219 \r\n\" style=\"fill:#2b1637;stroke:#ffffff;stroke-width:0.5;\"/>\r\n    <path clip-path=\"url(#p558c391708)\" d=\"M 696.223438 83.479219 \r\nL 733.423438 83.479219 \r\nL 733.423438 101.599219 \r\nL 696.223438 101.599219 \r\nL 696.223438 83.479219 \r\n\" style=\"fill:#140e26;stroke:#ffffff;stroke-width:0.5;\"/>\r\n    <path clip-path=\"url(#p558c391708)\" d=\"M 733.423438 83.479219 \r\nL 770.623438 83.479219 \r\nL 770.623438 101.599219 \r\nL 733.423438 101.599219 \r\nL 733.423438 83.479219 \r\n\" style=\"fill:#531e4d;stroke:#ffffff;stroke-width:0.5;\"/>\r\n    <path clip-path=\"url(#p558c391708)\" d=\"M 770.623438 83.479219 \r\nL 807.823437 83.479219 \r\nL 807.823437 101.599219 \r\nL 770.623438 101.599219 \r\nL 770.623438 83.479219 \r\n\" style=\"fill:#2d1738;stroke:#ffffff;stroke-width:0.5;\"/>\r\n    <path clip-path=\"url(#p558c391708)\" d=\"M 138.223437 101.599219 \r\nL 175.423437 101.599219 \r\nL 175.423437 119.719219 \r\nL 138.223437 119.719219 \r\nL 138.223437 101.599219 \r\n\" style=\"fill:#211330;stroke:#ffffff;stroke-width:0.5;\"/>\r\n    <path clip-path=\"url(#p558c391708)\" d=\"M 175.423437 101.599219 \r\nL 212.623437 101.599219 \r\nL 212.623437 119.719219 \r\nL 175.423437 119.719219 \r\nL 175.423437 101.599219 \r\n\" style=\"fill:#1e122d;stroke:#ffffff;stroke-width:0.5;\"/>\r\n    <path clip-path=\"url(#p558c391708)\" d=\"M 212.623437 101.599219 \r\nL 249.823438 101.599219 \r\nL 249.823438 119.719219 \r\nL 212.623437 119.719219 \r\nL 212.623437 101.599219 \r\n\" style=\"fill:#160e27;stroke:#ffffff;stroke-width:0.5;\"/>\r\n    <path clip-path=\"url(#p558c391708)\" d=\"M 249.823438 101.599219 \r\nL 287.023438 101.599219 \r\nL 287.023438 119.719219 \r\nL 249.823438 119.719219 \r\nL 249.823438 101.599219 \r\n\" style=\"fill:#1d112c;stroke:#ffffff;stroke-width:0.5;\"/>\r\n    <path clip-path=\"url(#p558c391708)\" d=\"M 287.023438 101.599219 \r\nL 324.223437 101.599219 \r\nL 324.223437 119.719219 \r\nL 287.023438 119.719219 \r\nL 287.023438 101.599219 \r\n\" style=\"fill:#eb463e;stroke:#ffffff;stroke-width:0.5;\"/>\r\n    <path clip-path=\"url(#p558c391708)\" d=\"M 324.223437 101.599219 \r\nL 361.423437 101.599219 \r\nL 361.423437 119.719219 \r\nL 324.223437 119.719219 \r\nL 324.223437 101.599219 \r\n\" style=\"fill:#faebdd;stroke:#ffffff;stroke-width:0.5;\"/>\r\n    <path clip-path=\"url(#p558c391708)\" d=\"M 361.423437 101.599219 \r\nL 398.623438 101.599219 \r\nL 398.623438 119.719219 \r\nL 361.423437 119.719219 \r\nL 361.423437 101.599219 \r\n\" style=\"fill:#1a102a;stroke:#ffffff;stroke-width:0.5;\"/>\r\n    <path clip-path=\"url(#p558c391708)\" d=\"M 398.623438 101.599219 \r\nL 435.823438 101.599219 \r\nL 435.823438 119.719219 \r\nL 398.623438 119.719219 \r\nL 398.623438 101.599219 \r\n\" style=\"fill:#1d112c;stroke:#ffffff;stroke-width:0.5;\"/>\r\n    <path clip-path=\"url(#p558c391708)\" d=\"M 435.823438 101.599219 \r\nL 473.023438 101.599219 \r\nL 473.023438 119.719219 \r\nL 435.823438 119.719219 \r\nL 435.823438 101.599219 \r\n\" style=\"fill:#1b112b;stroke:#ffffff;stroke-width:0.5;\"/>\r\n    <path clip-path=\"url(#p558c391708)\" d=\"M 473.023438 101.599219 \r\nL 510.223437 101.599219 \r\nL 510.223437 119.719219 \r\nL 473.023438 119.719219 \r\nL 473.023438 101.599219 \r\n\" style=\"fill:#241432;stroke:#ffffff;stroke-width:0.5;\"/>\r\n    <path clip-path=\"url(#p558c391708)\" d=\"M 510.223437 101.599219 \r\nL 547.423438 101.599219 \r\nL 547.423438 119.719219 \r\nL 510.223437 119.719219 \r\nL 510.223437 101.599219 \r\n\" style=\"fill:#20122e;stroke:#ffffff;stroke-width:0.5;\"/>\r\n    <path clip-path=\"url(#p558c391708)\" d=\"M 547.423438 101.599219 \r\nL 584.623438 101.599219 \r\nL 584.623438 119.719219 \r\nL 547.423438 119.719219 \r\nL 547.423438 101.599219 \r\n\" style=\"fill:#20122e;stroke:#ffffff;stroke-width:0.5;\"/>\r\n    <path clip-path=\"url(#p558c391708)\" d=\"M 584.623438 101.599219 \r\nL 621.823437 101.599219 \r\nL 621.823437 119.719219 \r\nL 584.623438 119.719219 \r\nL 584.623438 101.599219 \r\n\" style=\"fill:#221331;stroke:#ffffff;stroke-width:0.5;\"/>\r\n    <path clip-path=\"url(#p558c391708)\" d=\"M 621.823437 101.599219 \r\nL 659.023438 101.599219 \r\nL 659.023438 119.719219 \r\nL 621.823437 119.719219 \r\nL 621.823437 101.599219 \r\n\" style=\"fill:#1e122d;stroke:#ffffff;stroke-width:0.5;\"/>\r\n    <path clip-path=\"url(#p558c391708)\" d=\"M 659.023438 101.599219 \r\nL 696.223438 101.599219 \r\nL 696.223438 119.719219 \r\nL 659.023438 119.719219 \r\nL 659.023438 101.599219 \r\n\" style=\"fill:#20122e;stroke:#ffffff;stroke-width:0.5;\"/>\r\n    <path clip-path=\"url(#p558c391708)\" d=\"M 696.223438 101.599219 \r\nL 733.423438 101.599219 \r\nL 733.423438 119.719219 \r\nL 696.223438 119.719219 \r\nL 696.223438 101.599219 \r\n\" style=\"fill:#1a102a;stroke:#ffffff;stroke-width:0.5;\"/>\r\n    <path clip-path=\"url(#p558c391708)\" d=\"M 733.423438 101.599219 \r\nL 770.623438 101.599219 \r\nL 770.623438 119.719219 \r\nL 733.423438 119.719219 \r\nL 733.423438 101.599219 \r\n\" style=\"fill:#03051a;stroke:#ffffff;stroke-width:0.5;\"/>\r\n    <path clip-path=\"url(#p558c391708)\" d=\"M 770.623438 101.599219 \r\nL 807.823437 101.599219 \r\nL 807.823437 119.719219 \r\nL 770.623438 119.719219 \r\nL 770.623438 101.599219 \r\n\" style=\"fill:#1e122d;stroke:#ffffff;stroke-width:0.5;\"/>\r\n    <path clip-path=\"url(#p558c391708)\" d=\"M 138.223437 119.719219 \r\nL 175.423437 119.719219 \r\nL 175.423437 137.839219 \r\nL 138.223437 137.839219 \r\nL 138.223437 119.719219 \r\n\" style=\"fill:#281535;stroke:#ffffff;stroke-width:0.5;\"/>\r\n    <path clip-path=\"url(#p558c391708)\" d=\"M 175.423437 119.719219 \r\nL 212.623437 119.719219 \r\nL 212.623437 137.839219 \r\nL 175.423437 137.839219 \r\nL 175.423437 119.719219 \r\n\" style=\"fill:#241432;stroke:#ffffff;stroke-width:0.5;\"/>\r\n    <path clip-path=\"url(#p558c391708)\" d=\"M 212.623437 119.719219 \r\nL 249.823438 119.719219 \r\nL 249.823438 137.839219 \r\nL 212.623437 137.839219 \r\nL 212.623437 119.719219 \r\n\" style=\"fill:#20122e;stroke:#ffffff;stroke-width:0.5;\"/>\r\n    <path clip-path=\"url(#p558c391708)\" d=\"M 249.823438 119.719219 \r\nL 287.023438 119.719219 \r\nL 287.023438 137.839219 \r\nL 249.823438 137.839219 \r\nL 249.823438 119.719219 \r\n\" style=\"fill:#2d1738;stroke:#ffffff;stroke-width:0.5;\"/>\r\n    <path clip-path=\"url(#p558c391708)\" d=\"M 287.023438 119.719219 \r\nL 324.223437 119.719219 \r\nL 324.223437 137.839219 \r\nL 287.023438 137.839219 \r\nL 287.023438 119.719219 \r\n\" style=\"fill:#1d112c;stroke:#ffffff;stroke-width:0.5;\"/>\r\n    <path clip-path=\"url(#p558c391708)\" d=\"M 324.223437 119.719219 \r\nL 361.423437 119.719219 \r\nL 361.423437 137.839219 \r\nL 324.223437 137.839219 \r\nL 324.223437 119.719219 \r\n\" style=\"fill:#1a102a;stroke:#ffffff;stroke-width:0.5;\"/>\r\n    <path clip-path=\"url(#p558c391708)\" d=\"M 361.423437 119.719219 \r\nL 398.623438 119.719219 \r\nL 398.623438 137.839219 \r\nL 361.423437 137.839219 \r\nL 361.423437 119.719219 \r\n\" style=\"fill:#faebdd;stroke:#ffffff;stroke-width:0.5;\"/>\r\n    <path clip-path=\"url(#p558c391708)\" d=\"M 398.623438 119.719219 \r\nL 435.823438 119.719219 \r\nL 435.823438 137.839219 \r\nL 398.623438 137.839219 \r\nL 398.623438 119.719219 \r\n\" style=\"fill:#30173a;stroke:#ffffff;stroke-width:0.5;\"/>\r\n    <path clip-path=\"url(#p558c391708)\" d=\"M 435.823438 119.719219 \r\nL 473.023438 119.719219 \r\nL 473.023438 137.839219 \r\nL 435.823438 137.839219 \r\nL 435.823438 119.719219 \r\n\" style=\"fill:#281535;stroke:#ffffff;stroke-width:0.5;\"/>\r\n    <path clip-path=\"url(#p558c391708)\" d=\"M 473.023438 119.719219 \r\nL 510.223437 119.719219 \r\nL 510.223437 137.839219 \r\nL 473.023438 137.839219 \r\nL 473.023438 119.719219 \r\n\" style=\"fill:#1d112c;stroke:#ffffff;stroke-width:0.5;\"/>\r\n    <path clip-path=\"url(#p558c391708)\" d=\"M 510.223437 119.719219 \r\nL 547.423438 119.719219 \r\nL 547.423438 137.839219 \r\nL 510.223437 137.839219 \r\nL 510.223437 119.719219 \r\n\" style=\"fill:#20122e;stroke:#ffffff;stroke-width:0.5;\"/>\r\n    <path clip-path=\"url(#p558c391708)\" d=\"M 547.423438 119.719219 \r\nL 584.623438 119.719219 \r\nL 584.623438 137.839219 \r\nL 547.423438 137.839219 \r\nL 547.423438 119.719219 \r\n\" style=\"fill:#2b1637;stroke:#ffffff;stroke-width:0.5;\"/>\r\n    <path clip-path=\"url(#p558c391708)\" d=\"M 584.623438 119.719219 \r\nL 621.823437 119.719219 \r\nL 621.823437 137.839219 \r\nL 584.623438 137.839219 \r\nL 584.623438 119.719219 \r\n\" style=\"fill:#241432;stroke:#ffffff;stroke-width:0.5;\"/>\r\n    <path clip-path=\"url(#p558c391708)\" d=\"M 621.823437 119.719219 \r\nL 659.023438 119.719219 \r\nL 659.023438 137.839219 \r\nL 621.823437 137.839219 \r\nL 621.823437 119.719219 \r\n\" style=\"fill:#2a1636;stroke:#ffffff;stroke-width:0.5;\"/>\r\n    <path clip-path=\"url(#p558c391708)\" d=\"M 659.023438 119.719219 \r\nL 696.223438 119.719219 \r\nL 696.223438 137.839219 \r\nL 659.023438 137.839219 \r\nL 659.023438 119.719219 \r\n\" style=\"fill:#30173a;stroke:#ffffff;stroke-width:0.5;\"/>\r\n    <path clip-path=\"url(#p558c391708)\" d=\"M 696.223438 119.719219 \r\nL 733.423438 119.719219 \r\nL 733.423438 137.839219 \r\nL 696.223438 137.839219 \r\nL 696.223438 119.719219 \r\n\" style=\"fill:#170f28;stroke:#ffffff;stroke-width:0.5;\"/>\r\n    <path clip-path=\"url(#p558c391708)\" d=\"M 733.423438 119.719219 \r\nL 770.623438 119.719219 \r\nL 770.623438 137.839219 \r\nL 733.423438 137.839219 \r\nL 733.423438 119.719219 \r\n\" style=\"fill:#2d1738;stroke:#ffffff;stroke-width:0.5;\"/>\r\n    <path clip-path=\"url(#p558c391708)\" d=\"M 770.623438 119.719219 \r\nL 807.823437 119.719219 \r\nL 807.823437 137.839219 \r\nL 770.623438 137.839219 \r\nL 770.623438 119.719219 \r\n\" style=\"fill:#1d112c;stroke:#ffffff;stroke-width:0.5;\"/>\r\n    <path clip-path=\"url(#p558c391708)\" d=\"M 138.223437 137.839219 \r\nL 175.423437 137.839219 \r\nL 175.423437 155.959219 \r\nL 138.223437 155.959219 \r\nL 138.223437 137.839219 \r\n\" style=\"fill:#271534;stroke:#ffffff;stroke-width:0.5;\"/>\r\n    <path clip-path=\"url(#p558c391708)\" d=\"M 175.423437 137.839219 \r\nL 212.623437 137.839219 \r\nL 212.623437 155.959219 \r\nL 175.423437 155.959219 \r\nL 175.423437 137.839219 \r\n\" style=\"fill:#1d112c;stroke:#ffffff;stroke-width:0.5;\"/>\r\n    <path clip-path=\"url(#p558c391708)\" d=\"M 212.623437 137.839219 \r\nL 249.823438 137.839219 \r\nL 249.823438 155.959219 \r\nL 212.623437 155.959219 \r\nL 212.623437 137.839219 \r\n\" style=\"fill:#1e122d;stroke:#ffffff;stroke-width:0.5;\"/>\r\n    <path clip-path=\"url(#p558c391708)\" d=\"M 249.823438 137.839219 \r\nL 287.023438 137.839219 \r\nL 287.023438 155.959219 \r\nL 249.823438 155.959219 \r\nL 249.823438 137.839219 \r\n\" style=\"fill:#221331;stroke:#ffffff;stroke-width:0.5;\"/>\r\n    <path clip-path=\"url(#p558c391708)\" d=\"M 287.023438 137.839219 \r\nL 324.223437 137.839219 \r\nL 324.223437 155.959219 \r\nL 287.023438 155.959219 \r\nL 287.023438 137.839219 \r\n\" style=\"fill:#2b1637;stroke:#ffffff;stroke-width:0.5;\"/>\r\n    <path clip-path=\"url(#p558c391708)\" d=\"M 324.223437 137.839219 \r\nL 361.423437 137.839219 \r\nL 361.423437 155.959219 \r\nL 324.223437 155.959219 \r\nL 324.223437 137.839219 \r\n\" style=\"fill:#1d112c;stroke:#ffffff;stroke-width:0.5;\"/>\r\n    <path clip-path=\"url(#p558c391708)\" d=\"M 361.423437 137.839219 \r\nL 398.623438 137.839219 \r\nL 398.623438 155.959219 \r\nL 361.423437 155.959219 \r\nL 361.423437 137.839219 \r\n\" style=\"fill:#30173a;stroke:#ffffff;stroke-width:0.5;\"/>\r\n    <path clip-path=\"url(#p558c391708)\" d=\"M 398.623438 137.839219 \r\nL 435.823438 137.839219 \r\nL 435.823438 155.959219 \r\nL 398.623438 155.959219 \r\nL 398.623438 137.839219 \r\n\" style=\"fill:#faebdd;stroke:#ffffff;stroke-width:0.5;\"/>\r\n    <path clip-path=\"url(#p558c391708)\" d=\"M 435.823438 137.839219 \r\nL 473.023438 137.839219 \r\nL 473.023438 155.959219 \r\nL 435.823438 155.959219 \r\nL 435.823438 137.839219 \r\n\" style=\"fill:#3a1a41;stroke:#ffffff;stroke-width:0.5;\"/>\r\n    <path clip-path=\"url(#p558c391708)\" d=\"M 473.023438 137.839219 \r\nL 510.223437 137.839219 \r\nL 510.223437 155.959219 \r\nL 473.023438 155.959219 \r\nL 473.023438 137.839219 \r\n\" style=\"fill:#35193e;stroke:#ffffff;stroke-width:0.5;\"/>\r\n    <path clip-path=\"url(#p558c391708)\" d=\"M 510.223437 137.839219 \r\nL 547.423438 137.839219 \r\nL 547.423438 155.959219 \r\nL 510.223437 155.959219 \r\nL 510.223437 137.839219 \r\n\" style=\"fill:#3f1b43;stroke:#ffffff;stroke-width:0.5;\"/>\r\n    <path clip-path=\"url(#p558c391708)\" d=\"M 547.423438 137.839219 \r\nL 584.623438 137.839219 \r\nL 584.623438 155.959219 \r\nL 547.423438 155.959219 \r\nL 547.423438 137.839219 \r\n\" style=\"fill:#34193d;stroke:#ffffff;stroke-width:0.5;\"/>\r\n    <path clip-path=\"url(#p558c391708)\" d=\"M 584.623438 137.839219 \r\nL 621.823437 137.839219 \r\nL 621.823437 155.959219 \r\nL 584.623438 155.959219 \r\nL 584.623438 137.839219 \r\n\" style=\"fill:#2e1739;stroke:#ffffff;stroke-width:0.5;\"/>\r\n    <path clip-path=\"url(#p558c391708)\" d=\"M 621.823437 137.839219 \r\nL 659.023438 137.839219 \r\nL 659.023438 155.959219 \r\nL 621.823437 155.959219 \r\nL 621.823437 137.839219 \r\n\" style=\"fill:#2b1637;stroke:#ffffff;stroke-width:0.5;\"/>\r\n    <path clip-path=\"url(#p558c391708)\" d=\"M 659.023438 137.839219 \r\nL 696.223438 137.839219 \r\nL 696.223438 155.959219 \r\nL 659.023438 155.959219 \r\nL 659.023438 137.839219 \r\n\" style=\"fill:#f7c7a8;stroke:#ffffff;stroke-width:0.5;\"/>\r\n    <path clip-path=\"url(#p558c391708)\" d=\"M 696.223438 137.839219 \r\nL 733.423438 137.839219 \r\nL 733.423438 155.959219 \r\nL 696.223438 155.959219 \r\nL 696.223438 137.839219 \r\n\" style=\"fill:#1a102a;stroke:#ffffff;stroke-width:0.5;\"/>\r\n    <path clip-path=\"url(#p558c391708)\" d=\"M 733.423438 137.839219 \r\nL 770.623438 137.839219 \r\nL 770.623438 155.959219 \r\nL 733.423438 155.959219 \r\nL 733.423438 137.839219 \r\n\" style=\"fill:#711f57;stroke:#ffffff;stroke-width:0.5;\"/>\r\n    <path clip-path=\"url(#p558c391708)\" d=\"M 770.623438 137.839219 \r\nL 807.823437 137.839219 \r\nL 807.823437 155.959219 \r\nL 770.623438 155.959219 \r\nL 770.623438 137.839219 \r\n\" style=\"fill:#1d112c;stroke:#ffffff;stroke-width:0.5;\"/>\r\n    <path clip-path=\"url(#p558c391708)\" d=\"M 138.223437 155.959219 \r\nL 175.423437 155.959219 \r\nL 175.423437 174.079219 \r\nL 138.223437 174.079219 \r\nL 138.223437 155.959219 \r\n\" style=\"fill:#160e27;stroke:#ffffff;stroke-width:0.5;\"/>\r\n    <path clip-path=\"url(#p558c391708)\" d=\"M 175.423437 155.959219 \r\nL 212.623437 155.959219 \r\nL 212.623437 174.079219 \r\nL 175.423437 174.079219 \r\nL 175.423437 155.959219 \r\n\" style=\"fill:#251433;stroke:#ffffff;stroke-width:0.5;\"/>\r\n    <path clip-path=\"url(#p558c391708)\" d=\"M 212.623437 155.959219 \r\nL 249.823438 155.959219 \r\nL 249.823438 174.079219 \r\nL 212.623437 174.079219 \r\nL 212.623437 155.959219 \r\n\" style=\"fill:#1b112b;stroke:#ffffff;stroke-width:0.5;\"/>\r\n    <path clip-path=\"url(#p558c391708)\" d=\"M 249.823438 155.959219 \r\nL 287.023438 155.959219 \r\nL 287.023438 174.079219 \r\nL 249.823438 174.079219 \r\nL 249.823438 155.959219 \r\n\" style=\"fill:#271534;stroke:#ffffff;stroke-width:0.5;\"/>\r\n    <path clip-path=\"url(#p558c391708)\" d=\"M 287.023438 155.959219 \r\nL 324.223437 155.959219 \r\nL 324.223437 174.079219 \r\nL 287.023438 174.079219 \r\nL 287.023438 155.959219 \r\n\" style=\"fill:#1e122d;stroke:#ffffff;stroke-width:0.5;\"/>\r\n    <path clip-path=\"url(#p558c391708)\" d=\"M 324.223437 155.959219 \r\nL 361.423437 155.959219 \r\nL 361.423437 174.079219 \r\nL 324.223437 174.079219 \r\nL 324.223437 155.959219 \r\n\" style=\"fill:#1b112b;stroke:#ffffff;stroke-width:0.5;\"/>\r\n    <path clip-path=\"url(#p558c391708)\" d=\"M 361.423437 155.959219 \r\nL 398.623438 155.959219 \r\nL 398.623438 174.079219 \r\nL 361.423437 174.079219 \r\nL 361.423437 155.959219 \r\n\" style=\"fill:#281535;stroke:#ffffff;stroke-width:0.5;\"/>\r\n    <path clip-path=\"url(#p558c391708)\" d=\"M 398.623438 155.959219 \r\nL 435.823438 155.959219 \r\nL 435.823438 174.079219 \r\nL 398.623438 174.079219 \r\nL 398.623438 155.959219 \r\n\" style=\"fill:#3a1a41;stroke:#ffffff;stroke-width:0.5;\"/>\r\n    <path clip-path=\"url(#p558c391708)\" d=\"M 435.823438 155.959219 \r\nL 473.023438 155.959219 \r\nL 473.023438 174.079219 \r\nL 435.823438 174.079219 \r\nL 435.823438 155.959219 \r\n\" style=\"fill:#faebdd;stroke:#ffffff;stroke-width:0.5;\"/>\r\n    <path clip-path=\"url(#p558c391708)\" d=\"M 473.023438 155.959219 \r\nL 510.223437 155.959219 \r\nL 510.223437 174.079219 \r\nL 473.023438 174.079219 \r\nL 473.023438 155.959219 \r\n\" style=\"fill:#251433;stroke:#ffffff;stroke-width:0.5;\"/>\r\n    <path clip-path=\"url(#p558c391708)\" d=\"M 510.223437 155.959219 \r\nL 547.423438 155.959219 \r\nL 547.423438 174.079219 \r\nL 510.223437 174.079219 \r\nL 510.223437 155.959219 \r\n\" style=\"fill:#2e1739;stroke:#ffffff;stroke-width:0.5;\"/>\r\n    <path clip-path=\"url(#p558c391708)\" d=\"M 547.423438 155.959219 \r\nL 584.623438 155.959219 \r\nL 584.623438 174.079219 \r\nL 547.423438 174.079219 \r\nL 547.423438 155.959219 \r\n\" style=\"fill:#281535;stroke:#ffffff;stroke-width:0.5;\"/>\r\n    <path clip-path=\"url(#p558c391708)\" d=\"M 584.623438 155.959219 \r\nL 621.823437 155.959219 \r\nL 621.823437 174.079219 \r\nL 584.623438 174.079219 \r\nL 584.623438 155.959219 \r\n\" style=\"fill:#2b1637;stroke:#ffffff;stroke-width:0.5;\"/>\r\n    <path clip-path=\"url(#p558c391708)\" d=\"M 621.823437 155.959219 \r\nL 659.023438 155.959219 \r\nL 659.023438 174.079219 \r\nL 621.823437 174.079219 \r\nL 621.823437 155.959219 \r\n\" style=\"fill:#2a1636;stroke:#ffffff;stroke-width:0.5;\"/>\r\n    <path clip-path=\"url(#p558c391708)\" d=\"M 659.023438 155.959219 \r\nL 696.223438 155.959219 \r\nL 696.223438 174.079219 \r\nL 659.023438 174.079219 \r\nL 659.023438 155.959219 \r\n\" style=\"fill:#3c1a42;stroke:#ffffff;stroke-width:0.5;\"/>\r\n    <path clip-path=\"url(#p558c391708)\" d=\"M 696.223438 155.959219 \r\nL 733.423438 155.959219 \r\nL 733.423438 174.079219 \r\nL 696.223438 174.079219 \r\nL 696.223438 155.959219 \r\n\" style=\"fill:#1e122d;stroke:#ffffff;stroke-width:0.5;\"/>\r\n    <path clip-path=\"url(#p558c391708)\" d=\"M 733.423438 155.959219 \r\nL 770.623438 155.959219 \r\nL 770.623438 174.079219 \r\nL 733.423438 174.079219 \r\nL 733.423438 155.959219 \r\n\" style=\"fill:#2b1637;stroke:#ffffff;stroke-width:0.5;\"/>\r\n    <path clip-path=\"url(#p558c391708)\" d=\"M 770.623438 155.959219 \r\nL 807.823437 155.959219 \r\nL 807.823437 174.079219 \r\nL 770.623438 174.079219 \r\nL 770.623438 155.959219 \r\n\" style=\"fill:#1b112b;stroke:#ffffff;stroke-width:0.5;\"/>\r\n    <path clip-path=\"url(#p558c391708)\" d=\"M 138.223437 174.079219 \r\nL 175.423437 174.079219 \r\nL 175.423437 192.199219 \r\nL 138.223437 192.199219 \r\nL 138.223437 174.079219 \r\n\" style=\"fill:#20122e;stroke:#ffffff;stroke-width:0.5;\"/>\r\n    <path clip-path=\"url(#p558c391708)\" d=\"M 175.423437 174.079219 \r\nL 212.623437 174.079219 \r\nL 212.623437 192.199219 \r\nL 175.423437 192.199219 \r\nL 175.423437 174.079219 \r\n\" style=\"fill:#1b112b;stroke:#ffffff;stroke-width:0.5;\"/>\r\n    <path clip-path=\"url(#p558c391708)\" d=\"M 212.623437 174.079219 \r\nL 249.823438 174.079219 \r\nL 249.823438 192.199219 \r\nL 212.623437 192.199219 \r\nL 212.623437 174.079219 \r\n\" style=\"fill:#251433;stroke:#ffffff;stroke-width:0.5;\"/>\r\n    <path clip-path=\"url(#p558c391708)\" d=\"M 249.823438 174.079219 \r\nL 287.023438 174.079219 \r\nL 287.023438 192.199219 \r\nL 249.823438 192.199219 \r\nL 249.823438 174.079219 \r\n\" style=\"fill:#1e122d;stroke:#ffffff;stroke-width:0.5;\"/>\r\n    <path clip-path=\"url(#p558c391708)\" d=\"M 287.023438 174.079219 \r\nL 324.223437 174.079219 \r\nL 324.223437 192.199219 \r\nL 287.023438 192.199219 \r\nL 287.023438 174.079219 \r\n\" style=\"fill:#281535;stroke:#ffffff;stroke-width:0.5;\"/>\r\n    <path clip-path=\"url(#p558c391708)\" d=\"M 324.223437 174.079219 \r\nL 361.423437 174.079219 \r\nL 361.423437 192.199219 \r\nL 324.223437 192.199219 \r\nL 324.223437 174.079219 \r\n\" style=\"fill:#241432;stroke:#ffffff;stroke-width:0.5;\"/>\r\n    <path clip-path=\"url(#p558c391708)\" d=\"M 361.423437 174.079219 \r\nL 398.623438 174.079219 \r\nL 398.623438 192.199219 \r\nL 361.423437 192.199219 \r\nL 361.423437 174.079219 \r\n\" style=\"fill:#1d112c;stroke:#ffffff;stroke-width:0.5;\"/>\r\n    <path clip-path=\"url(#p558c391708)\" d=\"M 398.623438 174.079219 \r\nL 435.823438 174.079219 \r\nL 435.823438 192.199219 \r\nL 398.623438 192.199219 \r\nL 398.623438 174.079219 \r\n\" style=\"fill:#35193e;stroke:#ffffff;stroke-width:0.5;\"/>\r\n    <path clip-path=\"url(#p558c391708)\" d=\"M 435.823438 174.079219 \r\nL 473.023438 174.079219 \r\nL 473.023438 192.199219 \r\nL 435.823438 192.199219 \r\nL 435.823438 174.079219 \r\n\" style=\"fill:#251433;stroke:#ffffff;stroke-width:0.5;\"/>\r\n    <path clip-path=\"url(#p558c391708)\" d=\"M 473.023438 174.079219 \r\nL 510.223437 174.079219 \r\nL 510.223437 192.199219 \r\nL 473.023438 192.199219 \r\nL 473.023438 174.079219 \r\n\" style=\"fill:#faebdd;stroke:#ffffff;stroke-width:0.5;\"/>\r\n    <path clip-path=\"url(#p558c391708)\" d=\"M 510.223437 174.079219 \r\nL 547.423438 174.079219 \r\nL 547.423438 192.199219 \r\nL 510.223437 192.199219 \r\nL 510.223437 174.079219 \r\n\" style=\"fill:#2d1738;stroke:#ffffff;stroke-width:0.5;\"/>\r\n    <path clip-path=\"url(#p558c391708)\" d=\"M 547.423438 174.079219 \r\nL 584.623438 174.079219 \r\nL 584.623438 192.199219 \r\nL 547.423438 192.199219 \r\nL 547.423438 174.079219 \r\n\" style=\"fill:#241432;stroke:#ffffff;stroke-width:0.5;\"/>\r\n    <path clip-path=\"url(#p558c391708)\" d=\"M 584.623438 174.079219 \r\nL 621.823437 174.079219 \r\nL 621.823437 192.199219 \r\nL 584.623438 192.199219 \r\nL 584.623438 174.079219 \r\n\" style=\"fill:#271534;stroke:#ffffff;stroke-width:0.5;\"/>\r\n    <path clip-path=\"url(#p558c391708)\" d=\"M 621.823437 174.079219 \r\nL 659.023438 174.079219 \r\nL 659.023438 192.199219 \r\nL 621.823437 192.199219 \r\nL 621.823437 174.079219 \r\n\" style=\"fill:#221331;stroke:#ffffff;stroke-width:0.5;\"/>\r\n    <path clip-path=\"url(#p558c391708)\" d=\"M 659.023438 174.079219 \r\nL 696.223438 174.079219 \r\nL 696.223438 192.199219 \r\nL 659.023438 192.199219 \r\nL 659.023438 174.079219 \r\n\" style=\"fill:#c51852;stroke:#ffffff;stroke-width:0.5;\"/>\r\n    <path clip-path=\"url(#p558c391708)\" d=\"M 696.223438 174.079219 \r\nL 733.423438 174.079219 \r\nL 733.423438 192.199219 \r\nL 696.223438 192.199219 \r\nL 696.223438 174.079219 \r\n\" style=\"fill:#1a102a;stroke:#ffffff;stroke-width:0.5;\"/>\r\n    <path clip-path=\"url(#p558c391708)\" d=\"M 733.423438 174.079219 \r\nL 770.623438 174.079219 \r\nL 770.623438 192.199219 \r\nL 733.423438 192.199219 \r\nL 733.423438 174.079219 \r\n\" style=\"fill:#461c48;stroke:#ffffff;stroke-width:0.5;\"/>\r\n    <path clip-path=\"url(#p558c391708)\" d=\"M 770.623438 174.079219 \r\nL 807.823437 174.079219 \r\nL 807.823437 192.199219 \r\nL 770.623438 192.199219 \r\nL 770.623438 174.079219 \r\n\" style=\"fill:#211330;stroke:#ffffff;stroke-width:0.5;\"/>\r\n    <path clip-path=\"url(#p558c391708)\" d=\"M 138.223437 192.199219 \r\nL 175.423437 192.199219 \r\nL 175.423437 210.319219 \r\nL 138.223437 210.319219 \r\nL 138.223437 192.199219 \r\n\" style=\"fill:#1d112c;stroke:#ffffff;stroke-width:0.5;\"/>\r\n    <path clip-path=\"url(#p558c391708)\" d=\"M 175.423437 192.199219 \r\nL 212.623437 192.199219 \r\nL 212.623437 210.319219 \r\nL 175.423437 210.319219 \r\nL 175.423437 192.199219 \r\n\" style=\"fill:#221331;stroke:#ffffff;stroke-width:0.5;\"/>\r\n    <path clip-path=\"url(#p558c391708)\" d=\"M 212.623437 192.199219 \r\nL 249.823438 192.199219 \r\nL 249.823438 210.319219 \r\nL 212.623437 210.319219 \r\nL 212.623437 192.199219 \r\n\" style=\"fill:#221331;stroke:#ffffff;stroke-width:0.5;\"/>\r\n    <path clip-path=\"url(#p558c391708)\" d=\"M 249.823438 192.199219 \r\nL 287.023438 192.199219 \r\nL 287.023438 210.319219 \r\nL 249.823438 210.319219 \r\nL 249.823438 192.199219 \r\n\" style=\"fill:#1d112c;stroke:#ffffff;stroke-width:0.5;\"/>\r\n    <path clip-path=\"url(#p558c391708)\" d=\"M 287.023438 192.199219 \r\nL 324.223437 192.199219 \r\nL 324.223437 210.319219 \r\nL 287.023438 210.319219 \r\nL 287.023438 192.199219 \r\n\" style=\"fill:#241432;stroke:#ffffff;stroke-width:0.5;\"/>\r\n    <path clip-path=\"url(#p558c391708)\" d=\"M 324.223437 192.199219 \r\nL 361.423437 192.199219 \r\nL 361.423437 210.319219 \r\nL 324.223437 210.319219 \r\nL 324.223437 192.199219 \r\n\" style=\"fill:#20122e;stroke:#ffffff;stroke-width:0.5;\"/>\r\n    <path clip-path=\"url(#p558c391708)\" d=\"M 361.423437 192.199219 \r\nL 398.623438 192.199219 \r\nL 398.623438 210.319219 \r\nL 361.423437 210.319219 \r\nL 361.423437 192.199219 \r\n\" style=\"fill:#20122e;stroke:#ffffff;stroke-width:0.5;\"/>\r\n    <path clip-path=\"url(#p558c391708)\" d=\"M 398.623438 192.199219 \r\nL 435.823438 192.199219 \r\nL 435.823438 210.319219 \r\nL 398.623438 210.319219 \r\nL 398.623438 192.199219 \r\n\" style=\"fill:#3f1b43;stroke:#ffffff;stroke-width:0.5;\"/>\r\n    <path clip-path=\"url(#p558c391708)\" d=\"M 435.823438 192.199219 \r\nL 473.023438 192.199219 \r\nL 473.023438 210.319219 \r\nL 435.823438 210.319219 \r\nL 435.823438 192.199219 \r\n\" style=\"fill:#2e1739;stroke:#ffffff;stroke-width:0.5;\"/>\r\n    <path clip-path=\"url(#p558c391708)\" d=\"M 473.023438 192.199219 \r\nL 510.223437 192.199219 \r\nL 510.223437 210.319219 \r\nL 473.023438 210.319219 \r\nL 473.023438 192.199219 \r\n\" style=\"fill:#2d1738;stroke:#ffffff;stroke-width:0.5;\"/>\r\n    <path clip-path=\"url(#p558c391708)\" d=\"M 510.223437 192.199219 \r\nL 547.423438 192.199219 \r\nL 547.423438 210.319219 \r\nL 510.223437 210.319219 \r\nL 510.223437 192.199219 \r\n\" style=\"fill:#faebdd;stroke:#ffffff;stroke-width:0.5;\"/>\r\n    <path clip-path=\"url(#p558c391708)\" d=\"M 547.423438 192.199219 \r\nL 584.623438 192.199219 \r\nL 584.623438 210.319219 \r\nL 547.423438 210.319219 \r\nL 547.423438 192.199219 \r\n\" style=\"fill:#2e1739;stroke:#ffffff;stroke-width:0.5;\"/>\r\n    <path clip-path=\"url(#p558c391708)\" d=\"M 584.623438 192.199219 \r\nL 621.823437 192.199219 \r\nL 621.823437 210.319219 \r\nL 584.623438 210.319219 \r\nL 584.623438 192.199219 \r\n\" style=\"fill:#271534;stroke:#ffffff;stroke-width:0.5;\"/>\r\n    <path clip-path=\"url(#p558c391708)\" d=\"M 621.823437 192.199219 \r\nL 659.023438 192.199219 \r\nL 659.023438 210.319219 \r\nL 621.823437 210.319219 \r\nL 621.823437 192.199219 \r\n\" style=\"fill:#221331;stroke:#ffffff;stroke-width:0.5;\"/>\r\n    <path clip-path=\"url(#p558c391708)\" d=\"M 659.023438 192.199219 \r\nL 696.223438 192.199219 \r\nL 696.223438 210.319219 \r\nL 659.023438 210.319219 \r\nL 659.023438 192.199219 \r\n\" style=\"fill:#431c46;stroke:#ffffff;stroke-width:0.5;\"/>\r\n    <path clip-path=\"url(#p558c391708)\" d=\"M 696.223438 192.199219 \r\nL 733.423438 192.199219 \r\nL 733.423438 210.319219 \r\nL 696.223438 210.319219 \r\nL 696.223438 192.199219 \r\n\" style=\"fill:#1a102a;stroke:#ffffff;stroke-width:0.5;\"/>\r\n    <path clip-path=\"url(#p558c391708)\" d=\"M 733.423438 192.199219 \r\nL 770.623438 192.199219 \r\nL 770.623438 210.319219 \r\nL 733.423438 210.319219 \r\nL 733.423438 192.199219 \r\n\" style=\"fill:#2b1637;stroke:#ffffff;stroke-width:0.5;\"/>\r\n    <path clip-path=\"url(#p558c391708)\" d=\"M 770.623438 192.199219 \r\nL 807.823437 192.199219 \r\nL 807.823437 210.319219 \r\nL 770.623438 210.319219 \r\nL 770.623438 192.199219 \r\n\" style=\"fill:#251433;stroke:#ffffff;stroke-width:0.5;\"/>\r\n    <path clip-path=\"url(#p558c391708)\" d=\"M 138.223437 210.319219 \r\nL 175.423437 210.319219 \r\nL 175.423437 228.439219 \r\nL 138.223437 228.439219 \r\nL 138.223437 210.319219 \r\n\" style=\"fill:#211330;stroke:#ffffff;stroke-width:0.5;\"/>\r\n    <path clip-path=\"url(#p558c391708)\" d=\"M 175.423437 210.319219 \r\nL 212.623437 210.319219 \r\nL 212.623437 228.439219 \r\nL 175.423437 228.439219 \r\nL 175.423437 210.319219 \r\n\" style=\"fill:#170f28;stroke:#ffffff;stroke-width:0.5;\"/>\r\n    <path clip-path=\"url(#p558c391708)\" d=\"M 212.623437 210.319219 \r\nL 249.823438 210.319219 \r\nL 249.823438 228.439219 \r\nL 212.623437 228.439219 \r\nL 212.623437 210.319219 \r\n\" style=\"fill:#281535;stroke:#ffffff;stroke-width:0.5;\"/>\r\n    <path clip-path=\"url(#p558c391708)\" d=\"M 249.823438 210.319219 \r\nL 287.023438 210.319219 \r\nL 287.023438 228.439219 \r\nL 249.823438 228.439219 \r\nL 249.823438 210.319219 \r\n\" style=\"fill:#1d112c;stroke:#ffffff;stroke-width:0.5;\"/>\r\n    <path clip-path=\"url(#p558c391708)\" d=\"M 287.023438 210.319219 \r\nL 324.223437 210.319219 \r\nL 324.223437 228.439219 \r\nL 287.023438 228.439219 \r\nL 287.023438 210.319219 \r\n\" style=\"fill:#180f29;stroke:#ffffff;stroke-width:0.5;\"/>\r\n    <path clip-path=\"url(#p558c391708)\" d=\"M 324.223437 210.319219 \r\nL 361.423437 210.319219 \r\nL 361.423437 228.439219 \r\nL 324.223437 228.439219 \r\nL 324.223437 210.319219 \r\n\" style=\"fill:#20122e;stroke:#ffffff;stroke-width:0.5;\"/>\r\n    <path clip-path=\"url(#p558c391708)\" d=\"M 361.423437 210.319219 \r\nL 398.623438 210.319219 \r\nL 398.623438 228.439219 \r\nL 361.423437 228.439219 \r\nL 361.423437 210.319219 \r\n\" style=\"fill:#2b1637;stroke:#ffffff;stroke-width:0.5;\"/>\r\n    <path clip-path=\"url(#p558c391708)\" d=\"M 398.623438 210.319219 \r\nL 435.823438 210.319219 \r\nL 435.823438 228.439219 \r\nL 398.623438 228.439219 \r\nL 398.623438 210.319219 \r\n\" style=\"fill:#34193d;stroke:#ffffff;stroke-width:0.5;\"/>\r\n    <path clip-path=\"url(#p558c391708)\" d=\"M 435.823438 210.319219 \r\nL 473.023438 210.319219 \r\nL 473.023438 228.439219 \r\nL 435.823438 228.439219 \r\nL 435.823438 210.319219 \r\n\" style=\"fill:#281535;stroke:#ffffff;stroke-width:0.5;\"/>\r\n    <path clip-path=\"url(#p558c391708)\" d=\"M 473.023438 210.319219 \r\nL 510.223437 210.319219 \r\nL 510.223437 228.439219 \r\nL 473.023438 228.439219 \r\nL 473.023438 210.319219 \r\n\" style=\"fill:#241432;stroke:#ffffff;stroke-width:0.5;\"/>\r\n    <path clip-path=\"url(#p558c391708)\" d=\"M 510.223437 210.319219 \r\nL 547.423438 210.319219 \r\nL 547.423438 228.439219 \r\nL 510.223437 228.439219 \r\nL 510.223437 210.319219 \r\n\" style=\"fill:#2e1739;stroke:#ffffff;stroke-width:0.5;\"/>\r\n    <path clip-path=\"url(#p558c391708)\" d=\"M 547.423438 210.319219 \r\nL 584.623438 210.319219 \r\nL 584.623438 228.439219 \r\nL 547.423438 228.439219 \r\nL 547.423438 210.319219 \r\n\" style=\"fill:#faebdd;stroke:#ffffff;stroke-width:0.5;\"/>\r\n    <path clip-path=\"url(#p558c391708)\" d=\"M 584.623438 210.319219 \r\nL 621.823437 210.319219 \r\nL 621.823437 228.439219 \r\nL 584.623438 228.439219 \r\nL 584.623438 210.319219 \r\n\" style=\"fill:#211330;stroke:#ffffff;stroke-width:0.5;\"/>\r\n    <path clip-path=\"url(#p558c391708)\" d=\"M 621.823437 210.319219 \r\nL 659.023438 210.319219 \r\nL 659.023438 228.439219 \r\nL 621.823437 228.439219 \r\nL 621.823437 210.319219 \r\n\" style=\"fill:#211330;stroke:#ffffff;stroke-width:0.5;\"/>\r\n    <path clip-path=\"url(#p558c391708)\" d=\"M 659.023438 210.319219 \r\nL 696.223438 210.319219 \r\nL 696.223438 228.439219 \r\nL 659.023438 228.439219 \r\nL 659.023438 210.319219 \r\n\" style=\"fill:#7f1e5a;stroke:#ffffff;stroke-width:0.5;\"/>\r\n    <path clip-path=\"url(#p558c391708)\" d=\"M 696.223438 210.319219 \r\nL 733.423438 210.319219 \r\nL 733.423438 228.439219 \r\nL 696.223438 228.439219 \r\nL 696.223438 210.319219 \r\n\" style=\"fill:#1b112b;stroke:#ffffff;stroke-width:0.5;\"/>\r\n    <path clip-path=\"url(#p558c391708)\" d=\"M 733.423438 210.319219 \r\nL 770.623438 210.319219 \r\nL 770.623438 228.439219 \r\nL 733.423438 228.439219 \r\nL 733.423438 210.319219 \r\n\" style=\"fill:#33183c;stroke:#ffffff;stroke-width:0.5;\"/>\r\n    <path clip-path=\"url(#p558c391708)\" d=\"M 770.623438 210.319219 \r\nL 807.823437 210.319219 \r\nL 807.823437 228.439219 \r\nL 770.623438 228.439219 \r\nL 770.623438 210.319219 \r\n\" style=\"fill:#1e122d;stroke:#ffffff;stroke-width:0.5;\"/>\r\n    <path clip-path=\"url(#p558c391708)\" d=\"M 138.223437 228.439219 \r\nL 175.423437 228.439219 \r\nL 175.423437 246.559219 \r\nL 138.223437 246.559219 \r\nL 138.223437 228.439219 \r\n\" style=\"fill:#1d112c;stroke:#ffffff;stroke-width:0.5;\"/>\r\n    <path clip-path=\"url(#p558c391708)\" d=\"M 175.423437 228.439219 \r\nL 212.623437 228.439219 \r\nL 212.623437 246.559219 \r\nL 175.423437 246.559219 \r\nL 175.423437 228.439219 \r\n\" style=\"fill:#130d25;stroke:#ffffff;stroke-width:0.5;\"/>\r\n    <path clip-path=\"url(#p558c391708)\" d=\"M 212.623437 228.439219 \r\nL 249.823438 228.439219 \r\nL 249.823438 246.559219 \r\nL 212.623437 246.559219 \r\nL 212.623437 228.439219 \r\n\" style=\"fill:#241432;stroke:#ffffff;stroke-width:0.5;\"/>\r\n    <path clip-path=\"url(#p558c391708)\" d=\"M 249.823438 228.439219 \r\nL 287.023438 228.439219 \r\nL 287.023438 246.559219 \r\nL 249.823438 246.559219 \r\nL 249.823438 228.439219 \r\n\" style=\"fill:#271534;stroke:#ffffff;stroke-width:0.5;\"/>\r\n    <path clip-path=\"url(#p558c391708)\" d=\"M 287.023438 228.439219 \r\nL 324.223437 228.439219 \r\nL 324.223437 246.559219 \r\nL 287.023438 246.559219 \r\nL 287.023438 228.439219 \r\n\" style=\"fill:#251433;stroke:#ffffff;stroke-width:0.5;\"/>\r\n    <path clip-path=\"url(#p558c391708)\" d=\"M 324.223437 228.439219 \r\nL 361.423437 228.439219 \r\nL 361.423437 246.559219 \r\nL 324.223437 246.559219 \r\nL 324.223437 228.439219 \r\n\" style=\"fill:#221331;stroke:#ffffff;stroke-width:0.5;\"/>\r\n    <path clip-path=\"url(#p558c391708)\" d=\"M 361.423437 228.439219 \r\nL 398.623438 228.439219 \r\nL 398.623438 246.559219 \r\nL 361.423437 246.559219 \r\nL 361.423437 228.439219 \r\n\" style=\"fill:#241432;stroke:#ffffff;stroke-width:0.5;\"/>\r\n    <path clip-path=\"url(#p558c391708)\" d=\"M 398.623438 228.439219 \r\nL 435.823438 228.439219 \r\nL 435.823438 246.559219 \r\nL 398.623438 246.559219 \r\nL 398.623438 228.439219 \r\n\" style=\"fill:#2e1739;stroke:#ffffff;stroke-width:0.5;\"/>\r\n    <path clip-path=\"url(#p558c391708)\" d=\"M 435.823438 228.439219 \r\nL 473.023438 228.439219 \r\nL 473.023438 246.559219 \r\nL 435.823438 246.559219 \r\nL 435.823438 228.439219 \r\n\" style=\"fill:#2b1637;stroke:#ffffff;stroke-width:0.5;\"/>\r\n    <path clip-path=\"url(#p558c391708)\" d=\"M 473.023438 228.439219 \r\nL 510.223437 228.439219 \r\nL 510.223437 246.559219 \r\nL 473.023438 246.559219 \r\nL 473.023438 228.439219 \r\n\" style=\"fill:#271534;stroke:#ffffff;stroke-width:0.5;\"/>\r\n    <path clip-path=\"url(#p558c391708)\" d=\"M 510.223437 228.439219 \r\nL 547.423438 228.439219 \r\nL 547.423438 246.559219 \r\nL 510.223437 246.559219 \r\nL 510.223437 228.439219 \r\n\" style=\"fill:#271534;stroke:#ffffff;stroke-width:0.5;\"/>\r\n    <path clip-path=\"url(#p558c391708)\" d=\"M 547.423438 228.439219 \r\nL 584.623438 228.439219 \r\nL 584.623438 246.559219 \r\nL 547.423438 246.559219 \r\nL 547.423438 228.439219 \r\n\" style=\"fill:#211330;stroke:#ffffff;stroke-width:0.5;\"/>\r\n    <path clip-path=\"url(#p558c391708)\" d=\"M 584.623438 228.439219 \r\nL 621.823437 228.439219 \r\nL 621.823437 246.559219 \r\nL 584.623438 246.559219 \r\nL 584.623438 228.439219 \r\n\" style=\"fill:#faebdd;stroke:#ffffff;stroke-width:0.5;\"/>\r\n    <path clip-path=\"url(#p558c391708)\" d=\"M 621.823437 228.439219 \r\nL 659.023438 228.439219 \r\nL 659.023438 246.559219 \r\nL 621.823437 246.559219 \r\nL 621.823437 228.439219 \r\n\" style=\"fill:#30173a;stroke:#ffffff;stroke-width:0.5;\"/>\r\n    <path clip-path=\"url(#p558c391708)\" d=\"M 659.023438 228.439219 \r\nL 696.223438 228.439219 \r\nL 696.223438 246.559219 \r\nL 659.023438 246.559219 \r\nL 659.023438 228.439219 \r\n\" style=\"fill:#31183b;stroke:#ffffff;stroke-width:0.5;\"/>\r\n    <path clip-path=\"url(#p558c391708)\" d=\"M 696.223438 228.439219 \r\nL 733.423438 228.439219 \r\nL 733.423438 246.559219 \r\nL 696.223438 246.559219 \r\nL 696.223438 228.439219 \r\n\" style=\"fill:#180f29;stroke:#ffffff;stroke-width:0.5;\"/>\r\n    <path clip-path=\"url(#p558c391708)\" d=\"M 733.423438 228.439219 \r\nL 770.623438 228.439219 \r\nL 770.623438 246.559219 \r\nL 733.423438 246.559219 \r\nL 733.423438 228.439219 \r\n\" style=\"fill:#110c24;stroke:#ffffff;stroke-width:0.5;\"/>\r\n    <path clip-path=\"url(#p558c391708)\" d=\"M 770.623438 228.439219 \r\nL 807.823437 228.439219 \r\nL 807.823437 246.559219 \r\nL 770.623438 246.559219 \r\nL 770.623438 228.439219 \r\n\" style=\"fill:#170f28;stroke:#ffffff;stroke-width:0.5;\"/>\r\n    <path clip-path=\"url(#p558c391708)\" d=\"M 138.223437 246.559219 \r\nL 175.423437 246.559219 \r\nL 175.423437 264.679219 \r\nL 138.223437 264.679219 \r\nL 138.223437 246.559219 \r\n\" style=\"fill:#271534;stroke:#ffffff;stroke-width:0.5;\"/>\r\n    <path clip-path=\"url(#p558c391708)\" d=\"M 175.423437 246.559219 \r\nL 212.623437 246.559219 \r\nL 212.623437 264.679219 \r\nL 175.423437 264.679219 \r\nL 175.423437 246.559219 \r\n\" style=\"fill:#160e27;stroke:#ffffff;stroke-width:0.5;\"/>\r\n    <path clip-path=\"url(#p558c391708)\" d=\"M 212.623437 246.559219 \r\nL 249.823438 246.559219 \r\nL 249.823438 264.679219 \r\nL 212.623437 264.679219 \r\nL 212.623437 246.559219 \r\n\" style=\"fill:#1d112c;stroke:#ffffff;stroke-width:0.5;\"/>\r\n    <path clip-path=\"url(#p558c391708)\" d=\"M 249.823438 246.559219 \r\nL 287.023438 246.559219 \r\nL 287.023438 264.679219 \r\nL 249.823438 264.679219 \r\nL 249.823438 246.559219 \r\n\" style=\"fill:#221331;stroke:#ffffff;stroke-width:0.5;\"/>\r\n    <path clip-path=\"url(#p558c391708)\" d=\"M 287.023438 246.559219 \r\nL 324.223437 246.559219 \r\nL 324.223437 264.679219 \r\nL 287.023438 264.679219 \r\nL 287.023438 246.559219 \r\n\" style=\"fill:#2b1637;stroke:#ffffff;stroke-width:0.5;\"/>\r\n    <path clip-path=\"url(#p558c391708)\" d=\"M 324.223437 246.559219 \r\nL 361.423437 246.559219 \r\nL 361.423437 264.679219 \r\nL 324.223437 264.679219 \r\nL 324.223437 246.559219 \r\n\" style=\"fill:#1e122d;stroke:#ffffff;stroke-width:0.5;\"/>\r\n    <path clip-path=\"url(#p558c391708)\" d=\"M 361.423437 246.559219 \r\nL 398.623438 246.559219 \r\nL 398.623438 264.679219 \r\nL 361.423437 264.679219 \r\nL 361.423437 246.559219 \r\n\" style=\"fill:#2a1636;stroke:#ffffff;stroke-width:0.5;\"/>\r\n    <path clip-path=\"url(#p558c391708)\" d=\"M 398.623438 246.559219 \r\nL 435.823438 246.559219 \r\nL 435.823438 264.679219 \r\nL 398.623438 264.679219 \r\nL 398.623438 246.559219 \r\n\" style=\"fill:#2b1637;stroke:#ffffff;stroke-width:0.5;\"/>\r\n    <path clip-path=\"url(#p558c391708)\" d=\"M 435.823438 246.559219 \r\nL 473.023438 246.559219 \r\nL 473.023438 264.679219 \r\nL 435.823438 264.679219 \r\nL 435.823438 246.559219 \r\n\" style=\"fill:#2a1636;stroke:#ffffff;stroke-width:0.5;\"/>\r\n    <path clip-path=\"url(#p558c391708)\" d=\"M 473.023438 246.559219 \r\nL 510.223437 246.559219 \r\nL 510.223437 264.679219 \r\nL 473.023438 264.679219 \r\nL 473.023438 246.559219 \r\n\" style=\"fill:#221331;stroke:#ffffff;stroke-width:0.5;\"/>\r\n    <path clip-path=\"url(#p558c391708)\" d=\"M 510.223437 246.559219 \r\nL 547.423438 246.559219 \r\nL 547.423438 264.679219 \r\nL 510.223437 264.679219 \r\nL 510.223437 246.559219 \r\n\" style=\"fill:#221331;stroke:#ffffff;stroke-width:0.5;\"/>\r\n    <path clip-path=\"url(#p558c391708)\" d=\"M 547.423438 246.559219 \r\nL 584.623438 246.559219 \r\nL 584.623438 264.679219 \r\nL 547.423438 264.679219 \r\nL 547.423438 246.559219 \r\n\" style=\"fill:#211330;stroke:#ffffff;stroke-width:0.5;\"/>\r\n    <path clip-path=\"url(#p558c391708)\" d=\"M 584.623438 246.559219 \r\nL 621.823437 246.559219 \r\nL 621.823437 264.679219 \r\nL 584.623438 264.679219 \r\nL 584.623438 246.559219 \r\n\" style=\"fill:#30173a;stroke:#ffffff;stroke-width:0.5;\"/>\r\n    <path clip-path=\"url(#p558c391708)\" d=\"M 621.823437 246.559219 \r\nL 659.023438 246.559219 \r\nL 659.023438 264.679219 \r\nL 621.823437 264.679219 \r\nL 621.823437 246.559219 \r\n\" style=\"fill:#faebdd;stroke:#ffffff;stroke-width:0.5;\"/>\r\n    <path clip-path=\"url(#p558c391708)\" d=\"M 659.023438 246.559219 \r\nL 696.223438 246.559219 \r\nL 696.223438 264.679219 \r\nL 659.023438 264.679219 \r\nL 659.023438 246.559219 \r\n\" style=\"fill:#431c46;stroke:#ffffff;stroke-width:0.5;\"/>\r\n    <path clip-path=\"url(#p558c391708)\" d=\"M 696.223438 246.559219 \r\nL 733.423438 246.559219 \r\nL 733.423438 264.679219 \r\nL 696.223438 264.679219 \r\nL 696.223438 246.559219 \r\n\" style=\"fill:#1b112b;stroke:#ffffff;stroke-width:0.5;\"/>\r\n    <path clip-path=\"url(#p558c391708)\" d=\"M 733.423438 246.559219 \r\nL 770.623438 246.559219 \r\nL 770.623438 264.679219 \r\nL 733.423438 264.679219 \r\nL 733.423438 246.559219 \r\n\" style=\"fill:#3d1a42;stroke:#ffffff;stroke-width:0.5;\"/>\r\n    <path clip-path=\"url(#p558c391708)\" d=\"M 770.623438 246.559219 \r\nL 807.823437 246.559219 \r\nL 807.823437 264.679219 \r\nL 770.623438 264.679219 \r\nL 770.623438 246.559219 \r\n\" style=\"fill:#1a102a;stroke:#ffffff;stroke-width:0.5;\"/>\r\n    <path clip-path=\"url(#p558c391708)\" d=\"M 138.223437 264.679219 \r\nL 175.423437 264.679219 \r\nL 175.423437 282.799219 \r\nL 138.223437 282.799219 \r\nL 138.223437 264.679219 \r\n\" style=\"fill:#271534;stroke:#ffffff;stroke-width:0.5;\"/>\r\n    <path clip-path=\"url(#p558c391708)\" d=\"M 175.423437 264.679219 \r\nL 212.623437 264.679219 \r\nL 212.623437 282.799219 \r\nL 175.423437 282.799219 \r\nL 175.423437 264.679219 \r\n\" style=\"fill:#180f29;stroke:#ffffff;stroke-width:0.5;\"/>\r\n    <path clip-path=\"url(#p558c391708)\" d=\"M 212.623437 264.679219 \r\nL 249.823438 264.679219 \r\nL 249.823438 282.799219 \r\nL 212.623437 282.799219 \r\nL 212.623437 264.679219 \r\n\" style=\"fill:#221331;stroke:#ffffff;stroke-width:0.5;\"/>\r\n    <path clip-path=\"url(#p558c391708)\" d=\"M 249.823438 264.679219 \r\nL 287.023438 264.679219 \r\nL 287.023438 282.799219 \r\nL 249.823438 282.799219 \r\nL 249.823438 264.679219 \r\n\" style=\"fill:#221331;stroke:#ffffff;stroke-width:0.5;\"/>\r\n    <path clip-path=\"url(#p558c391708)\" d=\"M 287.023438 264.679219 \r\nL 324.223437 264.679219 \r\nL 324.223437 282.799219 \r\nL 287.023438 282.799219 \r\nL 287.023438 264.679219 \r\n\" style=\"fill:#2b1637;stroke:#ffffff;stroke-width:0.5;\"/>\r\n    <path clip-path=\"url(#p558c391708)\" d=\"M 324.223437 264.679219 \r\nL 361.423437 264.679219 \r\nL 361.423437 282.799219 \r\nL 324.223437 282.799219 \r\nL 324.223437 264.679219 \r\n\" style=\"fill:#20122e;stroke:#ffffff;stroke-width:0.5;\"/>\r\n    <path clip-path=\"url(#p558c391708)\" d=\"M 361.423437 264.679219 \r\nL 398.623438 264.679219 \r\nL 398.623438 282.799219 \r\nL 361.423437 282.799219 \r\nL 361.423437 264.679219 \r\n\" style=\"fill:#30173a;stroke:#ffffff;stroke-width:0.5;\"/>\r\n    <path clip-path=\"url(#p558c391708)\" d=\"M 398.623438 264.679219 \r\nL 435.823438 264.679219 \r\nL 435.823438 282.799219 \r\nL 398.623438 282.799219 \r\nL 398.623438 264.679219 \r\n\" style=\"fill:#f7c7a8;stroke:#ffffff;stroke-width:0.5;\"/>\r\n    <path clip-path=\"url(#p558c391708)\" d=\"M 435.823438 264.679219 \r\nL 473.023438 264.679219 \r\nL 473.023438 282.799219 \r\nL 435.823438 282.799219 \r\nL 435.823438 264.679219 \r\n\" style=\"fill:#3c1a42;stroke:#ffffff;stroke-width:0.5;\"/>\r\n    <path clip-path=\"url(#p558c391708)\" d=\"M 473.023438 264.679219 \r\nL 510.223437 264.679219 \r\nL 510.223437 282.799219 \r\nL 473.023438 282.799219 \r\nL 473.023438 264.679219 \r\n\" style=\"fill:#c51852;stroke:#ffffff;stroke-width:0.5;\"/>\r\n    <path clip-path=\"url(#p558c391708)\" d=\"M 510.223437 264.679219 \r\nL 547.423438 264.679219 \r\nL 547.423438 282.799219 \r\nL 510.223437 282.799219 \r\nL 510.223437 264.679219 \r\n\" style=\"fill:#431c46;stroke:#ffffff;stroke-width:0.5;\"/>\r\n    <path clip-path=\"url(#p558c391708)\" d=\"M 547.423438 264.679219 \r\nL 584.623438 264.679219 \r\nL 584.623438 282.799219 \r\nL 547.423438 282.799219 \r\nL 547.423438 264.679219 \r\n\" style=\"fill:#7f1e5a;stroke:#ffffff;stroke-width:0.5;\"/>\r\n    <path clip-path=\"url(#p558c391708)\" d=\"M 584.623438 264.679219 \r\nL 621.823437 264.679219 \r\nL 621.823437 282.799219 \r\nL 584.623438 282.799219 \r\nL 584.623438 264.679219 \r\n\" style=\"fill:#31183b;stroke:#ffffff;stroke-width:0.5;\"/>\r\n    <path clip-path=\"url(#p558c391708)\" d=\"M 621.823437 264.679219 \r\nL 659.023438 264.679219 \r\nL 659.023438 282.799219 \r\nL 621.823437 282.799219 \r\nL 621.823437 264.679219 \r\n\" style=\"fill:#431c46;stroke:#ffffff;stroke-width:0.5;\"/>\r\n    <path clip-path=\"url(#p558c391708)\" d=\"M 659.023438 264.679219 \r\nL 696.223438 264.679219 \r\nL 696.223438 282.799219 \r\nL 659.023438 282.799219 \r\nL 659.023438 264.679219 \r\n\" style=\"fill:#faebdd;stroke:#ffffff;stroke-width:0.5;\"/>\r\n    <path clip-path=\"url(#p558c391708)\" d=\"M 696.223438 264.679219 \r\nL 733.423438 264.679219 \r\nL 733.423438 282.799219 \r\nL 696.223438 282.799219 \r\nL 696.223438 264.679219 \r\n\" style=\"fill:#170f28;stroke:#ffffff;stroke-width:0.5;\"/>\r\n    <path clip-path=\"url(#p558c391708)\" d=\"M 733.423438 264.679219 \r\nL 770.623438 264.679219 \r\nL 770.623438 282.799219 \r\nL 733.423438 282.799219 \r\nL 733.423438 264.679219 \r\n\" style=\"fill:#7d1f5a;stroke:#ffffff;stroke-width:0.5;\"/>\r\n    <path clip-path=\"url(#p558c391708)\" d=\"M 770.623438 264.679219 \r\nL 807.823437 264.679219 \r\nL 807.823437 282.799219 \r\nL 770.623438 282.799219 \r\nL 770.623438 264.679219 \r\n\" style=\"fill:#1e122d;stroke:#ffffff;stroke-width:0.5;\"/>\r\n    <path clip-path=\"url(#p558c391708)\" d=\"M 138.223437 282.799219 \r\nL 175.423437 282.799219 \r\nL 175.423437 300.919219 \r\nL 138.223437 300.919219 \r\nL 138.223437 282.799219 \r\n\" style=\"fill:#211330;stroke:#ffffff;stroke-width:0.5;\"/>\r\n    <path clip-path=\"url(#p558c391708)\" d=\"M 175.423437 282.799219 \r\nL 212.623437 282.799219 \r\nL 212.623437 300.919219 \r\nL 175.423437 300.919219 \r\nL 175.423437 282.799219 \r\n\" style=\"fill:#221331;stroke:#ffffff;stroke-width:0.5;\"/>\r\n    <path clip-path=\"url(#p558c391708)\" d=\"M 212.623437 282.799219 \r\nL 249.823438 282.799219 \r\nL 249.823438 300.919219 \r\nL 212.623437 300.919219 \r\nL 212.623437 282.799219 \r\n\" style=\"fill:#170f28;stroke:#ffffff;stroke-width:0.5;\"/>\r\n    <path clip-path=\"url(#p558c391708)\" d=\"M 249.823438 282.799219 \r\nL 287.023438 282.799219 \r\nL 287.023438 300.919219 \r\nL 249.823438 300.919219 \r\nL 249.823438 282.799219 \r\n\" style=\"fill:#1e122d;stroke:#ffffff;stroke-width:0.5;\"/>\r\n    <path clip-path=\"url(#p558c391708)\" d=\"M 287.023438 282.799219 \r\nL 324.223437 282.799219 \r\nL 324.223437 300.919219 \r\nL 287.023438 300.919219 \r\nL 287.023438 282.799219 \r\n\" style=\"fill:#140e26;stroke:#ffffff;stroke-width:0.5;\"/>\r\n    <path clip-path=\"url(#p558c391708)\" d=\"M 324.223437 282.799219 \r\nL 361.423437 282.799219 \r\nL 361.423437 300.919219 \r\nL 324.223437 300.919219 \r\nL 324.223437 282.799219 \r\n\" style=\"fill:#1a102a;stroke:#ffffff;stroke-width:0.5;\"/>\r\n    <path clip-path=\"url(#p558c391708)\" d=\"M 361.423437 282.799219 \r\nL 398.623438 282.799219 \r\nL 398.623438 300.919219 \r\nL 361.423437 300.919219 \r\nL 361.423437 282.799219 \r\n\" style=\"fill:#170f28;stroke:#ffffff;stroke-width:0.5;\"/>\r\n    <path clip-path=\"url(#p558c391708)\" d=\"M 398.623438 282.799219 \r\nL 435.823438 282.799219 \r\nL 435.823438 300.919219 \r\nL 398.623438 300.919219 \r\nL 398.623438 282.799219 \r\n\" style=\"fill:#1a102a;stroke:#ffffff;stroke-width:0.5;\"/>\r\n    <path clip-path=\"url(#p558c391708)\" d=\"M 435.823438 282.799219 \r\nL 473.023438 282.799219 \r\nL 473.023438 300.919219 \r\nL 435.823438 300.919219 \r\nL 435.823438 282.799219 \r\n\" style=\"fill:#1e122d;stroke:#ffffff;stroke-width:0.5;\"/>\r\n    <path clip-path=\"url(#p558c391708)\" d=\"M 473.023438 282.799219 \r\nL 510.223437 282.799219 \r\nL 510.223437 300.919219 \r\nL 473.023438 300.919219 \r\nL 473.023438 282.799219 \r\n\" style=\"fill:#1a102a;stroke:#ffffff;stroke-width:0.5;\"/>\r\n    <path clip-path=\"url(#p558c391708)\" d=\"M 510.223437 282.799219 \r\nL 547.423438 282.799219 \r\nL 547.423438 300.919219 \r\nL 510.223437 300.919219 \r\nL 510.223437 282.799219 \r\n\" style=\"fill:#1a102a;stroke:#ffffff;stroke-width:0.5;\"/>\r\n    <path clip-path=\"url(#p558c391708)\" d=\"M 547.423438 282.799219 \r\nL 584.623438 282.799219 \r\nL 584.623438 300.919219 \r\nL 547.423438 300.919219 \r\nL 547.423438 282.799219 \r\n\" style=\"fill:#1b112b;stroke:#ffffff;stroke-width:0.5;\"/>\r\n    <path clip-path=\"url(#p558c391708)\" d=\"M 584.623438 282.799219 \r\nL 621.823437 282.799219 \r\nL 621.823437 300.919219 \r\nL 584.623438 300.919219 \r\nL 584.623438 282.799219 \r\n\" style=\"fill:#180f29;stroke:#ffffff;stroke-width:0.5;\"/>\r\n    <path clip-path=\"url(#p558c391708)\" d=\"M 621.823437 282.799219 \r\nL 659.023438 282.799219 \r\nL 659.023438 300.919219 \r\nL 621.823437 300.919219 \r\nL 621.823437 282.799219 \r\n\" style=\"fill:#1b112b;stroke:#ffffff;stroke-width:0.5;\"/>\r\n    <path clip-path=\"url(#p558c391708)\" d=\"M 659.023438 282.799219 \r\nL 696.223438 282.799219 \r\nL 696.223438 300.919219 \r\nL 659.023438 300.919219 \r\nL 659.023438 282.799219 \r\n\" style=\"fill:#170f28;stroke:#ffffff;stroke-width:0.5;\"/>\r\n    <path clip-path=\"url(#p558c391708)\" d=\"M 696.223438 282.799219 \r\nL 733.423438 282.799219 \r\nL 733.423438 300.919219 \r\nL 696.223438 300.919219 \r\nL 696.223438 282.799219 \r\n\" style=\"fill:#faebdd;stroke:#ffffff;stroke-width:0.5;\"/>\r\n    <path clip-path=\"url(#p558c391708)\" d=\"M 733.423438 282.799219 \r\nL 770.623438 282.799219 \r\nL 770.623438 300.919219 \r\nL 733.423438 300.919219 \r\nL 733.423438 282.799219 \r\n\" style=\"fill:#6b1f56;stroke:#ffffff;stroke-width:0.5;\"/>\r\n    <path clip-path=\"url(#p558c391708)\" d=\"M 770.623438 282.799219 \r\nL 807.823437 282.799219 \r\nL 807.823437 300.919219 \r\nL 770.623438 300.919219 \r\nL 770.623438 282.799219 \r\n\" style=\"fill:#281535;stroke:#ffffff;stroke-width:0.5;\"/>\r\n    <path clip-path=\"url(#p558c391708)\" d=\"M 138.223437 300.919219 \r\nL 175.423437 300.919219 \r\nL 175.423437 319.039219 \r\nL 138.223437 319.039219 \r\nL 138.223437 300.919219 \r\n\" style=\"fill:#2b1637;stroke:#ffffff;stroke-width:0.5;\"/>\r\n    <path clip-path=\"url(#p558c391708)\" d=\"M 175.423437 300.919219 \r\nL 212.623437 300.919219 \r\nL 212.623437 319.039219 \r\nL 175.423437 319.039219 \r\nL 175.423437 300.919219 \r\n\" style=\"fill:#180f29;stroke:#ffffff;stroke-width:0.5;\"/>\r\n    <path clip-path=\"url(#p558c391708)\" d=\"M 212.623437 300.919219 \r\nL 249.823438 300.919219 \r\nL 249.823438 319.039219 \r\nL 212.623437 319.039219 \r\nL 212.623437 300.919219 \r\n\" style=\"fill:#211330;stroke:#ffffff;stroke-width:0.5;\"/>\r\n    <path clip-path=\"url(#p558c391708)\" d=\"M 249.823438 300.919219 \r\nL 287.023438 300.919219 \r\nL 287.023438 319.039219 \r\nL 249.823438 319.039219 \r\nL 249.823438 300.919219 \r\n\" style=\"fill:#241432;stroke:#ffffff;stroke-width:0.5;\"/>\r\n    <path clip-path=\"url(#p558c391708)\" d=\"M 287.023438 300.919219 \r\nL 324.223437 300.919219 \r\nL 324.223437 319.039219 \r\nL 287.023438 319.039219 \r\nL 287.023438 300.919219 \r\n\" style=\"fill:#531e4d;stroke:#ffffff;stroke-width:0.5;\"/>\r\n    <path clip-path=\"url(#p558c391708)\" d=\"M 324.223437 300.919219 \r\nL 361.423437 300.919219 \r\nL 361.423437 319.039219 \r\nL 324.223437 319.039219 \r\nL 324.223437 300.919219 \r\n\" style=\"fill:#03051a;stroke:#ffffff;stroke-width:0.5;\"/>\r\n    <path clip-path=\"url(#p558c391708)\" d=\"M 361.423437 300.919219 \r\nL 398.623438 300.919219 \r\nL 398.623438 319.039219 \r\nL 361.423437 319.039219 \r\nL 361.423437 300.919219 \r\n\" style=\"fill:#2d1738;stroke:#ffffff;stroke-width:0.5;\"/>\r\n    <path clip-path=\"url(#p558c391708)\" d=\"M 398.623438 300.919219 \r\nL 435.823438 300.919219 \r\nL 435.823438 319.039219 \r\nL 398.623438 319.039219 \r\nL 398.623438 300.919219 \r\n\" style=\"fill:#711f57;stroke:#ffffff;stroke-width:0.5;\"/>\r\n    <path clip-path=\"url(#p558c391708)\" d=\"M 435.823438 300.919219 \r\nL 473.023438 300.919219 \r\nL 473.023438 319.039219 \r\nL 435.823438 319.039219 \r\nL 435.823438 300.919219 \r\n\" style=\"fill:#2b1637;stroke:#ffffff;stroke-width:0.5;\"/>\r\n    <path clip-path=\"url(#p558c391708)\" d=\"M 473.023438 300.919219 \r\nL 510.223437 300.919219 \r\nL 510.223437 319.039219 \r\nL 473.023438 319.039219 \r\nL 473.023438 300.919219 \r\n\" style=\"fill:#461c48;stroke:#ffffff;stroke-width:0.5;\"/>\r\n    <path clip-path=\"url(#p558c391708)\" d=\"M 510.223437 300.919219 \r\nL 547.423438 300.919219 \r\nL 547.423438 319.039219 \r\nL 510.223437 319.039219 \r\nL 510.223437 300.919219 \r\n\" style=\"fill:#2b1637;stroke:#ffffff;stroke-width:0.5;\"/>\r\n    <path clip-path=\"url(#p558c391708)\" d=\"M 547.423438 300.919219 \r\nL 584.623438 300.919219 \r\nL 584.623438 319.039219 \r\nL 547.423438 319.039219 \r\nL 547.423438 300.919219 \r\n\" style=\"fill:#33183c;stroke:#ffffff;stroke-width:0.5;\"/>\r\n    <path clip-path=\"url(#p558c391708)\" d=\"M 584.623438 300.919219 \r\nL 621.823437 300.919219 \r\nL 621.823437 319.039219 \r\nL 584.623438 319.039219 \r\nL 584.623438 300.919219 \r\n\" style=\"fill:#110c24;stroke:#ffffff;stroke-width:0.5;\"/>\r\n    <path clip-path=\"url(#p558c391708)\" d=\"M 621.823437 300.919219 \r\nL 659.023438 300.919219 \r\nL 659.023438 319.039219 \r\nL 621.823437 319.039219 \r\nL 621.823437 300.919219 \r\n\" style=\"fill:#3d1a42;stroke:#ffffff;stroke-width:0.5;\"/>\r\n    <path clip-path=\"url(#p558c391708)\" d=\"M 659.023438 300.919219 \r\nL 696.223438 300.919219 \r\nL 696.223438 319.039219 \r\nL 659.023438 319.039219 \r\nL 659.023438 300.919219 \r\n\" style=\"fill:#7d1f5a;stroke:#ffffff;stroke-width:0.5;\"/>\r\n    <path clip-path=\"url(#p558c391708)\" d=\"M 696.223438 300.919219 \r\nL 733.423438 300.919219 \r\nL 733.423438 319.039219 \r\nL 696.223438 319.039219 \r\nL 696.223438 300.919219 \r\n\" style=\"fill:#6b1f56;stroke:#ffffff;stroke-width:0.5;\"/>\r\n    <path clip-path=\"url(#p558c391708)\" d=\"M 733.423438 300.919219 \r\nL 770.623438 300.919219 \r\nL 770.623438 319.039219 \r\nL 733.423438 319.039219 \r\nL 733.423438 300.919219 \r\n\" style=\"fill:#faebdd;stroke:#ffffff;stroke-width:0.5;\"/>\r\n    <path clip-path=\"url(#p558c391708)\" d=\"M 770.623438 300.919219 \r\nL 807.823437 300.919219 \r\nL 807.823437 319.039219 \r\nL 770.623438 319.039219 \r\nL 770.623438 300.919219 \r\n\" style=\"fill:#211330;stroke:#ffffff;stroke-width:0.5;\"/>\r\n    <path clip-path=\"url(#p558c391708)\" d=\"M 138.223437 319.039219 \r\nL 175.423437 319.039219 \r\nL 175.423437 337.159219 \r\nL 138.223437 337.159219 \r\nL 138.223437 319.039219 \r\n\" style=\"fill:#180f29;stroke:#ffffff;stroke-width:0.5;\"/>\r\n    <path clip-path=\"url(#p558c391708)\" d=\"M 175.423437 319.039219 \r\nL 212.623437 319.039219 \r\nL 212.623437 337.159219 \r\nL 175.423437 337.159219 \r\nL 175.423437 319.039219 \r\n\" style=\"fill:#1d112c;stroke:#ffffff;stroke-width:0.5;\"/>\r\n    <path clip-path=\"url(#p558c391708)\" d=\"M 212.623437 319.039219 \r\nL 249.823438 319.039219 \r\nL 249.823438 337.159219 \r\nL 212.623437 337.159219 \r\nL 212.623437 319.039219 \r\n\" style=\"fill:#241432;stroke:#ffffff;stroke-width:0.5;\"/>\r\n    <path clip-path=\"url(#p558c391708)\" d=\"M 249.823438 319.039219 \r\nL 287.023438 319.039219 \r\nL 287.023438 337.159219 \r\nL 249.823438 337.159219 \r\nL 249.823438 319.039219 \r\n\" style=\"fill:#1b112b;stroke:#ffffff;stroke-width:0.5;\"/>\r\n    <path clip-path=\"url(#p558c391708)\" d=\"M 287.023438 319.039219 \r\nL 324.223437 319.039219 \r\nL 324.223437 337.159219 \r\nL 287.023438 337.159219 \r\nL 287.023438 319.039219 \r\n\" style=\"fill:#2d1738;stroke:#ffffff;stroke-width:0.5;\"/>\r\n    <path clip-path=\"url(#p558c391708)\" d=\"M 324.223437 319.039219 \r\nL 361.423437 319.039219 \r\nL 361.423437 337.159219 \r\nL 324.223437 337.159219 \r\nL 324.223437 319.039219 \r\n\" style=\"fill:#1e122d;stroke:#ffffff;stroke-width:0.5;\"/>\r\n    <path clip-path=\"url(#p558c391708)\" d=\"M 361.423437 319.039219 \r\nL 398.623438 319.039219 \r\nL 398.623438 337.159219 \r\nL 361.423437 337.159219 \r\nL 361.423437 319.039219 \r\n\" style=\"fill:#1d112c;stroke:#ffffff;stroke-width:0.5;\"/>\r\n    <path clip-path=\"url(#p558c391708)\" d=\"M 398.623438 319.039219 \r\nL 435.823438 319.039219 \r\nL 435.823438 337.159219 \r\nL 398.623438 337.159219 \r\nL 398.623438 319.039219 \r\n\" style=\"fill:#1d112c;stroke:#ffffff;stroke-width:0.5;\"/>\r\n    <path clip-path=\"url(#p558c391708)\" d=\"M 435.823438 319.039219 \r\nL 473.023438 319.039219 \r\nL 473.023438 337.159219 \r\nL 435.823438 337.159219 \r\nL 435.823438 319.039219 \r\n\" style=\"fill:#1b112b;stroke:#ffffff;stroke-width:0.5;\"/>\r\n    <path clip-path=\"url(#p558c391708)\" d=\"M 473.023438 319.039219 \r\nL 510.223437 319.039219 \r\nL 510.223437 337.159219 \r\nL 473.023438 337.159219 \r\nL 473.023438 319.039219 \r\n\" style=\"fill:#211330;stroke:#ffffff;stroke-width:0.5;\"/>\r\n    <path clip-path=\"url(#p558c391708)\" d=\"M 510.223437 319.039219 \r\nL 547.423438 319.039219 \r\nL 547.423438 337.159219 \r\nL 510.223437 337.159219 \r\nL 510.223437 319.039219 \r\n\" style=\"fill:#251433;stroke:#ffffff;stroke-width:0.5;\"/>\r\n    <path clip-path=\"url(#p558c391708)\" d=\"M 547.423438 319.039219 \r\nL 584.623438 319.039219 \r\nL 584.623438 337.159219 \r\nL 547.423438 337.159219 \r\nL 547.423438 319.039219 \r\n\" style=\"fill:#1e122d;stroke:#ffffff;stroke-width:0.5;\"/>\r\n    <path clip-path=\"url(#p558c391708)\" d=\"M 584.623438 319.039219 \r\nL 621.823437 319.039219 \r\nL 621.823437 337.159219 \r\nL 584.623438 337.159219 \r\nL 584.623438 319.039219 \r\n\" style=\"fill:#170f28;stroke:#ffffff;stroke-width:0.5;\"/>\r\n    <path clip-path=\"url(#p558c391708)\" d=\"M 621.823437 319.039219 \r\nL 659.023438 319.039219 \r\nL 659.023438 337.159219 \r\nL 621.823437 337.159219 \r\nL 621.823437 319.039219 \r\n\" style=\"fill:#1a102a;stroke:#ffffff;stroke-width:0.5;\"/>\r\n    <path clip-path=\"url(#p558c391708)\" d=\"M 659.023438 319.039219 \r\nL 696.223438 319.039219 \r\nL 696.223438 337.159219 \r\nL 659.023438 337.159219 \r\nL 659.023438 319.039219 \r\n\" style=\"fill:#1e122d;stroke:#ffffff;stroke-width:0.5;\"/>\r\n    <path clip-path=\"url(#p558c391708)\" d=\"M 696.223438 319.039219 \r\nL 733.423438 319.039219 \r\nL 733.423438 337.159219 \r\nL 696.223438 337.159219 \r\nL 696.223438 319.039219 \r\n\" style=\"fill:#281535;stroke:#ffffff;stroke-width:0.5;\"/>\r\n    <path clip-path=\"url(#p558c391708)\" d=\"M 733.423438 319.039219 \r\nL 770.623438 319.039219 \r\nL 770.623438 337.159219 \r\nL 733.423438 337.159219 \r\nL 733.423438 319.039219 \r\n\" style=\"fill:#211330;stroke:#ffffff;stroke-width:0.5;\"/>\r\n    <path clip-path=\"url(#p558c391708)\" d=\"M 770.623438 319.039219 \r\nL 807.823437 319.039219 \r\nL 807.823437 337.159219 \r\nL 770.623438 337.159219 \r\nL 770.623438 319.039219 \r\n\" style=\"fill:#faebdd;stroke:#ffffff;stroke-width:0.5;\"/>\r\n   </g>\r\n   <g id=\"matplotlib.axis_1\">\r\n    <g id=\"xtick_1\">\r\n     <g id=\"line2d_1\">\r\n      <defs>\r\n       <path d=\"M 0 0 \r\nL 0 3.5 \r\n\" id=\"mfa133f26d5\" style=\"stroke:#000000;stroke-width:0.8;\"/>\r\n      </defs>\r\n      <g>\r\n       <use style=\"stroke:#000000;stroke-width:0.8;\" x=\"156.823437\" xlink:href=\"#mfa133f26d5\" y=\"337.159219\"/>\r\n      </g>\r\n     </g>\r\n     <g id=\"text_1\">\r\n      <!-- Sex -->\r\n      <defs>\r\n       <path d=\"M 53.515625 70.515625 \r\nL 53.515625 60.890625 \r\nQ 47.90625 63.578125 42.921875 64.890625 \r\nQ 37.9375 66.21875 33.296875 66.21875 \r\nQ 25.25 66.21875 20.875 63.09375 \r\nQ 16.5 59.96875 16.5 54.203125 \r\nQ 16.5 49.359375 19.40625 46.890625 \r\nQ 22.3125 44.4375 30.421875 42.921875 \r\nL 36.375 41.703125 \r\nQ 47.40625 39.59375 52.65625 34.296875 \r\nQ 57.90625 29 57.90625 20.125 \r\nQ 57.90625 9.515625 50.796875 4.046875 \r\nQ 43.703125 -1.421875 29.984375 -1.421875 \r\nQ 24.8125 -1.421875 18.96875 -0.25 \r\nQ 13.140625 0.921875 6.890625 3.21875 \r\nL 6.890625 13.375 \r\nQ 12.890625 10.015625 18.65625 8.296875 \r\nQ 24.421875 6.59375 29.984375 6.59375 \r\nQ 38.421875 6.59375 43.015625 9.90625 \r\nQ 47.609375 13.234375 47.609375 19.390625 \r\nQ 47.609375 24.75 44.3125 27.78125 \r\nQ 41.015625 30.8125 33.5 32.328125 \r\nL 27.484375 33.5 \r\nQ 16.453125 35.6875 11.515625 40.375 \r\nQ 6.59375 45.0625 6.59375 53.421875 \r\nQ 6.59375 63.09375 13.40625 68.65625 \r\nQ 20.21875 74.21875 32.171875 74.21875 \r\nQ 37.3125 74.21875 42.625 73.28125 \r\nQ 47.953125 72.359375 53.515625 70.515625 \r\nz\r\n\" id=\"DejaVuSans-53\"/>\r\n       <path d=\"M 56.203125 29.59375 \r\nL 56.203125 25.203125 \r\nL 14.890625 25.203125 \r\nQ 15.484375 15.921875 20.484375 11.0625 \r\nQ 25.484375 6.203125 34.421875 6.203125 \r\nQ 39.59375 6.203125 44.453125 7.46875 \r\nQ 49.3125 8.734375 54.109375 11.28125 \r\nL 54.109375 2.78125 \r\nQ 49.265625 0.734375 44.1875 -0.34375 \r\nQ 39.109375 -1.421875 33.890625 -1.421875 \r\nQ 20.796875 -1.421875 13.15625 6.1875 \r\nQ 5.515625 13.8125 5.515625 26.8125 \r\nQ 5.515625 40.234375 12.765625 48.109375 \r\nQ 20.015625 56 32.328125 56 \r\nQ 43.359375 56 49.78125 48.890625 \r\nQ 56.203125 41.796875 56.203125 29.59375 \r\nz\r\nM 47.21875 32.234375 \r\nQ 47.125 39.59375 43.09375 43.984375 \r\nQ 39.0625 48.390625 32.421875 48.390625 \r\nQ 24.90625 48.390625 20.390625 44.140625 \r\nQ 15.875 39.890625 15.1875 32.171875 \r\nz\r\n\" id=\"DejaVuSans-65\"/>\r\n       <path d=\"M 54.890625 54.6875 \r\nL 35.109375 28.078125 \r\nL 55.90625 0 \r\nL 45.3125 0 \r\nL 29.390625 21.484375 \r\nL 13.484375 0 \r\nL 2.875 0 \r\nL 24.125 28.609375 \r\nL 4.6875 54.6875 \r\nL 15.28125 54.6875 \r\nL 29.78125 35.203125 \r\nL 44.28125 54.6875 \r\nz\r\n\" id=\"DejaVuSans-78\"/>\r\n      </defs>\r\n      <g transform=\"translate(159.582812 362.577969)rotate(-90)scale(0.1 -0.1)\">\r\n       <use xlink:href=\"#DejaVuSans-53\"/>\r\n       <use x=\"63.476562\" xlink:href=\"#DejaVuSans-65\"/>\r\n       <use x=\"124.984375\" xlink:href=\"#DejaVuSans-78\"/>\r\n      </g>\r\n     </g>\r\n    </g>\r\n    <g id=\"xtick_2\">\r\n     <g id=\"line2d_2\">\r\n      <g>\r\n       <use style=\"stroke:#000000;stroke-width:0.8;\" x=\"194.023438\" xlink:href=\"#mfa133f26d5\" y=\"337.159219\"/>\r\n      </g>\r\n     </g>\r\n     <g id=\"text_2\">\r\n      <!-- Age -->\r\n      <defs>\r\n       <path d=\"M 34.1875 63.1875 \r\nL 20.796875 26.90625 \r\nL 47.609375 26.90625 \r\nz\r\nM 28.609375 72.90625 \r\nL 39.796875 72.90625 \r\nL 67.578125 0 \r\nL 57.328125 0 \r\nL 50.6875 18.703125 \r\nL 17.828125 18.703125 \r\nL 11.1875 0 \r\nL 0.78125 0 \r\nz\r\n\" id=\"DejaVuSans-41\"/>\r\n       <path d=\"M 45.40625 27.984375 \r\nQ 45.40625 37.75 41.375 43.109375 \r\nQ 37.359375 48.484375 30.078125 48.484375 \r\nQ 22.859375 48.484375 18.828125 43.109375 \r\nQ 14.796875 37.75 14.796875 27.984375 \r\nQ 14.796875 18.265625 18.828125 12.890625 \r\nQ 22.859375 7.515625 30.078125 7.515625 \r\nQ 37.359375 7.515625 41.375 12.890625 \r\nQ 45.40625 18.265625 45.40625 27.984375 \r\nz\r\nM 54.390625 6.78125 \r\nQ 54.390625 -7.171875 48.1875 -13.984375 \r\nQ 42 -20.796875 29.203125 -20.796875 \r\nQ 24.46875 -20.796875 20.265625 -20.09375 \r\nQ 16.0625 -19.390625 12.109375 -17.921875 \r\nL 12.109375 -9.1875 \r\nQ 16.0625 -11.328125 19.921875 -12.34375 \r\nQ 23.78125 -13.375 27.78125 -13.375 \r\nQ 36.625 -13.375 41.015625 -8.765625 \r\nQ 45.40625 -4.15625 45.40625 5.171875 \r\nL 45.40625 9.625 \r\nQ 42.625 4.78125 38.28125 2.390625 \r\nQ 33.9375 0 27.875 0 \r\nQ 17.828125 0 11.671875 7.65625 \r\nQ 5.515625 15.328125 5.515625 27.984375 \r\nQ 5.515625 40.671875 11.671875 48.328125 \r\nQ 17.828125 56 27.875 56 \r\nQ 33.9375 56 38.28125 53.609375 \r\nQ 42.625 51.21875 45.40625 46.390625 \r\nL 45.40625 54.6875 \r\nL 54.390625 54.6875 \r\nz\r\n\" id=\"DejaVuSans-67\"/>\r\n      </defs>\r\n      <g transform=\"translate(196.782813 363.501406)rotate(-90)scale(0.1 -0.1)\">\r\n       <use xlink:href=\"#DejaVuSans-41\"/>\r\n       <use x=\"68.408203\" xlink:href=\"#DejaVuSans-67\"/>\r\n       <use x=\"131.884766\" xlink:href=\"#DejaVuSans-65\"/>\r\n      </g>\r\n     </g>\r\n    </g>\r\n    <g id=\"xtick_3\">\r\n     <g id=\"line2d_3\">\r\n      <g>\r\n       <use style=\"stroke:#000000;stroke-width:0.8;\" x=\"231.223437\" xlink:href=\"#mfa133f26d5\" y=\"337.159219\"/>\r\n      </g>\r\n     </g>\r\n     <g id=\"text_3\">\r\n      <!-- State -->\r\n      <defs>\r\n       <path d=\"M 18.3125 70.21875 \r\nL 18.3125 54.6875 \r\nL 36.8125 54.6875 \r\nL 36.8125 47.703125 \r\nL 18.3125 47.703125 \r\nL 18.3125 18.015625 \r\nQ 18.3125 11.328125 20.140625 9.421875 \r\nQ 21.96875 7.515625 27.59375 7.515625 \r\nL 36.8125 7.515625 \r\nL 36.8125 0 \r\nL 27.59375 0 \r\nQ 17.1875 0 13.234375 3.875 \r\nQ 9.28125 7.765625 9.28125 18.015625 \r\nL 9.28125 47.703125 \r\nL 2.6875 47.703125 \r\nL 2.6875 54.6875 \r\nL 9.28125 54.6875 \r\nL 9.28125 70.21875 \r\nz\r\n\" id=\"DejaVuSans-74\"/>\r\n       <path d=\"M 34.28125 27.484375 \r\nQ 23.390625 27.484375 19.1875 25 \r\nQ 14.984375 22.515625 14.984375 16.5 \r\nQ 14.984375 11.71875 18.140625 8.90625 \r\nQ 21.296875 6.109375 26.703125 6.109375 \r\nQ 34.1875 6.109375 38.703125 11.40625 \r\nQ 43.21875 16.703125 43.21875 25.484375 \r\nL 43.21875 27.484375 \r\nz\r\nM 52.203125 31.203125 \r\nL 52.203125 0 \r\nL 43.21875 0 \r\nL 43.21875 8.296875 \r\nQ 40.140625 3.328125 35.546875 0.953125 \r\nQ 30.953125 -1.421875 24.3125 -1.421875 \r\nQ 15.921875 -1.421875 10.953125 3.296875 \r\nQ 6 8.015625 6 15.921875 \r\nQ 6 25.140625 12.171875 29.828125 \r\nQ 18.359375 34.515625 30.609375 34.515625 \r\nL 43.21875 34.515625 \r\nL 43.21875 35.40625 \r\nQ 43.21875 41.609375 39.140625 45 \r\nQ 35.0625 48.390625 27.6875 48.390625 \r\nQ 23 48.390625 18.546875 47.265625 \r\nQ 14.109375 46.140625 10.015625 43.890625 \r\nL 10.015625 52.203125 \r\nQ 14.9375 54.109375 19.578125 55.046875 \r\nQ 24.21875 56 28.609375 56 \r\nQ 40.484375 56 46.34375 49.84375 \r\nQ 52.203125 43.703125 52.203125 31.203125 \r\nz\r\n\" id=\"DejaVuSans-61\"/>\r\n      </defs>\r\n      <g transform=\"translate(233.982812 370.629531)rotate(-90)scale(0.1 -0.1)\">\r\n       <use xlink:href=\"#DejaVuSans-53\"/>\r\n       <use x=\"63.476562\" xlink:href=\"#DejaVuSans-74\"/>\r\n       <use x=\"102.685547\" xlink:href=\"#DejaVuSans-61\"/>\r\n       <use x=\"163.964844\" xlink:href=\"#DejaVuSans-74\"/>\r\n       <use x=\"203.173828\" xlink:href=\"#DejaVuSans-65\"/>\r\n      </g>\r\n     </g>\r\n    </g>\r\n    <g id=\"xtick_4\">\r\n     <g id=\"line2d_4\">\r\n      <g>\r\n       <use style=\"stroke:#000000;stroke-width:0.8;\" x=\"268.423437\" xlink:href=\"#mfa133f26d5\" y=\"337.159219\"/>\r\n      </g>\r\n     </g>\r\n     <g id=\"text_4\">\r\n      <!-- Account length -->\r\n      <defs>\r\n       <path d=\"M 48.78125 52.59375 \r\nL 48.78125 44.1875 \r\nQ 44.96875 46.296875 41.140625 47.34375 \r\nQ 37.3125 48.390625 33.40625 48.390625 \r\nQ 24.65625 48.390625 19.8125 42.84375 \r\nQ 14.984375 37.3125 14.984375 27.296875 \r\nQ 14.984375 17.28125 19.8125 11.734375 \r\nQ 24.65625 6.203125 33.40625 6.203125 \r\nQ 37.3125 6.203125 41.140625 7.25 \r\nQ 44.96875 8.296875 48.78125 10.40625 \r\nL 48.78125 2.09375 \r\nQ 45.015625 0.34375 40.984375 -0.53125 \r\nQ 36.96875 -1.421875 32.421875 -1.421875 \r\nQ 20.0625 -1.421875 12.78125 6.34375 \r\nQ 5.515625 14.109375 5.515625 27.296875 \r\nQ 5.515625 40.671875 12.859375 48.328125 \r\nQ 20.21875 56 33.015625 56 \r\nQ 37.15625 56 41.109375 55.140625 \r\nQ 45.0625 54.296875 48.78125 52.59375 \r\nz\r\n\" id=\"DejaVuSans-63\"/>\r\n       <path d=\"M 30.609375 48.390625 \r\nQ 23.390625 48.390625 19.1875 42.75 \r\nQ 14.984375 37.109375 14.984375 27.296875 \r\nQ 14.984375 17.484375 19.15625 11.84375 \r\nQ 23.34375 6.203125 30.609375 6.203125 \r\nQ 37.796875 6.203125 41.984375 11.859375 \r\nQ 46.1875 17.53125 46.1875 27.296875 \r\nQ 46.1875 37.015625 41.984375 42.703125 \r\nQ 37.796875 48.390625 30.609375 48.390625 \r\nz\r\nM 30.609375 56 \r\nQ 42.328125 56 49.015625 48.375 \r\nQ 55.71875 40.765625 55.71875 27.296875 \r\nQ 55.71875 13.875 49.015625 6.21875 \r\nQ 42.328125 -1.421875 30.609375 -1.421875 \r\nQ 18.84375 -1.421875 12.171875 6.21875 \r\nQ 5.515625 13.875 5.515625 27.296875 \r\nQ 5.515625 40.765625 12.171875 48.375 \r\nQ 18.84375 56 30.609375 56 \r\nz\r\n\" id=\"DejaVuSans-6f\"/>\r\n       <path d=\"M 8.5 21.578125 \r\nL 8.5 54.6875 \r\nL 17.484375 54.6875 \r\nL 17.484375 21.921875 \r\nQ 17.484375 14.15625 20.5 10.265625 \r\nQ 23.53125 6.390625 29.59375 6.390625 \r\nQ 36.859375 6.390625 41.078125 11.03125 \r\nQ 45.3125 15.671875 45.3125 23.6875 \r\nL 45.3125 54.6875 \r\nL 54.296875 54.6875 \r\nL 54.296875 0 \r\nL 45.3125 0 \r\nL 45.3125 8.40625 \r\nQ 42.046875 3.421875 37.71875 1 \r\nQ 33.40625 -1.421875 27.6875 -1.421875 \r\nQ 18.265625 -1.421875 13.375 4.4375 \r\nQ 8.5 10.296875 8.5 21.578125 \r\nz\r\nM 31.109375 56 \r\nz\r\n\" id=\"DejaVuSans-75\"/>\r\n       <path d=\"M 54.890625 33.015625 \r\nL 54.890625 0 \r\nL 45.90625 0 \r\nL 45.90625 32.71875 \r\nQ 45.90625 40.484375 42.875 44.328125 \r\nQ 39.84375 48.1875 33.796875 48.1875 \r\nQ 26.515625 48.1875 22.3125 43.546875 \r\nQ 18.109375 38.921875 18.109375 30.90625 \r\nL 18.109375 0 \r\nL 9.078125 0 \r\nL 9.078125 54.6875 \r\nL 18.109375 54.6875 \r\nL 18.109375 46.1875 \r\nQ 21.34375 51.125 25.703125 53.5625 \r\nQ 30.078125 56 35.796875 56 \r\nQ 45.21875 56 50.046875 50.171875 \r\nQ 54.890625 44.34375 54.890625 33.015625 \r\nz\r\n\" id=\"DejaVuSans-6e\"/>\r\n       <path id=\"DejaVuSans-20\"/>\r\n       <path d=\"M 9.421875 75.984375 \r\nL 18.40625 75.984375 \r\nL 18.40625 0 \r\nL 9.421875 0 \r\nz\r\n\" id=\"DejaVuSans-6c\"/>\r\n       <path d=\"M 54.890625 33.015625 \r\nL 54.890625 0 \r\nL 45.90625 0 \r\nL 45.90625 32.71875 \r\nQ 45.90625 40.484375 42.875 44.328125 \r\nQ 39.84375 48.1875 33.796875 48.1875 \r\nQ 26.515625 48.1875 22.3125 43.546875 \r\nQ 18.109375 38.921875 18.109375 30.90625 \r\nL 18.109375 0 \r\nL 9.078125 0 \r\nL 9.078125 75.984375 \r\nL 18.109375 75.984375 \r\nL 18.109375 46.1875 \r\nQ 21.34375 51.125 25.703125 53.5625 \r\nQ 30.078125 56 35.796875 56 \r\nQ 45.21875 56 50.046875 50.171875 \r\nQ 54.890625 44.34375 54.890625 33.015625 \r\nz\r\n\" id=\"DejaVuSans-68\"/>\r\n      </defs>\r\n      <g transform=\"translate(271.182812 419.762344)rotate(-90)scale(0.1 -0.1)\">\r\n       <use xlink:href=\"#DejaVuSans-41\"/>\r\n       <use x=\"68.392578\" xlink:href=\"#DejaVuSans-63\"/>\r\n       <use x=\"123.373047\" xlink:href=\"#DejaVuSans-63\"/>\r\n       <use x=\"178.353516\" xlink:href=\"#DejaVuSans-6f\"/>\r\n       <use x=\"239.535156\" xlink:href=\"#DejaVuSans-75\"/>\r\n       <use x=\"302.914062\" xlink:href=\"#DejaVuSans-6e\"/>\r\n       <use x=\"366.292969\" xlink:href=\"#DejaVuSans-74\"/>\r\n       <use x=\"405.501953\" xlink:href=\"#DejaVuSans-20\"/>\r\n       <use x=\"437.289062\" xlink:href=\"#DejaVuSans-6c\"/>\r\n       <use x=\"465.072266\" xlink:href=\"#DejaVuSans-65\"/>\r\n       <use x=\"526.595703\" xlink:href=\"#DejaVuSans-6e\"/>\r\n       <use x=\"589.974609\" xlink:href=\"#DejaVuSans-67\"/>\r\n       <use x=\"653.451172\" xlink:href=\"#DejaVuSans-74\"/>\r\n       <use x=\"692.660156\" xlink:href=\"#DejaVuSans-68\"/>\r\n      </g>\r\n     </g>\r\n    </g>\r\n    <g id=\"xtick_5\">\r\n     <g id=\"line2d_5\">\r\n      <g>\r\n       <use style=\"stroke:#000000;stroke-width:0.8;\" x=\"305.623438\" xlink:href=\"#mfa133f26d5\" y=\"337.159219\"/>\r\n      </g>\r\n     </g>\r\n     <g id=\"text_5\">\r\n      <!-- Plans -->\r\n      <defs>\r\n       <path d=\"M 19.671875 64.796875 \r\nL 19.671875 37.40625 \r\nL 32.078125 37.40625 \r\nQ 38.96875 37.40625 42.71875 40.96875 \r\nQ 46.484375 44.53125 46.484375 51.125 \r\nQ 46.484375 57.671875 42.71875 61.234375 \r\nQ 38.96875 64.796875 32.078125 64.796875 \r\nz\r\nM 9.8125 72.90625 \r\nL 32.078125 72.90625 \r\nQ 44.34375 72.90625 50.609375 67.359375 \r\nQ 56.890625 61.8125 56.890625 51.125 \r\nQ 56.890625 40.328125 50.609375 34.8125 \r\nQ 44.34375 29.296875 32.078125 29.296875 \r\nL 19.671875 29.296875 \r\nL 19.671875 0 \r\nL 9.8125 0 \r\nz\r\n\" id=\"DejaVuSans-50\"/>\r\n       <path d=\"M 44.28125 53.078125 \r\nL 44.28125 44.578125 \r\nQ 40.484375 46.53125 36.375 47.5 \r\nQ 32.28125 48.484375 27.875 48.484375 \r\nQ 21.1875 48.484375 17.84375 46.4375 \r\nQ 14.5 44.390625 14.5 40.28125 \r\nQ 14.5 37.15625 16.890625 35.375 \r\nQ 19.28125 33.59375 26.515625 31.984375 \r\nL 29.59375 31.296875 \r\nQ 39.15625 29.25 43.1875 25.515625 \r\nQ 47.21875 21.78125 47.21875 15.09375 \r\nQ 47.21875 7.46875 41.1875 3.015625 \r\nQ 35.15625 -1.421875 24.609375 -1.421875 \r\nQ 20.21875 -1.421875 15.453125 -0.5625 \r\nQ 10.6875 0.296875 5.421875 2 \r\nL 5.421875 11.28125 \r\nQ 10.40625 8.6875 15.234375 7.390625 \r\nQ 20.0625 6.109375 24.8125 6.109375 \r\nQ 31.15625 6.109375 34.5625 8.28125 \r\nQ 37.984375 10.453125 37.984375 14.40625 \r\nQ 37.984375 18.0625 35.515625 20.015625 \r\nQ 33.0625 21.96875 24.703125 23.78125 \r\nL 21.578125 24.515625 \r\nQ 13.234375 26.265625 9.515625 29.90625 \r\nQ 5.8125 33.546875 5.8125 39.890625 \r\nQ 5.8125 47.609375 11.28125 51.796875 \r\nQ 16.75 56 26.8125 56 \r\nQ 31.78125 56 36.171875 55.265625 \r\nQ 40.578125 54.546875 44.28125 53.078125 \r\nz\r\n\" id=\"DejaVuSans-73\"/>\r\n      </defs>\r\n      <g transform=\"translate(308.382812 370.642031)rotate(-90)scale(0.1 -0.1)\">\r\n       <use xlink:href=\"#DejaVuSans-50\"/>\r\n       <use x=\"60.302734\" xlink:href=\"#DejaVuSans-6c\"/>\r\n       <use x=\"88.085938\" xlink:href=\"#DejaVuSans-61\"/>\r\n       <use x=\"149.365234\" xlink:href=\"#DejaVuSans-6e\"/>\r\n       <use x=\"212.744141\" xlink:href=\"#DejaVuSans-73\"/>\r\n      </g>\r\n     </g>\r\n    </g>\r\n    <g id=\"xtick_6\">\r\n     <g id=\"line2d_6\">\r\n      <g>\r\n       <use style=\"stroke:#000000;stroke-width:0.8;\" x=\"342.823438\" xlink:href=\"#mfa133f26d5\" y=\"337.159219\"/>\r\n      </g>\r\n     </g>\r\n     <g id=\"text_6\">\r\n      <!-- Number vmail messages -->\r\n      <defs>\r\n       <path d=\"M 9.8125 72.90625 \r\nL 23.09375 72.90625 \r\nL 55.421875 11.921875 \r\nL 55.421875 72.90625 \r\nL 64.984375 72.90625 \r\nL 64.984375 0 \r\nL 51.703125 0 \r\nL 19.390625 60.984375 \r\nL 19.390625 0 \r\nL 9.8125 0 \r\nz\r\n\" id=\"DejaVuSans-4e\"/>\r\n       <path d=\"M 52 44.1875 \r\nQ 55.375 50.25 60.0625 53.125 \r\nQ 64.75 56 71.09375 56 \r\nQ 79.640625 56 84.28125 50.015625 \r\nQ 88.921875 44.046875 88.921875 33.015625 \r\nL 88.921875 0 \r\nL 79.890625 0 \r\nL 79.890625 32.71875 \r\nQ 79.890625 40.578125 77.09375 44.375 \r\nQ 74.3125 48.1875 68.609375 48.1875 \r\nQ 61.625 48.1875 57.5625 43.546875 \r\nQ 53.515625 38.921875 53.515625 30.90625 \r\nL 53.515625 0 \r\nL 44.484375 0 \r\nL 44.484375 32.71875 \r\nQ 44.484375 40.625 41.703125 44.40625 \r\nQ 38.921875 48.1875 33.109375 48.1875 \r\nQ 26.21875 48.1875 22.15625 43.53125 \r\nQ 18.109375 38.875 18.109375 30.90625 \r\nL 18.109375 0 \r\nL 9.078125 0 \r\nL 9.078125 54.6875 \r\nL 18.109375 54.6875 \r\nL 18.109375 46.1875 \r\nQ 21.1875 51.21875 25.484375 53.609375 \r\nQ 29.78125 56 35.6875 56 \r\nQ 41.65625 56 45.828125 52.96875 \r\nQ 50 49.953125 52 44.1875 \r\nz\r\n\" id=\"DejaVuSans-6d\"/>\r\n       <path d=\"M 48.6875 27.296875 \r\nQ 48.6875 37.203125 44.609375 42.84375 \r\nQ 40.53125 48.484375 33.40625 48.484375 \r\nQ 26.265625 48.484375 22.1875 42.84375 \r\nQ 18.109375 37.203125 18.109375 27.296875 \r\nQ 18.109375 17.390625 22.1875 11.75 \r\nQ 26.265625 6.109375 33.40625 6.109375 \r\nQ 40.53125 6.109375 44.609375 11.75 \r\nQ 48.6875 17.390625 48.6875 27.296875 \r\nz\r\nM 18.109375 46.390625 \r\nQ 20.953125 51.265625 25.265625 53.625 \r\nQ 29.59375 56 35.59375 56 \r\nQ 45.5625 56 51.78125 48.09375 \r\nQ 58.015625 40.1875 58.015625 27.296875 \r\nQ 58.015625 14.40625 51.78125 6.484375 \r\nQ 45.5625 -1.421875 35.59375 -1.421875 \r\nQ 29.59375 -1.421875 25.265625 0.953125 \r\nQ 20.953125 3.328125 18.109375 8.203125 \r\nL 18.109375 0 \r\nL 9.078125 0 \r\nL 9.078125 75.984375 \r\nL 18.109375 75.984375 \r\nz\r\n\" id=\"DejaVuSans-62\"/>\r\n       <path d=\"M 41.109375 46.296875 \r\nQ 39.59375 47.171875 37.8125 47.578125 \r\nQ 36.03125 48 33.890625 48 \r\nQ 26.265625 48 22.1875 43.046875 \r\nQ 18.109375 38.09375 18.109375 28.8125 \r\nL 18.109375 0 \r\nL 9.078125 0 \r\nL 9.078125 54.6875 \r\nL 18.109375 54.6875 \r\nL 18.109375 46.1875 \r\nQ 20.953125 51.171875 25.484375 53.578125 \r\nQ 30.03125 56 36.53125 56 \r\nQ 37.453125 56 38.578125 55.875 \r\nQ 39.703125 55.765625 41.0625 55.515625 \r\nz\r\n\" id=\"DejaVuSans-72\"/>\r\n       <path d=\"M 2.984375 54.6875 \r\nL 12.5 54.6875 \r\nL 29.59375 8.796875 \r\nL 46.6875 54.6875 \r\nL 56.203125 54.6875 \r\nL 35.6875 0 \r\nL 23.484375 0 \r\nz\r\n\" id=\"DejaVuSans-76\"/>\r\n       <path d=\"M 9.421875 54.6875 \r\nL 18.40625 54.6875 \r\nL 18.40625 0 \r\nL 9.421875 0 \r\nz\r\nM 9.421875 75.984375 \r\nL 18.40625 75.984375 \r\nL 18.40625 64.59375 \r\nL 9.421875 64.59375 \r\nz\r\n\" id=\"DejaVuSans-69\"/>\r\n      </defs>\r\n      <g transform=\"translate(345.582812 468.182656)rotate(-90)scale(0.1 -0.1)\">\r\n       <use xlink:href=\"#DejaVuSans-4e\"/>\r\n       <use x=\"74.804688\" xlink:href=\"#DejaVuSans-75\"/>\r\n       <use x=\"138.183594\" xlink:href=\"#DejaVuSans-6d\"/>\r\n       <use x=\"235.595703\" xlink:href=\"#DejaVuSans-62\"/>\r\n       <use x=\"299.072266\" xlink:href=\"#DejaVuSans-65\"/>\r\n       <use x=\"360.595703\" xlink:href=\"#DejaVuSans-72\"/>\r\n       <use x=\"401.708984\" xlink:href=\"#DejaVuSans-20\"/>\r\n       <use x=\"433.496094\" xlink:href=\"#DejaVuSans-76\"/>\r\n       <use x=\"492.675781\" xlink:href=\"#DejaVuSans-6d\"/>\r\n       <use x=\"590.087891\" xlink:href=\"#DejaVuSans-61\"/>\r\n       <use x=\"651.367188\" xlink:href=\"#DejaVuSans-69\"/>\r\n       <use x=\"679.150391\" xlink:href=\"#DejaVuSans-6c\"/>\r\n       <use x=\"706.933594\" xlink:href=\"#DejaVuSans-20\"/>\r\n       <use x=\"738.720703\" xlink:href=\"#DejaVuSans-6d\"/>\r\n       <use x=\"836.132812\" xlink:href=\"#DejaVuSans-65\"/>\r\n       <use x=\"897.65625\" xlink:href=\"#DejaVuSans-73\"/>\r\n       <use x=\"949.755859\" xlink:href=\"#DejaVuSans-73\"/>\r\n       <use x=\"1001.855469\" xlink:href=\"#DejaVuSans-61\"/>\r\n       <use x=\"1063.134766\" xlink:href=\"#DejaVuSans-67\"/>\r\n       <use x=\"1126.611328\" xlink:href=\"#DejaVuSans-65\"/>\r\n       <use x=\"1188.134766\" xlink:href=\"#DejaVuSans-73\"/>\r\n      </g>\r\n     </g>\r\n    </g>\r\n    <g id=\"xtick_7\">\r\n     <g id=\"line2d_7\">\r\n      <g>\r\n       <use style=\"stroke:#000000;stroke-width:0.8;\" x=\"380.023438\" xlink:href=\"#mfa133f26d5\" y=\"337.159219\"/>\r\n      </g>\r\n     </g>\r\n     <g id=\"text_7\">\r\n      <!-- Total day calls -->\r\n      <defs>\r\n       <path d=\"M -0.296875 72.90625 \r\nL 61.375 72.90625 \r\nL 61.375 64.59375 \r\nL 35.5 64.59375 \r\nL 35.5 0 \r\nL 25.59375 0 \r\nL 25.59375 64.59375 \r\nL -0.296875 64.59375 \r\nz\r\n\" id=\"DejaVuSans-54\"/>\r\n       <path d=\"M 45.40625 46.390625 \r\nL 45.40625 75.984375 \r\nL 54.390625 75.984375 \r\nL 54.390625 0 \r\nL 45.40625 0 \r\nL 45.40625 8.203125 \r\nQ 42.578125 3.328125 38.25 0.953125 \r\nQ 33.9375 -1.421875 27.875 -1.421875 \r\nQ 17.96875 -1.421875 11.734375 6.484375 \r\nQ 5.515625 14.40625 5.515625 27.296875 \r\nQ 5.515625 40.1875 11.734375 48.09375 \r\nQ 17.96875 56 27.875 56 \r\nQ 33.9375 56 38.25 53.625 \r\nQ 42.578125 51.265625 45.40625 46.390625 \r\nz\r\nM 14.796875 27.296875 \r\nQ 14.796875 17.390625 18.875 11.75 \r\nQ 22.953125 6.109375 30.078125 6.109375 \r\nQ 37.203125 6.109375 41.296875 11.75 \r\nQ 45.40625 17.390625 45.40625 27.296875 \r\nQ 45.40625 37.203125 41.296875 42.84375 \r\nQ 37.203125 48.484375 30.078125 48.484375 \r\nQ 22.953125 48.484375 18.875 42.84375 \r\nQ 14.796875 37.203125 14.796875 27.296875 \r\nz\r\n\" id=\"DejaVuSans-64\"/>\r\n       <path d=\"M 32.171875 -5.078125 \r\nQ 28.375 -14.84375 24.75 -17.8125 \r\nQ 21.140625 -20.796875 15.09375 -20.796875 \r\nL 7.90625 -20.796875 \r\nL 7.90625 -13.28125 \r\nL 13.1875 -13.28125 \r\nQ 16.890625 -13.28125 18.9375 -11.515625 \r\nQ 21 -9.765625 23.484375 -3.21875 \r\nL 25.09375 0.875 \r\nL 2.984375 54.6875 \r\nL 12.5 54.6875 \r\nL 29.59375 11.921875 \r\nL 46.6875 54.6875 \r\nL 56.203125 54.6875 \r\nz\r\n\" id=\"DejaVuSans-79\"/>\r\n      </defs>\r\n      <g transform=\"translate(382.782812 416.329531)rotate(-90)scale(0.1 -0.1)\">\r\n       <use xlink:href=\"#DejaVuSans-54\"/>\r\n       <use x=\"60.818359\" xlink:href=\"#DejaVuSans-6f\"/>\r\n       <use x=\"122\" xlink:href=\"#DejaVuSans-74\"/>\r\n       <use x=\"161.208984\" xlink:href=\"#DejaVuSans-61\"/>\r\n       <use x=\"222.488281\" xlink:href=\"#DejaVuSans-6c\"/>\r\n       <use x=\"250.271484\" xlink:href=\"#DejaVuSans-20\"/>\r\n       <use x=\"282.058594\" xlink:href=\"#DejaVuSans-64\"/>\r\n       <use x=\"345.535156\" xlink:href=\"#DejaVuSans-61\"/>\r\n       <use x=\"406.814453\" xlink:href=\"#DejaVuSans-79\"/>\r\n       <use x=\"465.994141\" xlink:href=\"#DejaVuSans-20\"/>\r\n       <use x=\"497.78125\" xlink:href=\"#DejaVuSans-63\"/>\r\n       <use x=\"552.761719\" xlink:href=\"#DejaVuSans-61\"/>\r\n       <use x=\"614.041016\" xlink:href=\"#DejaVuSans-6c\"/>\r\n       <use x=\"641.824219\" xlink:href=\"#DejaVuSans-6c\"/>\r\n       <use x=\"669.607422\" xlink:href=\"#DejaVuSans-73\"/>\r\n      </g>\r\n     </g>\r\n    </g>\r\n    <g id=\"xtick_8\">\r\n     <g id=\"line2d_8\">\r\n      <g>\r\n       <use style=\"stroke:#000000;stroke-width:0.8;\" x=\"417.223437\" xlink:href=\"#mfa133f26d5\" y=\"337.159219\"/>\r\n      </g>\r\n     </g>\r\n     <g id=\"text_8\">\r\n      <!-- Total day charge -->\r\n      <g transform=\"translate(419.982812 428.512344)rotate(-90)scale(0.1 -0.1)\">\r\n       <use xlink:href=\"#DejaVuSans-54\"/>\r\n       <use x=\"60.818359\" xlink:href=\"#DejaVuSans-6f\"/>\r\n       <use x=\"122\" xlink:href=\"#DejaVuSans-74\"/>\r\n       <use x=\"161.208984\" xlink:href=\"#DejaVuSans-61\"/>\r\n       <use x=\"222.488281\" xlink:href=\"#DejaVuSans-6c\"/>\r\n       <use x=\"250.271484\" xlink:href=\"#DejaVuSans-20\"/>\r\n       <use x=\"282.058594\" xlink:href=\"#DejaVuSans-64\"/>\r\n       <use x=\"345.535156\" xlink:href=\"#DejaVuSans-61\"/>\r\n       <use x=\"406.814453\" xlink:href=\"#DejaVuSans-79\"/>\r\n       <use x=\"465.994141\" xlink:href=\"#DejaVuSans-20\"/>\r\n       <use x=\"497.78125\" xlink:href=\"#DejaVuSans-63\"/>\r\n       <use x=\"552.761719\" xlink:href=\"#DejaVuSans-68\"/>\r\n       <use x=\"616.140625\" xlink:href=\"#DejaVuSans-61\"/>\r\n       <use x=\"677.419922\" xlink:href=\"#DejaVuSans-72\"/>\r\n       <use x=\"718.517578\" xlink:href=\"#DejaVuSans-67\"/>\r\n       <use x=\"781.994141\" xlink:href=\"#DejaVuSans-65\"/>\r\n      </g>\r\n     </g>\r\n    </g>\r\n    <g id=\"xtick_9\">\r\n     <g id=\"line2d_9\">\r\n      <g>\r\n       <use style=\"stroke:#000000;stroke-width:0.8;\" x=\"454.423438\" xlink:href=\"#mfa133f26d5\" y=\"337.159219\"/>\r\n      </g>\r\n     </g>\r\n     <g id=\"text_9\">\r\n      <!-- Total eve calls -->\r\n      <g transform=\"translate(457.182813 416.159219)rotate(-90)scale(0.1 -0.1)\">\r\n       <use xlink:href=\"#DejaVuSans-54\"/>\r\n       <use x=\"60.818359\" xlink:href=\"#DejaVuSans-6f\"/>\r\n       <use x=\"122\" xlink:href=\"#DejaVuSans-74\"/>\r\n       <use x=\"161.208984\" xlink:href=\"#DejaVuSans-61\"/>\r\n       <use x=\"222.488281\" xlink:href=\"#DejaVuSans-6c\"/>\r\n       <use x=\"250.271484\" xlink:href=\"#DejaVuSans-20\"/>\r\n       <use x=\"282.058594\" xlink:href=\"#DejaVuSans-65\"/>\r\n       <use x=\"343.582031\" xlink:href=\"#DejaVuSans-76\"/>\r\n       <use x=\"402.761719\" xlink:href=\"#DejaVuSans-65\"/>\r\n       <use x=\"464.285156\" xlink:href=\"#DejaVuSans-20\"/>\r\n       <use x=\"496.072266\" xlink:href=\"#DejaVuSans-63\"/>\r\n       <use x=\"551.052734\" xlink:href=\"#DejaVuSans-61\"/>\r\n       <use x=\"612.332031\" xlink:href=\"#DejaVuSans-6c\"/>\r\n       <use x=\"640.115234\" xlink:href=\"#DejaVuSans-6c\"/>\r\n       <use x=\"667.898438\" xlink:href=\"#DejaVuSans-73\"/>\r\n      </g>\r\n     </g>\r\n    </g>\r\n    <g id=\"xtick_10\">\r\n     <g id=\"line2d_10\">\r\n      <g>\r\n       <use style=\"stroke:#000000;stroke-width:0.8;\" x=\"491.623438\" xlink:href=\"#mfa133f26d5\" y=\"337.159219\"/>\r\n      </g>\r\n     </g>\r\n     <g id=\"text_10\">\r\n      <!-- Total eve charge -->\r\n      <g transform=\"translate(494.382812 428.342031)rotate(-90)scale(0.1 -0.1)\">\r\n       <use xlink:href=\"#DejaVuSans-54\"/>\r\n       <use x=\"60.818359\" xlink:href=\"#DejaVuSans-6f\"/>\r\n       <use x=\"122\" xlink:href=\"#DejaVuSans-74\"/>\r\n       <use x=\"161.208984\" xlink:href=\"#DejaVuSans-61\"/>\r\n       <use x=\"222.488281\" xlink:href=\"#DejaVuSans-6c\"/>\r\n       <use x=\"250.271484\" xlink:href=\"#DejaVuSans-20\"/>\r\n       <use x=\"282.058594\" xlink:href=\"#DejaVuSans-65\"/>\r\n       <use x=\"343.582031\" xlink:href=\"#DejaVuSans-76\"/>\r\n       <use x=\"402.761719\" xlink:href=\"#DejaVuSans-65\"/>\r\n       <use x=\"464.285156\" xlink:href=\"#DejaVuSans-20\"/>\r\n       <use x=\"496.072266\" xlink:href=\"#DejaVuSans-63\"/>\r\n       <use x=\"551.052734\" xlink:href=\"#DejaVuSans-68\"/>\r\n       <use x=\"614.431641\" xlink:href=\"#DejaVuSans-61\"/>\r\n       <use x=\"675.710938\" xlink:href=\"#DejaVuSans-72\"/>\r\n       <use x=\"716.808594\" xlink:href=\"#DejaVuSans-67\"/>\r\n       <use x=\"780.285156\" xlink:href=\"#DejaVuSans-65\"/>\r\n      </g>\r\n     </g>\r\n    </g>\r\n    <g id=\"xtick_11\">\r\n     <g id=\"line2d_11\">\r\n      <g>\r\n       <use style=\"stroke:#000000;stroke-width:0.8;\" x=\"528.823437\" xlink:href=\"#mfa133f26d5\" y=\"337.159219\"/>\r\n      </g>\r\n     </g>\r\n     <g id=\"text_11\">\r\n      <!-- Total night calls -->\r\n      <g transform=\"translate(531.582812 423.656094)rotate(-90)scale(0.1 -0.1)\">\r\n       <use xlink:href=\"#DejaVuSans-54\"/>\r\n       <use x=\"60.818359\" xlink:href=\"#DejaVuSans-6f\"/>\r\n       <use x=\"122\" xlink:href=\"#DejaVuSans-74\"/>\r\n       <use x=\"161.208984\" xlink:href=\"#DejaVuSans-61\"/>\r\n       <use x=\"222.488281\" xlink:href=\"#DejaVuSans-6c\"/>\r\n       <use x=\"250.271484\" xlink:href=\"#DejaVuSans-20\"/>\r\n       <use x=\"282.058594\" xlink:href=\"#DejaVuSans-6e\"/>\r\n       <use x=\"345.4375\" xlink:href=\"#DejaVuSans-69\"/>\r\n       <use x=\"373.220703\" xlink:href=\"#DejaVuSans-67\"/>\r\n       <use x=\"436.697266\" xlink:href=\"#DejaVuSans-68\"/>\r\n       <use x=\"500.076172\" xlink:href=\"#DejaVuSans-74\"/>\r\n       <use x=\"539.285156\" xlink:href=\"#DejaVuSans-20\"/>\r\n       <use x=\"571.072266\" xlink:href=\"#DejaVuSans-63\"/>\r\n       <use x=\"626.052734\" xlink:href=\"#DejaVuSans-61\"/>\r\n       <use x=\"687.332031\" xlink:href=\"#DejaVuSans-6c\"/>\r\n       <use x=\"715.115234\" xlink:href=\"#DejaVuSans-6c\"/>\r\n       <use x=\"742.898438\" xlink:href=\"#DejaVuSans-73\"/>\r\n      </g>\r\n     </g>\r\n    </g>\r\n    <g id=\"xtick_12\">\r\n     <g id=\"line2d_12\">\r\n      <g>\r\n       <use style=\"stroke:#000000;stroke-width:0.8;\" x=\"566.023438\" xlink:href=\"#mfa133f26d5\" y=\"337.159219\"/>\r\n      </g>\r\n     </g>\r\n     <g id=\"text_12\">\r\n      <!-- Total night charge -->\r\n      <g transform=\"translate(568.782812 435.838906)rotate(-90)scale(0.1 -0.1)\">\r\n       <use xlink:href=\"#DejaVuSans-54\"/>\r\n       <use x=\"60.818359\" xlink:href=\"#DejaVuSans-6f\"/>\r\n       <use x=\"122\" xlink:href=\"#DejaVuSans-74\"/>\r\n       <use x=\"161.208984\" xlink:href=\"#DejaVuSans-61\"/>\r\n       <use x=\"222.488281\" xlink:href=\"#DejaVuSans-6c\"/>\r\n       <use x=\"250.271484\" xlink:href=\"#DejaVuSans-20\"/>\r\n       <use x=\"282.058594\" xlink:href=\"#DejaVuSans-6e\"/>\r\n       <use x=\"345.4375\" xlink:href=\"#DejaVuSans-69\"/>\r\n       <use x=\"373.220703\" xlink:href=\"#DejaVuSans-67\"/>\r\n       <use x=\"436.697266\" xlink:href=\"#DejaVuSans-68\"/>\r\n       <use x=\"500.076172\" xlink:href=\"#DejaVuSans-74\"/>\r\n       <use x=\"539.285156\" xlink:href=\"#DejaVuSans-20\"/>\r\n       <use x=\"571.072266\" xlink:href=\"#DejaVuSans-63\"/>\r\n       <use x=\"626.052734\" xlink:href=\"#DejaVuSans-68\"/>\r\n       <use x=\"689.431641\" xlink:href=\"#DejaVuSans-61\"/>\r\n       <use x=\"750.710938\" xlink:href=\"#DejaVuSans-72\"/>\r\n       <use x=\"791.808594\" xlink:href=\"#DejaVuSans-67\"/>\r\n       <use x=\"855.285156\" xlink:href=\"#DejaVuSans-65\"/>\r\n      </g>\r\n     </g>\r\n    </g>\r\n    <g id=\"xtick_13\">\r\n     <g id=\"line2d_13\">\r\n      <g>\r\n       <use style=\"stroke:#000000;stroke-width:0.8;\" x=\"603.223438\" xlink:href=\"#mfa133f26d5\" y=\"337.159219\"/>\r\n      </g>\r\n     </g>\r\n     <g id=\"text_13\">\r\n      <!-- Total intl calls -->\r\n      <g transform=\"translate(605.982813 413.748281)rotate(-90)scale(0.1 -0.1)\">\r\n       <use xlink:href=\"#DejaVuSans-54\"/>\r\n       <use x=\"60.818359\" xlink:href=\"#DejaVuSans-6f\"/>\r\n       <use x=\"122\" xlink:href=\"#DejaVuSans-74\"/>\r\n       <use x=\"161.208984\" xlink:href=\"#DejaVuSans-61\"/>\r\n       <use x=\"222.488281\" xlink:href=\"#DejaVuSans-6c\"/>\r\n       <use x=\"250.271484\" xlink:href=\"#DejaVuSans-20\"/>\r\n       <use x=\"282.058594\" xlink:href=\"#DejaVuSans-69\"/>\r\n       <use x=\"309.841797\" xlink:href=\"#DejaVuSans-6e\"/>\r\n       <use x=\"373.220703\" xlink:href=\"#DejaVuSans-74\"/>\r\n       <use x=\"412.429688\" xlink:href=\"#DejaVuSans-6c\"/>\r\n       <use x=\"440.212891\" xlink:href=\"#DejaVuSans-20\"/>\r\n       <use x=\"472\" xlink:href=\"#DejaVuSans-63\"/>\r\n       <use x=\"526.980469\" xlink:href=\"#DejaVuSans-61\"/>\r\n       <use x=\"588.259766\" xlink:href=\"#DejaVuSans-6c\"/>\r\n       <use x=\"616.042969\" xlink:href=\"#DejaVuSans-6c\"/>\r\n       <use x=\"643.826172\" xlink:href=\"#DejaVuSans-73\"/>\r\n      </g>\r\n     </g>\r\n    </g>\r\n    <g id=\"xtick_14\">\r\n     <g id=\"line2d_14\">\r\n      <g>\r\n       <use style=\"stroke:#000000;stroke-width:0.8;\" x=\"640.423438\" xlink:href=\"#mfa133f26d5\" y=\"337.159219\"/>\r\n      </g>\r\n     </g>\r\n     <g id=\"text_14\">\r\n      <!-- Total intl charge -->\r\n      <g transform=\"translate(643.182813 425.931094)rotate(-90)scale(0.1 -0.1)\">\r\n       <use xlink:href=\"#DejaVuSans-54\"/>\r\n       <use x=\"60.818359\" xlink:href=\"#DejaVuSans-6f\"/>\r\n       <use x=\"122\" xlink:href=\"#DejaVuSans-74\"/>\r\n       <use x=\"161.208984\" xlink:href=\"#DejaVuSans-61\"/>\r\n       <use x=\"222.488281\" xlink:href=\"#DejaVuSans-6c\"/>\r\n       <use x=\"250.271484\" xlink:href=\"#DejaVuSans-20\"/>\r\n       <use x=\"282.058594\" xlink:href=\"#DejaVuSans-69\"/>\r\n       <use x=\"309.841797\" xlink:href=\"#DejaVuSans-6e\"/>\r\n       <use x=\"373.220703\" xlink:href=\"#DejaVuSans-74\"/>\r\n       <use x=\"412.429688\" xlink:href=\"#DejaVuSans-6c\"/>\r\n       <use x=\"440.212891\" xlink:href=\"#DejaVuSans-20\"/>\r\n       <use x=\"472\" xlink:href=\"#DejaVuSans-63\"/>\r\n       <use x=\"526.980469\" xlink:href=\"#DejaVuSans-68\"/>\r\n       <use x=\"590.359375\" xlink:href=\"#DejaVuSans-61\"/>\r\n       <use x=\"651.638672\" xlink:href=\"#DejaVuSans-72\"/>\r\n       <use x=\"692.736328\" xlink:href=\"#DejaVuSans-67\"/>\r\n       <use x=\"756.212891\" xlink:href=\"#DejaVuSans-65\"/>\r\n      </g>\r\n     </g>\r\n    </g>\r\n    <g id=\"xtick_15\">\r\n     <g id=\"line2d_15\">\r\n      <g>\r\n       <use style=\"stroke:#000000;stroke-width:0.8;\" x=\"677.623438\" xlink:href=\"#mfa133f26d5\" y=\"337.159219\"/>\r\n      </g>\r\n     </g>\r\n     <g id=\"text_15\">\r\n      <!-- Total charge -->\r\n      <g transform=\"translate(680.382813 406.938906)rotate(-90)scale(0.1 -0.1)\">\r\n       <use xlink:href=\"#DejaVuSans-54\"/>\r\n       <use x=\"60.818359\" xlink:href=\"#DejaVuSans-6f\"/>\r\n       <use x=\"122\" xlink:href=\"#DejaVuSans-74\"/>\r\n       <use x=\"161.208984\" xlink:href=\"#DejaVuSans-61\"/>\r\n       <use x=\"222.488281\" xlink:href=\"#DejaVuSans-6c\"/>\r\n       <use x=\"250.271484\" xlink:href=\"#DejaVuSans-20\"/>\r\n       <use x=\"282.058594\" xlink:href=\"#DejaVuSans-63\"/>\r\n       <use x=\"337.039062\" xlink:href=\"#DejaVuSans-68\"/>\r\n       <use x=\"400.417969\" xlink:href=\"#DejaVuSans-61\"/>\r\n       <use x=\"461.697266\" xlink:href=\"#DejaVuSans-72\"/>\r\n       <use x=\"502.794922\" xlink:href=\"#DejaVuSans-67\"/>\r\n       <use x=\"566.271484\" xlink:href=\"#DejaVuSans-65\"/>\r\n      </g>\r\n     </g>\r\n    </g>\r\n    <g id=\"xtick_16\">\r\n     <g id=\"line2d_16\">\r\n      <g>\r\n       <use style=\"stroke:#000000;stroke-width:0.8;\" x=\"714.823437\" xlink:href=\"#mfa133f26d5\" y=\"337.159219\"/>\r\n      </g>\r\n     </g>\r\n     <g id=\"text_16\">\r\n      <!-- Customer service calls -->\r\n      <defs>\r\n       <path d=\"M 64.40625 67.28125 \r\nL 64.40625 56.890625 \r\nQ 59.421875 61.53125 53.78125 63.8125 \r\nQ 48.140625 66.109375 41.796875 66.109375 \r\nQ 29.296875 66.109375 22.65625 58.46875 \r\nQ 16.015625 50.828125 16.015625 36.375 \r\nQ 16.015625 21.96875 22.65625 14.328125 \r\nQ 29.296875 6.6875 41.796875 6.6875 \r\nQ 48.140625 6.6875 53.78125 8.984375 \r\nQ 59.421875 11.28125 64.40625 15.921875 \r\nL 64.40625 5.609375 \r\nQ 59.234375 2.09375 53.4375 0.328125 \r\nQ 47.65625 -1.421875 41.21875 -1.421875 \r\nQ 24.65625 -1.421875 15.125 8.703125 \r\nQ 5.609375 18.84375 5.609375 36.375 \r\nQ 5.609375 53.953125 15.125 64.078125 \r\nQ 24.65625 74.21875 41.21875 74.21875 \r\nQ 47.75 74.21875 53.53125 72.484375 \r\nQ 59.328125 70.75 64.40625 67.28125 \r\nz\r\n\" id=\"DejaVuSans-43\"/>\r\n      </defs>\r\n      <g transform=\"translate(717.582812 457.302969)rotate(-90)scale(0.1 -0.1)\">\r\n       <use xlink:href=\"#DejaVuSans-43\"/>\r\n       <use x=\"69.824219\" xlink:href=\"#DejaVuSans-75\"/>\r\n       <use x=\"133.203125\" xlink:href=\"#DejaVuSans-73\"/>\r\n       <use x=\"185.302734\" xlink:href=\"#DejaVuSans-74\"/>\r\n       <use x=\"224.511719\" xlink:href=\"#DejaVuSans-6f\"/>\r\n       <use x=\"285.693359\" xlink:href=\"#DejaVuSans-6d\"/>\r\n       <use x=\"383.105469\" xlink:href=\"#DejaVuSans-65\"/>\r\n       <use x=\"444.628906\" xlink:href=\"#DejaVuSans-72\"/>\r\n       <use x=\"485.742188\" xlink:href=\"#DejaVuSans-20\"/>\r\n       <use x=\"517.529297\" xlink:href=\"#DejaVuSans-73\"/>\r\n       <use x=\"569.628906\" xlink:href=\"#DejaVuSans-65\"/>\r\n       <use x=\"631.152344\" xlink:href=\"#DejaVuSans-72\"/>\r\n       <use x=\"672.265625\" xlink:href=\"#DejaVuSans-76\"/>\r\n       <use x=\"731.445312\" xlink:href=\"#DejaVuSans-69\"/>\r\n       <use x=\"759.228516\" xlink:href=\"#DejaVuSans-63\"/>\r\n       <use x=\"814.208984\" xlink:href=\"#DejaVuSans-65\"/>\r\n       <use x=\"875.732422\" xlink:href=\"#DejaVuSans-20\"/>\r\n       <use x=\"907.519531\" xlink:href=\"#DejaVuSans-63\"/>\r\n       <use x=\"962.5\" xlink:href=\"#DejaVuSans-61\"/>\r\n       <use x=\"1023.779297\" xlink:href=\"#DejaVuSans-6c\"/>\r\n       <use x=\"1051.5625\" xlink:href=\"#DejaVuSans-6c\"/>\r\n       <use x=\"1079.345703\" xlink:href=\"#DejaVuSans-73\"/>\r\n      </g>\r\n     </g>\r\n    </g>\r\n    <g id=\"xtick_17\">\r\n     <g id=\"line2d_17\">\r\n      <g>\r\n       <use style=\"stroke:#000000;stroke-width:0.8;\" x=\"752.023438\" xlink:href=\"#mfa133f26d5\" y=\"337.159219\"/>\r\n      </g>\r\n     </g>\r\n     <g id=\"text_17\">\r\n      <!-- Churn -->\r\n      <g transform=\"translate(754.782812 374.263906)rotate(-90)scale(0.1 -0.1)\">\r\n       <use xlink:href=\"#DejaVuSans-43\"/>\r\n       <use x=\"69.824219\" xlink:href=\"#DejaVuSans-68\"/>\r\n       <use x=\"133.203125\" xlink:href=\"#DejaVuSans-75\"/>\r\n       <use x=\"196.582031\" xlink:href=\"#DejaVuSans-72\"/>\r\n       <use x=\"237.679688\" xlink:href=\"#DejaVuSans-6e\"/>\r\n      </g>\r\n     </g>\r\n    </g>\r\n    <g id=\"xtick_18\">\r\n     <g id=\"line2d_18\">\r\n      <g>\r\n       <use style=\"stroke:#000000;stroke-width:0.8;\" x=\"789.223438\" xlink:href=\"#mfa133f26d5\" y=\"337.159219\"/>\r\n      </g>\r\n     </g>\r\n     <g id=\"text_18\">\r\n      <!-- Area code -->\r\n      <g transform=\"translate(791.982813 394.685781)rotate(-90)scale(0.1 -0.1)\">\r\n       <use xlink:href=\"#DejaVuSans-41\"/>\r\n       <use x=\"68.408203\" xlink:href=\"#DejaVuSans-72\"/>\r\n       <use x=\"109.490234\" xlink:href=\"#DejaVuSans-65\"/>\r\n       <use x=\"171.013672\" xlink:href=\"#DejaVuSans-61\"/>\r\n       <use x=\"232.292969\" xlink:href=\"#DejaVuSans-20\"/>\r\n       <use x=\"264.080078\" xlink:href=\"#DejaVuSans-63\"/>\r\n       <use x=\"319.060547\" xlink:href=\"#DejaVuSans-6f\"/>\r\n       <use x=\"380.242188\" xlink:href=\"#DejaVuSans-64\"/>\r\n       <use x=\"443.71875\" xlink:href=\"#DejaVuSans-65\"/>\r\n      </g>\r\n     </g>\r\n    </g>\r\n   </g>\r\n   <g id=\"matplotlib.axis_2\">\r\n    <g id=\"ytick_1\">\r\n     <g id=\"line2d_19\">\r\n      <defs>\r\n       <path d=\"M 0 0 \r\nL -3.5 0 \r\n\" id=\"me239958f51\" style=\"stroke:#000000;stroke-width:0.8;\"/>\r\n      </defs>\r\n      <g>\r\n       <use style=\"stroke:#000000;stroke-width:0.8;\" x=\"138.223437\" xlink:href=\"#me239958f51\" y=\"20.059219\"/>\r\n      </g>\r\n     </g>\r\n     <g id=\"text_19\">\r\n      <!-- Sex -->\r\n      <g transform=\"translate(112.804687 23.858438)scale(0.1 -0.1)\">\r\n       <use xlink:href=\"#DejaVuSans-53\"/>\r\n       <use x=\"63.476562\" xlink:href=\"#DejaVuSans-65\"/>\r\n       <use x=\"124.984375\" xlink:href=\"#DejaVuSans-78\"/>\r\n      </g>\r\n     </g>\r\n    </g>\r\n    <g id=\"ytick_2\">\r\n     <g id=\"line2d_20\">\r\n      <g>\r\n       <use style=\"stroke:#000000;stroke-width:0.8;\" x=\"138.223437\" xlink:href=\"#me239958f51\" y=\"38.179219\"/>\r\n      </g>\r\n     </g>\r\n     <g id=\"text_20\">\r\n      <!-- Age -->\r\n      <g transform=\"translate(111.88125 41.978438)scale(0.1 -0.1)\">\r\n       <use xlink:href=\"#DejaVuSans-41\"/>\r\n       <use x=\"68.408203\" xlink:href=\"#DejaVuSans-67\"/>\r\n       <use x=\"131.884766\" xlink:href=\"#DejaVuSans-65\"/>\r\n      </g>\r\n     </g>\r\n    </g>\r\n    <g id=\"ytick_3\">\r\n     <g id=\"line2d_21\">\r\n      <g>\r\n       <use style=\"stroke:#000000;stroke-width:0.8;\" x=\"138.223437\" xlink:href=\"#me239958f51\" y=\"56.299219\"/>\r\n      </g>\r\n     </g>\r\n     <g id=\"text_21\">\r\n      <!-- State -->\r\n      <g transform=\"translate(104.753125 60.098438)scale(0.1 -0.1)\">\r\n       <use xlink:href=\"#DejaVuSans-53\"/>\r\n       <use x=\"63.476562\" xlink:href=\"#DejaVuSans-74\"/>\r\n       <use x=\"102.685547\" xlink:href=\"#DejaVuSans-61\"/>\r\n       <use x=\"163.964844\" xlink:href=\"#DejaVuSans-74\"/>\r\n       <use x=\"203.173828\" xlink:href=\"#DejaVuSans-65\"/>\r\n      </g>\r\n     </g>\r\n    </g>\r\n    <g id=\"ytick_4\">\r\n     <g id=\"line2d_22\">\r\n      <g>\r\n       <use style=\"stroke:#000000;stroke-width:0.8;\" x=\"138.223437\" xlink:href=\"#me239958f51\" y=\"74.419219\"/>\r\n      </g>\r\n     </g>\r\n     <g id=\"text_22\">\r\n      <!-- Account length -->\r\n      <g transform=\"translate(55.620312 78.218438)scale(0.1 -0.1)\">\r\n       <use xlink:href=\"#DejaVuSans-41\"/>\r\n       <use x=\"68.392578\" xlink:href=\"#DejaVuSans-63\"/>\r\n       <use x=\"123.373047\" xlink:href=\"#DejaVuSans-63\"/>\r\n       <use x=\"178.353516\" xlink:href=\"#DejaVuSans-6f\"/>\r\n       <use x=\"239.535156\" xlink:href=\"#DejaVuSans-75\"/>\r\n       <use x=\"302.914062\" xlink:href=\"#DejaVuSans-6e\"/>\r\n       <use x=\"366.292969\" xlink:href=\"#DejaVuSans-74\"/>\r\n       <use x=\"405.501953\" xlink:href=\"#DejaVuSans-20\"/>\r\n       <use x=\"437.289062\" xlink:href=\"#DejaVuSans-6c\"/>\r\n       <use x=\"465.072266\" xlink:href=\"#DejaVuSans-65\"/>\r\n       <use x=\"526.595703\" xlink:href=\"#DejaVuSans-6e\"/>\r\n       <use x=\"589.974609\" xlink:href=\"#DejaVuSans-67\"/>\r\n       <use x=\"653.451172\" xlink:href=\"#DejaVuSans-74\"/>\r\n       <use x=\"692.660156\" xlink:href=\"#DejaVuSans-68\"/>\r\n      </g>\r\n     </g>\r\n    </g>\r\n    <g id=\"ytick_5\">\r\n     <g id=\"line2d_23\">\r\n      <g>\r\n       <use style=\"stroke:#000000;stroke-width:0.8;\" x=\"138.223437\" xlink:href=\"#me239958f51\" y=\"92.539219\"/>\r\n      </g>\r\n     </g>\r\n     <g id=\"text_23\">\r\n      <!-- Plans -->\r\n      <g transform=\"translate(104.740625 96.338438)scale(0.1 -0.1)\">\r\n       <use xlink:href=\"#DejaVuSans-50\"/>\r\n       <use x=\"60.302734\" xlink:href=\"#DejaVuSans-6c\"/>\r\n       <use x=\"88.085938\" xlink:href=\"#DejaVuSans-61\"/>\r\n       <use x=\"149.365234\" xlink:href=\"#DejaVuSans-6e\"/>\r\n       <use x=\"212.744141\" xlink:href=\"#DejaVuSans-73\"/>\r\n      </g>\r\n     </g>\r\n    </g>\r\n    <g id=\"ytick_6\">\r\n     <g id=\"line2d_24\">\r\n      <g>\r\n       <use style=\"stroke:#000000;stroke-width:0.8;\" x=\"138.223437\" xlink:href=\"#me239958f51\" y=\"110.659219\"/>\r\n      </g>\r\n     </g>\r\n     <g id=\"text_24\">\r\n      <!-- Number vmail messages -->\r\n      <g transform=\"translate(7.2 114.458438)scale(0.1 -0.1)\">\r\n       <use xlink:href=\"#DejaVuSans-4e\"/>\r\n       <use x=\"74.804688\" xlink:href=\"#DejaVuSans-75\"/>\r\n       <use x=\"138.183594\" xlink:href=\"#DejaVuSans-6d\"/>\r\n       <use x=\"235.595703\" xlink:href=\"#DejaVuSans-62\"/>\r\n       <use x=\"299.072266\" xlink:href=\"#DejaVuSans-65\"/>\r\n       <use x=\"360.595703\" xlink:href=\"#DejaVuSans-72\"/>\r\n       <use x=\"401.708984\" xlink:href=\"#DejaVuSans-20\"/>\r\n       <use x=\"433.496094\" xlink:href=\"#DejaVuSans-76\"/>\r\n       <use x=\"492.675781\" xlink:href=\"#DejaVuSans-6d\"/>\r\n       <use x=\"590.087891\" xlink:href=\"#DejaVuSans-61\"/>\r\n       <use x=\"651.367188\" xlink:href=\"#DejaVuSans-69\"/>\r\n       <use x=\"679.150391\" xlink:href=\"#DejaVuSans-6c\"/>\r\n       <use x=\"706.933594\" xlink:href=\"#DejaVuSans-20\"/>\r\n       <use x=\"738.720703\" xlink:href=\"#DejaVuSans-6d\"/>\r\n       <use x=\"836.132812\" xlink:href=\"#DejaVuSans-65\"/>\r\n       <use x=\"897.65625\" xlink:href=\"#DejaVuSans-73\"/>\r\n       <use x=\"949.755859\" xlink:href=\"#DejaVuSans-73\"/>\r\n       <use x=\"1001.855469\" xlink:href=\"#DejaVuSans-61\"/>\r\n       <use x=\"1063.134766\" xlink:href=\"#DejaVuSans-67\"/>\r\n       <use x=\"1126.611328\" xlink:href=\"#DejaVuSans-65\"/>\r\n       <use x=\"1188.134766\" xlink:href=\"#DejaVuSans-73\"/>\r\n      </g>\r\n     </g>\r\n    </g>\r\n    <g id=\"ytick_7\">\r\n     <g id=\"line2d_25\">\r\n      <g>\r\n       <use style=\"stroke:#000000;stroke-width:0.8;\" x=\"138.223437\" xlink:href=\"#me239958f51\" y=\"128.779219\"/>\r\n      </g>\r\n     </g>\r\n     <g id=\"text_25\">\r\n      <!-- Total day calls -->\r\n      <g transform=\"translate(59.053125 132.578438)scale(0.1 -0.1)\">\r\n       <use xlink:href=\"#DejaVuSans-54\"/>\r\n       <use x=\"60.818359\" xlink:href=\"#DejaVuSans-6f\"/>\r\n       <use x=\"122\" xlink:href=\"#DejaVuSans-74\"/>\r\n       <use x=\"161.208984\" xlink:href=\"#DejaVuSans-61\"/>\r\n       <use x=\"222.488281\" xlink:href=\"#DejaVuSans-6c\"/>\r\n       <use x=\"250.271484\" xlink:href=\"#DejaVuSans-20\"/>\r\n       <use x=\"282.058594\" xlink:href=\"#DejaVuSans-64\"/>\r\n       <use x=\"345.535156\" xlink:href=\"#DejaVuSans-61\"/>\r\n       <use x=\"406.814453\" xlink:href=\"#DejaVuSans-79\"/>\r\n       <use x=\"465.994141\" xlink:href=\"#DejaVuSans-20\"/>\r\n       <use x=\"497.78125\" xlink:href=\"#DejaVuSans-63\"/>\r\n       <use x=\"552.761719\" xlink:href=\"#DejaVuSans-61\"/>\r\n       <use x=\"614.041016\" xlink:href=\"#DejaVuSans-6c\"/>\r\n       <use x=\"641.824219\" xlink:href=\"#DejaVuSans-6c\"/>\r\n       <use x=\"669.607422\" xlink:href=\"#DejaVuSans-73\"/>\r\n      </g>\r\n     </g>\r\n    </g>\r\n    <g id=\"ytick_8\">\r\n     <g id=\"line2d_26\">\r\n      <g>\r\n       <use style=\"stroke:#000000;stroke-width:0.8;\" x=\"138.223437\" xlink:href=\"#me239958f51\" y=\"146.899219\"/>\r\n      </g>\r\n     </g>\r\n     <g id=\"text_26\">\r\n      <!-- Total day charge -->\r\n      <g transform=\"translate(46.870312 150.698438)scale(0.1 -0.1)\">\r\n       <use xlink:href=\"#DejaVuSans-54\"/>\r\n       <use x=\"60.818359\" xlink:href=\"#DejaVuSans-6f\"/>\r\n       <use x=\"122\" xlink:href=\"#DejaVuSans-74\"/>\r\n       <use x=\"161.208984\" xlink:href=\"#DejaVuSans-61\"/>\r\n       <use x=\"222.488281\" xlink:href=\"#DejaVuSans-6c\"/>\r\n       <use x=\"250.271484\" xlink:href=\"#DejaVuSans-20\"/>\r\n       <use x=\"282.058594\" xlink:href=\"#DejaVuSans-64\"/>\r\n       <use x=\"345.535156\" xlink:href=\"#DejaVuSans-61\"/>\r\n       <use x=\"406.814453\" xlink:href=\"#DejaVuSans-79\"/>\r\n       <use x=\"465.994141\" xlink:href=\"#DejaVuSans-20\"/>\r\n       <use x=\"497.78125\" xlink:href=\"#DejaVuSans-63\"/>\r\n       <use x=\"552.761719\" xlink:href=\"#DejaVuSans-68\"/>\r\n       <use x=\"616.140625\" xlink:href=\"#DejaVuSans-61\"/>\r\n       <use x=\"677.419922\" xlink:href=\"#DejaVuSans-72\"/>\r\n       <use x=\"718.517578\" xlink:href=\"#DejaVuSans-67\"/>\r\n       <use x=\"781.994141\" xlink:href=\"#DejaVuSans-65\"/>\r\n      </g>\r\n     </g>\r\n    </g>\r\n    <g id=\"ytick_9\">\r\n     <g id=\"line2d_27\">\r\n      <g>\r\n       <use style=\"stroke:#000000;stroke-width:0.8;\" x=\"138.223437\" xlink:href=\"#me239958f51\" y=\"165.019219\"/>\r\n      </g>\r\n     </g>\r\n     <g id=\"text_27\">\r\n      <!-- Total eve calls -->\r\n      <g transform=\"translate(59.223437 168.818438)scale(0.1 -0.1)\">\r\n       <use xlink:href=\"#DejaVuSans-54\"/>\r\n       <use x=\"60.818359\" xlink:href=\"#DejaVuSans-6f\"/>\r\n       <use x=\"122\" xlink:href=\"#DejaVuSans-74\"/>\r\n       <use x=\"161.208984\" xlink:href=\"#DejaVuSans-61\"/>\r\n       <use x=\"222.488281\" xlink:href=\"#DejaVuSans-6c\"/>\r\n       <use x=\"250.271484\" xlink:href=\"#DejaVuSans-20\"/>\r\n       <use x=\"282.058594\" xlink:href=\"#DejaVuSans-65\"/>\r\n       <use x=\"343.582031\" xlink:href=\"#DejaVuSans-76\"/>\r\n       <use x=\"402.761719\" xlink:href=\"#DejaVuSans-65\"/>\r\n       <use x=\"464.285156\" xlink:href=\"#DejaVuSans-20\"/>\r\n       <use x=\"496.072266\" xlink:href=\"#DejaVuSans-63\"/>\r\n       <use x=\"551.052734\" xlink:href=\"#DejaVuSans-61\"/>\r\n       <use x=\"612.332031\" xlink:href=\"#DejaVuSans-6c\"/>\r\n       <use x=\"640.115234\" xlink:href=\"#DejaVuSans-6c\"/>\r\n       <use x=\"667.898438\" xlink:href=\"#DejaVuSans-73\"/>\r\n      </g>\r\n     </g>\r\n    </g>\r\n    <g id=\"ytick_10\">\r\n     <g id=\"line2d_28\">\r\n      <g>\r\n       <use style=\"stroke:#000000;stroke-width:0.8;\" x=\"138.223437\" xlink:href=\"#me239958f51\" y=\"183.139219\"/>\r\n      </g>\r\n     </g>\r\n     <g id=\"text_28\">\r\n      <!-- Total eve charge -->\r\n      <g transform=\"translate(47.040625 186.938438)scale(0.1 -0.1)\">\r\n       <use xlink:href=\"#DejaVuSans-54\"/>\r\n       <use x=\"60.818359\" xlink:href=\"#DejaVuSans-6f\"/>\r\n       <use x=\"122\" xlink:href=\"#DejaVuSans-74\"/>\r\n       <use x=\"161.208984\" xlink:href=\"#DejaVuSans-61\"/>\r\n       <use x=\"222.488281\" xlink:href=\"#DejaVuSans-6c\"/>\r\n       <use x=\"250.271484\" xlink:href=\"#DejaVuSans-20\"/>\r\n       <use x=\"282.058594\" xlink:href=\"#DejaVuSans-65\"/>\r\n       <use x=\"343.582031\" xlink:href=\"#DejaVuSans-76\"/>\r\n       <use x=\"402.761719\" xlink:href=\"#DejaVuSans-65\"/>\r\n       <use x=\"464.285156\" xlink:href=\"#DejaVuSans-20\"/>\r\n       <use x=\"496.072266\" xlink:href=\"#DejaVuSans-63\"/>\r\n       <use x=\"551.052734\" xlink:href=\"#DejaVuSans-68\"/>\r\n       <use x=\"614.431641\" xlink:href=\"#DejaVuSans-61\"/>\r\n       <use x=\"675.710938\" xlink:href=\"#DejaVuSans-72\"/>\r\n       <use x=\"716.808594\" xlink:href=\"#DejaVuSans-67\"/>\r\n       <use x=\"780.285156\" xlink:href=\"#DejaVuSans-65\"/>\r\n      </g>\r\n     </g>\r\n    </g>\r\n    <g id=\"ytick_11\">\r\n     <g id=\"line2d_29\">\r\n      <g>\r\n       <use style=\"stroke:#000000;stroke-width:0.8;\" x=\"138.223437\" xlink:href=\"#me239958f51\" y=\"201.259219\"/>\r\n      </g>\r\n     </g>\r\n     <g id=\"text_29\">\r\n      <!-- Total night calls -->\r\n      <g transform=\"translate(51.726562 205.058438)scale(0.1 -0.1)\">\r\n       <use xlink:href=\"#DejaVuSans-54\"/>\r\n       <use x=\"60.818359\" xlink:href=\"#DejaVuSans-6f\"/>\r\n       <use x=\"122\" xlink:href=\"#DejaVuSans-74\"/>\r\n       <use x=\"161.208984\" xlink:href=\"#DejaVuSans-61\"/>\r\n       <use x=\"222.488281\" xlink:href=\"#DejaVuSans-6c\"/>\r\n       <use x=\"250.271484\" xlink:href=\"#DejaVuSans-20\"/>\r\n       <use x=\"282.058594\" xlink:href=\"#DejaVuSans-6e\"/>\r\n       <use x=\"345.4375\" xlink:href=\"#DejaVuSans-69\"/>\r\n       <use x=\"373.220703\" xlink:href=\"#DejaVuSans-67\"/>\r\n       <use x=\"436.697266\" xlink:href=\"#DejaVuSans-68\"/>\r\n       <use x=\"500.076172\" xlink:href=\"#DejaVuSans-74\"/>\r\n       <use x=\"539.285156\" xlink:href=\"#DejaVuSans-20\"/>\r\n       <use x=\"571.072266\" xlink:href=\"#DejaVuSans-63\"/>\r\n       <use x=\"626.052734\" xlink:href=\"#DejaVuSans-61\"/>\r\n       <use x=\"687.332031\" xlink:href=\"#DejaVuSans-6c\"/>\r\n       <use x=\"715.115234\" xlink:href=\"#DejaVuSans-6c\"/>\r\n       <use x=\"742.898438\" xlink:href=\"#DejaVuSans-73\"/>\r\n      </g>\r\n     </g>\r\n    </g>\r\n    <g id=\"ytick_12\">\r\n     <g id=\"line2d_30\">\r\n      <g>\r\n       <use style=\"stroke:#000000;stroke-width:0.8;\" x=\"138.223437\" xlink:href=\"#me239958f51\" y=\"219.379219\"/>\r\n      </g>\r\n     </g>\r\n     <g id=\"text_30\">\r\n      <!-- Total night charge -->\r\n      <g transform=\"translate(39.54375 223.178438)scale(0.1 -0.1)\">\r\n       <use xlink:href=\"#DejaVuSans-54\"/>\r\n       <use x=\"60.818359\" xlink:href=\"#DejaVuSans-6f\"/>\r\n       <use x=\"122\" xlink:href=\"#DejaVuSans-74\"/>\r\n       <use x=\"161.208984\" xlink:href=\"#DejaVuSans-61\"/>\r\n       <use x=\"222.488281\" xlink:href=\"#DejaVuSans-6c\"/>\r\n       <use x=\"250.271484\" xlink:href=\"#DejaVuSans-20\"/>\r\n       <use x=\"282.058594\" xlink:href=\"#DejaVuSans-6e\"/>\r\n       <use x=\"345.4375\" xlink:href=\"#DejaVuSans-69\"/>\r\n       <use x=\"373.220703\" xlink:href=\"#DejaVuSans-67\"/>\r\n       <use x=\"436.697266\" xlink:href=\"#DejaVuSans-68\"/>\r\n       <use x=\"500.076172\" xlink:href=\"#DejaVuSans-74\"/>\r\n       <use x=\"539.285156\" xlink:href=\"#DejaVuSans-20\"/>\r\n       <use x=\"571.072266\" xlink:href=\"#DejaVuSans-63\"/>\r\n       <use x=\"626.052734\" xlink:href=\"#DejaVuSans-68\"/>\r\n       <use x=\"689.431641\" xlink:href=\"#DejaVuSans-61\"/>\r\n       <use x=\"750.710938\" xlink:href=\"#DejaVuSans-72\"/>\r\n       <use x=\"791.808594\" xlink:href=\"#DejaVuSans-67\"/>\r\n       <use x=\"855.285156\" xlink:href=\"#DejaVuSans-65\"/>\r\n      </g>\r\n     </g>\r\n    </g>\r\n    <g id=\"ytick_13\">\r\n     <g id=\"line2d_31\">\r\n      <g>\r\n       <use style=\"stroke:#000000;stroke-width:0.8;\" x=\"138.223437\" xlink:href=\"#me239958f51\" y=\"237.499219\"/>\r\n      </g>\r\n     </g>\r\n     <g id=\"text_31\">\r\n      <!-- Total intl calls -->\r\n      <g transform=\"translate(61.634375 241.298438)scale(0.1 -0.1)\">\r\n       <use xlink:href=\"#DejaVuSans-54\"/>\r\n       <use x=\"60.818359\" xlink:href=\"#DejaVuSans-6f\"/>\r\n       <use x=\"122\" xlink:href=\"#DejaVuSans-74\"/>\r\n       <use x=\"161.208984\" xlink:href=\"#DejaVuSans-61\"/>\r\n       <use x=\"222.488281\" xlink:href=\"#DejaVuSans-6c\"/>\r\n       <use x=\"250.271484\" xlink:href=\"#DejaVuSans-20\"/>\r\n       <use x=\"282.058594\" xlink:href=\"#DejaVuSans-69\"/>\r\n       <use x=\"309.841797\" xlink:href=\"#DejaVuSans-6e\"/>\r\n       <use x=\"373.220703\" xlink:href=\"#DejaVuSans-74\"/>\r\n       <use x=\"412.429688\" xlink:href=\"#DejaVuSans-6c\"/>\r\n       <use x=\"440.212891\" xlink:href=\"#DejaVuSans-20\"/>\r\n       <use x=\"472\" xlink:href=\"#DejaVuSans-63\"/>\r\n       <use x=\"526.980469\" xlink:href=\"#DejaVuSans-61\"/>\r\n       <use x=\"588.259766\" xlink:href=\"#DejaVuSans-6c\"/>\r\n       <use x=\"616.042969\" xlink:href=\"#DejaVuSans-6c\"/>\r\n       <use x=\"643.826172\" xlink:href=\"#DejaVuSans-73\"/>\r\n      </g>\r\n     </g>\r\n    </g>\r\n    <g id=\"ytick_14\">\r\n     <g id=\"line2d_32\">\r\n      <g>\r\n       <use style=\"stroke:#000000;stroke-width:0.8;\" x=\"138.223437\" xlink:href=\"#me239958f51\" y=\"255.619219\"/>\r\n      </g>\r\n     </g>\r\n     <g id=\"text_32\">\r\n      <!-- Total intl charge -->\r\n      <g transform=\"translate(49.451562 259.418438)scale(0.1 -0.1)\">\r\n       <use xlink:href=\"#DejaVuSans-54\"/>\r\n       <use x=\"60.818359\" xlink:href=\"#DejaVuSans-6f\"/>\r\n       <use x=\"122\" xlink:href=\"#DejaVuSans-74\"/>\r\n       <use x=\"161.208984\" xlink:href=\"#DejaVuSans-61\"/>\r\n       <use x=\"222.488281\" xlink:href=\"#DejaVuSans-6c\"/>\r\n       <use x=\"250.271484\" xlink:href=\"#DejaVuSans-20\"/>\r\n       <use x=\"282.058594\" xlink:href=\"#DejaVuSans-69\"/>\r\n       <use x=\"309.841797\" xlink:href=\"#DejaVuSans-6e\"/>\r\n       <use x=\"373.220703\" xlink:href=\"#DejaVuSans-74\"/>\r\n       <use x=\"412.429688\" xlink:href=\"#DejaVuSans-6c\"/>\r\n       <use x=\"440.212891\" xlink:href=\"#DejaVuSans-20\"/>\r\n       <use x=\"472\" xlink:href=\"#DejaVuSans-63\"/>\r\n       <use x=\"526.980469\" xlink:href=\"#DejaVuSans-68\"/>\r\n       <use x=\"590.359375\" xlink:href=\"#DejaVuSans-61\"/>\r\n       <use x=\"651.638672\" xlink:href=\"#DejaVuSans-72\"/>\r\n       <use x=\"692.736328\" xlink:href=\"#DejaVuSans-67\"/>\r\n       <use x=\"756.212891\" xlink:href=\"#DejaVuSans-65\"/>\r\n      </g>\r\n     </g>\r\n    </g>\r\n    <g id=\"ytick_15\">\r\n     <g id=\"line2d_33\">\r\n      <g>\r\n       <use style=\"stroke:#000000;stroke-width:0.8;\" x=\"138.223437\" xlink:href=\"#me239958f51\" y=\"273.739219\"/>\r\n      </g>\r\n     </g>\r\n     <g id=\"text_33\">\r\n      <!-- Total charge -->\r\n      <g transform=\"translate(68.44375 277.538437)scale(0.1 -0.1)\">\r\n       <use xlink:href=\"#DejaVuSans-54\"/>\r\n       <use x=\"60.818359\" xlink:href=\"#DejaVuSans-6f\"/>\r\n       <use x=\"122\" xlink:href=\"#DejaVuSans-74\"/>\r\n       <use x=\"161.208984\" xlink:href=\"#DejaVuSans-61\"/>\r\n       <use x=\"222.488281\" xlink:href=\"#DejaVuSans-6c\"/>\r\n       <use x=\"250.271484\" xlink:href=\"#DejaVuSans-20\"/>\r\n       <use x=\"282.058594\" xlink:href=\"#DejaVuSans-63\"/>\r\n       <use x=\"337.039062\" xlink:href=\"#DejaVuSans-68\"/>\r\n       <use x=\"400.417969\" xlink:href=\"#DejaVuSans-61\"/>\r\n       <use x=\"461.697266\" xlink:href=\"#DejaVuSans-72\"/>\r\n       <use x=\"502.794922\" xlink:href=\"#DejaVuSans-67\"/>\r\n       <use x=\"566.271484\" xlink:href=\"#DejaVuSans-65\"/>\r\n      </g>\r\n     </g>\r\n    </g>\r\n    <g id=\"ytick_16\">\r\n     <g id=\"line2d_34\">\r\n      <g>\r\n       <use style=\"stroke:#000000;stroke-width:0.8;\" x=\"138.223437\" xlink:href=\"#me239958f51\" y=\"291.859219\"/>\r\n      </g>\r\n     </g>\r\n     <g id=\"text_34\">\r\n      <!-- Customer service calls -->\r\n      <g transform=\"translate(18.079687 295.658437)scale(0.1 -0.1)\">\r\n       <use xlink:href=\"#DejaVuSans-43\"/>\r\n       <use x=\"69.824219\" xlink:href=\"#DejaVuSans-75\"/>\r\n       <use x=\"133.203125\" xlink:href=\"#DejaVuSans-73\"/>\r\n       <use x=\"185.302734\" xlink:href=\"#DejaVuSans-74\"/>\r\n       <use x=\"224.511719\" xlink:href=\"#DejaVuSans-6f\"/>\r\n       <use x=\"285.693359\" xlink:href=\"#DejaVuSans-6d\"/>\r\n       <use x=\"383.105469\" xlink:href=\"#DejaVuSans-65\"/>\r\n       <use x=\"444.628906\" xlink:href=\"#DejaVuSans-72\"/>\r\n       <use x=\"485.742188\" xlink:href=\"#DejaVuSans-20\"/>\r\n       <use x=\"517.529297\" xlink:href=\"#DejaVuSans-73\"/>\r\n       <use x=\"569.628906\" xlink:href=\"#DejaVuSans-65\"/>\r\n       <use x=\"631.152344\" xlink:href=\"#DejaVuSans-72\"/>\r\n       <use x=\"672.265625\" xlink:href=\"#DejaVuSans-76\"/>\r\n       <use x=\"731.445312\" xlink:href=\"#DejaVuSans-69\"/>\r\n       <use x=\"759.228516\" xlink:href=\"#DejaVuSans-63\"/>\r\n       <use x=\"814.208984\" xlink:href=\"#DejaVuSans-65\"/>\r\n       <use x=\"875.732422\" xlink:href=\"#DejaVuSans-20\"/>\r\n       <use x=\"907.519531\" xlink:href=\"#DejaVuSans-63\"/>\r\n       <use x=\"962.5\" xlink:href=\"#DejaVuSans-61\"/>\r\n       <use x=\"1023.779297\" xlink:href=\"#DejaVuSans-6c\"/>\r\n       <use x=\"1051.5625\" xlink:href=\"#DejaVuSans-6c\"/>\r\n       <use x=\"1079.345703\" xlink:href=\"#DejaVuSans-73\"/>\r\n      </g>\r\n     </g>\r\n    </g>\r\n    <g id=\"ytick_17\">\r\n     <g id=\"line2d_35\">\r\n      <g>\r\n       <use style=\"stroke:#000000;stroke-width:0.8;\" x=\"138.223437\" xlink:href=\"#me239958f51\" y=\"309.979219\"/>\r\n      </g>\r\n     </g>\r\n     <g id=\"text_35\">\r\n      <!-- Churn -->\r\n      <g transform=\"translate(101.11875 313.778437)scale(0.1 -0.1)\">\r\n       <use xlink:href=\"#DejaVuSans-43\"/>\r\n       <use x=\"69.824219\" xlink:href=\"#DejaVuSans-68\"/>\r\n       <use x=\"133.203125\" xlink:href=\"#DejaVuSans-75\"/>\r\n       <use x=\"196.582031\" xlink:href=\"#DejaVuSans-72\"/>\r\n       <use x=\"237.679688\" xlink:href=\"#DejaVuSans-6e\"/>\r\n      </g>\r\n     </g>\r\n    </g>\r\n    <g id=\"ytick_18\">\r\n     <g id=\"line2d_36\">\r\n      <g>\r\n       <use style=\"stroke:#000000;stroke-width:0.8;\" x=\"138.223437\" xlink:href=\"#me239958f51\" y=\"328.099219\"/>\r\n      </g>\r\n     </g>\r\n     <g id=\"text_36\">\r\n      <!-- Area code -->\r\n      <g transform=\"translate(80.696875 331.898438)scale(0.1 -0.1)\">\r\n       <use xlink:href=\"#DejaVuSans-41\"/>\r\n       <use x=\"68.408203\" xlink:href=\"#DejaVuSans-72\"/>\r\n       <use x=\"109.490234\" xlink:href=\"#DejaVuSans-65\"/>\r\n       <use x=\"171.013672\" xlink:href=\"#DejaVuSans-61\"/>\r\n       <use x=\"232.292969\" xlink:href=\"#DejaVuSans-20\"/>\r\n       <use x=\"264.080078\" xlink:href=\"#DejaVuSans-63\"/>\r\n       <use x=\"319.060547\" xlink:href=\"#DejaVuSans-6f\"/>\r\n       <use x=\"380.242188\" xlink:href=\"#DejaVuSans-64\"/>\r\n       <use x=\"443.71875\" xlink:href=\"#DejaVuSans-65\"/>\r\n      </g>\r\n     </g>\r\n    </g>\r\n   </g>\r\n   <g id=\"text_37\">\r\n    <!-- 1.00 -->\r\n    <defs>\r\n     <path d=\"M 12.40625 8.296875 \r\nL 28.515625 8.296875 \r\nL 28.515625 63.921875 \r\nL 10.984375 60.40625 \r\nL 10.984375 69.390625 \r\nL 28.421875 72.90625 \r\nL 38.28125 72.90625 \r\nL 38.28125 8.296875 \r\nL 54.390625 8.296875 \r\nL 54.390625 0 \r\nL 12.40625 0 \r\nz\r\n\" id=\"DejaVuSans-31\"/>\r\n     <path d=\"M 10.6875 12.40625 \r\nL 21 12.40625 \r\nL 21 0 \r\nL 10.6875 0 \r\nz\r\n\" id=\"DejaVuSans-2e\"/>\r\n     <path d=\"M 31.78125 66.40625 \r\nQ 24.171875 66.40625 20.328125 58.90625 \r\nQ 16.5 51.421875 16.5 36.375 \r\nQ 16.5 21.390625 20.328125 13.890625 \r\nQ 24.171875 6.390625 31.78125 6.390625 \r\nQ 39.453125 6.390625 43.28125 13.890625 \r\nQ 47.125 21.390625 47.125 36.375 \r\nQ 47.125 51.421875 43.28125 58.90625 \r\nQ 39.453125 66.40625 31.78125 66.40625 \r\nz\r\nM 31.78125 74.21875 \r\nQ 44.046875 74.21875 50.515625 64.515625 \r\nQ 56.984375 54.828125 56.984375 36.375 \r\nQ 56.984375 17.96875 50.515625 8.265625 \r\nQ 44.046875 -1.421875 31.78125 -1.421875 \r\nQ 19.53125 -1.421875 13.0625 8.265625 \r\nQ 6.59375 17.96875 6.59375 36.375 \r\nQ 6.59375 54.828125 13.0625 64.515625 \r\nQ 19.53125 74.21875 31.78125 74.21875 \r\nz\r\n\" id=\"DejaVuSans-30\"/>\r\n    </defs>\r\n    <g style=\"fill:#262626;\" transform=\"translate(145.690625 22.818594)scale(0.1 -0.1)\">\r\n     <use xlink:href=\"#DejaVuSans-31\"/>\r\n     <use x=\"63.623047\" xlink:href=\"#DejaVuSans-2e\"/>\r\n     <use x=\"95.410156\" xlink:href=\"#DejaVuSans-30\"/>\r\n     <use x=\"159.033203\" xlink:href=\"#DejaVuSans-30\"/>\r\n    </g>\r\n   </g>\r\n   <g id=\"text_38\">\r\n    <!-- 0.01 -->\r\n    <g style=\"fill:#ffffff;\" transform=\"translate(182.890625 22.818594)scale(0.1 -0.1)\">\r\n     <use xlink:href=\"#DejaVuSans-30\"/>\r\n     <use x=\"63.623047\" xlink:href=\"#DejaVuSans-2e\"/>\r\n     <use x=\"95.410156\" xlink:href=\"#DejaVuSans-30\"/>\r\n     <use x=\"159.033203\" xlink:href=\"#DejaVuSans-31\"/>\r\n    </g>\r\n   </g>\r\n   <g id=\"text_39\">\r\n    <!-- -0.02 -->\r\n    <defs>\r\n     <path d=\"M 4.890625 31.390625 \r\nL 31.203125 31.390625 \r\nL 31.203125 23.390625 \r\nL 4.890625 23.390625 \r\nz\r\n\" id=\"DejaVuSans-2d\"/>\r\n     <path d=\"M 19.1875 8.296875 \r\nL 53.609375 8.296875 \r\nL 53.609375 0 \r\nL 7.328125 0 \r\nL 7.328125 8.296875 \r\nQ 12.9375 14.109375 22.625 23.890625 \r\nQ 32.328125 33.6875 34.8125 36.53125 \r\nQ 39.546875 41.84375 41.421875 45.53125 \r\nQ 43.3125 49.21875 43.3125 52.78125 \r\nQ 43.3125 58.59375 39.234375 62.25 \r\nQ 35.15625 65.921875 28.609375 65.921875 \r\nQ 23.96875 65.921875 18.8125 64.3125 \r\nQ 13.671875 62.703125 7.8125 59.421875 \r\nL 7.8125 69.390625 \r\nQ 13.765625 71.78125 18.9375 73 \r\nQ 24.125 74.21875 28.421875 74.21875 \r\nQ 39.75 74.21875 46.484375 68.546875 \r\nQ 53.21875 62.890625 53.21875 53.421875 \r\nQ 53.21875 48.921875 51.53125 44.890625 \r\nQ 49.859375 40.875 45.40625 35.40625 \r\nQ 44.1875 33.984375 37.640625 27.21875 \r\nQ 31.109375 20.453125 19.1875 8.296875 \r\nz\r\n\" id=\"DejaVuSans-32\"/>\r\n    </defs>\r\n    <g style=\"fill:#ffffff;\" transform=\"translate(218.286719 22.818594)scale(0.1 -0.1)\">\r\n     <use xlink:href=\"#DejaVuSans-2d\"/>\r\n     <use x=\"36.083984\" xlink:href=\"#DejaVuSans-30\"/>\r\n     <use x=\"99.707031\" xlink:href=\"#DejaVuSans-2e\"/>\r\n     <use x=\"131.494141\" xlink:href=\"#DejaVuSans-30\"/>\r\n     <use x=\"195.117188\" xlink:href=\"#DejaVuSans-32\"/>\r\n    </g>\r\n   </g>\r\n   <g id=\"text_40\">\r\n    <!-- -0.03 -->\r\n    <defs>\r\n     <path d=\"M 40.578125 39.3125 \r\nQ 47.65625 37.796875 51.625 33 \r\nQ 55.609375 28.21875 55.609375 21.1875 \r\nQ 55.609375 10.40625 48.1875 4.484375 \r\nQ 40.765625 -1.421875 27.09375 -1.421875 \r\nQ 22.515625 -1.421875 17.65625 -0.515625 \r\nQ 12.796875 0.390625 7.625 2.203125 \r\nL 7.625 11.71875 \r\nQ 11.71875 9.328125 16.59375 8.109375 \r\nQ 21.484375 6.890625 26.8125 6.890625 \r\nQ 36.078125 6.890625 40.9375 10.546875 \r\nQ 45.796875 14.203125 45.796875 21.1875 \r\nQ 45.796875 27.640625 41.28125 31.265625 \r\nQ 36.765625 34.90625 28.71875 34.90625 \r\nL 20.21875 34.90625 \r\nL 20.21875 43.015625 \r\nL 29.109375 43.015625 \r\nQ 36.375 43.015625 40.234375 45.921875 \r\nQ 44.09375 48.828125 44.09375 54.296875 \r\nQ 44.09375 59.90625 40.109375 62.90625 \r\nQ 36.140625 65.921875 28.71875 65.921875 \r\nQ 24.65625 65.921875 20.015625 65.03125 \r\nQ 15.375 64.15625 9.8125 62.3125 \r\nL 9.8125 71.09375 \r\nQ 15.4375 72.65625 20.34375 73.4375 \r\nQ 25.25 74.21875 29.59375 74.21875 \r\nQ 40.828125 74.21875 47.359375 69.109375 \r\nQ 53.90625 64.015625 53.90625 55.328125 \r\nQ 53.90625 49.265625 50.4375 45.09375 \r\nQ 46.96875 40.921875 40.578125 39.3125 \r\nz\r\n\" id=\"DejaVuSans-33\"/>\r\n    </defs>\r\n    <g style=\"fill:#ffffff;\" transform=\"translate(255.486719 22.818594)scale(0.1 -0.1)\">\r\n     <use xlink:href=\"#DejaVuSans-2d\"/>\r\n     <use x=\"36.083984\" xlink:href=\"#DejaVuSans-30\"/>\r\n     <use x=\"99.707031\" xlink:href=\"#DejaVuSans-2e\"/>\r\n     <use x=\"131.494141\" xlink:href=\"#DejaVuSans-30\"/>\r\n     <use x=\"195.117188\" xlink:href=\"#DejaVuSans-33\"/>\r\n    </g>\r\n   </g>\r\n   <g id=\"text_41\">\r\n    <!-- 0.02 -->\r\n    <g style=\"fill:#ffffff;\" transform=\"translate(294.490625 22.818594)scale(0.1 -0.1)\">\r\n     <use xlink:href=\"#DejaVuSans-30\"/>\r\n     <use x=\"63.623047\" xlink:href=\"#DejaVuSans-2e\"/>\r\n     <use x=\"95.410156\" xlink:href=\"#DejaVuSans-30\"/>\r\n     <use x=\"159.033203\" xlink:href=\"#DejaVuSans-32\"/>\r\n    </g>\r\n   </g>\r\n   <g id=\"text_42\">\r\n    <!-- 0.01 -->\r\n    <g style=\"fill:#ffffff;\" transform=\"translate(331.690625 22.818594)scale(0.1 -0.1)\">\r\n     <use xlink:href=\"#DejaVuSans-30\"/>\r\n     <use x=\"63.623047\" xlink:href=\"#DejaVuSans-2e\"/>\r\n     <use x=\"95.410156\" xlink:href=\"#DejaVuSans-30\"/>\r\n     <use x=\"159.033203\" xlink:href=\"#DejaVuSans-31\"/>\r\n    </g>\r\n   </g>\r\n   <g id=\"text_43\">\r\n    <!-- 0.03 -->\r\n    <g style=\"fill:#ffffff;\" transform=\"translate(368.890625 22.818594)scale(0.1 -0.1)\">\r\n     <use xlink:href=\"#DejaVuSans-30\"/>\r\n     <use x=\"63.623047\" xlink:href=\"#DejaVuSans-2e\"/>\r\n     <use x=\"95.410156\" xlink:href=\"#DejaVuSans-30\"/>\r\n     <use x=\"159.033203\" xlink:href=\"#DejaVuSans-33\"/>\r\n    </g>\r\n   </g>\r\n   <g id=\"text_44\">\r\n    <!-- 0.02 -->\r\n    <g style=\"fill:#ffffff;\" transform=\"translate(406.090625 22.818594)scale(0.1 -0.1)\">\r\n     <use xlink:href=\"#DejaVuSans-30\"/>\r\n     <use x=\"63.623047\" xlink:href=\"#DejaVuSans-2e\"/>\r\n     <use x=\"95.410156\" xlink:href=\"#DejaVuSans-30\"/>\r\n     <use x=\"159.033203\" xlink:href=\"#DejaVuSans-32\"/>\r\n    </g>\r\n   </g>\r\n   <g id=\"text_45\">\r\n    <!-- -0.03 -->\r\n    <g style=\"fill:#ffffff;\" transform=\"translate(441.486719 22.818594)scale(0.1 -0.1)\">\r\n     <use xlink:href=\"#DejaVuSans-2d\"/>\r\n     <use x=\"36.083984\" xlink:href=\"#DejaVuSans-30\"/>\r\n     <use x=\"99.707031\" xlink:href=\"#DejaVuSans-2e\"/>\r\n     <use x=\"131.494141\" xlink:href=\"#DejaVuSans-30\"/>\r\n     <use x=\"195.117188\" xlink:href=\"#DejaVuSans-33\"/>\r\n    </g>\r\n   </g>\r\n   <g id=\"text_46\">\r\n    <!-- 0.00 -->\r\n    <g style=\"fill:#ffffff;\" transform=\"translate(480.490625 22.818594)scale(0.1 -0.1)\">\r\n     <use xlink:href=\"#DejaVuSans-30\"/>\r\n     <use x=\"63.623047\" xlink:href=\"#DejaVuSans-2e\"/>\r\n     <use x=\"95.410156\" xlink:href=\"#DejaVuSans-30\"/>\r\n     <use x=\"159.033203\" xlink:href=\"#DejaVuSans-30\"/>\r\n    </g>\r\n   </g>\r\n   <g id=\"text_47\">\r\n    <!-- -0.01 -->\r\n    <g style=\"fill:#ffffff;\" transform=\"translate(515.886719 22.818594)scale(0.1 -0.1)\">\r\n     <use xlink:href=\"#DejaVuSans-2d\"/>\r\n     <use x=\"36.083984\" xlink:href=\"#DejaVuSans-30\"/>\r\n     <use x=\"99.707031\" xlink:href=\"#DejaVuSans-2e\"/>\r\n     <use x=\"131.494141\" xlink:href=\"#DejaVuSans-30\"/>\r\n     <use x=\"195.117188\" xlink:href=\"#DejaVuSans-31\"/>\r\n    </g>\r\n   </g>\r\n   <g id=\"text_48\">\r\n    <!-- 0.00 -->\r\n    <g style=\"fill:#ffffff;\" transform=\"translate(554.890625 22.818594)scale(0.1 -0.1)\">\r\n     <use xlink:href=\"#DejaVuSans-30\"/>\r\n     <use x=\"63.623047\" xlink:href=\"#DejaVuSans-2e\"/>\r\n     <use x=\"95.410156\" xlink:href=\"#DejaVuSans-30\"/>\r\n     <use x=\"159.033203\" xlink:href=\"#DejaVuSans-30\"/>\r\n    </g>\r\n   </g>\r\n   <g id=\"text_49\">\r\n    <!-- -0.01 -->\r\n    <g style=\"fill:#ffffff;\" transform=\"translate(590.286719 22.818594)scale(0.1 -0.1)\">\r\n     <use xlink:href=\"#DejaVuSans-2d\"/>\r\n     <use x=\"36.083984\" xlink:href=\"#DejaVuSans-30\"/>\r\n     <use x=\"99.707031\" xlink:href=\"#DejaVuSans-2e\"/>\r\n     <use x=\"131.494141\" xlink:href=\"#DejaVuSans-30\"/>\r\n     <use x=\"195.117188\" xlink:href=\"#DejaVuSans-31\"/>\r\n    </g>\r\n   </g>\r\n   <g id=\"text_50\">\r\n    <!-- 0.02 -->\r\n    <g style=\"fill:#ffffff;\" transform=\"translate(629.290625 22.818594)scale(0.1 -0.1)\">\r\n     <use xlink:href=\"#DejaVuSans-30\"/>\r\n     <use x=\"63.623047\" xlink:href=\"#DejaVuSans-2e\"/>\r\n     <use x=\"95.410156\" xlink:href=\"#DejaVuSans-30\"/>\r\n     <use x=\"159.033203\" xlink:href=\"#DejaVuSans-32\"/>\r\n    </g>\r\n   </g>\r\n   <g id=\"text_51\">\r\n    <!-- 0.02 -->\r\n    <g style=\"fill:#ffffff;\" transform=\"translate(666.490625 22.818594)scale(0.1 -0.1)\">\r\n     <use xlink:href=\"#DejaVuSans-30\"/>\r\n     <use x=\"63.623047\" xlink:href=\"#DejaVuSans-2e\"/>\r\n     <use x=\"95.410156\" xlink:href=\"#DejaVuSans-30\"/>\r\n     <use x=\"159.033203\" xlink:href=\"#DejaVuSans-32\"/>\r\n    </g>\r\n   </g>\r\n   <g id=\"text_52\">\r\n    <!-- 0.01 -->\r\n    <g style=\"fill:#ffffff;\" transform=\"translate(703.690625 22.818594)scale(0.1 -0.1)\">\r\n     <use xlink:href=\"#DejaVuSans-30\"/>\r\n     <use x=\"63.623047\" xlink:href=\"#DejaVuSans-2e\"/>\r\n     <use x=\"95.410156\" xlink:href=\"#DejaVuSans-30\"/>\r\n     <use x=\"159.033203\" xlink:href=\"#DejaVuSans-31\"/>\r\n    </g>\r\n   </g>\r\n   <g id=\"text_53\">\r\n    <!-- 0.03 -->\r\n    <g style=\"fill:#ffffff;\" transform=\"translate(740.890625 22.818594)scale(0.1 -0.1)\">\r\n     <use xlink:href=\"#DejaVuSans-30\"/>\r\n     <use x=\"63.623047\" xlink:href=\"#DejaVuSans-2e\"/>\r\n     <use x=\"95.410156\" xlink:href=\"#DejaVuSans-30\"/>\r\n     <use x=\"159.033203\" xlink:href=\"#DejaVuSans-33\"/>\r\n    </g>\r\n   </g>\r\n   <g id=\"text_54\">\r\n    <!-- -0.02 -->\r\n    <g style=\"fill:#ffffff;\" transform=\"translate(776.286719 22.818594)scale(0.1 -0.1)\">\r\n     <use xlink:href=\"#DejaVuSans-2d\"/>\r\n     <use x=\"36.083984\" xlink:href=\"#DejaVuSans-30\"/>\r\n     <use x=\"99.707031\" xlink:href=\"#DejaVuSans-2e\"/>\r\n     <use x=\"131.494141\" xlink:href=\"#DejaVuSans-30\"/>\r\n     <use x=\"195.117188\" xlink:href=\"#DejaVuSans-32\"/>\r\n    </g>\r\n   </g>\r\n   <g id=\"text_55\">\r\n    <!-- 0.01 -->\r\n    <g style=\"fill:#ffffff;\" transform=\"translate(145.690625 40.938594)scale(0.1 -0.1)\">\r\n     <use xlink:href=\"#DejaVuSans-30\"/>\r\n     <use x=\"63.623047\" xlink:href=\"#DejaVuSans-2e\"/>\r\n     <use x=\"95.410156\" xlink:href=\"#DejaVuSans-30\"/>\r\n     <use x=\"159.033203\" xlink:href=\"#DejaVuSans-31\"/>\r\n    </g>\r\n   </g>\r\n   <g id=\"text_56\">\r\n    <!-- 1.00 -->\r\n    <g style=\"fill:#262626;\" transform=\"translate(182.890625 40.938594)scale(0.1 -0.1)\">\r\n     <use xlink:href=\"#DejaVuSans-31\"/>\r\n     <use x=\"63.623047\" xlink:href=\"#DejaVuSans-2e\"/>\r\n     <use x=\"95.410156\" xlink:href=\"#DejaVuSans-30\"/>\r\n     <use x=\"159.033203\" xlink:href=\"#DejaVuSans-30\"/>\r\n    </g>\r\n   </g>\r\n   <g id=\"text_57\">\r\n    <!-- 0.02 -->\r\n    <g style=\"fill:#ffffff;\" transform=\"translate(220.090625 40.938594)scale(0.1 -0.1)\">\r\n     <use xlink:href=\"#DejaVuSans-30\"/>\r\n     <use x=\"63.623047\" xlink:href=\"#DejaVuSans-2e\"/>\r\n     <use x=\"95.410156\" xlink:href=\"#DejaVuSans-30\"/>\r\n     <use x=\"159.033203\" xlink:href=\"#DejaVuSans-32\"/>\r\n    </g>\r\n   </g>\r\n   <g id=\"text_58\">\r\n    <!-- -0.02 -->\r\n    <g style=\"fill:#ffffff;\" transform=\"translate(255.486719 40.938594)scale(0.1 -0.1)\">\r\n     <use xlink:href=\"#DejaVuSans-2d\"/>\r\n     <use x=\"36.083984\" xlink:href=\"#DejaVuSans-30\"/>\r\n     <use x=\"99.707031\" xlink:href=\"#DejaVuSans-2e\"/>\r\n     <use x=\"131.494141\" xlink:href=\"#DejaVuSans-30\"/>\r\n     <use x=\"195.117188\" xlink:href=\"#DejaVuSans-32\"/>\r\n    </g>\r\n   </g>\r\n   <g id=\"text_59\">\r\n    <!-- -0.03 -->\r\n    <g style=\"fill:#ffffff;\" transform=\"translate(292.686719 40.938594)scale(0.1 -0.1)\">\r\n     <use xlink:href=\"#DejaVuSans-2d\"/>\r\n     <use x=\"36.083984\" xlink:href=\"#DejaVuSans-30\"/>\r\n     <use x=\"99.707031\" xlink:href=\"#DejaVuSans-2e\"/>\r\n     <use x=\"131.494141\" xlink:href=\"#DejaVuSans-30\"/>\r\n     <use x=\"195.117188\" xlink:href=\"#DejaVuSans-33\"/>\r\n    </g>\r\n   </g>\r\n   <g id=\"text_60\">\r\n    <!-- -0.00 -->\r\n    <g style=\"fill:#ffffff;\" transform=\"translate(329.886719 40.938594)scale(0.1 -0.1)\">\r\n     <use xlink:href=\"#DejaVuSans-2d\"/>\r\n     <use x=\"36.083984\" xlink:href=\"#DejaVuSans-30\"/>\r\n     <use x=\"99.707031\" xlink:href=\"#DejaVuSans-2e\"/>\r\n     <use x=\"131.494141\" xlink:href=\"#DejaVuSans-30\"/>\r\n     <use x=\"195.117188\" xlink:href=\"#DejaVuSans-30\"/>\r\n    </g>\r\n   </g>\r\n   <g id=\"text_61\">\r\n    <!-- 0.01 -->\r\n    <g style=\"fill:#ffffff;\" transform=\"translate(368.890625 40.938594)scale(0.1 -0.1)\">\r\n     <use xlink:href=\"#DejaVuSans-30\"/>\r\n     <use x=\"63.623047\" xlink:href=\"#DejaVuSans-2e\"/>\r\n     <use x=\"95.410156\" xlink:href=\"#DejaVuSans-30\"/>\r\n     <use x=\"159.033203\" xlink:href=\"#DejaVuSans-31\"/>\r\n    </g>\r\n   </g>\r\n   <g id=\"text_62\">\r\n    <!-- -0.01 -->\r\n    <g style=\"fill:#ffffff;\" transform=\"translate(404.286719 40.938594)scale(0.1 -0.1)\">\r\n     <use xlink:href=\"#DejaVuSans-2d\"/>\r\n     <use x=\"36.083984\" xlink:href=\"#DejaVuSans-30\"/>\r\n     <use x=\"99.707031\" xlink:href=\"#DejaVuSans-2e\"/>\r\n     <use x=\"131.494141\" xlink:href=\"#DejaVuSans-30\"/>\r\n     <use x=\"195.117188\" xlink:href=\"#DejaVuSans-31\"/>\r\n    </g>\r\n   </g>\r\n   <g id=\"text_63\">\r\n    <!-- 0.02 -->\r\n    <g style=\"fill:#ffffff;\" transform=\"translate(443.290625 40.938594)scale(0.1 -0.1)\">\r\n     <use xlink:href=\"#DejaVuSans-30\"/>\r\n     <use x=\"63.623047\" xlink:href=\"#DejaVuSans-2e\"/>\r\n     <use x=\"95.410156\" xlink:href=\"#DejaVuSans-30\"/>\r\n     <use x=\"159.033203\" xlink:href=\"#DejaVuSans-32\"/>\r\n    </g>\r\n   </g>\r\n   <g id=\"text_64\">\r\n    <!-- -0.01 -->\r\n    <g style=\"fill:#ffffff;\" transform=\"translate(478.686719 40.938594)scale(0.1 -0.1)\">\r\n     <use xlink:href=\"#DejaVuSans-2d\"/>\r\n     <use x=\"36.083984\" xlink:href=\"#DejaVuSans-30\"/>\r\n     <use x=\"99.707031\" xlink:href=\"#DejaVuSans-2e\"/>\r\n     <use x=\"131.494141\" xlink:href=\"#DejaVuSans-30\"/>\r\n     <use x=\"195.117188\" xlink:href=\"#DejaVuSans-31\"/>\r\n    </g>\r\n   </g>\r\n   <g id=\"text_65\">\r\n    <!-- 0.01 -->\r\n    <g style=\"fill:#ffffff;\" transform=\"translate(517.690625 40.938594)scale(0.1 -0.1)\">\r\n     <use xlink:href=\"#DejaVuSans-30\"/>\r\n     <use x=\"63.623047\" xlink:href=\"#DejaVuSans-2e\"/>\r\n     <use x=\"95.410156\" xlink:href=\"#DejaVuSans-30\"/>\r\n     <use x=\"159.033203\" xlink:href=\"#DejaVuSans-31\"/>\r\n    </g>\r\n   </g>\r\n   <g id=\"text_66\">\r\n    <!-- -0.02 -->\r\n    <g style=\"fill:#ffffff;\" transform=\"translate(553.086719 40.938594)scale(0.1 -0.1)\">\r\n     <use xlink:href=\"#DejaVuSans-2d\"/>\r\n     <use x=\"36.083984\" xlink:href=\"#DejaVuSans-30\"/>\r\n     <use x=\"99.707031\" xlink:href=\"#DejaVuSans-2e\"/>\r\n     <use x=\"131.494141\" xlink:href=\"#DejaVuSans-30\"/>\r\n     <use x=\"195.117188\" xlink:href=\"#DejaVuSans-32\"/>\r\n    </g>\r\n   </g>\r\n   <g id=\"text_67\">\r\n    <!-- -0.04 -->\r\n    <defs>\r\n     <path d=\"M 37.796875 64.3125 \r\nL 12.890625 25.390625 \r\nL 37.796875 25.390625 \r\nz\r\nM 35.203125 72.90625 \r\nL 47.609375 72.90625 \r\nL 47.609375 25.390625 \r\nL 58.015625 25.390625 \r\nL 58.015625 17.1875 \r\nL 47.609375 17.1875 \r\nL 47.609375 0 \r\nL 37.796875 0 \r\nL 37.796875 17.1875 \r\nL 4.890625 17.1875 \r\nL 4.890625 26.703125 \r\nz\r\n\" id=\"DejaVuSans-34\"/>\r\n    </defs>\r\n    <g style=\"fill:#ffffff;\" transform=\"translate(590.286719 40.938594)scale(0.1 -0.1)\">\r\n     <use xlink:href=\"#DejaVuSans-2d\"/>\r\n     <use x=\"36.083984\" xlink:href=\"#DejaVuSans-30\"/>\r\n     <use x=\"99.707031\" xlink:href=\"#DejaVuSans-2e\"/>\r\n     <use x=\"131.494141\" xlink:href=\"#DejaVuSans-30\"/>\r\n     <use x=\"195.117188\" xlink:href=\"#DejaVuSans-34\"/>\r\n    </g>\r\n   </g>\r\n   <g id=\"text_68\">\r\n    <!-- -0.03 -->\r\n    <g style=\"fill:#ffffff;\" transform=\"translate(627.486719 40.938594)scale(0.1 -0.1)\">\r\n     <use xlink:href=\"#DejaVuSans-2d\"/>\r\n     <use x=\"36.083984\" xlink:href=\"#DejaVuSans-30\"/>\r\n     <use x=\"99.707031\" xlink:href=\"#DejaVuSans-2e\"/>\r\n     <use x=\"131.494141\" xlink:href=\"#DejaVuSans-30\"/>\r\n     <use x=\"195.117188\" xlink:href=\"#DejaVuSans-33\"/>\r\n    </g>\r\n   </g>\r\n   <g id=\"text_69\">\r\n    <!-- -0.02 -->\r\n    <g style=\"fill:#ffffff;\" transform=\"translate(664.686719 40.938594)scale(0.1 -0.1)\">\r\n     <use xlink:href=\"#DejaVuSans-2d\"/>\r\n     <use x=\"36.083984\" xlink:href=\"#DejaVuSans-30\"/>\r\n     <use x=\"99.707031\" xlink:href=\"#DejaVuSans-2e\"/>\r\n     <use x=\"131.494141\" xlink:href=\"#DejaVuSans-30\"/>\r\n     <use x=\"195.117188\" xlink:href=\"#DejaVuSans-32\"/>\r\n    </g>\r\n   </g>\r\n   <g id=\"text_70\">\r\n    <!-- 0.01 -->\r\n    <g style=\"fill:#ffffff;\" transform=\"translate(703.690625 40.938594)scale(0.1 -0.1)\">\r\n     <use xlink:href=\"#DejaVuSans-30\"/>\r\n     <use x=\"63.623047\" xlink:href=\"#DejaVuSans-2e\"/>\r\n     <use x=\"95.410156\" xlink:href=\"#DejaVuSans-30\"/>\r\n     <use x=\"159.033203\" xlink:href=\"#DejaVuSans-31\"/>\r\n    </g>\r\n   </g>\r\n   <g id=\"text_71\">\r\n    <!-- -0.02 -->\r\n    <g style=\"fill:#ffffff;\" transform=\"translate(739.086719 40.938594)scale(0.1 -0.1)\">\r\n     <use xlink:href=\"#DejaVuSans-2d\"/>\r\n     <use x=\"36.083984\" xlink:href=\"#DejaVuSans-30\"/>\r\n     <use x=\"99.707031\" xlink:href=\"#DejaVuSans-2e\"/>\r\n     <use x=\"131.494141\" xlink:href=\"#DejaVuSans-30\"/>\r\n     <use x=\"195.117188\" xlink:href=\"#DejaVuSans-32\"/>\r\n    </g>\r\n   </g>\r\n   <g id=\"text_72\">\r\n    <!-- -0.01 -->\r\n    <g style=\"fill:#ffffff;\" transform=\"translate(776.286719 40.938594)scale(0.1 -0.1)\">\r\n     <use xlink:href=\"#DejaVuSans-2d\"/>\r\n     <use x=\"36.083984\" xlink:href=\"#DejaVuSans-30\"/>\r\n     <use x=\"99.707031\" xlink:href=\"#DejaVuSans-2e\"/>\r\n     <use x=\"131.494141\" xlink:href=\"#DejaVuSans-30\"/>\r\n     <use x=\"195.117188\" xlink:href=\"#DejaVuSans-31\"/>\r\n    </g>\r\n   </g>\r\n   <g id=\"text_73\">\r\n    <!-- -0.02 -->\r\n    <g style=\"fill:#ffffff;\" transform=\"translate(143.886719 59.058594)scale(0.1 -0.1)\">\r\n     <use xlink:href=\"#DejaVuSans-2d\"/>\r\n     <use x=\"36.083984\" xlink:href=\"#DejaVuSans-30\"/>\r\n     <use x=\"99.707031\" xlink:href=\"#DejaVuSans-2e\"/>\r\n     <use x=\"131.494141\" xlink:href=\"#DejaVuSans-30\"/>\r\n     <use x=\"195.117188\" xlink:href=\"#DejaVuSans-32\"/>\r\n    </g>\r\n   </g>\r\n   <g id=\"text_74\">\r\n    <!-- 0.02 -->\r\n    <g style=\"fill:#ffffff;\" transform=\"translate(182.890625 59.058594)scale(0.1 -0.1)\">\r\n     <use xlink:href=\"#DejaVuSans-30\"/>\r\n     <use x=\"63.623047\" xlink:href=\"#DejaVuSans-2e\"/>\r\n     <use x=\"95.410156\" xlink:href=\"#DejaVuSans-30\"/>\r\n     <use x=\"159.033203\" xlink:href=\"#DejaVuSans-32\"/>\r\n    </g>\r\n   </g>\r\n   <g id=\"text_75\">\r\n    <!-- 1.00 -->\r\n    <g style=\"fill:#262626;\" transform=\"translate(220.090625 59.058594)scale(0.1 -0.1)\">\r\n     <use xlink:href=\"#DejaVuSans-31\"/>\r\n     <use x=\"63.623047\" xlink:href=\"#DejaVuSans-2e\"/>\r\n     <use x=\"95.410156\" xlink:href=\"#DejaVuSans-30\"/>\r\n     <use x=\"159.033203\" xlink:href=\"#DejaVuSans-30\"/>\r\n    </g>\r\n   </g>\r\n   <g id=\"text_76\">\r\n    <!-- 0.00 -->\r\n    <g style=\"fill:#ffffff;\" transform=\"translate(257.290625 59.058594)scale(0.1 -0.1)\">\r\n     <use xlink:href=\"#DejaVuSans-30\"/>\r\n     <use x=\"63.623047\" xlink:href=\"#DejaVuSans-2e\"/>\r\n     <use x=\"95.410156\" xlink:href=\"#DejaVuSans-30\"/>\r\n     <use x=\"159.033203\" xlink:href=\"#DejaVuSans-30\"/>\r\n    </g>\r\n   </g>\r\n   <g id=\"text_77\">\r\n    <!-- -0.02 -->\r\n    <g style=\"fill:#ffffff;\" transform=\"translate(292.686719 59.058594)scale(0.1 -0.1)\">\r\n     <use xlink:href=\"#DejaVuSans-2d\"/>\r\n     <use x=\"36.083984\" xlink:href=\"#DejaVuSans-30\"/>\r\n     <use x=\"99.707031\" xlink:href=\"#DejaVuSans-2e\"/>\r\n     <use x=\"131.494141\" xlink:href=\"#DejaVuSans-30\"/>\r\n     <use x=\"195.117188\" xlink:href=\"#DejaVuSans-32\"/>\r\n    </g>\r\n   </g>\r\n   <g id=\"text_78\">\r\n    <!-- -0.03 -->\r\n    <g style=\"fill:#ffffff;\" transform=\"translate(329.886719 59.058594)scale(0.1 -0.1)\">\r\n     <use xlink:href=\"#DejaVuSans-2d\"/>\r\n     <use x=\"36.083984\" xlink:href=\"#DejaVuSans-30\"/>\r\n     <use x=\"99.707031\" xlink:href=\"#DejaVuSans-2e\"/>\r\n     <use x=\"131.494141\" xlink:href=\"#DejaVuSans-30\"/>\r\n     <use x=\"195.117188\" xlink:href=\"#DejaVuSans-33\"/>\r\n    </g>\r\n   </g>\r\n   <g id=\"text_79\">\r\n    <!-- 0.00 -->\r\n    <g style=\"fill:#ffffff;\" transform=\"translate(368.890625 59.058594)scale(0.1 -0.1)\">\r\n     <use xlink:href=\"#DejaVuSans-30\"/>\r\n     <use x=\"63.623047\" xlink:href=\"#DejaVuSans-2e\"/>\r\n     <use x=\"95.410156\" xlink:href=\"#DejaVuSans-30\"/>\r\n     <use x=\"159.033203\" xlink:href=\"#DejaVuSans-30\"/>\r\n    </g>\r\n   </g>\r\n   <g id=\"text_80\">\r\n    <!-- -0.00 -->\r\n    <g style=\"fill:#ffffff;\" transform=\"translate(404.286719 59.058594)scale(0.1 -0.1)\">\r\n     <use xlink:href=\"#DejaVuSans-2d\"/>\r\n     <use x=\"36.083984\" xlink:href=\"#DejaVuSans-30\"/>\r\n     <use x=\"99.707031\" xlink:href=\"#DejaVuSans-2e\"/>\r\n     <use x=\"131.494141\" xlink:href=\"#DejaVuSans-30\"/>\r\n     <use x=\"195.117188\" xlink:href=\"#DejaVuSans-30\"/>\r\n    </g>\r\n   </g>\r\n   <g id=\"text_81\">\r\n    <!-- -0.01 -->\r\n    <g style=\"fill:#ffffff;\" transform=\"translate(441.486719 59.058594)scale(0.1 -0.1)\">\r\n     <use xlink:href=\"#DejaVuSans-2d\"/>\r\n     <use x=\"36.083984\" xlink:href=\"#DejaVuSans-30\"/>\r\n     <use x=\"99.707031\" xlink:href=\"#DejaVuSans-2e\"/>\r\n     <use x=\"131.494141\" xlink:href=\"#DejaVuSans-30\"/>\r\n     <use x=\"195.117188\" xlink:href=\"#DejaVuSans-31\"/>\r\n    </g>\r\n   </g>\r\n   <g id=\"text_82\">\r\n    <!-- 0.02 -->\r\n    <g style=\"fill:#ffffff;\" transform=\"translate(480.490625 59.058594)scale(0.1 -0.1)\">\r\n     <use xlink:href=\"#DejaVuSans-30\"/>\r\n     <use x=\"63.623047\" xlink:href=\"#DejaVuSans-2e\"/>\r\n     <use x=\"95.410156\" xlink:href=\"#DejaVuSans-30\"/>\r\n     <use x=\"159.033203\" xlink:href=\"#DejaVuSans-32\"/>\r\n    </g>\r\n   </g>\r\n   <g id=\"text_83\">\r\n    <!-- 0.01 -->\r\n    <g style=\"fill:#ffffff;\" transform=\"translate(517.690625 59.058594)scale(0.1 -0.1)\">\r\n     <use xlink:href=\"#DejaVuSans-30\"/>\r\n     <use x=\"63.623047\" xlink:href=\"#DejaVuSans-2e\"/>\r\n     <use x=\"95.410156\" xlink:href=\"#DejaVuSans-30\"/>\r\n     <use x=\"159.033203\" xlink:href=\"#DejaVuSans-31\"/>\r\n    </g>\r\n   </g>\r\n   <g id=\"text_84\">\r\n    <!-- 0.03 -->\r\n    <g style=\"fill:#ffffff;\" transform=\"translate(554.890625 59.058594)scale(0.1 -0.1)\">\r\n     <use xlink:href=\"#DejaVuSans-30\"/>\r\n     <use x=\"63.623047\" xlink:href=\"#DejaVuSans-2e\"/>\r\n     <use x=\"95.410156\" xlink:href=\"#DejaVuSans-30\"/>\r\n     <use x=\"159.033203\" xlink:href=\"#DejaVuSans-33\"/>\r\n    </g>\r\n   </g>\r\n   <g id=\"text_85\">\r\n    <!-- 0.02 -->\r\n    <g style=\"fill:#ffffff;\" transform=\"translate(592.090625 59.058594)scale(0.1 -0.1)\">\r\n     <use xlink:href=\"#DejaVuSans-30\"/>\r\n     <use x=\"63.623047\" xlink:href=\"#DejaVuSans-2e\"/>\r\n     <use x=\"95.410156\" xlink:href=\"#DejaVuSans-30\"/>\r\n     <use x=\"159.033203\" xlink:href=\"#DejaVuSans-32\"/>\r\n    </g>\r\n   </g>\r\n   <g id=\"text_86\">\r\n    <!-- -0.00 -->\r\n    <g style=\"fill:#ffffff;\" transform=\"translate(627.486719 59.058594)scale(0.1 -0.1)\">\r\n     <use xlink:href=\"#DejaVuSans-2d\"/>\r\n     <use x=\"36.083984\" xlink:href=\"#DejaVuSans-30\"/>\r\n     <use x=\"99.707031\" xlink:href=\"#DejaVuSans-2e\"/>\r\n     <use x=\"131.494141\" xlink:href=\"#DejaVuSans-30\"/>\r\n     <use x=\"195.117188\" xlink:href=\"#DejaVuSans-30\"/>\r\n    </g>\r\n   </g>\r\n   <g id=\"text_87\">\r\n    <!-- 0.01 -->\r\n    <g style=\"fill:#ffffff;\" transform=\"translate(666.490625 59.058594)scale(0.1 -0.1)\">\r\n     <use xlink:href=\"#DejaVuSans-30\"/>\r\n     <use x=\"63.623047\" xlink:href=\"#DejaVuSans-2e\"/>\r\n     <use x=\"95.410156\" xlink:href=\"#DejaVuSans-30\"/>\r\n     <use x=\"159.033203\" xlink:href=\"#DejaVuSans-31\"/>\r\n    </g>\r\n   </g>\r\n   <g id=\"text_88\">\r\n    <!-- -0.03 -->\r\n    <g style=\"fill:#ffffff;\" transform=\"translate(701.886719 59.058594)scale(0.1 -0.1)\">\r\n     <use xlink:href=\"#DejaVuSans-2d\"/>\r\n     <use x=\"36.083984\" xlink:href=\"#DejaVuSans-30\"/>\r\n     <use x=\"99.707031\" xlink:href=\"#DejaVuSans-2e\"/>\r\n     <use x=\"131.494141\" xlink:href=\"#DejaVuSans-30\"/>\r\n     <use x=\"195.117188\" xlink:href=\"#DejaVuSans-33\"/>\r\n    </g>\r\n   </g>\r\n   <g id=\"text_89\">\r\n    <!-- 0.01 -->\r\n    <g style=\"fill:#ffffff;\" transform=\"translate(740.890625 59.058594)scale(0.1 -0.1)\">\r\n     <use xlink:href=\"#DejaVuSans-30\"/>\r\n     <use x=\"63.623047\" xlink:href=\"#DejaVuSans-2e\"/>\r\n     <use x=\"95.410156\" xlink:href=\"#DejaVuSans-30\"/>\r\n     <use x=\"159.033203\" xlink:href=\"#DejaVuSans-31\"/>\r\n    </g>\r\n   </g>\r\n   <g id=\"text_90\">\r\n    <!-- 0.02 -->\r\n    <g style=\"fill:#ffffff;\" transform=\"translate(778.090625 59.058594)scale(0.1 -0.1)\">\r\n     <use xlink:href=\"#DejaVuSans-30\"/>\r\n     <use x=\"63.623047\" xlink:href=\"#DejaVuSans-2e\"/>\r\n     <use x=\"95.410156\" xlink:href=\"#DejaVuSans-30\"/>\r\n     <use x=\"159.033203\" xlink:href=\"#DejaVuSans-32\"/>\r\n    </g>\r\n   </g>\r\n   <g id=\"text_91\">\r\n    <!-- -0.03 -->\r\n    <g style=\"fill:#ffffff;\" transform=\"translate(143.886719 77.178594)scale(0.1 -0.1)\">\r\n     <use xlink:href=\"#DejaVuSans-2d\"/>\r\n     <use x=\"36.083984\" xlink:href=\"#DejaVuSans-30\"/>\r\n     <use x=\"99.707031\" xlink:href=\"#DejaVuSans-2e\"/>\r\n     <use x=\"131.494141\" xlink:href=\"#DejaVuSans-30\"/>\r\n     <use x=\"195.117188\" xlink:href=\"#DejaVuSans-33\"/>\r\n    </g>\r\n   </g>\r\n   <g id=\"text_92\">\r\n    <!-- -0.02 -->\r\n    <g style=\"fill:#ffffff;\" transform=\"translate(181.086719 77.178594)scale(0.1 -0.1)\">\r\n     <use xlink:href=\"#DejaVuSans-2d\"/>\r\n     <use x=\"36.083984\" xlink:href=\"#DejaVuSans-30\"/>\r\n     <use x=\"99.707031\" xlink:href=\"#DejaVuSans-2e\"/>\r\n     <use x=\"131.494141\" xlink:href=\"#DejaVuSans-30\"/>\r\n     <use x=\"195.117188\" xlink:href=\"#DejaVuSans-32\"/>\r\n    </g>\r\n   </g>\r\n   <g id=\"text_93\">\r\n    <!-- 0.00 -->\r\n    <g style=\"fill:#ffffff;\" transform=\"translate(220.090625 77.178594)scale(0.1 -0.1)\">\r\n     <use xlink:href=\"#DejaVuSans-30\"/>\r\n     <use x=\"63.623047\" xlink:href=\"#DejaVuSans-2e\"/>\r\n     <use x=\"95.410156\" xlink:href=\"#DejaVuSans-30\"/>\r\n     <use x=\"159.033203\" xlink:href=\"#DejaVuSans-30\"/>\r\n    </g>\r\n   </g>\r\n   <g id=\"text_94\">\r\n    <!-- 1.00 -->\r\n    <g style=\"fill:#262626;\" transform=\"translate(257.290625 77.178594)scale(0.1 -0.1)\">\r\n     <use xlink:href=\"#DejaVuSans-31\"/>\r\n     <use x=\"63.623047\" xlink:href=\"#DejaVuSans-2e\"/>\r\n     <use x=\"95.410156\" xlink:href=\"#DejaVuSans-30\"/>\r\n     <use x=\"159.033203\" xlink:href=\"#DejaVuSans-30\"/>\r\n    </g>\r\n   </g>\r\n   <g id=\"text_95\">\r\n    <!-- 0.02 -->\r\n    <g style=\"fill:#ffffff;\" transform=\"translate(294.490625 77.178594)scale(0.1 -0.1)\">\r\n     <use xlink:href=\"#DejaVuSans-30\"/>\r\n     <use x=\"63.623047\" xlink:href=\"#DejaVuSans-2e\"/>\r\n     <use x=\"95.410156\" xlink:href=\"#DejaVuSans-30\"/>\r\n     <use x=\"159.033203\" xlink:href=\"#DejaVuSans-32\"/>\r\n    </g>\r\n   </g>\r\n   <g id=\"text_96\">\r\n    <!-- -0.00 -->\r\n    <g style=\"fill:#ffffff;\" transform=\"translate(329.886719 77.178594)scale(0.1 -0.1)\">\r\n     <use xlink:href=\"#DejaVuSans-2d\"/>\r\n     <use x=\"36.083984\" xlink:href=\"#DejaVuSans-30\"/>\r\n     <use x=\"99.707031\" xlink:href=\"#DejaVuSans-2e\"/>\r\n     <use x=\"131.494141\" xlink:href=\"#DejaVuSans-30\"/>\r\n     <use x=\"195.117188\" xlink:href=\"#DejaVuSans-30\"/>\r\n    </g>\r\n   </g>\r\n   <g id=\"text_97\">\r\n    <!-- 0.04 -->\r\n    <g style=\"fill:#ffffff;\" transform=\"translate(368.890625 77.178594)scale(0.1 -0.1)\">\r\n     <use xlink:href=\"#DejaVuSans-30\"/>\r\n     <use x=\"63.623047\" xlink:href=\"#DejaVuSans-2e\"/>\r\n     <use x=\"95.410156\" xlink:href=\"#DejaVuSans-30\"/>\r\n     <use x=\"159.033203\" xlink:href=\"#DejaVuSans-34\"/>\r\n    </g>\r\n   </g>\r\n   <g id=\"text_98\">\r\n    <!-- 0.01 -->\r\n    <g style=\"fill:#ffffff;\" transform=\"translate(406.090625 77.178594)scale(0.1 -0.1)\">\r\n     <use xlink:href=\"#DejaVuSans-30\"/>\r\n     <use x=\"63.623047\" xlink:href=\"#DejaVuSans-2e\"/>\r\n     <use x=\"95.410156\" xlink:href=\"#DejaVuSans-30\"/>\r\n     <use x=\"159.033203\" xlink:href=\"#DejaVuSans-31\"/>\r\n    </g>\r\n   </g>\r\n   <g id=\"text_99\">\r\n    <!-- 0.02 -->\r\n    <g style=\"fill:#ffffff;\" transform=\"translate(443.290625 77.178594)scale(0.1 -0.1)\">\r\n     <use xlink:href=\"#DejaVuSans-30\"/>\r\n     <use x=\"63.623047\" xlink:href=\"#DejaVuSans-2e\"/>\r\n     <use x=\"95.410156\" xlink:href=\"#DejaVuSans-30\"/>\r\n     <use x=\"159.033203\" xlink:href=\"#DejaVuSans-32\"/>\r\n    </g>\r\n   </g>\r\n   <g id=\"text_100\">\r\n    <!-- -0.00 -->\r\n    <g style=\"fill:#ffffff;\" transform=\"translate(478.686719 77.178594)scale(0.1 -0.1)\">\r\n     <use xlink:href=\"#DejaVuSans-2d\"/>\r\n     <use x=\"36.083984\" xlink:href=\"#DejaVuSans-30\"/>\r\n     <use x=\"99.707031\" xlink:href=\"#DejaVuSans-2e\"/>\r\n     <use x=\"131.494141\" xlink:href=\"#DejaVuSans-30\"/>\r\n     <use x=\"195.117188\" xlink:href=\"#DejaVuSans-30\"/>\r\n    </g>\r\n   </g>\r\n   <g id=\"text_101\">\r\n    <!-- -0.01 -->\r\n    <g style=\"fill:#ffffff;\" transform=\"translate(515.886719 77.178594)scale(0.1 -0.1)\">\r\n     <use xlink:href=\"#DejaVuSans-2d\"/>\r\n     <use x=\"36.083984\" xlink:href=\"#DejaVuSans-30\"/>\r\n     <use x=\"99.707031\" xlink:href=\"#DejaVuSans-2e\"/>\r\n     <use x=\"131.494141\" xlink:href=\"#DejaVuSans-30\"/>\r\n     <use x=\"195.117188\" xlink:href=\"#DejaVuSans-31\"/>\r\n    </g>\r\n   </g>\r\n   <g id=\"text_102\">\r\n    <!-- -0.01 -->\r\n    <g style=\"fill:#ffffff;\" transform=\"translate(553.086719 77.178594)scale(0.1 -0.1)\">\r\n     <use xlink:href=\"#DejaVuSans-2d\"/>\r\n     <use x=\"36.083984\" xlink:href=\"#DejaVuSans-30\"/>\r\n     <use x=\"99.707031\" xlink:href=\"#DejaVuSans-2e\"/>\r\n     <use x=\"131.494141\" xlink:href=\"#DejaVuSans-30\"/>\r\n     <use x=\"195.117188\" xlink:href=\"#DejaVuSans-31\"/>\r\n    </g>\r\n   </g>\r\n   <g id=\"text_103\">\r\n    <!-- 0.02 -->\r\n    <g style=\"fill:#ffffff;\" transform=\"translate(592.090625 77.178594)scale(0.1 -0.1)\">\r\n     <use xlink:href=\"#DejaVuSans-30\"/>\r\n     <use x=\"63.623047\" xlink:href=\"#DejaVuSans-2e\"/>\r\n     <use x=\"95.410156\" xlink:href=\"#DejaVuSans-30\"/>\r\n     <use x=\"159.033203\" xlink:href=\"#DejaVuSans-32\"/>\r\n    </g>\r\n   </g>\r\n   <g id=\"text_104\">\r\n    <!-- 0.01 -->\r\n    <g style=\"fill:#ffffff;\" transform=\"translate(629.290625 77.178594)scale(0.1 -0.1)\">\r\n     <use xlink:href=\"#DejaVuSans-30\"/>\r\n     <use x=\"63.623047\" xlink:href=\"#DejaVuSans-2e\"/>\r\n     <use x=\"95.410156\" xlink:href=\"#DejaVuSans-30\"/>\r\n     <use x=\"159.033203\" xlink:href=\"#DejaVuSans-31\"/>\r\n    </g>\r\n   </g>\r\n   <g id=\"text_105\">\r\n    <!-- 0.01 -->\r\n    <g style=\"fill:#ffffff;\" transform=\"translate(666.490625 77.178594)scale(0.1 -0.1)\">\r\n     <use xlink:href=\"#DejaVuSans-30\"/>\r\n     <use x=\"63.623047\" xlink:href=\"#DejaVuSans-2e\"/>\r\n     <use x=\"95.410156\" xlink:href=\"#DejaVuSans-30\"/>\r\n     <use x=\"159.033203\" xlink:href=\"#DejaVuSans-31\"/>\r\n    </g>\r\n   </g>\r\n   <g id=\"text_106\">\r\n    <!-- -0.00 -->\r\n    <g style=\"fill:#ffffff;\" transform=\"translate(701.886719 77.178594)scale(0.1 -0.1)\">\r\n     <use xlink:href=\"#DejaVuSans-2d\"/>\r\n     <use x=\"36.083984\" xlink:href=\"#DejaVuSans-30\"/>\r\n     <use x=\"99.707031\" xlink:href=\"#DejaVuSans-2e\"/>\r\n     <use x=\"131.494141\" xlink:href=\"#DejaVuSans-30\"/>\r\n     <use x=\"195.117188\" xlink:href=\"#DejaVuSans-30\"/>\r\n    </g>\r\n   </g>\r\n   <g id=\"text_107\">\r\n    <!-- 0.02 -->\r\n    <g style=\"fill:#ffffff;\" transform=\"translate(740.890625 77.178594)scale(0.1 -0.1)\">\r\n     <use xlink:href=\"#DejaVuSans-30\"/>\r\n     <use x=\"63.623047\" xlink:href=\"#DejaVuSans-2e\"/>\r\n     <use x=\"95.410156\" xlink:href=\"#DejaVuSans-30\"/>\r\n     <use x=\"159.033203\" xlink:href=\"#DejaVuSans-32\"/>\r\n    </g>\r\n   </g>\r\n   <g id=\"text_108\">\r\n    <!-- -0.01 -->\r\n    <g style=\"fill:#ffffff;\" transform=\"translate(776.286719 77.178594)scale(0.1 -0.1)\">\r\n     <use xlink:href=\"#DejaVuSans-2d\"/>\r\n     <use x=\"36.083984\" xlink:href=\"#DejaVuSans-30\"/>\r\n     <use x=\"99.707031\" xlink:href=\"#DejaVuSans-2e\"/>\r\n     <use x=\"131.494141\" xlink:href=\"#DejaVuSans-30\"/>\r\n     <use x=\"195.117188\" xlink:href=\"#DejaVuSans-31\"/>\r\n    </g>\r\n   </g>\r\n   <g id=\"text_109\">\r\n    <!-- 0.02 -->\r\n    <g style=\"fill:#ffffff;\" transform=\"translate(145.690625 95.298594)scale(0.1 -0.1)\">\r\n     <use xlink:href=\"#DejaVuSans-30\"/>\r\n     <use x=\"63.623047\" xlink:href=\"#DejaVuSans-2e\"/>\r\n     <use x=\"95.410156\" xlink:href=\"#DejaVuSans-30\"/>\r\n     <use x=\"159.033203\" xlink:href=\"#DejaVuSans-32\"/>\r\n    </g>\r\n   </g>\r\n   <g id=\"text_110\">\r\n    <!-- -0.03 -->\r\n    <g style=\"fill:#ffffff;\" transform=\"translate(181.086719 95.298594)scale(0.1 -0.1)\">\r\n     <use xlink:href=\"#DejaVuSans-2d\"/>\r\n     <use x=\"36.083984\" xlink:href=\"#DejaVuSans-30\"/>\r\n     <use x=\"99.707031\" xlink:href=\"#DejaVuSans-2e\"/>\r\n     <use x=\"131.494141\" xlink:href=\"#DejaVuSans-30\"/>\r\n     <use x=\"195.117188\" xlink:href=\"#DejaVuSans-33\"/>\r\n    </g>\r\n   </g>\r\n   <g id=\"text_111\">\r\n    <!-- -0.02 -->\r\n    <g style=\"fill:#ffffff;\" transform=\"translate(218.286719 95.298594)scale(0.1 -0.1)\">\r\n     <use xlink:href=\"#DejaVuSans-2d\"/>\r\n     <use x=\"36.083984\" xlink:href=\"#DejaVuSans-30\"/>\r\n     <use x=\"99.707031\" xlink:href=\"#DejaVuSans-2e\"/>\r\n     <use x=\"131.494141\" xlink:href=\"#DejaVuSans-30\"/>\r\n     <use x=\"195.117188\" xlink:href=\"#DejaVuSans-32\"/>\r\n    </g>\r\n   </g>\r\n   <g id=\"text_112\">\r\n    <!-- 0.02 -->\r\n    <g style=\"fill:#ffffff;\" transform=\"translate(257.290625 95.298594)scale(0.1 -0.1)\">\r\n     <use xlink:href=\"#DejaVuSans-30\"/>\r\n     <use x=\"63.623047\" xlink:href=\"#DejaVuSans-2e\"/>\r\n     <use x=\"95.410156\" xlink:href=\"#DejaVuSans-30\"/>\r\n     <use x=\"159.033203\" xlink:href=\"#DejaVuSans-32\"/>\r\n    </g>\r\n   </g>\r\n   <g id=\"text_113\">\r\n    <!-- 1.00 -->\r\n    <g style=\"fill:#262626;\" transform=\"translate(294.490625 95.298594)scale(0.1 -0.1)\">\r\n     <use xlink:href=\"#DejaVuSans-31\"/>\r\n     <use x=\"63.623047\" xlink:href=\"#DejaVuSans-2e\"/>\r\n     <use x=\"95.410156\" xlink:href=\"#DejaVuSans-30\"/>\r\n     <use x=\"159.033203\" xlink:href=\"#DejaVuSans-30\"/>\r\n    </g>\r\n   </g>\r\n   <g id=\"text_114\">\r\n    <!-- 0.58 -->\r\n    <defs>\r\n     <path d=\"M 10.796875 72.90625 \r\nL 49.515625 72.90625 \r\nL 49.515625 64.59375 \r\nL 19.828125 64.59375 \r\nL 19.828125 46.734375 \r\nQ 21.96875 47.46875 24.109375 47.828125 \r\nQ 26.265625 48.1875 28.421875 48.1875 \r\nQ 40.625 48.1875 47.75 41.5 \r\nQ 54.890625 34.8125 54.890625 23.390625 \r\nQ 54.890625 11.625 47.5625 5.09375 \r\nQ 40.234375 -1.421875 26.90625 -1.421875 \r\nQ 22.3125 -1.421875 17.546875 -0.640625 \r\nQ 12.796875 0.140625 7.71875 1.703125 \r\nL 7.71875 11.625 \r\nQ 12.109375 9.234375 16.796875 8.0625 \r\nQ 21.484375 6.890625 26.703125 6.890625 \r\nQ 35.15625 6.890625 40.078125 11.328125 \r\nQ 45.015625 15.765625 45.015625 23.390625 \r\nQ 45.015625 31 40.078125 35.4375 \r\nQ 35.15625 39.890625 26.703125 39.890625 \r\nQ 22.75 39.890625 18.8125 39.015625 \r\nQ 14.890625 38.140625 10.796875 36.28125 \r\nz\r\n\" id=\"DejaVuSans-35\"/>\r\n     <path d=\"M 31.78125 34.625 \r\nQ 24.75 34.625 20.71875 30.859375 \r\nQ 16.703125 27.09375 16.703125 20.515625 \r\nQ 16.703125 13.921875 20.71875 10.15625 \r\nQ 24.75 6.390625 31.78125 6.390625 \r\nQ 38.8125 6.390625 42.859375 10.171875 \r\nQ 46.921875 13.96875 46.921875 20.515625 \r\nQ 46.921875 27.09375 42.890625 30.859375 \r\nQ 38.875 34.625 31.78125 34.625 \r\nz\r\nM 21.921875 38.8125 \r\nQ 15.578125 40.375 12.03125 44.71875 \r\nQ 8.5 49.078125 8.5 55.328125 \r\nQ 8.5 64.0625 14.71875 69.140625 \r\nQ 20.953125 74.21875 31.78125 74.21875 \r\nQ 42.671875 74.21875 48.875 69.140625 \r\nQ 55.078125 64.0625 55.078125 55.328125 \r\nQ 55.078125 49.078125 51.53125 44.71875 \r\nQ 48 40.375 41.703125 38.8125 \r\nQ 48.828125 37.15625 52.796875 32.3125 \r\nQ 56.78125 27.484375 56.78125 20.515625 \r\nQ 56.78125 9.90625 50.3125 4.234375 \r\nQ 43.84375 -1.421875 31.78125 -1.421875 \r\nQ 19.734375 -1.421875 13.25 4.234375 \r\nQ 6.78125 9.90625 6.78125 20.515625 \r\nQ 6.78125 27.484375 10.78125 32.3125 \r\nQ 14.796875 37.15625 21.921875 38.8125 \r\nz\r\nM 18.3125 54.390625 \r\nQ 18.3125 48.734375 21.84375 45.5625 \r\nQ 25.390625 42.390625 31.78125 42.390625 \r\nQ 38.140625 42.390625 41.71875 45.5625 \r\nQ 45.3125 48.734375 45.3125 54.390625 \r\nQ 45.3125 60.0625 41.71875 63.234375 \r\nQ 38.140625 66.40625 31.78125 66.40625 \r\nQ 25.390625 66.40625 21.84375 63.234375 \r\nQ 18.3125 60.0625 18.3125 54.390625 \r\nz\r\n\" id=\"DejaVuSans-38\"/>\r\n    </defs>\r\n    <g style=\"fill:#ffffff;\" transform=\"translate(331.690625 95.298594)scale(0.1 -0.1)\">\r\n     <use xlink:href=\"#DejaVuSans-30\"/>\r\n     <use x=\"63.623047\" xlink:href=\"#DejaVuSans-2e\"/>\r\n     <use x=\"95.410156\" xlink:href=\"#DejaVuSans-35\"/>\r\n     <use x=\"159.033203\" xlink:href=\"#DejaVuSans-38\"/>\r\n    </g>\r\n   </g>\r\n   <g id=\"text_115\">\r\n    <!-- -0.01 -->\r\n    <g style=\"fill:#ffffff;\" transform=\"translate(367.086719 95.298594)scale(0.1 -0.1)\">\r\n     <use xlink:href=\"#DejaVuSans-2d\"/>\r\n     <use x=\"36.083984\" xlink:href=\"#DejaVuSans-30\"/>\r\n     <use x=\"99.707031\" xlink:href=\"#DejaVuSans-2e\"/>\r\n     <use x=\"131.494141\" xlink:href=\"#DejaVuSans-30\"/>\r\n     <use x=\"195.117188\" xlink:href=\"#DejaVuSans-31\"/>\r\n    </g>\r\n   </g>\r\n   <g id=\"text_116\">\r\n    <!-- 0.03 -->\r\n    <g style=\"fill:#ffffff;\" transform=\"translate(406.090625 95.298594)scale(0.1 -0.1)\">\r\n     <use xlink:href=\"#DejaVuSans-30\"/>\r\n     <use x=\"63.623047\" xlink:href=\"#DejaVuSans-2e\"/>\r\n     <use x=\"95.410156\" xlink:href=\"#DejaVuSans-30\"/>\r\n     <use x=\"159.033203\" xlink:href=\"#DejaVuSans-33\"/>\r\n    </g>\r\n   </g>\r\n   <g id=\"text_117\">\r\n    <!-- -0.00 -->\r\n    <g style=\"fill:#ffffff;\" transform=\"translate(441.486719 95.298594)scale(0.1 -0.1)\">\r\n     <use xlink:href=\"#DejaVuSans-2d\"/>\r\n     <use x=\"36.083984\" xlink:href=\"#DejaVuSans-30\"/>\r\n     <use x=\"99.707031\" xlink:href=\"#DejaVuSans-2e\"/>\r\n     <use x=\"131.494141\" xlink:href=\"#DejaVuSans-30\"/>\r\n     <use x=\"195.117188\" xlink:href=\"#DejaVuSans-30\"/>\r\n    </g>\r\n   </g>\r\n   <g id=\"text_118\">\r\n    <!-- 0.03 -->\r\n    <g style=\"fill:#ffffff;\" transform=\"translate(480.490625 95.298594)scale(0.1 -0.1)\">\r\n     <use xlink:href=\"#DejaVuSans-30\"/>\r\n     <use x=\"63.623047\" xlink:href=\"#DejaVuSans-2e\"/>\r\n     <use x=\"95.410156\" xlink:href=\"#DejaVuSans-30\"/>\r\n     <use x=\"159.033203\" xlink:href=\"#DejaVuSans-33\"/>\r\n    </g>\r\n   </g>\r\n   <g id=\"text_119\">\r\n    <!-- 0.02 -->\r\n    <g style=\"fill:#ffffff;\" transform=\"translate(517.690625 95.298594)scale(0.1 -0.1)\">\r\n     <use xlink:href=\"#DejaVuSans-30\"/>\r\n     <use x=\"63.623047\" xlink:href=\"#DejaVuSans-2e\"/>\r\n     <use x=\"95.410156\" xlink:href=\"#DejaVuSans-30\"/>\r\n     <use x=\"159.033203\" xlink:href=\"#DejaVuSans-32\"/>\r\n    </g>\r\n   </g>\r\n   <g id=\"text_120\">\r\n    <!-- -0.02 -->\r\n    <g style=\"fill:#ffffff;\" transform=\"translate(553.086719 95.298594)scale(0.1 -0.1)\">\r\n     <use xlink:href=\"#DejaVuSans-2d\"/>\r\n     <use x=\"36.083984\" xlink:href=\"#DejaVuSans-30\"/>\r\n     <use x=\"99.707031\" xlink:href=\"#DejaVuSans-2e\"/>\r\n     <use x=\"131.494141\" xlink:href=\"#DejaVuSans-30\"/>\r\n     <use x=\"195.117188\" xlink:href=\"#DejaVuSans-32\"/>\r\n    </g>\r\n   </g>\r\n   <g id=\"text_121\">\r\n    <!-- 0.02 -->\r\n    <g style=\"fill:#ffffff;\" transform=\"translate(592.090625 95.298594)scale(0.1 -0.1)\">\r\n     <use xlink:href=\"#DejaVuSans-30\"/>\r\n     <use x=\"63.623047\" xlink:href=\"#DejaVuSans-2e\"/>\r\n     <use x=\"95.410156\" xlink:href=\"#DejaVuSans-30\"/>\r\n     <use x=\"159.033203\" xlink:href=\"#DejaVuSans-32\"/>\r\n    </g>\r\n   </g>\r\n   <g id=\"text_122\">\r\n    <!-- 0.03 -->\r\n    <g style=\"fill:#ffffff;\" transform=\"translate(629.290625 95.298594)scale(0.1 -0.1)\">\r\n     <use xlink:href=\"#DejaVuSans-30\"/>\r\n     <use x=\"63.623047\" xlink:href=\"#DejaVuSans-2e\"/>\r\n     <use x=\"95.410156\" xlink:href=\"#DejaVuSans-30\"/>\r\n     <use x=\"159.033203\" xlink:href=\"#DejaVuSans-33\"/>\r\n    </g>\r\n   </g>\r\n   <g id=\"text_123\">\r\n    <!-- 0.04 -->\r\n    <g style=\"fill:#ffffff;\" transform=\"translate(666.490625 95.298594)scale(0.1 -0.1)\">\r\n     <use xlink:href=\"#DejaVuSans-30\"/>\r\n     <use x=\"63.623047\" xlink:href=\"#DejaVuSans-2e\"/>\r\n     <use x=\"95.410156\" xlink:href=\"#DejaVuSans-30\"/>\r\n     <use x=\"159.033203\" xlink:href=\"#DejaVuSans-34\"/>\r\n    </g>\r\n   </g>\r\n   <g id=\"text_124\">\r\n    <!-- -0.03 -->\r\n    <g style=\"fill:#ffffff;\" transform=\"translate(701.886719 95.298594)scale(0.1 -0.1)\">\r\n     <use xlink:href=\"#DejaVuSans-2d\"/>\r\n     <use x=\"36.083984\" xlink:href=\"#DejaVuSans-30\"/>\r\n     <use x=\"99.707031\" xlink:href=\"#DejaVuSans-2e\"/>\r\n     <use x=\"131.494141\" xlink:href=\"#DejaVuSans-30\"/>\r\n     <use x=\"195.117188\" xlink:href=\"#DejaVuSans-33\"/>\r\n    </g>\r\n   </g>\r\n   <g id=\"text_125\">\r\n    <!-- 0.15 -->\r\n    <g style=\"fill:#ffffff;\" transform=\"translate(740.890625 95.298594)scale(0.1 -0.1)\">\r\n     <use xlink:href=\"#DejaVuSans-30\"/>\r\n     <use x=\"63.623047\" xlink:href=\"#DejaVuSans-2e\"/>\r\n     <use x=\"95.410156\" xlink:href=\"#DejaVuSans-31\"/>\r\n     <use x=\"159.033203\" xlink:href=\"#DejaVuSans-35\"/>\r\n    </g>\r\n   </g>\r\n   <g id=\"text_126\">\r\n    <!-- 0.04 -->\r\n    <g style=\"fill:#ffffff;\" transform=\"translate(778.090625 95.298594)scale(0.1 -0.1)\">\r\n     <use xlink:href=\"#DejaVuSans-30\"/>\r\n     <use x=\"63.623047\" xlink:href=\"#DejaVuSans-2e\"/>\r\n     <use x=\"95.410156\" xlink:href=\"#DejaVuSans-30\"/>\r\n     <use x=\"159.033203\" xlink:href=\"#DejaVuSans-34\"/>\r\n    </g>\r\n   </g>\r\n   <g id=\"text_127\">\r\n    <!-- 0.01 -->\r\n    <g style=\"fill:#ffffff;\" transform=\"translate(145.690625 113.418594)scale(0.1 -0.1)\">\r\n     <use xlink:href=\"#DejaVuSans-30\"/>\r\n     <use x=\"63.623047\" xlink:href=\"#DejaVuSans-2e\"/>\r\n     <use x=\"95.410156\" xlink:href=\"#DejaVuSans-30\"/>\r\n     <use x=\"159.033203\" xlink:href=\"#DejaVuSans-31\"/>\r\n    </g>\r\n   </g>\r\n   <g id=\"text_128\">\r\n    <!-- -0.00 -->\r\n    <g style=\"fill:#ffffff;\" transform=\"translate(181.086719 113.418594)scale(0.1 -0.1)\">\r\n     <use xlink:href=\"#DejaVuSans-2d\"/>\r\n     <use x=\"36.083984\" xlink:href=\"#DejaVuSans-30\"/>\r\n     <use x=\"99.707031\" xlink:href=\"#DejaVuSans-2e\"/>\r\n     <use x=\"131.494141\" xlink:href=\"#DejaVuSans-30\"/>\r\n     <use x=\"195.117188\" xlink:href=\"#DejaVuSans-30\"/>\r\n    </g>\r\n   </g>\r\n   <g id=\"text_129\">\r\n    <!-- -0.03 -->\r\n    <g style=\"fill:#ffffff;\" transform=\"translate(218.286719 113.418594)scale(0.1 -0.1)\">\r\n     <use xlink:href=\"#DejaVuSans-2d\"/>\r\n     <use x=\"36.083984\" xlink:href=\"#DejaVuSans-30\"/>\r\n     <use x=\"99.707031\" xlink:href=\"#DejaVuSans-2e\"/>\r\n     <use x=\"131.494141\" xlink:href=\"#DejaVuSans-30\"/>\r\n     <use x=\"195.117188\" xlink:href=\"#DejaVuSans-33\"/>\r\n    </g>\r\n   </g>\r\n   <g id=\"text_130\">\r\n    <!-- -0.00 -->\r\n    <g style=\"fill:#ffffff;\" transform=\"translate(255.486719 113.418594)scale(0.1 -0.1)\">\r\n     <use xlink:href=\"#DejaVuSans-2d\"/>\r\n     <use x=\"36.083984\" xlink:href=\"#DejaVuSans-30\"/>\r\n     <use x=\"99.707031\" xlink:href=\"#DejaVuSans-2e\"/>\r\n     <use x=\"131.494141\" xlink:href=\"#DejaVuSans-30\"/>\r\n     <use x=\"195.117188\" xlink:href=\"#DejaVuSans-30\"/>\r\n    </g>\r\n   </g>\r\n   <g id=\"text_131\">\r\n    <!-- 0.58 -->\r\n    <g style=\"fill:#ffffff;\" transform=\"translate(294.490625 113.418594)scale(0.1 -0.1)\">\r\n     <use xlink:href=\"#DejaVuSans-30\"/>\r\n     <use x=\"63.623047\" xlink:href=\"#DejaVuSans-2e\"/>\r\n     <use x=\"95.410156\" xlink:href=\"#DejaVuSans-35\"/>\r\n     <use x=\"159.033203\" xlink:href=\"#DejaVuSans-38\"/>\r\n    </g>\r\n   </g>\r\n   <g id=\"text_132\">\r\n    <!-- 1.00 -->\r\n    <g style=\"fill:#262626;\" transform=\"translate(331.690625 113.418594)scale(0.1 -0.1)\">\r\n     <use xlink:href=\"#DejaVuSans-31\"/>\r\n     <use x=\"63.623047\" xlink:href=\"#DejaVuSans-2e\"/>\r\n     <use x=\"95.410156\" xlink:href=\"#DejaVuSans-30\"/>\r\n     <use x=\"159.033203\" xlink:href=\"#DejaVuSans-30\"/>\r\n    </g>\r\n   </g>\r\n   <g id=\"text_133\">\r\n    <!-- -0.01 -->\r\n    <g style=\"fill:#ffffff;\" transform=\"translate(367.086719 113.418594)scale(0.1 -0.1)\">\r\n     <use xlink:href=\"#DejaVuSans-2d\"/>\r\n     <use x=\"36.083984\" xlink:href=\"#DejaVuSans-30\"/>\r\n     <use x=\"99.707031\" xlink:href=\"#DejaVuSans-2e\"/>\r\n     <use x=\"131.494141\" xlink:href=\"#DejaVuSans-30\"/>\r\n     <use x=\"195.117188\" xlink:href=\"#DejaVuSans-31\"/>\r\n    </g>\r\n   </g>\r\n   <g id=\"text_134\">\r\n    <!-- -0.00 -->\r\n    <g style=\"fill:#ffffff;\" transform=\"translate(404.286719 113.418594)scale(0.1 -0.1)\">\r\n     <use xlink:href=\"#DejaVuSans-2d\"/>\r\n     <use x=\"36.083984\" xlink:href=\"#DejaVuSans-30\"/>\r\n     <use x=\"99.707031\" xlink:href=\"#DejaVuSans-2e\"/>\r\n     <use x=\"131.494141\" xlink:href=\"#DejaVuSans-30\"/>\r\n     <use x=\"195.117188\" xlink:href=\"#DejaVuSans-30\"/>\r\n    </g>\r\n   </g>\r\n   <g id=\"text_135\">\r\n    <!-- -0.01 -->\r\n    <g style=\"fill:#ffffff;\" transform=\"translate(441.486719 113.418594)scale(0.1 -0.1)\">\r\n     <use xlink:href=\"#DejaVuSans-2d\"/>\r\n     <use x=\"36.083984\" xlink:href=\"#DejaVuSans-30\"/>\r\n     <use x=\"99.707031\" xlink:href=\"#DejaVuSans-2e\"/>\r\n     <use x=\"131.494141\" xlink:href=\"#DejaVuSans-30\"/>\r\n     <use x=\"195.117188\" xlink:href=\"#DejaVuSans-31\"/>\r\n    </g>\r\n   </g>\r\n   <g id=\"text_136\">\r\n    <!-- 0.01 -->\r\n    <g style=\"fill:#ffffff;\" transform=\"translate(480.490625 113.418594)scale(0.1 -0.1)\">\r\n     <use xlink:href=\"#DejaVuSans-30\"/>\r\n     <use x=\"63.623047\" xlink:href=\"#DejaVuSans-2e\"/>\r\n     <use x=\"95.410156\" xlink:href=\"#DejaVuSans-30\"/>\r\n     <use x=\"159.033203\" xlink:href=\"#DejaVuSans-31\"/>\r\n    </g>\r\n   </g>\r\n   <g id=\"text_137\">\r\n    <!-- 0.00 -->\r\n    <g style=\"fill:#ffffff;\" transform=\"translate(517.690625 113.418594)scale(0.1 -0.1)\">\r\n     <use xlink:href=\"#DejaVuSans-30\"/>\r\n     <use x=\"63.623047\" xlink:href=\"#DejaVuSans-2e\"/>\r\n     <use x=\"95.410156\" xlink:href=\"#DejaVuSans-30\"/>\r\n     <use x=\"159.033203\" xlink:href=\"#DejaVuSans-30\"/>\r\n    </g>\r\n   </g>\r\n   <g id=\"text_138\">\r\n    <!-- 0.00 -->\r\n    <g style=\"fill:#ffffff;\" transform=\"translate(554.890625 113.418594)scale(0.1 -0.1)\">\r\n     <use xlink:href=\"#DejaVuSans-30\"/>\r\n     <use x=\"63.623047\" xlink:href=\"#DejaVuSans-2e\"/>\r\n     <use x=\"95.410156\" xlink:href=\"#DejaVuSans-30\"/>\r\n     <use x=\"159.033203\" xlink:href=\"#DejaVuSans-30\"/>\r\n    </g>\r\n   </g>\r\n   <g id=\"text_139\">\r\n    <!-- 0.01 -->\r\n    <g style=\"fill:#ffffff;\" transform=\"translate(592.090625 113.418594)scale(0.1 -0.1)\">\r\n     <use xlink:href=\"#DejaVuSans-30\"/>\r\n     <use x=\"63.623047\" xlink:href=\"#DejaVuSans-2e\"/>\r\n     <use x=\"95.410156\" xlink:href=\"#DejaVuSans-30\"/>\r\n     <use x=\"159.033203\" xlink:href=\"#DejaVuSans-31\"/>\r\n    </g>\r\n   </g>\r\n   <g id=\"text_140\">\r\n    <!-- -0.00 -->\r\n    <g style=\"fill:#ffffff;\" transform=\"translate(627.486719 113.418594)scale(0.1 -0.1)\">\r\n     <use xlink:href=\"#DejaVuSans-2d\"/>\r\n     <use x=\"36.083984\" xlink:href=\"#DejaVuSans-30\"/>\r\n     <use x=\"99.707031\" xlink:href=\"#DejaVuSans-2e\"/>\r\n     <use x=\"131.494141\" xlink:href=\"#DejaVuSans-30\"/>\r\n     <use x=\"195.117188\" xlink:href=\"#DejaVuSans-30\"/>\r\n    </g>\r\n   </g>\r\n   <g id=\"text_141\">\r\n    <!-- 0.00 -->\r\n    <g style=\"fill:#ffffff;\" transform=\"translate(666.490625 113.418594)scale(0.1 -0.1)\">\r\n     <use xlink:href=\"#DejaVuSans-30\"/>\r\n     <use x=\"63.623047\" xlink:href=\"#DejaVuSans-2e\"/>\r\n     <use x=\"95.410156\" xlink:href=\"#DejaVuSans-30\"/>\r\n     <use x=\"159.033203\" xlink:href=\"#DejaVuSans-30\"/>\r\n    </g>\r\n   </g>\r\n   <g id=\"text_142\">\r\n    <!-- -0.01 -->\r\n    <g style=\"fill:#ffffff;\" transform=\"translate(701.886719 113.418594)scale(0.1 -0.1)\">\r\n     <use xlink:href=\"#DejaVuSans-2d\"/>\r\n     <use x=\"36.083984\" xlink:href=\"#DejaVuSans-30\"/>\r\n     <use x=\"99.707031\" xlink:href=\"#DejaVuSans-2e\"/>\r\n     <use x=\"131.494141\" xlink:href=\"#DejaVuSans-30\"/>\r\n     <use x=\"195.117188\" xlink:href=\"#DejaVuSans-31\"/>\r\n    </g>\r\n   </g>\r\n   <g id=\"text_143\">\r\n    <!-- -0.09 -->\r\n    <defs>\r\n     <path d=\"M 10.984375 1.515625 \r\nL 10.984375 10.5 \r\nQ 14.703125 8.734375 18.5 7.8125 \r\nQ 22.3125 6.890625 25.984375 6.890625 \r\nQ 35.75 6.890625 40.890625 13.453125 \r\nQ 46.046875 20.015625 46.78125 33.40625 \r\nQ 43.953125 29.203125 39.59375 26.953125 \r\nQ 35.25 24.703125 29.984375 24.703125 \r\nQ 19.046875 24.703125 12.671875 31.3125 \r\nQ 6.296875 37.9375 6.296875 49.421875 \r\nQ 6.296875 60.640625 12.9375 67.421875 \r\nQ 19.578125 74.21875 30.609375 74.21875 \r\nQ 43.265625 74.21875 49.921875 64.515625 \r\nQ 56.59375 54.828125 56.59375 36.375 \r\nQ 56.59375 19.140625 48.40625 8.859375 \r\nQ 40.234375 -1.421875 26.421875 -1.421875 \r\nQ 22.703125 -1.421875 18.890625 -0.6875 \r\nQ 15.09375 0.046875 10.984375 1.515625 \r\nz\r\nM 30.609375 32.421875 \r\nQ 37.25 32.421875 41.125 36.953125 \r\nQ 45.015625 41.5 45.015625 49.421875 \r\nQ 45.015625 57.28125 41.125 61.84375 \r\nQ 37.25 66.40625 30.609375 66.40625 \r\nQ 23.96875 66.40625 20.09375 61.84375 \r\nQ 16.21875 57.28125 16.21875 49.421875 \r\nQ 16.21875 41.5 20.09375 36.953125 \r\nQ 23.96875 32.421875 30.609375 32.421875 \r\nz\r\n\" id=\"DejaVuSans-39\"/>\r\n    </defs>\r\n    <g style=\"fill:#ffffff;\" transform=\"translate(739.086719 113.418594)scale(0.1 -0.1)\">\r\n     <use xlink:href=\"#DejaVuSans-2d\"/>\r\n     <use x=\"36.083984\" xlink:href=\"#DejaVuSans-30\"/>\r\n     <use x=\"99.707031\" xlink:href=\"#DejaVuSans-2e\"/>\r\n     <use x=\"131.494141\" xlink:href=\"#DejaVuSans-30\"/>\r\n     <use x=\"195.117188\" xlink:href=\"#DejaVuSans-39\"/>\r\n    </g>\r\n   </g>\r\n   <g id=\"text_144\">\r\n    <!-- -0.00 -->\r\n    <g style=\"fill:#ffffff;\" transform=\"translate(776.286719 113.418594)scale(0.1 -0.1)\">\r\n     <use xlink:href=\"#DejaVuSans-2d\"/>\r\n     <use x=\"36.083984\" xlink:href=\"#DejaVuSans-30\"/>\r\n     <use x=\"99.707031\" xlink:href=\"#DejaVuSans-2e\"/>\r\n     <use x=\"131.494141\" xlink:href=\"#DejaVuSans-30\"/>\r\n     <use x=\"195.117188\" xlink:href=\"#DejaVuSans-30\"/>\r\n    </g>\r\n   </g>\r\n   <g id=\"text_145\">\r\n    <!-- 0.03 -->\r\n    <g style=\"fill:#ffffff;\" transform=\"translate(145.690625 131.538594)scale(0.1 -0.1)\">\r\n     <use xlink:href=\"#DejaVuSans-30\"/>\r\n     <use x=\"63.623047\" xlink:href=\"#DejaVuSans-2e\"/>\r\n     <use x=\"95.410156\" xlink:href=\"#DejaVuSans-30\"/>\r\n     <use x=\"159.033203\" xlink:href=\"#DejaVuSans-33\"/>\r\n    </g>\r\n   </g>\r\n   <g id=\"text_146\">\r\n    <!-- 0.01 -->\r\n    <g style=\"fill:#ffffff;\" transform=\"translate(182.890625 131.538594)scale(0.1 -0.1)\">\r\n     <use xlink:href=\"#DejaVuSans-30\"/>\r\n     <use x=\"63.623047\" xlink:href=\"#DejaVuSans-2e\"/>\r\n     <use x=\"95.410156\" xlink:href=\"#DejaVuSans-30\"/>\r\n     <use x=\"159.033203\" xlink:href=\"#DejaVuSans-31\"/>\r\n    </g>\r\n   </g>\r\n   <g id=\"text_147\">\r\n    <!-- 0.00 -->\r\n    <g style=\"fill:#ffffff;\" transform=\"translate(220.090625 131.538594)scale(0.1 -0.1)\">\r\n     <use xlink:href=\"#DejaVuSans-30\"/>\r\n     <use x=\"63.623047\" xlink:href=\"#DejaVuSans-2e\"/>\r\n     <use x=\"95.410156\" xlink:href=\"#DejaVuSans-30\"/>\r\n     <use x=\"159.033203\" xlink:href=\"#DejaVuSans-30\"/>\r\n    </g>\r\n   </g>\r\n   <g id=\"text_148\">\r\n    <!-- 0.04 -->\r\n    <g style=\"fill:#ffffff;\" transform=\"translate(257.290625 131.538594)scale(0.1 -0.1)\">\r\n     <use xlink:href=\"#DejaVuSans-30\"/>\r\n     <use x=\"63.623047\" xlink:href=\"#DejaVuSans-2e\"/>\r\n     <use x=\"95.410156\" xlink:href=\"#DejaVuSans-30\"/>\r\n     <use x=\"159.033203\" xlink:href=\"#DejaVuSans-34\"/>\r\n    </g>\r\n   </g>\r\n   <g id=\"text_149\">\r\n    <!-- -0.01 -->\r\n    <g style=\"fill:#ffffff;\" transform=\"translate(292.686719 131.538594)scale(0.1 -0.1)\">\r\n     <use xlink:href=\"#DejaVuSans-2d\"/>\r\n     <use x=\"36.083984\" xlink:href=\"#DejaVuSans-30\"/>\r\n     <use x=\"99.707031\" xlink:href=\"#DejaVuSans-2e\"/>\r\n     <use x=\"131.494141\" xlink:href=\"#DejaVuSans-30\"/>\r\n     <use x=\"195.117188\" xlink:href=\"#DejaVuSans-31\"/>\r\n    </g>\r\n   </g>\r\n   <g id=\"text_150\">\r\n    <!-- -0.01 -->\r\n    <g style=\"fill:#ffffff;\" transform=\"translate(329.886719 131.538594)scale(0.1 -0.1)\">\r\n     <use xlink:href=\"#DejaVuSans-2d\"/>\r\n     <use x=\"36.083984\" xlink:href=\"#DejaVuSans-30\"/>\r\n     <use x=\"99.707031\" xlink:href=\"#DejaVuSans-2e\"/>\r\n     <use x=\"131.494141\" xlink:href=\"#DejaVuSans-30\"/>\r\n     <use x=\"195.117188\" xlink:href=\"#DejaVuSans-31\"/>\r\n    </g>\r\n   </g>\r\n   <g id=\"text_151\">\r\n    <!-- 1.00 -->\r\n    <g style=\"fill:#262626;\" transform=\"translate(368.890625 131.538594)scale(0.1 -0.1)\">\r\n     <use xlink:href=\"#DejaVuSans-31\"/>\r\n     <use x=\"63.623047\" xlink:href=\"#DejaVuSans-2e\"/>\r\n     <use x=\"95.410156\" xlink:href=\"#DejaVuSans-30\"/>\r\n     <use x=\"159.033203\" xlink:href=\"#DejaVuSans-30\"/>\r\n    </g>\r\n   </g>\r\n   <g id=\"text_152\">\r\n    <!-- 0.05 -->\r\n    <g style=\"fill:#ffffff;\" transform=\"translate(406.090625 131.538594)scale(0.1 -0.1)\">\r\n     <use xlink:href=\"#DejaVuSans-30\"/>\r\n     <use x=\"63.623047\" xlink:href=\"#DejaVuSans-2e\"/>\r\n     <use x=\"95.410156\" xlink:href=\"#DejaVuSans-30\"/>\r\n     <use x=\"159.033203\" xlink:href=\"#DejaVuSans-35\"/>\r\n    </g>\r\n   </g>\r\n   <g id=\"text_153\">\r\n    <!-- 0.03 -->\r\n    <g style=\"fill:#ffffff;\" transform=\"translate(443.290625 131.538594)scale(0.1 -0.1)\">\r\n     <use xlink:href=\"#DejaVuSans-30\"/>\r\n     <use x=\"63.623047\" xlink:href=\"#DejaVuSans-2e\"/>\r\n     <use x=\"95.410156\" xlink:href=\"#DejaVuSans-30\"/>\r\n     <use x=\"159.033203\" xlink:href=\"#DejaVuSans-33\"/>\r\n    </g>\r\n   </g>\r\n   <g id=\"text_154\">\r\n    <!-- -0.01 -->\r\n    <g style=\"fill:#ffffff;\" transform=\"translate(478.686719 131.538594)scale(0.1 -0.1)\">\r\n     <use xlink:href=\"#DejaVuSans-2d\"/>\r\n     <use x=\"36.083984\" xlink:href=\"#DejaVuSans-30\"/>\r\n     <use x=\"99.707031\" xlink:href=\"#DejaVuSans-2e\"/>\r\n     <use x=\"131.494141\" xlink:href=\"#DejaVuSans-30\"/>\r\n     <use x=\"195.117188\" xlink:href=\"#DejaVuSans-31\"/>\r\n    </g>\r\n   </g>\r\n   <g id=\"text_155\">\r\n    <!-- 0.00 -->\r\n    <g style=\"fill:#ffffff;\" transform=\"translate(517.690625 131.538594)scale(0.1 -0.1)\">\r\n     <use xlink:href=\"#DejaVuSans-30\"/>\r\n     <use x=\"63.623047\" xlink:href=\"#DejaVuSans-2e\"/>\r\n     <use x=\"95.410156\" xlink:href=\"#DejaVuSans-30\"/>\r\n     <use x=\"159.033203\" xlink:href=\"#DejaVuSans-30\"/>\r\n    </g>\r\n   </g>\r\n   <g id=\"text_156\">\r\n    <!-- 0.04 -->\r\n    <g style=\"fill:#ffffff;\" transform=\"translate(554.890625 131.538594)scale(0.1 -0.1)\">\r\n     <use xlink:href=\"#DejaVuSans-30\"/>\r\n     <use x=\"63.623047\" xlink:href=\"#DejaVuSans-2e\"/>\r\n     <use x=\"95.410156\" xlink:href=\"#DejaVuSans-30\"/>\r\n     <use x=\"159.033203\" xlink:href=\"#DejaVuSans-34\"/>\r\n    </g>\r\n   </g>\r\n   <g id=\"text_157\">\r\n    <!-- 0.01 -->\r\n    <g style=\"fill:#ffffff;\" transform=\"translate(592.090625 131.538594)scale(0.1 -0.1)\">\r\n     <use xlink:href=\"#DejaVuSans-30\"/>\r\n     <use x=\"63.623047\" xlink:href=\"#DejaVuSans-2e\"/>\r\n     <use x=\"95.410156\" xlink:href=\"#DejaVuSans-30\"/>\r\n     <use x=\"159.033203\" xlink:href=\"#DejaVuSans-31\"/>\r\n    </g>\r\n   </g>\r\n   <g id=\"text_158\">\r\n    <!-- 0.03 -->\r\n    <g style=\"fill:#ffffff;\" transform=\"translate(629.290625 131.538594)scale(0.1 -0.1)\">\r\n     <use xlink:href=\"#DejaVuSans-30\"/>\r\n     <use x=\"63.623047\" xlink:href=\"#DejaVuSans-2e\"/>\r\n     <use x=\"95.410156\" xlink:href=\"#DejaVuSans-30\"/>\r\n     <use x=\"159.033203\" xlink:href=\"#DejaVuSans-33\"/>\r\n    </g>\r\n   </g>\r\n   <g id=\"text_159\">\r\n    <!-- 0.05 -->\r\n    <g style=\"fill:#ffffff;\" transform=\"translate(666.490625 131.538594)scale(0.1 -0.1)\">\r\n     <use xlink:href=\"#DejaVuSans-30\"/>\r\n     <use x=\"63.623047\" xlink:href=\"#DejaVuSans-2e\"/>\r\n     <use x=\"95.410156\" xlink:href=\"#DejaVuSans-30\"/>\r\n     <use x=\"159.033203\" xlink:href=\"#DejaVuSans-35\"/>\r\n    </g>\r\n   </g>\r\n   <g id=\"text_160\">\r\n    <!-- -0.02 -->\r\n    <g style=\"fill:#ffffff;\" transform=\"translate(701.886719 131.538594)scale(0.1 -0.1)\">\r\n     <use xlink:href=\"#DejaVuSans-2d\"/>\r\n     <use x=\"36.083984\" xlink:href=\"#DejaVuSans-30\"/>\r\n     <use x=\"99.707031\" xlink:href=\"#DejaVuSans-2e\"/>\r\n     <use x=\"131.494141\" xlink:href=\"#DejaVuSans-30\"/>\r\n     <use x=\"195.117188\" xlink:href=\"#DejaVuSans-32\"/>\r\n    </g>\r\n   </g>\r\n   <g id=\"text_161\">\r\n    <!-- 0.04 -->\r\n    <g style=\"fill:#ffffff;\" transform=\"translate(740.890625 131.538594)scale(0.1 -0.1)\">\r\n     <use xlink:href=\"#DejaVuSans-30\"/>\r\n     <use x=\"63.623047\" xlink:href=\"#DejaVuSans-2e\"/>\r\n     <use x=\"95.410156\" xlink:href=\"#DejaVuSans-30\"/>\r\n     <use x=\"159.033203\" xlink:href=\"#DejaVuSans-34\"/>\r\n    </g>\r\n   </g>\r\n   <g id=\"text_162\">\r\n    <!-- -0.01 -->\r\n    <g style=\"fill:#ffffff;\" transform=\"translate(776.286719 131.538594)scale(0.1 -0.1)\">\r\n     <use xlink:href=\"#DejaVuSans-2d\"/>\r\n     <use x=\"36.083984\" xlink:href=\"#DejaVuSans-30\"/>\r\n     <use x=\"99.707031\" xlink:href=\"#DejaVuSans-2e\"/>\r\n     <use x=\"131.494141\" xlink:href=\"#DejaVuSans-30\"/>\r\n     <use x=\"195.117188\" xlink:href=\"#DejaVuSans-31\"/>\r\n    </g>\r\n   </g>\r\n   <g id=\"text_163\">\r\n    <!-- 0.02 -->\r\n    <g style=\"fill:#ffffff;\" transform=\"translate(145.690625 149.658594)scale(0.1 -0.1)\">\r\n     <use xlink:href=\"#DejaVuSans-30\"/>\r\n     <use x=\"63.623047\" xlink:href=\"#DejaVuSans-2e\"/>\r\n     <use x=\"95.410156\" xlink:href=\"#DejaVuSans-30\"/>\r\n     <use x=\"159.033203\" xlink:href=\"#DejaVuSans-32\"/>\r\n    </g>\r\n   </g>\r\n   <g id=\"text_164\">\r\n    <!-- -0.01 -->\r\n    <g style=\"fill:#ffffff;\" transform=\"translate(181.086719 149.658594)scale(0.1 -0.1)\">\r\n     <use xlink:href=\"#DejaVuSans-2d\"/>\r\n     <use x=\"36.083984\" xlink:href=\"#DejaVuSans-30\"/>\r\n     <use x=\"99.707031\" xlink:href=\"#DejaVuSans-2e\"/>\r\n     <use x=\"131.494141\" xlink:href=\"#DejaVuSans-30\"/>\r\n     <use x=\"195.117188\" xlink:href=\"#DejaVuSans-31\"/>\r\n    </g>\r\n   </g>\r\n   <g id=\"text_165\">\r\n    <!-- -0.00 -->\r\n    <g style=\"fill:#ffffff;\" transform=\"translate(218.286719 149.658594)scale(0.1 -0.1)\">\r\n     <use xlink:href=\"#DejaVuSans-2d\"/>\r\n     <use x=\"36.083984\" xlink:href=\"#DejaVuSans-30\"/>\r\n     <use x=\"99.707031\" xlink:href=\"#DejaVuSans-2e\"/>\r\n     <use x=\"131.494141\" xlink:href=\"#DejaVuSans-30\"/>\r\n     <use x=\"195.117188\" xlink:href=\"#DejaVuSans-30\"/>\r\n    </g>\r\n   </g>\r\n   <g id=\"text_166\">\r\n    <!-- 0.01 -->\r\n    <g style=\"fill:#ffffff;\" transform=\"translate(257.290625 149.658594)scale(0.1 -0.1)\">\r\n     <use xlink:href=\"#DejaVuSans-30\"/>\r\n     <use x=\"63.623047\" xlink:href=\"#DejaVuSans-2e\"/>\r\n     <use x=\"95.410156\" xlink:href=\"#DejaVuSans-30\"/>\r\n     <use x=\"159.033203\" xlink:href=\"#DejaVuSans-31\"/>\r\n    </g>\r\n   </g>\r\n   <g id=\"text_167\">\r\n    <!-- 0.03 -->\r\n    <g style=\"fill:#ffffff;\" transform=\"translate(294.490625 149.658594)scale(0.1 -0.1)\">\r\n     <use xlink:href=\"#DejaVuSans-30\"/>\r\n     <use x=\"63.623047\" xlink:href=\"#DejaVuSans-2e\"/>\r\n     <use x=\"95.410156\" xlink:href=\"#DejaVuSans-30\"/>\r\n     <use x=\"159.033203\" xlink:href=\"#DejaVuSans-33\"/>\r\n    </g>\r\n   </g>\r\n   <g id=\"text_168\">\r\n    <!-- -0.00 -->\r\n    <g style=\"fill:#ffffff;\" transform=\"translate(329.886719 149.658594)scale(0.1 -0.1)\">\r\n     <use xlink:href=\"#DejaVuSans-2d\"/>\r\n     <use x=\"36.083984\" xlink:href=\"#DejaVuSans-30\"/>\r\n     <use x=\"99.707031\" xlink:href=\"#DejaVuSans-2e\"/>\r\n     <use x=\"131.494141\" xlink:href=\"#DejaVuSans-30\"/>\r\n     <use x=\"195.117188\" xlink:href=\"#DejaVuSans-30\"/>\r\n    </g>\r\n   </g>\r\n   <g id=\"text_169\">\r\n    <!-- 0.05 -->\r\n    <g style=\"fill:#ffffff;\" transform=\"translate(368.890625 149.658594)scale(0.1 -0.1)\">\r\n     <use xlink:href=\"#DejaVuSans-30\"/>\r\n     <use x=\"63.623047\" xlink:href=\"#DejaVuSans-2e\"/>\r\n     <use x=\"95.410156\" xlink:href=\"#DejaVuSans-30\"/>\r\n     <use x=\"159.033203\" xlink:href=\"#DejaVuSans-35\"/>\r\n    </g>\r\n   </g>\r\n   <g id=\"text_170\">\r\n    <!-- 1.00 -->\r\n    <g style=\"fill:#262626;\" transform=\"translate(406.090625 149.658594)scale(0.1 -0.1)\">\r\n     <use xlink:href=\"#DejaVuSans-31\"/>\r\n     <use x=\"63.623047\" xlink:href=\"#DejaVuSans-2e\"/>\r\n     <use x=\"95.410156\" xlink:href=\"#DejaVuSans-30\"/>\r\n     <use x=\"159.033203\" xlink:href=\"#DejaVuSans-30\"/>\r\n    </g>\r\n   </g>\r\n   <g id=\"text_171\">\r\n    <!-- 0.08 -->\r\n    <g style=\"fill:#ffffff;\" transform=\"translate(443.290625 149.658594)scale(0.1 -0.1)\">\r\n     <use xlink:href=\"#DejaVuSans-30\"/>\r\n     <use x=\"63.623047\" xlink:href=\"#DejaVuSans-2e\"/>\r\n     <use x=\"95.410156\" xlink:href=\"#DejaVuSans-30\"/>\r\n     <use x=\"159.033203\" xlink:href=\"#DejaVuSans-38\"/>\r\n    </g>\r\n   </g>\r\n   <g id=\"text_172\">\r\n    <!-- 0.06 -->\r\n    <defs>\r\n     <path d=\"M 33.015625 40.375 \r\nQ 26.375 40.375 22.484375 35.828125 \r\nQ 18.609375 31.296875 18.609375 23.390625 \r\nQ 18.609375 15.53125 22.484375 10.953125 \r\nQ 26.375 6.390625 33.015625 6.390625 \r\nQ 39.65625 6.390625 43.53125 10.953125 \r\nQ 47.40625 15.53125 47.40625 23.390625 \r\nQ 47.40625 31.296875 43.53125 35.828125 \r\nQ 39.65625 40.375 33.015625 40.375 \r\nz\r\nM 52.59375 71.296875 \r\nL 52.59375 62.3125 \r\nQ 48.875 64.0625 45.09375 64.984375 \r\nQ 41.3125 65.921875 37.59375 65.921875 \r\nQ 27.828125 65.921875 22.671875 59.328125 \r\nQ 17.53125 52.734375 16.796875 39.40625 \r\nQ 19.671875 43.65625 24.015625 45.921875 \r\nQ 28.375 48.1875 33.59375 48.1875 \r\nQ 44.578125 48.1875 50.953125 41.515625 \r\nQ 57.328125 34.859375 57.328125 23.390625 \r\nQ 57.328125 12.15625 50.6875 5.359375 \r\nQ 44.046875 -1.421875 33.015625 -1.421875 \r\nQ 20.359375 -1.421875 13.671875 8.265625 \r\nQ 6.984375 17.96875 6.984375 36.375 \r\nQ 6.984375 53.65625 15.1875 63.9375 \r\nQ 23.390625 74.21875 37.203125 74.21875 \r\nQ 40.921875 74.21875 44.703125 73.484375 \r\nQ 48.484375 72.75 52.59375 71.296875 \r\nz\r\n\" id=\"DejaVuSans-36\"/>\r\n    </defs>\r\n    <g style=\"fill:#ffffff;\" transform=\"translate(480.490625 149.658594)scale(0.1 -0.1)\">\r\n     <use xlink:href=\"#DejaVuSans-30\"/>\r\n     <use x=\"63.623047\" xlink:href=\"#DejaVuSans-2e\"/>\r\n     <use x=\"95.410156\" xlink:href=\"#DejaVuSans-30\"/>\r\n     <use x=\"159.033203\" xlink:href=\"#DejaVuSans-36\"/>\r\n    </g>\r\n   </g>\r\n   <g id=\"text_173\">\r\n    <!-- 0.09 -->\r\n    <g style=\"fill:#ffffff;\" transform=\"translate(517.690625 149.658594)scale(0.1 -0.1)\">\r\n     <use xlink:href=\"#DejaVuSans-30\"/>\r\n     <use x=\"63.623047\" xlink:href=\"#DejaVuSans-2e\"/>\r\n     <use x=\"95.410156\" xlink:href=\"#DejaVuSans-30\"/>\r\n     <use x=\"159.033203\" xlink:href=\"#DejaVuSans-39\"/>\r\n    </g>\r\n   </g>\r\n   <g id=\"text_174\">\r\n    <!-- 0.06 -->\r\n    <g style=\"fill:#ffffff;\" transform=\"translate(554.890625 149.658594)scale(0.1 -0.1)\">\r\n     <use xlink:href=\"#DejaVuSans-30\"/>\r\n     <use x=\"63.623047\" xlink:href=\"#DejaVuSans-2e\"/>\r\n     <use x=\"95.410156\" xlink:href=\"#DejaVuSans-30\"/>\r\n     <use x=\"159.033203\" xlink:href=\"#DejaVuSans-36\"/>\r\n    </g>\r\n   </g>\r\n   <g id=\"text_175\">\r\n    <!-- 0.05 -->\r\n    <g style=\"fill:#ffffff;\" transform=\"translate(592.090625 149.658594)scale(0.1 -0.1)\">\r\n     <use xlink:href=\"#DejaVuSans-30\"/>\r\n     <use x=\"63.623047\" xlink:href=\"#DejaVuSans-2e\"/>\r\n     <use x=\"95.410156\" xlink:href=\"#DejaVuSans-30\"/>\r\n     <use x=\"159.033203\" xlink:href=\"#DejaVuSans-35\"/>\r\n    </g>\r\n   </g>\r\n   <g id=\"text_176\">\r\n    <!-- 0.04 -->\r\n    <g style=\"fill:#ffffff;\" transform=\"translate(629.290625 149.658594)scale(0.1 -0.1)\">\r\n     <use xlink:href=\"#DejaVuSans-30\"/>\r\n     <use x=\"63.623047\" xlink:href=\"#DejaVuSans-2e\"/>\r\n     <use x=\"95.410156\" xlink:href=\"#DejaVuSans-30\"/>\r\n     <use x=\"159.033203\" xlink:href=\"#DejaVuSans-34\"/>\r\n    </g>\r\n   </g>\r\n   <g id=\"text_177\">\r\n    <!-- 0.90 -->\r\n    <g style=\"fill:#262626;\" transform=\"translate(666.490625 149.658594)scale(0.1 -0.1)\">\r\n     <use xlink:href=\"#DejaVuSans-30\"/>\r\n     <use x=\"63.623047\" xlink:href=\"#DejaVuSans-2e\"/>\r\n     <use x=\"95.410156\" xlink:href=\"#DejaVuSans-39\"/>\r\n     <use x=\"159.033203\" xlink:href=\"#DejaVuSans-30\"/>\r\n    </g>\r\n   </g>\r\n   <g id=\"text_178\">\r\n    <!-- -0.02 -->\r\n    <g style=\"fill:#ffffff;\" transform=\"translate(701.886719 149.658594)scale(0.1 -0.1)\">\r\n     <use xlink:href=\"#DejaVuSans-2d\"/>\r\n     <use x=\"36.083984\" xlink:href=\"#DejaVuSans-30\"/>\r\n     <use x=\"99.707031\" xlink:href=\"#DejaVuSans-2e\"/>\r\n     <use x=\"131.494141\" xlink:href=\"#DejaVuSans-30\"/>\r\n     <use x=\"195.117188\" xlink:href=\"#DejaVuSans-32\"/>\r\n    </g>\r\n   </g>\r\n   <g id=\"text_179\">\r\n    <!-- 0.23 -->\r\n    <g style=\"fill:#ffffff;\" transform=\"translate(740.890625 149.658594)scale(0.1 -0.1)\">\r\n     <use xlink:href=\"#DejaVuSans-30\"/>\r\n     <use x=\"63.623047\" xlink:href=\"#DejaVuSans-2e\"/>\r\n     <use x=\"95.410156\" xlink:href=\"#DejaVuSans-32\"/>\r\n     <use x=\"159.033203\" xlink:href=\"#DejaVuSans-33\"/>\r\n    </g>\r\n   </g>\r\n   <g id=\"text_180\">\r\n    <!-- -0.01 -->\r\n    <g style=\"fill:#ffffff;\" transform=\"translate(776.286719 149.658594)scale(0.1 -0.1)\">\r\n     <use xlink:href=\"#DejaVuSans-2d\"/>\r\n     <use x=\"36.083984\" xlink:href=\"#DejaVuSans-30\"/>\r\n     <use x=\"99.707031\" xlink:href=\"#DejaVuSans-2e\"/>\r\n     <use x=\"131.494141\" xlink:href=\"#DejaVuSans-30\"/>\r\n     <use x=\"195.117188\" xlink:href=\"#DejaVuSans-31\"/>\r\n    </g>\r\n   </g>\r\n   <g id=\"text_181\">\r\n    <!-- -0.03 -->\r\n    <g style=\"fill:#ffffff;\" transform=\"translate(143.886719 167.778594)scale(0.1 -0.1)\">\r\n     <use xlink:href=\"#DejaVuSans-2d\"/>\r\n     <use x=\"36.083984\" xlink:href=\"#DejaVuSans-30\"/>\r\n     <use x=\"99.707031\" xlink:href=\"#DejaVuSans-2e\"/>\r\n     <use x=\"131.494141\" xlink:href=\"#DejaVuSans-30\"/>\r\n     <use x=\"195.117188\" xlink:href=\"#DejaVuSans-33\"/>\r\n    </g>\r\n   </g>\r\n   <g id=\"text_182\">\r\n    <!-- 0.02 -->\r\n    <g style=\"fill:#ffffff;\" transform=\"translate(182.890625 167.778594)scale(0.1 -0.1)\">\r\n     <use xlink:href=\"#DejaVuSans-30\"/>\r\n     <use x=\"63.623047\" xlink:href=\"#DejaVuSans-2e\"/>\r\n     <use x=\"95.410156\" xlink:href=\"#DejaVuSans-30\"/>\r\n     <use x=\"159.033203\" xlink:href=\"#DejaVuSans-32\"/>\r\n    </g>\r\n   </g>\r\n   <g id=\"text_183\">\r\n    <!-- -0.01 -->\r\n    <g style=\"fill:#ffffff;\" transform=\"translate(218.286719 167.778594)scale(0.1 -0.1)\">\r\n     <use xlink:href=\"#DejaVuSans-2d\"/>\r\n     <use x=\"36.083984\" xlink:href=\"#DejaVuSans-30\"/>\r\n     <use x=\"99.707031\" xlink:href=\"#DejaVuSans-2e\"/>\r\n     <use x=\"131.494141\" xlink:href=\"#DejaVuSans-30\"/>\r\n     <use x=\"195.117188\" xlink:href=\"#DejaVuSans-31\"/>\r\n    </g>\r\n   </g>\r\n   <g id=\"text_184\">\r\n    <!-- 0.02 -->\r\n    <g style=\"fill:#ffffff;\" transform=\"translate(257.290625 167.778594)scale(0.1 -0.1)\">\r\n     <use xlink:href=\"#DejaVuSans-30\"/>\r\n     <use x=\"63.623047\" xlink:href=\"#DejaVuSans-2e\"/>\r\n     <use x=\"95.410156\" xlink:href=\"#DejaVuSans-30\"/>\r\n     <use x=\"159.033203\" xlink:href=\"#DejaVuSans-32\"/>\r\n    </g>\r\n   </g>\r\n   <g id=\"text_185\">\r\n    <!-- -0.00 -->\r\n    <g style=\"fill:#ffffff;\" transform=\"translate(292.686719 167.778594)scale(0.1 -0.1)\">\r\n     <use xlink:href=\"#DejaVuSans-2d\"/>\r\n     <use x=\"36.083984\" xlink:href=\"#DejaVuSans-30\"/>\r\n     <use x=\"99.707031\" xlink:href=\"#DejaVuSans-2e\"/>\r\n     <use x=\"131.494141\" xlink:href=\"#DejaVuSans-30\"/>\r\n     <use x=\"195.117188\" xlink:href=\"#DejaVuSans-30\"/>\r\n    </g>\r\n   </g>\r\n   <g id=\"text_186\">\r\n    <!-- -0.01 -->\r\n    <g style=\"fill:#ffffff;\" transform=\"translate(329.886719 167.778594)scale(0.1 -0.1)\">\r\n     <use xlink:href=\"#DejaVuSans-2d\"/>\r\n     <use x=\"36.083984\" xlink:href=\"#DejaVuSans-30\"/>\r\n     <use x=\"99.707031\" xlink:href=\"#DejaVuSans-2e\"/>\r\n     <use x=\"131.494141\" xlink:href=\"#DejaVuSans-30\"/>\r\n     <use x=\"195.117188\" xlink:href=\"#DejaVuSans-31\"/>\r\n    </g>\r\n   </g>\r\n   <g id=\"text_187\">\r\n    <!-- 0.03 -->\r\n    <g style=\"fill:#ffffff;\" transform=\"translate(368.890625 167.778594)scale(0.1 -0.1)\">\r\n     <use xlink:href=\"#DejaVuSans-30\"/>\r\n     <use x=\"63.623047\" xlink:href=\"#DejaVuSans-2e\"/>\r\n     <use x=\"95.410156\" xlink:href=\"#DejaVuSans-30\"/>\r\n     <use x=\"159.033203\" xlink:href=\"#DejaVuSans-33\"/>\r\n    </g>\r\n   </g>\r\n   <g id=\"text_188\">\r\n    <!-- 0.08 -->\r\n    <g style=\"fill:#ffffff;\" transform=\"translate(406.090625 167.778594)scale(0.1 -0.1)\">\r\n     <use xlink:href=\"#DejaVuSans-30\"/>\r\n     <use x=\"63.623047\" xlink:href=\"#DejaVuSans-2e\"/>\r\n     <use x=\"95.410156\" xlink:href=\"#DejaVuSans-30\"/>\r\n     <use x=\"159.033203\" xlink:href=\"#DejaVuSans-38\"/>\r\n    </g>\r\n   </g>\r\n   <g id=\"text_189\">\r\n    <!-- 1.00 -->\r\n    <g style=\"fill:#262626;\" transform=\"translate(443.290625 167.778594)scale(0.1 -0.1)\">\r\n     <use xlink:href=\"#DejaVuSans-31\"/>\r\n     <use x=\"63.623047\" xlink:href=\"#DejaVuSans-2e\"/>\r\n     <use x=\"95.410156\" xlink:href=\"#DejaVuSans-30\"/>\r\n     <use x=\"159.033203\" xlink:href=\"#DejaVuSans-30\"/>\r\n    </g>\r\n   </g>\r\n   <g id=\"text_190\">\r\n    <!-- 0.02 -->\r\n    <g style=\"fill:#ffffff;\" transform=\"translate(480.490625 167.778594)scale(0.1 -0.1)\">\r\n     <use xlink:href=\"#DejaVuSans-30\"/>\r\n     <use x=\"63.623047\" xlink:href=\"#DejaVuSans-2e\"/>\r\n     <use x=\"95.410156\" xlink:href=\"#DejaVuSans-30\"/>\r\n     <use x=\"159.033203\" xlink:href=\"#DejaVuSans-32\"/>\r\n    </g>\r\n   </g>\r\n   <g id=\"text_191\">\r\n    <!-- 0.04 -->\r\n    <g style=\"fill:#ffffff;\" transform=\"translate(517.690625 167.778594)scale(0.1 -0.1)\">\r\n     <use xlink:href=\"#DejaVuSans-30\"/>\r\n     <use x=\"63.623047\" xlink:href=\"#DejaVuSans-2e\"/>\r\n     <use x=\"95.410156\" xlink:href=\"#DejaVuSans-30\"/>\r\n     <use x=\"159.033203\" xlink:href=\"#DejaVuSans-34\"/>\r\n    </g>\r\n   </g>\r\n   <g id=\"text_192\">\r\n    <!-- 0.03 -->\r\n    <g style=\"fill:#ffffff;\" transform=\"translate(554.890625 167.778594)scale(0.1 -0.1)\">\r\n     <use xlink:href=\"#DejaVuSans-30\"/>\r\n     <use x=\"63.623047\" xlink:href=\"#DejaVuSans-2e\"/>\r\n     <use x=\"95.410156\" xlink:href=\"#DejaVuSans-30\"/>\r\n     <use x=\"159.033203\" xlink:href=\"#DejaVuSans-33\"/>\r\n    </g>\r\n   </g>\r\n   <g id=\"text_193\">\r\n    <!-- 0.04 -->\r\n    <g style=\"fill:#ffffff;\" transform=\"translate(592.090625 167.778594)scale(0.1 -0.1)\">\r\n     <use xlink:href=\"#DejaVuSans-30\"/>\r\n     <use x=\"63.623047\" xlink:href=\"#DejaVuSans-2e\"/>\r\n     <use x=\"95.410156\" xlink:href=\"#DejaVuSans-30\"/>\r\n     <use x=\"159.033203\" xlink:href=\"#DejaVuSans-34\"/>\r\n    </g>\r\n   </g>\r\n   <g id=\"text_194\">\r\n    <!-- 0.03 -->\r\n    <g style=\"fill:#ffffff;\" transform=\"translate(629.290625 167.778594)scale(0.1 -0.1)\">\r\n     <use xlink:href=\"#DejaVuSans-30\"/>\r\n     <use x=\"63.623047\" xlink:href=\"#DejaVuSans-2e\"/>\r\n     <use x=\"95.410156\" xlink:href=\"#DejaVuSans-30\"/>\r\n     <use x=\"159.033203\" xlink:href=\"#DejaVuSans-33\"/>\r\n    </g>\r\n   </g>\r\n   <g id=\"text_195\">\r\n    <!-- 0.08 -->\r\n    <g style=\"fill:#ffffff;\" transform=\"translate(666.490625 167.778594)scale(0.1 -0.1)\">\r\n     <use xlink:href=\"#DejaVuSans-30\"/>\r\n     <use x=\"63.623047\" xlink:href=\"#DejaVuSans-2e\"/>\r\n     <use x=\"95.410156\" xlink:href=\"#DejaVuSans-30\"/>\r\n     <use x=\"159.033203\" xlink:href=\"#DejaVuSans-38\"/>\r\n    </g>\r\n   </g>\r\n   <g id=\"text_196\">\r\n    <!-- -0.00 -->\r\n    <g style=\"fill:#ffffff;\" transform=\"translate(701.886719 167.778594)scale(0.1 -0.1)\">\r\n     <use xlink:href=\"#DejaVuSans-2d\"/>\r\n     <use x=\"36.083984\" xlink:href=\"#DejaVuSans-30\"/>\r\n     <use x=\"99.707031\" xlink:href=\"#DejaVuSans-2e\"/>\r\n     <use x=\"131.494141\" xlink:href=\"#DejaVuSans-30\"/>\r\n     <use x=\"195.117188\" xlink:href=\"#DejaVuSans-30\"/>\r\n    </g>\r\n   </g>\r\n   <g id=\"text_197\">\r\n    <!-- 0.04 -->\r\n    <g style=\"fill:#ffffff;\" transform=\"translate(740.890625 167.778594)scale(0.1 -0.1)\">\r\n     <use xlink:href=\"#DejaVuSans-30\"/>\r\n     <use x=\"63.623047\" xlink:href=\"#DejaVuSans-2e\"/>\r\n     <use x=\"95.410156\" xlink:href=\"#DejaVuSans-30\"/>\r\n     <use x=\"159.033203\" xlink:href=\"#DejaVuSans-34\"/>\r\n    </g>\r\n   </g>\r\n   <g id=\"text_198\">\r\n    <!-- -0.01 -->\r\n    <g style=\"fill:#ffffff;\" transform=\"translate(776.286719 167.778594)scale(0.1 -0.1)\">\r\n     <use xlink:href=\"#DejaVuSans-2d\"/>\r\n     <use x=\"36.083984\" xlink:href=\"#DejaVuSans-30\"/>\r\n     <use x=\"99.707031\" xlink:href=\"#DejaVuSans-2e\"/>\r\n     <use x=\"131.494141\" xlink:href=\"#DejaVuSans-30\"/>\r\n     <use x=\"195.117188\" xlink:href=\"#DejaVuSans-31\"/>\r\n    </g>\r\n   </g>\r\n   <g id=\"text_199\">\r\n    <!-- 0.00 -->\r\n    <g style=\"fill:#ffffff;\" transform=\"translate(145.690625 185.898594)scale(0.1 -0.1)\">\r\n     <use xlink:href=\"#DejaVuSans-30\"/>\r\n     <use x=\"63.623047\" xlink:href=\"#DejaVuSans-2e\"/>\r\n     <use x=\"95.410156\" xlink:href=\"#DejaVuSans-30\"/>\r\n     <use x=\"159.033203\" xlink:href=\"#DejaVuSans-30\"/>\r\n    </g>\r\n   </g>\r\n   <g id=\"text_200\">\r\n    <!-- -0.01 -->\r\n    <g style=\"fill:#ffffff;\" transform=\"translate(181.086719 185.898594)scale(0.1 -0.1)\">\r\n     <use xlink:href=\"#DejaVuSans-2d\"/>\r\n     <use x=\"36.083984\" xlink:href=\"#DejaVuSans-30\"/>\r\n     <use x=\"99.707031\" xlink:href=\"#DejaVuSans-2e\"/>\r\n     <use x=\"131.494141\" xlink:href=\"#DejaVuSans-30\"/>\r\n     <use x=\"195.117188\" xlink:href=\"#DejaVuSans-31\"/>\r\n    </g>\r\n   </g>\r\n   <g id=\"text_201\">\r\n    <!-- 0.02 -->\r\n    <g style=\"fill:#ffffff;\" transform=\"translate(220.090625 185.898594)scale(0.1 -0.1)\">\r\n     <use xlink:href=\"#DejaVuSans-30\"/>\r\n     <use x=\"63.623047\" xlink:href=\"#DejaVuSans-2e\"/>\r\n     <use x=\"95.410156\" xlink:href=\"#DejaVuSans-30\"/>\r\n     <use x=\"159.033203\" xlink:href=\"#DejaVuSans-32\"/>\r\n    </g>\r\n   </g>\r\n   <g id=\"text_202\">\r\n    <!-- -0.00 -->\r\n    <g style=\"fill:#ffffff;\" transform=\"translate(255.486719 185.898594)scale(0.1 -0.1)\">\r\n     <use xlink:href=\"#DejaVuSans-2d\"/>\r\n     <use x=\"36.083984\" xlink:href=\"#DejaVuSans-30\"/>\r\n     <use x=\"99.707031\" xlink:href=\"#DejaVuSans-2e\"/>\r\n     <use x=\"131.494141\" xlink:href=\"#DejaVuSans-30\"/>\r\n     <use x=\"195.117188\" xlink:href=\"#DejaVuSans-30\"/>\r\n    </g>\r\n   </g>\r\n   <g id=\"text_203\">\r\n    <!-- 0.03 -->\r\n    <g style=\"fill:#ffffff;\" transform=\"translate(294.490625 185.898594)scale(0.1 -0.1)\">\r\n     <use xlink:href=\"#DejaVuSans-30\"/>\r\n     <use x=\"63.623047\" xlink:href=\"#DejaVuSans-2e\"/>\r\n     <use x=\"95.410156\" xlink:href=\"#DejaVuSans-30\"/>\r\n     <use x=\"159.033203\" xlink:href=\"#DejaVuSans-33\"/>\r\n    </g>\r\n   </g>\r\n   <g id=\"text_204\">\r\n    <!-- 0.01 -->\r\n    <g style=\"fill:#ffffff;\" transform=\"translate(331.690625 185.898594)scale(0.1 -0.1)\">\r\n     <use xlink:href=\"#DejaVuSans-30\"/>\r\n     <use x=\"63.623047\" xlink:href=\"#DejaVuSans-2e\"/>\r\n     <use x=\"95.410156\" xlink:href=\"#DejaVuSans-30\"/>\r\n     <use x=\"159.033203\" xlink:href=\"#DejaVuSans-31\"/>\r\n    </g>\r\n   </g>\r\n   <g id=\"text_205\">\r\n    <!-- -0.01 -->\r\n    <g style=\"fill:#ffffff;\" transform=\"translate(367.086719 185.898594)scale(0.1 -0.1)\">\r\n     <use xlink:href=\"#DejaVuSans-2d\"/>\r\n     <use x=\"36.083984\" xlink:href=\"#DejaVuSans-30\"/>\r\n     <use x=\"99.707031\" xlink:href=\"#DejaVuSans-2e\"/>\r\n     <use x=\"131.494141\" xlink:href=\"#DejaVuSans-30\"/>\r\n     <use x=\"195.117188\" xlink:href=\"#DejaVuSans-31\"/>\r\n    </g>\r\n   </g>\r\n   <g id=\"text_206\">\r\n    <!-- 0.06 -->\r\n    <g style=\"fill:#ffffff;\" transform=\"translate(406.090625 185.898594)scale(0.1 -0.1)\">\r\n     <use xlink:href=\"#DejaVuSans-30\"/>\r\n     <use x=\"63.623047\" xlink:href=\"#DejaVuSans-2e\"/>\r\n     <use x=\"95.410156\" xlink:href=\"#DejaVuSans-30\"/>\r\n     <use x=\"159.033203\" xlink:href=\"#DejaVuSans-36\"/>\r\n    </g>\r\n   </g>\r\n   <g id=\"text_207\">\r\n    <!-- 0.02 -->\r\n    <g style=\"fill:#ffffff;\" transform=\"translate(443.290625 185.898594)scale(0.1 -0.1)\">\r\n     <use xlink:href=\"#DejaVuSans-30\"/>\r\n     <use x=\"63.623047\" xlink:href=\"#DejaVuSans-2e\"/>\r\n     <use x=\"95.410156\" xlink:href=\"#DejaVuSans-30\"/>\r\n     <use x=\"159.033203\" xlink:href=\"#DejaVuSans-32\"/>\r\n    </g>\r\n   </g>\r\n   <g id=\"text_208\">\r\n    <!-- 1.00 -->\r\n    <g style=\"fill:#262626;\" transform=\"translate(480.490625 185.898594)scale(0.1 -0.1)\">\r\n     <use xlink:href=\"#DejaVuSans-31\"/>\r\n     <use x=\"63.623047\" xlink:href=\"#DejaVuSans-2e\"/>\r\n     <use x=\"95.410156\" xlink:href=\"#DejaVuSans-30\"/>\r\n     <use x=\"159.033203\" xlink:href=\"#DejaVuSans-30\"/>\r\n    </g>\r\n   </g>\r\n   <g id=\"text_209\">\r\n    <!-- 0.04 -->\r\n    <g style=\"fill:#ffffff;\" transform=\"translate(517.690625 185.898594)scale(0.1 -0.1)\">\r\n     <use xlink:href=\"#DejaVuSans-30\"/>\r\n     <use x=\"63.623047\" xlink:href=\"#DejaVuSans-2e\"/>\r\n     <use x=\"95.410156\" xlink:href=\"#DejaVuSans-30\"/>\r\n     <use x=\"159.033203\" xlink:href=\"#DejaVuSans-34\"/>\r\n    </g>\r\n   </g>\r\n   <g id=\"text_210\">\r\n    <!-- 0.01 -->\r\n    <g style=\"fill:#ffffff;\" transform=\"translate(554.890625 185.898594)scale(0.1 -0.1)\">\r\n     <use xlink:href=\"#DejaVuSans-30\"/>\r\n     <use x=\"63.623047\" xlink:href=\"#DejaVuSans-2e\"/>\r\n     <use x=\"95.410156\" xlink:href=\"#DejaVuSans-30\"/>\r\n     <use x=\"159.033203\" xlink:href=\"#DejaVuSans-31\"/>\r\n    </g>\r\n   </g>\r\n   <g id=\"text_211\">\r\n    <!-- 0.02 -->\r\n    <g style=\"fill:#ffffff;\" transform=\"translate(592.090625 185.898594)scale(0.1 -0.1)\">\r\n     <use xlink:href=\"#DejaVuSans-30\"/>\r\n     <use x=\"63.623047\" xlink:href=\"#DejaVuSans-2e\"/>\r\n     <use x=\"95.410156\" xlink:href=\"#DejaVuSans-30\"/>\r\n     <use x=\"159.033203\" xlink:href=\"#DejaVuSans-32\"/>\r\n    </g>\r\n   </g>\r\n   <g id=\"text_212\">\r\n    <!-- 0.01 -->\r\n    <g style=\"fill:#ffffff;\" transform=\"translate(629.290625 185.898594)scale(0.1 -0.1)\">\r\n     <use xlink:href=\"#DejaVuSans-30\"/>\r\n     <use x=\"63.623047\" xlink:href=\"#DejaVuSans-2e\"/>\r\n     <use x=\"95.410156\" xlink:href=\"#DejaVuSans-30\"/>\r\n     <use x=\"159.033203\" xlink:href=\"#DejaVuSans-31\"/>\r\n    </g>\r\n   </g>\r\n   <g id=\"text_213\">\r\n    <!-- 0.44 -->\r\n    <g style=\"fill:#ffffff;\" transform=\"translate(666.490625 185.898594)scale(0.1 -0.1)\">\r\n     <use xlink:href=\"#DejaVuSans-30\"/>\r\n     <use x=\"63.623047\" xlink:href=\"#DejaVuSans-2e\"/>\r\n     <use x=\"95.410156\" xlink:href=\"#DejaVuSans-34\"/>\r\n     <use x=\"159.033203\" xlink:href=\"#DejaVuSans-34\"/>\r\n    </g>\r\n   </g>\r\n   <g id=\"text_214\">\r\n    <!-- -0.01 -->\r\n    <g style=\"fill:#ffffff;\" transform=\"translate(701.886719 185.898594)scale(0.1 -0.1)\">\r\n     <use xlink:href=\"#DejaVuSans-2d\"/>\r\n     <use x=\"36.083984\" xlink:href=\"#DejaVuSans-30\"/>\r\n     <use x=\"99.707031\" xlink:href=\"#DejaVuSans-2e\"/>\r\n     <use x=\"131.494141\" xlink:href=\"#DejaVuSans-30\"/>\r\n     <use x=\"195.117188\" xlink:href=\"#DejaVuSans-31\"/>\r\n    </g>\r\n   </g>\r\n   <g id=\"text_215\">\r\n    <!-- 0.11 -->\r\n    <g style=\"fill:#ffffff;\" transform=\"translate(740.890625 185.898594)scale(0.1 -0.1)\">\r\n     <use xlink:href=\"#DejaVuSans-30\"/>\r\n     <use x=\"63.623047\" xlink:href=\"#DejaVuSans-2e\"/>\r\n     <use x=\"95.410156\" xlink:href=\"#DejaVuSans-31\"/>\r\n     <use x=\"159.033203\" xlink:href=\"#DejaVuSans-31\"/>\r\n    </g>\r\n   </g>\r\n   <g id=\"text_216\">\r\n    <!-- 0.00 -->\r\n    <g style=\"fill:#ffffff;\" transform=\"translate(778.090625 185.898594)scale(0.1 -0.1)\">\r\n     <use xlink:href=\"#DejaVuSans-30\"/>\r\n     <use x=\"63.623047\" xlink:href=\"#DejaVuSans-2e\"/>\r\n     <use x=\"95.410156\" xlink:href=\"#DejaVuSans-30\"/>\r\n     <use x=\"159.033203\" xlink:href=\"#DejaVuSans-30\"/>\r\n    </g>\r\n   </g>\r\n   <g id=\"text_217\">\r\n    <!-- -0.01 -->\r\n    <g style=\"fill:#ffffff;\" transform=\"translate(143.886719 204.018594)scale(0.1 -0.1)\">\r\n     <use xlink:href=\"#DejaVuSans-2d\"/>\r\n     <use x=\"36.083984\" xlink:href=\"#DejaVuSans-30\"/>\r\n     <use x=\"99.707031\" xlink:href=\"#DejaVuSans-2e\"/>\r\n     <use x=\"131.494141\" xlink:href=\"#DejaVuSans-30\"/>\r\n     <use x=\"195.117188\" xlink:href=\"#DejaVuSans-31\"/>\r\n    </g>\r\n   </g>\r\n   <g id=\"text_218\">\r\n    <!-- 0.01 -->\r\n    <g style=\"fill:#ffffff;\" transform=\"translate(182.890625 204.018594)scale(0.1 -0.1)\">\r\n     <use xlink:href=\"#DejaVuSans-30\"/>\r\n     <use x=\"63.623047\" xlink:href=\"#DejaVuSans-2e\"/>\r\n     <use x=\"95.410156\" xlink:href=\"#DejaVuSans-30\"/>\r\n     <use x=\"159.033203\" xlink:href=\"#DejaVuSans-31\"/>\r\n    </g>\r\n   </g>\r\n   <g id=\"text_219\">\r\n    <!-- 0.01 -->\r\n    <g style=\"fill:#ffffff;\" transform=\"translate(220.090625 204.018594)scale(0.1 -0.1)\">\r\n     <use xlink:href=\"#DejaVuSans-30\"/>\r\n     <use x=\"63.623047\" xlink:href=\"#DejaVuSans-2e\"/>\r\n     <use x=\"95.410156\" xlink:href=\"#DejaVuSans-30\"/>\r\n     <use x=\"159.033203\" xlink:href=\"#DejaVuSans-31\"/>\r\n    </g>\r\n   </g>\r\n   <g id=\"text_220\">\r\n    <!-- -0.01 -->\r\n    <g style=\"fill:#ffffff;\" transform=\"translate(255.486719 204.018594)scale(0.1 -0.1)\">\r\n     <use xlink:href=\"#DejaVuSans-2d\"/>\r\n     <use x=\"36.083984\" xlink:href=\"#DejaVuSans-30\"/>\r\n     <use x=\"99.707031\" xlink:href=\"#DejaVuSans-2e\"/>\r\n     <use x=\"131.494141\" xlink:href=\"#DejaVuSans-30\"/>\r\n     <use x=\"195.117188\" xlink:href=\"#DejaVuSans-31\"/>\r\n    </g>\r\n   </g>\r\n   <g id=\"text_221\">\r\n    <!-- 0.02 -->\r\n    <g style=\"fill:#ffffff;\" transform=\"translate(294.490625 204.018594)scale(0.1 -0.1)\">\r\n     <use xlink:href=\"#DejaVuSans-30\"/>\r\n     <use x=\"63.623047\" xlink:href=\"#DejaVuSans-2e\"/>\r\n     <use x=\"95.410156\" xlink:href=\"#DejaVuSans-30\"/>\r\n     <use x=\"159.033203\" xlink:href=\"#DejaVuSans-32\"/>\r\n    </g>\r\n   </g>\r\n   <g id=\"text_222\">\r\n    <!-- 0.00 -->\r\n    <g style=\"fill:#ffffff;\" transform=\"translate(331.690625 204.018594)scale(0.1 -0.1)\">\r\n     <use xlink:href=\"#DejaVuSans-30\"/>\r\n     <use x=\"63.623047\" xlink:href=\"#DejaVuSans-2e\"/>\r\n     <use x=\"95.410156\" xlink:href=\"#DejaVuSans-30\"/>\r\n     <use x=\"159.033203\" xlink:href=\"#DejaVuSans-30\"/>\r\n    </g>\r\n   </g>\r\n   <g id=\"text_223\">\r\n    <!-- 0.00 -->\r\n    <g style=\"fill:#ffffff;\" transform=\"translate(368.890625 204.018594)scale(0.1 -0.1)\">\r\n     <use xlink:href=\"#DejaVuSans-30\"/>\r\n     <use x=\"63.623047\" xlink:href=\"#DejaVuSans-2e\"/>\r\n     <use x=\"95.410156\" xlink:href=\"#DejaVuSans-30\"/>\r\n     <use x=\"159.033203\" xlink:href=\"#DejaVuSans-30\"/>\r\n    </g>\r\n   </g>\r\n   <g id=\"text_224\">\r\n    <!-- 0.09 -->\r\n    <g style=\"fill:#ffffff;\" transform=\"translate(406.090625 204.018594)scale(0.1 -0.1)\">\r\n     <use xlink:href=\"#DejaVuSans-30\"/>\r\n     <use x=\"63.623047\" xlink:href=\"#DejaVuSans-2e\"/>\r\n     <use x=\"95.410156\" xlink:href=\"#DejaVuSans-30\"/>\r\n     <use x=\"159.033203\" xlink:href=\"#DejaVuSans-39\"/>\r\n    </g>\r\n   </g>\r\n   <g id=\"text_225\">\r\n    <!-- 0.04 -->\r\n    <g style=\"fill:#ffffff;\" transform=\"translate(443.290625 204.018594)scale(0.1 -0.1)\">\r\n     <use xlink:href=\"#DejaVuSans-30\"/>\r\n     <use x=\"63.623047\" xlink:href=\"#DejaVuSans-2e\"/>\r\n     <use x=\"95.410156\" xlink:href=\"#DejaVuSans-30\"/>\r\n     <use x=\"159.033203\" xlink:href=\"#DejaVuSans-34\"/>\r\n    </g>\r\n   </g>\r\n   <g id=\"text_226\">\r\n    <!-- 0.04 -->\r\n    <g style=\"fill:#ffffff;\" transform=\"translate(480.490625 204.018594)scale(0.1 -0.1)\">\r\n     <use xlink:href=\"#DejaVuSans-30\"/>\r\n     <use x=\"63.623047\" xlink:href=\"#DejaVuSans-2e\"/>\r\n     <use x=\"95.410156\" xlink:href=\"#DejaVuSans-30\"/>\r\n     <use x=\"159.033203\" xlink:href=\"#DejaVuSans-34\"/>\r\n    </g>\r\n   </g>\r\n   <g id=\"text_227\">\r\n    <!-- 1.00 -->\r\n    <g style=\"fill:#262626;\" transform=\"translate(517.690625 204.018594)scale(0.1 -0.1)\">\r\n     <use xlink:href=\"#DejaVuSans-31\"/>\r\n     <use x=\"63.623047\" xlink:href=\"#DejaVuSans-2e\"/>\r\n     <use x=\"95.410156\" xlink:href=\"#DejaVuSans-30\"/>\r\n     <use x=\"159.033203\" xlink:href=\"#DejaVuSans-30\"/>\r\n    </g>\r\n   </g>\r\n   <g id=\"text_228\">\r\n    <!-- 0.04 -->\r\n    <g style=\"fill:#ffffff;\" transform=\"translate(554.890625 204.018594)scale(0.1 -0.1)\">\r\n     <use xlink:href=\"#DejaVuSans-30\"/>\r\n     <use x=\"63.623047\" xlink:href=\"#DejaVuSans-2e\"/>\r\n     <use x=\"95.410156\" xlink:href=\"#DejaVuSans-30\"/>\r\n     <use x=\"159.033203\" xlink:href=\"#DejaVuSans-34\"/>\r\n    </g>\r\n   </g>\r\n   <g id=\"text_229\">\r\n    <!-- 0.02 -->\r\n    <g style=\"fill:#ffffff;\" transform=\"translate(592.090625 204.018594)scale(0.1 -0.1)\">\r\n     <use xlink:href=\"#DejaVuSans-30\"/>\r\n     <use x=\"63.623047\" xlink:href=\"#DejaVuSans-2e\"/>\r\n     <use x=\"95.410156\" xlink:href=\"#DejaVuSans-30\"/>\r\n     <use x=\"159.033203\" xlink:href=\"#DejaVuSans-32\"/>\r\n    </g>\r\n   </g>\r\n   <g id=\"text_230\">\r\n    <!-- 0.01 -->\r\n    <g style=\"fill:#ffffff;\" transform=\"translate(629.290625 204.018594)scale(0.1 -0.1)\">\r\n     <use xlink:href=\"#DejaVuSans-30\"/>\r\n     <use x=\"63.623047\" xlink:href=\"#DejaVuSans-2e\"/>\r\n     <use x=\"95.410156\" xlink:href=\"#DejaVuSans-30\"/>\r\n     <use x=\"159.033203\" xlink:href=\"#DejaVuSans-31\"/>\r\n    </g>\r\n   </g>\r\n   <g id=\"text_231\">\r\n    <!-- 0.10 -->\r\n    <g style=\"fill:#ffffff;\" transform=\"translate(666.490625 204.018594)scale(0.1 -0.1)\">\r\n     <use xlink:href=\"#DejaVuSans-30\"/>\r\n     <use x=\"63.623047\" xlink:href=\"#DejaVuSans-2e\"/>\r\n     <use x=\"95.410156\" xlink:href=\"#DejaVuSans-31\"/>\r\n     <use x=\"159.033203\" xlink:href=\"#DejaVuSans-30\"/>\r\n    </g>\r\n   </g>\r\n   <g id=\"text_232\">\r\n    <!-- -0.01 -->\r\n    <g style=\"fill:#ffffff;\" transform=\"translate(701.886719 204.018594)scale(0.1 -0.1)\">\r\n     <use xlink:href=\"#DejaVuSans-2d\"/>\r\n     <use x=\"36.083984\" xlink:href=\"#DejaVuSans-30\"/>\r\n     <use x=\"99.707031\" xlink:href=\"#DejaVuSans-2e\"/>\r\n     <use x=\"131.494141\" xlink:href=\"#DejaVuSans-30\"/>\r\n     <use x=\"195.117188\" xlink:href=\"#DejaVuSans-31\"/>\r\n    </g>\r\n   </g>\r\n   <g id=\"text_233\">\r\n    <!-- 0.04 -->\r\n    <g style=\"fill:#ffffff;\" transform=\"translate(740.890625 204.018594)scale(0.1 -0.1)\">\r\n     <use xlink:href=\"#DejaVuSans-30\"/>\r\n     <use x=\"63.623047\" xlink:href=\"#DejaVuSans-2e\"/>\r\n     <use x=\"95.410156\" xlink:href=\"#DejaVuSans-30\"/>\r\n     <use x=\"159.033203\" xlink:href=\"#DejaVuSans-34\"/>\r\n    </g>\r\n   </g>\r\n   <g id=\"text_234\">\r\n    <!-- 0.02 -->\r\n    <g style=\"fill:#ffffff;\" transform=\"translate(778.090625 204.018594)scale(0.1 -0.1)\">\r\n     <use xlink:href=\"#DejaVuSans-30\"/>\r\n     <use x=\"63.623047\" xlink:href=\"#DejaVuSans-2e\"/>\r\n     <use x=\"95.410156\" xlink:href=\"#DejaVuSans-30\"/>\r\n     <use x=\"159.033203\" xlink:href=\"#DejaVuSans-32\"/>\r\n    </g>\r\n   </g>\r\n   <g id=\"text_235\">\r\n    <!-- 0.00 -->\r\n    <g style=\"fill:#ffffff;\" transform=\"translate(145.690625 222.138594)scale(0.1 -0.1)\">\r\n     <use xlink:href=\"#DejaVuSans-30\"/>\r\n     <use x=\"63.623047\" xlink:href=\"#DejaVuSans-2e\"/>\r\n     <use x=\"95.410156\" xlink:href=\"#DejaVuSans-30\"/>\r\n     <use x=\"159.033203\" xlink:href=\"#DejaVuSans-30\"/>\r\n    </g>\r\n   </g>\r\n   <g id=\"text_236\">\r\n    <!-- -0.02 -->\r\n    <g style=\"fill:#ffffff;\" transform=\"translate(181.086719 222.138594)scale(0.1 -0.1)\">\r\n     <use xlink:href=\"#DejaVuSans-2d\"/>\r\n     <use x=\"36.083984\" xlink:href=\"#DejaVuSans-30\"/>\r\n     <use x=\"99.707031\" xlink:href=\"#DejaVuSans-2e\"/>\r\n     <use x=\"131.494141\" xlink:href=\"#DejaVuSans-30\"/>\r\n     <use x=\"195.117188\" xlink:href=\"#DejaVuSans-32\"/>\r\n    </g>\r\n   </g>\r\n   <g id=\"text_237\">\r\n    <!-- 0.03 -->\r\n    <g style=\"fill:#ffffff;\" transform=\"translate(220.090625 222.138594)scale(0.1 -0.1)\">\r\n     <use xlink:href=\"#DejaVuSans-30\"/>\r\n     <use x=\"63.623047\" xlink:href=\"#DejaVuSans-2e\"/>\r\n     <use x=\"95.410156\" xlink:href=\"#DejaVuSans-30\"/>\r\n     <use x=\"159.033203\" xlink:href=\"#DejaVuSans-33\"/>\r\n    </g>\r\n   </g>\r\n   <g id=\"text_238\">\r\n    <!-- -0.01 -->\r\n    <g style=\"fill:#ffffff;\" transform=\"translate(255.486719 222.138594)scale(0.1 -0.1)\">\r\n     <use xlink:href=\"#DejaVuSans-2d\"/>\r\n     <use x=\"36.083984\" xlink:href=\"#DejaVuSans-30\"/>\r\n     <use x=\"99.707031\" xlink:href=\"#DejaVuSans-2e\"/>\r\n     <use x=\"131.494141\" xlink:href=\"#DejaVuSans-30\"/>\r\n     <use x=\"195.117188\" xlink:href=\"#DejaVuSans-31\"/>\r\n    </g>\r\n   </g>\r\n   <g id=\"text_239\">\r\n    <!-- -0.02 -->\r\n    <g style=\"fill:#ffffff;\" transform=\"translate(292.686719 222.138594)scale(0.1 -0.1)\">\r\n     <use xlink:href=\"#DejaVuSans-2d\"/>\r\n     <use x=\"36.083984\" xlink:href=\"#DejaVuSans-30\"/>\r\n     <use x=\"99.707031\" xlink:href=\"#DejaVuSans-2e\"/>\r\n     <use x=\"131.494141\" xlink:href=\"#DejaVuSans-30\"/>\r\n     <use x=\"195.117188\" xlink:href=\"#DejaVuSans-32\"/>\r\n    </g>\r\n   </g>\r\n   <g id=\"text_240\">\r\n    <!-- 0.00 -->\r\n    <g style=\"fill:#ffffff;\" transform=\"translate(331.690625 222.138594)scale(0.1 -0.1)\">\r\n     <use xlink:href=\"#DejaVuSans-30\"/>\r\n     <use x=\"63.623047\" xlink:href=\"#DejaVuSans-2e\"/>\r\n     <use x=\"95.410156\" xlink:href=\"#DejaVuSans-30\"/>\r\n     <use x=\"159.033203\" xlink:href=\"#DejaVuSans-30\"/>\r\n    </g>\r\n   </g>\r\n   <g id=\"text_241\">\r\n    <!-- 0.04 -->\r\n    <g style=\"fill:#ffffff;\" transform=\"translate(368.890625 222.138594)scale(0.1 -0.1)\">\r\n     <use xlink:href=\"#DejaVuSans-30\"/>\r\n     <use x=\"63.623047\" xlink:href=\"#DejaVuSans-2e\"/>\r\n     <use x=\"95.410156\" xlink:href=\"#DejaVuSans-30\"/>\r\n     <use x=\"159.033203\" xlink:href=\"#DejaVuSans-34\"/>\r\n    </g>\r\n   </g>\r\n   <g id=\"text_242\">\r\n    <!-- 0.06 -->\r\n    <g style=\"fill:#ffffff;\" transform=\"translate(406.090625 222.138594)scale(0.1 -0.1)\">\r\n     <use xlink:href=\"#DejaVuSans-30\"/>\r\n     <use x=\"63.623047\" xlink:href=\"#DejaVuSans-2e\"/>\r\n     <use x=\"95.410156\" xlink:href=\"#DejaVuSans-30\"/>\r\n     <use x=\"159.033203\" xlink:href=\"#DejaVuSans-36\"/>\r\n    </g>\r\n   </g>\r\n   <g id=\"text_243\">\r\n    <!-- 0.03 -->\r\n    <g style=\"fill:#ffffff;\" transform=\"translate(443.290625 222.138594)scale(0.1 -0.1)\">\r\n     <use xlink:href=\"#DejaVuSans-30\"/>\r\n     <use x=\"63.623047\" xlink:href=\"#DejaVuSans-2e\"/>\r\n     <use x=\"95.410156\" xlink:href=\"#DejaVuSans-30\"/>\r\n     <use x=\"159.033203\" xlink:href=\"#DejaVuSans-33\"/>\r\n    </g>\r\n   </g>\r\n   <g id=\"text_244\">\r\n    <!-- 0.01 -->\r\n    <g style=\"fill:#ffffff;\" transform=\"translate(480.490625 222.138594)scale(0.1 -0.1)\">\r\n     <use xlink:href=\"#DejaVuSans-30\"/>\r\n     <use x=\"63.623047\" xlink:href=\"#DejaVuSans-2e\"/>\r\n     <use x=\"95.410156\" xlink:href=\"#DejaVuSans-30\"/>\r\n     <use x=\"159.033203\" xlink:href=\"#DejaVuSans-31\"/>\r\n    </g>\r\n   </g>\r\n   <g id=\"text_245\">\r\n    <!-- 0.04 -->\r\n    <g style=\"fill:#ffffff;\" transform=\"translate(517.690625 222.138594)scale(0.1 -0.1)\">\r\n     <use xlink:href=\"#DejaVuSans-30\"/>\r\n     <use x=\"63.623047\" xlink:href=\"#DejaVuSans-2e\"/>\r\n     <use x=\"95.410156\" xlink:href=\"#DejaVuSans-30\"/>\r\n     <use x=\"159.033203\" xlink:href=\"#DejaVuSans-34\"/>\r\n    </g>\r\n   </g>\r\n   <g id=\"text_246\">\r\n    <!-- 1.00 -->\r\n    <g style=\"fill:#262626;\" transform=\"translate(554.890625 222.138594)scale(0.1 -0.1)\">\r\n     <use xlink:href=\"#DejaVuSans-31\"/>\r\n     <use x=\"63.623047\" xlink:href=\"#DejaVuSans-2e\"/>\r\n     <use x=\"95.410156\" xlink:href=\"#DejaVuSans-30\"/>\r\n     <use x=\"159.033203\" xlink:href=\"#DejaVuSans-30\"/>\r\n    </g>\r\n   </g>\r\n   <g id=\"text_247\">\r\n    <!-- 0.01 -->\r\n    <g style=\"fill:#ffffff;\" transform=\"translate(592.090625 222.138594)scale(0.1 -0.1)\">\r\n     <use xlink:href=\"#DejaVuSans-30\"/>\r\n     <use x=\"63.623047\" xlink:href=\"#DejaVuSans-2e\"/>\r\n     <use x=\"95.410156\" xlink:href=\"#DejaVuSans-30\"/>\r\n     <use x=\"159.033203\" xlink:href=\"#DejaVuSans-31\"/>\r\n    </g>\r\n   </g>\r\n   <g id=\"text_248\">\r\n    <!-- 0.01 -->\r\n    <g style=\"fill:#ffffff;\" transform=\"translate(629.290625 222.138594)scale(0.1 -0.1)\">\r\n     <use xlink:href=\"#DejaVuSans-30\"/>\r\n     <use x=\"63.623047\" xlink:href=\"#DejaVuSans-2e\"/>\r\n     <use x=\"95.410156\" xlink:href=\"#DejaVuSans-30\"/>\r\n     <use x=\"159.033203\" xlink:href=\"#DejaVuSans-31\"/>\r\n    </g>\r\n   </g>\r\n   <g id=\"text_249\">\r\n    <!-- 0.26 -->\r\n    <g style=\"fill:#ffffff;\" transform=\"translate(666.490625 222.138594)scale(0.1 -0.1)\">\r\n     <use xlink:href=\"#DejaVuSans-30\"/>\r\n     <use x=\"63.623047\" xlink:href=\"#DejaVuSans-2e\"/>\r\n     <use x=\"95.410156\" xlink:href=\"#DejaVuSans-32\"/>\r\n     <use x=\"159.033203\" xlink:href=\"#DejaVuSans-36\"/>\r\n    </g>\r\n   </g>\r\n   <g id=\"text_250\">\r\n    <!-- -0.01 -->\r\n    <g style=\"fill:#ffffff;\" transform=\"translate(701.886719 222.138594)scale(0.1 -0.1)\">\r\n     <use xlink:href=\"#DejaVuSans-2d\"/>\r\n     <use x=\"36.083984\" xlink:href=\"#DejaVuSans-30\"/>\r\n     <use x=\"99.707031\" xlink:href=\"#DejaVuSans-2e\"/>\r\n     <use x=\"131.494141\" xlink:href=\"#DejaVuSans-30\"/>\r\n     <use x=\"195.117188\" xlink:href=\"#DejaVuSans-31\"/>\r\n    </g>\r\n   </g>\r\n   <g id=\"text_251\">\r\n    <!-- 0.06 -->\r\n    <g style=\"fill:#ffffff;\" transform=\"translate(740.890625 222.138594)scale(0.1 -0.1)\">\r\n     <use xlink:href=\"#DejaVuSans-30\"/>\r\n     <use x=\"63.623047\" xlink:href=\"#DejaVuSans-2e\"/>\r\n     <use x=\"95.410156\" xlink:href=\"#DejaVuSans-30\"/>\r\n     <use x=\"159.033203\" xlink:href=\"#DejaVuSans-36\"/>\r\n    </g>\r\n   </g>\r\n   <g id=\"text_252\">\r\n    <!-- -0.00 -->\r\n    <g style=\"fill:#ffffff;\" transform=\"translate(776.286719 222.138594)scale(0.1 -0.1)\">\r\n     <use xlink:href=\"#DejaVuSans-2d\"/>\r\n     <use x=\"36.083984\" xlink:href=\"#DejaVuSans-30\"/>\r\n     <use x=\"99.707031\" xlink:href=\"#DejaVuSans-2e\"/>\r\n     <use x=\"131.494141\" xlink:href=\"#DejaVuSans-30\"/>\r\n     <use x=\"195.117188\" xlink:href=\"#DejaVuSans-30\"/>\r\n    </g>\r\n   </g>\r\n   <g id=\"text_253\">\r\n    <!-- -0.01 -->\r\n    <g style=\"fill:#ffffff;\" transform=\"translate(143.886719 240.258594)scale(0.1 -0.1)\">\r\n     <use xlink:href=\"#DejaVuSans-2d\"/>\r\n     <use x=\"36.083984\" xlink:href=\"#DejaVuSans-30\"/>\r\n     <use x=\"99.707031\" xlink:href=\"#DejaVuSans-2e\"/>\r\n     <use x=\"131.494141\" xlink:href=\"#DejaVuSans-30\"/>\r\n     <use x=\"195.117188\" xlink:href=\"#DejaVuSans-31\"/>\r\n    </g>\r\n   </g>\r\n   <g id=\"text_254\">\r\n    <!-- -0.04 -->\r\n    <g style=\"fill:#ffffff;\" transform=\"translate(181.086719 240.258594)scale(0.1 -0.1)\">\r\n     <use xlink:href=\"#DejaVuSans-2d\"/>\r\n     <use x=\"36.083984\" xlink:href=\"#DejaVuSans-30\"/>\r\n     <use x=\"99.707031\" xlink:href=\"#DejaVuSans-2e\"/>\r\n     <use x=\"131.494141\" xlink:href=\"#DejaVuSans-30\"/>\r\n     <use x=\"195.117188\" xlink:href=\"#DejaVuSans-34\"/>\r\n    </g>\r\n   </g>\r\n   <g id=\"text_255\">\r\n    <!-- 0.02 -->\r\n    <g style=\"fill:#ffffff;\" transform=\"translate(220.090625 240.258594)scale(0.1 -0.1)\">\r\n     <use xlink:href=\"#DejaVuSans-30\"/>\r\n     <use x=\"63.623047\" xlink:href=\"#DejaVuSans-2e\"/>\r\n     <use x=\"95.410156\" xlink:href=\"#DejaVuSans-30\"/>\r\n     <use x=\"159.033203\" xlink:href=\"#DejaVuSans-32\"/>\r\n    </g>\r\n   </g>\r\n   <g id=\"text_256\">\r\n    <!-- 0.02 -->\r\n    <g style=\"fill:#ffffff;\" transform=\"translate(257.290625 240.258594)scale(0.1 -0.1)\">\r\n     <use xlink:href=\"#DejaVuSans-30\"/>\r\n     <use x=\"63.623047\" xlink:href=\"#DejaVuSans-2e\"/>\r\n     <use x=\"95.410156\" xlink:href=\"#DejaVuSans-30\"/>\r\n     <use x=\"159.033203\" xlink:href=\"#DejaVuSans-32\"/>\r\n    </g>\r\n   </g>\r\n   <g id=\"text_257\">\r\n    <!-- 0.02 -->\r\n    <g style=\"fill:#ffffff;\" transform=\"translate(294.490625 240.258594)scale(0.1 -0.1)\">\r\n     <use xlink:href=\"#DejaVuSans-30\"/>\r\n     <use x=\"63.623047\" xlink:href=\"#DejaVuSans-2e\"/>\r\n     <use x=\"95.410156\" xlink:href=\"#DejaVuSans-30\"/>\r\n     <use x=\"159.033203\" xlink:href=\"#DejaVuSans-32\"/>\r\n    </g>\r\n   </g>\r\n   <g id=\"text_258\">\r\n    <!-- 0.01 -->\r\n    <g style=\"fill:#ffffff;\" transform=\"translate(331.690625 240.258594)scale(0.1 -0.1)\">\r\n     <use xlink:href=\"#DejaVuSans-30\"/>\r\n     <use x=\"63.623047\" xlink:href=\"#DejaVuSans-2e\"/>\r\n     <use x=\"95.410156\" xlink:href=\"#DejaVuSans-30\"/>\r\n     <use x=\"159.033203\" xlink:href=\"#DejaVuSans-31\"/>\r\n    </g>\r\n   </g>\r\n   <g id=\"text_259\">\r\n    <!-- 0.01 -->\r\n    <g style=\"fill:#ffffff;\" transform=\"translate(368.890625 240.258594)scale(0.1 -0.1)\">\r\n     <use xlink:href=\"#DejaVuSans-30\"/>\r\n     <use x=\"63.623047\" xlink:href=\"#DejaVuSans-2e\"/>\r\n     <use x=\"95.410156\" xlink:href=\"#DejaVuSans-30\"/>\r\n     <use x=\"159.033203\" xlink:href=\"#DejaVuSans-31\"/>\r\n    </g>\r\n   </g>\r\n   <g id=\"text_260\">\r\n    <!-- 0.05 -->\r\n    <g style=\"fill:#ffffff;\" transform=\"translate(406.090625 240.258594)scale(0.1 -0.1)\">\r\n     <use xlink:href=\"#DejaVuSans-30\"/>\r\n     <use x=\"63.623047\" xlink:href=\"#DejaVuSans-2e\"/>\r\n     <use x=\"95.410156\" xlink:href=\"#DejaVuSans-30\"/>\r\n     <use x=\"159.033203\" xlink:href=\"#DejaVuSans-35\"/>\r\n    </g>\r\n   </g>\r\n   <g id=\"text_261\">\r\n    <!-- 0.04 -->\r\n    <g style=\"fill:#ffffff;\" transform=\"translate(443.290625 240.258594)scale(0.1 -0.1)\">\r\n     <use xlink:href=\"#DejaVuSans-30\"/>\r\n     <use x=\"63.623047\" xlink:href=\"#DejaVuSans-2e\"/>\r\n     <use x=\"95.410156\" xlink:href=\"#DejaVuSans-30\"/>\r\n     <use x=\"159.033203\" xlink:href=\"#DejaVuSans-34\"/>\r\n    </g>\r\n   </g>\r\n   <g id=\"text_262\">\r\n    <!-- 0.02 -->\r\n    <g style=\"fill:#ffffff;\" transform=\"translate(480.490625 240.258594)scale(0.1 -0.1)\">\r\n     <use xlink:href=\"#DejaVuSans-30\"/>\r\n     <use x=\"63.623047\" xlink:href=\"#DejaVuSans-2e\"/>\r\n     <use x=\"95.410156\" xlink:href=\"#DejaVuSans-30\"/>\r\n     <use x=\"159.033203\" xlink:href=\"#DejaVuSans-32\"/>\r\n    </g>\r\n   </g>\r\n   <g id=\"text_263\">\r\n    <!-- 0.02 -->\r\n    <g style=\"fill:#ffffff;\" transform=\"translate(517.690625 240.258594)scale(0.1 -0.1)\">\r\n     <use xlink:href=\"#DejaVuSans-30\"/>\r\n     <use x=\"63.623047\" xlink:href=\"#DejaVuSans-2e\"/>\r\n     <use x=\"95.410156\" xlink:href=\"#DejaVuSans-30\"/>\r\n     <use x=\"159.033203\" xlink:href=\"#DejaVuSans-32\"/>\r\n    </g>\r\n   </g>\r\n   <g id=\"text_264\">\r\n    <!-- 0.01 -->\r\n    <g style=\"fill:#ffffff;\" transform=\"translate(554.890625 240.258594)scale(0.1 -0.1)\">\r\n     <use xlink:href=\"#DejaVuSans-30\"/>\r\n     <use x=\"63.623047\" xlink:href=\"#DejaVuSans-2e\"/>\r\n     <use x=\"95.410156\" xlink:href=\"#DejaVuSans-30\"/>\r\n     <use x=\"159.033203\" xlink:href=\"#DejaVuSans-31\"/>\r\n    </g>\r\n   </g>\r\n   <g id=\"text_265\">\r\n    <!-- 1.00 -->\r\n    <g style=\"fill:#262626;\" transform=\"translate(592.090625 240.258594)scale(0.1 -0.1)\">\r\n     <use xlink:href=\"#DejaVuSans-31\"/>\r\n     <use x=\"63.623047\" xlink:href=\"#DejaVuSans-2e\"/>\r\n     <use x=\"95.410156\" xlink:href=\"#DejaVuSans-30\"/>\r\n     <use x=\"159.033203\" xlink:href=\"#DejaVuSans-30\"/>\r\n    </g>\r\n   </g>\r\n   <g id=\"text_266\">\r\n    <!-- 0.05 -->\r\n    <g style=\"fill:#ffffff;\" transform=\"translate(629.290625 240.258594)scale(0.1 -0.1)\">\r\n     <use xlink:href=\"#DejaVuSans-30\"/>\r\n     <use x=\"63.623047\" xlink:href=\"#DejaVuSans-2e\"/>\r\n     <use x=\"95.410156\" xlink:href=\"#DejaVuSans-30\"/>\r\n     <use x=\"159.033203\" xlink:href=\"#DejaVuSans-35\"/>\r\n    </g>\r\n   </g>\r\n   <g id=\"text_267\">\r\n    <!-- 0.05 -->\r\n    <g style=\"fill:#ffffff;\" transform=\"translate(666.490625 240.258594)scale(0.1 -0.1)\">\r\n     <use xlink:href=\"#DejaVuSans-30\"/>\r\n     <use x=\"63.623047\" xlink:href=\"#DejaVuSans-2e\"/>\r\n     <use x=\"95.410156\" xlink:href=\"#DejaVuSans-30\"/>\r\n     <use x=\"159.033203\" xlink:href=\"#DejaVuSans-35\"/>\r\n    </g>\r\n   </g>\r\n   <g id=\"text_268\">\r\n    <!-- -0.02 -->\r\n    <g style=\"fill:#ffffff;\" transform=\"translate(701.886719 240.258594)scale(0.1 -0.1)\">\r\n     <use xlink:href=\"#DejaVuSans-2d\"/>\r\n     <use x=\"36.083984\" xlink:href=\"#DejaVuSans-30\"/>\r\n     <use x=\"99.707031\" xlink:href=\"#DejaVuSans-2e\"/>\r\n     <use x=\"131.494141\" xlink:href=\"#DejaVuSans-30\"/>\r\n     <use x=\"195.117188\" xlink:href=\"#DejaVuSans-32\"/>\r\n    </g>\r\n   </g>\r\n   <g id=\"text_269\">\r\n    <!-- -0.04 -->\r\n    <g style=\"fill:#ffffff;\" transform=\"translate(739.086719 240.258594)scale(0.1 -0.1)\">\r\n     <use xlink:href=\"#DejaVuSans-2d\"/>\r\n     <use x=\"36.083984\" xlink:href=\"#DejaVuSans-30\"/>\r\n     <use x=\"99.707031\" xlink:href=\"#DejaVuSans-2e\"/>\r\n     <use x=\"131.494141\" xlink:href=\"#DejaVuSans-30\"/>\r\n     <use x=\"195.117188\" xlink:href=\"#DejaVuSans-34\"/>\r\n    </g>\r\n   </g>\r\n   <g id=\"text_270\">\r\n    <!-- -0.02 -->\r\n    <g style=\"fill:#ffffff;\" transform=\"translate(776.286719 240.258594)scale(0.1 -0.1)\">\r\n     <use xlink:href=\"#DejaVuSans-2d\"/>\r\n     <use x=\"36.083984\" xlink:href=\"#DejaVuSans-30\"/>\r\n     <use x=\"99.707031\" xlink:href=\"#DejaVuSans-2e\"/>\r\n     <use x=\"131.494141\" xlink:href=\"#DejaVuSans-30\"/>\r\n     <use x=\"195.117188\" xlink:href=\"#DejaVuSans-32\"/>\r\n    </g>\r\n   </g>\r\n   <g id=\"text_271\">\r\n    <!-- 0.02 -->\r\n    <g style=\"fill:#ffffff;\" transform=\"translate(145.690625 258.378594)scale(0.1 -0.1)\">\r\n     <use xlink:href=\"#DejaVuSans-30\"/>\r\n     <use x=\"63.623047\" xlink:href=\"#DejaVuSans-2e\"/>\r\n     <use x=\"95.410156\" xlink:href=\"#DejaVuSans-30\"/>\r\n     <use x=\"159.033203\" xlink:href=\"#DejaVuSans-32\"/>\r\n    </g>\r\n   </g>\r\n   <g id=\"text_272\">\r\n    <!-- -0.03 -->\r\n    <g style=\"fill:#ffffff;\" transform=\"translate(181.086719 258.378594)scale(0.1 -0.1)\">\r\n     <use xlink:href=\"#DejaVuSans-2d\"/>\r\n     <use x=\"36.083984\" xlink:href=\"#DejaVuSans-30\"/>\r\n     <use x=\"99.707031\" xlink:href=\"#DejaVuSans-2e\"/>\r\n     <use x=\"131.494141\" xlink:href=\"#DejaVuSans-30\"/>\r\n     <use x=\"195.117188\" xlink:href=\"#DejaVuSans-33\"/>\r\n    </g>\r\n   </g>\r\n   <g id=\"text_273\">\r\n    <!-- -0.00 -->\r\n    <g style=\"fill:#ffffff;\" transform=\"translate(218.286719 258.378594)scale(0.1 -0.1)\">\r\n     <use xlink:href=\"#DejaVuSans-2d\"/>\r\n     <use x=\"36.083984\" xlink:href=\"#DejaVuSans-30\"/>\r\n     <use x=\"99.707031\" xlink:href=\"#DejaVuSans-2e\"/>\r\n     <use x=\"131.494141\" xlink:href=\"#DejaVuSans-30\"/>\r\n     <use x=\"195.117188\" xlink:href=\"#DejaVuSans-30\"/>\r\n    </g>\r\n   </g>\r\n   <g id=\"text_274\">\r\n    <!-- 0.01 -->\r\n    <g style=\"fill:#ffffff;\" transform=\"translate(257.290625 258.378594)scale(0.1 -0.1)\">\r\n     <use xlink:href=\"#DejaVuSans-30\"/>\r\n     <use x=\"63.623047\" xlink:href=\"#DejaVuSans-2e\"/>\r\n     <use x=\"95.410156\" xlink:href=\"#DejaVuSans-30\"/>\r\n     <use x=\"159.033203\" xlink:href=\"#DejaVuSans-31\"/>\r\n    </g>\r\n   </g>\r\n   <g id=\"text_275\">\r\n    <!-- 0.03 -->\r\n    <g style=\"fill:#ffffff;\" transform=\"translate(294.490625 258.378594)scale(0.1 -0.1)\">\r\n     <use xlink:href=\"#DejaVuSans-30\"/>\r\n     <use x=\"63.623047\" xlink:href=\"#DejaVuSans-2e\"/>\r\n     <use x=\"95.410156\" xlink:href=\"#DejaVuSans-30\"/>\r\n     <use x=\"159.033203\" xlink:href=\"#DejaVuSans-33\"/>\r\n    </g>\r\n   </g>\r\n   <g id=\"text_276\">\r\n    <!-- -0.00 -->\r\n    <g style=\"fill:#ffffff;\" transform=\"translate(329.886719 258.378594)scale(0.1 -0.1)\">\r\n     <use xlink:href=\"#DejaVuSans-2d\"/>\r\n     <use x=\"36.083984\" xlink:href=\"#DejaVuSans-30\"/>\r\n     <use x=\"99.707031\" xlink:href=\"#DejaVuSans-2e\"/>\r\n     <use x=\"131.494141\" xlink:href=\"#DejaVuSans-30\"/>\r\n     <use x=\"195.117188\" xlink:href=\"#DejaVuSans-30\"/>\r\n    </g>\r\n   </g>\r\n   <g id=\"text_277\">\r\n    <!-- 0.03 -->\r\n    <g style=\"fill:#ffffff;\" transform=\"translate(368.890625 258.378594)scale(0.1 -0.1)\">\r\n     <use xlink:href=\"#DejaVuSans-30\"/>\r\n     <use x=\"63.623047\" xlink:href=\"#DejaVuSans-2e\"/>\r\n     <use x=\"95.410156\" xlink:href=\"#DejaVuSans-30\"/>\r\n     <use x=\"159.033203\" xlink:href=\"#DejaVuSans-33\"/>\r\n    </g>\r\n   </g>\r\n   <g id=\"text_278\">\r\n    <!-- 0.04 -->\r\n    <g style=\"fill:#ffffff;\" transform=\"translate(406.090625 258.378594)scale(0.1 -0.1)\">\r\n     <use xlink:href=\"#DejaVuSans-30\"/>\r\n     <use x=\"63.623047\" xlink:href=\"#DejaVuSans-2e\"/>\r\n     <use x=\"95.410156\" xlink:href=\"#DejaVuSans-30\"/>\r\n     <use x=\"159.033203\" xlink:href=\"#DejaVuSans-34\"/>\r\n    </g>\r\n   </g>\r\n   <g id=\"text_279\">\r\n    <!-- 0.03 -->\r\n    <g style=\"fill:#ffffff;\" transform=\"translate(443.290625 258.378594)scale(0.1 -0.1)\">\r\n     <use xlink:href=\"#DejaVuSans-30\"/>\r\n     <use x=\"63.623047\" xlink:href=\"#DejaVuSans-2e\"/>\r\n     <use x=\"95.410156\" xlink:href=\"#DejaVuSans-30\"/>\r\n     <use x=\"159.033203\" xlink:href=\"#DejaVuSans-33\"/>\r\n    </g>\r\n   </g>\r\n   <g id=\"text_280\">\r\n    <!-- 0.01 -->\r\n    <g style=\"fill:#ffffff;\" transform=\"translate(480.490625 258.378594)scale(0.1 -0.1)\">\r\n     <use xlink:href=\"#DejaVuSans-30\"/>\r\n     <use x=\"63.623047\" xlink:href=\"#DejaVuSans-2e\"/>\r\n     <use x=\"95.410156\" xlink:href=\"#DejaVuSans-30\"/>\r\n     <use x=\"159.033203\" xlink:href=\"#DejaVuSans-31\"/>\r\n    </g>\r\n   </g>\r\n   <g id=\"text_281\">\r\n    <!-- 0.01 -->\r\n    <g style=\"fill:#ffffff;\" transform=\"translate(517.690625 258.378594)scale(0.1 -0.1)\">\r\n     <use xlink:href=\"#DejaVuSans-30\"/>\r\n     <use x=\"63.623047\" xlink:href=\"#DejaVuSans-2e\"/>\r\n     <use x=\"95.410156\" xlink:href=\"#DejaVuSans-30\"/>\r\n     <use x=\"159.033203\" xlink:href=\"#DejaVuSans-31\"/>\r\n    </g>\r\n   </g>\r\n   <g id=\"text_282\">\r\n    <!-- 0.01 -->\r\n    <g style=\"fill:#ffffff;\" transform=\"translate(554.890625 258.378594)scale(0.1 -0.1)\">\r\n     <use xlink:href=\"#DejaVuSans-30\"/>\r\n     <use x=\"63.623047\" xlink:href=\"#DejaVuSans-2e\"/>\r\n     <use x=\"95.410156\" xlink:href=\"#DejaVuSans-30\"/>\r\n     <use x=\"159.033203\" xlink:href=\"#DejaVuSans-31\"/>\r\n    </g>\r\n   </g>\r\n   <g id=\"text_283\">\r\n    <!-- 0.05 -->\r\n    <g style=\"fill:#ffffff;\" transform=\"translate(592.090625 258.378594)scale(0.1 -0.1)\">\r\n     <use xlink:href=\"#DejaVuSans-30\"/>\r\n     <use x=\"63.623047\" xlink:href=\"#DejaVuSans-2e\"/>\r\n     <use x=\"95.410156\" xlink:href=\"#DejaVuSans-30\"/>\r\n     <use x=\"159.033203\" xlink:href=\"#DejaVuSans-35\"/>\r\n    </g>\r\n   </g>\r\n   <g id=\"text_284\">\r\n    <!-- 1.00 -->\r\n    <g style=\"fill:#262626;\" transform=\"translate(629.290625 258.378594)scale(0.1 -0.1)\">\r\n     <use xlink:href=\"#DejaVuSans-31\"/>\r\n     <use x=\"63.623047\" xlink:href=\"#DejaVuSans-2e\"/>\r\n     <use x=\"95.410156\" xlink:href=\"#DejaVuSans-30\"/>\r\n     <use x=\"159.033203\" xlink:href=\"#DejaVuSans-30\"/>\r\n    </g>\r\n   </g>\r\n   <g id=\"text_285\">\r\n    <!-- 0.10 -->\r\n    <g style=\"fill:#ffffff;\" transform=\"translate(666.490625 258.378594)scale(0.1 -0.1)\">\r\n     <use xlink:href=\"#DejaVuSans-30\"/>\r\n     <use x=\"63.623047\" xlink:href=\"#DejaVuSans-2e\"/>\r\n     <use x=\"95.410156\" xlink:href=\"#DejaVuSans-31\"/>\r\n     <use x=\"159.033203\" xlink:href=\"#DejaVuSans-30\"/>\r\n    </g>\r\n   </g>\r\n   <g id=\"text_286\">\r\n    <!-- -0.01 -->\r\n    <g style=\"fill:#ffffff;\" transform=\"translate(701.886719 258.378594)scale(0.1 -0.1)\">\r\n     <use xlink:href=\"#DejaVuSans-2d\"/>\r\n     <use x=\"36.083984\" xlink:href=\"#DejaVuSans-30\"/>\r\n     <use x=\"99.707031\" xlink:href=\"#DejaVuSans-2e\"/>\r\n     <use x=\"131.494141\" xlink:href=\"#DejaVuSans-30\"/>\r\n     <use x=\"195.117188\" xlink:href=\"#DejaVuSans-31\"/>\r\n    </g>\r\n   </g>\r\n   <g id=\"text_287\">\r\n    <!-- 0.09 -->\r\n    <g style=\"fill:#ffffff;\" transform=\"translate(740.890625 258.378594)scale(0.1 -0.1)\">\r\n     <use xlink:href=\"#DejaVuSans-30\"/>\r\n     <use x=\"63.623047\" xlink:href=\"#DejaVuSans-2e\"/>\r\n     <use x=\"95.410156\" xlink:href=\"#DejaVuSans-30\"/>\r\n     <use x=\"159.033203\" xlink:href=\"#DejaVuSans-39\"/>\r\n    </g>\r\n   </g>\r\n   <g id=\"text_288\">\r\n    <!-- -0.02 -->\r\n    <g style=\"fill:#ffffff;\" transform=\"translate(776.286719 258.378594)scale(0.1 -0.1)\">\r\n     <use xlink:href=\"#DejaVuSans-2d\"/>\r\n     <use x=\"36.083984\" xlink:href=\"#DejaVuSans-30\"/>\r\n     <use x=\"99.707031\" xlink:href=\"#DejaVuSans-2e\"/>\r\n     <use x=\"131.494141\" xlink:href=\"#DejaVuSans-30\"/>\r\n     <use x=\"195.117188\" xlink:href=\"#DejaVuSans-32\"/>\r\n    </g>\r\n   </g>\r\n   <g id=\"text_289\">\r\n    <!-- 0.02 -->\r\n    <g style=\"fill:#ffffff;\" transform=\"translate(145.690625 276.498594)scale(0.1 -0.1)\">\r\n     <use xlink:href=\"#DejaVuSans-30\"/>\r\n     <use x=\"63.623047\" xlink:href=\"#DejaVuSans-2e\"/>\r\n     <use x=\"95.410156\" xlink:href=\"#DejaVuSans-30\"/>\r\n     <use x=\"159.033203\" xlink:href=\"#DejaVuSans-32\"/>\r\n    </g>\r\n   </g>\r\n   <g id=\"text_290\">\r\n    <!-- -0.02 -->\r\n    <g style=\"fill:#ffffff;\" transform=\"translate(181.086719 276.498594)scale(0.1 -0.1)\">\r\n     <use xlink:href=\"#DejaVuSans-2d\"/>\r\n     <use x=\"36.083984\" xlink:href=\"#DejaVuSans-30\"/>\r\n     <use x=\"99.707031\" xlink:href=\"#DejaVuSans-2e\"/>\r\n     <use x=\"131.494141\" xlink:href=\"#DejaVuSans-30\"/>\r\n     <use x=\"195.117188\" xlink:href=\"#DejaVuSans-32\"/>\r\n    </g>\r\n   </g>\r\n   <g id=\"text_291\">\r\n    <!-- 0.01 -->\r\n    <g style=\"fill:#ffffff;\" transform=\"translate(220.090625 276.498594)scale(0.1 -0.1)\">\r\n     <use xlink:href=\"#DejaVuSans-30\"/>\r\n     <use x=\"63.623047\" xlink:href=\"#DejaVuSans-2e\"/>\r\n     <use x=\"95.410156\" xlink:href=\"#DejaVuSans-30\"/>\r\n     <use x=\"159.033203\" xlink:href=\"#DejaVuSans-31\"/>\r\n    </g>\r\n   </g>\r\n   <g id=\"text_292\">\r\n    <!-- 0.01 -->\r\n    <g style=\"fill:#ffffff;\" transform=\"translate(257.290625 276.498594)scale(0.1 -0.1)\">\r\n     <use xlink:href=\"#DejaVuSans-30\"/>\r\n     <use x=\"63.623047\" xlink:href=\"#DejaVuSans-2e\"/>\r\n     <use x=\"95.410156\" xlink:href=\"#DejaVuSans-30\"/>\r\n     <use x=\"159.033203\" xlink:href=\"#DejaVuSans-31\"/>\r\n    </g>\r\n   </g>\r\n   <g id=\"text_293\">\r\n    <!-- 0.04 -->\r\n    <g style=\"fill:#ffffff;\" transform=\"translate(294.490625 276.498594)scale(0.1 -0.1)\">\r\n     <use xlink:href=\"#DejaVuSans-30\"/>\r\n     <use x=\"63.623047\" xlink:href=\"#DejaVuSans-2e\"/>\r\n     <use x=\"95.410156\" xlink:href=\"#DejaVuSans-30\"/>\r\n     <use x=\"159.033203\" xlink:href=\"#DejaVuSans-34\"/>\r\n    </g>\r\n   </g>\r\n   <g id=\"text_294\">\r\n    <!-- 0.00 -->\r\n    <g style=\"fill:#ffffff;\" transform=\"translate(331.690625 276.498594)scale(0.1 -0.1)\">\r\n     <use xlink:href=\"#DejaVuSans-30\"/>\r\n     <use x=\"63.623047\" xlink:href=\"#DejaVuSans-2e\"/>\r\n     <use x=\"95.410156\" xlink:href=\"#DejaVuSans-30\"/>\r\n     <use x=\"159.033203\" xlink:href=\"#DejaVuSans-30\"/>\r\n    </g>\r\n   </g>\r\n   <g id=\"text_295\">\r\n    <!-- 0.05 -->\r\n    <g style=\"fill:#ffffff;\" transform=\"translate(368.890625 276.498594)scale(0.1 -0.1)\">\r\n     <use xlink:href=\"#DejaVuSans-30\"/>\r\n     <use x=\"63.623047\" xlink:href=\"#DejaVuSans-2e\"/>\r\n     <use x=\"95.410156\" xlink:href=\"#DejaVuSans-30\"/>\r\n     <use x=\"159.033203\" xlink:href=\"#DejaVuSans-35\"/>\r\n    </g>\r\n   </g>\r\n   <g id=\"text_296\">\r\n    <!-- 0.90 -->\r\n    <g style=\"fill:#262626;\" transform=\"translate(406.090625 276.498594)scale(0.1 -0.1)\">\r\n     <use xlink:href=\"#DejaVuSans-30\"/>\r\n     <use x=\"63.623047\" xlink:href=\"#DejaVuSans-2e\"/>\r\n     <use x=\"95.410156\" xlink:href=\"#DejaVuSans-39\"/>\r\n     <use x=\"159.033203\" xlink:href=\"#DejaVuSans-30\"/>\r\n    </g>\r\n   </g>\r\n   <g id=\"text_297\">\r\n    <!-- 0.08 -->\r\n    <g style=\"fill:#ffffff;\" transform=\"translate(443.290625 276.498594)scale(0.1 -0.1)\">\r\n     <use xlink:href=\"#DejaVuSans-30\"/>\r\n     <use x=\"63.623047\" xlink:href=\"#DejaVuSans-2e\"/>\r\n     <use x=\"95.410156\" xlink:href=\"#DejaVuSans-30\"/>\r\n     <use x=\"159.033203\" xlink:href=\"#DejaVuSans-38\"/>\r\n    </g>\r\n   </g>\r\n   <g id=\"text_298\">\r\n    <!-- 0.44 -->\r\n    <g style=\"fill:#ffffff;\" transform=\"translate(480.490625 276.498594)scale(0.1 -0.1)\">\r\n     <use xlink:href=\"#DejaVuSans-30\"/>\r\n     <use x=\"63.623047\" xlink:href=\"#DejaVuSans-2e\"/>\r\n     <use x=\"95.410156\" xlink:href=\"#DejaVuSans-34\"/>\r\n     <use x=\"159.033203\" xlink:href=\"#DejaVuSans-34\"/>\r\n    </g>\r\n   </g>\r\n   <g id=\"text_299\">\r\n    <!-- 0.10 -->\r\n    <g style=\"fill:#ffffff;\" transform=\"translate(517.690625 276.498594)scale(0.1 -0.1)\">\r\n     <use xlink:href=\"#DejaVuSans-30\"/>\r\n     <use x=\"63.623047\" xlink:href=\"#DejaVuSans-2e\"/>\r\n     <use x=\"95.410156\" xlink:href=\"#DejaVuSans-31\"/>\r\n     <use x=\"159.033203\" xlink:href=\"#DejaVuSans-30\"/>\r\n    </g>\r\n   </g>\r\n   <g id=\"text_300\">\r\n    <!-- 0.26 -->\r\n    <g style=\"fill:#ffffff;\" transform=\"translate(554.890625 276.498594)scale(0.1 -0.1)\">\r\n     <use xlink:href=\"#DejaVuSans-30\"/>\r\n     <use x=\"63.623047\" xlink:href=\"#DejaVuSans-2e\"/>\r\n     <use x=\"95.410156\" xlink:href=\"#DejaVuSans-32\"/>\r\n     <use x=\"159.033203\" xlink:href=\"#DejaVuSans-36\"/>\r\n    </g>\r\n   </g>\r\n   <g id=\"text_301\">\r\n    <!-- 0.05 -->\r\n    <g style=\"fill:#ffffff;\" transform=\"translate(592.090625 276.498594)scale(0.1 -0.1)\">\r\n     <use xlink:href=\"#DejaVuSans-30\"/>\r\n     <use x=\"63.623047\" xlink:href=\"#DejaVuSans-2e\"/>\r\n     <use x=\"95.410156\" xlink:href=\"#DejaVuSans-30\"/>\r\n     <use x=\"159.033203\" xlink:href=\"#DejaVuSans-35\"/>\r\n    </g>\r\n   </g>\r\n   <g id=\"text_302\">\r\n    <!-- 0.10 -->\r\n    <g style=\"fill:#ffffff;\" transform=\"translate(629.290625 276.498594)scale(0.1 -0.1)\">\r\n     <use xlink:href=\"#DejaVuSans-30\"/>\r\n     <use x=\"63.623047\" xlink:href=\"#DejaVuSans-2e\"/>\r\n     <use x=\"95.410156\" xlink:href=\"#DejaVuSans-31\"/>\r\n     <use x=\"159.033203\" xlink:href=\"#DejaVuSans-30\"/>\r\n    </g>\r\n   </g>\r\n   <g id=\"text_303\">\r\n    <!-- 1.00 -->\r\n    <g style=\"fill:#262626;\" transform=\"translate(666.490625 276.498594)scale(0.1 -0.1)\">\r\n     <use xlink:href=\"#DejaVuSans-31\"/>\r\n     <use x=\"63.623047\" xlink:href=\"#DejaVuSans-2e\"/>\r\n     <use x=\"95.410156\" xlink:href=\"#DejaVuSans-30\"/>\r\n     <use x=\"159.033203\" xlink:href=\"#DejaVuSans-30\"/>\r\n    </g>\r\n   </g>\r\n   <g id=\"text_304\">\r\n    <!-- -0.02 -->\r\n    <g style=\"fill:#ffffff;\" transform=\"translate(701.886719 276.498594)scale(0.1 -0.1)\">\r\n     <use xlink:href=\"#DejaVuSans-2d\"/>\r\n     <use x=\"36.083984\" xlink:href=\"#DejaVuSans-30\"/>\r\n     <use x=\"99.707031\" xlink:href=\"#DejaVuSans-2e\"/>\r\n     <use x=\"131.494141\" xlink:href=\"#DejaVuSans-30\"/>\r\n     <use x=\"195.117188\" xlink:href=\"#DejaVuSans-32\"/>\r\n    </g>\r\n   </g>\r\n   <g id=\"text_305\">\r\n    <!-- 0.26 -->\r\n    <g style=\"fill:#ffffff;\" transform=\"translate(740.890625 276.498594)scale(0.1 -0.1)\">\r\n     <use xlink:href=\"#DejaVuSans-30\"/>\r\n     <use x=\"63.623047\" xlink:href=\"#DejaVuSans-2e\"/>\r\n     <use x=\"95.410156\" xlink:href=\"#DejaVuSans-32\"/>\r\n     <use x=\"159.033203\" xlink:href=\"#DejaVuSans-36\"/>\r\n    </g>\r\n   </g>\r\n   <g id=\"text_306\">\r\n    <!-- -0.00 -->\r\n    <g style=\"fill:#ffffff;\" transform=\"translate(776.286719 276.498594)scale(0.1 -0.1)\">\r\n     <use xlink:href=\"#DejaVuSans-2d\"/>\r\n     <use x=\"36.083984\" xlink:href=\"#DejaVuSans-30\"/>\r\n     <use x=\"99.707031\" xlink:href=\"#DejaVuSans-2e\"/>\r\n     <use x=\"131.494141\" xlink:href=\"#DejaVuSans-30\"/>\r\n     <use x=\"195.117188\" xlink:href=\"#DejaVuSans-30\"/>\r\n    </g>\r\n   </g>\r\n   <g id=\"text_307\">\r\n    <!-- 0.01 -->\r\n    <g style=\"fill:#ffffff;\" transform=\"translate(145.690625 294.618594)scale(0.1 -0.1)\">\r\n     <use xlink:href=\"#DejaVuSans-30\"/>\r\n     <use x=\"63.623047\" xlink:href=\"#DejaVuSans-2e\"/>\r\n     <use x=\"95.410156\" xlink:href=\"#DejaVuSans-30\"/>\r\n     <use x=\"159.033203\" xlink:href=\"#DejaVuSans-31\"/>\r\n    </g>\r\n   </g>\r\n   <g id=\"text_308\">\r\n    <!-- 0.01 -->\r\n    <g style=\"fill:#ffffff;\" transform=\"translate(182.890625 294.618594)scale(0.1 -0.1)\">\r\n     <use xlink:href=\"#DejaVuSans-30\"/>\r\n     <use x=\"63.623047\" xlink:href=\"#DejaVuSans-2e\"/>\r\n     <use x=\"95.410156\" xlink:href=\"#DejaVuSans-30\"/>\r\n     <use x=\"159.033203\" xlink:href=\"#DejaVuSans-31\"/>\r\n    </g>\r\n   </g>\r\n   <g id=\"text_309\">\r\n    <!-- -0.03 -->\r\n    <g style=\"fill:#ffffff;\" transform=\"translate(218.286719 294.618594)scale(0.1 -0.1)\">\r\n     <use xlink:href=\"#DejaVuSans-2d\"/>\r\n     <use x=\"36.083984\" xlink:href=\"#DejaVuSans-30\"/>\r\n     <use x=\"99.707031\" xlink:href=\"#DejaVuSans-2e\"/>\r\n     <use x=\"131.494141\" xlink:href=\"#DejaVuSans-30\"/>\r\n     <use x=\"195.117188\" xlink:href=\"#DejaVuSans-33\"/>\r\n    </g>\r\n   </g>\r\n   <g id=\"text_310\">\r\n    <!-- -0.00 -->\r\n    <g style=\"fill:#ffffff;\" transform=\"translate(255.486719 294.618594)scale(0.1 -0.1)\">\r\n     <use xlink:href=\"#DejaVuSans-2d\"/>\r\n     <use x=\"36.083984\" xlink:href=\"#DejaVuSans-30\"/>\r\n     <use x=\"99.707031\" xlink:href=\"#DejaVuSans-2e\"/>\r\n     <use x=\"131.494141\" xlink:href=\"#DejaVuSans-30\"/>\r\n     <use x=\"195.117188\" xlink:href=\"#DejaVuSans-30\"/>\r\n    </g>\r\n   </g>\r\n   <g id=\"text_311\">\r\n    <!-- -0.03 -->\r\n    <g style=\"fill:#ffffff;\" transform=\"translate(292.686719 294.618594)scale(0.1 -0.1)\">\r\n     <use xlink:href=\"#DejaVuSans-2d\"/>\r\n     <use x=\"36.083984\" xlink:href=\"#DejaVuSans-30\"/>\r\n     <use x=\"99.707031\" xlink:href=\"#DejaVuSans-2e\"/>\r\n     <use x=\"131.494141\" xlink:href=\"#DejaVuSans-30\"/>\r\n     <use x=\"195.117188\" xlink:href=\"#DejaVuSans-33\"/>\r\n    </g>\r\n   </g>\r\n   <g id=\"text_312\">\r\n    <!-- -0.01 -->\r\n    <g style=\"fill:#ffffff;\" transform=\"translate(329.886719 294.618594)scale(0.1 -0.1)\">\r\n     <use xlink:href=\"#DejaVuSans-2d\"/>\r\n     <use x=\"36.083984\" xlink:href=\"#DejaVuSans-30\"/>\r\n     <use x=\"99.707031\" xlink:href=\"#DejaVuSans-2e\"/>\r\n     <use x=\"131.494141\" xlink:href=\"#DejaVuSans-30\"/>\r\n     <use x=\"195.117188\" xlink:href=\"#DejaVuSans-31\"/>\r\n    </g>\r\n   </g>\r\n   <g id=\"text_313\">\r\n    <!-- -0.02 -->\r\n    <g style=\"fill:#ffffff;\" transform=\"translate(367.086719 294.618594)scale(0.1 -0.1)\">\r\n     <use xlink:href=\"#DejaVuSans-2d\"/>\r\n     <use x=\"36.083984\" xlink:href=\"#DejaVuSans-30\"/>\r\n     <use x=\"99.707031\" xlink:href=\"#DejaVuSans-2e\"/>\r\n     <use x=\"131.494141\" xlink:href=\"#DejaVuSans-30\"/>\r\n     <use x=\"195.117188\" xlink:href=\"#DejaVuSans-32\"/>\r\n    </g>\r\n   </g>\r\n   <g id=\"text_314\">\r\n    <!-- -0.02 -->\r\n    <g style=\"fill:#ffffff;\" transform=\"translate(404.286719 294.618594)scale(0.1 -0.1)\">\r\n     <use xlink:href=\"#DejaVuSans-2d\"/>\r\n     <use x=\"36.083984\" xlink:href=\"#DejaVuSans-30\"/>\r\n     <use x=\"99.707031\" xlink:href=\"#DejaVuSans-2e\"/>\r\n     <use x=\"131.494141\" xlink:href=\"#DejaVuSans-30\"/>\r\n     <use x=\"195.117188\" xlink:href=\"#DejaVuSans-32\"/>\r\n    </g>\r\n   </g>\r\n   <g id=\"text_315\">\r\n    <!-- -0.00 -->\r\n    <g style=\"fill:#ffffff;\" transform=\"translate(441.486719 294.618594)scale(0.1 -0.1)\">\r\n     <use xlink:href=\"#DejaVuSans-2d\"/>\r\n     <use x=\"36.083984\" xlink:href=\"#DejaVuSans-30\"/>\r\n     <use x=\"99.707031\" xlink:href=\"#DejaVuSans-2e\"/>\r\n     <use x=\"131.494141\" xlink:href=\"#DejaVuSans-30\"/>\r\n     <use x=\"195.117188\" xlink:href=\"#DejaVuSans-30\"/>\r\n    </g>\r\n   </g>\r\n   <g id=\"text_316\">\r\n    <!-- -0.01 -->\r\n    <g style=\"fill:#ffffff;\" transform=\"translate(478.686719 294.618594)scale(0.1 -0.1)\">\r\n     <use xlink:href=\"#DejaVuSans-2d\"/>\r\n     <use x=\"36.083984\" xlink:href=\"#DejaVuSans-30\"/>\r\n     <use x=\"99.707031\" xlink:href=\"#DejaVuSans-2e\"/>\r\n     <use x=\"131.494141\" xlink:href=\"#DejaVuSans-30\"/>\r\n     <use x=\"195.117188\" xlink:href=\"#DejaVuSans-31\"/>\r\n    </g>\r\n   </g>\r\n   <g id=\"text_317\">\r\n    <!-- -0.01 -->\r\n    <g style=\"fill:#ffffff;\" transform=\"translate(515.886719 294.618594)scale(0.1 -0.1)\">\r\n     <use xlink:href=\"#DejaVuSans-2d\"/>\r\n     <use x=\"36.083984\" xlink:href=\"#DejaVuSans-30\"/>\r\n     <use x=\"99.707031\" xlink:href=\"#DejaVuSans-2e\"/>\r\n     <use x=\"131.494141\" xlink:href=\"#DejaVuSans-30\"/>\r\n     <use x=\"195.117188\" xlink:href=\"#DejaVuSans-31\"/>\r\n    </g>\r\n   </g>\r\n   <g id=\"text_318\">\r\n    <!-- -0.01 -->\r\n    <g style=\"fill:#ffffff;\" transform=\"translate(553.086719 294.618594)scale(0.1 -0.1)\">\r\n     <use xlink:href=\"#DejaVuSans-2d\"/>\r\n     <use x=\"36.083984\" xlink:href=\"#DejaVuSans-30\"/>\r\n     <use x=\"99.707031\" xlink:href=\"#DejaVuSans-2e\"/>\r\n     <use x=\"131.494141\" xlink:href=\"#DejaVuSans-30\"/>\r\n     <use x=\"195.117188\" xlink:href=\"#DejaVuSans-31\"/>\r\n    </g>\r\n   </g>\r\n   <g id=\"text_319\">\r\n    <!-- -0.02 -->\r\n    <g style=\"fill:#ffffff;\" transform=\"translate(590.286719 294.618594)scale(0.1 -0.1)\">\r\n     <use xlink:href=\"#DejaVuSans-2d\"/>\r\n     <use x=\"36.083984\" xlink:href=\"#DejaVuSans-30\"/>\r\n     <use x=\"99.707031\" xlink:href=\"#DejaVuSans-2e\"/>\r\n     <use x=\"131.494141\" xlink:href=\"#DejaVuSans-30\"/>\r\n     <use x=\"195.117188\" xlink:href=\"#DejaVuSans-32\"/>\r\n    </g>\r\n   </g>\r\n   <g id=\"text_320\">\r\n    <!-- -0.01 -->\r\n    <g style=\"fill:#ffffff;\" transform=\"translate(627.486719 294.618594)scale(0.1 -0.1)\">\r\n     <use xlink:href=\"#DejaVuSans-2d\"/>\r\n     <use x=\"36.083984\" xlink:href=\"#DejaVuSans-30\"/>\r\n     <use x=\"99.707031\" xlink:href=\"#DejaVuSans-2e\"/>\r\n     <use x=\"131.494141\" xlink:href=\"#DejaVuSans-30\"/>\r\n     <use x=\"195.117188\" xlink:href=\"#DejaVuSans-31\"/>\r\n    </g>\r\n   </g>\r\n   <g id=\"text_321\">\r\n    <!-- -0.02 -->\r\n    <g style=\"fill:#ffffff;\" transform=\"translate(664.686719 294.618594)scale(0.1 -0.1)\">\r\n     <use xlink:href=\"#DejaVuSans-2d\"/>\r\n     <use x=\"36.083984\" xlink:href=\"#DejaVuSans-30\"/>\r\n     <use x=\"99.707031\" xlink:href=\"#DejaVuSans-2e\"/>\r\n     <use x=\"131.494141\" xlink:href=\"#DejaVuSans-30\"/>\r\n     <use x=\"195.117188\" xlink:href=\"#DejaVuSans-32\"/>\r\n    </g>\r\n   </g>\r\n   <g id=\"text_322\">\r\n    <!-- 1.00 -->\r\n    <g style=\"fill:#262626;\" transform=\"translate(703.690625 294.618594)scale(0.1 -0.1)\">\r\n     <use xlink:href=\"#DejaVuSans-31\"/>\r\n     <use x=\"63.623047\" xlink:href=\"#DejaVuSans-2e\"/>\r\n     <use x=\"95.410156\" xlink:href=\"#DejaVuSans-30\"/>\r\n     <use x=\"159.033203\" xlink:href=\"#DejaVuSans-30\"/>\r\n    </g>\r\n   </g>\r\n   <g id=\"text_323\">\r\n    <!-- 0.21 -->\r\n    <g style=\"fill:#ffffff;\" transform=\"translate(740.890625 294.618594)scale(0.1 -0.1)\">\r\n     <use xlink:href=\"#DejaVuSans-30\"/>\r\n     <use x=\"63.623047\" xlink:href=\"#DejaVuSans-2e\"/>\r\n     <use x=\"95.410156\" xlink:href=\"#DejaVuSans-32\"/>\r\n     <use x=\"159.033203\" xlink:href=\"#DejaVuSans-31\"/>\r\n    </g>\r\n   </g>\r\n   <g id=\"text_324\">\r\n    <!-- 0.03 -->\r\n    <g style=\"fill:#ffffff;\" transform=\"translate(778.090625 294.618594)scale(0.1 -0.1)\">\r\n     <use xlink:href=\"#DejaVuSans-30\"/>\r\n     <use x=\"63.623047\" xlink:href=\"#DejaVuSans-2e\"/>\r\n     <use x=\"95.410156\" xlink:href=\"#DejaVuSans-30\"/>\r\n     <use x=\"159.033203\" xlink:href=\"#DejaVuSans-33\"/>\r\n    </g>\r\n   </g>\r\n   <g id=\"text_325\">\r\n    <!-- 0.03 -->\r\n    <g style=\"fill:#ffffff;\" transform=\"translate(145.690625 312.738594)scale(0.1 -0.1)\">\r\n     <use xlink:href=\"#DejaVuSans-30\"/>\r\n     <use x=\"63.623047\" xlink:href=\"#DejaVuSans-2e\"/>\r\n     <use x=\"95.410156\" xlink:href=\"#DejaVuSans-30\"/>\r\n     <use x=\"159.033203\" xlink:href=\"#DejaVuSans-33\"/>\r\n    </g>\r\n   </g>\r\n   <g id=\"text_326\">\r\n    <!-- -0.02 -->\r\n    <g style=\"fill:#ffffff;\" transform=\"translate(181.086719 312.738594)scale(0.1 -0.1)\">\r\n     <use xlink:href=\"#DejaVuSans-2d\"/>\r\n     <use x=\"36.083984\" xlink:href=\"#DejaVuSans-30\"/>\r\n     <use x=\"99.707031\" xlink:href=\"#DejaVuSans-2e\"/>\r\n     <use x=\"131.494141\" xlink:href=\"#DejaVuSans-30\"/>\r\n     <use x=\"195.117188\" xlink:href=\"#DejaVuSans-32\"/>\r\n    </g>\r\n   </g>\r\n   <g id=\"text_327\">\r\n    <!-- 0.01 -->\r\n    <g style=\"fill:#ffffff;\" transform=\"translate(220.090625 312.738594)scale(0.1 -0.1)\">\r\n     <use xlink:href=\"#DejaVuSans-30\"/>\r\n     <use x=\"63.623047\" xlink:href=\"#DejaVuSans-2e\"/>\r\n     <use x=\"95.410156\" xlink:href=\"#DejaVuSans-30\"/>\r\n     <use x=\"159.033203\" xlink:href=\"#DejaVuSans-31\"/>\r\n    </g>\r\n   </g>\r\n   <g id=\"text_328\">\r\n    <!-- 0.02 -->\r\n    <g style=\"fill:#ffffff;\" transform=\"translate(257.290625 312.738594)scale(0.1 -0.1)\">\r\n     <use xlink:href=\"#DejaVuSans-30\"/>\r\n     <use x=\"63.623047\" xlink:href=\"#DejaVuSans-2e\"/>\r\n     <use x=\"95.410156\" xlink:href=\"#DejaVuSans-30\"/>\r\n     <use x=\"159.033203\" xlink:href=\"#DejaVuSans-32\"/>\r\n    </g>\r\n   </g>\r\n   <g id=\"text_329\">\r\n    <!-- 0.15 -->\r\n    <g style=\"fill:#ffffff;\" transform=\"translate(294.490625 312.738594)scale(0.1 -0.1)\">\r\n     <use xlink:href=\"#DejaVuSans-30\"/>\r\n     <use x=\"63.623047\" xlink:href=\"#DejaVuSans-2e\"/>\r\n     <use x=\"95.410156\" xlink:href=\"#DejaVuSans-31\"/>\r\n     <use x=\"159.033203\" xlink:href=\"#DejaVuSans-35\"/>\r\n    </g>\r\n   </g>\r\n   <g id=\"text_330\">\r\n    <!-- -0.09 -->\r\n    <g style=\"fill:#ffffff;\" transform=\"translate(329.886719 312.738594)scale(0.1 -0.1)\">\r\n     <use xlink:href=\"#DejaVuSans-2d\"/>\r\n     <use x=\"36.083984\" xlink:href=\"#DejaVuSans-30\"/>\r\n     <use x=\"99.707031\" xlink:href=\"#DejaVuSans-2e\"/>\r\n     <use x=\"131.494141\" xlink:href=\"#DejaVuSans-30\"/>\r\n     <use x=\"195.117188\" xlink:href=\"#DejaVuSans-39\"/>\r\n    </g>\r\n   </g>\r\n   <g id=\"text_331\">\r\n    <!-- 0.04 -->\r\n    <g style=\"fill:#ffffff;\" transform=\"translate(368.890625 312.738594)scale(0.1 -0.1)\">\r\n     <use xlink:href=\"#DejaVuSans-30\"/>\r\n     <use x=\"63.623047\" xlink:href=\"#DejaVuSans-2e\"/>\r\n     <use x=\"95.410156\" xlink:href=\"#DejaVuSans-30\"/>\r\n     <use x=\"159.033203\" xlink:href=\"#DejaVuSans-34\"/>\r\n    </g>\r\n   </g>\r\n   <g id=\"text_332\">\r\n    <!-- 0.23 -->\r\n    <g style=\"fill:#ffffff;\" transform=\"translate(406.090625 312.738594)scale(0.1 -0.1)\">\r\n     <use xlink:href=\"#DejaVuSans-30\"/>\r\n     <use x=\"63.623047\" xlink:href=\"#DejaVuSans-2e\"/>\r\n     <use x=\"95.410156\" xlink:href=\"#DejaVuSans-32\"/>\r\n     <use x=\"159.033203\" xlink:href=\"#DejaVuSans-33\"/>\r\n    </g>\r\n   </g>\r\n   <g id=\"text_333\">\r\n    <!-- 0.04 -->\r\n    <g style=\"fill:#ffffff;\" transform=\"translate(443.290625 312.738594)scale(0.1 -0.1)\">\r\n     <use xlink:href=\"#DejaVuSans-30\"/>\r\n     <use x=\"63.623047\" xlink:href=\"#DejaVuSans-2e\"/>\r\n     <use x=\"95.410156\" xlink:href=\"#DejaVuSans-30\"/>\r\n     <use x=\"159.033203\" xlink:href=\"#DejaVuSans-34\"/>\r\n    </g>\r\n   </g>\r\n   <g id=\"text_334\">\r\n    <!-- 0.11 -->\r\n    <g style=\"fill:#ffffff;\" transform=\"translate(480.490625 312.738594)scale(0.1 -0.1)\">\r\n     <use xlink:href=\"#DejaVuSans-30\"/>\r\n     <use x=\"63.623047\" xlink:href=\"#DejaVuSans-2e\"/>\r\n     <use x=\"95.410156\" xlink:href=\"#DejaVuSans-31\"/>\r\n     <use x=\"159.033203\" xlink:href=\"#DejaVuSans-31\"/>\r\n    </g>\r\n   </g>\r\n   <g id=\"text_335\">\r\n    <!-- 0.04 -->\r\n    <g style=\"fill:#ffffff;\" transform=\"translate(517.690625 312.738594)scale(0.1 -0.1)\">\r\n     <use xlink:href=\"#DejaVuSans-30\"/>\r\n     <use x=\"63.623047\" xlink:href=\"#DejaVuSans-2e\"/>\r\n     <use x=\"95.410156\" xlink:href=\"#DejaVuSans-30\"/>\r\n     <use x=\"159.033203\" xlink:href=\"#DejaVuSans-34\"/>\r\n    </g>\r\n   </g>\r\n   <g id=\"text_336\">\r\n    <!-- 0.06 -->\r\n    <g style=\"fill:#ffffff;\" transform=\"translate(554.890625 312.738594)scale(0.1 -0.1)\">\r\n     <use xlink:href=\"#DejaVuSans-30\"/>\r\n     <use x=\"63.623047\" xlink:href=\"#DejaVuSans-2e\"/>\r\n     <use x=\"95.410156\" xlink:href=\"#DejaVuSans-30\"/>\r\n     <use x=\"159.033203\" xlink:href=\"#DejaVuSans-36\"/>\r\n    </g>\r\n   </g>\r\n   <g id=\"text_337\">\r\n    <!-- -0.04 -->\r\n    <g style=\"fill:#ffffff;\" transform=\"translate(590.286719 312.738594)scale(0.1 -0.1)\">\r\n     <use xlink:href=\"#DejaVuSans-2d\"/>\r\n     <use x=\"36.083984\" xlink:href=\"#DejaVuSans-30\"/>\r\n     <use x=\"99.707031\" xlink:href=\"#DejaVuSans-2e\"/>\r\n     <use x=\"131.494141\" xlink:href=\"#DejaVuSans-30\"/>\r\n     <use x=\"195.117188\" xlink:href=\"#DejaVuSans-34\"/>\r\n    </g>\r\n   </g>\r\n   <g id=\"text_338\">\r\n    <!-- 0.09 -->\r\n    <g style=\"fill:#ffffff;\" transform=\"translate(629.290625 312.738594)scale(0.1 -0.1)\">\r\n     <use xlink:href=\"#DejaVuSans-30\"/>\r\n     <use x=\"63.623047\" xlink:href=\"#DejaVuSans-2e\"/>\r\n     <use x=\"95.410156\" xlink:href=\"#DejaVuSans-30\"/>\r\n     <use x=\"159.033203\" xlink:href=\"#DejaVuSans-39\"/>\r\n    </g>\r\n   </g>\r\n   <g id=\"text_339\">\r\n    <!-- 0.26 -->\r\n    <g style=\"fill:#ffffff;\" transform=\"translate(666.490625 312.738594)scale(0.1 -0.1)\">\r\n     <use xlink:href=\"#DejaVuSans-30\"/>\r\n     <use x=\"63.623047\" xlink:href=\"#DejaVuSans-2e\"/>\r\n     <use x=\"95.410156\" xlink:href=\"#DejaVuSans-32\"/>\r\n     <use x=\"159.033203\" xlink:href=\"#DejaVuSans-36\"/>\r\n    </g>\r\n   </g>\r\n   <g id=\"text_340\">\r\n    <!-- 0.21 -->\r\n    <g style=\"fill:#ffffff;\" transform=\"translate(703.690625 312.738594)scale(0.1 -0.1)\">\r\n     <use xlink:href=\"#DejaVuSans-30\"/>\r\n     <use x=\"63.623047\" xlink:href=\"#DejaVuSans-2e\"/>\r\n     <use x=\"95.410156\" xlink:href=\"#DejaVuSans-32\"/>\r\n     <use x=\"159.033203\" xlink:href=\"#DejaVuSans-31\"/>\r\n    </g>\r\n   </g>\r\n   <g id=\"text_341\">\r\n    <!-- 1.00 -->\r\n    <g style=\"fill:#262626;\" transform=\"translate(740.890625 312.738594)scale(0.1 -0.1)\">\r\n     <use xlink:href=\"#DejaVuSans-31\"/>\r\n     <use x=\"63.623047\" xlink:href=\"#DejaVuSans-2e\"/>\r\n     <use x=\"95.410156\" xlink:href=\"#DejaVuSans-30\"/>\r\n     <use x=\"159.033203\" xlink:href=\"#DejaVuSans-30\"/>\r\n    </g>\r\n   </g>\r\n   <g id=\"text_342\">\r\n    <!-- 0.01 -->\r\n    <g style=\"fill:#ffffff;\" transform=\"translate(778.090625 312.738594)scale(0.1 -0.1)\">\r\n     <use xlink:href=\"#DejaVuSans-30\"/>\r\n     <use x=\"63.623047\" xlink:href=\"#DejaVuSans-2e\"/>\r\n     <use x=\"95.410156\" xlink:href=\"#DejaVuSans-30\"/>\r\n     <use x=\"159.033203\" xlink:href=\"#DejaVuSans-31\"/>\r\n    </g>\r\n   </g>\r\n   <g id=\"text_343\">\r\n    <!-- -0.02 -->\r\n    <g style=\"fill:#ffffff;\" transform=\"translate(143.886719 330.858594)scale(0.1 -0.1)\">\r\n     <use xlink:href=\"#DejaVuSans-2d\"/>\r\n     <use x=\"36.083984\" xlink:href=\"#DejaVuSans-30\"/>\r\n     <use x=\"99.707031\" xlink:href=\"#DejaVuSans-2e\"/>\r\n     <use x=\"131.494141\" xlink:href=\"#DejaVuSans-30\"/>\r\n     <use x=\"195.117188\" xlink:href=\"#DejaVuSans-32\"/>\r\n    </g>\r\n   </g>\r\n   <g id=\"text_344\">\r\n    <!-- -0.01 -->\r\n    <g style=\"fill:#ffffff;\" transform=\"translate(181.086719 330.858594)scale(0.1 -0.1)\">\r\n     <use xlink:href=\"#DejaVuSans-2d\"/>\r\n     <use x=\"36.083984\" xlink:href=\"#DejaVuSans-30\"/>\r\n     <use x=\"99.707031\" xlink:href=\"#DejaVuSans-2e\"/>\r\n     <use x=\"131.494141\" xlink:href=\"#DejaVuSans-30\"/>\r\n     <use x=\"195.117188\" xlink:href=\"#DejaVuSans-31\"/>\r\n    </g>\r\n   </g>\r\n   <g id=\"text_345\">\r\n    <!-- 0.02 -->\r\n    <g style=\"fill:#ffffff;\" transform=\"translate(220.090625 330.858594)scale(0.1 -0.1)\">\r\n     <use xlink:href=\"#DejaVuSans-30\"/>\r\n     <use x=\"63.623047\" xlink:href=\"#DejaVuSans-2e\"/>\r\n     <use x=\"95.410156\" xlink:href=\"#DejaVuSans-30\"/>\r\n     <use x=\"159.033203\" xlink:href=\"#DejaVuSans-32\"/>\r\n    </g>\r\n   </g>\r\n   <g id=\"text_346\">\r\n    <!-- -0.01 -->\r\n    <g style=\"fill:#ffffff;\" transform=\"translate(255.486719 330.858594)scale(0.1 -0.1)\">\r\n     <use xlink:href=\"#DejaVuSans-2d\"/>\r\n     <use x=\"36.083984\" xlink:href=\"#DejaVuSans-30\"/>\r\n     <use x=\"99.707031\" xlink:href=\"#DejaVuSans-2e\"/>\r\n     <use x=\"131.494141\" xlink:href=\"#DejaVuSans-30\"/>\r\n     <use x=\"195.117188\" xlink:href=\"#DejaVuSans-31\"/>\r\n    </g>\r\n   </g>\r\n   <g id=\"text_347\">\r\n    <!-- 0.04 -->\r\n    <g style=\"fill:#ffffff;\" transform=\"translate(294.490625 330.858594)scale(0.1 -0.1)\">\r\n     <use xlink:href=\"#DejaVuSans-30\"/>\r\n     <use x=\"63.623047\" xlink:href=\"#DejaVuSans-2e\"/>\r\n     <use x=\"95.410156\" xlink:href=\"#DejaVuSans-30\"/>\r\n     <use x=\"159.033203\" xlink:href=\"#DejaVuSans-34\"/>\r\n    </g>\r\n   </g>\r\n   <g id=\"text_348\">\r\n    <!-- -0.00 -->\r\n    <g style=\"fill:#ffffff;\" transform=\"translate(329.886719 330.858594)scale(0.1 -0.1)\">\r\n     <use xlink:href=\"#DejaVuSans-2d\"/>\r\n     <use x=\"36.083984\" xlink:href=\"#DejaVuSans-30\"/>\r\n     <use x=\"99.707031\" xlink:href=\"#DejaVuSans-2e\"/>\r\n     <use x=\"131.494141\" xlink:href=\"#DejaVuSans-30\"/>\r\n     <use x=\"195.117188\" xlink:href=\"#DejaVuSans-30\"/>\r\n    </g>\r\n   </g>\r\n   <g id=\"text_349\">\r\n    <!-- -0.01 -->\r\n    <g style=\"fill:#ffffff;\" transform=\"translate(367.086719 330.858594)scale(0.1 -0.1)\">\r\n     <use xlink:href=\"#DejaVuSans-2d\"/>\r\n     <use x=\"36.083984\" xlink:href=\"#DejaVuSans-30\"/>\r\n     <use x=\"99.707031\" xlink:href=\"#DejaVuSans-2e\"/>\r\n     <use x=\"131.494141\" xlink:href=\"#DejaVuSans-30\"/>\r\n     <use x=\"195.117188\" xlink:href=\"#DejaVuSans-31\"/>\r\n    </g>\r\n   </g>\r\n   <g id=\"text_350\">\r\n    <!-- -0.01 -->\r\n    <g style=\"fill:#ffffff;\" transform=\"translate(404.286719 330.858594)scale(0.1 -0.1)\">\r\n     <use xlink:href=\"#DejaVuSans-2d\"/>\r\n     <use x=\"36.083984\" xlink:href=\"#DejaVuSans-30\"/>\r\n     <use x=\"99.707031\" xlink:href=\"#DejaVuSans-2e\"/>\r\n     <use x=\"131.494141\" xlink:href=\"#DejaVuSans-30\"/>\r\n     <use x=\"195.117188\" xlink:href=\"#DejaVuSans-31\"/>\r\n    </g>\r\n   </g>\r\n   <g id=\"text_351\">\r\n    <!-- -0.01 -->\r\n    <g style=\"fill:#ffffff;\" transform=\"translate(441.486719 330.858594)scale(0.1 -0.1)\">\r\n     <use xlink:href=\"#DejaVuSans-2d\"/>\r\n     <use x=\"36.083984\" xlink:href=\"#DejaVuSans-30\"/>\r\n     <use x=\"99.707031\" xlink:href=\"#DejaVuSans-2e\"/>\r\n     <use x=\"131.494141\" xlink:href=\"#DejaVuSans-30\"/>\r\n     <use x=\"195.117188\" xlink:href=\"#DejaVuSans-31\"/>\r\n    </g>\r\n   </g>\r\n   <g id=\"text_352\">\r\n    <!-- 0.00 -->\r\n    <g style=\"fill:#ffffff;\" transform=\"translate(480.490625 330.858594)scale(0.1 -0.1)\">\r\n     <use xlink:href=\"#DejaVuSans-30\"/>\r\n     <use x=\"63.623047\" xlink:href=\"#DejaVuSans-2e\"/>\r\n     <use x=\"95.410156\" xlink:href=\"#DejaVuSans-30\"/>\r\n     <use x=\"159.033203\" xlink:href=\"#DejaVuSans-30\"/>\r\n    </g>\r\n   </g>\r\n   <g id=\"text_353\">\r\n    <!-- 0.02 -->\r\n    <g style=\"fill:#ffffff;\" transform=\"translate(517.690625 330.858594)scale(0.1 -0.1)\">\r\n     <use xlink:href=\"#DejaVuSans-30\"/>\r\n     <use x=\"63.623047\" xlink:href=\"#DejaVuSans-2e\"/>\r\n     <use x=\"95.410156\" xlink:href=\"#DejaVuSans-30\"/>\r\n     <use x=\"159.033203\" xlink:href=\"#DejaVuSans-32\"/>\r\n    </g>\r\n   </g>\r\n   <g id=\"text_354\">\r\n    <!-- -0.00 -->\r\n    <g style=\"fill:#ffffff;\" transform=\"translate(553.086719 330.858594)scale(0.1 -0.1)\">\r\n     <use xlink:href=\"#DejaVuSans-2d\"/>\r\n     <use x=\"36.083984\" xlink:href=\"#DejaVuSans-30\"/>\r\n     <use x=\"99.707031\" xlink:href=\"#DejaVuSans-2e\"/>\r\n     <use x=\"131.494141\" xlink:href=\"#DejaVuSans-30\"/>\r\n     <use x=\"195.117188\" xlink:href=\"#DejaVuSans-30\"/>\r\n    </g>\r\n   </g>\r\n   <g id=\"text_355\">\r\n    <!-- -0.02 -->\r\n    <g style=\"fill:#ffffff;\" transform=\"translate(590.286719 330.858594)scale(0.1 -0.1)\">\r\n     <use xlink:href=\"#DejaVuSans-2d\"/>\r\n     <use x=\"36.083984\" xlink:href=\"#DejaVuSans-30\"/>\r\n     <use x=\"99.707031\" xlink:href=\"#DejaVuSans-2e\"/>\r\n     <use x=\"131.494141\" xlink:href=\"#DejaVuSans-30\"/>\r\n     <use x=\"195.117188\" xlink:href=\"#DejaVuSans-32\"/>\r\n    </g>\r\n   </g>\r\n   <g id=\"text_356\">\r\n    <!-- -0.02 -->\r\n    <g style=\"fill:#ffffff;\" transform=\"translate(627.486719 330.858594)scale(0.1 -0.1)\">\r\n     <use xlink:href=\"#DejaVuSans-2d\"/>\r\n     <use x=\"36.083984\" xlink:href=\"#DejaVuSans-30\"/>\r\n     <use x=\"99.707031\" xlink:href=\"#DejaVuSans-2e\"/>\r\n     <use x=\"131.494141\" xlink:href=\"#DejaVuSans-30\"/>\r\n     <use x=\"195.117188\" xlink:href=\"#DejaVuSans-32\"/>\r\n    </g>\r\n   </g>\r\n   <g id=\"text_357\">\r\n    <!-- -0.00 -->\r\n    <g style=\"fill:#ffffff;\" transform=\"translate(664.686719 330.858594)scale(0.1 -0.1)\">\r\n     <use xlink:href=\"#DejaVuSans-2d\"/>\r\n     <use x=\"36.083984\" xlink:href=\"#DejaVuSans-30\"/>\r\n     <use x=\"99.707031\" xlink:href=\"#DejaVuSans-2e\"/>\r\n     <use x=\"131.494141\" xlink:href=\"#DejaVuSans-30\"/>\r\n     <use x=\"195.117188\" xlink:href=\"#DejaVuSans-30\"/>\r\n    </g>\r\n   </g>\r\n   <g id=\"text_358\">\r\n    <!-- 0.03 -->\r\n    <g style=\"fill:#ffffff;\" transform=\"translate(703.690625 330.858594)scale(0.1 -0.1)\">\r\n     <use xlink:href=\"#DejaVuSans-30\"/>\r\n     <use x=\"63.623047\" xlink:href=\"#DejaVuSans-2e\"/>\r\n     <use x=\"95.410156\" xlink:href=\"#DejaVuSans-30\"/>\r\n     <use x=\"159.033203\" xlink:href=\"#DejaVuSans-33\"/>\r\n    </g>\r\n   </g>\r\n   <g id=\"text_359\">\r\n    <!-- 0.01 -->\r\n    <g style=\"fill:#ffffff;\" transform=\"translate(740.890625 330.858594)scale(0.1 -0.1)\">\r\n     <use xlink:href=\"#DejaVuSans-30\"/>\r\n     <use x=\"63.623047\" xlink:href=\"#DejaVuSans-2e\"/>\r\n     <use x=\"95.410156\" xlink:href=\"#DejaVuSans-30\"/>\r\n     <use x=\"159.033203\" xlink:href=\"#DejaVuSans-31\"/>\r\n    </g>\r\n   </g>\r\n   <g id=\"text_360\">\r\n    <!-- 1.00 -->\r\n    <g style=\"fill:#262626;\" transform=\"translate(778.090625 330.858594)scale(0.1 -0.1)\">\r\n     <use xlink:href=\"#DejaVuSans-31\"/>\r\n     <use x=\"63.623047\" xlink:href=\"#DejaVuSans-2e\"/>\r\n     <use x=\"95.410156\" xlink:href=\"#DejaVuSans-30\"/>\r\n     <use x=\"159.033203\" xlink:href=\"#DejaVuSans-30\"/>\r\n    </g>\r\n   </g>\r\n  </g>\r\n  <g id=\"axes_2\">\r\n   <g id=\"patch_3\">\r\n    <path clip-path=\"url(#pd076c828f4)\" d=\"M 849.673437 337.159219 \r\nL 849.673437 335.885156 \r\nL 849.673437 12.273281 \r\nL 849.673437 10.999219 \r\nL 865.981437 10.999219 \r\nL 865.981437 12.273281 \r\nL 865.981437 335.885156 \r\nL 865.981437 337.159219 \r\nz\r\n\" style=\"fill:#ffffff;stroke:#ffffff;stroke-linejoin:miter;stroke-width:0.01;\"/>\r\n   </g>\r\n   <image height=\"326\" id=\"image1cba81cccc\" transform=\"scale(1 -1)translate(0 -326)\" width=\"16\" x=\"850\" xlink:href=\"data:image/png;base64,\r\niVBORw0KGgoAAAANSUhEUgAAABAAAAFGCAYAAABjUx8/AAAABHNCSVQICAgIfAhkiAAAAbFJREFUeJztnNENw1AIA3lpukT33zMd4pDOQfS/yNyzIWqSns/39xT43Id8u6ruc1iJCwrgCu5TtABVcPkQKQPaQgNE2EKAE3WInAE9hYA4B6TRzoKvoAMiqzHCSHYLvoKFGJLGt4+0BCPZDAKMxBlgBWukCUZqgEgVLEQOMYABP0aqwJ4HHWMdFtAZ4MXSAPH1TpxhJKjATyO/RtIhjnAiVrAMdCeOSCO6yzQFIi5gpzGAATVSwEWWX2AhNiwWCHECgzXSEAasB3+9J0B8KESqoGE7sxY6IMICB1uZCUiYSDoDrCBhpME0+afQ8cM0hggLBIx13IIPEVIcYSQcZ6ggwYlwuyYYibegOxFSCEijbiSsIMKJsoIOBrSAHaYJECsAIiuQAPH9DPQWOhTYdzj0FriC0iEugxYGdgH/gWefQV2siwAGAU6EmyUAYsMpwLeJ/JFGj3HTGAGROnEhZjiRPqtLW0hgEGAk+pLohLGuFwi4UsUtDEijfIy+E0ek0VYwAuIy8BVMgHjOx1UQsRfWSHVRHyzEEWGyj9G38gSI+M+FRjhRHmkBq033QQRE5oM/GU0uS6vfPsoAAAAASUVORK5CYII=\" y=\"-11\"/>\r\n   <g id=\"matplotlib.axis_3\"/>\r\n   <g id=\"matplotlib.axis_4\">\r\n    <g id=\"ytick_19\">\r\n     <g id=\"line2d_37\">\r\n      <defs>\r\n       <path d=\"M 0 0 \r\nL 3.5 0 \r\n\" id=\"mb268e9a12a\" style=\"stroke:#000000;stroke-width:0.8;\"/>\r\n      </defs>\r\n      <g>\r\n       <use style=\"stroke:#000000;stroke-width:0.8;\" x=\"865.981437\" xlink:href=\"#mb268e9a12a\" y=\"310.303274\"/>\r\n      </g>\r\n     </g>\r\n     <g id=\"text_361\">\r\n      <!-- 0.0 -->\r\n      <g transform=\"translate(872.981437 314.102492)scale(0.1 -0.1)\">\r\n       <use xlink:href=\"#DejaVuSans-30\"/>\r\n       <use x=\"63.623047\" xlink:href=\"#DejaVuSans-2e\"/>\r\n       <use x=\"95.410156\" xlink:href=\"#DejaVuSans-30\"/>\r\n      </g>\r\n     </g>\r\n    </g>\r\n    <g id=\"ytick_20\">\r\n     <g id=\"line2d_38\">\r\n      <g>\r\n       <use style=\"stroke:#000000;stroke-width:0.8;\" x=\"865.981437\" xlink:href=\"#mb268e9a12a\" y=\"250.442463\"/>\r\n      </g>\r\n     </g>\r\n     <g id=\"text_362\">\r\n      <!-- 0.2 -->\r\n      <g transform=\"translate(872.981437 254.241681)scale(0.1 -0.1)\">\r\n       <use xlink:href=\"#DejaVuSans-30\"/>\r\n       <use x=\"63.623047\" xlink:href=\"#DejaVuSans-2e\"/>\r\n       <use x=\"95.410156\" xlink:href=\"#DejaVuSans-32\"/>\r\n      </g>\r\n     </g>\r\n    </g>\r\n    <g id=\"ytick_21\">\r\n     <g id=\"line2d_39\">\r\n      <g>\r\n       <use style=\"stroke:#000000;stroke-width:0.8;\" x=\"865.981437\" xlink:href=\"#mb268e9a12a\" y=\"190.581652\"/>\r\n      </g>\r\n     </g>\r\n     <g id=\"text_363\">\r\n      <!-- 0.4 -->\r\n      <g transform=\"translate(872.981437 194.38087)scale(0.1 -0.1)\">\r\n       <use xlink:href=\"#DejaVuSans-30\"/>\r\n       <use x=\"63.623047\" xlink:href=\"#DejaVuSans-2e\"/>\r\n       <use x=\"95.410156\" xlink:href=\"#DejaVuSans-34\"/>\r\n      </g>\r\n     </g>\r\n    </g>\r\n    <g id=\"ytick_22\">\r\n     <g id=\"line2d_40\">\r\n      <g>\r\n       <use style=\"stroke:#000000;stroke-width:0.8;\" x=\"865.981437\" xlink:href=\"#mb268e9a12a\" y=\"130.720841\"/>\r\n      </g>\r\n     </g>\r\n     <g id=\"text_364\">\r\n      <!-- 0.6 -->\r\n      <g transform=\"translate(872.981437 134.520059)scale(0.1 -0.1)\">\r\n       <use xlink:href=\"#DejaVuSans-30\"/>\r\n       <use x=\"63.623047\" xlink:href=\"#DejaVuSans-2e\"/>\r\n       <use x=\"95.410156\" xlink:href=\"#DejaVuSans-36\"/>\r\n      </g>\r\n     </g>\r\n    </g>\r\n    <g id=\"ytick_23\">\r\n     <g id=\"line2d_41\">\r\n      <g>\r\n       <use style=\"stroke:#000000;stroke-width:0.8;\" x=\"865.981437\" xlink:href=\"#mb268e9a12a\" y=\"70.86003\"/>\r\n      </g>\r\n     </g>\r\n     <g id=\"text_365\">\r\n      <!-- 0.8 -->\r\n      <g transform=\"translate(872.981437 74.659248)scale(0.1 -0.1)\">\r\n       <use xlink:href=\"#DejaVuSans-30\"/>\r\n       <use x=\"63.623047\" xlink:href=\"#DejaVuSans-2e\"/>\r\n       <use x=\"95.410156\" xlink:href=\"#DejaVuSans-38\"/>\r\n      </g>\r\n     </g>\r\n    </g>\r\n    <g id=\"ytick_24\">\r\n     <g id=\"line2d_42\">\r\n      <g>\r\n       <use style=\"stroke:#000000;stroke-width:0.8;\" x=\"865.981437\" xlink:href=\"#mb268e9a12a\" y=\"10.999219\"/>\r\n      </g>\r\n     </g>\r\n     <g id=\"text_366\">\r\n      <!-- 1.0 -->\r\n      <g transform=\"translate(872.981437 14.798438)scale(0.1 -0.1)\">\r\n       <use xlink:href=\"#DejaVuSans-31\"/>\r\n       <use x=\"63.623047\" xlink:href=\"#DejaVuSans-2e\"/>\r\n       <use x=\"95.410156\" xlink:href=\"#DejaVuSans-30\"/>\r\n      </g>\r\n     </g>\r\n    </g>\r\n   </g>\r\n   <g id=\"patch_4\">\r\n    <path d=\"M 849.673437 337.159219 \r\nL 849.673437 335.885156 \r\nL 849.673437 12.273281 \r\nL 849.673437 10.999219 \r\nL 865.981437 10.999219 \r\nL 865.981437 12.273281 \r\nL 865.981437 335.885156 \r\nL 865.981437 337.159219 \r\nz\r\n\" style=\"fill:none;\"/>\r\n   </g>\r\n  </g>\r\n </g>\r\n <defs>\r\n  <clipPath id=\"p558c391708\">\r\n   <rect height=\"326.16\" width=\"669.6\" x=\"138.223437\" y=\"10.999219\"/>\r\n  </clipPath>\r\n  <clipPath id=\"pd076c828f4\">\r\n   <rect height=\"326.16\" width=\"16.308\" x=\"849.673437\" y=\"10.999219\"/>\r\n  </clipPath>\r\n </defs>\r\n</svg>\r\n",
            "text/plain": [
              "<matplotlib.figure.Figure at 0x1a75a5c0160>"
            ]
          },
          "metadata": {
            "tags": []
          }
        }
      ]
    },
    {
      "metadata": {
        "id": "dBt-gQOgp8UL",
        "colab_type": "text"
      },
      "cell_type": "markdown",
      "source": [
        "Из всех признаков на признак Churn менее всего влияют признаки: Sex, Age, State, Account length, Number vmail messages, Total day calls, Total eve calls, Total night calls, Total intl calls, Area code (их корреляция минимальна), поэтому их можно удалить."
      ]
    },
    {
      "metadata": {
        "collapsed": true,
        "id": "zGd97hEdp8UM",
        "colab_type": "code",
        "colab": {}
      },
      "cell_type": "code",
      "source": [
        "data = data.drop([ 'Sex', 'Age', 'State', 'Account length', 'Number vmail messages',\n",
        "                  'Total day calls', 'Total eve calls', 'Total night calls', 'Total intl calls', 'Area code'], axis=1) "
      ],
      "execution_count": 0,
      "outputs": []
    },
    {
      "metadata": {
        "id": "K2GogvY-p8US",
        "colab_type": "code",
        "colab": {},
        "outputId": "a8ccc4f9-2cc9-4820-e0e9-046422a89d51"
      },
      "cell_type": "code",
      "source": [
        "plt.figure(figsize=(20, 8))\n",
        "sns.heatmap(data.corr(), annot=True, fmt=\".2f\", linewidths=.5)"
      ],
      "execution_count": 0,
      "outputs": [
        {
          "output_type": "execute_result",
          "data": {
            "text/plain": [
              "<matplotlib.axes._subplots.AxesSubplot at 0x1a75cbe4b00>"
            ]
          },
          "metadata": {
            "tags": []
          },
          "execution_count": 503
        },
        {
          "output_type": "display_data",
          "data": {
            "image/svg+xml": "<?xml version=\"1.0\" encoding=\"utf-8\" standalone=\"no\"?>\r\n<!DOCTYPE svg PUBLIC \"-//W3C//DTD SVG 1.1//EN\"\r\n  \"http://www.w3.org/Graphics/SVG/1.1/DTD/svg11.dtd\">\r\n<!-- Created with matplotlib (http://matplotlib.org/) -->\r\n<svg height=\"469pt\" version=\"1.1\" viewBox=\"0 0 1127 469\" width=\"1127pt\" xmlns=\"http://www.w3.org/2000/svg\" xmlns:xlink=\"http://www.w3.org/1999/xlink\">\r\n <defs>\r\n  <style type=\"text/css\">\r\n*{stroke-linecap:butt;stroke-linejoin:round;}\r\n  </style>\r\n </defs>\r\n <g id=\"figure_1\">\r\n  <g id=\"patch_1\">\r\n   <path d=\"M 0 469.757344 \r\nL 1127.790875 469.757344 \r\nL 1127.790875 0 \r\nL 0 0 \r\nz\r\n\" style=\"fill:none;\"/>\r\n  </g>\r\n  <g id=\"axes_1\">\r\n   <g id=\"patch_2\">\r\n    <path d=\"M 127.34375 445.879219 \r\nL 1020.14375 445.879219 \r\nL 1020.14375 10.999219 \r\nL 127.34375 10.999219 \r\nz\r\n\" style=\"fill:#ffffff;\"/>\r\n   </g>\r\n   <g id=\"QuadMesh_1\">\r\n    <path clip-path=\"url(#p1f47e92c7b)\" d=\"M 127.34375 10.999219 \r\nL 238.94375 10.999219 \r\nL 238.94375 65.359219 \r\nL 127.34375 65.359219 \r\nL 127.34375 10.999219 \r\n\" style=\"fill:#faebdd;stroke:#ffffff;stroke-width:0.5;\"/>\r\n    <path clip-path=\"url(#p1f47e92c7b)\" d=\"M 238.94375 10.999219 \r\nL 350.54375 10.999219 \r\nL 350.54375 65.359219 \r\nL 238.94375 65.359219 \r\nL 238.94375 10.999219 \r\n\" style=\"fill:#170f28;stroke:#ffffff;stroke-width:0.5;\"/>\r\n    <path clip-path=\"url(#p1f47e92c7b)\" d=\"M 350.54375 10.999219 \r\nL 462.14375 10.999219 \r\nL 462.14375 65.359219 \r\nL 350.54375 65.359219 \r\nL 350.54375 10.999219 \r\n\" style=\"fill:#160e27;stroke:#ffffff;stroke-width:0.5;\"/>\r\n    <path clip-path=\"url(#p1f47e92c7b)\" d=\"M 462.14375 10.999219 \r\nL 573.74375 10.999219 \r\nL 573.74375 65.359219 \r\nL 462.14375 65.359219 \r\nL 462.14375 10.999219 \r\n\" style=\"fill:#05061b;stroke:#ffffff;stroke-width:0.5;\"/>\r\n    <path clip-path=\"url(#p1f47e92c7b)\" d=\"M 573.74375 10.999219 \r\nL 685.34375 10.999219 \r\nL 685.34375 65.359219 \r\nL 573.74375 65.359219 \r\nL 573.74375 10.999219 \r\n\" style=\"fill:#170f28;stroke:#ffffff;stroke-width:0.5;\"/>\r\n    <path clip-path=\"url(#p1f47e92c7b)\" d=\"M 685.34375 10.999219 \r\nL 796.94375 10.999219 \r\nL 796.94375 65.359219 \r\nL 685.34375 65.359219 \r\nL 685.34375 10.999219 \r\n\" style=\"fill:#180f29;stroke:#ffffff;stroke-width:0.5;\"/>\r\n    <path clip-path=\"url(#p1f47e92c7b)\" d=\"M 796.94375 10.999219 \r\nL 908.54375 10.999219 \r\nL 908.54375 65.359219 \r\nL 796.94375 65.359219 \r\nL 796.94375 10.999219 \r\n\" style=\"fill:#03051a;stroke:#ffffff;stroke-width:0.5;\"/>\r\n    <path clip-path=\"url(#p1f47e92c7b)\" d=\"M 908.54375 10.999219 \r\nL 1020.14375 10.999219 \r\nL 1020.14375 65.359219 \r\nL 908.54375 65.359219 \r\nL 908.54375 10.999219 \r\n\" style=\"fill:#401b44;stroke:#ffffff;stroke-width:0.5;\"/>\r\n    <path clip-path=\"url(#p1f47e92c7b)\" d=\"M 127.34375 65.359219 \r\nL 238.94375 65.359219 \r\nL 238.94375 119.719219 \r\nL 127.34375 119.719219 \r\nL 127.34375 65.359219 \r\n\" style=\"fill:#170f28;stroke:#ffffff;stroke-width:0.5;\"/>\r\n    <path clip-path=\"url(#p1f47e92c7b)\" d=\"M 238.94375 65.359219 \r\nL 350.54375 65.359219 \r\nL 350.54375 119.719219 \r\nL 238.94375 119.719219 \r\nL 238.94375 65.359219 \r\n\" style=\"fill:#faebdd;stroke:#ffffff;stroke-width:0.5;\"/>\r\n    <path clip-path=\"url(#p1f47e92c7b)\" d=\"M 350.54375 65.359219 \r\nL 462.14375 65.359219 \r\nL 462.14375 119.719219 \r\nL 350.54375 119.719219 \r\nL 350.54375 65.359219 \r\n\" style=\"fill:#221331;stroke:#ffffff;stroke-width:0.5;\"/>\r\n    <path clip-path=\"url(#p1f47e92c7b)\" d=\"M 462.14375 65.359219 \r\nL 573.74375 65.359219 \r\nL 573.74375 119.719219 \r\nL 462.14375 119.719219 \r\nL 462.14375 65.359219 \r\n\" style=\"fill:#211330;stroke:#ffffff;stroke-width:0.5;\"/>\r\n    <path clip-path=\"url(#p1f47e92c7b)\" d=\"M 573.74375 65.359219 \r\nL 685.34375 65.359219 \r\nL 685.34375 119.719219 \r\nL 573.74375 119.719219 \r\nL 573.74375 65.359219 \r\n\" style=\"fill:#180f29;stroke:#ffffff;stroke-width:0.5;\"/>\r\n    <path clip-path=\"url(#p1f47e92c7b)\" d=\"M 685.34375 65.359219 \r\nL 796.94375 65.359219 \r\nL 796.94375 119.719219 \r\nL 685.34375 119.719219 \r\nL 685.34375 65.359219 \r\n\" style=\"fill:#f7c6a6;stroke:#ffffff;stroke-width:0.5;\"/>\r\n    <path clip-path=\"url(#p1f47e92c7b)\" d=\"M 796.94375 65.359219 \r\nL 908.54375 65.359219 \r\nL 908.54375 119.719219 \r\nL 796.94375 119.719219 \r\nL 796.94375 65.359219 \r\n\" style=\"fill:#06071c;stroke:#ffffff;stroke-width:0.5;\"/>\r\n    <path clip-path=\"url(#p1f47e92c7b)\" d=\"M 908.54375 65.359219 \r\nL 1020.14375 65.359219 \r\nL 1020.14375 119.719219 \r\nL 908.54375 119.719219 \r\nL 908.54375 65.359219 \r\n\" style=\"fill:#601f52;stroke:#ffffff;stroke-width:0.5;\"/>\r\n    <path clip-path=\"url(#p1f47e92c7b)\" d=\"M 127.34375 119.719219 \r\nL 238.94375 119.719219 \r\nL 238.94375 174.079219 \r\nL 127.34375 174.079219 \r\nL 127.34375 119.719219 \r\n\" style=\"fill:#160e27;stroke:#ffffff;stroke-width:0.5;\"/>\r\n    <path clip-path=\"url(#p1f47e92c7b)\" d=\"M 238.94375 119.719219 \r\nL 350.54375 119.719219 \r\nL 350.54375 174.079219 \r\nL 238.94375 174.079219 \r\nL 238.94375 119.719219 \r\n\" style=\"fill:#221331;stroke:#ffffff;stroke-width:0.5;\"/>\r\n    <path clip-path=\"url(#p1f47e92c7b)\" d=\"M 350.54375 119.719219 \r\nL 462.14375 119.719219 \r\nL 462.14375 174.079219 \r\nL 350.54375 174.079219 \r\nL 350.54375 119.719219 \r\n\" style=\"fill:#faebdd;stroke:#ffffff;stroke-width:0.5;\"/>\r\n    <path clip-path=\"url(#p1f47e92c7b)\" d=\"M 462.14375 119.719219 \r\nL 573.74375 119.719219 \r\nL 573.74375 174.079219 \r\nL 462.14375 174.079219 \r\nL 462.14375 119.719219 \r\n\" style=\"fill:#100b23;stroke:#ffffff;stroke-width:0.5;\"/>\r\n    <path clip-path=\"url(#p1f47e92c7b)\" d=\"M 573.74375 119.719219 \r\nL 685.34375 119.719219 \r\nL 685.34375 174.079219 \r\nL 573.74375 174.079219 \r\nL 573.74375 119.719219 \r\n\" style=\"fill:#0e0b22;stroke:#ffffff;stroke-width:0.5;\"/>\r\n    <path clip-path=\"url(#p1f47e92c7b)\" d=\"M 685.34375 119.719219 \r\nL 796.94375 119.719219 \r\nL 796.94375 174.079219 \r\nL 685.34375 174.079219 \r\nL 685.34375 119.719219 \r\n\" style=\"fill:#ba1656;stroke:#ffffff;stroke-width:0.5;\"/>\r\n    <path clip-path=\"url(#p1f47e92c7b)\" d=\"M 796.94375 119.719219 \r\nL 908.54375 119.719219 \r\nL 908.54375 174.079219 \r\nL 796.94375 174.079219 \r\nL 796.94375 119.719219 \r\n\" style=\"fill:#06071c;stroke:#ffffff;stroke-width:0.5;\"/>\r\n    <path clip-path=\"url(#p1f47e92c7b)\" d=\"M 908.54375 119.719219 \r\nL 1020.14375 119.719219 \r\nL 1020.14375 174.079219 \r\nL 908.54375 174.079219 \r\nL 908.54375 119.719219 \r\n\" style=\"fill:#34193d;stroke:#ffffff;stroke-width:0.5;\"/>\r\n    <path clip-path=\"url(#p1f47e92c7b)\" d=\"M 127.34375 174.079219 \r\nL 238.94375 174.079219 \r\nL 238.94375 228.439219 \r\nL 127.34375 228.439219 \r\nL 127.34375 174.079219 \r\n\" style=\"fill:#05061b;stroke:#ffffff;stroke-width:0.5;\"/>\r\n    <path clip-path=\"url(#p1f47e92c7b)\" d=\"M 238.94375 174.079219 \r\nL 350.54375 174.079219 \r\nL 350.54375 228.439219 \r\nL 238.94375 228.439219 \r\nL 238.94375 174.079219 \r\n\" style=\"fill:#211330;stroke:#ffffff;stroke-width:0.5;\"/>\r\n    <path clip-path=\"url(#p1f47e92c7b)\" d=\"M 350.54375 174.079219 \r\nL 462.14375 174.079219 \r\nL 462.14375 228.439219 \r\nL 350.54375 228.439219 \r\nL 350.54375 174.079219 \r\n\" style=\"fill:#100b23;stroke:#ffffff;stroke-width:0.5;\"/>\r\n    <path clip-path=\"url(#p1f47e92c7b)\" d=\"M 462.14375 174.079219 \r\nL 573.74375 174.079219 \r\nL 573.74375 228.439219 \r\nL 462.14375 228.439219 \r\nL 462.14375 174.079219 \r\n\" style=\"fill:#faebdd;stroke:#ffffff;stroke-width:0.5;\"/>\r\n    <path clip-path=\"url(#p1f47e92c7b)\" d=\"M 573.74375 174.079219 \r\nL 685.34375 174.079219 \r\nL 685.34375 228.439219 \r\nL 573.74375 228.439219 \r\nL 573.74375 174.079219 \r\n\" style=\"fill:#0d0a21;stroke:#ffffff;stroke-width:0.5;\"/>\r\n    <path clip-path=\"url(#p1f47e92c7b)\" d=\"M 685.34375 174.079219 \r\nL 796.94375 174.079219 \r\nL 796.94375 228.439219 \r\nL 685.34375 228.439219 \r\nL 685.34375 174.079219 \r\n\" style=\"fill:#6e1f57;stroke:#ffffff;stroke-width:0.5;\"/>\r\n    <path clip-path=\"url(#p1f47e92c7b)\" d=\"M 796.94375 174.079219 \r\nL 908.54375 174.079219 \r\nL 908.54375 228.439219 \r\nL 796.94375 228.439219 \r\nL 796.94375 174.079219 \r\n\" style=\"fill:#07071d;stroke:#ffffff;stroke-width:0.5;\"/>\r\n    <path clip-path=\"url(#p1f47e92c7b)\" d=\"M 908.54375 174.079219 \r\nL 1020.14375 174.079219 \r\nL 1020.14375 228.439219 \r\nL 908.54375 228.439219 \r\nL 908.54375 174.079219 \r\n\" style=\"fill:#20122e;stroke:#ffffff;stroke-width:0.5;\"/>\r\n    <path clip-path=\"url(#p1f47e92c7b)\" d=\"M 127.34375 228.439219 \r\nL 238.94375 228.439219 \r\nL 238.94375 282.799219 \r\nL 127.34375 282.799219 \r\nL 127.34375 228.439219 \r\n\" style=\"fill:#170f28;stroke:#ffffff;stroke-width:0.5;\"/>\r\n    <path clip-path=\"url(#p1f47e92c7b)\" d=\"M 238.94375 228.439219 \r\nL 350.54375 228.439219 \r\nL 350.54375 282.799219 \r\nL 238.94375 282.799219 \r\nL 238.94375 228.439219 \r\n\" style=\"fill:#180f29;stroke:#ffffff;stroke-width:0.5;\"/>\r\n    <path clip-path=\"url(#p1f47e92c7b)\" d=\"M 350.54375 228.439219 \r\nL 462.14375 228.439219 \r\nL 462.14375 282.799219 \r\nL 350.54375 282.799219 \r\nL 350.54375 228.439219 \r\n\" style=\"fill:#0e0b22;stroke:#ffffff;stroke-width:0.5;\"/>\r\n    <path clip-path=\"url(#p1f47e92c7b)\" d=\"M 462.14375 228.439219 \r\nL 573.74375 228.439219 \r\nL 573.74375 282.799219 \r\nL 462.14375 282.799219 \r\nL 462.14375 228.439219 \r\n\" style=\"fill:#0d0a21;stroke:#ffffff;stroke-width:0.5;\"/>\r\n    <path clip-path=\"url(#p1f47e92c7b)\" d=\"M 573.74375 228.439219 \r\nL 685.34375 228.439219 \r\nL 685.34375 282.799219 \r\nL 573.74375 282.799219 \r\nL 573.74375 228.439219 \r\n\" style=\"fill:#faebdd;stroke:#ffffff;stroke-width:0.5;\"/>\r\n    <path clip-path=\"url(#p1f47e92c7b)\" d=\"M 685.34375 228.439219 \r\nL 796.94375 228.439219 \r\nL 796.94375 282.799219 \r\nL 685.34375 282.799219 \r\nL 685.34375 228.439219 \r\n\" style=\"fill:#30173a;stroke:#ffffff;stroke-width:0.5;\"/>\r\n    <path clip-path=\"url(#p1f47e92c7b)\" d=\"M 796.94375 228.439219 \r\nL 908.54375 228.439219 \r\nL 908.54375 282.799219 \r\nL 796.94375 282.799219 \r\nL 796.94375 228.439219 \r\n\" style=\"fill:#07071d;stroke:#ffffff;stroke-width:0.5;\"/>\r\n    <path clip-path=\"url(#p1f47e92c7b)\" d=\"M 908.54375 228.439219 \r\nL 1020.14375 228.439219 \r\nL 1020.14375 282.799219 \r\nL 908.54375 282.799219 \r\nL 908.54375 228.439219 \r\n\" style=\"fill:#2b1637;stroke:#ffffff;stroke-width:0.5;\"/>\r\n    <path clip-path=\"url(#p1f47e92c7b)\" d=\"M 127.34375 282.799219 \r\nL 238.94375 282.799219 \r\nL 238.94375 337.159219 \r\nL 127.34375 337.159219 \r\nL 127.34375 282.799219 \r\n\" style=\"fill:#180f29;stroke:#ffffff;stroke-width:0.5;\"/>\r\n    <path clip-path=\"url(#p1f47e92c7b)\" d=\"M 238.94375 282.799219 \r\nL 350.54375 282.799219 \r\nL 350.54375 337.159219 \r\nL 238.94375 337.159219 \r\nL 238.94375 282.799219 \r\n\" style=\"fill:#f7c6a6;stroke:#ffffff;stroke-width:0.5;\"/>\r\n    <path clip-path=\"url(#p1f47e92c7b)\" d=\"M 350.54375 282.799219 \r\nL 462.14375 282.799219 \r\nL 462.14375 337.159219 \r\nL 350.54375 337.159219 \r\nL 350.54375 282.799219 \r\n\" style=\"fill:#ba1656;stroke:#ffffff;stroke-width:0.5;\"/>\r\n    <path clip-path=\"url(#p1f47e92c7b)\" d=\"M 462.14375 282.799219 \r\nL 573.74375 282.799219 \r\nL 573.74375 337.159219 \r\nL 462.14375 337.159219 \r\nL 462.14375 282.799219 \r\n\" style=\"fill:#6e1f57;stroke:#ffffff;stroke-width:0.5;\"/>\r\n    <path clip-path=\"url(#p1f47e92c7b)\" d=\"M 573.74375 282.799219 \r\nL 685.34375 282.799219 \r\nL 685.34375 337.159219 \r\nL 573.74375 337.159219 \r\nL 573.74375 282.799219 \r\n\" style=\"fill:#30173a;stroke:#ffffff;stroke-width:0.5;\"/>\r\n    <path clip-path=\"url(#p1f47e92c7b)\" d=\"M 685.34375 282.799219 \r\nL 796.94375 282.799219 \r\nL 796.94375 337.159219 \r\nL 685.34375 337.159219 \r\nL 685.34375 282.799219 \r\n\" style=\"fill:#faebdd;stroke:#ffffff;stroke-width:0.5;\"/>\r\n    <path clip-path=\"url(#p1f47e92c7b)\" d=\"M 796.94375 282.799219 \r\nL 908.54375 282.799219 \r\nL 908.54375 337.159219 \r\nL 796.94375 337.159219 \r\nL 796.94375 282.799219 \r\n\" style=\"fill:#04051a;stroke:#ffffff;stroke-width:0.5;\"/>\r\n    <path clip-path=\"url(#p1f47e92c7b)\" d=\"M 908.54375 282.799219 \r\nL 1020.14375 282.799219 \r\nL 1020.14375 337.159219 \r\nL 908.54375 337.159219 \r\nL 908.54375 282.799219 \r\n\" style=\"fill:#6b1f56;stroke:#ffffff;stroke-width:0.5;\"/>\r\n    <path clip-path=\"url(#p1f47e92c7b)\" d=\"M 127.34375 337.159219 \r\nL 238.94375 337.159219 \r\nL 238.94375 391.519219 \r\nL 127.34375 391.519219 \r\nL 127.34375 337.159219 \r\n\" style=\"fill:#03051a;stroke:#ffffff;stroke-width:0.5;\"/>\r\n    <path clip-path=\"url(#p1f47e92c7b)\" d=\"M 238.94375 337.159219 \r\nL 350.54375 337.159219 \r\nL 350.54375 391.519219 \r\nL 238.94375 391.519219 \r\nL 238.94375 337.159219 \r\n\" style=\"fill:#06071c;stroke:#ffffff;stroke-width:0.5;\"/>\r\n    <path clip-path=\"url(#p1f47e92c7b)\" d=\"M 350.54375 337.159219 \r\nL 462.14375 337.159219 \r\nL 462.14375 391.519219 \r\nL 350.54375 391.519219 \r\nL 350.54375 337.159219 \r\n\" style=\"fill:#06071c;stroke:#ffffff;stroke-width:0.5;\"/>\r\n    <path clip-path=\"url(#p1f47e92c7b)\" d=\"M 462.14375 337.159219 \r\nL 573.74375 337.159219 \r\nL 573.74375 391.519219 \r\nL 462.14375 391.519219 \r\nL 462.14375 337.159219 \r\n\" style=\"fill:#07071d;stroke:#ffffff;stroke-width:0.5;\"/>\r\n    <path clip-path=\"url(#p1f47e92c7b)\" d=\"M 573.74375 337.159219 \r\nL 685.34375 337.159219 \r\nL 685.34375 391.519219 \r\nL 573.74375 391.519219 \r\nL 573.74375 337.159219 \r\n\" style=\"fill:#07071d;stroke:#ffffff;stroke-width:0.5;\"/>\r\n    <path clip-path=\"url(#p1f47e92c7b)\" d=\"M 685.34375 337.159219 \r\nL 796.94375 337.159219 \r\nL 796.94375 391.519219 \r\nL 685.34375 391.519219 \r\nL 685.34375 337.159219 \r\n\" style=\"fill:#04051a;stroke:#ffffff;stroke-width:0.5;\"/>\r\n    <path clip-path=\"url(#p1f47e92c7b)\" d=\"M 796.94375 337.159219 \r\nL 908.54375 337.159219 \r\nL 908.54375 391.519219 \r\nL 796.94375 391.519219 \r\nL 796.94375 337.159219 \r\n\" style=\"fill:#faebdd;stroke:#ffffff;stroke-width:0.5;\"/>\r\n    <path clip-path=\"url(#p1f47e92c7b)\" d=\"M 908.54375 337.159219 \r\nL 1020.14375 337.159219 \r\nL 1020.14375 391.519219 \r\nL 908.54375 391.519219 \r\nL 908.54375 337.159219 \r\n\" style=\"fill:#591e50;stroke:#ffffff;stroke-width:0.5;\"/>\r\n    <path clip-path=\"url(#p1f47e92c7b)\" d=\"M 127.34375 391.519219 \r\nL 238.94375 391.519219 \r\nL 238.94375 445.879219 \r\nL 127.34375 445.879219 \r\nL 127.34375 391.519219 \r\n\" style=\"fill:#401b44;stroke:#ffffff;stroke-width:0.5;\"/>\r\n    <path clip-path=\"url(#p1f47e92c7b)\" d=\"M 238.94375 391.519219 \r\nL 350.54375 391.519219 \r\nL 350.54375 445.879219 \r\nL 238.94375 445.879219 \r\nL 238.94375 391.519219 \r\n\" style=\"fill:#601f52;stroke:#ffffff;stroke-width:0.5;\"/>\r\n    <path clip-path=\"url(#p1f47e92c7b)\" d=\"M 350.54375 391.519219 \r\nL 462.14375 391.519219 \r\nL 462.14375 445.879219 \r\nL 350.54375 445.879219 \r\nL 350.54375 391.519219 \r\n\" style=\"fill:#34193d;stroke:#ffffff;stroke-width:0.5;\"/>\r\n    <path clip-path=\"url(#p1f47e92c7b)\" d=\"M 462.14375 391.519219 \r\nL 573.74375 391.519219 \r\nL 573.74375 445.879219 \r\nL 462.14375 445.879219 \r\nL 462.14375 391.519219 \r\n\" style=\"fill:#20122e;stroke:#ffffff;stroke-width:0.5;\"/>\r\n    <path clip-path=\"url(#p1f47e92c7b)\" d=\"M 573.74375 391.519219 \r\nL 685.34375 391.519219 \r\nL 685.34375 445.879219 \r\nL 573.74375 445.879219 \r\nL 573.74375 391.519219 \r\n\" style=\"fill:#2b1637;stroke:#ffffff;stroke-width:0.5;\"/>\r\n    <path clip-path=\"url(#p1f47e92c7b)\" d=\"M 685.34375 391.519219 \r\nL 796.94375 391.519219 \r\nL 796.94375 445.879219 \r\nL 685.34375 445.879219 \r\nL 685.34375 391.519219 \r\n\" style=\"fill:#6b1f56;stroke:#ffffff;stroke-width:0.5;\"/>\r\n    <path clip-path=\"url(#p1f47e92c7b)\" d=\"M 796.94375 391.519219 \r\nL 908.54375 391.519219 \r\nL 908.54375 445.879219 \r\nL 796.94375 445.879219 \r\nL 796.94375 391.519219 \r\n\" style=\"fill:#591e50;stroke:#ffffff;stroke-width:0.5;\"/>\r\n    <path clip-path=\"url(#p1f47e92c7b)\" d=\"M 908.54375 391.519219 \r\nL 1020.14375 391.519219 \r\nL 1020.14375 445.879219 \r\nL 908.54375 445.879219 \r\nL 908.54375 391.519219 \r\n\" style=\"fill:#faebdd;stroke:#ffffff;stroke-width:0.5;\"/>\r\n   </g>\r\n   <g id=\"matplotlib.axis_1\">\r\n    <g id=\"xtick_1\">\r\n     <g id=\"line2d_1\">\r\n      <defs>\r\n       <path d=\"M 0 0 \r\nL 0 3.5 \r\n\" id=\"m44b01c2b91\" style=\"stroke:#000000;stroke-width:0.8;\"/>\r\n      </defs>\r\n      <g>\r\n       <use style=\"stroke:#000000;stroke-width:0.8;\" x=\"183.14375\" xlink:href=\"#m44b01c2b91\" y=\"445.879219\"/>\r\n      </g>\r\n     </g>\r\n     <g id=\"text_1\">\r\n      <!-- Plans -->\r\n      <defs>\r\n       <path d=\"M 19.671875 64.796875 \r\nL 19.671875 37.40625 \r\nL 32.078125 37.40625 \r\nQ 38.96875 37.40625 42.71875 40.96875 \r\nQ 46.484375 44.53125 46.484375 51.125 \r\nQ 46.484375 57.671875 42.71875 61.234375 \r\nQ 38.96875 64.796875 32.078125 64.796875 \r\nz\r\nM 9.8125 72.90625 \r\nL 32.078125 72.90625 \r\nQ 44.34375 72.90625 50.609375 67.359375 \r\nQ 56.890625 61.8125 56.890625 51.125 \r\nQ 56.890625 40.328125 50.609375 34.8125 \r\nQ 44.34375 29.296875 32.078125 29.296875 \r\nL 19.671875 29.296875 \r\nL 19.671875 0 \r\nL 9.8125 0 \r\nz\r\n\" id=\"DejaVuSans-50\"/>\r\n       <path d=\"M 9.421875 75.984375 \r\nL 18.40625 75.984375 \r\nL 18.40625 0 \r\nL 9.421875 0 \r\nz\r\n\" id=\"DejaVuSans-6c\"/>\r\n       <path d=\"M 34.28125 27.484375 \r\nQ 23.390625 27.484375 19.1875 25 \r\nQ 14.984375 22.515625 14.984375 16.5 \r\nQ 14.984375 11.71875 18.140625 8.90625 \r\nQ 21.296875 6.109375 26.703125 6.109375 \r\nQ 34.1875 6.109375 38.703125 11.40625 \r\nQ 43.21875 16.703125 43.21875 25.484375 \r\nL 43.21875 27.484375 \r\nz\r\nM 52.203125 31.203125 \r\nL 52.203125 0 \r\nL 43.21875 0 \r\nL 43.21875 8.296875 \r\nQ 40.140625 3.328125 35.546875 0.953125 \r\nQ 30.953125 -1.421875 24.3125 -1.421875 \r\nQ 15.921875 -1.421875 10.953125 3.296875 \r\nQ 6 8.015625 6 15.921875 \r\nQ 6 25.140625 12.171875 29.828125 \r\nQ 18.359375 34.515625 30.609375 34.515625 \r\nL 43.21875 34.515625 \r\nL 43.21875 35.40625 \r\nQ 43.21875 41.609375 39.140625 45 \r\nQ 35.0625 48.390625 27.6875 48.390625 \r\nQ 23 48.390625 18.546875 47.265625 \r\nQ 14.109375 46.140625 10.015625 43.890625 \r\nL 10.015625 52.203125 \r\nQ 14.9375 54.109375 19.578125 55.046875 \r\nQ 24.21875 56 28.609375 56 \r\nQ 40.484375 56 46.34375 49.84375 \r\nQ 52.203125 43.703125 52.203125 31.203125 \r\nz\r\n\" id=\"DejaVuSans-61\"/>\r\n       <path d=\"M 54.890625 33.015625 \r\nL 54.890625 0 \r\nL 45.90625 0 \r\nL 45.90625 32.71875 \r\nQ 45.90625 40.484375 42.875 44.328125 \r\nQ 39.84375 48.1875 33.796875 48.1875 \r\nQ 26.515625 48.1875 22.3125 43.546875 \r\nQ 18.109375 38.921875 18.109375 30.90625 \r\nL 18.109375 0 \r\nL 9.078125 0 \r\nL 9.078125 54.6875 \r\nL 18.109375 54.6875 \r\nL 18.109375 46.1875 \r\nQ 21.34375 51.125 25.703125 53.5625 \r\nQ 30.078125 56 35.796875 56 \r\nQ 45.21875 56 50.046875 50.171875 \r\nQ 54.890625 44.34375 54.890625 33.015625 \r\nz\r\n\" id=\"DejaVuSans-6e\"/>\r\n       <path d=\"M 44.28125 53.078125 \r\nL 44.28125 44.578125 \r\nQ 40.484375 46.53125 36.375 47.5 \r\nQ 32.28125 48.484375 27.875 48.484375 \r\nQ 21.1875 48.484375 17.84375 46.4375 \r\nQ 14.5 44.390625 14.5 40.28125 \r\nQ 14.5 37.15625 16.890625 35.375 \r\nQ 19.28125 33.59375 26.515625 31.984375 \r\nL 29.59375 31.296875 \r\nQ 39.15625 29.25 43.1875 25.515625 \r\nQ 47.21875 21.78125 47.21875 15.09375 \r\nQ 47.21875 7.46875 41.1875 3.015625 \r\nQ 35.15625 -1.421875 24.609375 -1.421875 \r\nQ 20.21875 -1.421875 15.453125 -0.5625 \r\nQ 10.6875 0.296875 5.421875 2 \r\nL 5.421875 11.28125 \r\nQ 10.40625 8.6875 15.234375 7.390625 \r\nQ 20.0625 6.109375 24.8125 6.109375 \r\nQ 31.15625 6.109375 34.5625 8.28125 \r\nQ 37.984375 10.453125 37.984375 14.40625 \r\nQ 37.984375 18.0625 35.515625 20.015625 \r\nQ 33.0625 21.96875 24.703125 23.78125 \r\nL 21.578125 24.515625 \r\nQ 13.234375 26.265625 9.515625 29.90625 \r\nQ 5.8125 33.546875 5.8125 39.890625 \r\nQ 5.8125 47.609375 11.28125 51.796875 \r\nQ 16.75 56 26.8125 56 \r\nQ 31.78125 56 36.171875 55.265625 \r\nQ 40.578125 54.546875 44.28125 53.078125 \r\nz\r\n\" id=\"DejaVuSans-73\"/>\r\n      </defs>\r\n      <g transform=\"translate(169.902344 460.477656)scale(0.1 -0.1)\">\r\n       <use xlink:href=\"#DejaVuSans-50\"/>\r\n       <use x=\"60.302734\" xlink:href=\"#DejaVuSans-6c\"/>\r\n       <use x=\"88.085938\" xlink:href=\"#DejaVuSans-61\"/>\r\n       <use x=\"149.365234\" xlink:href=\"#DejaVuSans-6e\"/>\r\n       <use x=\"212.744141\" xlink:href=\"#DejaVuSans-73\"/>\r\n      </g>\r\n     </g>\r\n    </g>\r\n    <g id=\"xtick_2\">\r\n     <g id=\"line2d_2\">\r\n      <g>\r\n       <use style=\"stroke:#000000;stroke-width:0.8;\" x=\"294.74375\" xlink:href=\"#m44b01c2b91\" y=\"445.879219\"/>\r\n      </g>\r\n     </g>\r\n     <g id=\"text_2\">\r\n      <!-- Total day charge -->\r\n      <defs>\r\n       <path d=\"M -0.296875 72.90625 \r\nL 61.375 72.90625 \r\nL 61.375 64.59375 \r\nL 35.5 64.59375 \r\nL 35.5 0 \r\nL 25.59375 0 \r\nL 25.59375 64.59375 \r\nL -0.296875 64.59375 \r\nz\r\n\" id=\"DejaVuSans-54\"/>\r\n       <path d=\"M 30.609375 48.390625 \r\nQ 23.390625 48.390625 19.1875 42.75 \r\nQ 14.984375 37.109375 14.984375 27.296875 \r\nQ 14.984375 17.484375 19.15625 11.84375 \r\nQ 23.34375 6.203125 30.609375 6.203125 \r\nQ 37.796875 6.203125 41.984375 11.859375 \r\nQ 46.1875 17.53125 46.1875 27.296875 \r\nQ 46.1875 37.015625 41.984375 42.703125 \r\nQ 37.796875 48.390625 30.609375 48.390625 \r\nz\r\nM 30.609375 56 \r\nQ 42.328125 56 49.015625 48.375 \r\nQ 55.71875 40.765625 55.71875 27.296875 \r\nQ 55.71875 13.875 49.015625 6.21875 \r\nQ 42.328125 -1.421875 30.609375 -1.421875 \r\nQ 18.84375 -1.421875 12.171875 6.21875 \r\nQ 5.515625 13.875 5.515625 27.296875 \r\nQ 5.515625 40.765625 12.171875 48.375 \r\nQ 18.84375 56 30.609375 56 \r\nz\r\n\" id=\"DejaVuSans-6f\"/>\r\n       <path d=\"M 18.3125 70.21875 \r\nL 18.3125 54.6875 \r\nL 36.8125 54.6875 \r\nL 36.8125 47.703125 \r\nL 18.3125 47.703125 \r\nL 18.3125 18.015625 \r\nQ 18.3125 11.328125 20.140625 9.421875 \r\nQ 21.96875 7.515625 27.59375 7.515625 \r\nL 36.8125 7.515625 \r\nL 36.8125 0 \r\nL 27.59375 0 \r\nQ 17.1875 0 13.234375 3.875 \r\nQ 9.28125 7.765625 9.28125 18.015625 \r\nL 9.28125 47.703125 \r\nL 2.6875 47.703125 \r\nL 2.6875 54.6875 \r\nL 9.28125 54.6875 \r\nL 9.28125 70.21875 \r\nz\r\n\" id=\"DejaVuSans-74\"/>\r\n       <path id=\"DejaVuSans-20\"/>\r\n       <path d=\"M 45.40625 46.390625 \r\nL 45.40625 75.984375 \r\nL 54.390625 75.984375 \r\nL 54.390625 0 \r\nL 45.40625 0 \r\nL 45.40625 8.203125 \r\nQ 42.578125 3.328125 38.25 0.953125 \r\nQ 33.9375 -1.421875 27.875 -1.421875 \r\nQ 17.96875 -1.421875 11.734375 6.484375 \r\nQ 5.515625 14.40625 5.515625 27.296875 \r\nQ 5.515625 40.1875 11.734375 48.09375 \r\nQ 17.96875 56 27.875 56 \r\nQ 33.9375 56 38.25 53.625 \r\nQ 42.578125 51.265625 45.40625 46.390625 \r\nz\r\nM 14.796875 27.296875 \r\nQ 14.796875 17.390625 18.875 11.75 \r\nQ 22.953125 6.109375 30.078125 6.109375 \r\nQ 37.203125 6.109375 41.296875 11.75 \r\nQ 45.40625 17.390625 45.40625 27.296875 \r\nQ 45.40625 37.203125 41.296875 42.84375 \r\nQ 37.203125 48.484375 30.078125 48.484375 \r\nQ 22.953125 48.484375 18.875 42.84375 \r\nQ 14.796875 37.203125 14.796875 27.296875 \r\nz\r\n\" id=\"DejaVuSans-64\"/>\r\n       <path d=\"M 32.171875 -5.078125 \r\nQ 28.375 -14.84375 24.75 -17.8125 \r\nQ 21.140625 -20.796875 15.09375 -20.796875 \r\nL 7.90625 -20.796875 \r\nL 7.90625 -13.28125 \r\nL 13.1875 -13.28125 \r\nQ 16.890625 -13.28125 18.9375 -11.515625 \r\nQ 21 -9.765625 23.484375 -3.21875 \r\nL 25.09375 0.875 \r\nL 2.984375 54.6875 \r\nL 12.5 54.6875 \r\nL 29.59375 11.921875 \r\nL 46.6875 54.6875 \r\nL 56.203125 54.6875 \r\nz\r\n\" id=\"DejaVuSans-79\"/>\r\n       <path d=\"M 48.78125 52.59375 \r\nL 48.78125 44.1875 \r\nQ 44.96875 46.296875 41.140625 47.34375 \r\nQ 37.3125 48.390625 33.40625 48.390625 \r\nQ 24.65625 48.390625 19.8125 42.84375 \r\nQ 14.984375 37.3125 14.984375 27.296875 \r\nQ 14.984375 17.28125 19.8125 11.734375 \r\nQ 24.65625 6.203125 33.40625 6.203125 \r\nQ 37.3125 6.203125 41.140625 7.25 \r\nQ 44.96875 8.296875 48.78125 10.40625 \r\nL 48.78125 2.09375 \r\nQ 45.015625 0.34375 40.984375 -0.53125 \r\nQ 36.96875 -1.421875 32.421875 -1.421875 \r\nQ 20.0625 -1.421875 12.78125 6.34375 \r\nQ 5.515625 14.109375 5.515625 27.296875 \r\nQ 5.515625 40.671875 12.859375 48.328125 \r\nQ 20.21875 56 33.015625 56 \r\nQ 37.15625 56 41.109375 55.140625 \r\nQ 45.0625 54.296875 48.78125 52.59375 \r\nz\r\n\" id=\"DejaVuSans-63\"/>\r\n       <path d=\"M 54.890625 33.015625 \r\nL 54.890625 0 \r\nL 45.90625 0 \r\nL 45.90625 32.71875 \r\nQ 45.90625 40.484375 42.875 44.328125 \r\nQ 39.84375 48.1875 33.796875 48.1875 \r\nQ 26.515625 48.1875 22.3125 43.546875 \r\nQ 18.109375 38.921875 18.109375 30.90625 \r\nL 18.109375 0 \r\nL 9.078125 0 \r\nL 9.078125 75.984375 \r\nL 18.109375 75.984375 \r\nL 18.109375 46.1875 \r\nQ 21.34375 51.125 25.703125 53.5625 \r\nQ 30.078125 56 35.796875 56 \r\nQ 45.21875 56 50.046875 50.171875 \r\nQ 54.890625 44.34375 54.890625 33.015625 \r\nz\r\n\" id=\"DejaVuSans-68\"/>\r\n       <path d=\"M 41.109375 46.296875 \r\nQ 39.59375 47.171875 37.8125 47.578125 \r\nQ 36.03125 48 33.890625 48 \r\nQ 26.265625 48 22.1875 43.046875 \r\nQ 18.109375 38.09375 18.109375 28.8125 \r\nL 18.109375 0 \r\nL 9.078125 0 \r\nL 9.078125 54.6875 \r\nL 18.109375 54.6875 \r\nL 18.109375 46.1875 \r\nQ 20.953125 51.171875 25.484375 53.578125 \r\nQ 30.03125 56 36.53125 56 \r\nQ 37.453125 56 38.578125 55.875 \r\nQ 39.703125 55.765625 41.0625 55.515625 \r\nz\r\n\" id=\"DejaVuSans-72\"/>\r\n       <path d=\"M 45.40625 27.984375 \r\nQ 45.40625 37.75 41.375 43.109375 \r\nQ 37.359375 48.484375 30.078125 48.484375 \r\nQ 22.859375 48.484375 18.828125 43.109375 \r\nQ 14.796875 37.75 14.796875 27.984375 \r\nQ 14.796875 18.265625 18.828125 12.890625 \r\nQ 22.859375 7.515625 30.078125 7.515625 \r\nQ 37.359375 7.515625 41.375 12.890625 \r\nQ 45.40625 18.265625 45.40625 27.984375 \r\nz\r\nM 54.390625 6.78125 \r\nQ 54.390625 -7.171875 48.1875 -13.984375 \r\nQ 42 -20.796875 29.203125 -20.796875 \r\nQ 24.46875 -20.796875 20.265625 -20.09375 \r\nQ 16.0625 -19.390625 12.109375 -17.921875 \r\nL 12.109375 -9.1875 \r\nQ 16.0625 -11.328125 19.921875 -12.34375 \r\nQ 23.78125 -13.375 27.78125 -13.375 \r\nQ 36.625 -13.375 41.015625 -8.765625 \r\nQ 45.40625 -4.15625 45.40625 5.171875 \r\nL 45.40625 9.625 \r\nQ 42.625 4.78125 38.28125 2.390625 \r\nQ 33.9375 0 27.875 0 \r\nQ 17.828125 0 11.671875 7.65625 \r\nQ 5.515625 15.328125 5.515625 27.984375 \r\nQ 5.515625 40.671875 11.671875 48.328125 \r\nQ 17.828125 56 27.875 56 \r\nQ 33.9375 56 38.28125 53.609375 \r\nQ 42.625 51.21875 45.40625 46.390625 \r\nL 45.40625 54.6875 \r\nL 54.390625 54.6875 \r\nz\r\n\" id=\"DejaVuSans-67\"/>\r\n       <path d=\"M 56.203125 29.59375 \r\nL 56.203125 25.203125 \r\nL 14.890625 25.203125 \r\nQ 15.484375 15.921875 20.484375 11.0625 \r\nQ 25.484375 6.203125 34.421875 6.203125 \r\nQ 39.59375 6.203125 44.453125 7.46875 \r\nQ 49.3125 8.734375 54.109375 11.28125 \r\nL 54.109375 2.78125 \r\nQ 49.265625 0.734375 44.1875 -0.34375 \r\nQ 39.109375 -1.421875 33.890625 -1.421875 \r\nQ 20.796875 -1.421875 13.15625 6.1875 \r\nQ 5.515625 13.8125 5.515625 26.8125 \r\nQ 5.515625 40.234375 12.765625 48.109375 \r\nQ 20.015625 56 32.328125 56 \r\nQ 43.359375 56 49.78125 48.890625 \r\nQ 56.203125 41.796875 56.203125 29.59375 \r\nz\r\nM 47.21875 32.234375 \r\nQ 47.125 39.59375 43.09375 43.984375 \r\nQ 39.0625 48.390625 32.421875 48.390625 \r\nQ 24.90625 48.390625 20.390625 44.140625 \r\nQ 15.875 39.890625 15.1875 32.171875 \r\nz\r\n\" id=\"DejaVuSans-65\"/>\r\n      </defs>\r\n      <g transform=\"translate(252.567187 460.477656)scale(0.1 -0.1)\">\r\n       <use xlink:href=\"#DejaVuSans-54\"/>\r\n       <use x=\"60.818359\" xlink:href=\"#DejaVuSans-6f\"/>\r\n       <use x=\"122\" xlink:href=\"#DejaVuSans-74\"/>\r\n       <use x=\"161.208984\" xlink:href=\"#DejaVuSans-61\"/>\r\n       <use x=\"222.488281\" xlink:href=\"#DejaVuSans-6c\"/>\r\n       <use x=\"250.271484\" xlink:href=\"#DejaVuSans-20\"/>\r\n       <use x=\"282.058594\" xlink:href=\"#DejaVuSans-64\"/>\r\n       <use x=\"345.535156\" xlink:href=\"#DejaVuSans-61\"/>\r\n       <use x=\"406.814453\" xlink:href=\"#DejaVuSans-79\"/>\r\n       <use x=\"465.994141\" xlink:href=\"#DejaVuSans-20\"/>\r\n       <use x=\"497.78125\" xlink:href=\"#DejaVuSans-63\"/>\r\n       <use x=\"552.761719\" xlink:href=\"#DejaVuSans-68\"/>\r\n       <use x=\"616.140625\" xlink:href=\"#DejaVuSans-61\"/>\r\n       <use x=\"677.419922\" xlink:href=\"#DejaVuSans-72\"/>\r\n       <use x=\"718.517578\" xlink:href=\"#DejaVuSans-67\"/>\r\n       <use x=\"781.994141\" xlink:href=\"#DejaVuSans-65\"/>\r\n      </g>\r\n     </g>\r\n    </g>\r\n    <g id=\"xtick_3\">\r\n     <g id=\"line2d_3\">\r\n      <g>\r\n       <use style=\"stroke:#000000;stroke-width:0.8;\" x=\"406.34375\" xlink:href=\"#m44b01c2b91\" y=\"445.879219\"/>\r\n      </g>\r\n     </g>\r\n     <g id=\"text_3\">\r\n      <!-- Total eve charge -->\r\n      <defs>\r\n       <path d=\"M 2.984375 54.6875 \r\nL 12.5 54.6875 \r\nL 29.59375 8.796875 \r\nL 46.6875 54.6875 \r\nL 56.203125 54.6875 \r\nL 35.6875 0 \r\nL 23.484375 0 \r\nz\r\n\" id=\"DejaVuSans-76\"/>\r\n      </defs>\r\n      <g transform=\"translate(364.252344 460.477656)scale(0.1 -0.1)\">\r\n       <use xlink:href=\"#DejaVuSans-54\"/>\r\n       <use x=\"60.818359\" xlink:href=\"#DejaVuSans-6f\"/>\r\n       <use x=\"122\" xlink:href=\"#DejaVuSans-74\"/>\r\n       <use x=\"161.208984\" xlink:href=\"#DejaVuSans-61\"/>\r\n       <use x=\"222.488281\" xlink:href=\"#DejaVuSans-6c\"/>\r\n       <use x=\"250.271484\" xlink:href=\"#DejaVuSans-20\"/>\r\n       <use x=\"282.058594\" xlink:href=\"#DejaVuSans-65\"/>\r\n       <use x=\"343.582031\" xlink:href=\"#DejaVuSans-76\"/>\r\n       <use x=\"402.761719\" xlink:href=\"#DejaVuSans-65\"/>\r\n       <use x=\"464.285156\" xlink:href=\"#DejaVuSans-20\"/>\r\n       <use x=\"496.072266\" xlink:href=\"#DejaVuSans-63\"/>\r\n       <use x=\"551.052734\" xlink:href=\"#DejaVuSans-68\"/>\r\n       <use x=\"614.431641\" xlink:href=\"#DejaVuSans-61\"/>\r\n       <use x=\"675.710938\" xlink:href=\"#DejaVuSans-72\"/>\r\n       <use x=\"716.808594\" xlink:href=\"#DejaVuSans-67\"/>\r\n       <use x=\"780.285156\" xlink:href=\"#DejaVuSans-65\"/>\r\n      </g>\r\n     </g>\r\n    </g>\r\n    <g id=\"xtick_4\">\r\n     <g id=\"line2d_4\">\r\n      <g>\r\n       <use style=\"stroke:#000000;stroke-width:0.8;\" x=\"517.94375\" xlink:href=\"#m44b01c2b91\" y=\"445.879219\"/>\r\n      </g>\r\n     </g>\r\n     <g id=\"text_4\">\r\n      <!-- Total night charge -->\r\n      <defs>\r\n       <path d=\"M 9.421875 54.6875 \r\nL 18.40625 54.6875 \r\nL 18.40625 0 \r\nL 9.421875 0 \r\nz\r\nM 9.421875 75.984375 \r\nL 18.40625 75.984375 \r\nL 18.40625 64.59375 \r\nL 9.421875 64.59375 \r\nz\r\n\" id=\"DejaVuSans-69\"/>\r\n      </defs>\r\n      <g transform=\"translate(472.103906 460.477656)scale(0.1 -0.1)\">\r\n       <use xlink:href=\"#DejaVuSans-54\"/>\r\n       <use x=\"60.818359\" xlink:href=\"#DejaVuSans-6f\"/>\r\n       <use x=\"122\" xlink:href=\"#DejaVuSans-74\"/>\r\n       <use x=\"161.208984\" xlink:href=\"#DejaVuSans-61\"/>\r\n       <use x=\"222.488281\" xlink:href=\"#DejaVuSans-6c\"/>\r\n       <use x=\"250.271484\" xlink:href=\"#DejaVuSans-20\"/>\r\n       <use x=\"282.058594\" xlink:href=\"#DejaVuSans-6e\"/>\r\n       <use x=\"345.4375\" xlink:href=\"#DejaVuSans-69\"/>\r\n       <use x=\"373.220703\" xlink:href=\"#DejaVuSans-67\"/>\r\n       <use x=\"436.697266\" xlink:href=\"#DejaVuSans-68\"/>\r\n       <use x=\"500.076172\" xlink:href=\"#DejaVuSans-74\"/>\r\n       <use x=\"539.285156\" xlink:href=\"#DejaVuSans-20\"/>\r\n       <use x=\"571.072266\" xlink:href=\"#DejaVuSans-63\"/>\r\n       <use x=\"626.052734\" xlink:href=\"#DejaVuSans-68\"/>\r\n       <use x=\"689.431641\" xlink:href=\"#DejaVuSans-61\"/>\r\n       <use x=\"750.710938\" xlink:href=\"#DejaVuSans-72\"/>\r\n       <use x=\"791.808594\" xlink:href=\"#DejaVuSans-67\"/>\r\n       <use x=\"855.285156\" xlink:href=\"#DejaVuSans-65\"/>\r\n      </g>\r\n     </g>\r\n    </g>\r\n    <g id=\"xtick_5\">\r\n     <g id=\"line2d_5\">\r\n      <g>\r\n       <use style=\"stroke:#000000;stroke-width:0.8;\" x=\"629.54375\" xlink:href=\"#m44b01c2b91\" y=\"445.879219\"/>\r\n      </g>\r\n     </g>\r\n     <g id=\"text_5\">\r\n      <!-- Total intl charge -->\r\n      <g transform=\"translate(588.657813 460.477656)scale(0.1 -0.1)\">\r\n       <use xlink:href=\"#DejaVuSans-54\"/>\r\n       <use x=\"60.818359\" xlink:href=\"#DejaVuSans-6f\"/>\r\n       <use x=\"122\" xlink:href=\"#DejaVuSans-74\"/>\r\n       <use x=\"161.208984\" xlink:href=\"#DejaVuSans-61\"/>\r\n       <use x=\"222.488281\" xlink:href=\"#DejaVuSans-6c\"/>\r\n       <use x=\"250.271484\" xlink:href=\"#DejaVuSans-20\"/>\r\n       <use x=\"282.058594\" xlink:href=\"#DejaVuSans-69\"/>\r\n       <use x=\"309.841797\" xlink:href=\"#DejaVuSans-6e\"/>\r\n       <use x=\"373.220703\" xlink:href=\"#DejaVuSans-74\"/>\r\n       <use x=\"412.429688\" xlink:href=\"#DejaVuSans-6c\"/>\r\n       <use x=\"440.212891\" xlink:href=\"#DejaVuSans-20\"/>\r\n       <use x=\"472\" xlink:href=\"#DejaVuSans-63\"/>\r\n       <use x=\"526.980469\" xlink:href=\"#DejaVuSans-68\"/>\r\n       <use x=\"590.359375\" xlink:href=\"#DejaVuSans-61\"/>\r\n       <use x=\"651.638672\" xlink:href=\"#DejaVuSans-72\"/>\r\n       <use x=\"692.736328\" xlink:href=\"#DejaVuSans-67\"/>\r\n       <use x=\"756.212891\" xlink:href=\"#DejaVuSans-65\"/>\r\n      </g>\r\n     </g>\r\n    </g>\r\n    <g id=\"xtick_6\">\r\n     <g id=\"line2d_6\">\r\n      <g>\r\n       <use style=\"stroke:#000000;stroke-width:0.8;\" x=\"741.14375\" xlink:href=\"#m44b01c2b91\" y=\"445.879219\"/>\r\n      </g>\r\n     </g>\r\n     <g id=\"text_6\">\r\n      <!-- Total charge -->\r\n      <g transform=\"translate(709.753906 460.477656)scale(0.1 -0.1)\">\r\n       <use xlink:href=\"#DejaVuSans-54\"/>\r\n       <use x=\"60.818359\" xlink:href=\"#DejaVuSans-6f\"/>\r\n       <use x=\"122\" xlink:href=\"#DejaVuSans-74\"/>\r\n       <use x=\"161.208984\" xlink:href=\"#DejaVuSans-61\"/>\r\n       <use x=\"222.488281\" xlink:href=\"#DejaVuSans-6c\"/>\r\n       <use x=\"250.271484\" xlink:href=\"#DejaVuSans-20\"/>\r\n       <use x=\"282.058594\" xlink:href=\"#DejaVuSans-63\"/>\r\n       <use x=\"337.039062\" xlink:href=\"#DejaVuSans-68\"/>\r\n       <use x=\"400.417969\" xlink:href=\"#DejaVuSans-61\"/>\r\n       <use x=\"461.697266\" xlink:href=\"#DejaVuSans-72\"/>\r\n       <use x=\"502.794922\" xlink:href=\"#DejaVuSans-67\"/>\r\n       <use x=\"566.271484\" xlink:href=\"#DejaVuSans-65\"/>\r\n      </g>\r\n     </g>\r\n    </g>\r\n    <g id=\"xtick_7\">\r\n     <g id=\"line2d_7\">\r\n      <g>\r\n       <use style=\"stroke:#000000;stroke-width:0.8;\" x=\"852.74375\" xlink:href=\"#m44b01c2b91\" y=\"445.879219\"/>\r\n      </g>\r\n     </g>\r\n     <g id=\"text_7\">\r\n      <!-- Customer service calls -->\r\n      <defs>\r\n       <path d=\"M 64.40625 67.28125 \r\nL 64.40625 56.890625 \r\nQ 59.421875 61.53125 53.78125 63.8125 \r\nQ 48.140625 66.109375 41.796875 66.109375 \r\nQ 29.296875 66.109375 22.65625 58.46875 \r\nQ 16.015625 50.828125 16.015625 36.375 \r\nQ 16.015625 21.96875 22.65625 14.328125 \r\nQ 29.296875 6.6875 41.796875 6.6875 \r\nQ 48.140625 6.6875 53.78125 8.984375 \r\nQ 59.421875 11.28125 64.40625 15.921875 \r\nL 64.40625 5.609375 \r\nQ 59.234375 2.09375 53.4375 0.328125 \r\nQ 47.65625 -1.421875 41.21875 -1.421875 \r\nQ 24.65625 -1.421875 15.125 8.703125 \r\nQ 5.609375 18.84375 5.609375 36.375 \r\nQ 5.609375 53.953125 15.125 64.078125 \r\nQ 24.65625 74.21875 41.21875 74.21875 \r\nQ 47.75 74.21875 53.53125 72.484375 \r\nQ 59.328125 70.75 64.40625 67.28125 \r\nz\r\n\" id=\"DejaVuSans-43\"/>\r\n       <path d=\"M 8.5 21.578125 \r\nL 8.5 54.6875 \r\nL 17.484375 54.6875 \r\nL 17.484375 21.921875 \r\nQ 17.484375 14.15625 20.5 10.265625 \r\nQ 23.53125 6.390625 29.59375 6.390625 \r\nQ 36.859375 6.390625 41.078125 11.03125 \r\nQ 45.3125 15.671875 45.3125 23.6875 \r\nL 45.3125 54.6875 \r\nL 54.296875 54.6875 \r\nL 54.296875 0 \r\nL 45.3125 0 \r\nL 45.3125 8.40625 \r\nQ 42.046875 3.421875 37.71875 1 \r\nQ 33.40625 -1.421875 27.6875 -1.421875 \r\nQ 18.265625 -1.421875 13.375 4.4375 \r\nQ 8.5 10.296875 8.5 21.578125 \r\nz\r\nM 31.109375 56 \r\nz\r\n\" id=\"DejaVuSans-75\"/>\r\n       <path d=\"M 52 44.1875 \r\nQ 55.375 50.25 60.0625 53.125 \r\nQ 64.75 56 71.09375 56 \r\nQ 79.640625 56 84.28125 50.015625 \r\nQ 88.921875 44.046875 88.921875 33.015625 \r\nL 88.921875 0 \r\nL 79.890625 0 \r\nL 79.890625 32.71875 \r\nQ 79.890625 40.578125 77.09375 44.375 \r\nQ 74.3125 48.1875 68.609375 48.1875 \r\nQ 61.625 48.1875 57.5625 43.546875 \r\nQ 53.515625 38.921875 53.515625 30.90625 \r\nL 53.515625 0 \r\nL 44.484375 0 \r\nL 44.484375 32.71875 \r\nQ 44.484375 40.625 41.703125 44.40625 \r\nQ 38.921875 48.1875 33.109375 48.1875 \r\nQ 26.21875 48.1875 22.15625 43.53125 \r\nQ 18.109375 38.875 18.109375 30.90625 \r\nL 18.109375 0 \r\nL 9.078125 0 \r\nL 9.078125 54.6875 \r\nL 18.109375 54.6875 \r\nL 18.109375 46.1875 \r\nQ 21.1875 51.21875 25.484375 53.609375 \r\nQ 29.78125 56 35.6875 56 \r\nQ 41.65625 56 45.828125 52.96875 \r\nQ 50 49.953125 52 44.1875 \r\nz\r\n\" id=\"DejaVuSans-6d\"/>\r\n      </defs>\r\n      <g transform=\"translate(796.171875 460.477656)scale(0.1 -0.1)\">\r\n       <use xlink:href=\"#DejaVuSans-43\"/>\r\n       <use x=\"69.824219\" xlink:href=\"#DejaVuSans-75\"/>\r\n       <use x=\"133.203125\" xlink:href=\"#DejaVuSans-73\"/>\r\n       <use x=\"185.302734\" xlink:href=\"#DejaVuSans-74\"/>\r\n       <use x=\"224.511719\" xlink:href=\"#DejaVuSans-6f\"/>\r\n       <use x=\"285.693359\" xlink:href=\"#DejaVuSans-6d\"/>\r\n       <use x=\"383.105469\" xlink:href=\"#DejaVuSans-65\"/>\r\n       <use x=\"444.628906\" xlink:href=\"#DejaVuSans-72\"/>\r\n       <use x=\"485.742188\" xlink:href=\"#DejaVuSans-20\"/>\r\n       <use x=\"517.529297\" xlink:href=\"#DejaVuSans-73\"/>\r\n       <use x=\"569.628906\" xlink:href=\"#DejaVuSans-65\"/>\r\n       <use x=\"631.152344\" xlink:href=\"#DejaVuSans-72\"/>\r\n       <use x=\"672.265625\" xlink:href=\"#DejaVuSans-76\"/>\r\n       <use x=\"731.445312\" xlink:href=\"#DejaVuSans-69\"/>\r\n       <use x=\"759.228516\" xlink:href=\"#DejaVuSans-63\"/>\r\n       <use x=\"814.208984\" xlink:href=\"#DejaVuSans-65\"/>\r\n       <use x=\"875.732422\" xlink:href=\"#DejaVuSans-20\"/>\r\n       <use x=\"907.519531\" xlink:href=\"#DejaVuSans-63\"/>\r\n       <use x=\"962.5\" xlink:href=\"#DejaVuSans-61\"/>\r\n       <use x=\"1023.779297\" xlink:href=\"#DejaVuSans-6c\"/>\r\n       <use x=\"1051.5625\" xlink:href=\"#DejaVuSans-6c\"/>\r\n       <use x=\"1079.345703\" xlink:href=\"#DejaVuSans-73\"/>\r\n      </g>\r\n     </g>\r\n    </g>\r\n    <g id=\"xtick_8\">\r\n     <g id=\"line2d_8\">\r\n      <g>\r\n       <use style=\"stroke:#000000;stroke-width:0.8;\" x=\"964.34375\" xlink:href=\"#m44b01c2b91\" y=\"445.879219\"/>\r\n      </g>\r\n     </g>\r\n     <g id=\"text_8\">\r\n      <!-- Churn -->\r\n      <g transform=\"translate(949.291406 460.477656)scale(0.1 -0.1)\">\r\n       <use xlink:href=\"#DejaVuSans-43\"/>\r\n       <use x=\"69.824219\" xlink:href=\"#DejaVuSans-68\"/>\r\n       <use x=\"133.203125\" xlink:href=\"#DejaVuSans-75\"/>\r\n       <use x=\"196.582031\" xlink:href=\"#DejaVuSans-72\"/>\r\n       <use x=\"237.679688\" xlink:href=\"#DejaVuSans-6e\"/>\r\n      </g>\r\n     </g>\r\n    </g>\r\n   </g>\r\n   <g id=\"matplotlib.axis_2\">\r\n    <g id=\"ytick_1\">\r\n     <g id=\"line2d_9\">\r\n      <defs>\r\n       <path d=\"M 0 0 \r\nL -3.5 0 \r\n\" id=\"mc3faa0b343\" style=\"stroke:#000000;stroke-width:0.8;\"/>\r\n      </defs>\r\n      <g>\r\n       <use style=\"stroke:#000000;stroke-width:0.8;\" x=\"127.34375\" xlink:href=\"#mc3faa0b343\" y=\"38.179219\"/>\r\n      </g>\r\n     </g>\r\n     <g id=\"text_9\">\r\n      <!-- Plans -->\r\n      <g transform=\"translate(93.860938 41.978437)scale(0.1 -0.1)\">\r\n       <use xlink:href=\"#DejaVuSans-50\"/>\r\n       <use x=\"60.302734\" xlink:href=\"#DejaVuSans-6c\"/>\r\n       <use x=\"88.085938\" xlink:href=\"#DejaVuSans-61\"/>\r\n       <use x=\"149.365234\" xlink:href=\"#DejaVuSans-6e\"/>\r\n       <use x=\"212.744141\" xlink:href=\"#DejaVuSans-73\"/>\r\n      </g>\r\n     </g>\r\n    </g>\r\n    <g id=\"ytick_2\">\r\n     <g id=\"line2d_10\">\r\n      <g>\r\n       <use style=\"stroke:#000000;stroke-width:0.8;\" x=\"127.34375\" xlink:href=\"#mc3faa0b343\" y=\"92.539219\"/>\r\n      </g>\r\n     </g>\r\n     <g id=\"text_10\">\r\n      <!-- Total day charge -->\r\n      <g transform=\"translate(35.990625 96.338437)scale(0.1 -0.1)\">\r\n       <use xlink:href=\"#DejaVuSans-54\"/>\r\n       <use x=\"60.818359\" xlink:href=\"#DejaVuSans-6f\"/>\r\n       <use x=\"122\" xlink:href=\"#DejaVuSans-74\"/>\r\n       <use x=\"161.208984\" xlink:href=\"#DejaVuSans-61\"/>\r\n       <use x=\"222.488281\" xlink:href=\"#DejaVuSans-6c\"/>\r\n       <use x=\"250.271484\" xlink:href=\"#DejaVuSans-20\"/>\r\n       <use x=\"282.058594\" xlink:href=\"#DejaVuSans-64\"/>\r\n       <use x=\"345.535156\" xlink:href=\"#DejaVuSans-61\"/>\r\n       <use x=\"406.814453\" xlink:href=\"#DejaVuSans-79\"/>\r\n       <use x=\"465.994141\" xlink:href=\"#DejaVuSans-20\"/>\r\n       <use x=\"497.78125\" xlink:href=\"#DejaVuSans-63\"/>\r\n       <use x=\"552.761719\" xlink:href=\"#DejaVuSans-68\"/>\r\n       <use x=\"616.140625\" xlink:href=\"#DejaVuSans-61\"/>\r\n       <use x=\"677.419922\" xlink:href=\"#DejaVuSans-72\"/>\r\n       <use x=\"718.517578\" xlink:href=\"#DejaVuSans-67\"/>\r\n       <use x=\"781.994141\" xlink:href=\"#DejaVuSans-65\"/>\r\n      </g>\r\n     </g>\r\n    </g>\r\n    <g id=\"ytick_3\">\r\n     <g id=\"line2d_11\">\r\n      <g>\r\n       <use style=\"stroke:#000000;stroke-width:0.8;\" x=\"127.34375\" xlink:href=\"#mc3faa0b343\" y=\"146.899219\"/>\r\n      </g>\r\n     </g>\r\n     <g id=\"text_11\">\r\n      <!-- Total eve charge -->\r\n      <g transform=\"translate(36.160938 150.698438)scale(0.1 -0.1)\">\r\n       <use xlink:href=\"#DejaVuSans-54\"/>\r\n       <use x=\"60.818359\" xlink:href=\"#DejaVuSans-6f\"/>\r\n       <use x=\"122\" xlink:href=\"#DejaVuSans-74\"/>\r\n       <use x=\"161.208984\" xlink:href=\"#DejaVuSans-61\"/>\r\n       <use x=\"222.488281\" xlink:href=\"#DejaVuSans-6c\"/>\r\n       <use x=\"250.271484\" xlink:href=\"#DejaVuSans-20\"/>\r\n       <use x=\"282.058594\" xlink:href=\"#DejaVuSans-65\"/>\r\n       <use x=\"343.582031\" xlink:href=\"#DejaVuSans-76\"/>\r\n       <use x=\"402.761719\" xlink:href=\"#DejaVuSans-65\"/>\r\n       <use x=\"464.285156\" xlink:href=\"#DejaVuSans-20\"/>\r\n       <use x=\"496.072266\" xlink:href=\"#DejaVuSans-63\"/>\r\n       <use x=\"551.052734\" xlink:href=\"#DejaVuSans-68\"/>\r\n       <use x=\"614.431641\" xlink:href=\"#DejaVuSans-61\"/>\r\n       <use x=\"675.710938\" xlink:href=\"#DejaVuSans-72\"/>\r\n       <use x=\"716.808594\" xlink:href=\"#DejaVuSans-67\"/>\r\n       <use x=\"780.285156\" xlink:href=\"#DejaVuSans-65\"/>\r\n      </g>\r\n     </g>\r\n    </g>\r\n    <g id=\"ytick_4\">\r\n     <g id=\"line2d_12\">\r\n      <g>\r\n       <use style=\"stroke:#000000;stroke-width:0.8;\" x=\"127.34375\" xlink:href=\"#mc3faa0b343\" y=\"201.259219\"/>\r\n      </g>\r\n     </g>\r\n     <g id=\"text_12\">\r\n      <!-- Total night charge -->\r\n      <g transform=\"translate(28.664063 205.058437)scale(0.1 -0.1)\">\r\n       <use xlink:href=\"#DejaVuSans-54\"/>\r\n       <use x=\"60.818359\" xlink:href=\"#DejaVuSans-6f\"/>\r\n       <use x=\"122\" xlink:href=\"#DejaVuSans-74\"/>\r\n       <use x=\"161.208984\" xlink:href=\"#DejaVuSans-61\"/>\r\n       <use x=\"222.488281\" xlink:href=\"#DejaVuSans-6c\"/>\r\n       <use x=\"250.271484\" xlink:href=\"#DejaVuSans-20\"/>\r\n       <use x=\"282.058594\" xlink:href=\"#DejaVuSans-6e\"/>\r\n       <use x=\"345.4375\" xlink:href=\"#DejaVuSans-69\"/>\r\n       <use x=\"373.220703\" xlink:href=\"#DejaVuSans-67\"/>\r\n       <use x=\"436.697266\" xlink:href=\"#DejaVuSans-68\"/>\r\n       <use x=\"500.076172\" xlink:href=\"#DejaVuSans-74\"/>\r\n       <use x=\"539.285156\" xlink:href=\"#DejaVuSans-20\"/>\r\n       <use x=\"571.072266\" xlink:href=\"#DejaVuSans-63\"/>\r\n       <use x=\"626.052734\" xlink:href=\"#DejaVuSans-68\"/>\r\n       <use x=\"689.431641\" xlink:href=\"#DejaVuSans-61\"/>\r\n       <use x=\"750.710938\" xlink:href=\"#DejaVuSans-72\"/>\r\n       <use x=\"791.808594\" xlink:href=\"#DejaVuSans-67\"/>\r\n       <use x=\"855.285156\" xlink:href=\"#DejaVuSans-65\"/>\r\n      </g>\r\n     </g>\r\n    </g>\r\n    <g id=\"ytick_5\">\r\n     <g id=\"line2d_13\">\r\n      <g>\r\n       <use style=\"stroke:#000000;stroke-width:0.8;\" x=\"127.34375\" xlink:href=\"#mc3faa0b343\" y=\"255.619219\"/>\r\n      </g>\r\n     </g>\r\n     <g id=\"text_13\">\r\n      <!-- Total intl charge -->\r\n      <g transform=\"translate(38.571875 259.418437)scale(0.1 -0.1)\">\r\n       <use xlink:href=\"#DejaVuSans-54\"/>\r\n       <use x=\"60.818359\" xlink:href=\"#DejaVuSans-6f\"/>\r\n       <use x=\"122\" xlink:href=\"#DejaVuSans-74\"/>\r\n       <use x=\"161.208984\" xlink:href=\"#DejaVuSans-61\"/>\r\n       <use x=\"222.488281\" xlink:href=\"#DejaVuSans-6c\"/>\r\n       <use x=\"250.271484\" xlink:href=\"#DejaVuSans-20\"/>\r\n       <use x=\"282.058594\" xlink:href=\"#DejaVuSans-69\"/>\r\n       <use x=\"309.841797\" xlink:href=\"#DejaVuSans-6e\"/>\r\n       <use x=\"373.220703\" xlink:href=\"#DejaVuSans-74\"/>\r\n       <use x=\"412.429688\" xlink:href=\"#DejaVuSans-6c\"/>\r\n       <use x=\"440.212891\" xlink:href=\"#DejaVuSans-20\"/>\r\n       <use x=\"472\" xlink:href=\"#DejaVuSans-63\"/>\r\n       <use x=\"526.980469\" xlink:href=\"#DejaVuSans-68\"/>\r\n       <use x=\"590.359375\" xlink:href=\"#DejaVuSans-61\"/>\r\n       <use x=\"651.638672\" xlink:href=\"#DejaVuSans-72\"/>\r\n       <use x=\"692.736328\" xlink:href=\"#DejaVuSans-67\"/>\r\n       <use x=\"756.212891\" xlink:href=\"#DejaVuSans-65\"/>\r\n      </g>\r\n     </g>\r\n    </g>\r\n    <g id=\"ytick_6\">\r\n     <g id=\"line2d_14\">\r\n      <g>\r\n       <use style=\"stroke:#000000;stroke-width:0.8;\" x=\"127.34375\" xlink:href=\"#mc3faa0b343\" y=\"309.979219\"/>\r\n      </g>\r\n     </g>\r\n     <g id=\"text_14\">\r\n      <!-- Total charge -->\r\n      <g transform=\"translate(57.564063 313.778437)scale(0.1 -0.1)\">\r\n       <use xlink:href=\"#DejaVuSans-54\"/>\r\n       <use x=\"60.818359\" xlink:href=\"#DejaVuSans-6f\"/>\r\n       <use x=\"122\" xlink:href=\"#DejaVuSans-74\"/>\r\n       <use x=\"161.208984\" xlink:href=\"#DejaVuSans-61\"/>\r\n       <use x=\"222.488281\" xlink:href=\"#DejaVuSans-6c\"/>\r\n       <use x=\"250.271484\" xlink:href=\"#DejaVuSans-20\"/>\r\n       <use x=\"282.058594\" xlink:href=\"#DejaVuSans-63\"/>\r\n       <use x=\"337.039062\" xlink:href=\"#DejaVuSans-68\"/>\r\n       <use x=\"400.417969\" xlink:href=\"#DejaVuSans-61\"/>\r\n       <use x=\"461.697266\" xlink:href=\"#DejaVuSans-72\"/>\r\n       <use x=\"502.794922\" xlink:href=\"#DejaVuSans-67\"/>\r\n       <use x=\"566.271484\" xlink:href=\"#DejaVuSans-65\"/>\r\n      </g>\r\n     </g>\r\n    </g>\r\n    <g id=\"ytick_7\">\r\n     <g id=\"line2d_15\">\r\n      <g>\r\n       <use style=\"stroke:#000000;stroke-width:0.8;\" x=\"127.34375\" xlink:href=\"#mc3faa0b343\" y=\"364.339219\"/>\r\n      </g>\r\n     </g>\r\n     <g id=\"text_15\">\r\n      <!-- Customer service calls -->\r\n      <g transform=\"translate(7.2 368.138437)scale(0.1 -0.1)\">\r\n       <use xlink:href=\"#DejaVuSans-43\"/>\r\n       <use x=\"69.824219\" xlink:href=\"#DejaVuSans-75\"/>\r\n       <use x=\"133.203125\" xlink:href=\"#DejaVuSans-73\"/>\r\n       <use x=\"185.302734\" xlink:href=\"#DejaVuSans-74\"/>\r\n       <use x=\"224.511719\" xlink:href=\"#DejaVuSans-6f\"/>\r\n       <use x=\"285.693359\" xlink:href=\"#DejaVuSans-6d\"/>\r\n       <use x=\"383.105469\" xlink:href=\"#DejaVuSans-65\"/>\r\n       <use x=\"444.628906\" xlink:href=\"#DejaVuSans-72\"/>\r\n       <use x=\"485.742188\" xlink:href=\"#DejaVuSans-20\"/>\r\n       <use x=\"517.529297\" xlink:href=\"#DejaVuSans-73\"/>\r\n       <use x=\"569.628906\" xlink:href=\"#DejaVuSans-65\"/>\r\n       <use x=\"631.152344\" xlink:href=\"#DejaVuSans-72\"/>\r\n       <use x=\"672.265625\" xlink:href=\"#DejaVuSans-76\"/>\r\n       <use x=\"731.445312\" xlink:href=\"#DejaVuSans-69\"/>\r\n       <use x=\"759.228516\" xlink:href=\"#DejaVuSans-63\"/>\r\n       <use x=\"814.208984\" xlink:href=\"#DejaVuSans-65\"/>\r\n       <use x=\"875.732422\" xlink:href=\"#DejaVuSans-20\"/>\r\n       <use x=\"907.519531\" xlink:href=\"#DejaVuSans-63\"/>\r\n       <use x=\"962.5\" xlink:href=\"#DejaVuSans-61\"/>\r\n       <use x=\"1023.779297\" xlink:href=\"#DejaVuSans-6c\"/>\r\n       <use x=\"1051.5625\" xlink:href=\"#DejaVuSans-6c\"/>\r\n       <use x=\"1079.345703\" xlink:href=\"#DejaVuSans-73\"/>\r\n      </g>\r\n     </g>\r\n    </g>\r\n    <g id=\"ytick_8\">\r\n     <g id=\"line2d_16\">\r\n      <g>\r\n       <use style=\"stroke:#000000;stroke-width:0.8;\" x=\"127.34375\" xlink:href=\"#mc3faa0b343\" y=\"418.699219\"/>\r\n      </g>\r\n     </g>\r\n     <g id=\"text_16\">\r\n      <!-- Churn -->\r\n      <g transform=\"translate(90.239063 422.498437)scale(0.1 -0.1)\">\r\n       <use xlink:href=\"#DejaVuSans-43\"/>\r\n       <use x=\"69.824219\" xlink:href=\"#DejaVuSans-68\"/>\r\n       <use x=\"133.203125\" xlink:href=\"#DejaVuSans-75\"/>\r\n       <use x=\"196.582031\" xlink:href=\"#DejaVuSans-72\"/>\r\n       <use x=\"237.679688\" xlink:href=\"#DejaVuSans-6e\"/>\r\n      </g>\r\n     </g>\r\n    </g>\r\n   </g>\r\n   <g id=\"text_17\">\r\n    <!-- 1.00 -->\r\n    <defs>\r\n     <path d=\"M 12.40625 8.296875 \r\nL 28.515625 8.296875 \r\nL 28.515625 63.921875 \r\nL 10.984375 60.40625 \r\nL 10.984375 69.390625 \r\nL 28.421875 72.90625 \r\nL 38.28125 72.90625 \r\nL 38.28125 8.296875 \r\nL 54.390625 8.296875 \r\nL 54.390625 0 \r\nL 12.40625 0 \r\nz\r\n\" id=\"DejaVuSans-31\"/>\r\n     <path d=\"M 10.6875 12.40625 \r\nL 21 12.40625 \r\nL 21 0 \r\nL 10.6875 0 \r\nz\r\n\" id=\"DejaVuSans-2e\"/>\r\n     <path d=\"M 31.78125 66.40625 \r\nQ 24.171875 66.40625 20.328125 58.90625 \r\nQ 16.5 51.421875 16.5 36.375 \r\nQ 16.5 21.390625 20.328125 13.890625 \r\nQ 24.171875 6.390625 31.78125 6.390625 \r\nQ 39.453125 6.390625 43.28125 13.890625 \r\nQ 47.125 21.390625 47.125 36.375 \r\nQ 47.125 51.421875 43.28125 58.90625 \r\nQ 39.453125 66.40625 31.78125 66.40625 \r\nz\r\nM 31.78125 74.21875 \r\nQ 44.046875 74.21875 50.515625 64.515625 \r\nQ 56.984375 54.828125 56.984375 36.375 \r\nQ 56.984375 17.96875 50.515625 8.265625 \r\nQ 44.046875 -1.421875 31.78125 -1.421875 \r\nQ 19.53125 -1.421875 13.0625 8.265625 \r\nQ 6.59375 17.96875 6.59375 36.375 \r\nQ 6.59375 54.828125 13.0625 64.515625 \r\nQ 19.53125 74.21875 31.78125 74.21875 \r\nz\r\n\" id=\"DejaVuSans-30\"/>\r\n    </defs>\r\n    <g style=\"fill:#262626;\" transform=\"translate(172.010938 40.938594)scale(0.1 -0.1)\">\r\n     <use xlink:href=\"#DejaVuSans-31\"/>\r\n     <use x=\"63.623047\" xlink:href=\"#DejaVuSans-2e\"/>\r\n     <use x=\"95.410156\" xlink:href=\"#DejaVuSans-30\"/>\r\n     <use x=\"159.033203\" xlink:href=\"#DejaVuSans-30\"/>\r\n    </g>\r\n   </g>\r\n   <g id=\"text_18\">\r\n    <!-- 0.03 -->\r\n    <defs>\r\n     <path d=\"M 40.578125 39.3125 \r\nQ 47.65625 37.796875 51.625 33 \r\nQ 55.609375 28.21875 55.609375 21.1875 \r\nQ 55.609375 10.40625 48.1875 4.484375 \r\nQ 40.765625 -1.421875 27.09375 -1.421875 \r\nQ 22.515625 -1.421875 17.65625 -0.515625 \r\nQ 12.796875 0.390625 7.625 2.203125 \r\nL 7.625 11.71875 \r\nQ 11.71875 9.328125 16.59375 8.109375 \r\nQ 21.484375 6.890625 26.8125 6.890625 \r\nQ 36.078125 6.890625 40.9375 10.546875 \r\nQ 45.796875 14.203125 45.796875 21.1875 \r\nQ 45.796875 27.640625 41.28125 31.265625 \r\nQ 36.765625 34.90625 28.71875 34.90625 \r\nL 20.21875 34.90625 \r\nL 20.21875 43.015625 \r\nL 29.109375 43.015625 \r\nQ 36.375 43.015625 40.234375 45.921875 \r\nQ 44.09375 48.828125 44.09375 54.296875 \r\nQ 44.09375 59.90625 40.109375 62.90625 \r\nQ 36.140625 65.921875 28.71875 65.921875 \r\nQ 24.65625 65.921875 20.015625 65.03125 \r\nQ 15.375 64.15625 9.8125 62.3125 \r\nL 9.8125 71.09375 \r\nQ 15.4375 72.65625 20.34375 73.4375 \r\nQ 25.25 74.21875 29.59375 74.21875 \r\nQ 40.828125 74.21875 47.359375 69.109375 \r\nQ 53.90625 64.015625 53.90625 55.328125 \r\nQ 53.90625 49.265625 50.4375 45.09375 \r\nQ 46.96875 40.921875 40.578125 39.3125 \r\nz\r\n\" id=\"DejaVuSans-33\"/>\r\n    </defs>\r\n    <g style=\"fill:#ffffff;\" transform=\"translate(283.610937 40.938594)scale(0.1 -0.1)\">\r\n     <use xlink:href=\"#DejaVuSans-30\"/>\r\n     <use x=\"63.623047\" xlink:href=\"#DejaVuSans-2e\"/>\r\n     <use x=\"95.410156\" xlink:href=\"#DejaVuSans-30\"/>\r\n     <use x=\"159.033203\" xlink:href=\"#DejaVuSans-33\"/>\r\n    </g>\r\n   </g>\r\n   <g id=\"text_19\">\r\n    <!-- 0.03 -->\r\n    <g style=\"fill:#ffffff;\" transform=\"translate(395.210938 40.938594)scale(0.1 -0.1)\">\r\n     <use xlink:href=\"#DejaVuSans-30\"/>\r\n     <use x=\"63.623047\" xlink:href=\"#DejaVuSans-2e\"/>\r\n     <use x=\"95.410156\" xlink:href=\"#DejaVuSans-30\"/>\r\n     <use x=\"159.033203\" xlink:href=\"#DejaVuSans-33\"/>\r\n    </g>\r\n   </g>\r\n   <g id=\"text_20\">\r\n    <!-- -0.02 -->\r\n    <defs>\r\n     <path d=\"M 4.890625 31.390625 \r\nL 31.203125 31.390625 \r\nL 31.203125 23.390625 \r\nL 4.890625 23.390625 \r\nz\r\n\" id=\"DejaVuSans-2d\"/>\r\n     <path d=\"M 19.1875 8.296875 \r\nL 53.609375 8.296875 \r\nL 53.609375 0 \r\nL 7.328125 0 \r\nL 7.328125 8.296875 \r\nQ 12.9375 14.109375 22.625 23.890625 \r\nQ 32.328125 33.6875 34.8125 36.53125 \r\nQ 39.546875 41.84375 41.421875 45.53125 \r\nQ 43.3125 49.21875 43.3125 52.78125 \r\nQ 43.3125 58.59375 39.234375 62.25 \r\nQ 35.15625 65.921875 28.609375 65.921875 \r\nQ 23.96875 65.921875 18.8125 64.3125 \r\nQ 13.671875 62.703125 7.8125 59.421875 \r\nL 7.8125 69.390625 \r\nQ 13.765625 71.78125 18.9375 73 \r\nQ 24.125 74.21875 28.421875 74.21875 \r\nQ 39.75 74.21875 46.484375 68.546875 \r\nQ 53.21875 62.890625 53.21875 53.421875 \r\nQ 53.21875 48.921875 51.53125 44.890625 \r\nQ 49.859375 40.875 45.40625 35.40625 \r\nQ 44.1875 33.984375 37.640625 27.21875 \r\nQ 31.109375 20.453125 19.1875 8.296875 \r\nz\r\n\" id=\"DejaVuSans-32\"/>\r\n    </defs>\r\n    <g style=\"fill:#ffffff;\" transform=\"translate(505.007031 40.938594)scale(0.1 -0.1)\">\r\n     <use xlink:href=\"#DejaVuSans-2d\"/>\r\n     <use x=\"36.083984\" xlink:href=\"#DejaVuSans-30\"/>\r\n     <use x=\"99.707031\" xlink:href=\"#DejaVuSans-2e\"/>\r\n     <use x=\"131.494141\" xlink:href=\"#DejaVuSans-30\"/>\r\n     <use x=\"195.117188\" xlink:href=\"#DejaVuSans-32\"/>\r\n    </g>\r\n   </g>\r\n   <g id=\"text_21\">\r\n    <!-- 0.03 -->\r\n    <g style=\"fill:#ffffff;\" transform=\"translate(618.410938 40.938594)scale(0.1 -0.1)\">\r\n     <use xlink:href=\"#DejaVuSans-30\"/>\r\n     <use x=\"63.623047\" xlink:href=\"#DejaVuSans-2e\"/>\r\n     <use x=\"95.410156\" xlink:href=\"#DejaVuSans-30\"/>\r\n     <use x=\"159.033203\" xlink:href=\"#DejaVuSans-33\"/>\r\n    </g>\r\n   </g>\r\n   <g id=\"text_22\">\r\n    <!-- 0.04 -->\r\n    <defs>\r\n     <path d=\"M 37.796875 64.3125 \r\nL 12.890625 25.390625 \r\nL 37.796875 25.390625 \r\nz\r\nM 35.203125 72.90625 \r\nL 47.609375 72.90625 \r\nL 47.609375 25.390625 \r\nL 58.015625 25.390625 \r\nL 58.015625 17.1875 \r\nL 47.609375 17.1875 \r\nL 47.609375 0 \r\nL 37.796875 0 \r\nL 37.796875 17.1875 \r\nL 4.890625 17.1875 \r\nL 4.890625 26.703125 \r\nz\r\n\" id=\"DejaVuSans-34\"/>\r\n    </defs>\r\n    <g style=\"fill:#ffffff;\" transform=\"translate(730.010937 40.938594)scale(0.1 -0.1)\">\r\n     <use xlink:href=\"#DejaVuSans-30\"/>\r\n     <use x=\"63.623047\" xlink:href=\"#DejaVuSans-2e\"/>\r\n     <use x=\"95.410156\" xlink:href=\"#DejaVuSans-30\"/>\r\n     <use x=\"159.033203\" xlink:href=\"#DejaVuSans-34\"/>\r\n    </g>\r\n   </g>\r\n   <g id=\"text_23\">\r\n    <!-- -0.03 -->\r\n    <g style=\"fill:#ffffff;\" transform=\"translate(839.807031 40.938594)scale(0.1 -0.1)\">\r\n     <use xlink:href=\"#DejaVuSans-2d\"/>\r\n     <use x=\"36.083984\" xlink:href=\"#DejaVuSans-30\"/>\r\n     <use x=\"99.707031\" xlink:href=\"#DejaVuSans-2e\"/>\r\n     <use x=\"131.494141\" xlink:href=\"#DejaVuSans-30\"/>\r\n     <use x=\"195.117188\" xlink:href=\"#DejaVuSans-33\"/>\r\n    </g>\r\n   </g>\r\n   <g id=\"text_24\">\r\n    <!-- 0.15 -->\r\n    <defs>\r\n     <path d=\"M 10.796875 72.90625 \r\nL 49.515625 72.90625 \r\nL 49.515625 64.59375 \r\nL 19.828125 64.59375 \r\nL 19.828125 46.734375 \r\nQ 21.96875 47.46875 24.109375 47.828125 \r\nQ 26.265625 48.1875 28.421875 48.1875 \r\nQ 40.625 48.1875 47.75 41.5 \r\nQ 54.890625 34.8125 54.890625 23.390625 \r\nQ 54.890625 11.625 47.5625 5.09375 \r\nQ 40.234375 -1.421875 26.90625 -1.421875 \r\nQ 22.3125 -1.421875 17.546875 -0.640625 \r\nQ 12.796875 0.140625 7.71875 1.703125 \r\nL 7.71875 11.625 \r\nQ 12.109375 9.234375 16.796875 8.0625 \r\nQ 21.484375 6.890625 26.703125 6.890625 \r\nQ 35.15625 6.890625 40.078125 11.328125 \r\nQ 45.015625 15.765625 45.015625 23.390625 \r\nQ 45.015625 31 40.078125 35.4375 \r\nQ 35.15625 39.890625 26.703125 39.890625 \r\nQ 22.75 39.890625 18.8125 39.015625 \r\nQ 14.890625 38.140625 10.796875 36.28125 \r\nz\r\n\" id=\"DejaVuSans-35\"/>\r\n    </defs>\r\n    <g style=\"fill:#ffffff;\" transform=\"translate(953.210938 40.938594)scale(0.1 -0.1)\">\r\n     <use xlink:href=\"#DejaVuSans-30\"/>\r\n     <use x=\"63.623047\" xlink:href=\"#DejaVuSans-2e\"/>\r\n     <use x=\"95.410156\" xlink:href=\"#DejaVuSans-31\"/>\r\n     <use x=\"159.033203\" xlink:href=\"#DejaVuSans-35\"/>\r\n    </g>\r\n   </g>\r\n   <g id=\"text_25\">\r\n    <!-- 0.03 -->\r\n    <g style=\"fill:#ffffff;\" transform=\"translate(172.010938 95.298594)scale(0.1 -0.1)\">\r\n     <use xlink:href=\"#DejaVuSans-30\"/>\r\n     <use x=\"63.623047\" xlink:href=\"#DejaVuSans-2e\"/>\r\n     <use x=\"95.410156\" xlink:href=\"#DejaVuSans-30\"/>\r\n     <use x=\"159.033203\" xlink:href=\"#DejaVuSans-33\"/>\r\n    </g>\r\n   </g>\r\n   <g id=\"text_26\">\r\n    <!-- 1.00 -->\r\n    <g style=\"fill:#262626;\" transform=\"translate(283.610937 95.298594)scale(0.1 -0.1)\">\r\n     <use xlink:href=\"#DejaVuSans-31\"/>\r\n     <use x=\"63.623047\" xlink:href=\"#DejaVuSans-2e\"/>\r\n     <use x=\"95.410156\" xlink:href=\"#DejaVuSans-30\"/>\r\n     <use x=\"159.033203\" xlink:href=\"#DejaVuSans-30\"/>\r\n    </g>\r\n   </g>\r\n   <g id=\"text_27\">\r\n    <!-- 0.06 -->\r\n    <defs>\r\n     <path d=\"M 33.015625 40.375 \r\nQ 26.375 40.375 22.484375 35.828125 \r\nQ 18.609375 31.296875 18.609375 23.390625 \r\nQ 18.609375 15.53125 22.484375 10.953125 \r\nQ 26.375 6.390625 33.015625 6.390625 \r\nQ 39.65625 6.390625 43.53125 10.953125 \r\nQ 47.40625 15.53125 47.40625 23.390625 \r\nQ 47.40625 31.296875 43.53125 35.828125 \r\nQ 39.65625 40.375 33.015625 40.375 \r\nz\r\nM 52.59375 71.296875 \r\nL 52.59375 62.3125 \r\nQ 48.875 64.0625 45.09375 64.984375 \r\nQ 41.3125 65.921875 37.59375 65.921875 \r\nQ 27.828125 65.921875 22.671875 59.328125 \r\nQ 17.53125 52.734375 16.796875 39.40625 \r\nQ 19.671875 43.65625 24.015625 45.921875 \r\nQ 28.375 48.1875 33.59375 48.1875 \r\nQ 44.578125 48.1875 50.953125 41.515625 \r\nQ 57.328125 34.859375 57.328125 23.390625 \r\nQ 57.328125 12.15625 50.6875 5.359375 \r\nQ 44.046875 -1.421875 33.015625 -1.421875 \r\nQ 20.359375 -1.421875 13.671875 8.265625 \r\nQ 6.984375 17.96875 6.984375 36.375 \r\nQ 6.984375 53.65625 15.1875 63.9375 \r\nQ 23.390625 74.21875 37.203125 74.21875 \r\nQ 40.921875 74.21875 44.703125 73.484375 \r\nQ 48.484375 72.75 52.59375 71.296875 \r\nz\r\n\" id=\"DejaVuSans-36\"/>\r\n    </defs>\r\n    <g style=\"fill:#ffffff;\" transform=\"translate(395.210938 95.298594)scale(0.1 -0.1)\">\r\n     <use xlink:href=\"#DejaVuSans-30\"/>\r\n     <use x=\"63.623047\" xlink:href=\"#DejaVuSans-2e\"/>\r\n     <use x=\"95.410156\" xlink:href=\"#DejaVuSans-30\"/>\r\n     <use x=\"159.033203\" xlink:href=\"#DejaVuSans-36\"/>\r\n    </g>\r\n   </g>\r\n   <g id=\"text_28\">\r\n    <!-- 0.06 -->\r\n    <g style=\"fill:#ffffff;\" transform=\"translate(506.810938 95.298594)scale(0.1 -0.1)\">\r\n     <use xlink:href=\"#DejaVuSans-30\"/>\r\n     <use x=\"63.623047\" xlink:href=\"#DejaVuSans-2e\"/>\r\n     <use x=\"95.410156\" xlink:href=\"#DejaVuSans-30\"/>\r\n     <use x=\"159.033203\" xlink:href=\"#DejaVuSans-36\"/>\r\n    </g>\r\n   </g>\r\n   <g id=\"text_29\">\r\n    <!-- 0.04 -->\r\n    <g style=\"fill:#ffffff;\" transform=\"translate(618.410938 95.298594)scale(0.1 -0.1)\">\r\n     <use xlink:href=\"#DejaVuSans-30\"/>\r\n     <use x=\"63.623047\" xlink:href=\"#DejaVuSans-2e\"/>\r\n     <use x=\"95.410156\" xlink:href=\"#DejaVuSans-30\"/>\r\n     <use x=\"159.033203\" xlink:href=\"#DejaVuSans-34\"/>\r\n    </g>\r\n   </g>\r\n   <g id=\"text_30\">\r\n    <!-- 0.90 -->\r\n    <defs>\r\n     <path d=\"M 10.984375 1.515625 \r\nL 10.984375 10.5 \r\nQ 14.703125 8.734375 18.5 7.8125 \r\nQ 22.3125 6.890625 25.984375 6.890625 \r\nQ 35.75 6.890625 40.890625 13.453125 \r\nQ 46.046875 20.015625 46.78125 33.40625 \r\nQ 43.953125 29.203125 39.59375 26.953125 \r\nQ 35.25 24.703125 29.984375 24.703125 \r\nQ 19.046875 24.703125 12.671875 31.3125 \r\nQ 6.296875 37.9375 6.296875 49.421875 \r\nQ 6.296875 60.640625 12.9375 67.421875 \r\nQ 19.578125 74.21875 30.609375 74.21875 \r\nQ 43.265625 74.21875 49.921875 64.515625 \r\nQ 56.59375 54.828125 56.59375 36.375 \r\nQ 56.59375 19.140625 48.40625 8.859375 \r\nQ 40.234375 -1.421875 26.421875 -1.421875 \r\nQ 22.703125 -1.421875 18.890625 -0.6875 \r\nQ 15.09375 0.046875 10.984375 1.515625 \r\nz\r\nM 30.609375 32.421875 \r\nQ 37.25 32.421875 41.125 36.953125 \r\nQ 45.015625 41.5 45.015625 49.421875 \r\nQ 45.015625 57.28125 41.125 61.84375 \r\nQ 37.25 66.40625 30.609375 66.40625 \r\nQ 23.96875 66.40625 20.09375 61.84375 \r\nQ 16.21875 57.28125 16.21875 49.421875 \r\nQ 16.21875 41.5 20.09375 36.953125 \r\nQ 23.96875 32.421875 30.609375 32.421875 \r\nz\r\n\" id=\"DejaVuSans-39\"/>\r\n    </defs>\r\n    <g style=\"fill:#262626;\" transform=\"translate(730.010937 95.298594)scale(0.1 -0.1)\">\r\n     <use xlink:href=\"#DejaVuSans-30\"/>\r\n     <use x=\"63.623047\" xlink:href=\"#DejaVuSans-2e\"/>\r\n     <use x=\"95.410156\" xlink:href=\"#DejaVuSans-39\"/>\r\n     <use x=\"159.033203\" xlink:href=\"#DejaVuSans-30\"/>\r\n    </g>\r\n   </g>\r\n   <g id=\"text_31\">\r\n    <!-- -0.02 -->\r\n    <g style=\"fill:#ffffff;\" transform=\"translate(839.807031 95.298594)scale(0.1 -0.1)\">\r\n     <use xlink:href=\"#DejaVuSans-2d\"/>\r\n     <use x=\"36.083984\" xlink:href=\"#DejaVuSans-30\"/>\r\n     <use x=\"99.707031\" xlink:href=\"#DejaVuSans-2e\"/>\r\n     <use x=\"131.494141\" xlink:href=\"#DejaVuSans-30\"/>\r\n     <use x=\"195.117188\" xlink:href=\"#DejaVuSans-32\"/>\r\n    </g>\r\n   </g>\r\n   <g id=\"text_32\">\r\n    <!-- 0.23 -->\r\n    <g style=\"fill:#ffffff;\" transform=\"translate(953.210938 95.298594)scale(0.1 -0.1)\">\r\n     <use xlink:href=\"#DejaVuSans-30\"/>\r\n     <use x=\"63.623047\" xlink:href=\"#DejaVuSans-2e\"/>\r\n     <use x=\"95.410156\" xlink:href=\"#DejaVuSans-32\"/>\r\n     <use x=\"159.033203\" xlink:href=\"#DejaVuSans-33\"/>\r\n    </g>\r\n   </g>\r\n   <g id=\"text_33\">\r\n    <!-- 0.03 -->\r\n    <g style=\"fill:#ffffff;\" transform=\"translate(172.010938 149.658594)scale(0.1 -0.1)\">\r\n     <use xlink:href=\"#DejaVuSans-30\"/>\r\n     <use x=\"63.623047\" xlink:href=\"#DejaVuSans-2e\"/>\r\n     <use x=\"95.410156\" xlink:href=\"#DejaVuSans-30\"/>\r\n     <use x=\"159.033203\" xlink:href=\"#DejaVuSans-33\"/>\r\n    </g>\r\n   </g>\r\n   <g id=\"text_34\">\r\n    <!-- 0.06 -->\r\n    <g style=\"fill:#ffffff;\" transform=\"translate(283.610937 149.658594)scale(0.1 -0.1)\">\r\n     <use xlink:href=\"#DejaVuSans-30\"/>\r\n     <use x=\"63.623047\" xlink:href=\"#DejaVuSans-2e\"/>\r\n     <use x=\"95.410156\" xlink:href=\"#DejaVuSans-30\"/>\r\n     <use x=\"159.033203\" xlink:href=\"#DejaVuSans-36\"/>\r\n    </g>\r\n   </g>\r\n   <g id=\"text_35\">\r\n    <!-- 1.00 -->\r\n    <g style=\"fill:#262626;\" transform=\"translate(395.210938 149.658594)scale(0.1 -0.1)\">\r\n     <use xlink:href=\"#DejaVuSans-31\"/>\r\n     <use x=\"63.623047\" xlink:href=\"#DejaVuSans-2e\"/>\r\n     <use x=\"95.410156\" xlink:href=\"#DejaVuSans-30\"/>\r\n     <use x=\"159.033203\" xlink:href=\"#DejaVuSans-30\"/>\r\n    </g>\r\n   </g>\r\n   <g id=\"text_36\">\r\n    <!-- 0.01 -->\r\n    <g style=\"fill:#ffffff;\" transform=\"translate(506.810938 149.658594)scale(0.1 -0.1)\">\r\n     <use xlink:href=\"#DejaVuSans-30\"/>\r\n     <use x=\"63.623047\" xlink:href=\"#DejaVuSans-2e\"/>\r\n     <use x=\"95.410156\" xlink:href=\"#DejaVuSans-30\"/>\r\n     <use x=\"159.033203\" xlink:href=\"#DejaVuSans-31\"/>\r\n    </g>\r\n   </g>\r\n   <g id=\"text_37\">\r\n    <!-- 0.01 -->\r\n    <g style=\"fill:#ffffff;\" transform=\"translate(618.410938 149.658594)scale(0.1 -0.1)\">\r\n     <use xlink:href=\"#DejaVuSans-30\"/>\r\n     <use x=\"63.623047\" xlink:href=\"#DejaVuSans-2e\"/>\r\n     <use x=\"95.410156\" xlink:href=\"#DejaVuSans-30\"/>\r\n     <use x=\"159.033203\" xlink:href=\"#DejaVuSans-31\"/>\r\n    </g>\r\n   </g>\r\n   <g id=\"text_38\">\r\n    <!-- 0.44 -->\r\n    <g style=\"fill:#ffffff;\" transform=\"translate(730.010937 149.658594)scale(0.1 -0.1)\">\r\n     <use xlink:href=\"#DejaVuSans-30\"/>\r\n     <use x=\"63.623047\" xlink:href=\"#DejaVuSans-2e\"/>\r\n     <use x=\"95.410156\" xlink:href=\"#DejaVuSans-34\"/>\r\n     <use x=\"159.033203\" xlink:href=\"#DejaVuSans-34\"/>\r\n    </g>\r\n   </g>\r\n   <g id=\"text_39\">\r\n    <!-- -0.01 -->\r\n    <g style=\"fill:#ffffff;\" transform=\"translate(839.807031 149.658594)scale(0.1 -0.1)\">\r\n     <use xlink:href=\"#DejaVuSans-2d\"/>\r\n     <use x=\"36.083984\" xlink:href=\"#DejaVuSans-30\"/>\r\n     <use x=\"99.707031\" xlink:href=\"#DejaVuSans-2e\"/>\r\n     <use x=\"131.494141\" xlink:href=\"#DejaVuSans-30\"/>\r\n     <use x=\"195.117188\" xlink:href=\"#DejaVuSans-31\"/>\r\n    </g>\r\n   </g>\r\n   <g id=\"text_40\">\r\n    <!-- 0.11 -->\r\n    <g style=\"fill:#ffffff;\" transform=\"translate(953.210938 149.658594)scale(0.1 -0.1)\">\r\n     <use xlink:href=\"#DejaVuSans-30\"/>\r\n     <use x=\"63.623047\" xlink:href=\"#DejaVuSans-2e\"/>\r\n     <use x=\"95.410156\" xlink:href=\"#DejaVuSans-31\"/>\r\n     <use x=\"159.033203\" xlink:href=\"#DejaVuSans-31\"/>\r\n    </g>\r\n   </g>\r\n   <g id=\"text_41\">\r\n    <!-- -0.02 -->\r\n    <g style=\"fill:#ffffff;\" transform=\"translate(170.207031 204.018594)scale(0.1 -0.1)\">\r\n     <use xlink:href=\"#DejaVuSans-2d\"/>\r\n     <use x=\"36.083984\" xlink:href=\"#DejaVuSans-30\"/>\r\n     <use x=\"99.707031\" xlink:href=\"#DejaVuSans-2e\"/>\r\n     <use x=\"131.494141\" xlink:href=\"#DejaVuSans-30\"/>\r\n     <use x=\"195.117188\" xlink:href=\"#DejaVuSans-32\"/>\r\n    </g>\r\n   </g>\r\n   <g id=\"text_42\">\r\n    <!-- 0.06 -->\r\n    <g style=\"fill:#ffffff;\" transform=\"translate(283.610937 204.018594)scale(0.1 -0.1)\">\r\n     <use xlink:href=\"#DejaVuSans-30\"/>\r\n     <use x=\"63.623047\" xlink:href=\"#DejaVuSans-2e\"/>\r\n     <use x=\"95.410156\" xlink:href=\"#DejaVuSans-30\"/>\r\n     <use x=\"159.033203\" xlink:href=\"#DejaVuSans-36\"/>\r\n    </g>\r\n   </g>\r\n   <g id=\"text_43\">\r\n    <!-- 0.01 -->\r\n    <g style=\"fill:#ffffff;\" transform=\"translate(395.210938 204.018594)scale(0.1 -0.1)\">\r\n     <use xlink:href=\"#DejaVuSans-30\"/>\r\n     <use x=\"63.623047\" xlink:href=\"#DejaVuSans-2e\"/>\r\n     <use x=\"95.410156\" xlink:href=\"#DejaVuSans-30\"/>\r\n     <use x=\"159.033203\" xlink:href=\"#DejaVuSans-31\"/>\r\n    </g>\r\n   </g>\r\n   <g id=\"text_44\">\r\n    <!-- 1.00 -->\r\n    <g style=\"fill:#262626;\" transform=\"translate(506.810938 204.018594)scale(0.1 -0.1)\">\r\n     <use xlink:href=\"#DejaVuSans-31\"/>\r\n     <use x=\"63.623047\" xlink:href=\"#DejaVuSans-2e\"/>\r\n     <use x=\"95.410156\" xlink:href=\"#DejaVuSans-30\"/>\r\n     <use x=\"159.033203\" xlink:href=\"#DejaVuSans-30\"/>\r\n    </g>\r\n   </g>\r\n   <g id=\"text_45\">\r\n    <!-- 0.01 -->\r\n    <g style=\"fill:#ffffff;\" transform=\"translate(618.410938 204.018594)scale(0.1 -0.1)\">\r\n     <use xlink:href=\"#DejaVuSans-30\"/>\r\n     <use x=\"63.623047\" xlink:href=\"#DejaVuSans-2e\"/>\r\n     <use x=\"95.410156\" xlink:href=\"#DejaVuSans-30\"/>\r\n     <use x=\"159.033203\" xlink:href=\"#DejaVuSans-31\"/>\r\n    </g>\r\n   </g>\r\n   <g id=\"text_46\">\r\n    <!-- 0.26 -->\r\n    <g style=\"fill:#ffffff;\" transform=\"translate(730.010937 204.018594)scale(0.1 -0.1)\">\r\n     <use xlink:href=\"#DejaVuSans-30\"/>\r\n     <use x=\"63.623047\" xlink:href=\"#DejaVuSans-2e\"/>\r\n     <use x=\"95.410156\" xlink:href=\"#DejaVuSans-32\"/>\r\n     <use x=\"159.033203\" xlink:href=\"#DejaVuSans-36\"/>\r\n    </g>\r\n   </g>\r\n   <g id=\"text_47\">\r\n    <!-- -0.01 -->\r\n    <g style=\"fill:#ffffff;\" transform=\"translate(839.807031 204.018594)scale(0.1 -0.1)\">\r\n     <use xlink:href=\"#DejaVuSans-2d\"/>\r\n     <use x=\"36.083984\" xlink:href=\"#DejaVuSans-30\"/>\r\n     <use x=\"99.707031\" xlink:href=\"#DejaVuSans-2e\"/>\r\n     <use x=\"131.494141\" xlink:href=\"#DejaVuSans-30\"/>\r\n     <use x=\"195.117188\" xlink:href=\"#DejaVuSans-31\"/>\r\n    </g>\r\n   </g>\r\n   <g id=\"text_48\">\r\n    <!-- 0.06 -->\r\n    <g style=\"fill:#ffffff;\" transform=\"translate(953.210938 204.018594)scale(0.1 -0.1)\">\r\n     <use xlink:href=\"#DejaVuSans-30\"/>\r\n     <use x=\"63.623047\" xlink:href=\"#DejaVuSans-2e\"/>\r\n     <use x=\"95.410156\" xlink:href=\"#DejaVuSans-30\"/>\r\n     <use x=\"159.033203\" xlink:href=\"#DejaVuSans-36\"/>\r\n    </g>\r\n   </g>\r\n   <g id=\"text_49\">\r\n    <!-- 0.03 -->\r\n    <g style=\"fill:#ffffff;\" transform=\"translate(172.010938 258.378594)scale(0.1 -0.1)\">\r\n     <use xlink:href=\"#DejaVuSans-30\"/>\r\n     <use x=\"63.623047\" xlink:href=\"#DejaVuSans-2e\"/>\r\n     <use x=\"95.410156\" xlink:href=\"#DejaVuSans-30\"/>\r\n     <use x=\"159.033203\" xlink:href=\"#DejaVuSans-33\"/>\r\n    </g>\r\n   </g>\r\n   <g id=\"text_50\">\r\n    <!-- 0.04 -->\r\n    <g style=\"fill:#ffffff;\" transform=\"translate(283.610937 258.378594)scale(0.1 -0.1)\">\r\n     <use xlink:href=\"#DejaVuSans-30\"/>\r\n     <use x=\"63.623047\" xlink:href=\"#DejaVuSans-2e\"/>\r\n     <use x=\"95.410156\" xlink:href=\"#DejaVuSans-30\"/>\r\n     <use x=\"159.033203\" xlink:href=\"#DejaVuSans-34\"/>\r\n    </g>\r\n   </g>\r\n   <g id=\"text_51\">\r\n    <!-- 0.01 -->\r\n    <g style=\"fill:#ffffff;\" transform=\"translate(395.210938 258.378594)scale(0.1 -0.1)\">\r\n     <use xlink:href=\"#DejaVuSans-30\"/>\r\n     <use x=\"63.623047\" xlink:href=\"#DejaVuSans-2e\"/>\r\n     <use x=\"95.410156\" xlink:href=\"#DejaVuSans-30\"/>\r\n     <use x=\"159.033203\" xlink:href=\"#DejaVuSans-31\"/>\r\n    </g>\r\n   </g>\r\n   <g id=\"text_52\">\r\n    <!-- 0.01 -->\r\n    <g style=\"fill:#ffffff;\" transform=\"translate(506.810938 258.378594)scale(0.1 -0.1)\">\r\n     <use xlink:href=\"#DejaVuSans-30\"/>\r\n     <use x=\"63.623047\" xlink:href=\"#DejaVuSans-2e\"/>\r\n     <use x=\"95.410156\" xlink:href=\"#DejaVuSans-30\"/>\r\n     <use x=\"159.033203\" xlink:href=\"#DejaVuSans-31\"/>\r\n    </g>\r\n   </g>\r\n   <g id=\"text_53\">\r\n    <!-- 1.00 -->\r\n    <g style=\"fill:#262626;\" transform=\"translate(618.410938 258.378594)scale(0.1 -0.1)\">\r\n     <use xlink:href=\"#DejaVuSans-31\"/>\r\n     <use x=\"63.623047\" xlink:href=\"#DejaVuSans-2e\"/>\r\n     <use x=\"95.410156\" xlink:href=\"#DejaVuSans-30\"/>\r\n     <use x=\"159.033203\" xlink:href=\"#DejaVuSans-30\"/>\r\n    </g>\r\n   </g>\r\n   <g id=\"text_54\">\r\n    <!-- 0.10 -->\r\n    <g style=\"fill:#ffffff;\" transform=\"translate(730.010937 258.378594)scale(0.1 -0.1)\">\r\n     <use xlink:href=\"#DejaVuSans-30\"/>\r\n     <use x=\"63.623047\" xlink:href=\"#DejaVuSans-2e\"/>\r\n     <use x=\"95.410156\" xlink:href=\"#DejaVuSans-31\"/>\r\n     <use x=\"159.033203\" xlink:href=\"#DejaVuSans-30\"/>\r\n    </g>\r\n   </g>\r\n   <g id=\"text_55\">\r\n    <!-- -0.01 -->\r\n    <g style=\"fill:#ffffff;\" transform=\"translate(839.807031 258.378594)scale(0.1 -0.1)\">\r\n     <use xlink:href=\"#DejaVuSans-2d\"/>\r\n     <use x=\"36.083984\" xlink:href=\"#DejaVuSans-30\"/>\r\n     <use x=\"99.707031\" xlink:href=\"#DejaVuSans-2e\"/>\r\n     <use x=\"131.494141\" xlink:href=\"#DejaVuSans-30\"/>\r\n     <use x=\"195.117188\" xlink:href=\"#DejaVuSans-31\"/>\r\n    </g>\r\n   </g>\r\n   <g id=\"text_56\">\r\n    <!-- 0.09 -->\r\n    <g style=\"fill:#ffffff;\" transform=\"translate(953.210938 258.378594)scale(0.1 -0.1)\">\r\n     <use xlink:href=\"#DejaVuSans-30\"/>\r\n     <use x=\"63.623047\" xlink:href=\"#DejaVuSans-2e\"/>\r\n     <use x=\"95.410156\" xlink:href=\"#DejaVuSans-30\"/>\r\n     <use x=\"159.033203\" xlink:href=\"#DejaVuSans-39\"/>\r\n    </g>\r\n   </g>\r\n   <g id=\"text_57\">\r\n    <!-- 0.04 -->\r\n    <g style=\"fill:#ffffff;\" transform=\"translate(172.010938 312.738594)scale(0.1 -0.1)\">\r\n     <use xlink:href=\"#DejaVuSans-30\"/>\r\n     <use x=\"63.623047\" xlink:href=\"#DejaVuSans-2e\"/>\r\n     <use x=\"95.410156\" xlink:href=\"#DejaVuSans-30\"/>\r\n     <use x=\"159.033203\" xlink:href=\"#DejaVuSans-34\"/>\r\n    </g>\r\n   </g>\r\n   <g id=\"text_58\">\r\n    <!-- 0.90 -->\r\n    <g style=\"fill:#262626;\" transform=\"translate(283.610937 312.738594)scale(0.1 -0.1)\">\r\n     <use xlink:href=\"#DejaVuSans-30\"/>\r\n     <use x=\"63.623047\" xlink:href=\"#DejaVuSans-2e\"/>\r\n     <use x=\"95.410156\" xlink:href=\"#DejaVuSans-39\"/>\r\n     <use x=\"159.033203\" xlink:href=\"#DejaVuSans-30\"/>\r\n    </g>\r\n   </g>\r\n   <g id=\"text_59\">\r\n    <!-- 0.44 -->\r\n    <g style=\"fill:#ffffff;\" transform=\"translate(395.210938 312.738594)scale(0.1 -0.1)\">\r\n     <use xlink:href=\"#DejaVuSans-30\"/>\r\n     <use x=\"63.623047\" xlink:href=\"#DejaVuSans-2e\"/>\r\n     <use x=\"95.410156\" xlink:href=\"#DejaVuSans-34\"/>\r\n     <use x=\"159.033203\" xlink:href=\"#DejaVuSans-34\"/>\r\n    </g>\r\n   </g>\r\n   <g id=\"text_60\">\r\n    <!-- 0.26 -->\r\n    <g style=\"fill:#ffffff;\" transform=\"translate(506.810938 312.738594)scale(0.1 -0.1)\">\r\n     <use xlink:href=\"#DejaVuSans-30\"/>\r\n     <use x=\"63.623047\" xlink:href=\"#DejaVuSans-2e\"/>\r\n     <use x=\"95.410156\" xlink:href=\"#DejaVuSans-32\"/>\r\n     <use x=\"159.033203\" xlink:href=\"#DejaVuSans-36\"/>\r\n    </g>\r\n   </g>\r\n   <g id=\"text_61\">\r\n    <!-- 0.10 -->\r\n    <g style=\"fill:#ffffff;\" transform=\"translate(618.410938 312.738594)scale(0.1 -0.1)\">\r\n     <use xlink:href=\"#DejaVuSans-30\"/>\r\n     <use x=\"63.623047\" xlink:href=\"#DejaVuSans-2e\"/>\r\n     <use x=\"95.410156\" xlink:href=\"#DejaVuSans-31\"/>\r\n     <use x=\"159.033203\" xlink:href=\"#DejaVuSans-30\"/>\r\n    </g>\r\n   </g>\r\n   <g id=\"text_62\">\r\n    <!-- 1.00 -->\r\n    <g style=\"fill:#262626;\" transform=\"translate(730.010937 312.738594)scale(0.1 -0.1)\">\r\n     <use xlink:href=\"#DejaVuSans-31\"/>\r\n     <use x=\"63.623047\" xlink:href=\"#DejaVuSans-2e\"/>\r\n     <use x=\"95.410156\" xlink:href=\"#DejaVuSans-30\"/>\r\n     <use x=\"159.033203\" xlink:href=\"#DejaVuSans-30\"/>\r\n    </g>\r\n   </g>\r\n   <g id=\"text_63\">\r\n    <!-- -0.02 -->\r\n    <g style=\"fill:#ffffff;\" transform=\"translate(839.807031 312.738594)scale(0.1 -0.1)\">\r\n     <use xlink:href=\"#DejaVuSans-2d\"/>\r\n     <use x=\"36.083984\" xlink:href=\"#DejaVuSans-30\"/>\r\n     <use x=\"99.707031\" xlink:href=\"#DejaVuSans-2e\"/>\r\n     <use x=\"131.494141\" xlink:href=\"#DejaVuSans-30\"/>\r\n     <use x=\"195.117188\" xlink:href=\"#DejaVuSans-32\"/>\r\n    </g>\r\n   </g>\r\n   <g id=\"text_64\">\r\n    <!-- 0.26 -->\r\n    <g style=\"fill:#ffffff;\" transform=\"translate(953.210938 312.738594)scale(0.1 -0.1)\">\r\n     <use xlink:href=\"#DejaVuSans-30\"/>\r\n     <use x=\"63.623047\" xlink:href=\"#DejaVuSans-2e\"/>\r\n     <use x=\"95.410156\" xlink:href=\"#DejaVuSans-32\"/>\r\n     <use x=\"159.033203\" xlink:href=\"#DejaVuSans-36\"/>\r\n    </g>\r\n   </g>\r\n   <g id=\"text_65\">\r\n    <!-- -0.03 -->\r\n    <g style=\"fill:#ffffff;\" transform=\"translate(170.207031 367.098594)scale(0.1 -0.1)\">\r\n     <use xlink:href=\"#DejaVuSans-2d\"/>\r\n     <use x=\"36.083984\" xlink:href=\"#DejaVuSans-30\"/>\r\n     <use x=\"99.707031\" xlink:href=\"#DejaVuSans-2e\"/>\r\n     <use x=\"131.494141\" xlink:href=\"#DejaVuSans-30\"/>\r\n     <use x=\"195.117188\" xlink:href=\"#DejaVuSans-33\"/>\r\n    </g>\r\n   </g>\r\n   <g id=\"text_66\">\r\n    <!-- -0.02 -->\r\n    <g style=\"fill:#ffffff;\" transform=\"translate(281.807031 367.098594)scale(0.1 -0.1)\">\r\n     <use xlink:href=\"#DejaVuSans-2d\"/>\r\n     <use x=\"36.083984\" xlink:href=\"#DejaVuSans-30\"/>\r\n     <use x=\"99.707031\" xlink:href=\"#DejaVuSans-2e\"/>\r\n     <use x=\"131.494141\" xlink:href=\"#DejaVuSans-30\"/>\r\n     <use x=\"195.117188\" xlink:href=\"#DejaVuSans-32\"/>\r\n    </g>\r\n   </g>\r\n   <g id=\"text_67\">\r\n    <!-- -0.01 -->\r\n    <g style=\"fill:#ffffff;\" transform=\"translate(393.407031 367.098594)scale(0.1 -0.1)\">\r\n     <use xlink:href=\"#DejaVuSans-2d\"/>\r\n     <use x=\"36.083984\" xlink:href=\"#DejaVuSans-30\"/>\r\n     <use x=\"99.707031\" xlink:href=\"#DejaVuSans-2e\"/>\r\n     <use x=\"131.494141\" xlink:href=\"#DejaVuSans-30\"/>\r\n     <use x=\"195.117188\" xlink:href=\"#DejaVuSans-31\"/>\r\n    </g>\r\n   </g>\r\n   <g id=\"text_68\">\r\n    <!-- -0.01 -->\r\n    <g style=\"fill:#ffffff;\" transform=\"translate(505.007031 367.098594)scale(0.1 -0.1)\">\r\n     <use xlink:href=\"#DejaVuSans-2d\"/>\r\n     <use x=\"36.083984\" xlink:href=\"#DejaVuSans-30\"/>\r\n     <use x=\"99.707031\" xlink:href=\"#DejaVuSans-2e\"/>\r\n     <use x=\"131.494141\" xlink:href=\"#DejaVuSans-30\"/>\r\n     <use x=\"195.117188\" xlink:href=\"#DejaVuSans-31\"/>\r\n    </g>\r\n   </g>\r\n   <g id=\"text_69\">\r\n    <!-- -0.01 -->\r\n    <g style=\"fill:#ffffff;\" transform=\"translate(616.607031 367.098594)scale(0.1 -0.1)\">\r\n     <use xlink:href=\"#DejaVuSans-2d\"/>\r\n     <use x=\"36.083984\" xlink:href=\"#DejaVuSans-30\"/>\r\n     <use x=\"99.707031\" xlink:href=\"#DejaVuSans-2e\"/>\r\n     <use x=\"131.494141\" xlink:href=\"#DejaVuSans-30\"/>\r\n     <use x=\"195.117188\" xlink:href=\"#DejaVuSans-31\"/>\r\n    </g>\r\n   </g>\r\n   <g id=\"text_70\">\r\n    <!-- -0.02 -->\r\n    <g style=\"fill:#ffffff;\" transform=\"translate(728.207031 367.098594)scale(0.1 -0.1)\">\r\n     <use xlink:href=\"#DejaVuSans-2d\"/>\r\n     <use x=\"36.083984\" xlink:href=\"#DejaVuSans-30\"/>\r\n     <use x=\"99.707031\" xlink:href=\"#DejaVuSans-2e\"/>\r\n     <use x=\"131.494141\" xlink:href=\"#DejaVuSans-30\"/>\r\n     <use x=\"195.117188\" xlink:href=\"#DejaVuSans-32\"/>\r\n    </g>\r\n   </g>\r\n   <g id=\"text_71\">\r\n    <!-- 1.00 -->\r\n    <g style=\"fill:#262626;\" transform=\"translate(841.610937 367.098594)scale(0.1 -0.1)\">\r\n     <use xlink:href=\"#DejaVuSans-31\"/>\r\n     <use x=\"63.623047\" xlink:href=\"#DejaVuSans-2e\"/>\r\n     <use x=\"95.410156\" xlink:href=\"#DejaVuSans-30\"/>\r\n     <use x=\"159.033203\" xlink:href=\"#DejaVuSans-30\"/>\r\n    </g>\r\n   </g>\r\n   <g id=\"text_72\">\r\n    <!-- 0.21 -->\r\n    <g style=\"fill:#ffffff;\" transform=\"translate(953.210938 367.098594)scale(0.1 -0.1)\">\r\n     <use xlink:href=\"#DejaVuSans-30\"/>\r\n     <use x=\"63.623047\" xlink:href=\"#DejaVuSans-2e\"/>\r\n     <use x=\"95.410156\" xlink:href=\"#DejaVuSans-32\"/>\r\n     <use x=\"159.033203\" xlink:href=\"#DejaVuSans-31\"/>\r\n    </g>\r\n   </g>\r\n   <g id=\"text_73\">\r\n    <!-- 0.15 -->\r\n    <g style=\"fill:#ffffff;\" transform=\"translate(172.010938 421.458594)scale(0.1 -0.1)\">\r\n     <use xlink:href=\"#DejaVuSans-30\"/>\r\n     <use x=\"63.623047\" xlink:href=\"#DejaVuSans-2e\"/>\r\n     <use x=\"95.410156\" xlink:href=\"#DejaVuSans-31\"/>\r\n     <use x=\"159.033203\" xlink:href=\"#DejaVuSans-35\"/>\r\n    </g>\r\n   </g>\r\n   <g id=\"text_74\">\r\n    <!-- 0.23 -->\r\n    <g style=\"fill:#ffffff;\" transform=\"translate(283.610937 421.458594)scale(0.1 -0.1)\">\r\n     <use xlink:href=\"#DejaVuSans-30\"/>\r\n     <use x=\"63.623047\" xlink:href=\"#DejaVuSans-2e\"/>\r\n     <use x=\"95.410156\" xlink:href=\"#DejaVuSans-32\"/>\r\n     <use x=\"159.033203\" xlink:href=\"#DejaVuSans-33\"/>\r\n    </g>\r\n   </g>\r\n   <g id=\"text_75\">\r\n    <!-- 0.11 -->\r\n    <g style=\"fill:#ffffff;\" transform=\"translate(395.210938 421.458594)scale(0.1 -0.1)\">\r\n     <use xlink:href=\"#DejaVuSans-30\"/>\r\n     <use x=\"63.623047\" xlink:href=\"#DejaVuSans-2e\"/>\r\n     <use x=\"95.410156\" xlink:href=\"#DejaVuSans-31\"/>\r\n     <use x=\"159.033203\" xlink:href=\"#DejaVuSans-31\"/>\r\n    </g>\r\n   </g>\r\n   <g id=\"text_76\">\r\n    <!-- 0.06 -->\r\n    <g style=\"fill:#ffffff;\" transform=\"translate(506.810938 421.458594)scale(0.1 -0.1)\">\r\n     <use xlink:href=\"#DejaVuSans-30\"/>\r\n     <use x=\"63.623047\" xlink:href=\"#DejaVuSans-2e\"/>\r\n     <use x=\"95.410156\" xlink:href=\"#DejaVuSans-30\"/>\r\n     <use x=\"159.033203\" xlink:href=\"#DejaVuSans-36\"/>\r\n    </g>\r\n   </g>\r\n   <g id=\"text_77\">\r\n    <!-- 0.09 -->\r\n    <g style=\"fill:#ffffff;\" transform=\"translate(618.410938 421.458594)scale(0.1 -0.1)\">\r\n     <use xlink:href=\"#DejaVuSans-30\"/>\r\n     <use x=\"63.623047\" xlink:href=\"#DejaVuSans-2e\"/>\r\n     <use x=\"95.410156\" xlink:href=\"#DejaVuSans-30\"/>\r\n     <use x=\"159.033203\" xlink:href=\"#DejaVuSans-39\"/>\r\n    </g>\r\n   </g>\r\n   <g id=\"text_78\">\r\n    <!-- 0.26 -->\r\n    <g style=\"fill:#ffffff;\" transform=\"translate(730.010937 421.458594)scale(0.1 -0.1)\">\r\n     <use xlink:href=\"#DejaVuSans-30\"/>\r\n     <use x=\"63.623047\" xlink:href=\"#DejaVuSans-2e\"/>\r\n     <use x=\"95.410156\" xlink:href=\"#DejaVuSans-32\"/>\r\n     <use x=\"159.033203\" xlink:href=\"#DejaVuSans-36\"/>\r\n    </g>\r\n   </g>\r\n   <g id=\"text_79\">\r\n    <!-- 0.21 -->\r\n    <g style=\"fill:#ffffff;\" transform=\"translate(841.610937 421.458594)scale(0.1 -0.1)\">\r\n     <use xlink:href=\"#DejaVuSans-30\"/>\r\n     <use x=\"63.623047\" xlink:href=\"#DejaVuSans-2e\"/>\r\n     <use x=\"95.410156\" xlink:href=\"#DejaVuSans-32\"/>\r\n     <use x=\"159.033203\" xlink:href=\"#DejaVuSans-31\"/>\r\n    </g>\r\n   </g>\r\n   <g id=\"text_80\">\r\n    <!-- 1.00 -->\r\n    <g style=\"fill:#262626;\" transform=\"translate(953.210938 421.458594)scale(0.1 -0.1)\">\r\n     <use xlink:href=\"#DejaVuSans-31\"/>\r\n     <use x=\"63.623047\" xlink:href=\"#DejaVuSans-2e\"/>\r\n     <use x=\"95.410156\" xlink:href=\"#DejaVuSans-30\"/>\r\n     <use x=\"159.033203\" xlink:href=\"#DejaVuSans-30\"/>\r\n    </g>\r\n   </g>\r\n  </g>\r\n  <g id=\"axes_2\">\r\n   <g id=\"patch_3\">\r\n    <path clip-path=\"url(#pb8e87f9505)\" d=\"M 1075.94375 445.879219 \r\nL 1075.94375 444.180469 \r\nL 1075.94375 12.697969 \r\nL 1075.94375 10.999219 \r\nL 1097.68775 10.999219 \r\nL 1097.68775 12.697969 \r\nL 1097.68775 444.180469 \r\nL 1097.68775 445.879219 \r\nz\r\n\" style=\"fill:#ffffff;stroke:#ffffff;stroke-linejoin:miter;stroke-width:0.01;\"/>\r\n   </g>\r\n   <image height=\"435\" id=\"image67258f3e6a\" transform=\"scale(1 -1)translate(0 -435)\" width=\"22\" x=\"1076\" xlink:href=\"data:image/png;base64,\r\niVBORw0KGgoAAAANSUhEUgAAABYAAAGzCAYAAAArEufSAAAABHNCSVQICAgIfAhkiAAAAjhJREFUeJztncFtwzAQBClbaSL99+k8Qp7VwDwGmCngQOzurSjEdq73z+9nAdwXMXWt9YLmrvu6mDNjg0Eplu7EOo1fWNx05lFS+OJ2v3TmtXkzWChFcdv4HqbV5uBbkKQYyLgxs7tiDb7a9GmcFIMvbkkx+B5NPaWHLoUD2BWZt/EtiNE8aLDvXtEzb6grBvBeoTOPmuyLm3HzdCemJhvNE9Ymg29BhHHLvBnsM68b/XcwMtaYY19XJMXge7nxtZtQCl/cwKc0gy/Hvq7IvMFnnq/dMm8AT4x8oaCueCDcPF+OM+8g7IrMO/hOjKWirhjIomcAzdPFzadxXXGoKx6DM29DmseILDTPV5vCuH2ouCFjM+9BXTHcFySFr92Um5d5//g0xkqI/AwLM1hpHgP58Upf3CDzhBcWnXnFbQZDn/zLvC+ZN2Ted/AFvY+R5jGDwRMLNaYuhbrNg344xmieMcfMYF9XZN6gNA+ZKyyhin4obsO9ihs92CcFGLfM22BSFLeBjJvto9jGuEFfmPJJsXRxy7xD5g0+jY3m6X7rJvMO93oxs4XmVUIH8u2/uMGDyad05p3B5XjjezQZpShuG1+7CaUobo/BOimEr2PY5unMqys2wrgJXyAzjx5c0Q+geeV404kHbEGMUvhOTP0fyKQ4+OKWFEMnHuqKoQV5DE6KDfm3/zcz2CeF8MTV5kbZFczm+TQubkNFP2Te0BVrqDYHYdyupNj44tbmDb64tXlDcRt8K/0HV94vJYiVzccAAAAASUVORK5CYII=\" y=\"-10\"/>\r\n   <g id=\"matplotlib.axis_3\"/>\r\n   <g id=\"matplotlib.axis_4\">\r\n    <g id=\"ytick_9\">\r\n     <g id=\"line2d_17\">\r\n      <defs>\r\n       <path d=\"M 0 0 \r\nL 3.5 0 \r\n\" id=\"me28b8bbdbf\" style=\"stroke:#000000;stroke-width:0.8;\"/>\r\n      </defs>\r\n      <g>\r\n       <use style=\"stroke:#000000;stroke-width:0.8;\" x=\"1097.68775\" xlink:href=\"#me28b8bbdbf\" y=\"433.121521\"/>\r\n      </g>\r\n     </g>\r\n     <g id=\"text_81\">\r\n      <!-- 0.0 -->\r\n      <g transform=\"translate(1104.68775 436.92074)scale(0.1 -0.1)\">\r\n       <use xlink:href=\"#DejaVuSans-30\"/>\r\n       <use x=\"63.623047\" xlink:href=\"#DejaVuSans-2e\"/>\r\n       <use x=\"95.410156\" xlink:href=\"#DejaVuSans-30\"/>\r\n      </g>\r\n     </g>\r\n    </g>\r\n    <g id=\"ytick_10\">\r\n     <g id=\"line2d_18\">\r\n      <g>\r\n       <use style=\"stroke:#000000;stroke-width:0.8;\" x=\"1097.68775\" xlink:href=\"#me28b8bbdbf\" y=\"348.697061\"/>\r\n      </g>\r\n     </g>\r\n     <g id=\"text_82\">\r\n      <!-- 0.2 -->\r\n      <g transform=\"translate(1104.68775 352.49628)scale(0.1 -0.1)\">\r\n       <use xlink:href=\"#DejaVuSans-30\"/>\r\n       <use x=\"63.623047\" xlink:href=\"#DejaVuSans-2e\"/>\r\n       <use x=\"95.410156\" xlink:href=\"#DejaVuSans-32\"/>\r\n      </g>\r\n     </g>\r\n    </g>\r\n    <g id=\"ytick_11\">\r\n     <g id=\"line2d_19\">\r\n      <g>\r\n       <use style=\"stroke:#000000;stroke-width:0.8;\" x=\"1097.68775\" xlink:href=\"#me28b8bbdbf\" y=\"264.2726\"/>\r\n      </g>\r\n     </g>\r\n     <g id=\"text_83\">\r\n      <!-- 0.4 -->\r\n      <g transform=\"translate(1104.68775 268.071819)scale(0.1 -0.1)\">\r\n       <use xlink:href=\"#DejaVuSans-30\"/>\r\n       <use x=\"63.623047\" xlink:href=\"#DejaVuSans-2e\"/>\r\n       <use x=\"95.410156\" xlink:href=\"#DejaVuSans-34\"/>\r\n      </g>\r\n     </g>\r\n    </g>\r\n    <g id=\"ytick_12\">\r\n     <g id=\"line2d_20\">\r\n      <g>\r\n       <use style=\"stroke:#000000;stroke-width:0.8;\" x=\"1097.68775\" xlink:href=\"#me28b8bbdbf\" y=\"179.84814\"/>\r\n      </g>\r\n     </g>\r\n     <g id=\"text_84\">\r\n      <!-- 0.6 -->\r\n      <g transform=\"translate(1104.68775 183.647359)scale(0.1 -0.1)\">\r\n       <use xlink:href=\"#DejaVuSans-30\"/>\r\n       <use x=\"63.623047\" xlink:href=\"#DejaVuSans-2e\"/>\r\n       <use x=\"95.410156\" xlink:href=\"#DejaVuSans-36\"/>\r\n      </g>\r\n     </g>\r\n    </g>\r\n    <g id=\"ytick_13\">\r\n     <g id=\"line2d_21\">\r\n      <g>\r\n       <use style=\"stroke:#000000;stroke-width:0.8;\" x=\"1097.68775\" xlink:href=\"#me28b8bbdbf\" y=\"95.423679\"/>\r\n      </g>\r\n     </g>\r\n     <g id=\"text_85\">\r\n      <!-- 0.8 -->\r\n      <defs>\r\n       <path d=\"M 31.78125 34.625 \r\nQ 24.75 34.625 20.71875 30.859375 \r\nQ 16.703125 27.09375 16.703125 20.515625 \r\nQ 16.703125 13.921875 20.71875 10.15625 \r\nQ 24.75 6.390625 31.78125 6.390625 \r\nQ 38.8125 6.390625 42.859375 10.171875 \r\nQ 46.921875 13.96875 46.921875 20.515625 \r\nQ 46.921875 27.09375 42.890625 30.859375 \r\nQ 38.875 34.625 31.78125 34.625 \r\nz\r\nM 21.921875 38.8125 \r\nQ 15.578125 40.375 12.03125 44.71875 \r\nQ 8.5 49.078125 8.5 55.328125 \r\nQ 8.5 64.0625 14.71875 69.140625 \r\nQ 20.953125 74.21875 31.78125 74.21875 \r\nQ 42.671875 74.21875 48.875 69.140625 \r\nQ 55.078125 64.0625 55.078125 55.328125 \r\nQ 55.078125 49.078125 51.53125 44.71875 \r\nQ 48 40.375 41.703125 38.8125 \r\nQ 48.828125 37.15625 52.796875 32.3125 \r\nQ 56.78125 27.484375 56.78125 20.515625 \r\nQ 56.78125 9.90625 50.3125 4.234375 \r\nQ 43.84375 -1.421875 31.78125 -1.421875 \r\nQ 19.734375 -1.421875 13.25 4.234375 \r\nQ 6.78125 9.90625 6.78125 20.515625 \r\nQ 6.78125 27.484375 10.78125 32.3125 \r\nQ 14.796875 37.15625 21.921875 38.8125 \r\nz\r\nM 18.3125 54.390625 \r\nQ 18.3125 48.734375 21.84375 45.5625 \r\nQ 25.390625 42.390625 31.78125 42.390625 \r\nQ 38.140625 42.390625 41.71875 45.5625 \r\nQ 45.3125 48.734375 45.3125 54.390625 \r\nQ 45.3125 60.0625 41.71875 63.234375 \r\nQ 38.140625 66.40625 31.78125 66.40625 \r\nQ 25.390625 66.40625 21.84375 63.234375 \r\nQ 18.3125 60.0625 18.3125 54.390625 \r\nz\r\n\" id=\"DejaVuSans-38\"/>\r\n      </defs>\r\n      <g transform=\"translate(1104.68775 99.222898)scale(0.1 -0.1)\">\r\n       <use xlink:href=\"#DejaVuSans-30\"/>\r\n       <use x=\"63.623047\" xlink:href=\"#DejaVuSans-2e\"/>\r\n       <use x=\"95.410156\" xlink:href=\"#DejaVuSans-38\"/>\r\n      </g>\r\n     </g>\r\n    </g>\r\n    <g id=\"ytick_14\">\r\n     <g id=\"line2d_22\">\r\n      <g>\r\n       <use style=\"stroke:#000000;stroke-width:0.8;\" x=\"1097.68775\" xlink:href=\"#me28b8bbdbf\" y=\"10.999219\"/>\r\n      </g>\r\n     </g>\r\n     <g id=\"text_86\">\r\n      <!-- 1.0 -->\r\n      <g transform=\"translate(1104.68775 14.798437)scale(0.1 -0.1)\">\r\n       <use xlink:href=\"#DejaVuSans-31\"/>\r\n       <use x=\"63.623047\" xlink:href=\"#DejaVuSans-2e\"/>\r\n       <use x=\"95.410156\" xlink:href=\"#DejaVuSans-30\"/>\r\n      </g>\r\n     </g>\r\n    </g>\r\n   </g>\r\n   <g id=\"patch_4\">\r\n    <path d=\"M 1075.94375 445.879219 \r\nL 1075.94375 444.180469 \r\nL 1075.94375 12.697969 \r\nL 1075.94375 10.999219 \r\nL 1097.68775 10.999219 \r\nL 1097.68775 12.697969 \r\nL 1097.68775 444.180469 \r\nL 1097.68775 445.879219 \r\nz\r\n\" style=\"fill:none;\"/>\r\n   </g>\r\n  </g>\r\n </g>\r\n <defs>\r\n  <clipPath id=\"p1f47e92c7b\">\r\n   <rect height=\"434.88\" width=\"892.8\" x=\"127.34375\" y=\"10.999219\"/>\r\n  </clipPath>\r\n  <clipPath id=\"pb8e87f9505\">\r\n   <rect height=\"434.88\" width=\"21.744\" x=\"1075.94375\" y=\"10.999219\"/>\r\n  </clipPath>\r\n </defs>\r\n</svg>\r\n",
            "text/plain": [
              "<matplotlib.figure.Figure at 0x1a75cbf46a0>"
            ]
          },
          "metadata": {
            "tags": []
          }
        }
      ]
    },
    {
      "metadata": {
        "id": "A4M5d7B9p8UW",
        "colab_type": "text"
      },
      "cell_type": "markdown",
      "source": [
        "На признак Churn больше всего влияют признаки: Total charge, Total day charge, Customer service calls."
      ]
    },
    {
      "metadata": {
        "id": "a2Ckb9Yzp8UX",
        "colab_type": "text"
      },
      "cell_type": "markdown",
      "source": [
        "### Задание 10  \n",
        "  \n",
        "Рассмотрим основанную на правилах модель для предсказания оттока клиентов: \n",
        "* Если у пользователя подключен роуминг (International plan) & клиент звонил в тех. поддержку более 3-х раз => клиент уйдет (Churn = True)\n",
        "* Иначе => клиент останется (Churn = False)  \n",
        "  \n",
        "  \n",
        "Оцените качество данной модели на 5-fold валидации из 5 повторений. Для оценки качества рассмотрите различные метрики: F1-score, precision, recall, accuracy, balanced accuracy. Дайте комментарий к оценке."
      ]
    },
    {
      "metadata": {
        "id": "JyeaBn0vp8UZ",
        "colab_type": "code",
        "colab": {}
      },
      "cell_type": "code",
      "source": [
        "from sklearn.model_selection import train_test_split\n",
        "from sklearn.model_selection import cross_val_score\n",
        "from sklearn.model_selection import RepeatedStratifiedKFold\n",
        "from sklearn import metrics"
      ],
      "execution_count": 0,
      "outputs": []
    },
    {
      "metadata": {
        "id": "XV8qKPhjp8Ud",
        "colab_type": "code",
        "colab": {}
      },
      "cell_type": "code",
      "source": [
        "(trainData, \n",
        " testData, \n",
        " train_label, \n",
        " test_label) = train_test_split(data.drop(['Churn'], axis=1),\n",
        "                                data['Churn'],\n",
        "                                test_size=0.3, \n",
        "                                random_state=236584)"
      ],
      "execution_count": 0,
      "outputs": []
    },
    {
      "metadata": {
        "id": "VvkSszhlp8Uf",
        "colab_type": "code",
        "colab": {}
      },
      "cell_type": "code",
      "source": [
        "class PorkClassifier:       \n",
        "    def __init__(self, demo_param='demo'):\n",
        "        self.demo_param = demo_param\n",
        "\n",
        "    def fit(self, X, Y):\n",
        "        self.X = X\n",
        "        self.Y = Y\n",
        "        return self\n",
        "        \n",
        "    def predict(self, data):\n",
        "        predictions = []\n",
        "        for index, row in data.iterrows():\n",
        "            if row['Plans'] == 2 and row['Customer service calls'] > 3:\n",
        "                predictions.append(True)\n",
        "            else:\n",
        "                predictions.append(False)\n",
        "        \n",
        "        return predictions\n",
        "    \n",
        "    def get_params(self, deep=True):\n",
        "        return {\"demo_param\": self.demo_param}\n",
        "\n",
        "    def set_params(self, **parameters):\n",
        "        for parameter, value in parameters.items():\n",
        "            setattr(self, parameter, value)\n",
        "        return self"
      ],
      "execution_count": 0,
      "outputs": []
    },
    {
      "metadata": {
        "id": "EiRPidd_p8Uk",
        "colab_type": "code",
        "colab": {}
      },
      "cell_type": "code",
      "source": [
        "porkModel = PorkClassifier()\n",
        "preds = porkModel.predict(testData)"
      ],
      "execution_count": 0,
      "outputs": []
    },
    {
      "metadata": {
        "id": "d2TUL9zJp8Uo",
        "colab_type": "code",
        "colab": {},
        "outputId": "ef30ef5b-097d-47e9-dfec-d1cf3c0abd78"
      },
      "cell_type": "code",
      "source": [
        "round(metrics.accuracy_score(test_label, preds), 5)"
      ],
      "execution_count": 0,
      "outputs": [
        {
          "output_type": "execute_result",
          "data": {
            "text/plain": [
              "0.857"
            ]
          },
          "metadata": {
            "tags": []
          },
          "execution_count": 508
        }
      ]
    },
    {
      "metadata": {
        "id": "YvWLOS_7p8Uq",
        "colab_type": "code",
        "colab": {},
        "outputId": "5acbad34-11aa-4d4b-8321-7ef1f05361be"
      },
      "cell_type": "code",
      "source": [
        "skf = RepeatedStratifiedKFold(n_splits=5)\n",
        "\n",
        "scores_prok = []\n",
        "\n",
        "scores_f1 = []\n",
        "scores_prec = []\n",
        "scores_rec = []\n",
        "scores_acc = []\n",
        "scores_balacc = []\n",
        "\n",
        "Data = data.drop(['Churn'], axis=1)\n",
        "label = data['Churn']\n",
        "\n",
        "for i in range(5):\n",
        "    scores_prok.extend(cross_val_score(porkModel, Data, label, cv=skf, scoring='f1_micro'))\n",
        "    \n",
        "    for train_index, test_index in skf.split(Data, label): \n",
        "        x_train,x_test = Data.iloc[train_index],Data.iloc[test_index]\n",
        "        y_train,y_test = label.iloc[train_index],label.iloc[test_index]\n",
        "        \n",
        "        preds_y = porkModel.predict(x_test)\n",
        "        x = metrics.f1_score(y_true=y_test, y_pred=preds_y)\n",
        "        scores_f1.append(x)\n",
        "        \n",
        "        x = metrics.precision_score(y_true=y_test, y_pred=preds_y)\n",
        "        scores_prec.append(x)\n",
        "        \n",
        "        x = metrics.recall_score(y_true=y_test, y_pred=preds_y)\n",
        "        scores_rec.append(x)\n",
        "                    \n",
        "        x = metrics.accuracy_score(y_true=y_test, y_pred=preds_y)\n",
        "        scores_acc.append(x)\n",
        "                \n",
        "        x = metrics.balanced_accuracy_score(y_true=y_test, y_pred=preds_y)\n",
        "        scores_balacc.append(x)\n",
        "        \n",
        "scores_prok = np.array(scores_prok)\n",
        "\n",
        "print('Mean score for PorkModel:', round(np.mean(scores_prok), 5),\n",
        "      '\\nMean F1 score:', round(np.mean(scores_f1), 5),\n",
        "      '\\nMean Precision:', round(np.mean(scores_prec), 5),\n",
        "      '\\nMean Recall:', round(np.mean(scores_rec), 5),\n",
        "      '\\nMean Accuracy:', round(np.mean(scores_acc), 5),\n",
        "      '\\nMean Balanced Accuracy:', round(np.mean(scores_balacc), 5))\n",
        "\n",
        "del Data, label"
      ],
      "execution_count": 0,
      "outputs": [
        {
          "output_type": "stream",
          "text": [
            "Mean score for PorkModel: 0.85749 \n",
            "Mean F1 score: 0.05151 \n",
            "Mean Precision: 0.6883 \n",
            "Mean Recall: 0.02692 \n",
            "Mean Accuracy: 0.85749 \n",
            "Mean Balanced Accuracy: 0.51258\n"
          ],
          "name": "stdout"
        }
      ]
    },
    {
      "metadata": {
        "id": "FJN0I4Ibp8Ut",
        "colab_type": "text"
      },
      "cell_type": "markdown",
      "source": [
        "Из значения метрик видно, что полнота очень маленькая, и данная модель является сильно неточной. Значит для нашей задачи она не подходит."
      ]
    },
    {
      "metadata": {
        "id": "JoUlqB0wp8Uw",
        "colab_type": "text"
      },
      "cell_type": "markdown",
      "source": [
        "## Часть 2. Методы машинного обучения <a id=\"part2\"></a>"
      ]
    },
    {
      "metadata": {
        "id": "897VSr8ip8Uw",
        "colab_type": "text"
      },
      "cell_type": "markdown",
      "source": [
        "Продолжаем работать с данными по оттоку клиентов.  \n",
        "Сформулируем задачу машинного обучения: необходимо построить модель, определяющую, останется клиент или уйдет. \n",
        "  \n",
        "Для решения заданий, представленных ниже, необходимо использовать данные, полученные после выполнения всех преобразований в первой части. "
      ]
    },
    {
      "metadata": {
        "id": "fuiUdFOcp8Ux",
        "colab_type": "text"
      },
      "cell_type": "markdown",
      "source": [
        "### Задание 1  \n",
        "  \n",
        "* Постройте дерево решений глубины 5 (остальные параметры по умолчанию), оцените качество на 5-fold валидации.  \n",
        "* Для одного из деревьев (т.е. обученного на одной из итераций кросс-валидации) выведите само дерево - постройте график или выведите в текстовом виде. По структуре дерева сформулируйте правила, по которым принимается решение.  \n",
        "* Сравните между собой деревья решений, полученных на различных итерациях 5-fold валидации. Сделайте вывод, насколько сильно они похожи или различаются между собой. "
      ]
    },
    {
      "metadata": {
        "id": "N84cPXo_p8Uy",
        "colab_type": "code",
        "colab": {},
        "outputId": "9081c66c-6a9b-4abe-f28f-1bf7df23811e"
      },
      "cell_type": "code",
      "source": [
        "data.head(5)"
      ],
      "execution_count": 0,
      "outputs": [
        {
          "output_type": "execute_result",
          "data": {
            "text/html": [
              "<div>\n",
              "<style scoped>\n",
              "    .dataframe tbody tr th:only-of-type {\n",
              "        vertical-align: middle;\n",
              "    }\n",
              "\n",
              "    .dataframe tbody tr th {\n",
              "        vertical-align: top;\n",
              "    }\n",
              "\n",
              "    .dataframe thead th {\n",
              "        text-align: right;\n",
              "    }\n",
              "</style>\n",
              "<table border=\"1\" class=\"dataframe\">\n",
              "  <thead>\n",
              "    <tr style=\"text-align: right;\">\n",
              "      <th></th>\n",
              "      <th>Plans</th>\n",
              "      <th>Total day charge</th>\n",
              "      <th>Total eve charge</th>\n",
              "      <th>Total night charge</th>\n",
              "      <th>Total intl charge</th>\n",
              "      <th>Total charge</th>\n",
              "      <th>Customer service calls</th>\n",
              "      <th>Churn</th>\n",
              "    </tr>\n",
              "  </thead>\n",
              "  <tbody>\n",
              "    <tr>\n",
              "      <th>0</th>\n",
              "      <td>1</td>\n",
              "      <td>45.07</td>\n",
              "      <td>16.78</td>\n",
              "      <td>11.01</td>\n",
              "      <td>2.70</td>\n",
              "      <td>75.56</td>\n",
              "      <td>1</td>\n",
              "      <td>False</td>\n",
              "    </tr>\n",
              "    <tr>\n",
              "      <th>1</th>\n",
              "      <td>1</td>\n",
              "      <td>27.47</td>\n",
              "      <td>16.62</td>\n",
              "      <td>11.45</td>\n",
              "      <td>3.70</td>\n",
              "      <td>59.24</td>\n",
              "      <td>1</td>\n",
              "      <td>False</td>\n",
              "    </tr>\n",
              "    <tr>\n",
              "      <th>2</th>\n",
              "      <td>0</td>\n",
              "      <td>41.38</td>\n",
              "      <td>10.30</td>\n",
              "      <td>7.32</td>\n",
              "      <td>3.29</td>\n",
              "      <td>62.29</td>\n",
              "      <td>0</td>\n",
              "      <td>False</td>\n",
              "    </tr>\n",
              "    <tr>\n",
              "      <th>3</th>\n",
              "      <td>2</td>\n",
              "      <td>50.90</td>\n",
              "      <td>5.26</td>\n",
              "      <td>8.86</td>\n",
              "      <td>1.78</td>\n",
              "      <td>66.80</td>\n",
              "      <td>2</td>\n",
              "      <td>False</td>\n",
              "    </tr>\n",
              "    <tr>\n",
              "      <th>4</th>\n",
              "      <td>2</td>\n",
              "      <td>28.34</td>\n",
              "      <td>12.61</td>\n",
              "      <td>8.41</td>\n",
              "      <td>2.73</td>\n",
              "      <td>52.09</td>\n",
              "      <td>3</td>\n",
              "      <td>False</td>\n",
              "    </tr>\n",
              "  </tbody>\n",
              "</table>\n",
              "</div>"
            ],
            "text/plain": [
              "   Plans  Total day charge  Total eve charge  Total night charge  \\\n",
              "0  1      45.07             16.78             11.01                \n",
              "1  1      27.47             16.62             11.45                \n",
              "2  0      41.38             10.30             7.32                 \n",
              "3  2      50.90             5.26              8.86                 \n",
              "4  2      28.34             12.61             8.41                 \n",
              "\n",
              "   Total intl charge  Total charge  Customer service calls  Churn  \n",
              "0  2.70               75.56         1                       False  \n",
              "1  3.70               59.24         1                       False  \n",
              "2  3.29               62.29         0                       False  \n",
              "3  1.78               66.80         2                       False  \n",
              "4  2.73               52.09         3                       False  "
            ]
          },
          "metadata": {
            "tags": []
          },
          "execution_count": 510
        }
      ]
    },
    {
      "metadata": {
        "id": "x0wHhb-_p8U2",
        "colab_type": "text"
      },
      "cell_type": "markdown",
      "source": [
        "Разделим данные на обучающую и тестовую выборки:"
      ]
    },
    {
      "metadata": {
        "collapsed": true,
        "id": "UZaIcAO5p8U3",
        "colab_type": "code",
        "colab": {}
      },
      "cell_type": "code",
      "source": [
        "(trainData, \n",
        " testData, \n",
        " train_label, \n",
        " test_label) = train_test_split(data.drop(['Churn'], axis=1),\n",
        "                                data['Churn'],\n",
        "                                test_size=0.3, \n",
        "                                random_state=236584)"
      ],
      "execution_count": 0,
      "outputs": []
    },
    {
      "metadata": {
        "id": "2IXOnQMOp8U5",
        "colab_type": "code",
        "colab": {},
        "outputId": "710214a1-e933-44f8-a0ac-ff5d708ab5bb"
      },
      "cell_type": "code",
      "source": [
        "print('Size of train set:', trainData.shape)\n",
        "print('Size of test set:', testData.shape)"
      ],
      "execution_count": 0,
      "outputs": [
        {
          "output_type": "stream",
          "text": [
            "Size of train set: (2333, 7)\n",
            "Size of test set: (1000, 7)\n"
          ],
          "name": "stdout"
        }
      ]
    },
    {
      "metadata": {
        "id": "m8x28ik0p8U9",
        "colab_type": "code",
        "colab": {},
        "outputId": "8c3bd425-877f-419d-afc1-5a9346c4f443"
      },
      "cell_type": "code",
      "source": [
        "print('Class distribution on train:',\n",
        "      train_label.value_counts(normalize=True),\n",
        "      '\\nClass distribution on test:', \n",
        "      test_label.value_counts(normalize=True),\n",
        "      sep='\\n')"
      ],
      "execution_count": 0,
      "outputs": [
        {
          "output_type": "stream",
          "text": [
            "Class distribution on train:\n",
            "False    0.855551\n",
            "True     0.144449\n",
            "Name: Churn, dtype: float64\n",
            "\n",
            "Class distribution on test:\n",
            "False    0.854\n",
            "True     0.146\n",
            "Name: Churn, dtype: float64\n"
          ],
          "name": "stdout"
        }
      ]
    },
    {
      "metadata": {
        "id": "TNMVeyXpp8VC",
        "colab_type": "text"
      },
      "cell_type": "markdown",
      "source": [
        "Построим базовую модель:"
      ]
    },
    {
      "metadata": {
        "collapsed": true,
        "id": "B-iuP4kap8VC",
        "colab_type": "code",
        "colab": {}
      },
      "cell_type": "code",
      "source": [
        "from sklearn.tree import DecisionTreeClassifier"
      ],
      "execution_count": 0,
      "outputs": []
    },
    {
      "metadata": {
        "id": "AiFgp_Wdp8VF",
        "colab_type": "code",
        "colab": {},
        "outputId": "533b0384-1c83-4303-d13f-a55764733a4b"
      },
      "cell_type": "code",
      "source": [
        "dtree_model = DecisionTreeClassifier(max_depth=5)\n",
        "dtree_model.fit(trainData, train_label)"
      ],
      "execution_count": 0,
      "outputs": [
        {
          "output_type": "execute_result",
          "data": {
            "text/plain": [
              "DecisionTreeClassifier(class_weight=None, criterion='gini', max_depth=5,\n",
              "            max_features=None, max_leaf_nodes=None,\n",
              "            min_impurity_decrease=0.0, min_impurity_split=None,\n",
              "            min_samples_leaf=1, min_samples_split=2,\n",
              "            min_weight_fraction_leaf=0.0, presort=False, random_state=None,\n",
              "            splitter='best')"
            ]
          },
          "metadata": {
            "tags": []
          },
          "execution_count": 515
        }
      ]
    },
    {
      "metadata": {
        "id": "rDPPqMIMp8VP",
        "colab_type": "text"
      },
      "cell_type": "markdown",
      "source": [
        "Оценим качество на 5-fold:"
      ]
    },
    {
      "metadata": {
        "collapsed": true,
        "id": "4d9pnkIYp8VT",
        "colab_type": "code",
        "colab": {}
      },
      "cell_type": "code",
      "source": [
        "from sklearn.dummy import DummyClassifier\n",
        "from sklearn.model_selection import StratifiedKFold\n",
        "import graphviz\n",
        "from sklearn.tree import export_graphviz"
      ],
      "execution_count": 0,
      "outputs": []
    },
    {
      "metadata": {
        "collapsed": true,
        "id": "JSxWdj6Cp8VW",
        "colab_type": "code",
        "colab": {}
      },
      "cell_type": "code",
      "source": [
        "def get_dot_data(model, train_data):\n",
        "    dot_data = export_graphviz(model, \n",
        "                           out_file=None, \n",
        "                           feature_names=train_data.columns, \n",
        "                           class_names=['0', '1'],\n",
        "                           filled=True, \n",
        "                           rounded=True, \n",
        "                           special_characters=True)\n",
        "    return dot_data"
      ],
      "execution_count": 0,
      "outputs": []
    },
    {
      "metadata": {
        "collapsed": true,
        "id": "elWvRKtkp8Va",
        "colab_type": "code",
        "colab": {}
      },
      "cell_type": "code",
      "source": [
        "skf = StratifiedKFold(n_splits=5, shuffle=True)\n",
        "\n",
        "scores_dtree = []\n",
        "scores_f1 = []\n",
        "\n",
        "dot_data = []\n",
        "\n",
        "Data = data.drop(['Churn'], axis=1)\n",
        "label = data['Churn']\n",
        "\n",
        "for i in range(10):\n",
        "    scores_dtree.extend(cross_val_score(dtree_model, Data, label, cv=skf, scoring='f1_micro'))\n",
        "    \n",
        "    dot_data.append(get_dot_data(dtree_model, Data))\n",
        "    \n",
        "    for train_index, test_index in skf.split(Data, label): \n",
        "        x_train,x_test = Data.iloc[train_index],Data.iloc[test_index]\n",
        "        y_train,y_test = label.iloc[train_index],label.iloc[test_index]\n",
        "        \n",
        "        preds = dtree_model.predict(x_test)\n",
        "        \n",
        "        x = metrics.f1_score(y_true=y_test, y_pred=preds)\n",
        "        scores_f1.append(x)\n",
        "        \n",
        "scores_dtree = np.array(scores_dtree)\n",
        "scores_f1 = np.array(scores_f1)\n",
        "\n",
        "del Data, label"
      ],
      "execution_count": 0,
      "outputs": []
    },
    {
      "metadata": {
        "id": "VG1glcoNp8Ve",
        "colab_type": "code",
        "colab": {},
        "outputId": "07a2cd16-adea-4a6a-dfad-489fd8d8d183"
      },
      "cell_type": "code",
      "source": [
        "print('Mean score for DTree:', round(np.mean(scores_dtree), 5),\n",
        "      '\\nMean score F1:', round(np.mean(scores_f1), 5))"
      ],
      "execution_count": 0,
      "outputs": [
        {
          "output_type": "stream",
          "text": [
            "Mean score for DTree: 0.96259 \n",
            "Mean score F1: 0.86504\n"
          ],
          "name": "stdout"
        }
      ]
    },
    {
      "metadata": {
        "id": "NPl2KGmQp8Vl",
        "colab_type": "text"
      },
      "cell_type": "markdown",
      "source": [
        "Построю третье дерево"
      ]
    },
    {
      "metadata": {
        "id": "defa2kyRp8Vl",
        "colab_type": "code",
        "colab": {},
        "outputId": "1ae72be2-f375-4492-aff5-d32b7ef6ba49"
      },
      "cell_type": "code",
      "source": [
        "graph = graphviz.Source(dot_data[2]) \n",
        "graph.render(\"dtree_2\") "
      ],
      "execution_count": 0,
      "outputs": [
        {
          "output_type": "execute_result",
          "data": {
            "text/plain": [
              "'dtree_2.pdf'"
            ]
          },
          "metadata": {
            "tags": []
          },
          "execution_count": 520
        }
      ]
    },
    {
      "metadata": {
        "id": "5Pvn6kp3p8Vo",
        "colab_type": "text"
      },
      "cell_type": "markdown",
      "source": [
        "Правила принятия решения"
      ]
    },
    {
      "metadata": {
        "id": "QrRwr0l1p8Vp",
        "colab_type": "text"
      },
      "cell_type": "markdown",
      "source": [
        "Принадлежность к class 0:\n",
        "1. Если Total charge <= 74.04 && Customer service calls <= 3.5 && Plans <= 1.5 && Total night charge <= 7.405 && Total day charge <= 19.425\n",
        "\n",
        "2. Если Total charge <= 74.04 && Customer service calls <= 3.5 && Plans <= 1.5 && Total night charge <= 7.405 && Total day charge > 19.425\n",
        "\n",
        "3. Если Total charge <= 74.04 && Customer service calls <= 3.5 && Plans > 1.5 && Total intl charge <= 3.535 && Total day charge <=(>) 22.77\n",
        "\n",
        "4. Если Total charge <= 74.04 && Customer service calls > 3.5 && Total charge > 56.71 && Customer service calls <= 8.5 && Total eve charge <=(>=) 25.0\n",
        "\n",
        "5. Если Total charge > 74.04 && Plans > 0.5 && Plans <= 1.5 && Total day charge <= 67.935\n",
        "\n",
        "6. Если Total charge > 74.04 && Plans > 2.5 && Total night charge > 12.07"
      ]
    },
    {
      "metadata": {
        "id": "d3KGBaOxp8Vp",
        "colab_type": "text"
      },
      "cell_type": "markdown",
      "source": [
        "Принадлежность к class 1:\n",
        "\n",
        "1. Если Total charge <= 74.04 && Customer service calls <= 3.5 && Plans > 1.5 && Total intl charge > 3.535\n",
        "\n",
        "2. Если Total charge <= 74.04 && Customer service calls > 3.5 && Total charge <= 56.71\n",
        "\n",
        "3. Если Total charge <= 74.04 && Customer service calls > 3.5 && Total charge > 56.71 && Customer service calls > 8.5\n",
        "\n",
        "4. Если Total charge > 74.04 && Plans <= 0.5\n",
        "\n",
        "5. Если Total charge > 74.04 && Plans > 0.5 && Plans <= 1.5 && Total day charge > 67.935\n",
        "\n",
        "6. Если Total charge > 74.04 && Plans > 1.5 && Plans <= 2.5\n",
        "\n",
        "7. Если Total charge > 74.04 && Plans > 2.5 && Total night charge <= 12.07"
      ]
    },
    {
      "metadata": {
        "id": "2nvbMD5Zp8Vq",
        "colab_type": "text"
      },
      "cell_type": "markdown",
      "source": [
        "Сравните между собой деревья решений, полученных на различных итерациях 5-fold валидации. Сделайте вывод, насколько сильно они похожи или различаются между собой."
      ]
    },
    {
      "metadata": {
        "collapsed": true,
        "id": "334DDJvzp8Vr",
        "colab_type": "code",
        "colab": {}
      },
      "cell_type": "code",
      "source": [
        "#compare trees"
      ],
      "execution_count": 0,
      "outputs": []
    },
    {
      "metadata": {
        "id": "p9JKdjQBp8Vy",
        "colab_type": "text"
      },
      "cell_type": "markdown",
      "source": [
        "## Задание 2  \n",
        "  \n",
        "На кросс-валидации (5-fold из 5 повторений) оцените, как меняется качество модели Random Forest с ростом числа деревьев (при дефолтных значениях остальных параметров). Провизуализируйте результаты. Сколько деревьев достаточно в данном случае и почему?  \n",
        "**NB:** В сравнение включите конфигурацию, аналогичную простому дереву решений. "
      ]
    },
    {
      "metadata": {
        "id": "wG2GvMidp8Vz",
        "colab_type": "code",
        "colab": {}
      },
      "cell_type": "code",
      "source": [
        "from sklearn.model_selection import RepeatedStratifiedKFold\n",
        "from sklearn.ensemble.forest import RandomForestClassifier"
      ],
      "execution_count": 0,
      "outputs": []
    },
    {
      "metadata": {
        "id": "IVkFg8JCp8V2",
        "colab_type": "code",
        "colab": {}
      },
      "cell_type": "code",
      "source": [
        "trees_numbers = [1,2,5,10,50,100]"
      ],
      "execution_count": 0,
      "outputs": []
    },
    {
      "metadata": {
        "id": "6-lS_Hyip8V5",
        "colab_type": "code",
        "colab": {}
      },
      "cell_type": "code",
      "source": [
        "scores = {\n",
        "    1: [],\n",
        "    2:[],\n",
        "    5:[],\n",
        "    10:[],\n",
        "    50:[],\n",
        "    100:[]\n",
        "}\n",
        "\n",
        "Data = data.drop(['Churn'], axis=1)\n",
        "label = data['Churn']\n",
        "\n",
        "rskf = RepeatedStratifiedKFold(n_splits=5, n_repeats=5)\n",
        "\n",
        "for i in scores:\n",
        "    if i == 1:\n",
        "        bootstrap = False\n",
        "    else:\n",
        "        bootstrap = True\n",
        "        \n",
        "    randf_model = RandomForestClassifier(n_estimators=i, bootstrap=bootstrap)\n",
        "    #scores[i].append(cross_val_score(randf_model, Data, label, cv=rskf, scoring='f1_micro'))\n",
        "    scores[i] = pd.Series(cross_val_score(randf_model, Data, label, cv=rskf, scoring='f1_micro'))\n",
        "\n",
        "del Data, label"
      ],
      "execution_count": 0,
      "outputs": []
    },
    {
      "metadata": {
        "id": "BPgqlEo2p8V6",
        "colab_type": "code",
        "colab": {},
        "outputId": "eac1d9e9-13b0-46a7-93f3-d4af0f54fc51"
      },
      "cell_type": "code",
      "source": [
        "scores[1]"
      ],
      "execution_count": 0,
      "outputs": [
        {
          "output_type": "execute_result",
          "data": {
            "text/plain": [
              "0     0.928036\n",
              "1     0.932534\n",
              "2     0.928036\n",
              "3     0.897898\n",
              "4     0.903904\n",
              "5     0.926537\n",
              "6     0.914543\n",
              "7     0.904048\n",
              "8     0.915916\n",
              "9     0.914414\n",
              "10    0.932534\n",
              "11    0.925037\n",
              "12    0.923538\n",
              "13    0.905405\n",
              "14    0.926426\n",
              "15    0.904048\n",
              "16    0.926537\n",
              "17    0.908546\n",
              "18    0.923423\n",
              "19    0.929429\n",
              "20    0.929535\n",
              "21    0.910045\n",
              "22    0.935532\n",
              "23    0.903904\n",
              "24    0.897898\n",
              "dtype: float64"
            ]
          },
          "metadata": {
            "tags": []
          },
          "execution_count": 525
        }
      ]
    },
    {
      "metadata": {
        "id": "o4_TZ_Yjp8WA",
        "colab_type": "code",
        "colab": {},
        "outputId": "ccac4331-e351-4577-e936-847d4747ed07"
      },
      "cell_type": "code",
      "source": [
        "for i in trees_numbers:  \n",
        "    scores[i].plot()\n",
        "    \n",
        "plt.ylabel('f1_micro')\n",
        "plt.xlabel('meausures_number')\n",
        "\n",
        "L = plt.legend()\n",
        "i = 0\n",
        "for num in trees_numbers:\n",
        "    L.get_texts()[i].set_text(str(num))\n",
        "    i = i + 1\n",
        "    \n",
        "plt.title('By trees_number')\n",
        "plt.show()"
      ],
      "execution_count": 0,
      "outputs": [
        {
          "output_type": "display_data",
          "data": {
            "image/svg+xml": "<?xml version=\"1.0\" encoding=\"utf-8\" standalone=\"no\"?>\r\n<!DOCTYPE svg PUBLIC \"-//W3C//DTD SVG 1.1//EN\"\r\n  \"http://www.w3.org/Graphics/SVG/1.1/DTD/svg11.dtd\">\r\n<!-- Created with matplotlib (http://matplotlib.org/) -->\r\n<svg height=\"277pt\" version=\"1.1\" viewBox=\"0 0 396 277\" width=\"396pt\" xmlns=\"http://www.w3.org/2000/svg\" xmlns:xlink=\"http://www.w3.org/1999/xlink\">\r\n <defs>\r\n  <style type=\"text/css\">\r\n*{stroke-linecap:butt;stroke-linejoin:round;}\r\n  </style>\r\n </defs>\r\n <g id=\"figure_1\">\r\n  <g id=\"patch_1\">\r\n   <path d=\"M -0 277.5925 \r\nL 396.248011 277.5925 \r\nL 396.248011 0 \r\nL -0 0 \r\nz\r\n\" style=\"fill:none;\"/>\r\n  </g>\r\n  <g id=\"axes_1\">\r\n   <g id=\"patch_2\">\r\n    <path d=\"M 50.421875 239.758125 \r\nL 385.221875 239.758125 \r\nL 385.221875 22.318125 \r\nL 50.421875 22.318125 \r\nz\r\n\" style=\"fill:#ffffff;\"/>\r\n   </g>\r\n   <g id=\"matplotlib.axis_1\">\r\n    <g id=\"xtick_1\">\r\n     <g id=\"line2d_1\">\r\n      <defs>\r\n       <path d=\"M 0 0 \r\nL 0 3.5 \r\n\" id=\"m60b87a2ba7\" style=\"stroke:#000000;stroke-width:0.8;\"/>\r\n      </defs>\r\n      <g>\r\n       <use style=\"stroke:#000000;stroke-width:0.8;\" x=\"65.640057\" xlink:href=\"#m60b87a2ba7\" y=\"239.758125\"/>\r\n      </g>\r\n     </g>\r\n     <g id=\"text_1\">\r\n      <!-- 0 -->\r\n      <defs>\r\n       <path d=\"M 31.78125 66.40625 \r\nQ 24.171875 66.40625 20.328125 58.90625 \r\nQ 16.5 51.421875 16.5 36.375 \r\nQ 16.5 21.390625 20.328125 13.890625 \r\nQ 24.171875 6.390625 31.78125 6.390625 \r\nQ 39.453125 6.390625 43.28125 13.890625 \r\nQ 47.125 21.390625 47.125 36.375 \r\nQ 47.125 51.421875 43.28125 58.90625 \r\nQ 39.453125 66.40625 31.78125 66.40625 \r\nz\r\nM 31.78125 74.21875 \r\nQ 44.046875 74.21875 50.515625 64.515625 \r\nQ 56.984375 54.828125 56.984375 36.375 \r\nQ 56.984375 17.96875 50.515625 8.265625 \r\nQ 44.046875 -1.421875 31.78125 -1.421875 \r\nQ 19.53125 -1.421875 13.0625 8.265625 \r\nQ 6.59375 17.96875 6.59375 36.375 \r\nQ 6.59375 54.828125 13.0625 64.515625 \r\nQ 19.53125 74.21875 31.78125 74.21875 \r\nz\r\n\" id=\"DejaVuSans-30\"/>\r\n      </defs>\r\n      <g transform=\"translate(62.458807 254.356563)scale(0.1 -0.1)\">\r\n       <use xlink:href=\"#DejaVuSans-30\"/>\r\n      </g>\r\n     </g>\r\n    </g>\r\n    <g id=\"xtick_2\">\r\n     <g id=\"line2d_2\">\r\n      <g>\r\n       <use style=\"stroke:#000000;stroke-width:0.8;\" x=\"129.049148\" xlink:href=\"#m60b87a2ba7\" y=\"239.758125\"/>\r\n      </g>\r\n     </g>\r\n     <g id=\"text_2\">\r\n      <!-- 5 -->\r\n      <defs>\r\n       <path d=\"M 10.796875 72.90625 \r\nL 49.515625 72.90625 \r\nL 49.515625 64.59375 \r\nL 19.828125 64.59375 \r\nL 19.828125 46.734375 \r\nQ 21.96875 47.46875 24.109375 47.828125 \r\nQ 26.265625 48.1875 28.421875 48.1875 \r\nQ 40.625 48.1875 47.75 41.5 \r\nQ 54.890625 34.8125 54.890625 23.390625 \r\nQ 54.890625 11.625 47.5625 5.09375 \r\nQ 40.234375 -1.421875 26.90625 -1.421875 \r\nQ 22.3125 -1.421875 17.546875 -0.640625 \r\nQ 12.796875 0.140625 7.71875 1.703125 \r\nL 7.71875 11.625 \r\nQ 12.109375 9.234375 16.796875 8.0625 \r\nQ 21.484375 6.890625 26.703125 6.890625 \r\nQ 35.15625 6.890625 40.078125 11.328125 \r\nQ 45.015625 15.765625 45.015625 23.390625 \r\nQ 45.015625 31 40.078125 35.4375 \r\nQ 35.15625 39.890625 26.703125 39.890625 \r\nQ 22.75 39.890625 18.8125 39.015625 \r\nQ 14.890625 38.140625 10.796875 36.28125 \r\nz\r\n\" id=\"DejaVuSans-35\"/>\r\n      </defs>\r\n      <g transform=\"translate(125.867898 254.356563)scale(0.1 -0.1)\">\r\n       <use xlink:href=\"#DejaVuSans-35\"/>\r\n      </g>\r\n     </g>\r\n    </g>\r\n    <g id=\"xtick_3\">\r\n     <g id=\"line2d_3\">\r\n      <g>\r\n       <use style=\"stroke:#000000;stroke-width:0.8;\" x=\"192.458239\" xlink:href=\"#m60b87a2ba7\" y=\"239.758125\"/>\r\n      </g>\r\n     </g>\r\n     <g id=\"text_3\">\r\n      <!-- 10 -->\r\n      <defs>\r\n       <path d=\"M 12.40625 8.296875 \r\nL 28.515625 8.296875 \r\nL 28.515625 63.921875 \r\nL 10.984375 60.40625 \r\nL 10.984375 69.390625 \r\nL 28.421875 72.90625 \r\nL 38.28125 72.90625 \r\nL 38.28125 8.296875 \r\nL 54.390625 8.296875 \r\nL 54.390625 0 \r\nL 12.40625 0 \r\nz\r\n\" id=\"DejaVuSans-31\"/>\r\n      </defs>\r\n      <g transform=\"translate(186.095739 254.356563)scale(0.1 -0.1)\">\r\n       <use xlink:href=\"#DejaVuSans-31\"/>\r\n       <use x=\"63.623047\" xlink:href=\"#DejaVuSans-30\"/>\r\n      </g>\r\n     </g>\r\n    </g>\r\n    <g id=\"xtick_4\">\r\n     <g id=\"line2d_4\">\r\n      <g>\r\n       <use style=\"stroke:#000000;stroke-width:0.8;\" x=\"255.86733\" xlink:href=\"#m60b87a2ba7\" y=\"239.758125\"/>\r\n      </g>\r\n     </g>\r\n     <g id=\"text_4\">\r\n      <!-- 15 -->\r\n      <g transform=\"translate(249.50483 254.356563)scale(0.1 -0.1)\">\r\n       <use xlink:href=\"#DejaVuSans-31\"/>\r\n       <use x=\"63.623047\" xlink:href=\"#DejaVuSans-35\"/>\r\n      </g>\r\n     </g>\r\n    </g>\r\n    <g id=\"xtick_5\">\r\n     <g id=\"line2d_5\">\r\n      <g>\r\n       <use style=\"stroke:#000000;stroke-width:0.8;\" x=\"319.27642\" xlink:href=\"#m60b87a2ba7\" y=\"239.758125\"/>\r\n      </g>\r\n     </g>\r\n     <g id=\"text_5\">\r\n      <!-- 20 -->\r\n      <defs>\r\n       <path d=\"M 19.1875 8.296875 \r\nL 53.609375 8.296875 \r\nL 53.609375 0 \r\nL 7.328125 0 \r\nL 7.328125 8.296875 \r\nQ 12.9375 14.109375 22.625 23.890625 \r\nQ 32.328125 33.6875 34.8125 36.53125 \r\nQ 39.546875 41.84375 41.421875 45.53125 \r\nQ 43.3125 49.21875 43.3125 52.78125 \r\nQ 43.3125 58.59375 39.234375 62.25 \r\nQ 35.15625 65.921875 28.609375 65.921875 \r\nQ 23.96875 65.921875 18.8125 64.3125 \r\nQ 13.671875 62.703125 7.8125 59.421875 \r\nL 7.8125 69.390625 \r\nQ 13.765625 71.78125 18.9375 73 \r\nQ 24.125 74.21875 28.421875 74.21875 \r\nQ 39.75 74.21875 46.484375 68.546875 \r\nQ 53.21875 62.890625 53.21875 53.421875 \r\nQ 53.21875 48.921875 51.53125 44.890625 \r\nQ 49.859375 40.875 45.40625 35.40625 \r\nQ 44.1875 33.984375 37.640625 27.21875 \r\nQ 31.109375 20.453125 19.1875 8.296875 \r\nz\r\n\" id=\"DejaVuSans-32\"/>\r\n      </defs>\r\n      <g transform=\"translate(312.91392 254.356563)scale(0.1 -0.1)\">\r\n       <use xlink:href=\"#DejaVuSans-32\"/>\r\n       <use x=\"63.623047\" xlink:href=\"#DejaVuSans-30\"/>\r\n      </g>\r\n     </g>\r\n    </g>\r\n    <g id=\"xtick_6\">\r\n     <g id=\"line2d_6\">\r\n      <g>\r\n       <use style=\"stroke:#000000;stroke-width:0.8;\" x=\"382.685511\" xlink:href=\"#m60b87a2ba7\" y=\"239.758125\"/>\r\n      </g>\r\n     </g>\r\n     <g id=\"text_6\">\r\n      <!-- 25 -->\r\n      <g transform=\"translate(376.323011 254.356563)scale(0.1 -0.1)\">\r\n       <use xlink:href=\"#DejaVuSans-32\"/>\r\n       <use x=\"63.623047\" xlink:href=\"#DejaVuSans-35\"/>\r\n      </g>\r\n     </g>\r\n    </g>\r\n    <g id=\"text_7\">\r\n     <!-- meausures_number -->\r\n     <defs>\r\n      <path d=\"M 52 44.1875 \r\nQ 55.375 50.25 60.0625 53.125 \r\nQ 64.75 56 71.09375 56 \r\nQ 79.640625 56 84.28125 50.015625 \r\nQ 88.921875 44.046875 88.921875 33.015625 \r\nL 88.921875 0 \r\nL 79.890625 0 \r\nL 79.890625 32.71875 \r\nQ 79.890625 40.578125 77.09375 44.375 \r\nQ 74.3125 48.1875 68.609375 48.1875 \r\nQ 61.625 48.1875 57.5625 43.546875 \r\nQ 53.515625 38.921875 53.515625 30.90625 \r\nL 53.515625 0 \r\nL 44.484375 0 \r\nL 44.484375 32.71875 \r\nQ 44.484375 40.625 41.703125 44.40625 \r\nQ 38.921875 48.1875 33.109375 48.1875 \r\nQ 26.21875 48.1875 22.15625 43.53125 \r\nQ 18.109375 38.875 18.109375 30.90625 \r\nL 18.109375 0 \r\nL 9.078125 0 \r\nL 9.078125 54.6875 \r\nL 18.109375 54.6875 \r\nL 18.109375 46.1875 \r\nQ 21.1875 51.21875 25.484375 53.609375 \r\nQ 29.78125 56 35.6875 56 \r\nQ 41.65625 56 45.828125 52.96875 \r\nQ 50 49.953125 52 44.1875 \r\nz\r\n\" id=\"DejaVuSans-6d\"/>\r\n      <path d=\"M 56.203125 29.59375 \r\nL 56.203125 25.203125 \r\nL 14.890625 25.203125 \r\nQ 15.484375 15.921875 20.484375 11.0625 \r\nQ 25.484375 6.203125 34.421875 6.203125 \r\nQ 39.59375 6.203125 44.453125 7.46875 \r\nQ 49.3125 8.734375 54.109375 11.28125 \r\nL 54.109375 2.78125 \r\nQ 49.265625 0.734375 44.1875 -0.34375 \r\nQ 39.109375 -1.421875 33.890625 -1.421875 \r\nQ 20.796875 -1.421875 13.15625 6.1875 \r\nQ 5.515625 13.8125 5.515625 26.8125 \r\nQ 5.515625 40.234375 12.765625 48.109375 \r\nQ 20.015625 56 32.328125 56 \r\nQ 43.359375 56 49.78125 48.890625 \r\nQ 56.203125 41.796875 56.203125 29.59375 \r\nz\r\nM 47.21875 32.234375 \r\nQ 47.125 39.59375 43.09375 43.984375 \r\nQ 39.0625 48.390625 32.421875 48.390625 \r\nQ 24.90625 48.390625 20.390625 44.140625 \r\nQ 15.875 39.890625 15.1875 32.171875 \r\nz\r\n\" id=\"DejaVuSans-65\"/>\r\n      <path d=\"M 34.28125 27.484375 \r\nQ 23.390625 27.484375 19.1875 25 \r\nQ 14.984375 22.515625 14.984375 16.5 \r\nQ 14.984375 11.71875 18.140625 8.90625 \r\nQ 21.296875 6.109375 26.703125 6.109375 \r\nQ 34.1875 6.109375 38.703125 11.40625 \r\nQ 43.21875 16.703125 43.21875 25.484375 \r\nL 43.21875 27.484375 \r\nz\r\nM 52.203125 31.203125 \r\nL 52.203125 0 \r\nL 43.21875 0 \r\nL 43.21875 8.296875 \r\nQ 40.140625 3.328125 35.546875 0.953125 \r\nQ 30.953125 -1.421875 24.3125 -1.421875 \r\nQ 15.921875 -1.421875 10.953125 3.296875 \r\nQ 6 8.015625 6 15.921875 \r\nQ 6 25.140625 12.171875 29.828125 \r\nQ 18.359375 34.515625 30.609375 34.515625 \r\nL 43.21875 34.515625 \r\nL 43.21875 35.40625 \r\nQ 43.21875 41.609375 39.140625 45 \r\nQ 35.0625 48.390625 27.6875 48.390625 \r\nQ 23 48.390625 18.546875 47.265625 \r\nQ 14.109375 46.140625 10.015625 43.890625 \r\nL 10.015625 52.203125 \r\nQ 14.9375 54.109375 19.578125 55.046875 \r\nQ 24.21875 56 28.609375 56 \r\nQ 40.484375 56 46.34375 49.84375 \r\nQ 52.203125 43.703125 52.203125 31.203125 \r\nz\r\n\" id=\"DejaVuSans-61\"/>\r\n      <path d=\"M 8.5 21.578125 \r\nL 8.5 54.6875 \r\nL 17.484375 54.6875 \r\nL 17.484375 21.921875 \r\nQ 17.484375 14.15625 20.5 10.265625 \r\nQ 23.53125 6.390625 29.59375 6.390625 \r\nQ 36.859375 6.390625 41.078125 11.03125 \r\nQ 45.3125 15.671875 45.3125 23.6875 \r\nL 45.3125 54.6875 \r\nL 54.296875 54.6875 \r\nL 54.296875 0 \r\nL 45.3125 0 \r\nL 45.3125 8.40625 \r\nQ 42.046875 3.421875 37.71875 1 \r\nQ 33.40625 -1.421875 27.6875 -1.421875 \r\nQ 18.265625 -1.421875 13.375 4.4375 \r\nQ 8.5 10.296875 8.5 21.578125 \r\nz\r\nM 31.109375 56 \r\nz\r\n\" id=\"DejaVuSans-75\"/>\r\n      <path d=\"M 44.28125 53.078125 \r\nL 44.28125 44.578125 \r\nQ 40.484375 46.53125 36.375 47.5 \r\nQ 32.28125 48.484375 27.875 48.484375 \r\nQ 21.1875 48.484375 17.84375 46.4375 \r\nQ 14.5 44.390625 14.5 40.28125 \r\nQ 14.5 37.15625 16.890625 35.375 \r\nQ 19.28125 33.59375 26.515625 31.984375 \r\nL 29.59375 31.296875 \r\nQ 39.15625 29.25 43.1875 25.515625 \r\nQ 47.21875 21.78125 47.21875 15.09375 \r\nQ 47.21875 7.46875 41.1875 3.015625 \r\nQ 35.15625 -1.421875 24.609375 -1.421875 \r\nQ 20.21875 -1.421875 15.453125 -0.5625 \r\nQ 10.6875 0.296875 5.421875 2 \r\nL 5.421875 11.28125 \r\nQ 10.40625 8.6875 15.234375 7.390625 \r\nQ 20.0625 6.109375 24.8125 6.109375 \r\nQ 31.15625 6.109375 34.5625 8.28125 \r\nQ 37.984375 10.453125 37.984375 14.40625 \r\nQ 37.984375 18.0625 35.515625 20.015625 \r\nQ 33.0625 21.96875 24.703125 23.78125 \r\nL 21.578125 24.515625 \r\nQ 13.234375 26.265625 9.515625 29.90625 \r\nQ 5.8125 33.546875 5.8125 39.890625 \r\nQ 5.8125 47.609375 11.28125 51.796875 \r\nQ 16.75 56 26.8125 56 \r\nQ 31.78125 56 36.171875 55.265625 \r\nQ 40.578125 54.546875 44.28125 53.078125 \r\nz\r\n\" id=\"DejaVuSans-73\"/>\r\n      <path d=\"M 41.109375 46.296875 \r\nQ 39.59375 47.171875 37.8125 47.578125 \r\nQ 36.03125 48 33.890625 48 \r\nQ 26.265625 48 22.1875 43.046875 \r\nQ 18.109375 38.09375 18.109375 28.8125 \r\nL 18.109375 0 \r\nL 9.078125 0 \r\nL 9.078125 54.6875 \r\nL 18.109375 54.6875 \r\nL 18.109375 46.1875 \r\nQ 20.953125 51.171875 25.484375 53.578125 \r\nQ 30.03125 56 36.53125 56 \r\nQ 37.453125 56 38.578125 55.875 \r\nQ 39.703125 55.765625 41.0625 55.515625 \r\nz\r\n\" id=\"DejaVuSans-72\"/>\r\n      <path d=\"M 50.984375 -16.609375 \r\nL 50.984375 -23.578125 \r\nL -0.984375 -23.578125 \r\nL -0.984375 -16.609375 \r\nz\r\n\" id=\"DejaVuSans-5f\"/>\r\n      <path d=\"M 54.890625 33.015625 \r\nL 54.890625 0 \r\nL 45.90625 0 \r\nL 45.90625 32.71875 \r\nQ 45.90625 40.484375 42.875 44.328125 \r\nQ 39.84375 48.1875 33.796875 48.1875 \r\nQ 26.515625 48.1875 22.3125 43.546875 \r\nQ 18.109375 38.921875 18.109375 30.90625 \r\nL 18.109375 0 \r\nL 9.078125 0 \r\nL 9.078125 54.6875 \r\nL 18.109375 54.6875 \r\nL 18.109375 46.1875 \r\nQ 21.34375 51.125 25.703125 53.5625 \r\nQ 30.078125 56 35.796875 56 \r\nQ 45.21875 56 50.046875 50.171875 \r\nQ 54.890625 44.34375 54.890625 33.015625 \r\nz\r\n\" id=\"DejaVuSans-6e\"/>\r\n      <path d=\"M 48.6875 27.296875 \r\nQ 48.6875 37.203125 44.609375 42.84375 \r\nQ 40.53125 48.484375 33.40625 48.484375 \r\nQ 26.265625 48.484375 22.1875 42.84375 \r\nQ 18.109375 37.203125 18.109375 27.296875 \r\nQ 18.109375 17.390625 22.1875 11.75 \r\nQ 26.265625 6.109375 33.40625 6.109375 \r\nQ 40.53125 6.109375 44.609375 11.75 \r\nQ 48.6875 17.390625 48.6875 27.296875 \r\nz\r\nM 18.109375 46.390625 \r\nQ 20.953125 51.265625 25.265625 53.625 \r\nQ 29.59375 56 35.59375 56 \r\nQ 45.5625 56 51.78125 48.09375 \r\nQ 58.015625 40.1875 58.015625 27.296875 \r\nQ 58.015625 14.40625 51.78125 6.484375 \r\nQ 45.5625 -1.421875 35.59375 -1.421875 \r\nQ 29.59375 -1.421875 25.265625 0.953125 \r\nQ 20.953125 3.328125 18.109375 8.203125 \r\nL 18.109375 0 \r\nL 9.078125 0 \r\nL 9.078125 75.984375 \r\nL 18.109375 75.984375 \r\nz\r\n\" id=\"DejaVuSans-62\"/>\r\n     </defs>\r\n     <g transform=\"translate(168.119531 268.034688)scale(0.1 -0.1)\">\r\n      <use xlink:href=\"#DejaVuSans-6d\"/>\r\n      <use x=\"97.412109\" xlink:href=\"#DejaVuSans-65\"/>\r\n      <use x=\"158.935547\" xlink:href=\"#DejaVuSans-61\"/>\r\n      <use x=\"220.214844\" xlink:href=\"#DejaVuSans-75\"/>\r\n      <use x=\"283.59375\" xlink:href=\"#DejaVuSans-73\"/>\r\n      <use x=\"335.693359\" xlink:href=\"#DejaVuSans-75\"/>\r\n      <use x=\"399.072266\" xlink:href=\"#DejaVuSans-72\"/>\r\n      <use x=\"440.154297\" xlink:href=\"#DejaVuSans-65\"/>\r\n      <use x=\"501.677734\" xlink:href=\"#DejaVuSans-73\"/>\r\n      <use x=\"553.777344\" xlink:href=\"#DejaVuSans-5f\"/>\r\n      <use x=\"603.777344\" xlink:href=\"#DejaVuSans-6e\"/>\r\n      <use x=\"667.15625\" xlink:href=\"#DejaVuSans-75\"/>\r\n      <use x=\"730.535156\" xlink:href=\"#DejaVuSans-6d\"/>\r\n      <use x=\"827.947266\" xlink:href=\"#DejaVuSans-62\"/>\r\n      <use x=\"891.423828\" xlink:href=\"#DejaVuSans-65\"/>\r\n      <use x=\"952.947266\" xlink:href=\"#DejaVuSans-72\"/>\r\n     </g>\r\n    </g>\r\n   </g>\r\n   <g id=\"matplotlib.axis_2\">\r\n    <g id=\"ytick_1\">\r\n     <g id=\"line2d_7\">\r\n      <defs>\r\n       <path d=\"M 0 0 \r\nL -3.5 0 \r\n\" id=\"m5a1e38fd66\" style=\"stroke:#000000;stroke-width:0.8;\"/>\r\n      </defs>\r\n      <g>\r\n       <use style=\"stroke:#000000;stroke-width:0.8;\" x=\"50.421875\" xlink:href=\"#m5a1e38fd66\" y=\"224.342638\"/>\r\n      </g>\r\n     </g>\r\n     <g id=\"text_8\">\r\n      <!-- 0.90 -->\r\n      <defs>\r\n       <path d=\"M 10.6875 12.40625 \r\nL 21 12.40625 \r\nL 21 0 \r\nL 10.6875 0 \r\nz\r\n\" id=\"DejaVuSans-2e\"/>\r\n       <path d=\"M 10.984375 1.515625 \r\nL 10.984375 10.5 \r\nQ 14.703125 8.734375 18.5 7.8125 \r\nQ 22.3125 6.890625 25.984375 6.890625 \r\nQ 35.75 6.890625 40.890625 13.453125 \r\nQ 46.046875 20.015625 46.78125 33.40625 \r\nQ 43.953125 29.203125 39.59375 26.953125 \r\nQ 35.25 24.703125 29.984375 24.703125 \r\nQ 19.046875 24.703125 12.671875 31.3125 \r\nQ 6.296875 37.9375 6.296875 49.421875 \r\nQ 6.296875 60.640625 12.9375 67.421875 \r\nQ 19.578125 74.21875 30.609375 74.21875 \r\nQ 43.265625 74.21875 49.921875 64.515625 \r\nQ 56.59375 54.828125 56.59375 36.375 \r\nQ 56.59375 19.140625 48.40625 8.859375 \r\nQ 40.234375 -1.421875 26.421875 -1.421875 \r\nQ 22.703125 -1.421875 18.890625 -0.6875 \r\nQ 15.09375 0.046875 10.984375 1.515625 \r\nz\r\nM 30.609375 32.421875 \r\nQ 37.25 32.421875 41.125 36.953125 \r\nQ 45.015625 41.5 45.015625 49.421875 \r\nQ 45.015625 57.28125 41.125 61.84375 \r\nQ 37.25 66.40625 30.609375 66.40625 \r\nQ 23.96875 66.40625 20.09375 61.84375 \r\nQ 16.21875 57.28125 16.21875 49.421875 \r\nQ 16.21875 41.5 20.09375 36.953125 \r\nQ 23.96875 32.421875 30.609375 32.421875 \r\nz\r\n\" id=\"DejaVuSans-39\"/>\r\n      </defs>\r\n      <g transform=\"translate(21.15625 228.141857)scale(0.1 -0.1)\">\r\n       <use xlink:href=\"#DejaVuSans-30\"/>\r\n       <use x=\"63.623047\" xlink:href=\"#DejaVuSans-2e\"/>\r\n       <use x=\"95.410156\" xlink:href=\"#DejaVuSans-39\"/>\r\n       <use x=\"159.033203\" xlink:href=\"#DejaVuSans-30\"/>\r\n      </g>\r\n     </g>\r\n    </g>\r\n    <g id=\"ytick_2\">\r\n     <g id=\"line2d_8\">\r\n      <g>\r\n       <use style=\"stroke:#000000;stroke-width:0.8;\" x=\"50.421875\" xlink:href=\"#m5a1e38fd66\" y=\"198.026834\"/>\r\n      </g>\r\n     </g>\r\n     <g id=\"text_9\">\r\n      <!-- 0.91 -->\r\n      <g transform=\"translate(21.15625 201.826053)scale(0.1 -0.1)\">\r\n       <use xlink:href=\"#DejaVuSans-30\"/>\r\n       <use x=\"63.623047\" xlink:href=\"#DejaVuSans-2e\"/>\r\n       <use x=\"95.410156\" xlink:href=\"#DejaVuSans-39\"/>\r\n       <use x=\"159.033203\" xlink:href=\"#DejaVuSans-31\"/>\r\n      </g>\r\n     </g>\r\n    </g>\r\n    <g id=\"ytick_3\">\r\n     <g id=\"line2d_9\">\r\n      <g>\r\n       <use style=\"stroke:#000000;stroke-width:0.8;\" x=\"50.421875\" xlink:href=\"#m5a1e38fd66\" y=\"171.71103\"/>\r\n      </g>\r\n     </g>\r\n     <g id=\"text_10\">\r\n      <!-- 0.92 -->\r\n      <g transform=\"translate(21.15625 175.510249)scale(0.1 -0.1)\">\r\n       <use xlink:href=\"#DejaVuSans-30\"/>\r\n       <use x=\"63.623047\" xlink:href=\"#DejaVuSans-2e\"/>\r\n       <use x=\"95.410156\" xlink:href=\"#DejaVuSans-39\"/>\r\n       <use x=\"159.033203\" xlink:href=\"#DejaVuSans-32\"/>\r\n      </g>\r\n     </g>\r\n    </g>\r\n    <g id=\"ytick_4\">\r\n     <g id=\"line2d_10\">\r\n      <g>\r\n       <use style=\"stroke:#000000;stroke-width:0.8;\" x=\"50.421875\" xlink:href=\"#m5a1e38fd66\" y=\"145.395226\"/>\r\n      </g>\r\n     </g>\r\n     <g id=\"text_11\">\r\n      <!-- 0.93 -->\r\n      <defs>\r\n       <path d=\"M 40.578125 39.3125 \r\nQ 47.65625 37.796875 51.625 33 \r\nQ 55.609375 28.21875 55.609375 21.1875 \r\nQ 55.609375 10.40625 48.1875 4.484375 \r\nQ 40.765625 -1.421875 27.09375 -1.421875 \r\nQ 22.515625 -1.421875 17.65625 -0.515625 \r\nQ 12.796875 0.390625 7.625 2.203125 \r\nL 7.625 11.71875 \r\nQ 11.71875 9.328125 16.59375 8.109375 \r\nQ 21.484375 6.890625 26.8125 6.890625 \r\nQ 36.078125 6.890625 40.9375 10.546875 \r\nQ 45.796875 14.203125 45.796875 21.1875 \r\nQ 45.796875 27.640625 41.28125 31.265625 \r\nQ 36.765625 34.90625 28.71875 34.90625 \r\nL 20.21875 34.90625 \r\nL 20.21875 43.015625 \r\nL 29.109375 43.015625 \r\nQ 36.375 43.015625 40.234375 45.921875 \r\nQ 44.09375 48.828125 44.09375 54.296875 \r\nQ 44.09375 59.90625 40.109375 62.90625 \r\nQ 36.140625 65.921875 28.71875 65.921875 \r\nQ 24.65625 65.921875 20.015625 65.03125 \r\nQ 15.375 64.15625 9.8125 62.3125 \r\nL 9.8125 71.09375 \r\nQ 15.4375 72.65625 20.34375 73.4375 \r\nQ 25.25 74.21875 29.59375 74.21875 \r\nQ 40.828125 74.21875 47.359375 69.109375 \r\nQ 53.90625 64.015625 53.90625 55.328125 \r\nQ 53.90625 49.265625 50.4375 45.09375 \r\nQ 46.96875 40.921875 40.578125 39.3125 \r\nz\r\n\" id=\"DejaVuSans-33\"/>\r\n      </defs>\r\n      <g transform=\"translate(21.15625 149.194445)scale(0.1 -0.1)\">\r\n       <use xlink:href=\"#DejaVuSans-30\"/>\r\n       <use x=\"63.623047\" xlink:href=\"#DejaVuSans-2e\"/>\r\n       <use x=\"95.410156\" xlink:href=\"#DejaVuSans-39\"/>\r\n       <use x=\"159.033203\" xlink:href=\"#DejaVuSans-33\"/>\r\n      </g>\r\n     </g>\r\n    </g>\r\n    <g id=\"ytick_5\">\r\n     <g id=\"line2d_11\">\r\n      <g>\r\n       <use style=\"stroke:#000000;stroke-width:0.8;\" x=\"50.421875\" xlink:href=\"#m5a1e38fd66\" y=\"119.079423\"/>\r\n      </g>\r\n     </g>\r\n     <g id=\"text_12\">\r\n      <!-- 0.94 -->\r\n      <defs>\r\n       <path d=\"M 37.796875 64.3125 \r\nL 12.890625 25.390625 \r\nL 37.796875 25.390625 \r\nz\r\nM 35.203125 72.90625 \r\nL 47.609375 72.90625 \r\nL 47.609375 25.390625 \r\nL 58.015625 25.390625 \r\nL 58.015625 17.1875 \r\nL 47.609375 17.1875 \r\nL 47.609375 0 \r\nL 37.796875 0 \r\nL 37.796875 17.1875 \r\nL 4.890625 17.1875 \r\nL 4.890625 26.703125 \r\nz\r\n\" id=\"DejaVuSans-34\"/>\r\n      </defs>\r\n      <g transform=\"translate(21.15625 122.878641)scale(0.1 -0.1)\">\r\n       <use xlink:href=\"#DejaVuSans-30\"/>\r\n       <use x=\"63.623047\" xlink:href=\"#DejaVuSans-2e\"/>\r\n       <use x=\"95.410156\" xlink:href=\"#DejaVuSans-39\"/>\r\n       <use x=\"159.033203\" xlink:href=\"#DejaVuSans-34\"/>\r\n      </g>\r\n     </g>\r\n    </g>\r\n    <g id=\"ytick_6\">\r\n     <g id=\"line2d_12\">\r\n      <g>\r\n       <use style=\"stroke:#000000;stroke-width:0.8;\" x=\"50.421875\" xlink:href=\"#m5a1e38fd66\" y=\"92.763619\"/>\r\n      </g>\r\n     </g>\r\n     <g id=\"text_13\">\r\n      <!-- 0.95 -->\r\n      <g transform=\"translate(21.15625 96.562838)scale(0.1 -0.1)\">\r\n       <use xlink:href=\"#DejaVuSans-30\"/>\r\n       <use x=\"63.623047\" xlink:href=\"#DejaVuSans-2e\"/>\r\n       <use x=\"95.410156\" xlink:href=\"#DejaVuSans-39\"/>\r\n       <use x=\"159.033203\" xlink:href=\"#DejaVuSans-35\"/>\r\n      </g>\r\n     </g>\r\n    </g>\r\n    <g id=\"ytick_7\">\r\n     <g id=\"line2d_13\">\r\n      <g>\r\n       <use style=\"stroke:#000000;stroke-width:0.8;\" x=\"50.421875\" xlink:href=\"#m5a1e38fd66\" y=\"66.447815\"/>\r\n      </g>\r\n     </g>\r\n     <g id=\"text_14\">\r\n      <!-- 0.96 -->\r\n      <defs>\r\n       <path d=\"M 33.015625 40.375 \r\nQ 26.375 40.375 22.484375 35.828125 \r\nQ 18.609375 31.296875 18.609375 23.390625 \r\nQ 18.609375 15.53125 22.484375 10.953125 \r\nQ 26.375 6.390625 33.015625 6.390625 \r\nQ 39.65625 6.390625 43.53125 10.953125 \r\nQ 47.40625 15.53125 47.40625 23.390625 \r\nQ 47.40625 31.296875 43.53125 35.828125 \r\nQ 39.65625 40.375 33.015625 40.375 \r\nz\r\nM 52.59375 71.296875 \r\nL 52.59375 62.3125 \r\nQ 48.875 64.0625 45.09375 64.984375 \r\nQ 41.3125 65.921875 37.59375 65.921875 \r\nQ 27.828125 65.921875 22.671875 59.328125 \r\nQ 17.53125 52.734375 16.796875 39.40625 \r\nQ 19.671875 43.65625 24.015625 45.921875 \r\nQ 28.375 48.1875 33.59375 48.1875 \r\nQ 44.578125 48.1875 50.953125 41.515625 \r\nQ 57.328125 34.859375 57.328125 23.390625 \r\nQ 57.328125 12.15625 50.6875 5.359375 \r\nQ 44.046875 -1.421875 33.015625 -1.421875 \r\nQ 20.359375 -1.421875 13.671875 8.265625 \r\nQ 6.984375 17.96875 6.984375 36.375 \r\nQ 6.984375 53.65625 15.1875 63.9375 \r\nQ 23.390625 74.21875 37.203125 74.21875 \r\nQ 40.921875 74.21875 44.703125 73.484375 \r\nQ 48.484375 72.75 52.59375 71.296875 \r\nz\r\n\" id=\"DejaVuSans-36\"/>\r\n      </defs>\r\n      <g transform=\"translate(21.15625 70.247034)scale(0.1 -0.1)\">\r\n       <use xlink:href=\"#DejaVuSans-30\"/>\r\n       <use x=\"63.623047\" xlink:href=\"#DejaVuSans-2e\"/>\r\n       <use x=\"95.410156\" xlink:href=\"#DejaVuSans-39\"/>\r\n       <use x=\"159.033203\" xlink:href=\"#DejaVuSans-36\"/>\r\n      </g>\r\n     </g>\r\n    </g>\r\n    <g id=\"ytick_8\">\r\n     <g id=\"line2d_14\">\r\n      <g>\r\n       <use style=\"stroke:#000000;stroke-width:0.8;\" x=\"50.421875\" xlink:href=\"#m5a1e38fd66\" y=\"40.132011\"/>\r\n      </g>\r\n     </g>\r\n     <g id=\"text_15\">\r\n      <!-- 0.97 -->\r\n      <defs>\r\n       <path d=\"M 8.203125 72.90625 \r\nL 55.078125 72.90625 \r\nL 55.078125 68.703125 \r\nL 28.609375 0 \r\nL 18.3125 0 \r\nL 43.21875 64.59375 \r\nL 8.203125 64.59375 \r\nz\r\n\" id=\"DejaVuSans-37\"/>\r\n      </defs>\r\n      <g transform=\"translate(21.15625 43.93123)scale(0.1 -0.1)\">\r\n       <use xlink:href=\"#DejaVuSans-30\"/>\r\n       <use x=\"63.623047\" xlink:href=\"#DejaVuSans-2e\"/>\r\n       <use x=\"95.410156\" xlink:href=\"#DejaVuSans-39\"/>\r\n       <use x=\"159.033203\" xlink:href=\"#DejaVuSans-37\"/>\r\n      </g>\r\n     </g>\r\n    </g>\r\n    <g id=\"text_16\">\r\n     <!-- f1_micro -->\r\n     <defs>\r\n      <path d=\"M 37.109375 75.984375 \r\nL 37.109375 68.5 \r\nL 28.515625 68.5 \r\nQ 23.6875 68.5 21.796875 66.546875 \r\nQ 19.921875 64.59375 19.921875 59.515625 \r\nL 19.921875 54.6875 \r\nL 34.71875 54.6875 \r\nL 34.71875 47.703125 \r\nL 19.921875 47.703125 \r\nL 19.921875 0 \r\nL 10.890625 0 \r\nL 10.890625 47.703125 \r\nL 2.296875 47.703125 \r\nL 2.296875 54.6875 \r\nL 10.890625 54.6875 \r\nL 10.890625 58.5 \r\nQ 10.890625 67.625 15.140625 71.796875 \r\nQ 19.390625 75.984375 28.609375 75.984375 \r\nz\r\n\" id=\"DejaVuSans-66\"/>\r\n      <path d=\"M 9.421875 54.6875 \r\nL 18.40625 54.6875 \r\nL 18.40625 0 \r\nL 9.421875 0 \r\nz\r\nM 9.421875 75.984375 \r\nL 18.40625 75.984375 \r\nL 18.40625 64.59375 \r\nL 9.421875 64.59375 \r\nz\r\n\" id=\"DejaVuSans-69\"/>\r\n      <path d=\"M 48.78125 52.59375 \r\nL 48.78125 44.1875 \r\nQ 44.96875 46.296875 41.140625 47.34375 \r\nQ 37.3125 48.390625 33.40625 48.390625 \r\nQ 24.65625 48.390625 19.8125 42.84375 \r\nQ 14.984375 37.3125 14.984375 27.296875 \r\nQ 14.984375 17.28125 19.8125 11.734375 \r\nQ 24.65625 6.203125 33.40625 6.203125 \r\nQ 37.3125 6.203125 41.140625 7.25 \r\nQ 44.96875 8.296875 48.78125 10.40625 \r\nL 48.78125 2.09375 \r\nQ 45.015625 0.34375 40.984375 -0.53125 \r\nQ 36.96875 -1.421875 32.421875 -1.421875 \r\nQ 20.0625 -1.421875 12.78125 6.34375 \r\nQ 5.515625 14.109375 5.515625 27.296875 \r\nQ 5.515625 40.671875 12.859375 48.328125 \r\nQ 20.21875 56 33.015625 56 \r\nQ 37.15625 56 41.109375 55.140625 \r\nQ 45.0625 54.296875 48.78125 52.59375 \r\nz\r\n\" id=\"DejaVuSans-63\"/>\r\n      <path d=\"M 30.609375 48.390625 \r\nQ 23.390625 48.390625 19.1875 42.75 \r\nQ 14.984375 37.109375 14.984375 27.296875 \r\nQ 14.984375 17.484375 19.15625 11.84375 \r\nQ 23.34375 6.203125 30.609375 6.203125 \r\nQ 37.796875 6.203125 41.984375 11.859375 \r\nQ 46.1875 17.53125 46.1875 27.296875 \r\nQ 46.1875 37.015625 41.984375 42.703125 \r\nQ 37.796875 48.390625 30.609375 48.390625 \r\nz\r\nM 30.609375 56 \r\nQ 42.328125 56 49.015625 48.375 \r\nQ 55.71875 40.765625 55.71875 27.296875 \r\nQ 55.71875 13.875 49.015625 6.21875 \r\nQ 42.328125 -1.421875 30.609375 -1.421875 \r\nQ 18.84375 -1.421875 12.171875 6.21875 \r\nQ 5.515625 13.875 5.515625 27.296875 \r\nQ 5.515625 40.765625 12.171875 48.375 \r\nQ 18.84375 56 30.609375 56 \r\nz\r\n\" id=\"DejaVuSans-6f\"/>\r\n     </defs>\r\n     <g transform=\"translate(14.798438 152.601406)rotate(-90)scale(0.1 -0.1)\">\r\n      <use xlink:href=\"#DejaVuSans-66\"/>\r\n      <use x=\"35.205078\" xlink:href=\"#DejaVuSans-31\"/>\r\n      <use x=\"98.828125\" xlink:href=\"#DejaVuSans-5f\"/>\r\n      <use x=\"148.828125\" xlink:href=\"#DejaVuSans-6d\"/>\r\n      <use x=\"246.240234\" xlink:href=\"#DejaVuSans-69\"/>\r\n      <use x=\"274.023438\" xlink:href=\"#DejaVuSans-63\"/>\r\n      <use x=\"329.003906\" xlink:href=\"#DejaVuSans-72\"/>\r\n      <use x=\"370.085938\" xlink:href=\"#DejaVuSans-6f\"/>\r\n     </g>\r\n    </g>\r\n   </g>\r\n   <g id=\"line2d_15\">\r\n    <path clip-path=\"url(#p0cc0e73d5e)\" d=\"M 65.640057 150.563698 \r\nL 78.321875 138.727504 \r\nL 91.003693 150.563698 \r\nL 103.685511 229.874489 \r\nL 116.36733 214.069201 \r\nL 129.049148 154.509096 \r\nL 141.730966 186.072279 \r\nL 154.412784 213.690064 \r\nL 167.094602 182.458626 \r\nL 179.77642 186.409948 \r\nL 192.458239 138.727504 \r\nL 205.140057 158.454493 \r\nL 217.821875 162.399891 \r\nL 230.503693 210.117879 \r\nL 243.185511 154.799373 \r\nL 255.86733 213.690064 \r\nL 268.549148 154.509096 \r\nL 281.230966 201.85387 \r\nL 293.912784 162.702016 \r\nL 306.594602 146.896729 \r\nL 319.27642 146.6183 \r\nL 331.958239 197.908472 \r\nL 344.640057 130.836708 \r\nL 357.321875 214.069201 \r\nL 370.003693 229.874489 \r\n\" style=\"fill:none;stroke:#1f77b4;stroke-linecap:square;stroke-width:1.5;\"/>\r\n   </g>\r\n   <g id=\"line2d_16\">\r\n    <path clip-path=\"url(#p0cc0e73d5e)\" d=\"M 65.640057 115.055117 \r\nL 78.321875 142.672902 \r\nL 91.003693 158.454493 \r\nL 103.685511 158.750694 \r\nL 116.36733 135.042763 \r\nL 129.049148 122.945913 \r\nL 141.730966 134.782106 \r\nL 154.412784 138.727504 \r\nL 167.094602 75.772935 \r\nL 179.77642 123.188797 \r\nL 192.458239 59.819547 \r\nL 205.140057 138.727504 \r\nL 217.821875 154.509096 \r\nL 230.503693 146.896729 \r\nL 243.185511 123.188797 \r\nL 255.86733 142.672902 \r\nL 268.549148 130.836708 \r\nL 281.230966 103.218923 \r\nL 293.912784 103.432188 \r\nL 306.594602 71.821613 \r\nL 319.27642 119.000515 \r\nL 331.958239 87.437332 \r\nL 344.640057 154.509096 \r\nL 357.321875 115.286154 \r\nL 370.003693 131.091441 \r\n\" style=\"fill:none;stroke:#ff7f0e;stroke-linecap:square;stroke-width:1.5;\"/>\r\n   </g>\r\n   <g id=\"line2d_17\">\r\n    <path clip-path=\"url(#p0cc0e73d5e)\" d=\"M 65.640057 83.491934 \r\nL 78.321875 75.601138 \r\nL 91.003693 103.218923 \r\nL 103.685511 63.918969 \r\nL 116.36733 119.237475 \r\nL 129.049148 87.437332 \r\nL 141.730966 111.109719 \r\nL 154.412784 95.328127 \r\nL 167.094602 87.6269 \r\nL 179.77642 119.237475 \r\nL 192.458239 91.38273 \r\nL 205.140057 130.836708 \r\nL 217.821875 95.328127 \r\nL 230.503693 75.772935 \r\nL 243.185511 91.578222 \r\nL 255.86733 99.273525 \r\nL 268.549148 75.601138 \r\nL 281.230966 95.328127 \r\nL 293.912784 87.6269 \r\nL 306.594602 91.578222 \r\nL 319.27642 71.65574 \r\nL 331.958239 91.38273 \r\nL 344.640057 83.491934 \r\nL 357.321875 123.188797 \r\nL 370.003693 71.821613 \r\n\" style=\"fill:none;stroke:#2ca02c;stroke-linecap:square;stroke-width:1.5;\"/>\r\n   </g>\r\n   <g id=\"line2d_18\">\r\n    <path clip-path=\"url(#p0cc0e73d5e)\" d=\"M 65.640057 71.65574 \r\nL 78.321875 91.38273 \r\nL 91.003693 71.65574 \r\nL 103.685511 83.675578 \r\nL 116.36733 79.724257 \r\nL 129.049148 67.710342 \r\nL 141.730966 67.710342 \r\nL 154.412784 47.983353 \r\nL 167.094602 87.6269 \r\nL 179.77642 56.016325 \r\nL 192.458239 83.491934 \r\nL 205.140057 95.328127 \r\nL 217.821875 75.601138 \r\nL 230.503693 71.821613 \r\nL 243.185511 91.578222 \r\nL 255.86733 75.601138 \r\nL 268.549148 87.437332 \r\nL 281.230966 79.546536 \r\nL 293.912784 91.578222 \r\nL 306.594602 56.016325 \r\nL 319.27642 63.764944 \r\nL 331.958239 40.092557 \r\nL 344.640057 87.437332 \r\nL 357.321875 115.286154 \r\nL 370.003693 63.918969 \r\n\" style=\"fill:none;stroke:#d62728;stroke-linecap:square;stroke-width:1.5;\"/>\r\n   </g>\r\n   <g id=\"line2d_19\">\r\n    <path clip-path=\"url(#p0cc0e73d5e)\" d=\"M 65.640057 67.710342 \r\nL 78.321875 63.764944 \r\nL 91.003693 36.147159 \r\nL 103.685511 71.821613 \r\nL 116.36733 56.016325 \r\nL 129.049148 67.710342 \r\nL 141.730966 83.491934 \r\nL 154.412784 40.092557 \r\nL 167.094602 63.918969 \r\nL 179.77642 63.918969 \r\nL 192.458239 44.037955 \r\nL 205.140057 55.874149 \r\nL 217.821875 63.764944 \r\nL 230.503693 75.772935 \r\nL 243.185511 95.529544 \r\nL 255.86733 55.874149 \r\nL 268.549148 95.328127 \r\nL 281.230966 44.037955 \r\nL 293.912784 56.016325 \r\nL 306.594602 75.772935 \r\nL 319.27642 71.65574 \r\nL 331.958239 59.819547 \r\nL 344.640057 59.819547 \r\nL 357.321875 56.016325 \r\nL 370.003693 59.967647 \r\n\" style=\"fill:none;stroke:#9467bd;stroke-linecap:square;stroke-width:1.5;\"/>\r\n   </g>\r\n   <g id=\"line2d_20\">\r\n    <path clip-path=\"url(#p0cc0e73d5e)\" d=\"M 65.640057 55.874149 \r\nL 78.321875 40.092557 \r\nL 91.003693 75.601138 \r\nL 103.685511 87.6269 \r\nL 116.36733 48.113681 \r\nL 129.049148 32.201761 \r\nL 141.730966 44.037955 \r\nL 154.412784 63.764944 \r\nL 167.094602 71.821613 \r\nL 179.77642 103.432188 \r\nL 192.458239 67.710342 \r\nL 205.140057 59.819547 \r\nL 217.821875 55.874149 \r\nL 230.503693 44.162359 \r\nL 243.185511 71.821613 \r\nL 255.86733 63.764944 \r\nL 268.549148 59.819547 \r\nL 281.230966 67.710342 \r\nL 293.912784 44.162359 \r\nL 306.594602 75.772935 \r\nL 319.27642 44.037955 \r\nL 331.958239 91.38273 \r\nL 344.640057 71.65574 \r\nL 357.321875 48.113681 \r\nL 370.003693 75.772935 \r\n\" style=\"fill:none;stroke:#8c564b;stroke-linecap:square;stroke-width:1.5;\"/>\r\n   </g>\r\n   <g id=\"patch_3\">\r\n    <path d=\"M 50.421875 239.758125 \r\nL 50.421875 22.318125 \r\n\" style=\"fill:none;stroke:#000000;stroke-linecap:square;stroke-linejoin:miter;stroke-width:0.8;\"/>\r\n   </g>\r\n   <g id=\"patch_4\">\r\n    <path d=\"M 385.221875 239.758125 \r\nL 385.221875 22.318125 \r\n\" style=\"fill:none;stroke:#000000;stroke-linecap:square;stroke-linejoin:miter;stroke-width:0.8;\"/>\r\n   </g>\r\n   <g id=\"patch_5\">\r\n    <path d=\"M 50.421875 239.758125 \r\nL 385.221875 239.758125 \r\n\" style=\"fill:none;stroke:#000000;stroke-linecap:square;stroke-linejoin:miter;stroke-width:0.8;\"/>\r\n   </g>\r\n   <g id=\"patch_6\">\r\n    <path d=\"M 50.421875 22.318125 \r\nL 385.221875 22.318125 \r\n\" style=\"fill:none;stroke:#000000;stroke-linecap:square;stroke-linejoin:miter;stroke-width:0.8;\"/>\r\n   </g>\r\n   <g id=\"text_17\">\r\n    <!-- By trees_number -->\r\n    <defs>\r\n     <path d=\"M 19.671875 34.8125 \r\nL 19.671875 8.109375 \r\nL 35.5 8.109375 \r\nQ 43.453125 8.109375 47.28125 11.40625 \r\nQ 51.125 14.703125 51.125 21.484375 \r\nQ 51.125 28.328125 47.28125 31.5625 \r\nQ 43.453125 34.8125 35.5 34.8125 \r\nz\r\nM 19.671875 64.796875 \r\nL 19.671875 42.828125 \r\nL 34.28125 42.828125 \r\nQ 41.5 42.828125 45.03125 45.53125 \r\nQ 48.578125 48.25 48.578125 53.8125 \r\nQ 48.578125 59.328125 45.03125 62.0625 \r\nQ 41.5 64.796875 34.28125 64.796875 \r\nz\r\nM 9.8125 72.90625 \r\nL 35.015625 72.90625 \r\nQ 46.296875 72.90625 52.390625 68.21875 \r\nQ 58.5 63.53125 58.5 54.890625 \r\nQ 58.5 48.1875 55.375 44.234375 \r\nQ 52.25 40.28125 46.1875 39.3125 \r\nQ 53.46875 37.75 57.5 32.78125 \r\nQ 61.53125 27.828125 61.53125 20.40625 \r\nQ 61.53125 10.640625 54.890625 5.3125 \r\nQ 48.25 0 35.984375 0 \r\nL 9.8125 0 \r\nz\r\n\" id=\"DejaVuSans-42\"/>\r\n     <path d=\"M 32.171875 -5.078125 \r\nQ 28.375 -14.84375 24.75 -17.8125 \r\nQ 21.140625 -20.796875 15.09375 -20.796875 \r\nL 7.90625 -20.796875 \r\nL 7.90625 -13.28125 \r\nL 13.1875 -13.28125 \r\nQ 16.890625 -13.28125 18.9375 -11.515625 \r\nQ 21 -9.765625 23.484375 -3.21875 \r\nL 25.09375 0.875 \r\nL 2.984375 54.6875 \r\nL 12.5 54.6875 \r\nL 29.59375 11.921875 \r\nL 46.6875 54.6875 \r\nL 56.203125 54.6875 \r\nz\r\n\" id=\"DejaVuSans-79\"/>\r\n     <path id=\"DejaVuSans-20\"/>\r\n     <path d=\"M 18.3125 70.21875 \r\nL 18.3125 54.6875 \r\nL 36.8125 54.6875 \r\nL 36.8125 47.703125 \r\nL 18.3125 47.703125 \r\nL 18.3125 18.015625 \r\nQ 18.3125 11.328125 20.140625 9.421875 \r\nQ 21.96875 7.515625 27.59375 7.515625 \r\nL 36.8125 7.515625 \r\nL 36.8125 0 \r\nL 27.59375 0 \r\nQ 17.1875 0 13.234375 3.875 \r\nQ 9.28125 7.765625 9.28125 18.015625 \r\nL 9.28125 47.703125 \r\nL 2.6875 47.703125 \r\nL 2.6875 54.6875 \r\nL 9.28125 54.6875 \r\nL 9.28125 70.21875 \r\nz\r\n\" id=\"DejaVuSans-74\"/>\r\n    </defs>\r\n    <g transform=\"translate(166.504063 16.318125)scale(0.12 -0.12)\">\r\n     <use xlink:href=\"#DejaVuSans-42\"/>\r\n     <use x=\"68.603516\" xlink:href=\"#DejaVuSans-79\"/>\r\n     <use x=\"127.783203\" xlink:href=\"#DejaVuSans-20\"/>\r\n     <use x=\"159.570312\" xlink:href=\"#DejaVuSans-74\"/>\r\n     <use x=\"198.779297\" xlink:href=\"#DejaVuSans-72\"/>\r\n     <use x=\"239.861328\" xlink:href=\"#DejaVuSans-65\"/>\r\n     <use x=\"301.384766\" xlink:href=\"#DejaVuSans-65\"/>\r\n     <use x=\"362.908203\" xlink:href=\"#DejaVuSans-73\"/>\r\n     <use x=\"415.007812\" xlink:href=\"#DejaVuSans-5f\"/>\r\n     <use x=\"465.007812\" xlink:href=\"#DejaVuSans-6e\"/>\r\n     <use x=\"528.386719\" xlink:href=\"#DejaVuSans-75\"/>\r\n     <use x=\"591.765625\" xlink:href=\"#DejaVuSans-6d\"/>\r\n     <use x=\"689.177734\" xlink:href=\"#DejaVuSans-62\"/>\r\n     <use x=\"752.654297\" xlink:href=\"#DejaVuSans-65\"/>\r\n     <use x=\"814.177734\" xlink:href=\"#DejaVuSans-72\"/>\r\n    </g>\r\n   </g>\r\n   <g id=\"legend_1\">\r\n    <g id=\"patch_7\">\r\n     <path d=\"M 327.134375 234.758125 \r\nL 378.221875 234.758125 \r\nQ 380.221875 234.758125 380.221875 232.758125 \r\nL 380.221875 145.689375 \r\nQ 380.221875 143.689375 378.221875 143.689375 \r\nL 327.134375 143.689375 \r\nQ 325.134375 143.689375 325.134375 145.689375 \r\nL 325.134375 232.758125 \r\nQ 325.134375 234.758125 327.134375 234.758125 \r\nz\r\n\" style=\"fill:#ffffff;opacity:0.8;stroke:#cccccc;stroke-linejoin:miter;\"/>\r\n    </g>\r\n    <g id=\"line2d_21\">\r\n     <path d=\"M 329.134375 151.787813 \r\nL 349.134375 151.787813 \r\n\" style=\"fill:none;stroke:#1f77b4;stroke-linecap:square;stroke-width:1.5;\"/>\r\n    </g>\r\n    <g id=\"line2d_22\"/>\r\n    <g id=\"text_18\">\r\n     <!-- 1 -->\r\n     <g transform=\"translate(357.134375 155.287813)scale(0.1 -0.1)\">\r\n      <use xlink:href=\"#DejaVuSans-31\"/>\r\n     </g>\r\n    </g>\r\n    <g id=\"line2d_23\">\r\n     <path d=\"M 329.134375 166.465938 \r\nL 349.134375 166.465938 \r\n\" style=\"fill:none;stroke:#ff7f0e;stroke-linecap:square;stroke-width:1.5;\"/>\r\n    </g>\r\n    <g id=\"line2d_24\"/>\r\n    <g id=\"text_19\">\r\n     <!-- 2 -->\r\n     <g transform=\"translate(357.134375 169.965938)scale(0.1 -0.1)\">\r\n      <use xlink:href=\"#DejaVuSans-32\"/>\r\n     </g>\r\n    </g>\r\n    <g id=\"line2d_25\">\r\n     <path d=\"M 329.134375 181.144063 \r\nL 349.134375 181.144063 \r\n\" style=\"fill:none;stroke:#2ca02c;stroke-linecap:square;stroke-width:1.5;\"/>\r\n    </g>\r\n    <g id=\"line2d_26\"/>\r\n    <g id=\"text_20\">\r\n     <!-- 5 -->\r\n     <g transform=\"translate(357.134375 184.644063)scale(0.1 -0.1)\">\r\n      <use xlink:href=\"#DejaVuSans-35\"/>\r\n     </g>\r\n    </g>\r\n    <g id=\"line2d_27\">\r\n     <path d=\"M 329.134375 195.822188 \r\nL 349.134375 195.822188 \r\n\" style=\"fill:none;stroke:#d62728;stroke-linecap:square;stroke-width:1.5;\"/>\r\n    </g>\r\n    <g id=\"line2d_28\"/>\r\n    <g id=\"text_21\">\r\n     <!-- 10 -->\r\n     <g transform=\"translate(357.134375 199.322188)scale(0.1 -0.1)\">\r\n      <use xlink:href=\"#DejaVuSans-31\"/>\r\n      <use x=\"63.623047\" xlink:href=\"#DejaVuSans-30\"/>\r\n     </g>\r\n    </g>\r\n    <g id=\"line2d_29\">\r\n     <path d=\"M 329.134375 210.500313 \r\nL 349.134375 210.500313 \r\n\" style=\"fill:none;stroke:#9467bd;stroke-linecap:square;stroke-width:1.5;\"/>\r\n    </g>\r\n    <g id=\"line2d_30\"/>\r\n    <g id=\"text_22\">\r\n     <!-- 50 -->\r\n     <g transform=\"translate(357.134375 214.000313)scale(0.1 -0.1)\">\r\n      <use xlink:href=\"#DejaVuSans-35\"/>\r\n      <use x=\"63.623047\" xlink:href=\"#DejaVuSans-30\"/>\r\n     </g>\r\n    </g>\r\n    <g id=\"line2d_31\">\r\n     <path d=\"M 329.134375 225.178438 \r\nL 349.134375 225.178438 \r\n\" style=\"fill:none;stroke:#8c564b;stroke-linecap:square;stroke-width:1.5;\"/>\r\n    </g>\r\n    <g id=\"line2d_32\"/>\r\n    <g id=\"text_23\">\r\n     <!-- 100 -->\r\n     <g transform=\"translate(357.134375 228.678438)scale(0.1 -0.1)\">\r\n      <use xlink:href=\"#DejaVuSans-31\"/>\r\n      <use x=\"63.623047\" xlink:href=\"#DejaVuSans-30\"/>\r\n      <use x=\"127.246094\" xlink:href=\"#DejaVuSans-30\"/>\r\n     </g>\r\n    </g>\r\n   </g>\r\n  </g>\r\n </g>\r\n <defs>\r\n  <clipPath id=\"p0cc0e73d5e\">\r\n   <rect height=\"217.44\" width=\"334.8\" x=\"50.421875\" y=\"22.318125\"/>\r\n  </clipPath>\r\n </defs>\r\n</svg>\r\n",
            "text/plain": [
              "<matplotlib.figure.Figure at 0x1a75d59b5c0>"
            ]
          },
          "metadata": {
            "tags": []
          }
        }
      ]
    },
    {
      "metadata": {
        "id": "xgomYQT3p8WD",
        "colab_type": "text"
      },
      "cell_type": "markdown",
      "source": [
        "Из графика видно, что начиная с кол-ва деревьев равному 50, метрика изменяется незначительно. Отсюда следует вывод, что будет достаточно 50-100 деревьев."
      ]
    },
    {
      "metadata": {
        "id": "gk3_bn9Jp8WE",
        "colab_type": "text"
      },
      "cell_type": "markdown",
      "source": [
        "Добавлю на график scores решающего дерева из предыдущего задания для сравнения."
      ]
    },
    {
      "metadata": {
        "id": "0hfo-Ahzp8WF",
        "colab_type": "code",
        "colab": {},
        "outputId": "ef4889c4-665e-4f97-c9c6-e54999f10838"
      },
      "cell_type": "code",
      "source": [
        "for i in trees_numbers:  \n",
        "    scores[i].plot()\n",
        "    \n",
        "pd.Series(scores_dtree).plot()\n",
        "\n",
        "plt.ylabel('f1_micro')\n",
        "plt.xlabel('meausures_number')\n",
        "\n",
        "L = plt.legend()\n",
        "i = 0\n",
        "for num in trees_numbers:\n",
        "    L.get_texts()[i].set_text(str(num))\n",
        "    i = i + 1\n",
        "    \n",
        "L.get_texts()[len(trees_numbers)].set_text('dtree_score')\n",
        "    \n",
        "plt.title('By trees_number')\n",
        "plt.show()"
      ],
      "execution_count": 0,
      "outputs": [
        {
          "output_type": "display_data",
          "data": {
            "image/svg+xml": "<?xml version=\"1.0\" encoding=\"utf-8\" standalone=\"no\"?>\r\n<!DOCTYPE svg PUBLIC \"-//W3C//DTD SVG 1.1//EN\"\r\n  \"http://www.w3.org/Graphics/SVG/1.1/DTD/svg11.dtd\">\r\n<!-- Created with matplotlib (http://matplotlib.org/) -->\r\n<svg height=\"277pt\" version=\"1.1\" viewBox=\"0 0 395 277\" width=\"395pt\" xmlns=\"http://www.w3.org/2000/svg\" xmlns:xlink=\"http://www.w3.org/1999/xlink\">\r\n <defs>\r\n  <style type=\"text/css\">\r\n*{stroke-linecap:butt;stroke-linejoin:round;}\r\n  </style>\r\n </defs>\r\n <g id=\"figure_1\">\r\n  <g id=\"patch_1\">\r\n   <path d=\"M -0 277.5925 \r\nL 395.921875 277.5925 \r\nL 395.921875 0 \r\nL -0 0 \r\nz\r\n\" style=\"fill:none;\"/>\r\n  </g>\r\n  <g id=\"axes_1\">\r\n   <g id=\"patch_2\">\r\n    <path d=\"M 50.421875 239.758125 \r\nL 385.221875 239.758125 \r\nL 385.221875 22.318125 \r\nL 50.421875 22.318125 \r\nz\r\n\" style=\"fill:#ffffff;\"/>\r\n   </g>\r\n   <g id=\"matplotlib.axis_1\">\r\n    <g id=\"xtick_1\">\r\n     <g id=\"line2d_1\">\r\n      <defs>\r\n       <path d=\"M 0 0 \r\nL 0 3.5 \r\n\" id=\"m79bf76e593\" style=\"stroke:#000000;stroke-width:0.8;\"/>\r\n      </defs>\r\n      <g>\r\n       <use style=\"stroke:#000000;stroke-width:0.8;\" x=\"65.640057\" xlink:href=\"#m79bf76e593\" y=\"239.758125\"/>\r\n      </g>\r\n     </g>\r\n     <g id=\"text_1\">\r\n      <!-- 0 -->\r\n      <defs>\r\n       <path d=\"M 31.78125 66.40625 \r\nQ 24.171875 66.40625 20.328125 58.90625 \r\nQ 16.5 51.421875 16.5 36.375 \r\nQ 16.5 21.390625 20.328125 13.890625 \r\nQ 24.171875 6.390625 31.78125 6.390625 \r\nQ 39.453125 6.390625 43.28125 13.890625 \r\nQ 47.125 21.390625 47.125 36.375 \r\nQ 47.125 51.421875 43.28125 58.90625 \r\nQ 39.453125 66.40625 31.78125 66.40625 \r\nz\r\nM 31.78125 74.21875 \r\nQ 44.046875 74.21875 50.515625 64.515625 \r\nQ 56.984375 54.828125 56.984375 36.375 \r\nQ 56.984375 17.96875 50.515625 8.265625 \r\nQ 44.046875 -1.421875 31.78125 -1.421875 \r\nQ 19.53125 -1.421875 13.0625 8.265625 \r\nQ 6.59375 17.96875 6.59375 36.375 \r\nQ 6.59375 54.828125 13.0625 64.515625 \r\nQ 19.53125 74.21875 31.78125 74.21875 \r\nz\r\n\" id=\"DejaVuSans-30\"/>\r\n      </defs>\r\n      <g transform=\"translate(62.458807 254.356563)scale(0.1 -0.1)\">\r\n       <use xlink:href=\"#DejaVuSans-30\"/>\r\n      </g>\r\n     </g>\r\n    </g>\r\n    <g id=\"xtick_2\">\r\n     <g id=\"line2d_2\">\r\n      <g>\r\n       <use style=\"stroke:#000000;stroke-width:0.8;\" x=\"127.755085\" xlink:href=\"#m79bf76e593\" y=\"239.758125\"/>\r\n      </g>\r\n     </g>\r\n     <g id=\"text_2\">\r\n      <!-- 10 -->\r\n      <defs>\r\n       <path d=\"M 12.40625 8.296875 \r\nL 28.515625 8.296875 \r\nL 28.515625 63.921875 \r\nL 10.984375 60.40625 \r\nL 10.984375 69.390625 \r\nL 28.421875 72.90625 \r\nL 38.28125 72.90625 \r\nL 38.28125 8.296875 \r\nL 54.390625 8.296875 \r\nL 54.390625 0 \r\nL 12.40625 0 \r\nz\r\n\" id=\"DejaVuSans-31\"/>\r\n      </defs>\r\n      <g transform=\"translate(121.392585 254.356563)scale(0.1 -0.1)\">\r\n       <use xlink:href=\"#DejaVuSans-31\"/>\r\n       <use x=\"63.623047\" xlink:href=\"#DejaVuSans-30\"/>\r\n      </g>\r\n     </g>\r\n    </g>\r\n    <g id=\"xtick_3\">\r\n     <g id=\"line2d_3\">\r\n      <g>\r\n       <use style=\"stroke:#000000;stroke-width:0.8;\" x=\"189.870112\" xlink:href=\"#m79bf76e593\" y=\"239.758125\"/>\r\n      </g>\r\n     </g>\r\n     <g id=\"text_3\">\r\n      <!-- 20 -->\r\n      <defs>\r\n       <path d=\"M 19.1875 8.296875 \r\nL 53.609375 8.296875 \r\nL 53.609375 0 \r\nL 7.328125 0 \r\nL 7.328125 8.296875 \r\nQ 12.9375 14.109375 22.625 23.890625 \r\nQ 32.328125 33.6875 34.8125 36.53125 \r\nQ 39.546875 41.84375 41.421875 45.53125 \r\nQ 43.3125 49.21875 43.3125 52.78125 \r\nQ 43.3125 58.59375 39.234375 62.25 \r\nQ 35.15625 65.921875 28.609375 65.921875 \r\nQ 23.96875 65.921875 18.8125 64.3125 \r\nQ 13.671875 62.703125 7.8125 59.421875 \r\nL 7.8125 69.390625 \r\nQ 13.765625 71.78125 18.9375 73 \r\nQ 24.125 74.21875 28.421875 74.21875 \r\nQ 39.75 74.21875 46.484375 68.546875 \r\nQ 53.21875 62.890625 53.21875 53.421875 \r\nQ 53.21875 48.921875 51.53125 44.890625 \r\nQ 49.859375 40.875 45.40625 35.40625 \r\nQ 44.1875 33.984375 37.640625 27.21875 \r\nQ 31.109375 20.453125 19.1875 8.296875 \r\nz\r\n\" id=\"DejaVuSans-32\"/>\r\n      </defs>\r\n      <g transform=\"translate(183.507612 254.356563)scale(0.1 -0.1)\">\r\n       <use xlink:href=\"#DejaVuSans-32\"/>\r\n       <use x=\"63.623047\" xlink:href=\"#DejaVuSans-30\"/>\r\n      </g>\r\n     </g>\r\n    </g>\r\n    <g id=\"xtick_4\">\r\n     <g id=\"line2d_4\">\r\n      <g>\r\n       <use style=\"stroke:#000000;stroke-width:0.8;\" x=\"251.98514\" xlink:href=\"#m79bf76e593\" y=\"239.758125\"/>\r\n      </g>\r\n     </g>\r\n     <g id=\"text_4\">\r\n      <!-- 30 -->\r\n      <defs>\r\n       <path d=\"M 40.578125 39.3125 \r\nQ 47.65625 37.796875 51.625 33 \r\nQ 55.609375 28.21875 55.609375 21.1875 \r\nQ 55.609375 10.40625 48.1875 4.484375 \r\nQ 40.765625 -1.421875 27.09375 -1.421875 \r\nQ 22.515625 -1.421875 17.65625 -0.515625 \r\nQ 12.796875 0.390625 7.625 2.203125 \r\nL 7.625 11.71875 \r\nQ 11.71875 9.328125 16.59375 8.109375 \r\nQ 21.484375 6.890625 26.8125 6.890625 \r\nQ 36.078125 6.890625 40.9375 10.546875 \r\nQ 45.796875 14.203125 45.796875 21.1875 \r\nQ 45.796875 27.640625 41.28125 31.265625 \r\nQ 36.765625 34.90625 28.71875 34.90625 \r\nL 20.21875 34.90625 \r\nL 20.21875 43.015625 \r\nL 29.109375 43.015625 \r\nQ 36.375 43.015625 40.234375 45.921875 \r\nQ 44.09375 48.828125 44.09375 54.296875 \r\nQ 44.09375 59.90625 40.109375 62.90625 \r\nQ 36.140625 65.921875 28.71875 65.921875 \r\nQ 24.65625 65.921875 20.015625 65.03125 \r\nQ 15.375 64.15625 9.8125 62.3125 \r\nL 9.8125 71.09375 \r\nQ 15.4375 72.65625 20.34375 73.4375 \r\nQ 25.25 74.21875 29.59375 74.21875 \r\nQ 40.828125 74.21875 47.359375 69.109375 \r\nQ 53.90625 64.015625 53.90625 55.328125 \r\nQ 53.90625 49.265625 50.4375 45.09375 \r\nQ 46.96875 40.921875 40.578125 39.3125 \r\nz\r\n\" id=\"DejaVuSans-33\"/>\r\n      </defs>\r\n      <g transform=\"translate(245.62264 254.356563)scale(0.1 -0.1)\">\r\n       <use xlink:href=\"#DejaVuSans-33\"/>\r\n       <use x=\"63.623047\" xlink:href=\"#DejaVuSans-30\"/>\r\n      </g>\r\n     </g>\r\n    </g>\r\n    <g id=\"xtick_5\">\r\n     <g id=\"line2d_5\">\r\n      <g>\r\n       <use style=\"stroke:#000000;stroke-width:0.8;\" x=\"314.100168\" xlink:href=\"#m79bf76e593\" y=\"239.758125\"/>\r\n      </g>\r\n     </g>\r\n     <g id=\"text_5\">\r\n      <!-- 40 -->\r\n      <defs>\r\n       <path d=\"M 37.796875 64.3125 \r\nL 12.890625 25.390625 \r\nL 37.796875 25.390625 \r\nz\r\nM 35.203125 72.90625 \r\nL 47.609375 72.90625 \r\nL 47.609375 25.390625 \r\nL 58.015625 25.390625 \r\nL 58.015625 17.1875 \r\nL 47.609375 17.1875 \r\nL 47.609375 0 \r\nL 37.796875 0 \r\nL 37.796875 17.1875 \r\nL 4.890625 17.1875 \r\nL 4.890625 26.703125 \r\nz\r\n\" id=\"DejaVuSans-34\"/>\r\n      </defs>\r\n      <g transform=\"translate(307.737668 254.356563)scale(0.1 -0.1)\">\r\n       <use xlink:href=\"#DejaVuSans-34\"/>\r\n       <use x=\"63.623047\" xlink:href=\"#DejaVuSans-30\"/>\r\n      </g>\r\n     </g>\r\n    </g>\r\n    <g id=\"xtick_6\">\r\n     <g id=\"line2d_6\">\r\n      <g>\r\n       <use style=\"stroke:#000000;stroke-width:0.8;\" x=\"376.215196\" xlink:href=\"#m79bf76e593\" y=\"239.758125\"/>\r\n      </g>\r\n     </g>\r\n     <g id=\"text_6\">\r\n      <!-- 50 -->\r\n      <defs>\r\n       <path d=\"M 10.796875 72.90625 \r\nL 49.515625 72.90625 \r\nL 49.515625 64.59375 \r\nL 19.828125 64.59375 \r\nL 19.828125 46.734375 \r\nQ 21.96875 47.46875 24.109375 47.828125 \r\nQ 26.265625 48.1875 28.421875 48.1875 \r\nQ 40.625 48.1875 47.75 41.5 \r\nQ 54.890625 34.8125 54.890625 23.390625 \r\nQ 54.890625 11.625 47.5625 5.09375 \r\nQ 40.234375 -1.421875 26.90625 -1.421875 \r\nQ 22.3125 -1.421875 17.546875 -0.640625 \r\nQ 12.796875 0.140625 7.71875 1.703125 \r\nL 7.71875 11.625 \r\nQ 12.109375 9.234375 16.796875 8.0625 \r\nQ 21.484375 6.890625 26.703125 6.890625 \r\nQ 35.15625 6.890625 40.078125 11.328125 \r\nQ 45.015625 15.765625 45.015625 23.390625 \r\nQ 45.015625 31 40.078125 35.4375 \r\nQ 35.15625 39.890625 26.703125 39.890625 \r\nQ 22.75 39.890625 18.8125 39.015625 \r\nQ 14.890625 38.140625 10.796875 36.28125 \r\nz\r\n\" id=\"DejaVuSans-35\"/>\r\n      </defs>\r\n      <g transform=\"translate(369.852696 254.356563)scale(0.1 -0.1)\">\r\n       <use xlink:href=\"#DejaVuSans-35\"/>\r\n       <use x=\"63.623047\" xlink:href=\"#DejaVuSans-30\"/>\r\n      </g>\r\n     </g>\r\n    </g>\r\n    <g id=\"text_7\">\r\n     <!-- meausures_number -->\r\n     <defs>\r\n      <path d=\"M 52 44.1875 \r\nQ 55.375 50.25 60.0625 53.125 \r\nQ 64.75 56 71.09375 56 \r\nQ 79.640625 56 84.28125 50.015625 \r\nQ 88.921875 44.046875 88.921875 33.015625 \r\nL 88.921875 0 \r\nL 79.890625 0 \r\nL 79.890625 32.71875 \r\nQ 79.890625 40.578125 77.09375 44.375 \r\nQ 74.3125 48.1875 68.609375 48.1875 \r\nQ 61.625 48.1875 57.5625 43.546875 \r\nQ 53.515625 38.921875 53.515625 30.90625 \r\nL 53.515625 0 \r\nL 44.484375 0 \r\nL 44.484375 32.71875 \r\nQ 44.484375 40.625 41.703125 44.40625 \r\nQ 38.921875 48.1875 33.109375 48.1875 \r\nQ 26.21875 48.1875 22.15625 43.53125 \r\nQ 18.109375 38.875 18.109375 30.90625 \r\nL 18.109375 0 \r\nL 9.078125 0 \r\nL 9.078125 54.6875 \r\nL 18.109375 54.6875 \r\nL 18.109375 46.1875 \r\nQ 21.1875 51.21875 25.484375 53.609375 \r\nQ 29.78125 56 35.6875 56 \r\nQ 41.65625 56 45.828125 52.96875 \r\nQ 50 49.953125 52 44.1875 \r\nz\r\n\" id=\"DejaVuSans-6d\"/>\r\n      <path d=\"M 56.203125 29.59375 \r\nL 56.203125 25.203125 \r\nL 14.890625 25.203125 \r\nQ 15.484375 15.921875 20.484375 11.0625 \r\nQ 25.484375 6.203125 34.421875 6.203125 \r\nQ 39.59375 6.203125 44.453125 7.46875 \r\nQ 49.3125 8.734375 54.109375 11.28125 \r\nL 54.109375 2.78125 \r\nQ 49.265625 0.734375 44.1875 -0.34375 \r\nQ 39.109375 -1.421875 33.890625 -1.421875 \r\nQ 20.796875 -1.421875 13.15625 6.1875 \r\nQ 5.515625 13.8125 5.515625 26.8125 \r\nQ 5.515625 40.234375 12.765625 48.109375 \r\nQ 20.015625 56 32.328125 56 \r\nQ 43.359375 56 49.78125 48.890625 \r\nQ 56.203125 41.796875 56.203125 29.59375 \r\nz\r\nM 47.21875 32.234375 \r\nQ 47.125 39.59375 43.09375 43.984375 \r\nQ 39.0625 48.390625 32.421875 48.390625 \r\nQ 24.90625 48.390625 20.390625 44.140625 \r\nQ 15.875 39.890625 15.1875 32.171875 \r\nz\r\n\" id=\"DejaVuSans-65\"/>\r\n      <path d=\"M 34.28125 27.484375 \r\nQ 23.390625 27.484375 19.1875 25 \r\nQ 14.984375 22.515625 14.984375 16.5 \r\nQ 14.984375 11.71875 18.140625 8.90625 \r\nQ 21.296875 6.109375 26.703125 6.109375 \r\nQ 34.1875 6.109375 38.703125 11.40625 \r\nQ 43.21875 16.703125 43.21875 25.484375 \r\nL 43.21875 27.484375 \r\nz\r\nM 52.203125 31.203125 \r\nL 52.203125 0 \r\nL 43.21875 0 \r\nL 43.21875 8.296875 \r\nQ 40.140625 3.328125 35.546875 0.953125 \r\nQ 30.953125 -1.421875 24.3125 -1.421875 \r\nQ 15.921875 -1.421875 10.953125 3.296875 \r\nQ 6 8.015625 6 15.921875 \r\nQ 6 25.140625 12.171875 29.828125 \r\nQ 18.359375 34.515625 30.609375 34.515625 \r\nL 43.21875 34.515625 \r\nL 43.21875 35.40625 \r\nQ 43.21875 41.609375 39.140625 45 \r\nQ 35.0625 48.390625 27.6875 48.390625 \r\nQ 23 48.390625 18.546875 47.265625 \r\nQ 14.109375 46.140625 10.015625 43.890625 \r\nL 10.015625 52.203125 \r\nQ 14.9375 54.109375 19.578125 55.046875 \r\nQ 24.21875 56 28.609375 56 \r\nQ 40.484375 56 46.34375 49.84375 \r\nQ 52.203125 43.703125 52.203125 31.203125 \r\nz\r\n\" id=\"DejaVuSans-61\"/>\r\n      <path d=\"M 8.5 21.578125 \r\nL 8.5 54.6875 \r\nL 17.484375 54.6875 \r\nL 17.484375 21.921875 \r\nQ 17.484375 14.15625 20.5 10.265625 \r\nQ 23.53125 6.390625 29.59375 6.390625 \r\nQ 36.859375 6.390625 41.078125 11.03125 \r\nQ 45.3125 15.671875 45.3125 23.6875 \r\nL 45.3125 54.6875 \r\nL 54.296875 54.6875 \r\nL 54.296875 0 \r\nL 45.3125 0 \r\nL 45.3125 8.40625 \r\nQ 42.046875 3.421875 37.71875 1 \r\nQ 33.40625 -1.421875 27.6875 -1.421875 \r\nQ 18.265625 -1.421875 13.375 4.4375 \r\nQ 8.5 10.296875 8.5 21.578125 \r\nz\r\nM 31.109375 56 \r\nz\r\n\" id=\"DejaVuSans-75\"/>\r\n      <path d=\"M 44.28125 53.078125 \r\nL 44.28125 44.578125 \r\nQ 40.484375 46.53125 36.375 47.5 \r\nQ 32.28125 48.484375 27.875 48.484375 \r\nQ 21.1875 48.484375 17.84375 46.4375 \r\nQ 14.5 44.390625 14.5 40.28125 \r\nQ 14.5 37.15625 16.890625 35.375 \r\nQ 19.28125 33.59375 26.515625 31.984375 \r\nL 29.59375 31.296875 \r\nQ 39.15625 29.25 43.1875 25.515625 \r\nQ 47.21875 21.78125 47.21875 15.09375 \r\nQ 47.21875 7.46875 41.1875 3.015625 \r\nQ 35.15625 -1.421875 24.609375 -1.421875 \r\nQ 20.21875 -1.421875 15.453125 -0.5625 \r\nQ 10.6875 0.296875 5.421875 2 \r\nL 5.421875 11.28125 \r\nQ 10.40625 8.6875 15.234375 7.390625 \r\nQ 20.0625 6.109375 24.8125 6.109375 \r\nQ 31.15625 6.109375 34.5625 8.28125 \r\nQ 37.984375 10.453125 37.984375 14.40625 \r\nQ 37.984375 18.0625 35.515625 20.015625 \r\nQ 33.0625 21.96875 24.703125 23.78125 \r\nL 21.578125 24.515625 \r\nQ 13.234375 26.265625 9.515625 29.90625 \r\nQ 5.8125 33.546875 5.8125 39.890625 \r\nQ 5.8125 47.609375 11.28125 51.796875 \r\nQ 16.75 56 26.8125 56 \r\nQ 31.78125 56 36.171875 55.265625 \r\nQ 40.578125 54.546875 44.28125 53.078125 \r\nz\r\n\" id=\"DejaVuSans-73\"/>\r\n      <path d=\"M 41.109375 46.296875 \r\nQ 39.59375 47.171875 37.8125 47.578125 \r\nQ 36.03125 48 33.890625 48 \r\nQ 26.265625 48 22.1875 43.046875 \r\nQ 18.109375 38.09375 18.109375 28.8125 \r\nL 18.109375 0 \r\nL 9.078125 0 \r\nL 9.078125 54.6875 \r\nL 18.109375 54.6875 \r\nL 18.109375 46.1875 \r\nQ 20.953125 51.171875 25.484375 53.578125 \r\nQ 30.03125 56 36.53125 56 \r\nQ 37.453125 56 38.578125 55.875 \r\nQ 39.703125 55.765625 41.0625 55.515625 \r\nz\r\n\" id=\"DejaVuSans-72\"/>\r\n      <path d=\"M 50.984375 -16.609375 \r\nL 50.984375 -23.578125 \r\nL -0.984375 -23.578125 \r\nL -0.984375 -16.609375 \r\nz\r\n\" id=\"DejaVuSans-5f\"/>\r\n      <path d=\"M 54.890625 33.015625 \r\nL 54.890625 0 \r\nL 45.90625 0 \r\nL 45.90625 32.71875 \r\nQ 45.90625 40.484375 42.875 44.328125 \r\nQ 39.84375 48.1875 33.796875 48.1875 \r\nQ 26.515625 48.1875 22.3125 43.546875 \r\nQ 18.109375 38.921875 18.109375 30.90625 \r\nL 18.109375 0 \r\nL 9.078125 0 \r\nL 9.078125 54.6875 \r\nL 18.109375 54.6875 \r\nL 18.109375 46.1875 \r\nQ 21.34375 51.125 25.703125 53.5625 \r\nQ 30.078125 56 35.796875 56 \r\nQ 45.21875 56 50.046875 50.171875 \r\nQ 54.890625 44.34375 54.890625 33.015625 \r\nz\r\n\" id=\"DejaVuSans-6e\"/>\r\n      <path d=\"M 48.6875 27.296875 \r\nQ 48.6875 37.203125 44.609375 42.84375 \r\nQ 40.53125 48.484375 33.40625 48.484375 \r\nQ 26.265625 48.484375 22.1875 42.84375 \r\nQ 18.109375 37.203125 18.109375 27.296875 \r\nQ 18.109375 17.390625 22.1875 11.75 \r\nQ 26.265625 6.109375 33.40625 6.109375 \r\nQ 40.53125 6.109375 44.609375 11.75 \r\nQ 48.6875 17.390625 48.6875 27.296875 \r\nz\r\nM 18.109375 46.390625 \r\nQ 20.953125 51.265625 25.265625 53.625 \r\nQ 29.59375 56 35.59375 56 \r\nQ 45.5625 56 51.78125 48.09375 \r\nQ 58.015625 40.1875 58.015625 27.296875 \r\nQ 58.015625 14.40625 51.78125 6.484375 \r\nQ 45.5625 -1.421875 35.59375 -1.421875 \r\nQ 29.59375 -1.421875 25.265625 0.953125 \r\nQ 20.953125 3.328125 18.109375 8.203125 \r\nL 18.109375 0 \r\nL 9.078125 0 \r\nL 9.078125 75.984375 \r\nL 18.109375 75.984375 \r\nz\r\n\" id=\"DejaVuSans-62\"/>\r\n     </defs>\r\n     <g transform=\"translate(168.119531 268.034688)scale(0.1 -0.1)\">\r\n      <use xlink:href=\"#DejaVuSans-6d\"/>\r\n      <use x=\"97.412109\" xlink:href=\"#DejaVuSans-65\"/>\r\n      <use x=\"158.935547\" xlink:href=\"#DejaVuSans-61\"/>\r\n      <use x=\"220.214844\" xlink:href=\"#DejaVuSans-75\"/>\r\n      <use x=\"283.59375\" xlink:href=\"#DejaVuSans-73\"/>\r\n      <use x=\"335.693359\" xlink:href=\"#DejaVuSans-75\"/>\r\n      <use x=\"399.072266\" xlink:href=\"#DejaVuSans-72\"/>\r\n      <use x=\"440.154297\" xlink:href=\"#DejaVuSans-65\"/>\r\n      <use x=\"501.677734\" xlink:href=\"#DejaVuSans-73\"/>\r\n      <use x=\"553.777344\" xlink:href=\"#DejaVuSans-5f\"/>\r\n      <use x=\"603.777344\" xlink:href=\"#DejaVuSans-6e\"/>\r\n      <use x=\"667.15625\" xlink:href=\"#DejaVuSans-75\"/>\r\n      <use x=\"730.535156\" xlink:href=\"#DejaVuSans-6d\"/>\r\n      <use x=\"827.947266\" xlink:href=\"#DejaVuSans-62\"/>\r\n      <use x=\"891.423828\" xlink:href=\"#DejaVuSans-65\"/>\r\n      <use x=\"952.947266\" xlink:href=\"#DejaVuSans-72\"/>\r\n     </g>\r\n    </g>\r\n   </g>\r\n   <g id=\"matplotlib.axis_2\">\r\n    <g id=\"ytick_1\">\r\n     <g id=\"line2d_7\">\r\n      <defs>\r\n       <path d=\"M 0 0 \r\nL -3.5 0 \r\n\" id=\"m957b0e184a\" style=\"stroke:#000000;stroke-width:0.8;\"/>\r\n      </defs>\r\n      <g>\r\n       <use style=\"stroke:#000000;stroke-width:0.8;\" x=\"50.421875\" xlink:href=\"#m957b0e184a\" y=\"224.450889\"/>\r\n      </g>\r\n     </g>\r\n     <g id=\"text_8\">\r\n      <!-- 0.90 -->\r\n      <defs>\r\n       <path d=\"M 10.6875 12.40625 \r\nL 21 12.40625 \r\nL 21 0 \r\nL 10.6875 0 \r\nz\r\n\" id=\"DejaVuSans-2e\"/>\r\n       <path d=\"M 10.984375 1.515625 \r\nL 10.984375 10.5 \r\nQ 14.703125 8.734375 18.5 7.8125 \r\nQ 22.3125 6.890625 25.984375 6.890625 \r\nQ 35.75 6.890625 40.890625 13.453125 \r\nQ 46.046875 20.015625 46.78125 33.40625 \r\nQ 43.953125 29.203125 39.59375 26.953125 \r\nQ 35.25 24.703125 29.984375 24.703125 \r\nQ 19.046875 24.703125 12.671875 31.3125 \r\nQ 6.296875 37.9375 6.296875 49.421875 \r\nQ 6.296875 60.640625 12.9375 67.421875 \r\nQ 19.578125 74.21875 30.609375 74.21875 \r\nQ 43.265625 74.21875 49.921875 64.515625 \r\nQ 56.59375 54.828125 56.59375 36.375 \r\nQ 56.59375 19.140625 48.40625 8.859375 \r\nQ 40.234375 -1.421875 26.421875 -1.421875 \r\nQ 22.703125 -1.421875 18.890625 -0.6875 \r\nQ 15.09375 0.046875 10.984375 1.515625 \r\nz\r\nM 30.609375 32.421875 \r\nQ 37.25 32.421875 41.125 36.953125 \r\nQ 45.015625 41.5 45.015625 49.421875 \r\nQ 45.015625 57.28125 41.125 61.84375 \r\nQ 37.25 66.40625 30.609375 66.40625 \r\nQ 23.96875 66.40625 20.09375 61.84375 \r\nQ 16.21875 57.28125 16.21875 49.421875 \r\nQ 16.21875 41.5 20.09375 36.953125 \r\nQ 23.96875 32.421875 30.609375 32.421875 \r\nz\r\n\" id=\"DejaVuSans-39\"/>\r\n      </defs>\r\n      <g transform=\"translate(21.15625 228.250108)scale(0.1 -0.1)\">\r\n       <use xlink:href=\"#DejaVuSans-30\"/>\r\n       <use x=\"63.623047\" xlink:href=\"#DejaVuSans-2e\"/>\r\n       <use x=\"95.410156\" xlink:href=\"#DejaVuSans-39\"/>\r\n       <use x=\"159.033203\" xlink:href=\"#DejaVuSans-30\"/>\r\n      </g>\r\n     </g>\r\n    </g>\r\n    <g id=\"ytick_2\">\r\n     <g id=\"line2d_8\">\r\n      <g>\r\n       <use style=\"stroke:#000000;stroke-width:0.8;\" x=\"50.421875\" xlink:href=\"#m957b0e184a\" y=\"198.65005\"/>\r\n      </g>\r\n     </g>\r\n     <g id=\"text_9\">\r\n      <!-- 0.91 -->\r\n      <g transform=\"translate(21.15625 202.449269)scale(0.1 -0.1)\">\r\n       <use xlink:href=\"#DejaVuSans-30\"/>\r\n       <use x=\"63.623047\" xlink:href=\"#DejaVuSans-2e\"/>\r\n       <use x=\"95.410156\" xlink:href=\"#DejaVuSans-39\"/>\r\n       <use x=\"159.033203\" xlink:href=\"#DejaVuSans-31\"/>\r\n      </g>\r\n     </g>\r\n    </g>\r\n    <g id=\"ytick_3\">\r\n     <g id=\"line2d_9\">\r\n      <g>\r\n       <use style=\"stroke:#000000;stroke-width:0.8;\" x=\"50.421875\" xlink:href=\"#m957b0e184a\" y=\"172.849212\"/>\r\n      </g>\r\n     </g>\r\n     <g id=\"text_10\">\r\n      <!-- 0.92 -->\r\n      <g transform=\"translate(21.15625 176.64843)scale(0.1 -0.1)\">\r\n       <use xlink:href=\"#DejaVuSans-30\"/>\r\n       <use x=\"63.623047\" xlink:href=\"#DejaVuSans-2e\"/>\r\n       <use x=\"95.410156\" xlink:href=\"#DejaVuSans-39\"/>\r\n       <use x=\"159.033203\" xlink:href=\"#DejaVuSans-32\"/>\r\n      </g>\r\n     </g>\r\n    </g>\r\n    <g id=\"ytick_4\">\r\n     <g id=\"line2d_10\">\r\n      <g>\r\n       <use style=\"stroke:#000000;stroke-width:0.8;\" x=\"50.421875\" xlink:href=\"#m957b0e184a\" y=\"147.048373\"/>\r\n      </g>\r\n     </g>\r\n     <g id=\"text_11\">\r\n      <!-- 0.93 -->\r\n      <g transform=\"translate(21.15625 150.847592)scale(0.1 -0.1)\">\r\n       <use xlink:href=\"#DejaVuSans-30\"/>\r\n       <use x=\"63.623047\" xlink:href=\"#DejaVuSans-2e\"/>\r\n       <use x=\"95.410156\" xlink:href=\"#DejaVuSans-39\"/>\r\n       <use x=\"159.033203\" xlink:href=\"#DejaVuSans-33\"/>\r\n      </g>\r\n     </g>\r\n    </g>\r\n    <g id=\"ytick_5\">\r\n     <g id=\"line2d_11\">\r\n      <g>\r\n       <use style=\"stroke:#000000;stroke-width:0.8;\" x=\"50.421875\" xlink:href=\"#m957b0e184a\" y=\"121.247534\"/>\r\n      </g>\r\n     </g>\r\n     <g id=\"text_12\">\r\n      <!-- 0.94 -->\r\n      <g transform=\"translate(21.15625 125.046753)scale(0.1 -0.1)\">\r\n       <use xlink:href=\"#DejaVuSans-30\"/>\r\n       <use x=\"63.623047\" xlink:href=\"#DejaVuSans-2e\"/>\r\n       <use x=\"95.410156\" xlink:href=\"#DejaVuSans-39\"/>\r\n       <use x=\"159.033203\" xlink:href=\"#DejaVuSans-34\"/>\r\n      </g>\r\n     </g>\r\n    </g>\r\n    <g id=\"ytick_6\">\r\n     <g id=\"line2d_12\">\r\n      <g>\r\n       <use style=\"stroke:#000000;stroke-width:0.8;\" x=\"50.421875\" xlink:href=\"#m957b0e184a\" y=\"95.446696\"/>\r\n      </g>\r\n     </g>\r\n     <g id=\"text_13\">\r\n      <!-- 0.95 -->\r\n      <g transform=\"translate(21.15625 99.245914)scale(0.1 -0.1)\">\r\n       <use xlink:href=\"#DejaVuSans-30\"/>\r\n       <use x=\"63.623047\" xlink:href=\"#DejaVuSans-2e\"/>\r\n       <use x=\"95.410156\" xlink:href=\"#DejaVuSans-39\"/>\r\n       <use x=\"159.033203\" xlink:href=\"#DejaVuSans-35\"/>\r\n      </g>\r\n     </g>\r\n    </g>\r\n    <g id=\"ytick_7\">\r\n     <g id=\"line2d_13\">\r\n      <g>\r\n       <use style=\"stroke:#000000;stroke-width:0.8;\" x=\"50.421875\" xlink:href=\"#m957b0e184a\" y=\"69.645857\"/>\r\n      </g>\r\n     </g>\r\n     <g id=\"text_14\">\r\n      <!-- 0.96 -->\r\n      <defs>\r\n       <path d=\"M 33.015625 40.375 \r\nQ 26.375 40.375 22.484375 35.828125 \r\nQ 18.609375 31.296875 18.609375 23.390625 \r\nQ 18.609375 15.53125 22.484375 10.953125 \r\nQ 26.375 6.390625 33.015625 6.390625 \r\nQ 39.65625 6.390625 43.53125 10.953125 \r\nQ 47.40625 15.53125 47.40625 23.390625 \r\nQ 47.40625 31.296875 43.53125 35.828125 \r\nQ 39.65625 40.375 33.015625 40.375 \r\nz\r\nM 52.59375 71.296875 \r\nL 52.59375 62.3125 \r\nQ 48.875 64.0625 45.09375 64.984375 \r\nQ 41.3125 65.921875 37.59375 65.921875 \r\nQ 27.828125 65.921875 22.671875 59.328125 \r\nQ 17.53125 52.734375 16.796875 39.40625 \r\nQ 19.671875 43.65625 24.015625 45.921875 \r\nQ 28.375 48.1875 33.59375 48.1875 \r\nQ 44.578125 48.1875 50.953125 41.515625 \r\nQ 57.328125 34.859375 57.328125 23.390625 \r\nQ 57.328125 12.15625 50.6875 5.359375 \r\nQ 44.046875 -1.421875 33.015625 -1.421875 \r\nQ 20.359375 -1.421875 13.671875 8.265625 \r\nQ 6.984375 17.96875 6.984375 36.375 \r\nQ 6.984375 53.65625 15.1875 63.9375 \r\nQ 23.390625 74.21875 37.203125 74.21875 \r\nQ 40.921875 74.21875 44.703125 73.484375 \r\nQ 48.484375 72.75 52.59375 71.296875 \r\nz\r\n\" id=\"DejaVuSans-36\"/>\r\n      </defs>\r\n      <g transform=\"translate(21.15625 73.445076)scale(0.1 -0.1)\">\r\n       <use xlink:href=\"#DejaVuSans-30\"/>\r\n       <use x=\"63.623047\" xlink:href=\"#DejaVuSans-2e\"/>\r\n       <use x=\"95.410156\" xlink:href=\"#DejaVuSans-39\"/>\r\n       <use x=\"159.033203\" xlink:href=\"#DejaVuSans-36\"/>\r\n      </g>\r\n     </g>\r\n    </g>\r\n    <g id=\"ytick_8\">\r\n     <g id=\"line2d_14\">\r\n      <g>\r\n       <use style=\"stroke:#000000;stroke-width:0.8;\" x=\"50.421875\" xlink:href=\"#m957b0e184a\" y=\"43.845018\"/>\r\n      </g>\r\n     </g>\r\n     <g id=\"text_15\">\r\n      <!-- 0.97 -->\r\n      <defs>\r\n       <path d=\"M 8.203125 72.90625 \r\nL 55.078125 72.90625 \r\nL 55.078125 68.703125 \r\nL 28.609375 0 \r\nL 18.3125 0 \r\nL 43.21875 64.59375 \r\nL 8.203125 64.59375 \r\nz\r\n\" id=\"DejaVuSans-37\"/>\r\n      </defs>\r\n      <g transform=\"translate(21.15625 47.644237)scale(0.1 -0.1)\">\r\n       <use xlink:href=\"#DejaVuSans-30\"/>\r\n       <use x=\"63.623047\" xlink:href=\"#DejaVuSans-2e\"/>\r\n       <use x=\"95.410156\" xlink:href=\"#DejaVuSans-39\"/>\r\n       <use x=\"159.033203\" xlink:href=\"#DejaVuSans-37\"/>\r\n      </g>\r\n     </g>\r\n    </g>\r\n    <g id=\"text_16\">\r\n     <!-- f1_micro -->\r\n     <defs>\r\n      <path d=\"M 37.109375 75.984375 \r\nL 37.109375 68.5 \r\nL 28.515625 68.5 \r\nQ 23.6875 68.5 21.796875 66.546875 \r\nQ 19.921875 64.59375 19.921875 59.515625 \r\nL 19.921875 54.6875 \r\nL 34.71875 54.6875 \r\nL 34.71875 47.703125 \r\nL 19.921875 47.703125 \r\nL 19.921875 0 \r\nL 10.890625 0 \r\nL 10.890625 47.703125 \r\nL 2.296875 47.703125 \r\nL 2.296875 54.6875 \r\nL 10.890625 54.6875 \r\nL 10.890625 58.5 \r\nQ 10.890625 67.625 15.140625 71.796875 \r\nQ 19.390625 75.984375 28.609375 75.984375 \r\nz\r\n\" id=\"DejaVuSans-66\"/>\r\n      <path d=\"M 9.421875 54.6875 \r\nL 18.40625 54.6875 \r\nL 18.40625 0 \r\nL 9.421875 0 \r\nz\r\nM 9.421875 75.984375 \r\nL 18.40625 75.984375 \r\nL 18.40625 64.59375 \r\nL 9.421875 64.59375 \r\nz\r\n\" id=\"DejaVuSans-69\"/>\r\n      <path d=\"M 48.78125 52.59375 \r\nL 48.78125 44.1875 \r\nQ 44.96875 46.296875 41.140625 47.34375 \r\nQ 37.3125 48.390625 33.40625 48.390625 \r\nQ 24.65625 48.390625 19.8125 42.84375 \r\nQ 14.984375 37.3125 14.984375 27.296875 \r\nQ 14.984375 17.28125 19.8125 11.734375 \r\nQ 24.65625 6.203125 33.40625 6.203125 \r\nQ 37.3125 6.203125 41.140625 7.25 \r\nQ 44.96875 8.296875 48.78125 10.40625 \r\nL 48.78125 2.09375 \r\nQ 45.015625 0.34375 40.984375 -0.53125 \r\nQ 36.96875 -1.421875 32.421875 -1.421875 \r\nQ 20.0625 -1.421875 12.78125 6.34375 \r\nQ 5.515625 14.109375 5.515625 27.296875 \r\nQ 5.515625 40.671875 12.859375 48.328125 \r\nQ 20.21875 56 33.015625 56 \r\nQ 37.15625 56 41.109375 55.140625 \r\nQ 45.0625 54.296875 48.78125 52.59375 \r\nz\r\n\" id=\"DejaVuSans-63\"/>\r\n      <path d=\"M 30.609375 48.390625 \r\nQ 23.390625 48.390625 19.1875 42.75 \r\nQ 14.984375 37.109375 14.984375 27.296875 \r\nQ 14.984375 17.484375 19.15625 11.84375 \r\nQ 23.34375 6.203125 30.609375 6.203125 \r\nQ 37.796875 6.203125 41.984375 11.859375 \r\nQ 46.1875 17.53125 46.1875 27.296875 \r\nQ 46.1875 37.015625 41.984375 42.703125 \r\nQ 37.796875 48.390625 30.609375 48.390625 \r\nz\r\nM 30.609375 56 \r\nQ 42.328125 56 49.015625 48.375 \r\nQ 55.71875 40.765625 55.71875 27.296875 \r\nQ 55.71875 13.875 49.015625 6.21875 \r\nQ 42.328125 -1.421875 30.609375 -1.421875 \r\nQ 18.84375 -1.421875 12.171875 6.21875 \r\nQ 5.515625 13.875 5.515625 27.296875 \r\nQ 5.515625 40.765625 12.171875 48.375 \r\nQ 18.84375 56 30.609375 56 \r\nz\r\n\" id=\"DejaVuSans-6f\"/>\r\n     </defs>\r\n     <g transform=\"translate(14.798438 152.601406)rotate(-90)scale(0.1 -0.1)\">\r\n      <use xlink:href=\"#DejaVuSans-66\"/>\r\n      <use x=\"35.205078\" xlink:href=\"#DejaVuSans-31\"/>\r\n      <use x=\"98.828125\" xlink:href=\"#DejaVuSans-5f\"/>\r\n      <use x=\"148.828125\" xlink:href=\"#DejaVuSans-6d\"/>\r\n      <use x=\"246.240234\" xlink:href=\"#DejaVuSans-69\"/>\r\n      <use x=\"274.023438\" xlink:href=\"#DejaVuSans-63\"/>\r\n      <use x=\"329.003906\" xlink:href=\"#DejaVuSans-72\"/>\r\n      <use x=\"370.085938\" xlink:href=\"#DejaVuSans-6f\"/>\r\n     </g>\r\n    </g>\r\n   </g>\r\n   <g id=\"line2d_15\">\r\n    <path clip-path=\"url(#p5a9be1d186)\" d=\"M 65.640057 152.115704 \r\nL 71.85156 140.511129 \r\nL 78.063062 152.115704 \r\nL 84.274565 229.874489 \r\nL 90.486068 214.378489 \r\nL 96.697571 155.983896 \r\nL 102.909074 186.929429 \r\nL 109.120576 214.006771 \r\nL 115.332079 183.386491 \r\nL 121.543582 187.260491 \r\nL 127.755085 140.511129 \r\nL 133.966587 159.852088 \r\nL 140.17809 163.720279 \r\nL 146.389593 210.50449 \r\nL 152.601096 156.268492 \r\nL 158.812599 214.006771 \r\nL 165.024101 155.983896 \r\nL 171.235604 202.402196 \r\nL 177.447107 164.016492 \r\nL 183.65861 148.520493 \r\nL 189.870112 148.247512 \r\nL 196.081615 198.534005 \r\nL 202.293118 132.774746 \r\nL 208.504621 214.378489 \r\nL 214.716124 229.874489 \r\n\" style=\"fill:none;stroke:#1f77b4;stroke-linecap:square;stroke-width:1.5;\"/>\r\n   </g>\r\n   <g id=\"line2d_16\">\r\n    <path clip-path=\"url(#p5a9be1d186)\" d=\"M 65.640057 117.301979 \r\nL 71.85156 144.379321 \r\nL 78.063062 159.852088 \r\nL 84.274565 160.142492 \r\nL 90.486068 136.898494 \r\nL 96.697571 125.038362 \r\nL 102.909074 136.642937 \r\nL 109.120576 140.511129 \r\nL 115.332079 78.788497 \r\nL 121.543582 125.276494 \r\nL 127.755085 63.147295 \r\nL 133.966587 140.511129 \r\nL 140.17809 155.983896 \r\nL 146.389593 148.520493 \r\nL 152.601096 125.276494 \r\nL 158.812599 144.379321 \r\nL 165.024101 132.774746 \r\nL 171.235604 105.697404 \r\nL 177.447107 105.906495 \r\nL 183.65861 74.914497 \r\nL 189.870112 121.17017 \r\nL 196.081615 90.224637 \r\nL 202.293118 155.983896 \r\nL 208.504621 117.528495 \r\nL 214.716124 133.024494 \r\n\" style=\"fill:none;stroke:#ff7f0e;stroke-linecap:square;stroke-width:1.5;\"/>\r\n   </g>\r\n   <g id=\"line2d_17\">\r\n    <path clip-path=\"url(#p5a9be1d186)\" d=\"M 65.640057 86.356445 \r\nL 71.85156 78.620062 \r\nL 78.063062 105.697404 \r\nL 84.274565 67.166497 \r\nL 90.486068 121.402494 \r\nL 96.697571 90.224637 \r\nL 102.909074 113.433787 \r\nL 109.120576 97.96102 \r\nL 115.332079 90.410496 \r\nL 121.543582 121.402494 \r\nL 127.755085 94.092829 \r\nL 133.966587 132.774746 \r\nL 140.17809 97.96102 \r\nL 146.389593 78.788497 \r\nL 152.601096 94.284496 \r\nL 158.812599 101.829212 \r\nL 165.024101 78.620062 \r\nL 171.235604 97.96102 \r\nL 177.447107 90.410496 \r\nL 183.65861 94.284496 \r\nL 189.870112 74.75187 \r\nL 196.081615 94.092829 \r\nL 202.293118 86.356445 \r\nL 208.504621 125.276494 \r\nL 214.716124 74.914497 \r\n\" style=\"fill:none;stroke:#2ca02c;stroke-linecap:square;stroke-width:1.5;\"/>\r\n   </g>\r\n   <g id=\"line2d_18\">\r\n    <path clip-path=\"url(#p5a9be1d186)\" d=\"M 65.640057 74.75187 \r\nL 71.85156 94.092829 \r\nL 78.063062 74.75187 \r\nL 84.274565 86.536496 \r\nL 90.486068 82.662496 \r\nL 96.697571 70.883678 \r\nL 102.909074 70.883678 \r\nL 109.120576 51.54272 \r\nL 115.332079 90.410496 \r\nL 121.543582 59.418498 \r\nL 127.755085 86.356445 \r\nL 133.966587 97.96102 \r\nL 140.17809 78.620062 \r\nL 146.389593 74.914497 \r\nL 152.601096 94.284496 \r\nL 158.812599 78.620062 \r\nL 165.024101 90.224637 \r\nL 171.235604 82.488253 \r\nL 177.447107 94.284496 \r\nL 183.65861 59.418498 \r\nL 189.870112 67.015487 \r\nL 196.081615 43.806336 \r\nL 202.293118 90.224637 \r\nL 208.504621 117.528495 \r\nL 214.716124 67.166497 \r\n\" style=\"fill:none;stroke:#d62728;stroke-linecap:square;stroke-width:1.5;\"/>\r\n   </g>\r\n   <g id=\"line2d_19\">\r\n    <path clip-path=\"url(#p5a9be1d186)\" d=\"M 65.640057 70.883678 \r\nL 71.85156 67.015487 \r\nL 78.063062 39.938145 \r\nL 84.274565 74.914497 \r\nL 90.486068 59.418498 \r\nL 96.697571 70.883678 \r\nL 102.909074 86.356445 \r\nL 109.120576 43.806336 \r\nL 115.332079 67.166497 \r\nL 121.543582 67.166497 \r\nL 127.755085 47.674528 \r\nL 133.966587 59.279103 \r\nL 140.17809 67.015487 \r\nL 146.389593 78.788497 \r\nL 152.601096 98.158496 \r\nL 158.812599 59.279103 \r\nL 165.024101 97.96102 \r\nL 171.235604 47.674528 \r\nL 177.447107 59.418498 \r\nL 183.65861 78.788497 \r\nL 189.870112 74.75187 \r\nL 196.081615 63.147295 \r\nL 202.293118 63.147295 \r\nL 208.504621 59.418498 \r\nL 214.716124 63.292497 \r\n\" style=\"fill:none;stroke:#9467bd;stroke-linecap:square;stroke-width:1.5;\"/>\r\n   </g>\r\n   <g id=\"line2d_20\">\r\n    <path clip-path=\"url(#p5a9be1d186)\" d=\"M 65.640057 59.279103 \r\nL 71.85156 43.806336 \r\nL 78.063062 78.620062 \r\nL 84.274565 90.410496 \r\nL 90.486068 51.670498 \r\nL 96.697571 36.069953 \r\nL 102.909074 47.674528 \r\nL 109.120576 67.015487 \r\nL 115.332079 74.914497 \r\nL 121.543582 105.906495 \r\nL 127.755085 70.883678 \r\nL 133.966587 63.147295 \r\nL 140.17809 59.279103 \r\nL 146.389593 47.796498 \r\nL 152.601096 74.914497 \r\nL 158.812599 67.015487 \r\nL 165.024101 63.147295 \r\nL 171.235604 70.883678 \r\nL 177.447107 47.796498 \r\nL 183.65861 78.788497 \r\nL 189.870112 47.674528 \r\nL 196.081615 94.092829 \r\nL 202.293118 74.75187 \r\nL 208.504621 51.670498 \r\nL 214.716124 78.788497 \r\n\" style=\"fill:none;stroke:#8c564b;stroke-linecap:square;stroke-width:1.5;\"/>\r\n   </g>\r\n   <g id=\"line2d_21\">\r\n    <path clip-path=\"url(#p5a9be1d186)\" d=\"M 65.640057 55.410912 \r\nL 71.85156 63.147295 \r\nL 78.063062 70.883678 \r\nL 84.274565 74.914497 \r\nL 90.486068 40.048499 \r\nL 96.697571 55.410912 \r\nL 102.909074 39.938145 \r\nL 109.120576 67.015487 \r\nL 115.332079 82.662496 \r\nL 121.543582 63.292497 \r\nL 127.755085 59.279103 \r\nL 133.966587 67.015487 \r\nL 140.17809 86.356445 \r\nL 146.389593 82.662496 \r\nL 152.601096 40.048499 \r\nL 158.812599 78.620062 \r\nL 165.024101 43.806336 \r\nL 171.235604 90.224637 \r\nL 177.447107 40.048499 \r\nL 183.65861 55.544498 \r\nL 189.870112 63.147295 \r\nL 196.081615 39.938145 \r\nL 202.293118 67.015487 \r\nL 208.504621 47.796498 \r\nL 214.716124 90.410496 \r\nL 220.927626 70.883678 \r\nL 227.139129 70.883678 \r\nL 233.350632 55.410912 \r\nL 239.562135 74.914497 \r\nL 245.773638 74.914497 \r\nL 251.98514 51.54272 \r\nL 258.196643 74.75187 \r\nL 264.408146 47.674528 \r\nL 270.619649 67.166497 \r\nL 276.831151 78.788497 \r\nL 283.042654 78.620062 \r\nL 289.254157 55.410912 \r\nL 295.46566 51.54272 \r\nL 301.677163 67.166497 \r\nL 307.888665 51.670498 \r\nL 314.100168 55.410912 \r\nL 320.311671 55.410912 \r\nL 326.523174 78.620062 \r\nL 332.734676 55.544498 \r\nL 338.946179 67.166497 \r\nL 345.157682 94.092829 \r\nL 351.369185 51.54272 \r\nL 357.580688 32.201761 \r\nL 363.79219 82.662496 \r\nL 370.003693 40.048499 \r\n\" style=\"fill:none;stroke:#e377c2;stroke-linecap:square;stroke-width:1.5;\"/>\r\n   </g>\r\n   <g id=\"patch_3\">\r\n    <path d=\"M 50.421875 239.758125 \r\nL 50.421875 22.318125 \r\n\" style=\"fill:none;stroke:#000000;stroke-linecap:square;stroke-linejoin:miter;stroke-width:0.8;\"/>\r\n   </g>\r\n   <g id=\"patch_4\">\r\n    <path d=\"M 385.221875 239.758125 \r\nL 385.221875 22.318125 \r\n\" style=\"fill:none;stroke:#000000;stroke-linecap:square;stroke-linejoin:miter;stroke-width:0.8;\"/>\r\n   </g>\r\n   <g id=\"patch_5\">\r\n    <path d=\"M 50.421875 239.758125 \r\nL 385.221875 239.758125 \r\n\" style=\"fill:none;stroke:#000000;stroke-linecap:square;stroke-linejoin:miter;stroke-width:0.8;\"/>\r\n   </g>\r\n   <g id=\"patch_6\">\r\n    <path d=\"M 50.421875 22.318125 \r\nL 385.221875 22.318125 \r\n\" style=\"fill:none;stroke:#000000;stroke-linecap:square;stroke-linejoin:miter;stroke-width:0.8;\"/>\r\n   </g>\r\n   <g id=\"text_17\">\r\n    <!-- By trees_number -->\r\n    <defs>\r\n     <path d=\"M 19.671875 34.8125 \r\nL 19.671875 8.109375 \r\nL 35.5 8.109375 \r\nQ 43.453125 8.109375 47.28125 11.40625 \r\nQ 51.125 14.703125 51.125 21.484375 \r\nQ 51.125 28.328125 47.28125 31.5625 \r\nQ 43.453125 34.8125 35.5 34.8125 \r\nz\r\nM 19.671875 64.796875 \r\nL 19.671875 42.828125 \r\nL 34.28125 42.828125 \r\nQ 41.5 42.828125 45.03125 45.53125 \r\nQ 48.578125 48.25 48.578125 53.8125 \r\nQ 48.578125 59.328125 45.03125 62.0625 \r\nQ 41.5 64.796875 34.28125 64.796875 \r\nz\r\nM 9.8125 72.90625 \r\nL 35.015625 72.90625 \r\nQ 46.296875 72.90625 52.390625 68.21875 \r\nQ 58.5 63.53125 58.5 54.890625 \r\nQ 58.5 48.1875 55.375 44.234375 \r\nQ 52.25 40.28125 46.1875 39.3125 \r\nQ 53.46875 37.75 57.5 32.78125 \r\nQ 61.53125 27.828125 61.53125 20.40625 \r\nQ 61.53125 10.640625 54.890625 5.3125 \r\nQ 48.25 0 35.984375 0 \r\nL 9.8125 0 \r\nz\r\n\" id=\"DejaVuSans-42\"/>\r\n     <path d=\"M 32.171875 -5.078125 \r\nQ 28.375 -14.84375 24.75 -17.8125 \r\nQ 21.140625 -20.796875 15.09375 -20.796875 \r\nL 7.90625 -20.796875 \r\nL 7.90625 -13.28125 \r\nL 13.1875 -13.28125 \r\nQ 16.890625 -13.28125 18.9375 -11.515625 \r\nQ 21 -9.765625 23.484375 -3.21875 \r\nL 25.09375 0.875 \r\nL 2.984375 54.6875 \r\nL 12.5 54.6875 \r\nL 29.59375 11.921875 \r\nL 46.6875 54.6875 \r\nL 56.203125 54.6875 \r\nz\r\n\" id=\"DejaVuSans-79\"/>\r\n     <path id=\"DejaVuSans-20\"/>\r\n     <path d=\"M 18.3125 70.21875 \r\nL 18.3125 54.6875 \r\nL 36.8125 54.6875 \r\nL 36.8125 47.703125 \r\nL 18.3125 47.703125 \r\nL 18.3125 18.015625 \r\nQ 18.3125 11.328125 20.140625 9.421875 \r\nQ 21.96875 7.515625 27.59375 7.515625 \r\nL 36.8125 7.515625 \r\nL 36.8125 0 \r\nL 27.59375 0 \r\nQ 17.1875 0 13.234375 3.875 \r\nQ 9.28125 7.765625 9.28125 18.015625 \r\nL 9.28125 47.703125 \r\nL 2.6875 47.703125 \r\nL 2.6875 54.6875 \r\nL 9.28125 54.6875 \r\nL 9.28125 70.21875 \r\nz\r\n\" id=\"DejaVuSans-74\"/>\r\n    </defs>\r\n    <g transform=\"translate(166.504063 16.318125)scale(0.12 -0.12)\">\r\n     <use xlink:href=\"#DejaVuSans-42\"/>\r\n     <use x=\"68.603516\" xlink:href=\"#DejaVuSans-79\"/>\r\n     <use x=\"127.783203\" xlink:href=\"#DejaVuSans-20\"/>\r\n     <use x=\"159.570312\" xlink:href=\"#DejaVuSans-74\"/>\r\n     <use x=\"198.779297\" xlink:href=\"#DejaVuSans-72\"/>\r\n     <use x=\"239.861328\" xlink:href=\"#DejaVuSans-65\"/>\r\n     <use x=\"301.384766\" xlink:href=\"#DejaVuSans-65\"/>\r\n     <use x=\"362.908203\" xlink:href=\"#DejaVuSans-73\"/>\r\n     <use x=\"415.007812\" xlink:href=\"#DejaVuSans-5f\"/>\r\n     <use x=\"465.007812\" xlink:href=\"#DejaVuSans-6e\"/>\r\n     <use x=\"528.386719\" xlink:href=\"#DejaVuSans-75\"/>\r\n     <use x=\"591.765625\" xlink:href=\"#DejaVuSans-6d\"/>\r\n     <use x=\"689.177734\" xlink:href=\"#DejaVuSans-62\"/>\r\n     <use x=\"752.654297\" xlink:href=\"#DejaVuSans-65\"/>\r\n     <use x=\"814.177734\" xlink:href=\"#DejaVuSans-72\"/>\r\n    </g>\r\n   </g>\r\n   <g id=\"legend_1\">\r\n    <g id=\"patch_7\">\r\n     <path d=\"M 287.451563 234.758125 \r\nL 378.221875 234.758125 \r\nQ 380.221875 234.758125 380.221875 232.758125 \r\nL 380.221875 130.733125 \r\nQ 380.221875 128.733125 378.221875 128.733125 \r\nL 287.451563 128.733125 \r\nQ 285.451563 128.733125 285.451563 130.733125 \r\nL 285.451563 232.758125 \r\nQ 285.451563 234.758125 287.451563 234.758125 \r\nz\r\n\" style=\"fill:#ffffff;opacity:0.8;stroke:#cccccc;stroke-linejoin:miter;\"/>\r\n    </g>\r\n    <g id=\"line2d_22\">\r\n     <path d=\"M 289.451563 136.831563 \r\nL 309.451563 136.831563 \r\n\" style=\"fill:none;stroke:#1f77b4;stroke-linecap:square;stroke-width:1.5;\"/>\r\n    </g>\r\n    <g id=\"line2d_23\"/>\r\n    <g id=\"text_18\">\r\n     <!-- 1 -->\r\n     <g transform=\"translate(317.451563 140.331563)scale(0.1 -0.1)\">\r\n      <use xlink:href=\"#DejaVuSans-31\"/>\r\n     </g>\r\n    </g>\r\n    <g id=\"line2d_24\">\r\n     <path d=\"M 289.451563 151.509688 \r\nL 309.451563 151.509688 \r\n\" style=\"fill:none;stroke:#ff7f0e;stroke-linecap:square;stroke-width:1.5;\"/>\r\n    </g>\r\n    <g id=\"line2d_25\"/>\r\n    <g id=\"text_19\">\r\n     <!-- 2 -->\r\n     <g transform=\"translate(317.451563 155.009688)scale(0.1 -0.1)\">\r\n      <use xlink:href=\"#DejaVuSans-32\"/>\r\n     </g>\r\n    </g>\r\n    <g id=\"line2d_26\">\r\n     <path d=\"M 289.451563 166.187813 \r\nL 309.451563 166.187813 \r\n\" style=\"fill:none;stroke:#2ca02c;stroke-linecap:square;stroke-width:1.5;\"/>\r\n    </g>\r\n    <g id=\"line2d_27\"/>\r\n    <g id=\"text_20\">\r\n     <!-- 5 -->\r\n     <g transform=\"translate(317.451563 169.687813)scale(0.1 -0.1)\">\r\n      <use xlink:href=\"#DejaVuSans-35\"/>\r\n     </g>\r\n    </g>\r\n    <g id=\"line2d_28\">\r\n     <path d=\"M 289.451563 180.865938 \r\nL 309.451563 180.865938 \r\n\" style=\"fill:none;stroke:#d62728;stroke-linecap:square;stroke-width:1.5;\"/>\r\n    </g>\r\n    <g id=\"line2d_29\"/>\r\n    <g id=\"text_21\">\r\n     <!-- 10 -->\r\n     <g transform=\"translate(317.451563 184.365938)scale(0.1 -0.1)\">\r\n      <use xlink:href=\"#DejaVuSans-31\"/>\r\n      <use x=\"63.623047\" xlink:href=\"#DejaVuSans-30\"/>\r\n     </g>\r\n    </g>\r\n    <g id=\"line2d_30\">\r\n     <path d=\"M 289.451563 195.544063 \r\nL 309.451563 195.544063 \r\n\" style=\"fill:none;stroke:#9467bd;stroke-linecap:square;stroke-width:1.5;\"/>\r\n    </g>\r\n    <g id=\"line2d_31\"/>\r\n    <g id=\"text_22\">\r\n     <!-- 50 -->\r\n     <g transform=\"translate(317.451563 199.044063)scale(0.1 -0.1)\">\r\n      <use xlink:href=\"#DejaVuSans-35\"/>\r\n      <use x=\"63.623047\" xlink:href=\"#DejaVuSans-30\"/>\r\n     </g>\r\n    </g>\r\n    <g id=\"line2d_32\">\r\n     <path d=\"M 289.451563 210.222188 \r\nL 309.451563 210.222188 \r\n\" style=\"fill:none;stroke:#8c564b;stroke-linecap:square;stroke-width:1.5;\"/>\r\n    </g>\r\n    <g id=\"line2d_33\"/>\r\n    <g id=\"text_23\">\r\n     <!-- 100 -->\r\n     <g transform=\"translate(317.451563 213.722188)scale(0.1 -0.1)\">\r\n      <use xlink:href=\"#DejaVuSans-31\"/>\r\n      <use x=\"63.623047\" xlink:href=\"#DejaVuSans-30\"/>\r\n      <use x=\"127.246094\" xlink:href=\"#DejaVuSans-30\"/>\r\n     </g>\r\n    </g>\r\n    <g id=\"line2d_34\">\r\n     <path d=\"M 289.451563 224.900313 \r\nL 309.451563 224.900313 \r\n\" style=\"fill:none;stroke:#e377c2;stroke-linecap:square;stroke-width:1.5;\"/>\r\n    </g>\r\n    <g id=\"line2d_35\"/>\r\n    <g id=\"text_24\">\r\n     <!-- dtree_score -->\r\n     <defs>\r\n      <path d=\"M 45.40625 46.390625 \r\nL 45.40625 75.984375 \r\nL 54.390625 75.984375 \r\nL 54.390625 0 \r\nL 45.40625 0 \r\nL 45.40625 8.203125 \r\nQ 42.578125 3.328125 38.25 0.953125 \r\nQ 33.9375 -1.421875 27.875 -1.421875 \r\nQ 17.96875 -1.421875 11.734375 6.484375 \r\nQ 5.515625 14.40625 5.515625 27.296875 \r\nQ 5.515625 40.1875 11.734375 48.09375 \r\nQ 17.96875 56 27.875 56 \r\nQ 33.9375 56 38.25 53.625 \r\nQ 42.578125 51.265625 45.40625 46.390625 \r\nz\r\nM 14.796875 27.296875 \r\nQ 14.796875 17.390625 18.875 11.75 \r\nQ 22.953125 6.109375 30.078125 6.109375 \r\nQ 37.203125 6.109375 41.296875 11.75 \r\nQ 45.40625 17.390625 45.40625 27.296875 \r\nQ 45.40625 37.203125 41.296875 42.84375 \r\nQ 37.203125 48.484375 30.078125 48.484375 \r\nQ 22.953125 48.484375 18.875 42.84375 \r\nQ 14.796875 37.203125 14.796875 27.296875 \r\nz\r\n\" id=\"DejaVuSans-64\"/>\r\n     </defs>\r\n     <g transform=\"translate(317.451563 228.400313)scale(0.1 -0.1)\">\r\n      <use xlink:href=\"#DejaVuSans-64\"/>\r\n      <use x=\"63.476562\" xlink:href=\"#DejaVuSans-74\"/>\r\n      <use x=\"102.685547\" xlink:href=\"#DejaVuSans-72\"/>\r\n      <use x=\"143.767578\" xlink:href=\"#DejaVuSans-65\"/>\r\n      <use x=\"205.291016\" xlink:href=\"#DejaVuSans-65\"/>\r\n      <use x=\"266.814453\" xlink:href=\"#DejaVuSans-5f\"/>\r\n      <use x=\"316.814453\" xlink:href=\"#DejaVuSans-73\"/>\r\n      <use x=\"368.914062\" xlink:href=\"#DejaVuSans-63\"/>\r\n      <use x=\"423.894531\" xlink:href=\"#DejaVuSans-6f\"/>\r\n      <use x=\"485.076172\" xlink:href=\"#DejaVuSans-72\"/>\r\n      <use x=\"526.158203\" xlink:href=\"#DejaVuSans-65\"/>\r\n     </g>\r\n    </g>\r\n   </g>\r\n  </g>\r\n </g>\r\n <defs>\r\n  <clipPath id=\"p5a9be1d186\">\r\n   <rect height=\"217.44\" width=\"334.8\" x=\"50.421875\" y=\"22.318125\"/>\r\n  </clipPath>\r\n </defs>\r\n</svg>\r\n",
            "text/plain": [
              "<matplotlib.figure.Figure at 0x1a75d55a780>"
            ]
          },
          "metadata": {
            "tags": []
          }
        }
      ]
    },
    {
      "metadata": {
        "id": "xxtwWvSdp8WI",
        "colab_type": "text"
      },
      "cell_type": "markdown",
      "source": [
        "Видно, что результаты решающего дерева и случайного леса с кол-вом деревьев 50-100, практически не отличаются"
      ]
    },
    {
      "metadata": {
        "id": "3m4wFtIXp8WJ",
        "colab_type": "code",
        "colab": {},
        "outputId": "168934dd-664c-43f7-e996-8ef5500f655a"
      },
      "cell_type": "code",
      "source": [
        "scores = pd.DataFrame(scores)\n",
        "scores.columns = [str(i) + ' estimators' for i in scores.columns]\n",
        "scores.describe()"
      ],
      "execution_count": 0,
      "outputs": [
        {
          "output_type": "execute_result",
          "data": {
            "text/html": [
              "<div>\n",
              "<style scoped>\n",
              "    .dataframe tbody tr th:only-of-type {\n",
              "        vertical-align: middle;\n",
              "    }\n",
              "\n",
              "    .dataframe tbody tr th {\n",
              "        vertical-align: top;\n",
              "    }\n",
              "\n",
              "    .dataframe thead th {\n",
              "        text-align: right;\n",
              "    }\n",
              "</style>\n",
              "<table border=\"1\" class=\"dataframe\">\n",
              "  <thead>\n",
              "    <tr style=\"text-align: right;\">\n",
              "      <th></th>\n",
              "      <th>1 estimators</th>\n",
              "      <th>2 estimators</th>\n",
              "      <th>5 estimators</th>\n",
              "      <th>10 estimators</th>\n",
              "      <th>50 estimators</th>\n",
              "      <th>100 estimators</th>\n",
              "    </tr>\n",
              "  </thead>\n",
              "  <tbody>\n",
              "    <tr>\n",
              "      <th>count</th>\n",
              "      <td>25.000000</td>\n",
              "      <td>25.000000</td>\n",
              "      <td>25.000000</td>\n",
              "      <td>25.000000</td>\n",
              "      <td>25.000000</td>\n",
              "      <td>25.000000</td>\n",
              "    </tr>\n",
              "    <tr>\n",
              "      <th>mean</th>\n",
              "      <td>0.917908</td>\n",
              "      <td>0.938315</td>\n",
              "      <td>0.949955</td>\n",
              "      <td>0.956315</td>\n",
              "      <td>0.961175</td>\n",
              "      <td>0.961475</td>\n",
              "    </tr>\n",
              "    <tr>\n",
              "      <th>std</th>\n",
              "      <td>0.012001</td>\n",
              "      <td>0.010344</td>\n",
              "      <td>0.006553</td>\n",
              "      <td>0.006272</td>\n",
              "      <td>0.005641</td>\n",
              "      <td>0.006614</td>\n",
              "    </tr>\n",
              "    <tr>\n",
              "      <th>min</th>\n",
              "      <td>0.897898</td>\n",
              "      <td>0.924925</td>\n",
              "      <td>0.935532</td>\n",
              "      <td>0.941441</td>\n",
              "      <td>0.948949</td>\n",
              "      <td>0.945946</td>\n",
              "    </tr>\n",
              "    <tr>\n",
              "      <th>25%</th>\n",
              "      <td>0.905405</td>\n",
              "      <td>0.931034</td>\n",
              "      <td>0.947526</td>\n",
              "      <td>0.952024</td>\n",
              "      <td>0.958021</td>\n",
              "      <td>0.957958</td>\n",
              "    </tr>\n",
              "    <tr>\n",
              "      <th>50%</th>\n",
              "      <td>0.923423</td>\n",
              "      <td>0.935532</td>\n",
              "      <td>0.950525</td>\n",
              "      <td>0.956522</td>\n",
              "      <td>0.961019</td>\n",
              "      <td>0.961019</td>\n",
              "    </tr>\n",
              "    <tr>\n",
              "      <th>75%</th>\n",
              "      <td>0.928036</td>\n",
              "      <td>0.941529</td>\n",
              "      <td>0.953523</td>\n",
              "      <td>0.959520</td>\n",
              "      <td>0.963964</td>\n",
              "      <td>0.966967</td>\n",
              "    </tr>\n",
              "    <tr>\n",
              "      <th>max</th>\n",
              "      <td>0.935532</td>\n",
              "      <td>0.962519</td>\n",
              "      <td>0.960961</td>\n",
              "      <td>0.970015</td>\n",
              "      <td>0.971514</td>\n",
              "      <td>0.973013</td>\n",
              "    </tr>\n",
              "  </tbody>\n",
              "</table>\n",
              "</div>"
            ],
            "text/plain": [
              "       1 estimators  2 estimators  5 estimators  10 estimators  50 estimators  \\\n",
              "count  25.000000     25.000000     25.000000     25.000000      25.000000       \n",
              "mean   0.917908      0.938315      0.949955      0.956315       0.961175        \n",
              "std    0.012001      0.010344      0.006553      0.006272       0.005641        \n",
              "min    0.897898      0.924925      0.935532      0.941441       0.948949        \n",
              "25%    0.905405      0.931034      0.947526      0.952024       0.958021        \n",
              "50%    0.923423      0.935532      0.950525      0.956522       0.961019        \n",
              "75%    0.928036      0.941529      0.953523      0.959520       0.963964        \n",
              "max    0.935532      0.962519      0.960961      0.970015       0.971514        \n",
              "\n",
              "       100 estimators  \n",
              "count  25.000000       \n",
              "mean   0.961475        \n",
              "std    0.006614        \n",
              "min    0.945946        \n",
              "25%    0.957958        \n",
              "50%    0.961019        \n",
              "75%    0.966967        \n",
              "max    0.973013        "
            ]
          },
          "metadata": {
            "tags": []
          },
          "execution_count": 528
        }
      ]
    },
    {
      "metadata": {
        "id": "1nXuXIyXp8WM",
        "colab_type": "text"
      },
      "cell_type": "markdown",
      "source": [
        "### Задание 3  \n",
        "  \n",
        "* Настройте гиперпараметры модели Random Forest на 5-fold валдиации из 5 повторений. В качестве метрики используйте F1-score. Замерьте время, затраченное на вычисления.\n",
        "* Разделите данные на обучающую и тестовую выборки в пропорциях 70:30. Обучите Random Forest  с настроенными параметрами на обучающей выборке. На тестовой выборке оцените качество (F1-score) всего ансамбля и <u>каждого дерева отдельно</u>. Постройте график распределения качества деревьев в ансамбле и сравните результаты с качеством всего леса. Дайте комментарий.  \n",
        "* Выведите важность признаков в Random Forest, сделайте выводы. "
      ]
    },
    {
      "metadata": {
        "id": "BFN6ypSrp8WM",
        "colab_type": "code",
        "colab": {}
      },
      "cell_type": "code",
      "source": [
        "from sklearn.model_selection import GridSearchCV"
      ],
      "execution_count": 0,
      "outputs": []
    },
    {
      "metadata": {
        "id": "HMWRIxi2p8WP",
        "colab_type": "code",
        "colab": {},
        "outputId": "72b422b8-a357-426d-f3db-d7011709c45c"
      },
      "cell_type": "code",
      "source": [
        "'''params = [\n",
        "    #Forest\n",
        "    {\n",
        "        'n_estimators': [2,5,10],\n",
        "        'max_depth': range(5,11),\n",
        "        'min_samples_split': range(2,11),\n",
        "        'min_samples_leaf': range(1,11),\n",
        "        'max_features': range(1,7,2)\n",
        "    },\n",
        "    #Tree\n",
        "    {\n",
        "        'n_estimators': [1],\n",
        "        'bootstrap': [False],\n",
        "        'max_depth': range(5,11),\n",
        "        'min_samples_split': range(2,11),\n",
        "        'min_samples_leaf': range(1,11),\n",
        "        'max_features': range(1,7,2)\n",
        "    }   \n",
        "]'''"
      ],
      "execution_count": 0,
      "outputs": [
        {
          "output_type": "execute_result",
          "data": {
            "text/plain": [
              "\"params = [\\n    #Forest\\n    {\\n        'n_estimators': [2,5,10],\\n        'max_depth': range(5,11),\\n        'min_samples_split': range(2,11),\\n        'min_samples_leaf': range(1,11),\\n        'max_features': range(2,19,2)\\n    },\\n    #Tree\\n    {\\n        'n_estimators': [1],\\n        'bootstrap': [False],\\n        'max_depth': range(5,11),\\n        'min_samples_split': range(2,11),\\n        'min_samples_leaf': range(1,11),\\n        'max_features': range(2,19,2)\\n    }   \\n]\""
            ]
          },
          "metadata": {
            "tags": []
          },
          "execution_count": 563
        }
      ]
    },
    {
      "metadata": {
        "id": "5fHp4lGFp8WT",
        "colab_type": "code",
        "colab": {},
        "outputId": "4b2c53ea-9c74-4794-cebd-f4995c83d399"
      },
      "cell_type": "code",
      "source": [
        "'''rdf_model = RandomForestClassifier()\n",
        "skf = StratifiedKFold(n_splits = 5, shuffle=True)\n",
        "clf = GridSearchCV(rdf_model, params, cv=skf, scoring=\"f1_micro\", n_jobs=5)'''"
      ],
      "execution_count": 0,
      "outputs": [
        {
          "output_type": "error",
          "ename": "SyntaxError",
          "evalue": "EOL while scanning string literal (<ipython-input-564-c65b0271c71d>, line 3)",
          "traceback": [
            "\u001b[1;36m  File \u001b[1;32m\"<ipython-input-564-c65b0271c71d>\"\u001b[1;36m, line \u001b[1;32m3\u001b[0m\n\u001b[1;33m    clf = GridSearchCV(rdf_model, params, cv=skf, scoring=\"f1_micro\", n_jobs=5)''''\u001b[0m\n\u001b[1;37m                                                                                   \n^\u001b[0m\n\u001b[1;31mSyntaxError\u001b[0m\u001b[1;31m:\u001b[0m EOL while scanning string literal\n"
          ]
        }
      ]
    },
    {
      "metadata": {
        "id": "hS2ONfImp8WV",
        "colab_type": "code",
        "colab": {},
        "outputId": "feefdf36-e37e-4d98-d3f5-78e16e3054b1"
      },
      "cell_type": "code",
      "source": [
        "'''Data = data.drop(['Churn'], axis=1)\n",
        "label = data['Churn']'''"
      ],
      "execution_count": 0,
      "outputs": [
        {
          "output_type": "execute_result",
          "data": {
            "text/plain": [
              "\"Data = data.drop(['Churn'], axis=1)\\nlabel = data['Churn']\""
            ]
          },
          "metadata": {
            "tags": []
          },
          "execution_count": 565
        }
      ]
    },
    {
      "metadata": {
        "id": "6Zq5w722p8WZ",
        "colab_type": "code",
        "colab": {},
        "outputId": "2331edc7-45d3-4775-c43c-1a8223228fa7"
      },
      "cell_type": "code",
      "source": [
        "'''%%time\n",
        "clf.fit(Data, label)'''"
      ],
      "execution_count": 0,
      "outputs": [
        {
          "output_type": "execute_result",
          "data": {
            "text/plain": [
              "'%%time\\nclf.fit(Data, label)'"
            ]
          },
          "metadata": {
            "tags": []
          },
          "execution_count": 566
        }
      ]
    },
    {
      "metadata": {
        "id": "_yoGoZSEp8Wb",
        "colab_type": "code",
        "colab": {},
        "outputId": "be0594c8-0489-45a4-edf0-1c449245ee8a"
      },
      "cell_type": "code",
      "source": [
        "'''clf.best_params_'''"
      ],
      "execution_count": 0,
      "outputs": [
        {
          "output_type": "execute_result",
          "data": {
            "text/plain": [
              "'clf.best_params_'"
            ]
          },
          "metadata": {
            "tags": []
          },
          "execution_count": 567
        }
      ]
    },
    {
      "metadata": {
        "id": "0AeRg0bFp8Wi",
        "colab_type": "text"
      },
      "cell_type": "markdown",
      "source": [
        "Оценю качество всего леса на тестовых данных."
      ]
    },
    {
      "metadata": {
        "id": "v8DpiRcZp8Wk",
        "colab_type": "code",
        "colab": {}
      },
      "cell_type": "code",
      "source": [
        "(trainData, \n",
        " testData, \n",
        " train_label, \n",
        " test_label) = train_test_split(data.drop(['Churn'], axis=1),\n",
        "                                data['Churn'],\n",
        "                                test_size=0.3, \n",
        "                                random_state=236584)"
      ],
      "execution_count": 0,
      "outputs": []
    },
    {
      "metadata": {
        "id": "m080bjyxp8Wn",
        "colab_type": "code",
        "colab": {},
        "outputId": "4a91a7f7-fe46-4eb5-eed9-419b763c755b"
      },
      "cell_type": "code",
      "source": [
        "rdf_model = RandomForestClassifier(\n",
        "n_estimators=5,\n",
        "max_depth=5,\n",
        "min_samples_leaf=1,\n",
        "min_samples_split=4,\n",
        "max_features=6)\n",
        "\n",
        "skf = RepeatedStratifiedKFold(n_splits = 5, n_repeats=5)\n",
        "\n",
        "rdf_model.fit(trainData, train_label)"
      ],
      "execution_count": 0,
      "outputs": [
        {
          "output_type": "execute_result",
          "data": {
            "text/plain": [
              "RandomForestClassifier(bootstrap=True, class_weight=None, criterion='gini',\n",
              "            max_depth=5, max_features=6, max_leaf_nodes=None,\n",
              "            min_impurity_decrease=0.0, min_impurity_split=None,\n",
              "            min_samples_leaf=1, min_samples_split=4,\n",
              "            min_weight_fraction_leaf=0.0, n_estimators=5, n_jobs=None,\n",
              "            oob_score=False, random_state=None, verbose=0,\n",
              "            warm_start=False)"
            ]
          },
          "metadata": {
            "tags": []
          },
          "execution_count": 574
        }
      ]
    },
    {
      "metadata": {
        "id": "f3vDYJvgp8Wp",
        "colab_type": "text"
      },
      "cell_type": "markdown",
      "source": [
        "На тестовой выборке оценю качество f1 score всего ансамбля и каждого дерева отдельно. Построю график распределения качества деревьев в ансамбле"
      ]
    },
    {
      "metadata": {
        "id": "htfW8EOtp8Wq",
        "colab_type": "code",
        "colab": {}
      },
      "cell_type": "code",
      "source": [
        "scores = pd.Series(\n",
        "    [\n",
        "        metrics.f1_score(test_label, x.predict(testData)) for x in rdf_model.estimators_ \n",
        "    ]\n",
        ")"
      ],
      "execution_count": 0,
      "outputs": []
    },
    {
      "metadata": {
        "id": "aHgwF0oAp8Ws",
        "colab_type": "code",
        "colab": {},
        "outputId": "67dc47c4-2dcf-4aa7-8090-06a29bc0a895"
      },
      "cell_type": "code",
      "source": [
        "scores"
      ],
      "execution_count": 0,
      "outputs": [
        {
          "output_type": "execute_result",
          "data": {
            "text/plain": [
              "0    0.874074\n",
              "1    0.891386\n",
              "2    0.866667\n",
              "3    0.890566\n",
              "4    0.870849\n",
              "dtype: float64"
            ]
          },
          "metadata": {
            "tags": []
          },
          "execution_count": 579
        }
      ]
    },
    {
      "metadata": {
        "id": "EYbooa2pp8Wu",
        "colab_type": "code",
        "colab": {},
        "outputId": "826391af-eb4c-4236-b6f5-fe25d665126b"
      },
      "cell_type": "code",
      "source": [
        "scores.describe()"
      ],
      "execution_count": 0,
      "outputs": [
        {
          "output_type": "execute_result",
          "data": {
            "text/plain": [
              "count    5.000000\n",
              "mean     0.878708\n",
              "std      0.011506\n",
              "min      0.866667\n",
              "25%      0.870849\n",
              "50%      0.874074\n",
              "75%      0.890566\n",
              "max      0.891386\n",
              "dtype: float64"
            ]
          },
          "metadata": {
            "tags": []
          },
          "execution_count": 577
        }
      ]
    },
    {
      "metadata": {
        "id": "ZjzCOp7Pp8Wy",
        "colab_type": "code",
        "colab": {},
        "outputId": "89caf8ea-3ae9-4146-ba4d-68e5c0eac056"
      },
      "cell_type": "code",
      "source": [
        "sns.boxplot(scores)\n",
        "plt.xlabel('f1-score')\n",
        "plt.show()"
      ],
      "execution_count": 0,
      "outputs": [
        {
          "output_type": "display_data",
          "data": {
            "image/svg+xml": "<?xml version=\"1.0\" encoding=\"utf-8\" standalone=\"no\"?>\r\n<!DOCTYPE svg PUBLIC \"-//W3C//DTD SVG 1.1//EN\"\r\n  \"http://www.w3.org/Graphics/SVG/1.1/DTD/svg11.dtd\">\r\n<!-- Created with matplotlib (http://matplotlib.org/) -->\r\n<svg height=\"265pt\" version=\"1.1\" viewBox=\"0 0 356 265\" width=\"356pt\" xmlns=\"http://www.w3.org/2000/svg\" xmlns:xlink=\"http://www.w3.org/1999/xlink\">\r\n <defs>\r\n  <style type=\"text/css\">\r\n*{stroke-linecap:butt;stroke-linejoin:round;}\r\n  </style>\r\n </defs>\r\n <g id=\"figure_1\">\r\n  <g id=\"patch_1\">\r\n   <path d=\"M 0 265.69625 \r\nL 356.2 265.69625 \r\nL 356.2 0 \r\nL 0 0 \r\nz\r\n\" style=\"fill:none;\"/>\r\n  </g>\r\n  <g id=\"axes_1\">\r\n   <g id=\"patch_2\">\r\n    <path d=\"M 10.7 228.14 \r\nL 345.5 228.14 \r\nL 345.5 10.7 \r\nL 10.7 10.7 \r\nz\r\n\" style=\"fill:#ffffff;\"/>\r\n   </g>\r\n   <g id=\"patch_3\">\r\n    <path clip-path=\"url(#pfbf2b2a9b3)\" d=\"M 77.411213 32.444 \r\nL 77.411213 206.396 \r\nL 320.18857 206.396 \r\nL 320.18857 32.444 \r\nL 77.411213 32.444 \r\nz\r\n\" style=\"fill:#3274a1;stroke:#3f3f3f;stroke-linejoin:miter;stroke-width:1.5;\"/>\r\n   </g>\r\n   <g id=\"matplotlib.axis_1\">\r\n    <g id=\"xtick_1\">\r\n     <g id=\"line2d_1\">\r\n      <defs>\r\n       <path d=\"M 0 0 \r\nL 0 3.5 \r\n\" id=\"m5a6c964353\" style=\"stroke:#000000;stroke-width:0.8;\"/>\r\n      </defs>\r\n      <g>\r\n       <use style=\"stroke:#000000;stroke-width:0.8;\" x=\"66.961157\" xlink:href=\"#m5a6c964353\" y=\"228.14\"/>\r\n      </g>\r\n     </g>\r\n     <g id=\"text_1\">\r\n      <!-- 0.870 -->\r\n      <defs>\r\n       <path d=\"M 31.78125 66.40625 \r\nQ 24.171875 66.40625 20.328125 58.90625 \r\nQ 16.5 51.421875 16.5 36.375 \r\nQ 16.5 21.390625 20.328125 13.890625 \r\nQ 24.171875 6.390625 31.78125 6.390625 \r\nQ 39.453125 6.390625 43.28125 13.890625 \r\nQ 47.125 21.390625 47.125 36.375 \r\nQ 47.125 51.421875 43.28125 58.90625 \r\nQ 39.453125 66.40625 31.78125 66.40625 \r\nz\r\nM 31.78125 74.21875 \r\nQ 44.046875 74.21875 50.515625 64.515625 \r\nQ 56.984375 54.828125 56.984375 36.375 \r\nQ 56.984375 17.96875 50.515625 8.265625 \r\nQ 44.046875 -1.421875 31.78125 -1.421875 \r\nQ 19.53125 -1.421875 13.0625 8.265625 \r\nQ 6.59375 17.96875 6.59375 36.375 \r\nQ 6.59375 54.828125 13.0625 64.515625 \r\nQ 19.53125 74.21875 31.78125 74.21875 \r\nz\r\n\" id=\"DejaVuSans-30\"/>\r\n       <path d=\"M 10.6875 12.40625 \r\nL 21 12.40625 \r\nL 21 0 \r\nL 10.6875 0 \r\nz\r\n\" id=\"DejaVuSans-2e\"/>\r\n       <path d=\"M 31.78125 34.625 \r\nQ 24.75 34.625 20.71875 30.859375 \r\nQ 16.703125 27.09375 16.703125 20.515625 \r\nQ 16.703125 13.921875 20.71875 10.15625 \r\nQ 24.75 6.390625 31.78125 6.390625 \r\nQ 38.8125 6.390625 42.859375 10.171875 \r\nQ 46.921875 13.96875 46.921875 20.515625 \r\nQ 46.921875 27.09375 42.890625 30.859375 \r\nQ 38.875 34.625 31.78125 34.625 \r\nz\r\nM 21.921875 38.8125 \r\nQ 15.578125 40.375 12.03125 44.71875 \r\nQ 8.5 49.078125 8.5 55.328125 \r\nQ 8.5 64.0625 14.71875 69.140625 \r\nQ 20.953125 74.21875 31.78125 74.21875 \r\nQ 42.671875 74.21875 48.875 69.140625 \r\nQ 55.078125 64.0625 55.078125 55.328125 \r\nQ 55.078125 49.078125 51.53125 44.71875 \r\nQ 48 40.375 41.703125 38.8125 \r\nQ 48.828125 37.15625 52.796875 32.3125 \r\nQ 56.78125 27.484375 56.78125 20.515625 \r\nQ 56.78125 9.90625 50.3125 4.234375 \r\nQ 43.84375 -1.421875 31.78125 -1.421875 \r\nQ 19.734375 -1.421875 13.25 4.234375 \r\nQ 6.78125 9.90625 6.78125 20.515625 \r\nQ 6.78125 27.484375 10.78125 32.3125 \r\nQ 14.796875 37.15625 21.921875 38.8125 \r\nz\r\nM 18.3125 54.390625 \r\nQ 18.3125 48.734375 21.84375 45.5625 \r\nQ 25.390625 42.390625 31.78125 42.390625 \r\nQ 38.140625 42.390625 41.71875 45.5625 \r\nQ 45.3125 48.734375 45.3125 54.390625 \r\nQ 45.3125 60.0625 41.71875 63.234375 \r\nQ 38.140625 66.40625 31.78125 66.40625 \r\nQ 25.390625 66.40625 21.84375 63.234375 \r\nQ 18.3125 60.0625 18.3125 54.390625 \r\nz\r\n\" id=\"DejaVuSans-38\"/>\r\n       <path d=\"M 8.203125 72.90625 \r\nL 55.078125 72.90625 \r\nL 55.078125 68.703125 \r\nL 28.609375 0 \r\nL 18.3125 0 \r\nL 43.21875 64.59375 \r\nL 8.203125 64.59375 \r\nz\r\n\" id=\"DejaVuSans-37\"/>\r\n      </defs>\r\n      <g transform=\"translate(52.647095 242.738437)scale(0.1 -0.1)\">\r\n       <use xlink:href=\"#DejaVuSans-30\"/>\r\n       <use x=\"63.623047\" xlink:href=\"#DejaVuSans-2e\"/>\r\n       <use x=\"95.410156\" xlink:href=\"#DejaVuSans-38\"/>\r\n       <use x=\"159.033203\" xlink:href=\"#DejaVuSans-37\"/>\r\n       <use x=\"222.65625\" xlink:href=\"#DejaVuSans-30\"/>\r\n      </g>\r\n     </g>\r\n    </g>\r\n    <g id=\"xtick_2\">\r\n     <g id=\"line2d_2\">\r\n      <g>\r\n       <use style=\"stroke:#000000;stroke-width:0.8;\" x=\"128.52562\" xlink:href=\"#m5a6c964353\" y=\"228.14\"/>\r\n      </g>\r\n     </g>\r\n     <g id=\"text_2\">\r\n      <!-- 0.875 -->\r\n      <defs>\r\n       <path d=\"M 10.796875 72.90625 \r\nL 49.515625 72.90625 \r\nL 49.515625 64.59375 \r\nL 19.828125 64.59375 \r\nL 19.828125 46.734375 \r\nQ 21.96875 47.46875 24.109375 47.828125 \r\nQ 26.265625 48.1875 28.421875 48.1875 \r\nQ 40.625 48.1875 47.75 41.5 \r\nQ 54.890625 34.8125 54.890625 23.390625 \r\nQ 54.890625 11.625 47.5625 5.09375 \r\nQ 40.234375 -1.421875 26.90625 -1.421875 \r\nQ 22.3125 -1.421875 17.546875 -0.640625 \r\nQ 12.796875 0.140625 7.71875 1.703125 \r\nL 7.71875 11.625 \r\nQ 12.109375 9.234375 16.796875 8.0625 \r\nQ 21.484375 6.890625 26.703125 6.890625 \r\nQ 35.15625 6.890625 40.078125 11.328125 \r\nQ 45.015625 15.765625 45.015625 23.390625 \r\nQ 45.015625 31 40.078125 35.4375 \r\nQ 35.15625 39.890625 26.703125 39.890625 \r\nQ 22.75 39.890625 18.8125 39.015625 \r\nQ 14.890625 38.140625 10.796875 36.28125 \r\nz\r\n\" id=\"DejaVuSans-35\"/>\r\n      </defs>\r\n      <g transform=\"translate(114.211557 242.738437)scale(0.1 -0.1)\">\r\n       <use xlink:href=\"#DejaVuSans-30\"/>\r\n       <use x=\"63.623047\" xlink:href=\"#DejaVuSans-2e\"/>\r\n       <use x=\"95.410156\" xlink:href=\"#DejaVuSans-38\"/>\r\n       <use x=\"159.033203\" xlink:href=\"#DejaVuSans-37\"/>\r\n       <use x=\"222.65625\" xlink:href=\"#DejaVuSans-35\"/>\r\n      </g>\r\n     </g>\r\n    </g>\r\n    <g id=\"xtick_3\">\r\n     <g id=\"line2d_3\">\r\n      <g>\r\n       <use style=\"stroke:#000000;stroke-width:0.8;\" x=\"190.090083\" xlink:href=\"#m5a6c964353\" y=\"228.14\"/>\r\n      </g>\r\n     </g>\r\n     <g id=\"text_3\">\r\n      <!-- 0.880 -->\r\n      <g transform=\"translate(175.77602 242.738437)scale(0.1 -0.1)\">\r\n       <use xlink:href=\"#DejaVuSans-30\"/>\r\n       <use x=\"63.623047\" xlink:href=\"#DejaVuSans-2e\"/>\r\n       <use x=\"95.410156\" xlink:href=\"#DejaVuSans-38\"/>\r\n       <use x=\"159.033203\" xlink:href=\"#DejaVuSans-38\"/>\r\n       <use x=\"222.65625\" xlink:href=\"#DejaVuSans-30\"/>\r\n      </g>\r\n     </g>\r\n    </g>\r\n    <g id=\"xtick_4\">\r\n     <g id=\"line2d_4\">\r\n      <g>\r\n       <use style=\"stroke:#000000;stroke-width:0.8;\" x=\"251.654545\" xlink:href=\"#m5a6c964353\" y=\"228.14\"/>\r\n      </g>\r\n     </g>\r\n     <g id=\"text_4\">\r\n      <!-- 0.885 -->\r\n      <g transform=\"translate(237.340483 242.738437)scale(0.1 -0.1)\">\r\n       <use xlink:href=\"#DejaVuSans-30\"/>\r\n       <use x=\"63.623047\" xlink:href=\"#DejaVuSans-2e\"/>\r\n       <use x=\"95.410156\" xlink:href=\"#DejaVuSans-38\"/>\r\n       <use x=\"159.033203\" xlink:href=\"#DejaVuSans-38\"/>\r\n       <use x=\"222.65625\" xlink:href=\"#DejaVuSans-35\"/>\r\n      </g>\r\n     </g>\r\n    </g>\r\n    <g id=\"xtick_5\">\r\n     <g id=\"line2d_5\">\r\n      <g>\r\n       <use style=\"stroke:#000000;stroke-width:0.8;\" x=\"313.219008\" xlink:href=\"#m5a6c964353\" y=\"228.14\"/>\r\n      </g>\r\n     </g>\r\n     <g id=\"text_5\">\r\n      <!-- 0.890 -->\r\n      <defs>\r\n       <path d=\"M 10.984375 1.515625 \r\nL 10.984375 10.5 \r\nQ 14.703125 8.734375 18.5 7.8125 \r\nQ 22.3125 6.890625 25.984375 6.890625 \r\nQ 35.75 6.890625 40.890625 13.453125 \r\nQ 46.046875 20.015625 46.78125 33.40625 \r\nQ 43.953125 29.203125 39.59375 26.953125 \r\nQ 35.25 24.703125 29.984375 24.703125 \r\nQ 19.046875 24.703125 12.671875 31.3125 \r\nQ 6.296875 37.9375 6.296875 49.421875 \r\nQ 6.296875 60.640625 12.9375 67.421875 \r\nQ 19.578125 74.21875 30.609375 74.21875 \r\nQ 43.265625 74.21875 49.921875 64.515625 \r\nQ 56.59375 54.828125 56.59375 36.375 \r\nQ 56.59375 19.140625 48.40625 8.859375 \r\nQ 40.234375 -1.421875 26.421875 -1.421875 \r\nQ 22.703125 -1.421875 18.890625 -0.6875 \r\nQ 15.09375 0.046875 10.984375 1.515625 \r\nz\r\nM 30.609375 32.421875 \r\nQ 37.25 32.421875 41.125 36.953125 \r\nQ 45.015625 41.5 45.015625 49.421875 \r\nQ 45.015625 57.28125 41.125 61.84375 \r\nQ 37.25 66.40625 30.609375 66.40625 \r\nQ 23.96875 66.40625 20.09375 61.84375 \r\nQ 16.21875 57.28125 16.21875 49.421875 \r\nQ 16.21875 41.5 20.09375 36.953125 \r\nQ 23.96875 32.421875 30.609375 32.421875 \r\nz\r\n\" id=\"DejaVuSans-39\"/>\r\n      </defs>\r\n      <g transform=\"translate(298.904946 242.738437)scale(0.1 -0.1)\">\r\n       <use xlink:href=\"#DejaVuSans-30\"/>\r\n       <use x=\"63.623047\" xlink:href=\"#DejaVuSans-2e\"/>\r\n       <use x=\"95.410156\" xlink:href=\"#DejaVuSans-38\"/>\r\n       <use x=\"159.033203\" xlink:href=\"#DejaVuSans-39\"/>\r\n       <use x=\"222.65625\" xlink:href=\"#DejaVuSans-30\"/>\r\n      </g>\r\n     </g>\r\n    </g>\r\n    <g id=\"text_6\">\r\n     <!-- f1-score -->\r\n     <defs>\r\n      <path d=\"M 37.109375 75.984375 \r\nL 37.109375 68.5 \r\nL 28.515625 68.5 \r\nQ 23.6875 68.5 21.796875 66.546875 \r\nQ 19.921875 64.59375 19.921875 59.515625 \r\nL 19.921875 54.6875 \r\nL 34.71875 54.6875 \r\nL 34.71875 47.703125 \r\nL 19.921875 47.703125 \r\nL 19.921875 0 \r\nL 10.890625 0 \r\nL 10.890625 47.703125 \r\nL 2.296875 47.703125 \r\nL 2.296875 54.6875 \r\nL 10.890625 54.6875 \r\nL 10.890625 58.5 \r\nQ 10.890625 67.625 15.140625 71.796875 \r\nQ 19.390625 75.984375 28.609375 75.984375 \r\nz\r\n\" id=\"DejaVuSans-66\"/>\r\n      <path d=\"M 12.40625 8.296875 \r\nL 28.515625 8.296875 \r\nL 28.515625 63.921875 \r\nL 10.984375 60.40625 \r\nL 10.984375 69.390625 \r\nL 28.421875 72.90625 \r\nL 38.28125 72.90625 \r\nL 38.28125 8.296875 \r\nL 54.390625 8.296875 \r\nL 54.390625 0 \r\nL 12.40625 0 \r\nz\r\n\" id=\"DejaVuSans-31\"/>\r\n      <path d=\"M 4.890625 31.390625 \r\nL 31.203125 31.390625 \r\nL 31.203125 23.390625 \r\nL 4.890625 23.390625 \r\nz\r\n\" id=\"DejaVuSans-2d\"/>\r\n      <path d=\"M 44.28125 53.078125 \r\nL 44.28125 44.578125 \r\nQ 40.484375 46.53125 36.375 47.5 \r\nQ 32.28125 48.484375 27.875 48.484375 \r\nQ 21.1875 48.484375 17.84375 46.4375 \r\nQ 14.5 44.390625 14.5 40.28125 \r\nQ 14.5 37.15625 16.890625 35.375 \r\nQ 19.28125 33.59375 26.515625 31.984375 \r\nL 29.59375 31.296875 \r\nQ 39.15625 29.25 43.1875 25.515625 \r\nQ 47.21875 21.78125 47.21875 15.09375 \r\nQ 47.21875 7.46875 41.1875 3.015625 \r\nQ 35.15625 -1.421875 24.609375 -1.421875 \r\nQ 20.21875 -1.421875 15.453125 -0.5625 \r\nQ 10.6875 0.296875 5.421875 2 \r\nL 5.421875 11.28125 \r\nQ 10.40625 8.6875 15.234375 7.390625 \r\nQ 20.0625 6.109375 24.8125 6.109375 \r\nQ 31.15625 6.109375 34.5625 8.28125 \r\nQ 37.984375 10.453125 37.984375 14.40625 \r\nQ 37.984375 18.0625 35.515625 20.015625 \r\nQ 33.0625 21.96875 24.703125 23.78125 \r\nL 21.578125 24.515625 \r\nQ 13.234375 26.265625 9.515625 29.90625 \r\nQ 5.8125 33.546875 5.8125 39.890625 \r\nQ 5.8125 47.609375 11.28125 51.796875 \r\nQ 16.75 56 26.8125 56 \r\nQ 31.78125 56 36.171875 55.265625 \r\nQ 40.578125 54.546875 44.28125 53.078125 \r\nz\r\n\" id=\"DejaVuSans-73\"/>\r\n      <path d=\"M 48.78125 52.59375 \r\nL 48.78125 44.1875 \r\nQ 44.96875 46.296875 41.140625 47.34375 \r\nQ 37.3125 48.390625 33.40625 48.390625 \r\nQ 24.65625 48.390625 19.8125 42.84375 \r\nQ 14.984375 37.3125 14.984375 27.296875 \r\nQ 14.984375 17.28125 19.8125 11.734375 \r\nQ 24.65625 6.203125 33.40625 6.203125 \r\nQ 37.3125 6.203125 41.140625 7.25 \r\nQ 44.96875 8.296875 48.78125 10.40625 \r\nL 48.78125 2.09375 \r\nQ 45.015625 0.34375 40.984375 -0.53125 \r\nQ 36.96875 -1.421875 32.421875 -1.421875 \r\nQ 20.0625 -1.421875 12.78125 6.34375 \r\nQ 5.515625 14.109375 5.515625 27.296875 \r\nQ 5.515625 40.671875 12.859375 48.328125 \r\nQ 20.21875 56 33.015625 56 \r\nQ 37.15625 56 41.109375 55.140625 \r\nQ 45.0625 54.296875 48.78125 52.59375 \r\nz\r\n\" id=\"DejaVuSans-63\"/>\r\n      <path d=\"M 30.609375 48.390625 \r\nQ 23.390625 48.390625 19.1875 42.75 \r\nQ 14.984375 37.109375 14.984375 27.296875 \r\nQ 14.984375 17.484375 19.15625 11.84375 \r\nQ 23.34375 6.203125 30.609375 6.203125 \r\nQ 37.796875 6.203125 41.984375 11.859375 \r\nQ 46.1875 17.53125 46.1875 27.296875 \r\nQ 46.1875 37.015625 41.984375 42.703125 \r\nQ 37.796875 48.390625 30.609375 48.390625 \r\nz\r\nM 30.609375 56 \r\nQ 42.328125 56 49.015625 48.375 \r\nQ 55.71875 40.765625 55.71875 27.296875 \r\nQ 55.71875 13.875 49.015625 6.21875 \r\nQ 42.328125 -1.421875 30.609375 -1.421875 \r\nQ 18.84375 -1.421875 12.171875 6.21875 \r\nQ 5.515625 13.875 5.515625 27.296875 \r\nQ 5.515625 40.765625 12.171875 48.375 \r\nQ 18.84375 56 30.609375 56 \r\nz\r\n\" id=\"DejaVuSans-6f\"/>\r\n      <path d=\"M 41.109375 46.296875 \r\nQ 39.59375 47.171875 37.8125 47.578125 \r\nQ 36.03125 48 33.890625 48 \r\nQ 26.265625 48 22.1875 43.046875 \r\nQ 18.109375 38.09375 18.109375 28.8125 \r\nL 18.109375 0 \r\nL 9.078125 0 \r\nL 9.078125 54.6875 \r\nL 18.109375 54.6875 \r\nL 18.109375 46.1875 \r\nQ 20.953125 51.171875 25.484375 53.578125 \r\nQ 30.03125 56 36.53125 56 \r\nQ 37.453125 56 38.578125 55.875 \r\nQ 39.703125 55.765625 41.0625 55.515625 \r\nz\r\n\" id=\"DejaVuSans-72\"/>\r\n      <path d=\"M 56.203125 29.59375 \r\nL 56.203125 25.203125 \r\nL 14.890625 25.203125 \r\nQ 15.484375 15.921875 20.484375 11.0625 \r\nQ 25.484375 6.203125 34.421875 6.203125 \r\nQ 39.59375 6.203125 44.453125 7.46875 \r\nQ 49.3125 8.734375 54.109375 11.28125 \r\nL 54.109375 2.78125 \r\nQ 49.265625 0.734375 44.1875 -0.34375 \r\nQ 39.109375 -1.421875 33.890625 -1.421875 \r\nQ 20.796875 -1.421875 13.15625 6.1875 \r\nQ 5.515625 13.8125 5.515625 26.8125 \r\nQ 5.515625 40.234375 12.765625 48.109375 \r\nQ 20.015625 56 32.328125 56 \r\nQ 43.359375 56 49.78125 48.890625 \r\nQ 56.203125 41.796875 56.203125 29.59375 \r\nz\r\nM 47.21875 32.234375 \r\nQ 47.125 39.59375 43.09375 43.984375 \r\nQ 39.0625 48.390625 32.421875 48.390625 \r\nQ 24.90625 48.390625 20.390625 44.140625 \r\nQ 15.875 39.890625 15.1875 32.171875 \r\nz\r\n\" id=\"DejaVuSans-65\"/>\r\n     </defs>\r\n     <g transform=\"translate(157.810938 256.416562)scale(0.1 -0.1)\">\r\n      <use xlink:href=\"#DejaVuSans-66\"/>\r\n      <use x=\"35.205078\" xlink:href=\"#DejaVuSans-31\"/>\r\n      <use x=\"98.828125\" xlink:href=\"#DejaVuSans-2d\"/>\r\n      <use x=\"134.912109\" xlink:href=\"#DejaVuSans-73\"/>\r\n      <use x=\"187.011719\" xlink:href=\"#DejaVuSans-63\"/>\r\n      <use x=\"241.992188\" xlink:href=\"#DejaVuSans-6f\"/>\r\n      <use x=\"303.173828\" xlink:href=\"#DejaVuSans-72\"/>\r\n      <use x=\"344.255859\" xlink:href=\"#DejaVuSans-65\"/>\r\n     </g>\r\n    </g>\r\n   </g>\r\n   <g id=\"matplotlib.axis_2\">\r\n    <g id=\"ytick_1\">\r\n     <g id=\"line2d_6\">\r\n      <defs>\r\n       <path d=\"M 0 0 \r\nL -3.5 0 \r\n\" id=\"mefab028e6a\" style=\"stroke:#000000;stroke-width:0.8;\"/>\r\n      </defs>\r\n      <g>\r\n       <use style=\"stroke:#000000;stroke-width:0.8;\" x=\"10.7\" xlink:href=\"#mefab028e6a\" y=\"119.42\"/>\r\n      </g>\r\n     </g>\r\n    </g>\r\n   </g>\r\n   <g id=\"line2d_7\">\r\n    <path clip-path=\"url(#pfbf2b2a9b3)\" d=\"M 77.411213 119.42 \r\nL 25.918182 119.42 \r\n\" style=\"fill:none;stroke:#3f3f3f;stroke-linecap:square;stroke-width:1.5;\"/>\r\n   </g>\r\n   <g id=\"line2d_8\">\r\n    <path clip-path=\"url(#pfbf2b2a9b3)\" d=\"M 320.18857 119.42 \r\nL 330.281818 119.42 \r\n\" style=\"fill:none;stroke:#3f3f3f;stroke-linecap:square;stroke-width:1.5;\"/>\r\n   </g>\r\n   <g id=\"line2d_9\">\r\n    <path clip-path=\"url(#pfbf2b2a9b3)\" d=\"M 25.918182 75.932 \r\nL 25.918182 162.908 \r\n\" style=\"fill:none;stroke:#3f3f3f;stroke-linecap:square;stroke-width:1.5;\"/>\r\n   </g>\r\n   <g id=\"line2d_10\">\r\n    <path clip-path=\"url(#pfbf2b2a9b3)\" d=\"M 330.281818 75.932 \r\nL 330.281818 162.908 \r\n\" style=\"fill:none;stroke:#3f3f3f;stroke-linecap:square;stroke-width:1.5;\"/>\r\n   </g>\r\n   <g id=\"line2d_11\"/>\r\n   <g id=\"line2d_12\">\r\n    <path clip-path=\"url(#pfbf2b2a9b3)\" d=\"M 117.124793 32.444 \r\nL 117.124793 206.396 \r\n\" style=\"fill:none;stroke:#3f3f3f;stroke-linecap:square;stroke-width:1.5;\"/>\r\n   </g>\r\n   <g id=\"patch_4\">\r\n    <path d=\"M 10.7 228.14 \r\nL 10.7 10.7 \r\n\" style=\"fill:none;stroke:#000000;stroke-linecap:square;stroke-linejoin:miter;stroke-width:0.8;\"/>\r\n   </g>\r\n   <g id=\"patch_5\">\r\n    <path d=\"M 345.5 228.14 \r\nL 345.5 10.7 \r\n\" style=\"fill:none;stroke:#000000;stroke-linecap:square;stroke-linejoin:miter;stroke-width:0.8;\"/>\r\n   </g>\r\n   <g id=\"patch_6\">\r\n    <path d=\"M 10.7 228.14 \r\nL 345.5 228.14 \r\n\" style=\"fill:none;stroke:#000000;stroke-linecap:square;stroke-linejoin:miter;stroke-width:0.8;\"/>\r\n   </g>\r\n   <g id=\"patch_7\">\r\n    <path d=\"M 10.7 10.7 \r\nL 345.5 10.7 \r\n\" style=\"fill:none;stroke:#000000;stroke-linecap:square;stroke-linejoin:miter;stroke-width:0.8;\"/>\r\n   </g>\r\n  </g>\r\n </g>\r\n <defs>\r\n  <clipPath id=\"pfbf2b2a9b3\">\r\n   <rect height=\"217.44\" width=\"334.8\" x=\"10.7\" y=\"10.7\"/>\r\n  </clipPath>\r\n </defs>\r\n</svg>\r\n",
            "text/plain": [
              "<matplotlib.figure.Figure at 0x1a75d822080>"
            ]
          },
          "metadata": {
            "tags": []
          }
        }
      ]
    },
    {
      "metadata": {
        "id": "PbN2qHGxp8W1",
        "colab_type": "code",
        "colab": {},
        "outputId": "0be3be32-0d45-46f0-dc0d-0059799d5e63"
      },
      "cell_type": "code",
      "source": [
        "rdf_score = metrics.f1_score(test_label, rdf_model.predict(testData))\n",
        "rdf_score"
      ],
      "execution_count": 0,
      "outputs": [
        {
          "output_type": "execute_result",
          "data": {
            "text/plain": [
              "0.8847583643122676"
            ]
          },
          "metadata": {
            "tags": []
          },
          "execution_count": 581
        }
      ]
    },
    {
      "metadata": {
        "id": "voNsGx-_p8W5",
        "colab_type": "text"
      },
      "cell_type": "markdown",
      "source": [
        "Средний score по всем деревьям примерно равен score-у всего леса."
      ]
    },
    {
      "metadata": {
        "id": "379FSkVVp8W5",
        "colab_type": "text"
      },
      "cell_type": "markdown",
      "source": [
        "Оценю важность признаков в Random forest"
      ]
    },
    {
      "metadata": {
        "id": "U1tJZopbp8W6",
        "colab_type": "code",
        "colab": {},
        "outputId": "dda3061f-8fe1-420a-f77b-1bc5af954487"
      },
      "cell_type": "code",
      "source": [
        "scores = cross_val_score(rdf_model, testData, test_label, cv=rskf, scoring='f1_micro')\n",
        "scores"
      ],
      "execution_count": 0,
      "outputs": [
        {
          "output_type": "execute_result",
          "data": {
            "text/plain": [
              "array([0.96517413, 0.96      , 0.98      , 0.955     , 0.96482412,\n",
              "       0.960199  , 0.97      , 0.97      , 0.965     , 0.95477387,\n",
              "       0.960199  , 0.95      , 0.975     , 0.97      , 0.96984925,\n",
              "       0.95024876, 0.98      , 0.955     , 0.97      , 0.96984925,\n",
              "       0.9800995 , 0.975     , 0.96      , 0.96      , 0.95979899])"
            ]
          },
          "metadata": {
            "tags": []
          },
          "execution_count": 582
        }
      ]
    },
    {
      "metadata": {
        "id": "PYzp-WgVp8W9",
        "colab_type": "code",
        "colab": {},
        "outputId": "1f339e84-2e7e-421a-e0c7-df4f868b1f22"
      },
      "cell_type": "code",
      "source": [
        "rdf_model.feature_importances_"
      ],
      "execution_count": 0,
      "outputs": [
        {
          "output_type": "execute_result",
          "data": {
            "text/plain": [
              "array([0.25407751, 0.01193557, 0.00855798, 0.01049049, 0.05699291,\n",
              "       0.51685811, 0.14108743])"
            ]
          },
          "metadata": {
            "tags": []
          },
          "execution_count": 583
        }
      ]
    },
    {
      "metadata": {
        "id": "Nyk7rx4sp8W_",
        "colab_type": "code",
        "colab": {},
        "outputId": "d9d1cc2c-ff59-4555-de9d-db38633dd95e"
      },
      "cell_type": "code",
      "source": [
        "pd.Series(rdf_model.feature_importances_, index=Data.columns).sort_values(ascending=False)"
      ],
      "execution_count": 0,
      "outputs": [
        {
          "output_type": "execute_result",
          "data": {
            "text/plain": [
              "Total charge              0.516858\n",
              "Plans                     0.254078\n",
              "Customer service calls    0.141087\n",
              "Total intl charge         0.056993\n",
              "Total day charge          0.011936\n",
              "Total night charge        0.010490\n",
              "Total eve charge          0.008558\n",
              "dtype: float64"
            ]
          },
          "metadata": {
            "tags": []
          },
          "execution_count": 585
        }
      ]
    },
    {
      "metadata": {
        "id": "WkSz7o8Wp8XE",
        "colab_type": "text"
      },
      "cell_type": "markdown",
      "source": [
        "Видно, что общее кол-во оплат за услуги, а также выбранный тариф имеют наибольший вклад. Люди могут быть недовольны либо высокими ценами, либо конкретно ценами или услугами в рамках какого-то тарифа. На 3-м месте стоит признак - кол-во обращений в службу поддержки. То есть, если потребителю что-то не нравится, он звонит в компанию и с более высокой выроятностью он может потом отказаться от услуг."
      ]
    },
    {
      "metadata": {
        "id": "EGwwLaqjp8XE",
        "colab_type": "text"
      },
      "cell_type": "markdown",
      "source": [
        "### Задание 4  \n",
        "  \n",
        "* Используйте логистическую регрессию для решения задачи, оцените качество (roc auc) на 5-fold валидации из 5 повторений. \n",
        "* Аналогично (на такой же валидации с такой же метрикой) оцените качество Random Forest  с подобранными в предыдущем задании параметрами. Сравните с качеством логистическом регрессии.\n",
        "* Разделите данные на обучающую и тестовую выборки в пропорциях 70:30. На обучающей выборке обучите логистическую регрессию и Random Forest  с настроенными параметрами. Для обеих моделей оцените качество на тестовой выборке - постройте ROC-кривую, вычислите roc auc."
      ]
    },
    {
      "metadata": {
        "id": "Cw-oFkuHp8XF",
        "colab_type": "text"
      },
      "cell_type": "markdown",
      "source": [
        "Логистическая регрессия."
      ]
    },
    {
      "metadata": {
        "id": "Fhjq8l8Wp8XF",
        "colab_type": "code",
        "colab": {}
      },
      "cell_type": "code",
      "source": [
        "from sklearn.linear_model import LogisticRegression\n",
        "from sklearn.metrics import roc_curve, auc, roc_auc_score\n",
        "from pylab import *"
      ],
      "execution_count": 0,
      "outputs": []
    },
    {
      "metadata": {
        "id": "KXidk3WtGa5Q",
        "colab_type": "code",
        "colab": {}
      },
      "cell_type": "code",
      "source": [
        "Data = data.drop(['Churn'], axis = 1)\n",
        "Label = data['Churn']"
      ],
      "execution_count": 0,
      "outputs": []
    },
    {
      "metadata": {
        "id": "kfq32HG-Gnco",
        "colab_type": "text"
      },
      "cell_type": "markdown",
      "source": [
        "Нормализация и стандартизация данных"
      ]
    },
    {
      "metadata": {
        "id": "FeOwR6ciGrVu",
        "colab_type": "code",
        "colab": {}
      },
      "cell_type": "code",
      "source": [
        "from sklearn import preprocessing"
      ],
      "execution_count": 0,
      "outputs": []
    },
    {
      "metadata": {
        "id": "cu9W9dKHG6C5",
        "colab_type": "code",
        "colab": {}
      },
      "cell_type": "code",
      "source": [
        "normalized_Data = preprocessing.normalize(Data)\n",
        "standardized_Data = preprocessing.scale(Data)"
      ],
      "execution_count": 0,
      "outputs": []
    },
    {
      "metadata": {
        "id": "_ym-MYvnp8XH",
        "colab_type": "code",
        "colab": {},
        "outputId": "acf23a84-28fe-4c07-8bff-2bed31b2be9b"
      },
      "cell_type": "code",
      "source": [
        "log_model = LogisticRegression(C=2)\n",
        "log_model.fit(trainData, train_label)"
      ],
      "execution_count": 0,
      "outputs": [
        {
          "output_type": "execute_result",
          "data": {
            "text/plain": [
              "LogisticRegression(C=2, class_weight=None, dual=False, fit_intercept=True,\n",
              "          intercept_scaling=1, max_iter=100, multi_class='warn',\n",
              "          n_jobs=None, penalty='l2', random_state=None, solver='warn',\n",
              "          tol=0.0001, verbose=0, warm_start=False)"
            ]
          },
          "metadata": {
            "tags": []
          },
          "execution_count": 531
        }
      ]
    },
    {
      "metadata": {
        "id": "lw81Lc-1p8XU",
        "colab_type": "code",
        "colab": {}
      },
      "cell_type": "code",
      "source": [
        "predictedLabels = log_model.predict(testData)"
      ],
      "execution_count": 0,
      "outputs": []
    },
    {
      "metadata": {
        "id": "5adsgU9kp8XW",
        "colab_type": "code",
        "colab": {},
        "outputId": "842bc515-cab7-4ca0-84aa-7082a2742658"
      },
      "cell_type": "code",
      "source": [
        "predictedLabels.shape"
      ],
      "execution_count": 0,
      "outputs": [
        {
          "output_type": "execute_result",
          "data": {
            "text/plain": [
              "(1000,)"
            ]
          },
          "metadata": {
            "tags": []
          },
          "execution_count": 533
        }
      ]
    },
    {
      "metadata": {
        "id": "3OACqEHOp8Xg",
        "colab_type": "code",
        "colab": {},
        "outputId": "3a6e869e-945a-4889-b58d-8279d824cacb"
      },
      "cell_type": "code",
      "source": [
        "plt.plot(test_label[1:300].values, 'b-', label='true')\n",
        "plt.plot(predictedLabels[1:300], 'r-', label='pred')\n",
        "\n",
        "plt.xlabel(\"observations\")\n",
        "plt.ylabel(\"Churn\")\n",
        "\n",
        "plt.legend(loc='best')\n",
        "\n",
        "plt.show()"
      ],
      "execution_count": 0,
      "outputs": [
        {
          "output_type": "display_data",
          "data": {
            "image/svg+xml": "<?xml version=\"1.0\" encoding=\"utf-8\" standalone=\"no\"?>\r\n<!DOCTYPE svg PUBLIC \"-//W3C//DTD SVG 1.1//EN\"\r\n  \"http://www.w3.org/Graphics/SVG/1.1/DTD/svg11.dtd\">\r\n<!-- Created with matplotlib (http://matplotlib.org/) -->\r\n<svg height=\"265pt\" version=\"1.1\" viewBox=\"0 0 389 265\" width=\"389pt\" xmlns=\"http://www.w3.org/2000/svg\" xmlns:xlink=\"http://www.w3.org/1999/xlink\">\r\n <defs>\r\n  <style type=\"text/css\">\r\n*{stroke-linecap:butt;stroke-linejoin:round;}\r\n  </style>\r\n </defs>\r\n <g id=\"figure_1\">\r\n  <g id=\"patch_1\">\r\n   <path d=\"M 0 265.69625 \r\nL 389.28125 265.69625 \r\nL 389.28125 0 \r\nL 0 0 \r\nz\r\n\" style=\"fill:none;\"/>\r\n  </g>\r\n  <g id=\"axes_1\">\r\n   <g id=\"patch_2\">\r\n    <path d=\"M 43.78125 228.14 \r\nL 378.58125 228.14 \r\nL 378.58125 10.7 \r\nL 43.78125 10.7 \r\nz\r\n\" style=\"fill:#ffffff;\"/>\r\n   </g>\r\n   <g id=\"matplotlib.axis_1\">\r\n    <g id=\"xtick_1\">\r\n     <g id=\"line2d_1\">\r\n      <defs>\r\n       <path d=\"M 0 0 \r\nL 0 3.5 \r\n\" id=\"mb7c463c3ed\" style=\"stroke:#000000;stroke-width:0.8;\"/>\r\n      </defs>\r\n      <g>\r\n       <use style=\"stroke:#000000;stroke-width:0.8;\" x=\"58.999432\" xlink:href=\"#mb7c463c3ed\" y=\"228.14\"/>\r\n      </g>\r\n     </g>\r\n     <g id=\"text_1\">\r\n      <!-- 0 -->\r\n      <defs>\r\n       <path d=\"M 31.78125 66.40625 \r\nQ 24.171875 66.40625 20.328125 58.90625 \r\nQ 16.5 51.421875 16.5 36.375 \r\nQ 16.5 21.390625 20.328125 13.890625 \r\nQ 24.171875 6.390625 31.78125 6.390625 \r\nQ 39.453125 6.390625 43.28125 13.890625 \r\nQ 47.125 21.390625 47.125 36.375 \r\nQ 47.125 51.421875 43.28125 58.90625 \r\nQ 39.453125 66.40625 31.78125 66.40625 \r\nz\r\nM 31.78125 74.21875 \r\nQ 44.046875 74.21875 50.515625 64.515625 \r\nQ 56.984375 54.828125 56.984375 36.375 \r\nQ 56.984375 17.96875 50.515625 8.265625 \r\nQ 44.046875 -1.421875 31.78125 -1.421875 \r\nQ 19.53125 -1.421875 13.0625 8.265625 \r\nQ 6.59375 17.96875 6.59375 36.375 \r\nQ 6.59375 54.828125 13.0625 64.515625 \r\nQ 19.53125 74.21875 31.78125 74.21875 \r\nz\r\n\" id=\"DejaVuSans-30\"/>\r\n      </defs>\r\n      <g transform=\"translate(55.818182 242.738437)scale(0.1 -0.1)\">\r\n       <use xlink:href=\"#DejaVuSans-30\"/>\r\n      </g>\r\n     </g>\r\n    </g>\r\n    <g id=\"xtick_2\">\r\n     <g id=\"line2d_2\">\r\n      <g>\r\n       <use style=\"stroke:#000000;stroke-width:0.8;\" x=\"110.067156\" xlink:href=\"#mb7c463c3ed\" y=\"228.14\"/>\r\n      </g>\r\n     </g>\r\n     <g id=\"text_2\">\r\n      <!-- 50 -->\r\n      <defs>\r\n       <path d=\"M 10.796875 72.90625 \r\nL 49.515625 72.90625 \r\nL 49.515625 64.59375 \r\nL 19.828125 64.59375 \r\nL 19.828125 46.734375 \r\nQ 21.96875 47.46875 24.109375 47.828125 \r\nQ 26.265625 48.1875 28.421875 48.1875 \r\nQ 40.625 48.1875 47.75 41.5 \r\nQ 54.890625 34.8125 54.890625 23.390625 \r\nQ 54.890625 11.625 47.5625 5.09375 \r\nQ 40.234375 -1.421875 26.90625 -1.421875 \r\nQ 22.3125 -1.421875 17.546875 -0.640625 \r\nQ 12.796875 0.140625 7.71875 1.703125 \r\nL 7.71875 11.625 \r\nQ 12.109375 9.234375 16.796875 8.0625 \r\nQ 21.484375 6.890625 26.703125 6.890625 \r\nQ 35.15625 6.890625 40.078125 11.328125 \r\nQ 45.015625 15.765625 45.015625 23.390625 \r\nQ 45.015625 31 40.078125 35.4375 \r\nQ 35.15625 39.890625 26.703125 39.890625 \r\nQ 22.75 39.890625 18.8125 39.015625 \r\nQ 14.890625 38.140625 10.796875 36.28125 \r\nz\r\n\" id=\"DejaVuSans-35\"/>\r\n      </defs>\r\n      <g transform=\"translate(103.704656 242.738437)scale(0.1 -0.1)\">\r\n       <use xlink:href=\"#DejaVuSans-35\"/>\r\n       <use x=\"63.623047\" xlink:href=\"#DejaVuSans-30\"/>\r\n      </g>\r\n     </g>\r\n    </g>\r\n    <g id=\"xtick_3\">\r\n     <g id=\"line2d_3\">\r\n      <g>\r\n       <use style=\"stroke:#000000;stroke-width:0.8;\" x=\"161.13488\" xlink:href=\"#mb7c463c3ed\" y=\"228.14\"/>\r\n      </g>\r\n     </g>\r\n     <g id=\"text_3\">\r\n      <!-- 100 -->\r\n      <defs>\r\n       <path d=\"M 12.40625 8.296875 \r\nL 28.515625 8.296875 \r\nL 28.515625 63.921875 \r\nL 10.984375 60.40625 \r\nL 10.984375 69.390625 \r\nL 28.421875 72.90625 \r\nL 38.28125 72.90625 \r\nL 38.28125 8.296875 \r\nL 54.390625 8.296875 \r\nL 54.390625 0 \r\nL 12.40625 0 \r\nz\r\n\" id=\"DejaVuSans-31\"/>\r\n      </defs>\r\n      <g transform=\"translate(151.59113 242.738437)scale(0.1 -0.1)\">\r\n       <use xlink:href=\"#DejaVuSans-31\"/>\r\n       <use x=\"63.623047\" xlink:href=\"#DejaVuSans-30\"/>\r\n       <use x=\"127.246094\" xlink:href=\"#DejaVuSans-30\"/>\r\n      </g>\r\n     </g>\r\n    </g>\r\n    <g id=\"xtick_4\">\r\n     <g id=\"line2d_4\">\r\n      <g>\r\n       <use style=\"stroke:#000000;stroke-width:0.8;\" x=\"212.202604\" xlink:href=\"#mb7c463c3ed\" y=\"228.14\"/>\r\n      </g>\r\n     </g>\r\n     <g id=\"text_4\">\r\n      <!-- 150 -->\r\n      <g transform=\"translate(202.658854 242.738437)scale(0.1 -0.1)\">\r\n       <use xlink:href=\"#DejaVuSans-31\"/>\r\n       <use x=\"63.623047\" xlink:href=\"#DejaVuSans-35\"/>\r\n       <use x=\"127.246094\" xlink:href=\"#DejaVuSans-30\"/>\r\n      </g>\r\n     </g>\r\n    </g>\r\n    <g id=\"xtick_5\">\r\n     <g id=\"line2d_5\">\r\n      <g>\r\n       <use style=\"stroke:#000000;stroke-width:0.8;\" x=\"263.270329\" xlink:href=\"#mb7c463c3ed\" y=\"228.14\"/>\r\n      </g>\r\n     </g>\r\n     <g id=\"text_5\">\r\n      <!-- 200 -->\r\n      <defs>\r\n       <path d=\"M 19.1875 8.296875 \r\nL 53.609375 8.296875 \r\nL 53.609375 0 \r\nL 7.328125 0 \r\nL 7.328125 8.296875 \r\nQ 12.9375 14.109375 22.625 23.890625 \r\nQ 32.328125 33.6875 34.8125 36.53125 \r\nQ 39.546875 41.84375 41.421875 45.53125 \r\nQ 43.3125 49.21875 43.3125 52.78125 \r\nQ 43.3125 58.59375 39.234375 62.25 \r\nQ 35.15625 65.921875 28.609375 65.921875 \r\nQ 23.96875 65.921875 18.8125 64.3125 \r\nQ 13.671875 62.703125 7.8125 59.421875 \r\nL 7.8125 69.390625 \r\nQ 13.765625 71.78125 18.9375 73 \r\nQ 24.125 74.21875 28.421875 74.21875 \r\nQ 39.75 74.21875 46.484375 68.546875 \r\nQ 53.21875 62.890625 53.21875 53.421875 \r\nQ 53.21875 48.921875 51.53125 44.890625 \r\nQ 49.859375 40.875 45.40625 35.40625 \r\nQ 44.1875 33.984375 37.640625 27.21875 \r\nQ 31.109375 20.453125 19.1875 8.296875 \r\nz\r\n\" id=\"DejaVuSans-32\"/>\r\n      </defs>\r\n      <g transform=\"translate(253.726579 242.738437)scale(0.1 -0.1)\">\r\n       <use xlink:href=\"#DejaVuSans-32\"/>\r\n       <use x=\"63.623047\" xlink:href=\"#DejaVuSans-30\"/>\r\n       <use x=\"127.246094\" xlink:href=\"#DejaVuSans-30\"/>\r\n      </g>\r\n     </g>\r\n    </g>\r\n    <g id=\"xtick_6\">\r\n     <g id=\"line2d_6\">\r\n      <g>\r\n       <use style=\"stroke:#000000;stroke-width:0.8;\" x=\"314.338053\" xlink:href=\"#mb7c463c3ed\" y=\"228.14\"/>\r\n      </g>\r\n     </g>\r\n     <g id=\"text_6\">\r\n      <!-- 250 -->\r\n      <g transform=\"translate(304.794303 242.738437)scale(0.1 -0.1)\">\r\n       <use xlink:href=\"#DejaVuSans-32\"/>\r\n       <use x=\"63.623047\" xlink:href=\"#DejaVuSans-35\"/>\r\n       <use x=\"127.246094\" xlink:href=\"#DejaVuSans-30\"/>\r\n      </g>\r\n     </g>\r\n    </g>\r\n    <g id=\"xtick_7\">\r\n     <g id=\"line2d_7\">\r\n      <g>\r\n       <use style=\"stroke:#000000;stroke-width:0.8;\" x=\"365.405777\" xlink:href=\"#mb7c463c3ed\" y=\"228.14\"/>\r\n      </g>\r\n     </g>\r\n     <g id=\"text_7\">\r\n      <!-- 300 -->\r\n      <defs>\r\n       <path d=\"M 40.578125 39.3125 \r\nQ 47.65625 37.796875 51.625 33 \r\nQ 55.609375 28.21875 55.609375 21.1875 \r\nQ 55.609375 10.40625 48.1875 4.484375 \r\nQ 40.765625 -1.421875 27.09375 -1.421875 \r\nQ 22.515625 -1.421875 17.65625 -0.515625 \r\nQ 12.796875 0.390625 7.625 2.203125 \r\nL 7.625 11.71875 \r\nQ 11.71875 9.328125 16.59375 8.109375 \r\nQ 21.484375 6.890625 26.8125 6.890625 \r\nQ 36.078125 6.890625 40.9375 10.546875 \r\nQ 45.796875 14.203125 45.796875 21.1875 \r\nQ 45.796875 27.640625 41.28125 31.265625 \r\nQ 36.765625 34.90625 28.71875 34.90625 \r\nL 20.21875 34.90625 \r\nL 20.21875 43.015625 \r\nL 29.109375 43.015625 \r\nQ 36.375 43.015625 40.234375 45.921875 \r\nQ 44.09375 48.828125 44.09375 54.296875 \r\nQ 44.09375 59.90625 40.109375 62.90625 \r\nQ 36.140625 65.921875 28.71875 65.921875 \r\nQ 24.65625 65.921875 20.015625 65.03125 \r\nQ 15.375 64.15625 9.8125 62.3125 \r\nL 9.8125 71.09375 \r\nQ 15.4375 72.65625 20.34375 73.4375 \r\nQ 25.25 74.21875 29.59375 74.21875 \r\nQ 40.828125 74.21875 47.359375 69.109375 \r\nQ 53.90625 64.015625 53.90625 55.328125 \r\nQ 53.90625 49.265625 50.4375 45.09375 \r\nQ 46.96875 40.921875 40.578125 39.3125 \r\nz\r\n\" id=\"DejaVuSans-33\"/>\r\n      </defs>\r\n      <g transform=\"translate(355.862027 242.738437)scale(0.1 -0.1)\">\r\n       <use xlink:href=\"#DejaVuSans-33\"/>\r\n       <use x=\"63.623047\" xlink:href=\"#DejaVuSans-30\"/>\r\n       <use x=\"127.246094\" xlink:href=\"#DejaVuSans-30\"/>\r\n      </g>\r\n     </g>\r\n    </g>\r\n    <g id=\"text_8\">\r\n     <!-- observations -->\r\n     <defs>\r\n      <path d=\"M 30.609375 48.390625 \r\nQ 23.390625 48.390625 19.1875 42.75 \r\nQ 14.984375 37.109375 14.984375 27.296875 \r\nQ 14.984375 17.484375 19.15625 11.84375 \r\nQ 23.34375 6.203125 30.609375 6.203125 \r\nQ 37.796875 6.203125 41.984375 11.859375 \r\nQ 46.1875 17.53125 46.1875 27.296875 \r\nQ 46.1875 37.015625 41.984375 42.703125 \r\nQ 37.796875 48.390625 30.609375 48.390625 \r\nz\r\nM 30.609375 56 \r\nQ 42.328125 56 49.015625 48.375 \r\nQ 55.71875 40.765625 55.71875 27.296875 \r\nQ 55.71875 13.875 49.015625 6.21875 \r\nQ 42.328125 -1.421875 30.609375 -1.421875 \r\nQ 18.84375 -1.421875 12.171875 6.21875 \r\nQ 5.515625 13.875 5.515625 27.296875 \r\nQ 5.515625 40.765625 12.171875 48.375 \r\nQ 18.84375 56 30.609375 56 \r\nz\r\n\" id=\"DejaVuSans-6f\"/>\r\n      <path d=\"M 48.6875 27.296875 \r\nQ 48.6875 37.203125 44.609375 42.84375 \r\nQ 40.53125 48.484375 33.40625 48.484375 \r\nQ 26.265625 48.484375 22.1875 42.84375 \r\nQ 18.109375 37.203125 18.109375 27.296875 \r\nQ 18.109375 17.390625 22.1875 11.75 \r\nQ 26.265625 6.109375 33.40625 6.109375 \r\nQ 40.53125 6.109375 44.609375 11.75 \r\nQ 48.6875 17.390625 48.6875 27.296875 \r\nz\r\nM 18.109375 46.390625 \r\nQ 20.953125 51.265625 25.265625 53.625 \r\nQ 29.59375 56 35.59375 56 \r\nQ 45.5625 56 51.78125 48.09375 \r\nQ 58.015625 40.1875 58.015625 27.296875 \r\nQ 58.015625 14.40625 51.78125 6.484375 \r\nQ 45.5625 -1.421875 35.59375 -1.421875 \r\nQ 29.59375 -1.421875 25.265625 0.953125 \r\nQ 20.953125 3.328125 18.109375 8.203125 \r\nL 18.109375 0 \r\nL 9.078125 0 \r\nL 9.078125 75.984375 \r\nL 18.109375 75.984375 \r\nz\r\n\" id=\"DejaVuSans-62\"/>\r\n      <path d=\"M 44.28125 53.078125 \r\nL 44.28125 44.578125 \r\nQ 40.484375 46.53125 36.375 47.5 \r\nQ 32.28125 48.484375 27.875 48.484375 \r\nQ 21.1875 48.484375 17.84375 46.4375 \r\nQ 14.5 44.390625 14.5 40.28125 \r\nQ 14.5 37.15625 16.890625 35.375 \r\nQ 19.28125 33.59375 26.515625 31.984375 \r\nL 29.59375 31.296875 \r\nQ 39.15625 29.25 43.1875 25.515625 \r\nQ 47.21875 21.78125 47.21875 15.09375 \r\nQ 47.21875 7.46875 41.1875 3.015625 \r\nQ 35.15625 -1.421875 24.609375 -1.421875 \r\nQ 20.21875 -1.421875 15.453125 -0.5625 \r\nQ 10.6875 0.296875 5.421875 2 \r\nL 5.421875 11.28125 \r\nQ 10.40625 8.6875 15.234375 7.390625 \r\nQ 20.0625 6.109375 24.8125 6.109375 \r\nQ 31.15625 6.109375 34.5625 8.28125 \r\nQ 37.984375 10.453125 37.984375 14.40625 \r\nQ 37.984375 18.0625 35.515625 20.015625 \r\nQ 33.0625 21.96875 24.703125 23.78125 \r\nL 21.578125 24.515625 \r\nQ 13.234375 26.265625 9.515625 29.90625 \r\nQ 5.8125 33.546875 5.8125 39.890625 \r\nQ 5.8125 47.609375 11.28125 51.796875 \r\nQ 16.75 56 26.8125 56 \r\nQ 31.78125 56 36.171875 55.265625 \r\nQ 40.578125 54.546875 44.28125 53.078125 \r\nz\r\n\" id=\"DejaVuSans-73\"/>\r\n      <path d=\"M 56.203125 29.59375 \r\nL 56.203125 25.203125 \r\nL 14.890625 25.203125 \r\nQ 15.484375 15.921875 20.484375 11.0625 \r\nQ 25.484375 6.203125 34.421875 6.203125 \r\nQ 39.59375 6.203125 44.453125 7.46875 \r\nQ 49.3125 8.734375 54.109375 11.28125 \r\nL 54.109375 2.78125 \r\nQ 49.265625 0.734375 44.1875 -0.34375 \r\nQ 39.109375 -1.421875 33.890625 -1.421875 \r\nQ 20.796875 -1.421875 13.15625 6.1875 \r\nQ 5.515625 13.8125 5.515625 26.8125 \r\nQ 5.515625 40.234375 12.765625 48.109375 \r\nQ 20.015625 56 32.328125 56 \r\nQ 43.359375 56 49.78125 48.890625 \r\nQ 56.203125 41.796875 56.203125 29.59375 \r\nz\r\nM 47.21875 32.234375 \r\nQ 47.125 39.59375 43.09375 43.984375 \r\nQ 39.0625 48.390625 32.421875 48.390625 \r\nQ 24.90625 48.390625 20.390625 44.140625 \r\nQ 15.875 39.890625 15.1875 32.171875 \r\nz\r\n\" id=\"DejaVuSans-65\"/>\r\n      <path d=\"M 41.109375 46.296875 \r\nQ 39.59375 47.171875 37.8125 47.578125 \r\nQ 36.03125 48 33.890625 48 \r\nQ 26.265625 48 22.1875 43.046875 \r\nQ 18.109375 38.09375 18.109375 28.8125 \r\nL 18.109375 0 \r\nL 9.078125 0 \r\nL 9.078125 54.6875 \r\nL 18.109375 54.6875 \r\nL 18.109375 46.1875 \r\nQ 20.953125 51.171875 25.484375 53.578125 \r\nQ 30.03125 56 36.53125 56 \r\nQ 37.453125 56 38.578125 55.875 \r\nQ 39.703125 55.765625 41.0625 55.515625 \r\nz\r\n\" id=\"DejaVuSans-72\"/>\r\n      <path d=\"M 2.984375 54.6875 \r\nL 12.5 54.6875 \r\nL 29.59375 8.796875 \r\nL 46.6875 54.6875 \r\nL 56.203125 54.6875 \r\nL 35.6875 0 \r\nL 23.484375 0 \r\nz\r\n\" id=\"DejaVuSans-76\"/>\r\n      <path d=\"M 34.28125 27.484375 \r\nQ 23.390625 27.484375 19.1875 25 \r\nQ 14.984375 22.515625 14.984375 16.5 \r\nQ 14.984375 11.71875 18.140625 8.90625 \r\nQ 21.296875 6.109375 26.703125 6.109375 \r\nQ 34.1875 6.109375 38.703125 11.40625 \r\nQ 43.21875 16.703125 43.21875 25.484375 \r\nL 43.21875 27.484375 \r\nz\r\nM 52.203125 31.203125 \r\nL 52.203125 0 \r\nL 43.21875 0 \r\nL 43.21875 8.296875 \r\nQ 40.140625 3.328125 35.546875 0.953125 \r\nQ 30.953125 -1.421875 24.3125 -1.421875 \r\nQ 15.921875 -1.421875 10.953125 3.296875 \r\nQ 6 8.015625 6 15.921875 \r\nQ 6 25.140625 12.171875 29.828125 \r\nQ 18.359375 34.515625 30.609375 34.515625 \r\nL 43.21875 34.515625 \r\nL 43.21875 35.40625 \r\nQ 43.21875 41.609375 39.140625 45 \r\nQ 35.0625 48.390625 27.6875 48.390625 \r\nQ 23 48.390625 18.546875 47.265625 \r\nQ 14.109375 46.140625 10.015625 43.890625 \r\nL 10.015625 52.203125 \r\nQ 14.9375 54.109375 19.578125 55.046875 \r\nQ 24.21875 56 28.609375 56 \r\nQ 40.484375 56 46.34375 49.84375 \r\nQ 52.203125 43.703125 52.203125 31.203125 \r\nz\r\n\" id=\"DejaVuSans-61\"/>\r\n      <path d=\"M 18.3125 70.21875 \r\nL 18.3125 54.6875 \r\nL 36.8125 54.6875 \r\nL 36.8125 47.703125 \r\nL 18.3125 47.703125 \r\nL 18.3125 18.015625 \r\nQ 18.3125 11.328125 20.140625 9.421875 \r\nQ 21.96875 7.515625 27.59375 7.515625 \r\nL 36.8125 7.515625 \r\nL 36.8125 0 \r\nL 27.59375 0 \r\nQ 17.1875 0 13.234375 3.875 \r\nQ 9.28125 7.765625 9.28125 18.015625 \r\nL 9.28125 47.703125 \r\nL 2.6875 47.703125 \r\nL 2.6875 54.6875 \r\nL 9.28125 54.6875 \r\nL 9.28125 70.21875 \r\nz\r\n\" id=\"DejaVuSans-74\"/>\r\n      <path d=\"M 9.421875 54.6875 \r\nL 18.40625 54.6875 \r\nL 18.40625 0 \r\nL 9.421875 0 \r\nz\r\nM 9.421875 75.984375 \r\nL 18.40625 75.984375 \r\nL 18.40625 64.59375 \r\nL 9.421875 64.59375 \r\nz\r\n\" id=\"DejaVuSans-69\"/>\r\n      <path d=\"M 54.890625 33.015625 \r\nL 54.890625 0 \r\nL 45.90625 0 \r\nL 45.90625 32.71875 \r\nQ 45.90625 40.484375 42.875 44.328125 \r\nQ 39.84375 48.1875 33.796875 48.1875 \r\nQ 26.515625 48.1875 22.3125 43.546875 \r\nQ 18.109375 38.921875 18.109375 30.90625 \r\nL 18.109375 0 \r\nL 9.078125 0 \r\nL 9.078125 54.6875 \r\nL 18.109375 54.6875 \r\nL 18.109375 46.1875 \r\nQ 21.34375 51.125 25.703125 53.5625 \r\nQ 30.078125 56 35.796875 56 \r\nQ 45.21875 56 50.046875 50.171875 \r\nQ 54.890625 44.34375 54.890625 33.015625 \r\nz\r\n\" id=\"DejaVuSans-6e\"/>\r\n     </defs>\r\n     <g transform=\"translate(179.005469 256.416562)scale(0.1 -0.1)\">\r\n      <use xlink:href=\"#DejaVuSans-6f\"/>\r\n      <use x=\"61.181641\" xlink:href=\"#DejaVuSans-62\"/>\r\n      <use x=\"124.658203\" xlink:href=\"#DejaVuSans-73\"/>\r\n      <use x=\"176.757812\" xlink:href=\"#DejaVuSans-65\"/>\r\n      <use x=\"238.28125\" xlink:href=\"#DejaVuSans-72\"/>\r\n      <use x=\"279.394531\" xlink:href=\"#DejaVuSans-76\"/>\r\n      <use x=\"338.574219\" xlink:href=\"#DejaVuSans-61\"/>\r\n      <use x=\"399.853516\" xlink:href=\"#DejaVuSans-74\"/>\r\n      <use x=\"439.0625\" xlink:href=\"#DejaVuSans-69\"/>\r\n      <use x=\"466.845703\" xlink:href=\"#DejaVuSans-6f\"/>\r\n      <use x=\"528.027344\" xlink:href=\"#DejaVuSans-6e\"/>\r\n      <use x=\"591.40625\" xlink:href=\"#DejaVuSans-73\"/>\r\n     </g>\r\n    </g>\r\n   </g>\r\n   <g id=\"matplotlib.axis_2\">\r\n    <g id=\"ytick_1\">\r\n     <g id=\"line2d_8\">\r\n      <defs>\r\n       <path d=\"M 0 0 \r\nL -3.5 0 \r\n\" id=\"m54c447fc04\" style=\"stroke:#000000;stroke-width:0.8;\"/>\r\n      </defs>\r\n      <g>\r\n       <use style=\"stroke:#000000;stroke-width:0.8;\" x=\"43.78125\" xlink:href=\"#m54c447fc04\" y=\"218.256364\"/>\r\n      </g>\r\n     </g>\r\n     <g id=\"text_9\">\r\n      <!-- 0.0 -->\r\n      <defs>\r\n       <path d=\"M 10.6875 12.40625 \r\nL 21 12.40625 \r\nL 21 0 \r\nL 10.6875 0 \r\nz\r\n\" id=\"DejaVuSans-2e\"/>\r\n      </defs>\r\n      <g transform=\"translate(20.878125 222.055582)scale(0.1 -0.1)\">\r\n       <use xlink:href=\"#DejaVuSans-30\"/>\r\n       <use x=\"63.623047\" xlink:href=\"#DejaVuSans-2e\"/>\r\n       <use x=\"95.410156\" xlink:href=\"#DejaVuSans-30\"/>\r\n      </g>\r\n     </g>\r\n    </g>\r\n    <g id=\"ytick_2\">\r\n     <g id=\"line2d_9\">\r\n      <g>\r\n       <use style=\"stroke:#000000;stroke-width:0.8;\" x=\"43.78125\" xlink:href=\"#m54c447fc04\" y=\"178.721818\"/>\r\n      </g>\r\n     </g>\r\n     <g id=\"text_10\">\r\n      <!-- 0.2 -->\r\n      <g transform=\"translate(20.878125 182.521037)scale(0.1 -0.1)\">\r\n       <use xlink:href=\"#DejaVuSans-30\"/>\r\n       <use x=\"63.623047\" xlink:href=\"#DejaVuSans-2e\"/>\r\n       <use x=\"95.410156\" xlink:href=\"#DejaVuSans-32\"/>\r\n      </g>\r\n     </g>\r\n    </g>\r\n    <g id=\"ytick_3\">\r\n     <g id=\"line2d_10\">\r\n      <g>\r\n       <use style=\"stroke:#000000;stroke-width:0.8;\" x=\"43.78125\" xlink:href=\"#m54c447fc04\" y=\"139.187273\"/>\r\n      </g>\r\n     </g>\r\n     <g id=\"text_11\">\r\n      <!-- 0.4 -->\r\n      <defs>\r\n       <path d=\"M 37.796875 64.3125 \r\nL 12.890625 25.390625 \r\nL 37.796875 25.390625 \r\nz\r\nM 35.203125 72.90625 \r\nL 47.609375 72.90625 \r\nL 47.609375 25.390625 \r\nL 58.015625 25.390625 \r\nL 58.015625 17.1875 \r\nL 47.609375 17.1875 \r\nL 47.609375 0 \r\nL 37.796875 0 \r\nL 37.796875 17.1875 \r\nL 4.890625 17.1875 \r\nL 4.890625 26.703125 \r\nz\r\n\" id=\"DejaVuSans-34\"/>\r\n      </defs>\r\n      <g transform=\"translate(20.878125 142.986491)scale(0.1 -0.1)\">\r\n       <use xlink:href=\"#DejaVuSans-30\"/>\r\n       <use x=\"63.623047\" xlink:href=\"#DejaVuSans-2e\"/>\r\n       <use x=\"95.410156\" xlink:href=\"#DejaVuSans-34\"/>\r\n      </g>\r\n     </g>\r\n    </g>\r\n    <g id=\"ytick_4\">\r\n     <g id=\"line2d_11\">\r\n      <g>\r\n       <use style=\"stroke:#000000;stroke-width:0.8;\" x=\"43.78125\" xlink:href=\"#m54c447fc04\" y=\"99.652727\"/>\r\n      </g>\r\n     </g>\r\n     <g id=\"text_12\">\r\n      <!-- 0.6 -->\r\n      <defs>\r\n       <path d=\"M 33.015625 40.375 \r\nQ 26.375 40.375 22.484375 35.828125 \r\nQ 18.609375 31.296875 18.609375 23.390625 \r\nQ 18.609375 15.53125 22.484375 10.953125 \r\nQ 26.375 6.390625 33.015625 6.390625 \r\nQ 39.65625 6.390625 43.53125 10.953125 \r\nQ 47.40625 15.53125 47.40625 23.390625 \r\nQ 47.40625 31.296875 43.53125 35.828125 \r\nQ 39.65625 40.375 33.015625 40.375 \r\nz\r\nM 52.59375 71.296875 \r\nL 52.59375 62.3125 \r\nQ 48.875 64.0625 45.09375 64.984375 \r\nQ 41.3125 65.921875 37.59375 65.921875 \r\nQ 27.828125 65.921875 22.671875 59.328125 \r\nQ 17.53125 52.734375 16.796875 39.40625 \r\nQ 19.671875 43.65625 24.015625 45.921875 \r\nQ 28.375 48.1875 33.59375 48.1875 \r\nQ 44.578125 48.1875 50.953125 41.515625 \r\nQ 57.328125 34.859375 57.328125 23.390625 \r\nQ 57.328125 12.15625 50.6875 5.359375 \r\nQ 44.046875 -1.421875 33.015625 -1.421875 \r\nQ 20.359375 -1.421875 13.671875 8.265625 \r\nQ 6.984375 17.96875 6.984375 36.375 \r\nQ 6.984375 53.65625 15.1875 63.9375 \r\nQ 23.390625 74.21875 37.203125 74.21875 \r\nQ 40.921875 74.21875 44.703125 73.484375 \r\nQ 48.484375 72.75 52.59375 71.296875 \r\nz\r\n\" id=\"DejaVuSans-36\"/>\r\n      </defs>\r\n      <g transform=\"translate(20.878125 103.451946)scale(0.1 -0.1)\">\r\n       <use xlink:href=\"#DejaVuSans-30\"/>\r\n       <use x=\"63.623047\" xlink:href=\"#DejaVuSans-2e\"/>\r\n       <use x=\"95.410156\" xlink:href=\"#DejaVuSans-36\"/>\r\n      </g>\r\n     </g>\r\n    </g>\r\n    <g id=\"ytick_5\">\r\n     <g id=\"line2d_12\">\r\n      <g>\r\n       <use style=\"stroke:#000000;stroke-width:0.8;\" x=\"43.78125\" xlink:href=\"#m54c447fc04\" y=\"60.118182\"/>\r\n      </g>\r\n     </g>\r\n     <g id=\"text_13\">\r\n      <!-- 0.8 -->\r\n      <defs>\r\n       <path d=\"M 31.78125 34.625 \r\nQ 24.75 34.625 20.71875 30.859375 \r\nQ 16.703125 27.09375 16.703125 20.515625 \r\nQ 16.703125 13.921875 20.71875 10.15625 \r\nQ 24.75 6.390625 31.78125 6.390625 \r\nQ 38.8125 6.390625 42.859375 10.171875 \r\nQ 46.921875 13.96875 46.921875 20.515625 \r\nQ 46.921875 27.09375 42.890625 30.859375 \r\nQ 38.875 34.625 31.78125 34.625 \r\nz\r\nM 21.921875 38.8125 \r\nQ 15.578125 40.375 12.03125 44.71875 \r\nQ 8.5 49.078125 8.5 55.328125 \r\nQ 8.5 64.0625 14.71875 69.140625 \r\nQ 20.953125 74.21875 31.78125 74.21875 \r\nQ 42.671875 74.21875 48.875 69.140625 \r\nQ 55.078125 64.0625 55.078125 55.328125 \r\nQ 55.078125 49.078125 51.53125 44.71875 \r\nQ 48 40.375 41.703125 38.8125 \r\nQ 48.828125 37.15625 52.796875 32.3125 \r\nQ 56.78125 27.484375 56.78125 20.515625 \r\nQ 56.78125 9.90625 50.3125 4.234375 \r\nQ 43.84375 -1.421875 31.78125 -1.421875 \r\nQ 19.734375 -1.421875 13.25 4.234375 \r\nQ 6.78125 9.90625 6.78125 20.515625 \r\nQ 6.78125 27.484375 10.78125 32.3125 \r\nQ 14.796875 37.15625 21.921875 38.8125 \r\nz\r\nM 18.3125 54.390625 \r\nQ 18.3125 48.734375 21.84375 45.5625 \r\nQ 25.390625 42.390625 31.78125 42.390625 \r\nQ 38.140625 42.390625 41.71875 45.5625 \r\nQ 45.3125 48.734375 45.3125 54.390625 \r\nQ 45.3125 60.0625 41.71875 63.234375 \r\nQ 38.140625 66.40625 31.78125 66.40625 \r\nQ 25.390625 66.40625 21.84375 63.234375 \r\nQ 18.3125 60.0625 18.3125 54.390625 \r\nz\r\n\" id=\"DejaVuSans-38\"/>\r\n      </defs>\r\n      <g transform=\"translate(20.878125 63.917401)scale(0.1 -0.1)\">\r\n       <use xlink:href=\"#DejaVuSans-30\"/>\r\n       <use x=\"63.623047\" xlink:href=\"#DejaVuSans-2e\"/>\r\n       <use x=\"95.410156\" xlink:href=\"#DejaVuSans-38\"/>\r\n      </g>\r\n     </g>\r\n    </g>\r\n    <g id=\"ytick_6\">\r\n     <g id=\"line2d_13\">\r\n      <g>\r\n       <use style=\"stroke:#000000;stroke-width:0.8;\" x=\"43.78125\" xlink:href=\"#m54c447fc04\" y=\"20.583636\"/>\r\n      </g>\r\n     </g>\r\n     <g id=\"text_14\">\r\n      <!-- 1.0 -->\r\n      <g transform=\"translate(20.878125 24.382855)scale(0.1 -0.1)\">\r\n       <use xlink:href=\"#DejaVuSans-31\"/>\r\n       <use x=\"63.623047\" xlink:href=\"#DejaVuSans-2e\"/>\r\n       <use x=\"95.410156\" xlink:href=\"#DejaVuSans-30\"/>\r\n      </g>\r\n     </g>\r\n    </g>\r\n    <g id=\"text_15\">\r\n     <!-- Churn -->\r\n     <defs>\r\n      <path d=\"M 64.40625 67.28125 \r\nL 64.40625 56.890625 \r\nQ 59.421875 61.53125 53.78125 63.8125 \r\nQ 48.140625 66.109375 41.796875 66.109375 \r\nQ 29.296875 66.109375 22.65625 58.46875 \r\nQ 16.015625 50.828125 16.015625 36.375 \r\nQ 16.015625 21.96875 22.65625 14.328125 \r\nQ 29.296875 6.6875 41.796875 6.6875 \r\nQ 48.140625 6.6875 53.78125 8.984375 \r\nQ 59.421875 11.28125 64.40625 15.921875 \r\nL 64.40625 5.609375 \r\nQ 59.234375 2.09375 53.4375 0.328125 \r\nQ 47.65625 -1.421875 41.21875 -1.421875 \r\nQ 24.65625 -1.421875 15.125 8.703125 \r\nQ 5.609375 18.84375 5.609375 36.375 \r\nQ 5.609375 53.953125 15.125 64.078125 \r\nQ 24.65625 74.21875 41.21875 74.21875 \r\nQ 47.75 74.21875 53.53125 72.484375 \r\nQ 59.328125 70.75 64.40625 67.28125 \r\nz\r\n\" id=\"DejaVuSans-43\"/>\r\n      <path d=\"M 54.890625 33.015625 \r\nL 54.890625 0 \r\nL 45.90625 0 \r\nL 45.90625 32.71875 \r\nQ 45.90625 40.484375 42.875 44.328125 \r\nQ 39.84375 48.1875 33.796875 48.1875 \r\nQ 26.515625 48.1875 22.3125 43.546875 \r\nQ 18.109375 38.921875 18.109375 30.90625 \r\nL 18.109375 0 \r\nL 9.078125 0 \r\nL 9.078125 75.984375 \r\nL 18.109375 75.984375 \r\nL 18.109375 46.1875 \r\nQ 21.34375 51.125 25.703125 53.5625 \r\nQ 30.078125 56 35.796875 56 \r\nQ 45.21875 56 50.046875 50.171875 \r\nQ 54.890625 44.34375 54.890625 33.015625 \r\nz\r\n\" id=\"DejaVuSans-68\"/>\r\n      <path d=\"M 8.5 21.578125 \r\nL 8.5 54.6875 \r\nL 17.484375 54.6875 \r\nL 17.484375 21.921875 \r\nQ 17.484375 14.15625 20.5 10.265625 \r\nQ 23.53125 6.390625 29.59375 6.390625 \r\nQ 36.859375 6.390625 41.078125 11.03125 \r\nQ 45.3125 15.671875 45.3125 23.6875 \r\nL 45.3125 54.6875 \r\nL 54.296875 54.6875 \r\nL 54.296875 0 \r\nL 45.3125 0 \r\nL 45.3125 8.40625 \r\nQ 42.046875 3.421875 37.71875 1 \r\nQ 33.40625 -1.421875 27.6875 -1.421875 \r\nQ 18.265625 -1.421875 13.375 4.4375 \r\nQ 8.5 10.296875 8.5 21.578125 \r\nz\r\nM 31.109375 56 \r\nz\r\n\" id=\"DejaVuSans-75\"/>\r\n     </defs>\r\n     <g transform=\"translate(14.798438 134.472344)rotate(-90)scale(0.1 -0.1)\">\r\n      <use xlink:href=\"#DejaVuSans-43\"/>\r\n      <use x=\"69.824219\" xlink:href=\"#DejaVuSans-68\"/>\r\n      <use x=\"133.203125\" xlink:href=\"#DejaVuSans-75\"/>\r\n      <use x=\"196.582031\" xlink:href=\"#DejaVuSans-72\"/>\r\n      <use x=\"237.679688\" xlink:href=\"#DejaVuSans-6e\"/>\r\n     </g>\r\n    </g>\r\n   </g>\r\n   <g id=\"line2d_14\">\r\n    <path clip-path=\"url(#p0613cb5c82)\" d=\"M 58.999432 218.256364 \r\nL 60.020786 20.583636 \r\nL 61.042141 218.256364 \r\nL 63.08485 218.256364 \r\nL 64.106204 20.583636 \r\nL 65.127559 218.256364 \r\nL 85.554648 218.256364 \r\nL 86.576003 20.583636 \r\nL 87.597357 218.256364 \r\nL 88.618712 218.256364 \r\nL 89.640066 20.583636 \r\nL 90.661421 218.256364 \r\nL 98.832257 218.256364 \r\nL 99.853611 20.583636 \r\nL 100.874966 218.256364 \r\nL 108.024447 218.256364 \r\nL 109.045802 20.583636 \r\nL 110.067156 20.583636 \r\nL 111.088511 218.256364 \r\nL 115.173928 218.256364 \r\nL 116.195283 20.583636 \r\nL 117.216637 218.256364 \r\nL 118.237992 20.583636 \r\nL 119.259346 218.256364 \r\nL 126.408828 218.256364 \r\nL 127.430182 20.583636 \r\nL 128.451537 218.256364 \r\nL 137.643727 218.256364 \r\nL 138.665082 20.583636 \r\nL 139.686436 218.256364 \r\nL 144.793209 218.256364 \r\nL 145.814563 20.583636 \r\nL 146.835917 218.256364 \r\nL 149.899981 218.256364 \r\nL 150.921335 20.583636 \r\nL 151.94269 218.256364 \r\nL 153.985399 218.256364 \r\nL 155.006753 20.583636 \r\nL 156.028108 218.256364 \r\nL 159.092171 218.256364 \r\nL 160.113526 20.583636 \r\nL 161.13488 218.256364 \r\nL 168.284362 218.256364 \r\nL 169.305716 20.583636 \r\nL 170.327071 218.256364 \r\nL 171.348425 20.583636 \r\nL 172.36978 218.256364 \r\nL 173.391134 218.256364 \r\nL 174.412489 20.583636 \r\nL 175.433843 218.256364 \r\nL 191.775515 218.256364 \r\nL 192.796869 20.583636 \r\nL 193.818224 218.256364 \r\nL 204.031769 218.256364 \r\nL 205.053123 20.583636 \r\nL 206.074478 218.256364 \r\nL 207.095832 218.256364 \r\nL 208.117187 20.583636 \r\nL 209.138541 218.256364 \r\nL 212.202604 218.256364 \r\nL 213.223959 20.583636 \r\nL 214.245313 218.256364 \r\nL 216.288022 218.256364 \r\nL 217.309377 20.583636 \r\nL 218.330731 218.256364 \r\nL 219.352086 20.583636 \r\nL 220.37344 218.256364 \r\nL 226.501567 218.256364 \r\nL 227.522922 20.583636 \r\nL 228.544276 218.256364 \r\nL 238.757821 218.256364 \r\nL 239.779176 20.583636 \r\nL 240.80053 20.583636 \r\nL 241.821885 218.256364 \r\nL 246.928657 218.256364 \r\nL 247.950011 20.583636 \r\nL 248.971366 218.256364 \r\nL 267.355747 218.256364 \r\nL 268.377101 20.583636 \r\nL 269.398456 218.256364 \r\nL 274.505228 218.256364 \r\nL 275.526583 20.583636 \r\nL 276.547937 218.256364 \r\nL 278.590646 218.256364 \r\nL 279.612 20.583636 \r\nL 280.633355 218.256364 \r\nL 281.654709 20.583636 \r\nL 282.676064 218.256364 \r\nL 283.697418 218.256364 \r\nL 284.718773 20.583636 \r\nL 285.740127 218.256364 \r\nL 291.868254 218.256364 \r\nL 292.889609 20.583636 \r\nL 293.910963 218.256364 \r\nL 297.996381 218.256364 \r\nL 299.017736 20.583636 \r\nL 300.03909 218.256364 \r\nL 301.060445 20.583636 \r\nL 302.081799 218.256364 \r\nL 305.145863 218.256364 \r\nL 306.167217 20.583636 \r\nL 307.188572 218.256364 \r\nL 311.273989 218.256364 \r\nL 312.295344 20.583636 \r\nL 313.316698 218.256364 \r\nL 320.46618 218.256364 \r\nL 321.487534 20.583636 \r\nL 322.508889 218.256364 \r\nL 327.615661 218.256364 \r\nL 328.637016 20.583636 \r\nL 329.65837 218.256364 \r\nL 331.701079 218.256364 \r\nL 332.722434 20.583636 \r\nL 333.743788 20.583636 \r\nL 334.765143 218.256364 \r\nL 347.021396 218.256364 \r\nL 348.042751 20.583636 \r\nL 349.064105 218.256364 \r\nL 357.234941 218.256364 \r\nL 358.256296 20.583636 \r\nL 359.27765 20.583636 \r\nL 360.299005 218.256364 \r\nL 363.363068 218.256364 \r\nL 363.363068 218.256364 \r\n\" style=\"fill:none;stroke:#0000ff;stroke-linecap:square;stroke-width:1.5;\"/>\r\n   </g>\r\n   <g id=\"line2d_15\">\r\n    <path clip-path=\"url(#p0613cb5c82)\" d=\"M 58.999432 218.256364 \r\nL 70.234331 218.256364 \r\nL 71.255686 20.583636 \r\nL 72.27704 218.256364 \r\nL 126.408828 218.256364 \r\nL 127.430182 20.583636 \r\nL 128.451537 218.256364 \r\nL 320.46618 218.256364 \r\nL 321.487534 20.583636 \r\nL 322.508889 218.256364 \r\nL 327.615661 218.256364 \r\nL 328.637016 20.583636 \r\nL 329.65837 218.256364 \r\nL 363.363068 218.256364 \r\nL 363.363068 218.256364 \r\n\" style=\"fill:none;stroke:#ff0000;stroke-linecap:square;stroke-width:1.5;\"/>\r\n   </g>\r\n   <g id=\"patch_3\">\r\n    <path d=\"M 43.78125 228.14 \r\nL 43.78125 10.7 \r\n\" style=\"fill:none;stroke:#000000;stroke-linecap:square;stroke-linejoin:miter;stroke-width:0.8;\"/>\r\n   </g>\r\n   <g id=\"patch_4\">\r\n    <path d=\"M 378.58125 228.14 \r\nL 378.58125 10.7 \r\n\" style=\"fill:none;stroke:#000000;stroke-linecap:square;stroke-linejoin:miter;stroke-width:0.8;\"/>\r\n   </g>\r\n   <g id=\"patch_5\">\r\n    <path d=\"M 43.78125 228.14 \r\nL 378.58125 228.14 \r\n\" style=\"fill:none;stroke:#000000;stroke-linecap:square;stroke-linejoin:miter;stroke-width:0.8;\"/>\r\n   </g>\r\n   <g id=\"patch_6\">\r\n    <path d=\"M 43.78125 10.7 \r\nL 378.58125 10.7 \r\n\" style=\"fill:none;stroke:#000000;stroke-linecap:square;stroke-linejoin:miter;stroke-width:0.8;\"/>\r\n   </g>\r\n   <g id=\"legend_1\">\r\n    <g id=\"patch_7\">\r\n     <path d=\"M 183.702344 135.598125 \r\nL 238.660156 135.598125 \r\nQ 240.660156 135.598125 240.660156 133.598125 \r\nL 240.660156 105.241875 \r\nQ 240.660156 103.241875 238.660156 103.241875 \r\nL 183.702344 103.241875 \r\nQ 181.702344 103.241875 181.702344 105.241875 \r\nL 181.702344 133.598125 \r\nQ 181.702344 135.598125 183.702344 135.598125 \r\nz\r\n\" style=\"fill:#ffffff;opacity:0.8;stroke:#cccccc;stroke-linejoin:miter;\"/>\r\n    </g>\r\n    <g id=\"line2d_16\">\r\n     <path d=\"M 185.702344 111.340312 \r\nL 205.702344 111.340312 \r\n\" style=\"fill:none;stroke:#0000ff;stroke-linecap:square;stroke-width:1.5;\"/>\r\n    </g>\r\n    <g id=\"line2d_17\"/>\r\n    <g id=\"text_16\">\r\n     <!-- true -->\r\n     <g transform=\"translate(213.702344 114.840312)scale(0.1 -0.1)\">\r\n      <use xlink:href=\"#DejaVuSans-74\"/>\r\n      <use x=\"39.208984\" xlink:href=\"#DejaVuSans-72\"/>\r\n      <use x=\"80.322266\" xlink:href=\"#DejaVuSans-75\"/>\r\n      <use x=\"143.701172\" xlink:href=\"#DejaVuSans-65\"/>\r\n     </g>\r\n    </g>\r\n    <g id=\"line2d_18\">\r\n     <path d=\"M 185.702344 126.018437 \r\nL 205.702344 126.018437 \r\n\" style=\"fill:none;stroke:#ff0000;stroke-linecap:square;stroke-width:1.5;\"/>\r\n    </g>\r\n    <g id=\"line2d_19\"/>\r\n    <g id=\"text_17\">\r\n     <!-- pred -->\r\n     <defs>\r\n      <path d=\"M 18.109375 8.203125 \r\nL 18.109375 -20.796875 \r\nL 9.078125 -20.796875 \r\nL 9.078125 54.6875 \r\nL 18.109375 54.6875 \r\nL 18.109375 46.390625 \r\nQ 20.953125 51.265625 25.265625 53.625 \r\nQ 29.59375 56 35.59375 56 \r\nQ 45.5625 56 51.78125 48.09375 \r\nQ 58.015625 40.1875 58.015625 27.296875 \r\nQ 58.015625 14.40625 51.78125 6.484375 \r\nQ 45.5625 -1.421875 35.59375 -1.421875 \r\nQ 29.59375 -1.421875 25.265625 0.953125 \r\nQ 20.953125 3.328125 18.109375 8.203125 \r\nz\r\nM 48.6875 27.296875 \r\nQ 48.6875 37.203125 44.609375 42.84375 \r\nQ 40.53125 48.484375 33.40625 48.484375 \r\nQ 26.265625 48.484375 22.1875 42.84375 \r\nQ 18.109375 37.203125 18.109375 27.296875 \r\nQ 18.109375 17.390625 22.1875 11.75 \r\nQ 26.265625 6.109375 33.40625 6.109375 \r\nQ 40.53125 6.109375 44.609375 11.75 \r\nQ 48.6875 17.390625 48.6875 27.296875 \r\nz\r\n\" id=\"DejaVuSans-70\"/>\r\n      <path d=\"M 45.40625 46.390625 \r\nL 45.40625 75.984375 \r\nL 54.390625 75.984375 \r\nL 54.390625 0 \r\nL 45.40625 0 \r\nL 45.40625 8.203125 \r\nQ 42.578125 3.328125 38.25 0.953125 \r\nQ 33.9375 -1.421875 27.875 -1.421875 \r\nQ 17.96875 -1.421875 11.734375 6.484375 \r\nQ 5.515625 14.40625 5.515625 27.296875 \r\nQ 5.515625 40.1875 11.734375 48.09375 \r\nQ 17.96875 56 27.875 56 \r\nQ 33.9375 56 38.25 53.625 \r\nQ 42.578125 51.265625 45.40625 46.390625 \r\nz\r\nM 14.796875 27.296875 \r\nQ 14.796875 17.390625 18.875 11.75 \r\nQ 22.953125 6.109375 30.078125 6.109375 \r\nQ 37.203125 6.109375 41.296875 11.75 \r\nQ 45.40625 17.390625 45.40625 27.296875 \r\nQ 45.40625 37.203125 41.296875 42.84375 \r\nQ 37.203125 48.484375 30.078125 48.484375 \r\nQ 22.953125 48.484375 18.875 42.84375 \r\nQ 14.796875 37.203125 14.796875 27.296875 \r\nz\r\n\" id=\"DejaVuSans-64\"/>\r\n     </defs>\r\n     <g transform=\"translate(213.702344 129.518437)scale(0.1 -0.1)\">\r\n      <use xlink:href=\"#DejaVuSans-70\"/>\r\n      <use x=\"63.476562\" xlink:href=\"#DejaVuSans-72\"/>\r\n      <use x=\"104.558594\" xlink:href=\"#DejaVuSans-65\"/>\r\n      <use x=\"166.082031\" xlink:href=\"#DejaVuSans-64\"/>\r\n     </g>\r\n    </g>\r\n   </g>\r\n  </g>\r\n </g>\r\n <defs>\r\n  <clipPath id=\"p0613cb5c82\">\r\n   <rect height=\"217.44\" width=\"334.8\" x=\"43.78125\" y=\"10.7\"/>\r\n  </clipPath>\r\n </defs>\r\n</svg>\r\n",
            "text/plain": [
              "<matplotlib.figure.Figure at 0x1a75d6ab780>"
            ]
          },
          "metadata": {
            "tags": []
          }
        }
      ]
    },
    {
      "metadata": {
        "id": "XcVfJRpNp8Xk",
        "colab_type": "code",
        "colab": {}
      },
      "cell_type": "code",
      "source": [
        "from sklearn.model_selection import KFold"
      ],
      "execution_count": 0,
      "outputs": []
    },
    {
      "metadata": {
        "id": "cZdF01wYp8Xm",
        "colab_type": "code",
        "colab": {},
        "outputId": "484f2297-9f8f-43fa-bca2-5111fa32c0fa"
      },
      "cell_type": "code",
      "source": [
        "skf = StratifiedKFold(n_splits=5,shuffle=True)\n",
        "#pred_test_full =0\n",
        "\n",
        "scores_log = []\n",
        "auc_scores_log = []\n",
        "\n",
        "#i=1\n",
        "n_repeats = 5\n",
        "\n",
        "Data = data.drop(['Churn'], axis=1)\n",
        "label = data['Churn']\n",
        "\n",
        "for i in range(n_repeats):\n",
        "    scores_log.extend(cross_val_score(log_model, Data, label, cv=skf, scoring='f1_micro'))\n",
        "    \n",
        "    for train_index,test_index in skf.split(Data,label):\n",
        "        x_train,x_test = Data.loc[train_index],Data.loc[test_index]\n",
        "        y_train,y_test = label.loc[train_index],label.loc[test_index]\n",
        "    \n",
        "        score = roc_auc_score(y_test, log_model.predict(x_test))\n",
        "        \n",
        "        print('ROC AUC score:', score)\n",
        "        auc_scores_log.append(score)    \n",
        "        #pred_test = lr.predict_proba(x_test)[:,1]\n",
        "        #pred_test_full +=pred_test\n",
        "        #i+=1\n",
        "        \n",
        "del Data, label"
      ],
      "execution_count": 0,
      "outputs": [
        {
          "output_type": "stream",
          "text": [
            "ROC AUC score: 0.557361186471333\n",
            "ROC AUC score: 0.5479291011032736\n",
            "ROC AUC score: 0.5247874841743534\n",
            "ROC AUC score: 0.5303179824561404\n",
            "ROC AUC score: 0.5381030701754386\n",
            "ROC AUC score: 0.5299421233496111\n",
            "ROC AUC score: 0.529064930367155\n",
            "ROC AUC score: 0.529064930367155\n",
            "ROC AUC score: 0.5571820175438598\n",
            "ROC AUC score: 0.5537280701754386\n",
            "ROC AUC score: 0.5411285946825828\n",
            "ROC AUC score: 0.5376198227527582\n",
            "ROC AUC score: 0.5358654367878459\n",
            "ROC AUC score: 0.5468201754385965\n",
            "ROC AUC score: 0.5372258771929825\n",
            "ROC AUC score: 0.5557153192258998\n",
            "ROC AUC score: 0.5436516549104721\n",
            "ROC AUC score: 0.5316965093145234\n",
            "ROC AUC score: 0.5389254385964913\n",
            "ROC AUC score: 0.5285635964912281\n",
            "ROC AUC score: 0.5212787122445288\n",
            "ROC AUC score: 0.5471604268402966\n",
            "ROC AUC score: 0.5367426297703022\n",
            "ROC AUC score: 0.5364035087719298\n",
            "ROC AUC score: 0.5571820175438598\n"
          ],
          "name": "stdout"
        }
      ]
    },
    {
      "metadata": {
        "id": "U6Myauygp8Xp",
        "colab_type": "code",
        "colab": {},
        "outputId": "3ff3898a-09dd-4410-ce57-9bf82674f0f5"
      },
      "cell_type": "code",
      "source": [
        "print('Mean score for log:', round(np.mean(scores_log), 5),\n",
        "      '\\nMean score auc:', round(np.mean(auc_scores_log), 5))"
      ],
      "execution_count": 0,
      "outputs": [
        {
          "output_type": "stream",
          "text": [
            "Mean score for log: 0.85455 \n",
            "Mean score auc: 0.53974\n"
          ],
          "name": "stdout"
        }
      ]
    },
    {
      "metadata": {
        "id": "r6rid_syp8Xr",
        "colab_type": "text"
      },
      "cell_type": "markdown",
      "source": [
        "Random Forest"
      ]
    },
    {
      "metadata": {
        "id": "TkDZYUa4p8Xr",
        "colab_type": "code",
        "colab": {},
        "outputId": "c357438e-88dd-436c-de3d-25c3a94eafef"
      },
      "cell_type": "code",
      "source": [
        "rdf_model = RandomForestClassifier(\n",
        "n_estimators=5,\n",
        "max_depth=5,\n",
        "min_samples_leaf=1,\n",
        "min_samples_split=4,\n",
        "max_features=6)\n",
        "\n",
        "rdf_model.fit(trainData, train_label)"
      ],
      "execution_count": 0,
      "outputs": [
        {
          "output_type": "execute_result",
          "data": {
            "text/plain": [
              "RandomForestClassifier(bootstrap=True, class_weight=None, criterion='gini',\n",
              "            max_depth=None, max_features='auto', max_leaf_nodes=None,\n",
              "            min_impurity_decrease=0.0, min_impurity_split=None,\n",
              "            min_samples_leaf=1, min_samples_split=2,\n",
              "            min_weight_fraction_leaf=0.0, n_estimators=50, n_jobs=None,\n",
              "            oob_score=False, random_state=None, verbose=0,\n",
              "            warm_start=False)"
            ]
          },
          "metadata": {
            "tags": []
          },
          "execution_count": 538
        }
      ]
    },
    {
      "metadata": {
        "id": "K_cp21X7p8Xt",
        "colab_type": "code",
        "colab": {},
        "outputId": "7d8cc701-bc8b-4377-f2cc-557747495e98"
      },
      "cell_type": "code",
      "source": [
        "skf = StratifiedKFold(n_splits=5,shuffle=True)\n",
        "\n",
        "scores_rdf = []\n",
        "auc_scores_rdf = []\n",
        "\n",
        "n_repeats = 5\n",
        "\n",
        "Data = data.drop(['Churn'], axis=1)\n",
        "label = data['Churn']\n",
        "\n",
        "for i in range(n_repeats):\n",
        "    scores_rdf.extend(cross_val_score(rdf_model, Data, label, cv=skf, scoring='f1_micro'))\n",
        "    \n",
        "    for train_index,test_index in skf.split(Data,label):\n",
        "        x_train,x_test = Data.loc[train_index],Data.loc[test_index]\n",
        "        y_train,y_test = label.loc[train_index],label.loc[test_index]\n",
        "    \n",
        "        score = roc_auc_score(y_test, rdf_model.predict(x_test))\n",
        "        \n",
        "        print('ROC AUC score:', score)\n",
        "        auc_scores_rdf.append(score)    \n",
        "        \n",
        "del Data, label"
      ],
      "execution_count": 0,
      "outputs": [
        {
          "output_type": "stream",
          "text": [
            "ROC AUC score: 0.972472418158799\n",
            "ROC AUC score: 0.9587628865979381\n",
            "ROC AUC score: 0.9587628865979381\n",
            "ROC AUC score: 0.9522478070175439\n",
            "ROC AUC score: 0.984375\n",
            "ROC AUC score: 0.9793814432989691\n",
            "ROC AUC score: 0.9578856936154819\n",
            "ROC AUC score: 0.9776270573340569\n",
            "ROC AUC score: 0.953125\n",
            "ROC AUC score: 0.9583333333333333\n",
            "ROC AUC score: 0.9742268041237113\n",
            "ROC AUC score: 0.9518538614577681\n",
            "ROC AUC score: 0.9845360824742269\n",
            "ROC AUC score: 0.953125\n",
            "ROC AUC score: 0.9626644736842106\n",
            "ROC AUC score: 0.9733496111412552\n",
            "ROC AUC score: 0.9742268041237113\n",
            "ROC AUC score: 0.9793814432989691\n",
            "ROC AUC score: 0.9583333333333333\n",
            "ROC AUC score: 0.940953947368421\n",
            "ROC AUC score: 0.9690721649484536\n",
            "ROC AUC score: 0.9621631398082836\n",
            "ROC AUC score: 0.9630403327907398\n",
            "ROC AUC score: 0.9739583333333333\n",
            "ROC AUC score: 0.9583333333333333\n"
          ],
          "name": "stdout"
        }
      ]
    },
    {
      "metadata": {
        "id": "8mYtINdIp8Xv",
        "colab_type": "code",
        "colab": {},
        "outputId": "fcf281fb-773c-4d2e-a47e-6fda24928e74"
      },
      "cell_type": "code",
      "source": [
        "print('Mean score for log:', round(np.mean(scores_rdf), 5),\n",
        "      '\\nMean score auc:', round(np.mean(auc_scores_rdf), 5))"
      ],
      "execution_count": 0,
      "outputs": [
        {
          "output_type": "stream",
          "text": [
            "Mean score for log: 0.95992 \n",
            "Mean score auc: 0.96529\n"
          ],
          "name": "stdout"
        }
      ]
    },
    {
      "metadata": {
        "id": "eLJLLpQ2p8Xx",
        "colab_type": "text"
      },
      "cell_type": "markdown",
      "source": [
        "Качество у случайного леса намного лучше, чем у логистической регрессии."
      ]
    },
    {
      "metadata": {
        "id": "etkhReCvp8Xy",
        "colab_type": "text"
      },
      "cell_type": "markdown",
      "source": [
        "Построю roc кривую для логистической модели."
      ]
    },
    {
      "metadata": {
        "id": "praBvJbCp8Xy",
        "colab_type": "code",
        "colab": {},
        "outputId": "2a12843a-9006-4ca2-f5f3-fb218d5629cf"
      },
      "cell_type": "code",
      "source": [
        "preds = log_model.predict(testData)\n",
        "frp,trp, threshold = roc_curve(test_label, preds)\n",
        "roc_auc_ = auc(frp,trp)\n",
        "\n",
        "plt.figure(figsize=(14,8))\n",
        "plt.title('Reciever Operating Characteristics')\n",
        "plt.plot(frp,trp,'r',label = 'AUC = %0.2f' % roc_auc_)\n",
        "plt.legend(loc='lower right')\n",
        "plt.plot([0,1],[0,1],'b--')\n",
        "plt.ylabel('True positive rate')\n",
        "plt.xlabel('False positive rate')"
      ],
      "execution_count": 0,
      "outputs": [
        {
          "output_type": "execute_result",
          "data": {
            "text/plain": [
              "Text(0.5,0,'False positive rate')"
            ]
          },
          "metadata": {
            "tags": []
          },
          "execution_count": 541
        },
        {
          "output_type": "display_data",
          "data": {
            "image/svg+xml": "<?xml version=\"1.0\" encoding=\"utf-8\" standalone=\"no\"?>\r\n<!DOCTYPE svg PUBLIC \"-//W3C//DTD SVG 1.1//EN\"\r\n  \"http://www.w3.org/Graphics/SVG/1.1/DTD/svg11.dtd\">\r\n<!-- Created with matplotlib (http://matplotlib.org/) -->\r\n<svg height=\"494pt\" version=\"1.1\" viewBox=\"0 0 835 494\" width=\"835pt\" xmlns=\"http://www.w3.org/2000/svg\" xmlns:xlink=\"http://www.w3.org/1999/xlink\">\r\n <defs>\r\n  <style type=\"text/css\">\r\n*{stroke-linecap:butt;stroke-linejoin:round;}\r\n  </style>\r\n </defs>\r\n <g id=\"figure_1\">\r\n  <g id=\"patch_1\">\r\n   <path d=\"M 0 494.754375 \r\nL 835.68125 494.754375 \r\nL 835.68125 0 \r\nL 0 0 \r\nz\r\n\" style=\"fill:none;\"/>\r\n  </g>\r\n  <g id=\"axes_1\">\r\n   <g id=\"patch_2\">\r\n    <path d=\"M 43.78125 457.198125 \r\nL 824.98125 457.198125 \r\nL 824.98125 22.318125 \r\nL 43.78125 22.318125 \r\nz\r\n\" style=\"fill:#ffffff;\"/>\r\n   </g>\r\n   <g id=\"matplotlib.axis_1\">\r\n    <g id=\"xtick_1\">\r\n     <g id=\"line2d_1\">\r\n      <defs>\r\n       <path d=\"M 0 0 \r\nL 0 3.5 \r\n\" id=\"m5ea07eef7d\" style=\"stroke:#000000;stroke-width:0.8;\"/>\r\n      </defs>\r\n      <g>\r\n       <use style=\"stroke:#000000;stroke-width:0.8;\" x=\"79.290341\" xlink:href=\"#m5ea07eef7d\" y=\"457.198125\"/>\r\n      </g>\r\n     </g>\r\n     <g id=\"text_1\">\r\n      <!-- 0.0 -->\r\n      <defs>\r\n       <path d=\"M 31.78125 66.40625 \r\nQ 24.171875 66.40625 20.328125 58.90625 \r\nQ 16.5 51.421875 16.5 36.375 \r\nQ 16.5 21.390625 20.328125 13.890625 \r\nQ 24.171875 6.390625 31.78125 6.390625 \r\nQ 39.453125 6.390625 43.28125 13.890625 \r\nQ 47.125 21.390625 47.125 36.375 \r\nQ 47.125 51.421875 43.28125 58.90625 \r\nQ 39.453125 66.40625 31.78125 66.40625 \r\nz\r\nM 31.78125 74.21875 \r\nQ 44.046875 74.21875 50.515625 64.515625 \r\nQ 56.984375 54.828125 56.984375 36.375 \r\nQ 56.984375 17.96875 50.515625 8.265625 \r\nQ 44.046875 -1.421875 31.78125 -1.421875 \r\nQ 19.53125 -1.421875 13.0625 8.265625 \r\nQ 6.59375 17.96875 6.59375 36.375 \r\nQ 6.59375 54.828125 13.0625 64.515625 \r\nQ 19.53125 74.21875 31.78125 74.21875 \r\nz\r\n\" id=\"DejaVuSans-30\"/>\r\n       <path d=\"M 10.6875 12.40625 \r\nL 21 12.40625 \r\nL 21 0 \r\nL 10.6875 0 \r\nz\r\n\" id=\"DejaVuSans-2e\"/>\r\n      </defs>\r\n      <g transform=\"translate(71.338778 471.796562)scale(0.1 -0.1)\">\r\n       <use xlink:href=\"#DejaVuSans-30\"/>\r\n       <use x=\"63.623047\" xlink:href=\"#DejaVuSans-2e\"/>\r\n       <use x=\"95.410156\" xlink:href=\"#DejaVuSans-30\"/>\r\n      </g>\r\n     </g>\r\n    </g>\r\n    <g id=\"xtick_2\">\r\n     <g id=\"line2d_2\">\r\n      <g>\r\n       <use style=\"stroke:#000000;stroke-width:0.8;\" x=\"221.326705\" xlink:href=\"#m5ea07eef7d\" y=\"457.198125\"/>\r\n      </g>\r\n     </g>\r\n     <g id=\"text_2\">\r\n      <!-- 0.2 -->\r\n      <defs>\r\n       <path d=\"M 19.1875 8.296875 \r\nL 53.609375 8.296875 \r\nL 53.609375 0 \r\nL 7.328125 0 \r\nL 7.328125 8.296875 \r\nQ 12.9375 14.109375 22.625 23.890625 \r\nQ 32.328125 33.6875 34.8125 36.53125 \r\nQ 39.546875 41.84375 41.421875 45.53125 \r\nQ 43.3125 49.21875 43.3125 52.78125 \r\nQ 43.3125 58.59375 39.234375 62.25 \r\nQ 35.15625 65.921875 28.609375 65.921875 \r\nQ 23.96875 65.921875 18.8125 64.3125 \r\nQ 13.671875 62.703125 7.8125 59.421875 \r\nL 7.8125 69.390625 \r\nQ 13.765625 71.78125 18.9375 73 \r\nQ 24.125 74.21875 28.421875 74.21875 \r\nQ 39.75 74.21875 46.484375 68.546875 \r\nQ 53.21875 62.890625 53.21875 53.421875 \r\nQ 53.21875 48.921875 51.53125 44.890625 \r\nQ 49.859375 40.875 45.40625 35.40625 \r\nQ 44.1875 33.984375 37.640625 27.21875 \r\nQ 31.109375 20.453125 19.1875 8.296875 \r\nz\r\n\" id=\"DejaVuSans-32\"/>\r\n      </defs>\r\n      <g transform=\"translate(213.375142 471.796562)scale(0.1 -0.1)\">\r\n       <use xlink:href=\"#DejaVuSans-30\"/>\r\n       <use x=\"63.623047\" xlink:href=\"#DejaVuSans-2e\"/>\r\n       <use x=\"95.410156\" xlink:href=\"#DejaVuSans-32\"/>\r\n      </g>\r\n     </g>\r\n    </g>\r\n    <g id=\"xtick_3\">\r\n     <g id=\"line2d_3\">\r\n      <g>\r\n       <use style=\"stroke:#000000;stroke-width:0.8;\" x=\"363.363068\" xlink:href=\"#m5ea07eef7d\" y=\"457.198125\"/>\r\n      </g>\r\n     </g>\r\n     <g id=\"text_3\">\r\n      <!-- 0.4 -->\r\n      <defs>\r\n       <path d=\"M 37.796875 64.3125 \r\nL 12.890625 25.390625 \r\nL 37.796875 25.390625 \r\nz\r\nM 35.203125 72.90625 \r\nL 47.609375 72.90625 \r\nL 47.609375 25.390625 \r\nL 58.015625 25.390625 \r\nL 58.015625 17.1875 \r\nL 47.609375 17.1875 \r\nL 47.609375 0 \r\nL 37.796875 0 \r\nL 37.796875 17.1875 \r\nL 4.890625 17.1875 \r\nL 4.890625 26.703125 \r\nz\r\n\" id=\"DejaVuSans-34\"/>\r\n      </defs>\r\n      <g transform=\"translate(355.411506 471.796562)scale(0.1 -0.1)\">\r\n       <use xlink:href=\"#DejaVuSans-30\"/>\r\n       <use x=\"63.623047\" xlink:href=\"#DejaVuSans-2e\"/>\r\n       <use x=\"95.410156\" xlink:href=\"#DejaVuSans-34\"/>\r\n      </g>\r\n     </g>\r\n    </g>\r\n    <g id=\"xtick_4\">\r\n     <g id=\"line2d_4\">\r\n      <g>\r\n       <use style=\"stroke:#000000;stroke-width:0.8;\" x=\"505.399432\" xlink:href=\"#m5ea07eef7d\" y=\"457.198125\"/>\r\n      </g>\r\n     </g>\r\n     <g id=\"text_4\">\r\n      <!-- 0.6 -->\r\n      <defs>\r\n       <path d=\"M 33.015625 40.375 \r\nQ 26.375 40.375 22.484375 35.828125 \r\nQ 18.609375 31.296875 18.609375 23.390625 \r\nQ 18.609375 15.53125 22.484375 10.953125 \r\nQ 26.375 6.390625 33.015625 6.390625 \r\nQ 39.65625 6.390625 43.53125 10.953125 \r\nQ 47.40625 15.53125 47.40625 23.390625 \r\nQ 47.40625 31.296875 43.53125 35.828125 \r\nQ 39.65625 40.375 33.015625 40.375 \r\nz\r\nM 52.59375 71.296875 \r\nL 52.59375 62.3125 \r\nQ 48.875 64.0625 45.09375 64.984375 \r\nQ 41.3125 65.921875 37.59375 65.921875 \r\nQ 27.828125 65.921875 22.671875 59.328125 \r\nQ 17.53125 52.734375 16.796875 39.40625 \r\nQ 19.671875 43.65625 24.015625 45.921875 \r\nQ 28.375 48.1875 33.59375 48.1875 \r\nQ 44.578125 48.1875 50.953125 41.515625 \r\nQ 57.328125 34.859375 57.328125 23.390625 \r\nQ 57.328125 12.15625 50.6875 5.359375 \r\nQ 44.046875 -1.421875 33.015625 -1.421875 \r\nQ 20.359375 -1.421875 13.671875 8.265625 \r\nQ 6.984375 17.96875 6.984375 36.375 \r\nQ 6.984375 53.65625 15.1875 63.9375 \r\nQ 23.390625 74.21875 37.203125 74.21875 \r\nQ 40.921875 74.21875 44.703125 73.484375 \r\nQ 48.484375 72.75 52.59375 71.296875 \r\nz\r\n\" id=\"DejaVuSans-36\"/>\r\n      </defs>\r\n      <g transform=\"translate(497.447869 471.796562)scale(0.1 -0.1)\">\r\n       <use xlink:href=\"#DejaVuSans-30\"/>\r\n       <use x=\"63.623047\" xlink:href=\"#DejaVuSans-2e\"/>\r\n       <use x=\"95.410156\" xlink:href=\"#DejaVuSans-36\"/>\r\n      </g>\r\n     </g>\r\n    </g>\r\n    <g id=\"xtick_5\">\r\n     <g id=\"line2d_5\">\r\n      <g>\r\n       <use style=\"stroke:#000000;stroke-width:0.8;\" x=\"647.435795\" xlink:href=\"#m5ea07eef7d\" y=\"457.198125\"/>\r\n      </g>\r\n     </g>\r\n     <g id=\"text_5\">\r\n      <!-- 0.8 -->\r\n      <defs>\r\n       <path d=\"M 31.78125 34.625 \r\nQ 24.75 34.625 20.71875 30.859375 \r\nQ 16.703125 27.09375 16.703125 20.515625 \r\nQ 16.703125 13.921875 20.71875 10.15625 \r\nQ 24.75 6.390625 31.78125 6.390625 \r\nQ 38.8125 6.390625 42.859375 10.171875 \r\nQ 46.921875 13.96875 46.921875 20.515625 \r\nQ 46.921875 27.09375 42.890625 30.859375 \r\nQ 38.875 34.625 31.78125 34.625 \r\nz\r\nM 21.921875 38.8125 \r\nQ 15.578125 40.375 12.03125 44.71875 \r\nQ 8.5 49.078125 8.5 55.328125 \r\nQ 8.5 64.0625 14.71875 69.140625 \r\nQ 20.953125 74.21875 31.78125 74.21875 \r\nQ 42.671875 74.21875 48.875 69.140625 \r\nQ 55.078125 64.0625 55.078125 55.328125 \r\nQ 55.078125 49.078125 51.53125 44.71875 \r\nQ 48 40.375 41.703125 38.8125 \r\nQ 48.828125 37.15625 52.796875 32.3125 \r\nQ 56.78125 27.484375 56.78125 20.515625 \r\nQ 56.78125 9.90625 50.3125 4.234375 \r\nQ 43.84375 -1.421875 31.78125 -1.421875 \r\nQ 19.734375 -1.421875 13.25 4.234375 \r\nQ 6.78125 9.90625 6.78125 20.515625 \r\nQ 6.78125 27.484375 10.78125 32.3125 \r\nQ 14.796875 37.15625 21.921875 38.8125 \r\nz\r\nM 18.3125 54.390625 \r\nQ 18.3125 48.734375 21.84375 45.5625 \r\nQ 25.390625 42.390625 31.78125 42.390625 \r\nQ 38.140625 42.390625 41.71875 45.5625 \r\nQ 45.3125 48.734375 45.3125 54.390625 \r\nQ 45.3125 60.0625 41.71875 63.234375 \r\nQ 38.140625 66.40625 31.78125 66.40625 \r\nQ 25.390625 66.40625 21.84375 63.234375 \r\nQ 18.3125 60.0625 18.3125 54.390625 \r\nz\r\n\" id=\"DejaVuSans-38\"/>\r\n      </defs>\r\n      <g transform=\"translate(639.484233 471.796562)scale(0.1 -0.1)\">\r\n       <use xlink:href=\"#DejaVuSans-30\"/>\r\n       <use x=\"63.623047\" xlink:href=\"#DejaVuSans-2e\"/>\r\n       <use x=\"95.410156\" xlink:href=\"#DejaVuSans-38\"/>\r\n      </g>\r\n     </g>\r\n    </g>\r\n    <g id=\"xtick_6\">\r\n     <g id=\"line2d_6\">\r\n      <g>\r\n       <use style=\"stroke:#000000;stroke-width:0.8;\" x=\"789.472159\" xlink:href=\"#m5ea07eef7d\" y=\"457.198125\"/>\r\n      </g>\r\n     </g>\r\n     <g id=\"text_6\">\r\n      <!-- 1.0 -->\r\n      <defs>\r\n       <path d=\"M 12.40625 8.296875 \r\nL 28.515625 8.296875 \r\nL 28.515625 63.921875 \r\nL 10.984375 60.40625 \r\nL 10.984375 69.390625 \r\nL 28.421875 72.90625 \r\nL 38.28125 72.90625 \r\nL 38.28125 8.296875 \r\nL 54.390625 8.296875 \r\nL 54.390625 0 \r\nL 12.40625 0 \r\nz\r\n\" id=\"DejaVuSans-31\"/>\r\n      </defs>\r\n      <g transform=\"translate(781.520597 471.796562)scale(0.1 -0.1)\">\r\n       <use xlink:href=\"#DejaVuSans-31\"/>\r\n       <use x=\"63.623047\" xlink:href=\"#DejaVuSans-2e\"/>\r\n       <use x=\"95.410156\" xlink:href=\"#DejaVuSans-30\"/>\r\n      </g>\r\n     </g>\r\n    </g>\r\n    <g id=\"text_7\">\r\n     <!-- False positive rate -->\r\n     <defs>\r\n      <path d=\"M 9.8125 72.90625 \r\nL 51.703125 72.90625 \r\nL 51.703125 64.59375 \r\nL 19.671875 64.59375 \r\nL 19.671875 43.109375 \r\nL 48.578125 43.109375 \r\nL 48.578125 34.8125 \r\nL 19.671875 34.8125 \r\nL 19.671875 0 \r\nL 9.8125 0 \r\nz\r\n\" id=\"DejaVuSans-46\"/>\r\n      <path d=\"M 34.28125 27.484375 \r\nQ 23.390625 27.484375 19.1875 25 \r\nQ 14.984375 22.515625 14.984375 16.5 \r\nQ 14.984375 11.71875 18.140625 8.90625 \r\nQ 21.296875 6.109375 26.703125 6.109375 \r\nQ 34.1875 6.109375 38.703125 11.40625 \r\nQ 43.21875 16.703125 43.21875 25.484375 \r\nL 43.21875 27.484375 \r\nz\r\nM 52.203125 31.203125 \r\nL 52.203125 0 \r\nL 43.21875 0 \r\nL 43.21875 8.296875 \r\nQ 40.140625 3.328125 35.546875 0.953125 \r\nQ 30.953125 -1.421875 24.3125 -1.421875 \r\nQ 15.921875 -1.421875 10.953125 3.296875 \r\nQ 6 8.015625 6 15.921875 \r\nQ 6 25.140625 12.171875 29.828125 \r\nQ 18.359375 34.515625 30.609375 34.515625 \r\nL 43.21875 34.515625 \r\nL 43.21875 35.40625 \r\nQ 43.21875 41.609375 39.140625 45 \r\nQ 35.0625 48.390625 27.6875 48.390625 \r\nQ 23 48.390625 18.546875 47.265625 \r\nQ 14.109375 46.140625 10.015625 43.890625 \r\nL 10.015625 52.203125 \r\nQ 14.9375 54.109375 19.578125 55.046875 \r\nQ 24.21875 56 28.609375 56 \r\nQ 40.484375 56 46.34375 49.84375 \r\nQ 52.203125 43.703125 52.203125 31.203125 \r\nz\r\n\" id=\"DejaVuSans-61\"/>\r\n      <path d=\"M 9.421875 75.984375 \r\nL 18.40625 75.984375 \r\nL 18.40625 0 \r\nL 9.421875 0 \r\nz\r\n\" id=\"DejaVuSans-6c\"/>\r\n      <path d=\"M 44.28125 53.078125 \r\nL 44.28125 44.578125 \r\nQ 40.484375 46.53125 36.375 47.5 \r\nQ 32.28125 48.484375 27.875 48.484375 \r\nQ 21.1875 48.484375 17.84375 46.4375 \r\nQ 14.5 44.390625 14.5 40.28125 \r\nQ 14.5 37.15625 16.890625 35.375 \r\nQ 19.28125 33.59375 26.515625 31.984375 \r\nL 29.59375 31.296875 \r\nQ 39.15625 29.25 43.1875 25.515625 \r\nQ 47.21875 21.78125 47.21875 15.09375 \r\nQ 47.21875 7.46875 41.1875 3.015625 \r\nQ 35.15625 -1.421875 24.609375 -1.421875 \r\nQ 20.21875 -1.421875 15.453125 -0.5625 \r\nQ 10.6875 0.296875 5.421875 2 \r\nL 5.421875 11.28125 \r\nQ 10.40625 8.6875 15.234375 7.390625 \r\nQ 20.0625 6.109375 24.8125 6.109375 \r\nQ 31.15625 6.109375 34.5625 8.28125 \r\nQ 37.984375 10.453125 37.984375 14.40625 \r\nQ 37.984375 18.0625 35.515625 20.015625 \r\nQ 33.0625 21.96875 24.703125 23.78125 \r\nL 21.578125 24.515625 \r\nQ 13.234375 26.265625 9.515625 29.90625 \r\nQ 5.8125 33.546875 5.8125 39.890625 \r\nQ 5.8125 47.609375 11.28125 51.796875 \r\nQ 16.75 56 26.8125 56 \r\nQ 31.78125 56 36.171875 55.265625 \r\nQ 40.578125 54.546875 44.28125 53.078125 \r\nz\r\n\" id=\"DejaVuSans-73\"/>\r\n      <path d=\"M 56.203125 29.59375 \r\nL 56.203125 25.203125 \r\nL 14.890625 25.203125 \r\nQ 15.484375 15.921875 20.484375 11.0625 \r\nQ 25.484375 6.203125 34.421875 6.203125 \r\nQ 39.59375 6.203125 44.453125 7.46875 \r\nQ 49.3125 8.734375 54.109375 11.28125 \r\nL 54.109375 2.78125 \r\nQ 49.265625 0.734375 44.1875 -0.34375 \r\nQ 39.109375 -1.421875 33.890625 -1.421875 \r\nQ 20.796875 -1.421875 13.15625 6.1875 \r\nQ 5.515625 13.8125 5.515625 26.8125 \r\nQ 5.515625 40.234375 12.765625 48.109375 \r\nQ 20.015625 56 32.328125 56 \r\nQ 43.359375 56 49.78125 48.890625 \r\nQ 56.203125 41.796875 56.203125 29.59375 \r\nz\r\nM 47.21875 32.234375 \r\nQ 47.125 39.59375 43.09375 43.984375 \r\nQ 39.0625 48.390625 32.421875 48.390625 \r\nQ 24.90625 48.390625 20.390625 44.140625 \r\nQ 15.875 39.890625 15.1875 32.171875 \r\nz\r\n\" id=\"DejaVuSans-65\"/>\r\n      <path id=\"DejaVuSans-20\"/>\r\n      <path d=\"M 18.109375 8.203125 \r\nL 18.109375 -20.796875 \r\nL 9.078125 -20.796875 \r\nL 9.078125 54.6875 \r\nL 18.109375 54.6875 \r\nL 18.109375 46.390625 \r\nQ 20.953125 51.265625 25.265625 53.625 \r\nQ 29.59375 56 35.59375 56 \r\nQ 45.5625 56 51.78125 48.09375 \r\nQ 58.015625 40.1875 58.015625 27.296875 \r\nQ 58.015625 14.40625 51.78125 6.484375 \r\nQ 45.5625 -1.421875 35.59375 -1.421875 \r\nQ 29.59375 -1.421875 25.265625 0.953125 \r\nQ 20.953125 3.328125 18.109375 8.203125 \r\nz\r\nM 48.6875 27.296875 \r\nQ 48.6875 37.203125 44.609375 42.84375 \r\nQ 40.53125 48.484375 33.40625 48.484375 \r\nQ 26.265625 48.484375 22.1875 42.84375 \r\nQ 18.109375 37.203125 18.109375 27.296875 \r\nQ 18.109375 17.390625 22.1875 11.75 \r\nQ 26.265625 6.109375 33.40625 6.109375 \r\nQ 40.53125 6.109375 44.609375 11.75 \r\nQ 48.6875 17.390625 48.6875 27.296875 \r\nz\r\n\" id=\"DejaVuSans-70\"/>\r\n      <path d=\"M 30.609375 48.390625 \r\nQ 23.390625 48.390625 19.1875 42.75 \r\nQ 14.984375 37.109375 14.984375 27.296875 \r\nQ 14.984375 17.484375 19.15625 11.84375 \r\nQ 23.34375 6.203125 30.609375 6.203125 \r\nQ 37.796875 6.203125 41.984375 11.859375 \r\nQ 46.1875 17.53125 46.1875 27.296875 \r\nQ 46.1875 37.015625 41.984375 42.703125 \r\nQ 37.796875 48.390625 30.609375 48.390625 \r\nz\r\nM 30.609375 56 \r\nQ 42.328125 56 49.015625 48.375 \r\nQ 55.71875 40.765625 55.71875 27.296875 \r\nQ 55.71875 13.875 49.015625 6.21875 \r\nQ 42.328125 -1.421875 30.609375 -1.421875 \r\nQ 18.84375 -1.421875 12.171875 6.21875 \r\nQ 5.515625 13.875 5.515625 27.296875 \r\nQ 5.515625 40.765625 12.171875 48.375 \r\nQ 18.84375 56 30.609375 56 \r\nz\r\n\" id=\"DejaVuSans-6f\"/>\r\n      <path d=\"M 9.421875 54.6875 \r\nL 18.40625 54.6875 \r\nL 18.40625 0 \r\nL 9.421875 0 \r\nz\r\nM 9.421875 75.984375 \r\nL 18.40625 75.984375 \r\nL 18.40625 64.59375 \r\nL 9.421875 64.59375 \r\nz\r\n\" id=\"DejaVuSans-69\"/>\r\n      <path d=\"M 18.3125 70.21875 \r\nL 18.3125 54.6875 \r\nL 36.8125 54.6875 \r\nL 36.8125 47.703125 \r\nL 18.3125 47.703125 \r\nL 18.3125 18.015625 \r\nQ 18.3125 11.328125 20.140625 9.421875 \r\nQ 21.96875 7.515625 27.59375 7.515625 \r\nL 36.8125 7.515625 \r\nL 36.8125 0 \r\nL 27.59375 0 \r\nQ 17.1875 0 13.234375 3.875 \r\nQ 9.28125 7.765625 9.28125 18.015625 \r\nL 9.28125 47.703125 \r\nL 2.6875 47.703125 \r\nL 2.6875 54.6875 \r\nL 9.28125 54.6875 \r\nL 9.28125 70.21875 \r\nz\r\n\" id=\"DejaVuSans-74\"/>\r\n      <path d=\"M 2.984375 54.6875 \r\nL 12.5 54.6875 \r\nL 29.59375 8.796875 \r\nL 46.6875 54.6875 \r\nL 56.203125 54.6875 \r\nL 35.6875 0 \r\nL 23.484375 0 \r\nz\r\n\" id=\"DejaVuSans-76\"/>\r\n      <path d=\"M 41.109375 46.296875 \r\nQ 39.59375 47.171875 37.8125 47.578125 \r\nQ 36.03125 48 33.890625 48 \r\nQ 26.265625 48 22.1875 43.046875 \r\nQ 18.109375 38.09375 18.109375 28.8125 \r\nL 18.109375 0 \r\nL 9.078125 0 \r\nL 9.078125 54.6875 \r\nL 18.109375 54.6875 \r\nL 18.109375 46.1875 \r\nQ 20.953125 51.171875 25.484375 53.578125 \r\nQ 30.03125 56 36.53125 56 \r\nQ 37.453125 56 38.578125 55.875 \r\nQ 39.703125 55.765625 41.0625 55.515625 \r\nz\r\n\" id=\"DejaVuSans-72\"/>\r\n     </defs>\r\n     <g transform=\"translate(388.43125 485.474687)scale(0.1 -0.1)\">\r\n      <use xlink:href=\"#DejaVuSans-46\"/>\r\n      <use x=\"57.378906\" xlink:href=\"#DejaVuSans-61\"/>\r\n      <use x=\"118.658203\" xlink:href=\"#DejaVuSans-6c\"/>\r\n      <use x=\"146.441406\" xlink:href=\"#DejaVuSans-73\"/>\r\n      <use x=\"198.541016\" xlink:href=\"#DejaVuSans-65\"/>\r\n      <use x=\"260.064453\" xlink:href=\"#DejaVuSans-20\"/>\r\n      <use x=\"291.851562\" xlink:href=\"#DejaVuSans-70\"/>\r\n      <use x=\"355.328125\" xlink:href=\"#DejaVuSans-6f\"/>\r\n      <use x=\"416.509766\" xlink:href=\"#DejaVuSans-73\"/>\r\n      <use x=\"468.609375\" xlink:href=\"#DejaVuSans-69\"/>\r\n      <use x=\"496.392578\" xlink:href=\"#DejaVuSans-74\"/>\r\n      <use x=\"535.601562\" xlink:href=\"#DejaVuSans-69\"/>\r\n      <use x=\"563.384766\" xlink:href=\"#DejaVuSans-76\"/>\r\n      <use x=\"622.564453\" xlink:href=\"#DejaVuSans-65\"/>\r\n      <use x=\"684.087891\" xlink:href=\"#DejaVuSans-20\"/>\r\n      <use x=\"715.875\" xlink:href=\"#DejaVuSans-72\"/>\r\n      <use x=\"756.988281\" xlink:href=\"#DejaVuSans-61\"/>\r\n      <use x=\"818.267578\" xlink:href=\"#DejaVuSans-74\"/>\r\n      <use x=\"857.476562\" xlink:href=\"#DejaVuSans-65\"/>\r\n     </g>\r\n    </g>\r\n   </g>\r\n   <g id=\"matplotlib.axis_2\">\r\n    <g id=\"ytick_1\">\r\n     <g id=\"line2d_7\">\r\n      <defs>\r\n       <path d=\"M 0 0 \r\nL -3.5 0 \r\n\" id=\"me1bb74c784\" style=\"stroke:#000000;stroke-width:0.8;\"/>\r\n      </defs>\r\n      <g>\r\n       <use style=\"stroke:#000000;stroke-width:0.8;\" x=\"43.78125\" xlink:href=\"#me1bb74c784\" y=\"437.430852\"/>\r\n      </g>\r\n     </g>\r\n     <g id=\"text_8\">\r\n      <!-- 0.0 -->\r\n      <g transform=\"translate(20.878125 441.230071)scale(0.1 -0.1)\">\r\n       <use xlink:href=\"#DejaVuSans-30\"/>\r\n       <use x=\"63.623047\" xlink:href=\"#DejaVuSans-2e\"/>\r\n       <use x=\"95.410156\" xlink:href=\"#DejaVuSans-30\"/>\r\n      </g>\r\n     </g>\r\n    </g>\r\n    <g id=\"ytick_2\">\r\n     <g id=\"line2d_8\">\r\n      <g>\r\n       <use style=\"stroke:#000000;stroke-width:0.8;\" x=\"43.78125\" xlink:href=\"#me1bb74c784\" y=\"358.361761\"/>\r\n      </g>\r\n     </g>\r\n     <g id=\"text_9\">\r\n      <!-- 0.2 -->\r\n      <g transform=\"translate(20.878125 362.16098)scale(0.1 -0.1)\">\r\n       <use xlink:href=\"#DejaVuSans-30\"/>\r\n       <use x=\"63.623047\" xlink:href=\"#DejaVuSans-2e\"/>\r\n       <use x=\"95.410156\" xlink:href=\"#DejaVuSans-32\"/>\r\n      </g>\r\n     </g>\r\n    </g>\r\n    <g id=\"ytick_3\">\r\n     <g id=\"line2d_9\">\r\n      <g>\r\n       <use style=\"stroke:#000000;stroke-width:0.8;\" x=\"43.78125\" xlink:href=\"#me1bb74c784\" y=\"279.29267\"/>\r\n      </g>\r\n     </g>\r\n     <g id=\"text_10\">\r\n      <!-- 0.4 -->\r\n      <g transform=\"translate(20.878125 283.091889)scale(0.1 -0.1)\">\r\n       <use xlink:href=\"#DejaVuSans-30\"/>\r\n       <use x=\"63.623047\" xlink:href=\"#DejaVuSans-2e\"/>\r\n       <use x=\"95.410156\" xlink:href=\"#DejaVuSans-34\"/>\r\n      </g>\r\n     </g>\r\n    </g>\r\n    <g id=\"ytick_4\">\r\n     <g id=\"line2d_10\">\r\n      <g>\r\n       <use style=\"stroke:#000000;stroke-width:0.8;\" x=\"43.78125\" xlink:href=\"#me1bb74c784\" y=\"200.22358\"/>\r\n      </g>\r\n     </g>\r\n     <g id=\"text_11\">\r\n      <!-- 0.6 -->\r\n      <g transform=\"translate(20.878125 204.022798)scale(0.1 -0.1)\">\r\n       <use xlink:href=\"#DejaVuSans-30\"/>\r\n       <use x=\"63.623047\" xlink:href=\"#DejaVuSans-2e\"/>\r\n       <use x=\"95.410156\" xlink:href=\"#DejaVuSans-36\"/>\r\n      </g>\r\n     </g>\r\n    </g>\r\n    <g id=\"ytick_5\">\r\n     <g id=\"line2d_11\">\r\n      <g>\r\n       <use style=\"stroke:#000000;stroke-width:0.8;\" x=\"43.78125\" xlink:href=\"#me1bb74c784\" y=\"121.154489\"/>\r\n      </g>\r\n     </g>\r\n     <g id=\"text_12\">\r\n      <!-- 0.8 -->\r\n      <g transform=\"translate(20.878125 124.953707)scale(0.1 -0.1)\">\r\n       <use xlink:href=\"#DejaVuSans-30\"/>\r\n       <use x=\"63.623047\" xlink:href=\"#DejaVuSans-2e\"/>\r\n       <use x=\"95.410156\" xlink:href=\"#DejaVuSans-38\"/>\r\n      </g>\r\n     </g>\r\n    </g>\r\n    <g id=\"ytick_6\">\r\n     <g id=\"line2d_12\">\r\n      <g>\r\n       <use style=\"stroke:#000000;stroke-width:0.8;\" x=\"43.78125\" xlink:href=\"#me1bb74c784\" y=\"42.085398\"/>\r\n      </g>\r\n     </g>\r\n     <g id=\"text_13\">\r\n      <!-- 1.0 -->\r\n      <g transform=\"translate(20.878125 45.884616)scale(0.1 -0.1)\">\r\n       <use xlink:href=\"#DejaVuSans-31\"/>\r\n       <use x=\"63.623047\" xlink:href=\"#DejaVuSans-2e\"/>\r\n       <use x=\"95.410156\" xlink:href=\"#DejaVuSans-30\"/>\r\n      </g>\r\n     </g>\r\n    </g>\r\n    <g id=\"text_14\">\r\n     <!-- True positive rate -->\r\n     <defs>\r\n      <path d=\"M -0.296875 72.90625 \r\nL 61.375 72.90625 \r\nL 61.375 64.59375 \r\nL 35.5 64.59375 \r\nL 35.5 0 \r\nL 25.59375 0 \r\nL 25.59375 64.59375 \r\nL -0.296875 64.59375 \r\nz\r\n\" id=\"DejaVuSans-54\"/>\r\n      <path d=\"M 8.5 21.578125 \r\nL 8.5 54.6875 \r\nL 17.484375 54.6875 \r\nL 17.484375 21.921875 \r\nQ 17.484375 14.15625 20.5 10.265625 \r\nQ 23.53125 6.390625 29.59375 6.390625 \r\nQ 36.859375 6.390625 41.078125 11.03125 \r\nQ 45.3125 15.671875 45.3125 23.6875 \r\nL 45.3125 54.6875 \r\nL 54.296875 54.6875 \r\nL 54.296875 0 \r\nL 45.3125 0 \r\nL 45.3125 8.40625 \r\nQ 42.046875 3.421875 37.71875 1 \r\nQ 33.40625 -1.421875 27.6875 -1.421875 \r\nQ 18.265625 -1.421875 13.375 4.4375 \r\nQ 8.5 10.296875 8.5 21.578125 \r\nz\r\nM 31.109375 56 \r\nz\r\n\" id=\"DejaVuSans-75\"/>\r\n     </defs>\r\n     <g transform=\"translate(14.798438 284.04875)rotate(-90)scale(0.1 -0.1)\">\r\n      <use xlink:href=\"#DejaVuSans-54\"/>\r\n      <use x=\"60.865234\" xlink:href=\"#DejaVuSans-72\"/>\r\n      <use x=\"101.978516\" xlink:href=\"#DejaVuSans-75\"/>\r\n      <use x=\"165.357422\" xlink:href=\"#DejaVuSans-65\"/>\r\n      <use x=\"226.880859\" xlink:href=\"#DejaVuSans-20\"/>\r\n      <use x=\"258.667969\" xlink:href=\"#DejaVuSans-70\"/>\r\n      <use x=\"322.144531\" xlink:href=\"#DejaVuSans-6f\"/>\r\n      <use x=\"383.326172\" xlink:href=\"#DejaVuSans-73\"/>\r\n      <use x=\"435.425781\" xlink:href=\"#DejaVuSans-69\"/>\r\n      <use x=\"463.208984\" xlink:href=\"#DejaVuSans-74\"/>\r\n      <use x=\"502.417969\" xlink:href=\"#DejaVuSans-69\"/>\r\n      <use x=\"530.201172\" xlink:href=\"#DejaVuSans-76\"/>\r\n      <use x=\"589.380859\" xlink:href=\"#DejaVuSans-65\"/>\r\n      <use x=\"650.904297\" xlink:href=\"#DejaVuSans-20\"/>\r\n      <use x=\"682.691406\" xlink:href=\"#DejaVuSans-72\"/>\r\n      <use x=\"723.804688\" xlink:href=\"#DejaVuSans-61\"/>\r\n      <use x=\"785.083984\" xlink:href=\"#DejaVuSans-74\"/>\r\n      <use x=\"824.292969\" xlink:href=\"#DejaVuSans-65\"/>\r\n     </g>\r\n    </g>\r\n   </g>\r\n   <g id=\"line2d_13\">\r\n    <path clip-path=\"url(#pe984e74908)\" d=\"M 79.290341 437.430852 \r\nL 91.76426 383.273941 \r\nL 789.472159 42.085398 \r\n\" style=\"fill:none;stroke:#ff0000;stroke-linecap:square;stroke-width:1.5;\"/>\r\n   </g>\r\n   <g id=\"line2d_14\">\r\n    <path clip-path=\"url(#pe984e74908)\" d=\"M 79.290341 437.430852 \r\nL 789.472159 42.085398 \r\n\" style=\"fill:none;stroke:#0000ff;stroke-dasharray:5.55,2.4;stroke-dashoffset:0;stroke-width:1.5;\"/>\r\n   </g>\r\n   <g id=\"patch_3\">\r\n    <path d=\"M 43.78125 457.198125 \r\nL 43.78125 22.318125 \r\n\" style=\"fill:none;stroke:#000000;stroke-linecap:square;stroke-linejoin:miter;stroke-width:0.8;\"/>\r\n   </g>\r\n   <g id=\"patch_4\">\r\n    <path d=\"M 824.98125 457.198125 \r\nL 824.98125 22.318125 \r\n\" style=\"fill:none;stroke:#000000;stroke-linecap:square;stroke-linejoin:miter;stroke-width:0.8;\"/>\r\n   </g>\r\n   <g id=\"patch_5\">\r\n    <path d=\"M 43.78125 457.198125 \r\nL 824.98125 457.198125 \r\n\" style=\"fill:none;stroke:#000000;stroke-linecap:square;stroke-linejoin:miter;stroke-width:0.8;\"/>\r\n   </g>\r\n   <g id=\"patch_6\">\r\n    <path d=\"M 43.78125 22.318125 \r\nL 824.98125 22.318125 \r\n\" style=\"fill:none;stroke:#000000;stroke-linecap:square;stroke-linejoin:miter;stroke-width:0.8;\"/>\r\n   </g>\r\n   <g id=\"text_15\">\r\n    <!-- Reciever Operating Characteristics -->\r\n    <defs>\r\n     <path d=\"M 44.390625 34.1875 \r\nQ 47.5625 33.109375 50.5625 29.59375 \r\nQ 53.5625 26.078125 56.59375 19.921875 \r\nL 66.609375 0 \r\nL 56 0 \r\nL 46.6875 18.703125 \r\nQ 43.0625 26.03125 39.671875 28.421875 \r\nQ 36.28125 30.8125 30.421875 30.8125 \r\nL 19.671875 30.8125 \r\nL 19.671875 0 \r\nL 9.8125 0 \r\nL 9.8125 72.90625 \r\nL 32.078125 72.90625 \r\nQ 44.578125 72.90625 50.734375 67.671875 \r\nQ 56.890625 62.453125 56.890625 51.90625 \r\nQ 56.890625 45.015625 53.6875 40.46875 \r\nQ 50.484375 35.9375 44.390625 34.1875 \r\nz\r\nM 19.671875 64.796875 \r\nL 19.671875 38.921875 \r\nL 32.078125 38.921875 \r\nQ 39.203125 38.921875 42.84375 42.21875 \r\nQ 46.484375 45.515625 46.484375 51.90625 \r\nQ 46.484375 58.296875 42.84375 61.546875 \r\nQ 39.203125 64.796875 32.078125 64.796875 \r\nz\r\n\" id=\"DejaVuSans-52\"/>\r\n     <path d=\"M 48.78125 52.59375 \r\nL 48.78125 44.1875 \r\nQ 44.96875 46.296875 41.140625 47.34375 \r\nQ 37.3125 48.390625 33.40625 48.390625 \r\nQ 24.65625 48.390625 19.8125 42.84375 \r\nQ 14.984375 37.3125 14.984375 27.296875 \r\nQ 14.984375 17.28125 19.8125 11.734375 \r\nQ 24.65625 6.203125 33.40625 6.203125 \r\nQ 37.3125 6.203125 41.140625 7.25 \r\nQ 44.96875 8.296875 48.78125 10.40625 \r\nL 48.78125 2.09375 \r\nQ 45.015625 0.34375 40.984375 -0.53125 \r\nQ 36.96875 -1.421875 32.421875 -1.421875 \r\nQ 20.0625 -1.421875 12.78125 6.34375 \r\nQ 5.515625 14.109375 5.515625 27.296875 \r\nQ 5.515625 40.671875 12.859375 48.328125 \r\nQ 20.21875 56 33.015625 56 \r\nQ 37.15625 56 41.109375 55.140625 \r\nQ 45.0625 54.296875 48.78125 52.59375 \r\nz\r\n\" id=\"DejaVuSans-63\"/>\r\n     <path d=\"M 39.40625 66.21875 \r\nQ 28.65625 66.21875 22.328125 58.203125 \r\nQ 16.015625 50.203125 16.015625 36.375 \r\nQ 16.015625 22.609375 22.328125 14.59375 \r\nQ 28.65625 6.59375 39.40625 6.59375 \r\nQ 50.140625 6.59375 56.421875 14.59375 \r\nQ 62.703125 22.609375 62.703125 36.375 \r\nQ 62.703125 50.203125 56.421875 58.203125 \r\nQ 50.140625 66.21875 39.40625 66.21875 \r\nz\r\nM 39.40625 74.21875 \r\nQ 54.734375 74.21875 63.90625 63.9375 \r\nQ 73.09375 53.65625 73.09375 36.375 \r\nQ 73.09375 19.140625 63.90625 8.859375 \r\nQ 54.734375 -1.421875 39.40625 -1.421875 \r\nQ 24.03125 -1.421875 14.8125 8.828125 \r\nQ 5.609375 19.09375 5.609375 36.375 \r\nQ 5.609375 53.65625 14.8125 63.9375 \r\nQ 24.03125 74.21875 39.40625 74.21875 \r\nz\r\n\" id=\"DejaVuSans-4f\"/>\r\n     <path d=\"M 54.890625 33.015625 \r\nL 54.890625 0 \r\nL 45.90625 0 \r\nL 45.90625 32.71875 \r\nQ 45.90625 40.484375 42.875 44.328125 \r\nQ 39.84375 48.1875 33.796875 48.1875 \r\nQ 26.515625 48.1875 22.3125 43.546875 \r\nQ 18.109375 38.921875 18.109375 30.90625 \r\nL 18.109375 0 \r\nL 9.078125 0 \r\nL 9.078125 54.6875 \r\nL 18.109375 54.6875 \r\nL 18.109375 46.1875 \r\nQ 21.34375 51.125 25.703125 53.5625 \r\nQ 30.078125 56 35.796875 56 \r\nQ 45.21875 56 50.046875 50.171875 \r\nQ 54.890625 44.34375 54.890625 33.015625 \r\nz\r\n\" id=\"DejaVuSans-6e\"/>\r\n     <path d=\"M 45.40625 27.984375 \r\nQ 45.40625 37.75 41.375 43.109375 \r\nQ 37.359375 48.484375 30.078125 48.484375 \r\nQ 22.859375 48.484375 18.828125 43.109375 \r\nQ 14.796875 37.75 14.796875 27.984375 \r\nQ 14.796875 18.265625 18.828125 12.890625 \r\nQ 22.859375 7.515625 30.078125 7.515625 \r\nQ 37.359375 7.515625 41.375 12.890625 \r\nQ 45.40625 18.265625 45.40625 27.984375 \r\nz\r\nM 54.390625 6.78125 \r\nQ 54.390625 -7.171875 48.1875 -13.984375 \r\nQ 42 -20.796875 29.203125 -20.796875 \r\nQ 24.46875 -20.796875 20.265625 -20.09375 \r\nQ 16.0625 -19.390625 12.109375 -17.921875 \r\nL 12.109375 -9.1875 \r\nQ 16.0625 -11.328125 19.921875 -12.34375 \r\nQ 23.78125 -13.375 27.78125 -13.375 \r\nQ 36.625 -13.375 41.015625 -8.765625 \r\nQ 45.40625 -4.15625 45.40625 5.171875 \r\nL 45.40625 9.625 \r\nQ 42.625 4.78125 38.28125 2.390625 \r\nQ 33.9375 0 27.875 0 \r\nQ 17.828125 0 11.671875 7.65625 \r\nQ 5.515625 15.328125 5.515625 27.984375 \r\nQ 5.515625 40.671875 11.671875 48.328125 \r\nQ 17.828125 56 27.875 56 \r\nQ 33.9375 56 38.28125 53.609375 \r\nQ 42.625 51.21875 45.40625 46.390625 \r\nL 45.40625 54.6875 \r\nL 54.390625 54.6875 \r\nz\r\n\" id=\"DejaVuSans-67\"/>\r\n     <path d=\"M 64.40625 67.28125 \r\nL 64.40625 56.890625 \r\nQ 59.421875 61.53125 53.78125 63.8125 \r\nQ 48.140625 66.109375 41.796875 66.109375 \r\nQ 29.296875 66.109375 22.65625 58.46875 \r\nQ 16.015625 50.828125 16.015625 36.375 \r\nQ 16.015625 21.96875 22.65625 14.328125 \r\nQ 29.296875 6.6875 41.796875 6.6875 \r\nQ 48.140625 6.6875 53.78125 8.984375 \r\nQ 59.421875 11.28125 64.40625 15.921875 \r\nL 64.40625 5.609375 \r\nQ 59.234375 2.09375 53.4375 0.328125 \r\nQ 47.65625 -1.421875 41.21875 -1.421875 \r\nQ 24.65625 -1.421875 15.125 8.703125 \r\nQ 5.609375 18.84375 5.609375 36.375 \r\nQ 5.609375 53.953125 15.125 64.078125 \r\nQ 24.65625 74.21875 41.21875 74.21875 \r\nQ 47.75 74.21875 53.53125 72.484375 \r\nQ 59.328125 70.75 64.40625 67.28125 \r\nz\r\n\" id=\"DejaVuSans-43\"/>\r\n     <path d=\"M 54.890625 33.015625 \r\nL 54.890625 0 \r\nL 45.90625 0 \r\nL 45.90625 32.71875 \r\nQ 45.90625 40.484375 42.875 44.328125 \r\nQ 39.84375 48.1875 33.796875 48.1875 \r\nQ 26.515625 48.1875 22.3125 43.546875 \r\nQ 18.109375 38.921875 18.109375 30.90625 \r\nL 18.109375 0 \r\nL 9.078125 0 \r\nL 9.078125 75.984375 \r\nL 18.109375 75.984375 \r\nL 18.109375 46.1875 \r\nQ 21.34375 51.125 25.703125 53.5625 \r\nQ 30.078125 56 35.796875 56 \r\nQ 45.21875 56 50.046875 50.171875 \r\nQ 54.890625 44.34375 54.890625 33.015625 \r\nz\r\n\" id=\"DejaVuSans-68\"/>\r\n    </defs>\r\n    <g transform=\"translate(329.48625 16.318125)scale(0.12 -0.12)\">\r\n     <use xlink:href=\"#DejaVuSans-52\"/>\r\n     <use x=\"69.419922\" xlink:href=\"#DejaVuSans-65\"/>\r\n     <use x=\"130.943359\" xlink:href=\"#DejaVuSans-63\"/>\r\n     <use x=\"185.923828\" xlink:href=\"#DejaVuSans-69\"/>\r\n     <use x=\"213.707031\" xlink:href=\"#DejaVuSans-65\"/>\r\n     <use x=\"275.230469\" xlink:href=\"#DejaVuSans-76\"/>\r\n     <use x=\"334.410156\" xlink:href=\"#DejaVuSans-65\"/>\r\n     <use x=\"395.933594\" xlink:href=\"#DejaVuSans-72\"/>\r\n     <use x=\"437.046875\" xlink:href=\"#DejaVuSans-20\"/>\r\n     <use x=\"468.833984\" xlink:href=\"#DejaVuSans-4f\"/>\r\n     <use x=\"547.544922\" xlink:href=\"#DejaVuSans-70\"/>\r\n     <use x=\"611.021484\" xlink:href=\"#DejaVuSans-65\"/>\r\n     <use x=\"672.544922\" xlink:href=\"#DejaVuSans-72\"/>\r\n     <use x=\"713.658203\" xlink:href=\"#DejaVuSans-61\"/>\r\n     <use x=\"774.9375\" xlink:href=\"#DejaVuSans-74\"/>\r\n     <use x=\"814.146484\" xlink:href=\"#DejaVuSans-69\"/>\r\n     <use x=\"841.929688\" xlink:href=\"#DejaVuSans-6e\"/>\r\n     <use x=\"905.308594\" xlink:href=\"#DejaVuSans-67\"/>\r\n     <use x=\"968.785156\" xlink:href=\"#DejaVuSans-20\"/>\r\n     <use x=\"1000.572266\" xlink:href=\"#DejaVuSans-43\"/>\r\n     <use x=\"1070.396484\" xlink:href=\"#DejaVuSans-68\"/>\r\n     <use x=\"1133.775391\" xlink:href=\"#DejaVuSans-61\"/>\r\n     <use x=\"1195.054688\" xlink:href=\"#DejaVuSans-72\"/>\r\n     <use x=\"1236.167969\" xlink:href=\"#DejaVuSans-61\"/>\r\n     <use x=\"1297.447266\" xlink:href=\"#DejaVuSans-63\"/>\r\n     <use x=\"1352.427734\" xlink:href=\"#DejaVuSans-74\"/>\r\n     <use x=\"1391.636719\" xlink:href=\"#DejaVuSans-65\"/>\r\n     <use x=\"1453.160156\" xlink:href=\"#DejaVuSans-72\"/>\r\n     <use x=\"1494.273438\" xlink:href=\"#DejaVuSans-69\"/>\r\n     <use x=\"1522.056641\" xlink:href=\"#DejaVuSans-73\"/>\r\n     <use x=\"1574.15625\" xlink:href=\"#DejaVuSans-74\"/>\r\n     <use x=\"1613.365234\" xlink:href=\"#DejaVuSans-69\"/>\r\n     <use x=\"1641.148438\" xlink:href=\"#DejaVuSans-63\"/>\r\n     <use x=\"1696.128906\" xlink:href=\"#DejaVuSans-73\"/>\r\n    </g>\r\n   </g>\r\n   <g id=\"legend_1\">\r\n    <g id=\"patch_7\">\r\n     <path d=\"M 727.8375 452.198125 \r\nL 817.98125 452.198125 \r\nQ 819.98125 452.198125 819.98125 450.198125 \r\nL 819.98125 436.52 \r\nQ 819.98125 434.52 817.98125 434.52 \r\nL 727.8375 434.52 \r\nQ 725.8375 434.52 725.8375 436.52 \r\nL 725.8375 450.198125 \r\nQ 725.8375 452.198125 727.8375 452.198125 \r\nz\r\n\" style=\"fill:#ffffff;opacity:0.8;stroke:#cccccc;stroke-linejoin:miter;\"/>\r\n    </g>\r\n    <g id=\"line2d_15\">\r\n     <path d=\"M 729.8375 442.618437 \r\nL 749.8375 442.618437 \r\n\" style=\"fill:none;stroke:#ff0000;stroke-linecap:square;stroke-width:1.5;\"/>\r\n    </g>\r\n    <g id=\"line2d_16\"/>\r\n    <g id=\"text_16\">\r\n     <!-- AUC = 0.56 -->\r\n     <defs>\r\n      <path d=\"M 34.1875 63.1875 \r\nL 20.796875 26.90625 \r\nL 47.609375 26.90625 \r\nz\r\nM 28.609375 72.90625 \r\nL 39.796875 72.90625 \r\nL 67.578125 0 \r\nL 57.328125 0 \r\nL 50.6875 18.703125 \r\nL 17.828125 18.703125 \r\nL 11.1875 0 \r\nL 0.78125 0 \r\nz\r\n\" id=\"DejaVuSans-41\"/>\r\n      <path d=\"M 8.6875 72.90625 \r\nL 18.609375 72.90625 \r\nL 18.609375 28.609375 \r\nQ 18.609375 16.890625 22.84375 11.734375 \r\nQ 27.09375 6.59375 36.625 6.59375 \r\nQ 46.09375 6.59375 50.34375 11.734375 \r\nQ 54.59375 16.890625 54.59375 28.609375 \r\nL 54.59375 72.90625 \r\nL 64.5 72.90625 \r\nL 64.5 27.390625 \r\nQ 64.5 13.140625 57.4375 5.859375 \r\nQ 50.390625 -1.421875 36.625 -1.421875 \r\nQ 22.796875 -1.421875 15.734375 5.859375 \r\nQ 8.6875 13.140625 8.6875 27.390625 \r\nz\r\n\" id=\"DejaVuSans-55\"/>\r\n      <path d=\"M 10.59375 45.40625 \r\nL 73.1875 45.40625 \r\nL 73.1875 37.203125 \r\nL 10.59375 37.203125 \r\nz\r\nM 10.59375 25.484375 \r\nL 73.1875 25.484375 \r\nL 73.1875 17.1875 \r\nL 10.59375 17.1875 \r\nz\r\n\" id=\"DejaVuSans-3d\"/>\r\n      <path d=\"M 10.796875 72.90625 \r\nL 49.515625 72.90625 \r\nL 49.515625 64.59375 \r\nL 19.828125 64.59375 \r\nL 19.828125 46.734375 \r\nQ 21.96875 47.46875 24.109375 47.828125 \r\nQ 26.265625 48.1875 28.421875 48.1875 \r\nQ 40.625 48.1875 47.75 41.5 \r\nQ 54.890625 34.8125 54.890625 23.390625 \r\nQ 54.890625 11.625 47.5625 5.09375 \r\nQ 40.234375 -1.421875 26.90625 -1.421875 \r\nQ 22.3125 -1.421875 17.546875 -0.640625 \r\nQ 12.796875 0.140625 7.71875 1.703125 \r\nL 7.71875 11.625 \r\nQ 12.109375 9.234375 16.796875 8.0625 \r\nQ 21.484375 6.890625 26.703125 6.890625 \r\nQ 35.15625 6.890625 40.078125 11.328125 \r\nQ 45.015625 15.765625 45.015625 23.390625 \r\nQ 45.015625 31 40.078125 35.4375 \r\nQ 35.15625 39.890625 26.703125 39.890625 \r\nQ 22.75 39.890625 18.8125 39.015625 \r\nQ 14.890625 38.140625 10.796875 36.28125 \r\nz\r\n\" id=\"DejaVuSans-35\"/>\r\n     </defs>\r\n     <g transform=\"translate(757.8375 446.118437)scale(0.1 -0.1)\">\r\n      <use xlink:href=\"#DejaVuSans-41\"/>\r\n      <use x=\"68.408203\" xlink:href=\"#DejaVuSans-55\"/>\r\n      <use x=\"141.601562\" xlink:href=\"#DejaVuSans-43\"/>\r\n      <use x=\"211.425781\" xlink:href=\"#DejaVuSans-20\"/>\r\n      <use x=\"243.212891\" xlink:href=\"#DejaVuSans-3d\"/>\r\n      <use x=\"327.001953\" xlink:href=\"#DejaVuSans-20\"/>\r\n      <use x=\"358.789062\" xlink:href=\"#DejaVuSans-30\"/>\r\n      <use x=\"422.412109\" xlink:href=\"#DejaVuSans-2e\"/>\r\n      <use x=\"454.199219\" xlink:href=\"#DejaVuSans-35\"/>\r\n      <use x=\"517.822266\" xlink:href=\"#DejaVuSans-36\"/>\r\n     </g>\r\n    </g>\r\n   </g>\r\n  </g>\r\n </g>\r\n <defs>\r\n  <clipPath id=\"pe984e74908\">\r\n   <rect height=\"434.88\" width=\"781.2\" x=\"43.78125\" y=\"22.318125\"/>\r\n  </clipPath>\r\n </defs>\r\n</svg>\r\n",
            "text/plain": [
              "<matplotlib.figure.Figure at 0x1a75d754cf8>"
            ]
          },
          "metadata": {
            "tags": []
          }
        }
      ]
    },
    {
      "metadata": {
        "id": "zvMrvhJPp8X3",
        "colab_type": "text"
      },
      "cell_type": "markdown",
      "source": [
        "Построю roc кривую для случайного леса."
      ]
    },
    {
      "metadata": {
        "id": "Bm_v_mWNp8X3",
        "colab_type": "code",
        "colab": {},
        "outputId": "346d0ba3-e8f4-4a84-8218-23966b08066d"
      },
      "cell_type": "code",
      "source": [
        "preds = rdf_model.predict(testData)\n",
        "frp, trp, threshold = roc_curve(test_label, preds)\n",
        "roc_auc_ = auc(frp, trp)\n",
        "\n",
        "plt.figure(figsize=(14,8))\n",
        "plt.title('Reciever Operating Characteristics')\n",
        "plt.plot(frp, trp, 'r', label = 'AUC = %0.2f' % roc_auc_)\n",
        "plt.legend(loc='lower right')\n",
        "plt.plot([0,1], [0,1], 'b--')\n",
        "plt.ylabel('True positive rate')\n",
        "plt.xlabel('False positive rate')"
      ],
      "execution_count": 0,
      "outputs": [
        {
          "output_type": "execute_result",
          "data": {
            "text/plain": [
              "Text(0.5,0,'False positive rate')"
            ]
          },
          "metadata": {
            "tags": []
          },
          "execution_count": 542
        },
        {
          "output_type": "display_data",
          "data": {
            "image/svg+xml": "<?xml version=\"1.0\" encoding=\"utf-8\" standalone=\"no\"?>\r\n<!DOCTYPE svg PUBLIC \"-//W3C//DTD SVG 1.1//EN\"\r\n  \"http://www.w3.org/Graphics/SVG/1.1/DTD/svg11.dtd\">\r\n<!-- Created with matplotlib (http://matplotlib.org/) -->\r\n<svg height=\"494pt\" version=\"1.1\" viewBox=\"0 0 835 494\" width=\"835pt\" xmlns=\"http://www.w3.org/2000/svg\" xmlns:xlink=\"http://www.w3.org/1999/xlink\">\r\n <defs>\r\n  <style type=\"text/css\">\r\n*{stroke-linecap:butt;stroke-linejoin:round;}\r\n  </style>\r\n </defs>\r\n <g id=\"figure_1\">\r\n  <g id=\"patch_1\">\r\n   <path d=\"M 0 494.754375 \r\nL 835.68125 494.754375 \r\nL 835.68125 0 \r\nL 0 0 \r\nz\r\n\" style=\"fill:none;\"/>\r\n  </g>\r\n  <g id=\"axes_1\">\r\n   <g id=\"patch_2\">\r\n    <path d=\"M 43.78125 457.198125 \r\nL 824.98125 457.198125 \r\nL 824.98125 22.318125 \r\nL 43.78125 22.318125 \r\nz\r\n\" style=\"fill:#ffffff;\"/>\r\n   </g>\r\n   <g id=\"matplotlib.axis_1\">\r\n    <g id=\"xtick_1\">\r\n     <g id=\"line2d_1\">\r\n      <defs>\r\n       <path d=\"M 0 0 \r\nL 0 3.5 \r\n\" id=\"m59f61d13b8\" style=\"stroke:#000000;stroke-width:0.8;\"/>\r\n      </defs>\r\n      <g>\r\n       <use style=\"stroke:#000000;stroke-width:0.8;\" x=\"79.290341\" xlink:href=\"#m59f61d13b8\" y=\"457.198125\"/>\r\n      </g>\r\n     </g>\r\n     <g id=\"text_1\">\r\n      <!-- 0.0 -->\r\n      <defs>\r\n       <path d=\"M 31.78125 66.40625 \r\nQ 24.171875 66.40625 20.328125 58.90625 \r\nQ 16.5 51.421875 16.5 36.375 \r\nQ 16.5 21.390625 20.328125 13.890625 \r\nQ 24.171875 6.390625 31.78125 6.390625 \r\nQ 39.453125 6.390625 43.28125 13.890625 \r\nQ 47.125 21.390625 47.125 36.375 \r\nQ 47.125 51.421875 43.28125 58.90625 \r\nQ 39.453125 66.40625 31.78125 66.40625 \r\nz\r\nM 31.78125 74.21875 \r\nQ 44.046875 74.21875 50.515625 64.515625 \r\nQ 56.984375 54.828125 56.984375 36.375 \r\nQ 56.984375 17.96875 50.515625 8.265625 \r\nQ 44.046875 -1.421875 31.78125 -1.421875 \r\nQ 19.53125 -1.421875 13.0625 8.265625 \r\nQ 6.59375 17.96875 6.59375 36.375 \r\nQ 6.59375 54.828125 13.0625 64.515625 \r\nQ 19.53125 74.21875 31.78125 74.21875 \r\nz\r\n\" id=\"DejaVuSans-30\"/>\r\n       <path d=\"M 10.6875 12.40625 \r\nL 21 12.40625 \r\nL 21 0 \r\nL 10.6875 0 \r\nz\r\n\" id=\"DejaVuSans-2e\"/>\r\n      </defs>\r\n      <g transform=\"translate(71.338778 471.796562)scale(0.1 -0.1)\">\r\n       <use xlink:href=\"#DejaVuSans-30\"/>\r\n       <use x=\"63.623047\" xlink:href=\"#DejaVuSans-2e\"/>\r\n       <use x=\"95.410156\" xlink:href=\"#DejaVuSans-30\"/>\r\n      </g>\r\n     </g>\r\n    </g>\r\n    <g id=\"xtick_2\">\r\n     <g id=\"line2d_2\">\r\n      <g>\r\n       <use style=\"stroke:#000000;stroke-width:0.8;\" x=\"221.326705\" xlink:href=\"#m59f61d13b8\" y=\"457.198125\"/>\r\n      </g>\r\n     </g>\r\n     <g id=\"text_2\">\r\n      <!-- 0.2 -->\r\n      <defs>\r\n       <path d=\"M 19.1875 8.296875 \r\nL 53.609375 8.296875 \r\nL 53.609375 0 \r\nL 7.328125 0 \r\nL 7.328125 8.296875 \r\nQ 12.9375 14.109375 22.625 23.890625 \r\nQ 32.328125 33.6875 34.8125 36.53125 \r\nQ 39.546875 41.84375 41.421875 45.53125 \r\nQ 43.3125 49.21875 43.3125 52.78125 \r\nQ 43.3125 58.59375 39.234375 62.25 \r\nQ 35.15625 65.921875 28.609375 65.921875 \r\nQ 23.96875 65.921875 18.8125 64.3125 \r\nQ 13.671875 62.703125 7.8125 59.421875 \r\nL 7.8125 69.390625 \r\nQ 13.765625 71.78125 18.9375 73 \r\nQ 24.125 74.21875 28.421875 74.21875 \r\nQ 39.75 74.21875 46.484375 68.546875 \r\nQ 53.21875 62.890625 53.21875 53.421875 \r\nQ 53.21875 48.921875 51.53125 44.890625 \r\nQ 49.859375 40.875 45.40625 35.40625 \r\nQ 44.1875 33.984375 37.640625 27.21875 \r\nQ 31.109375 20.453125 19.1875 8.296875 \r\nz\r\n\" id=\"DejaVuSans-32\"/>\r\n      </defs>\r\n      <g transform=\"translate(213.375142 471.796562)scale(0.1 -0.1)\">\r\n       <use xlink:href=\"#DejaVuSans-30\"/>\r\n       <use x=\"63.623047\" xlink:href=\"#DejaVuSans-2e\"/>\r\n       <use x=\"95.410156\" xlink:href=\"#DejaVuSans-32\"/>\r\n      </g>\r\n     </g>\r\n    </g>\r\n    <g id=\"xtick_3\">\r\n     <g id=\"line2d_3\">\r\n      <g>\r\n       <use style=\"stroke:#000000;stroke-width:0.8;\" x=\"363.363068\" xlink:href=\"#m59f61d13b8\" y=\"457.198125\"/>\r\n      </g>\r\n     </g>\r\n     <g id=\"text_3\">\r\n      <!-- 0.4 -->\r\n      <defs>\r\n       <path d=\"M 37.796875 64.3125 \r\nL 12.890625 25.390625 \r\nL 37.796875 25.390625 \r\nz\r\nM 35.203125 72.90625 \r\nL 47.609375 72.90625 \r\nL 47.609375 25.390625 \r\nL 58.015625 25.390625 \r\nL 58.015625 17.1875 \r\nL 47.609375 17.1875 \r\nL 47.609375 0 \r\nL 37.796875 0 \r\nL 37.796875 17.1875 \r\nL 4.890625 17.1875 \r\nL 4.890625 26.703125 \r\nz\r\n\" id=\"DejaVuSans-34\"/>\r\n      </defs>\r\n      <g transform=\"translate(355.411506 471.796562)scale(0.1 -0.1)\">\r\n       <use xlink:href=\"#DejaVuSans-30\"/>\r\n       <use x=\"63.623047\" xlink:href=\"#DejaVuSans-2e\"/>\r\n       <use x=\"95.410156\" xlink:href=\"#DejaVuSans-34\"/>\r\n      </g>\r\n     </g>\r\n    </g>\r\n    <g id=\"xtick_4\">\r\n     <g id=\"line2d_4\">\r\n      <g>\r\n       <use style=\"stroke:#000000;stroke-width:0.8;\" x=\"505.399432\" xlink:href=\"#m59f61d13b8\" y=\"457.198125\"/>\r\n      </g>\r\n     </g>\r\n     <g id=\"text_4\">\r\n      <!-- 0.6 -->\r\n      <defs>\r\n       <path d=\"M 33.015625 40.375 \r\nQ 26.375 40.375 22.484375 35.828125 \r\nQ 18.609375 31.296875 18.609375 23.390625 \r\nQ 18.609375 15.53125 22.484375 10.953125 \r\nQ 26.375 6.390625 33.015625 6.390625 \r\nQ 39.65625 6.390625 43.53125 10.953125 \r\nQ 47.40625 15.53125 47.40625 23.390625 \r\nQ 47.40625 31.296875 43.53125 35.828125 \r\nQ 39.65625 40.375 33.015625 40.375 \r\nz\r\nM 52.59375 71.296875 \r\nL 52.59375 62.3125 \r\nQ 48.875 64.0625 45.09375 64.984375 \r\nQ 41.3125 65.921875 37.59375 65.921875 \r\nQ 27.828125 65.921875 22.671875 59.328125 \r\nQ 17.53125 52.734375 16.796875 39.40625 \r\nQ 19.671875 43.65625 24.015625 45.921875 \r\nQ 28.375 48.1875 33.59375 48.1875 \r\nQ 44.578125 48.1875 50.953125 41.515625 \r\nQ 57.328125 34.859375 57.328125 23.390625 \r\nQ 57.328125 12.15625 50.6875 5.359375 \r\nQ 44.046875 -1.421875 33.015625 -1.421875 \r\nQ 20.359375 -1.421875 13.671875 8.265625 \r\nQ 6.984375 17.96875 6.984375 36.375 \r\nQ 6.984375 53.65625 15.1875 63.9375 \r\nQ 23.390625 74.21875 37.203125 74.21875 \r\nQ 40.921875 74.21875 44.703125 73.484375 \r\nQ 48.484375 72.75 52.59375 71.296875 \r\nz\r\n\" id=\"DejaVuSans-36\"/>\r\n      </defs>\r\n      <g transform=\"translate(497.447869 471.796562)scale(0.1 -0.1)\">\r\n       <use xlink:href=\"#DejaVuSans-30\"/>\r\n       <use x=\"63.623047\" xlink:href=\"#DejaVuSans-2e\"/>\r\n       <use x=\"95.410156\" xlink:href=\"#DejaVuSans-36\"/>\r\n      </g>\r\n     </g>\r\n    </g>\r\n    <g id=\"xtick_5\">\r\n     <g id=\"line2d_5\">\r\n      <g>\r\n       <use style=\"stroke:#000000;stroke-width:0.8;\" x=\"647.435795\" xlink:href=\"#m59f61d13b8\" y=\"457.198125\"/>\r\n      </g>\r\n     </g>\r\n     <g id=\"text_5\">\r\n      <!-- 0.8 -->\r\n      <defs>\r\n       <path d=\"M 31.78125 34.625 \r\nQ 24.75 34.625 20.71875 30.859375 \r\nQ 16.703125 27.09375 16.703125 20.515625 \r\nQ 16.703125 13.921875 20.71875 10.15625 \r\nQ 24.75 6.390625 31.78125 6.390625 \r\nQ 38.8125 6.390625 42.859375 10.171875 \r\nQ 46.921875 13.96875 46.921875 20.515625 \r\nQ 46.921875 27.09375 42.890625 30.859375 \r\nQ 38.875 34.625 31.78125 34.625 \r\nz\r\nM 21.921875 38.8125 \r\nQ 15.578125 40.375 12.03125 44.71875 \r\nQ 8.5 49.078125 8.5 55.328125 \r\nQ 8.5 64.0625 14.71875 69.140625 \r\nQ 20.953125 74.21875 31.78125 74.21875 \r\nQ 42.671875 74.21875 48.875 69.140625 \r\nQ 55.078125 64.0625 55.078125 55.328125 \r\nQ 55.078125 49.078125 51.53125 44.71875 \r\nQ 48 40.375 41.703125 38.8125 \r\nQ 48.828125 37.15625 52.796875 32.3125 \r\nQ 56.78125 27.484375 56.78125 20.515625 \r\nQ 56.78125 9.90625 50.3125 4.234375 \r\nQ 43.84375 -1.421875 31.78125 -1.421875 \r\nQ 19.734375 -1.421875 13.25 4.234375 \r\nQ 6.78125 9.90625 6.78125 20.515625 \r\nQ 6.78125 27.484375 10.78125 32.3125 \r\nQ 14.796875 37.15625 21.921875 38.8125 \r\nz\r\nM 18.3125 54.390625 \r\nQ 18.3125 48.734375 21.84375 45.5625 \r\nQ 25.390625 42.390625 31.78125 42.390625 \r\nQ 38.140625 42.390625 41.71875 45.5625 \r\nQ 45.3125 48.734375 45.3125 54.390625 \r\nQ 45.3125 60.0625 41.71875 63.234375 \r\nQ 38.140625 66.40625 31.78125 66.40625 \r\nQ 25.390625 66.40625 21.84375 63.234375 \r\nQ 18.3125 60.0625 18.3125 54.390625 \r\nz\r\n\" id=\"DejaVuSans-38\"/>\r\n      </defs>\r\n      <g transform=\"translate(639.484233 471.796562)scale(0.1 -0.1)\">\r\n       <use xlink:href=\"#DejaVuSans-30\"/>\r\n       <use x=\"63.623047\" xlink:href=\"#DejaVuSans-2e\"/>\r\n       <use x=\"95.410156\" xlink:href=\"#DejaVuSans-38\"/>\r\n      </g>\r\n     </g>\r\n    </g>\r\n    <g id=\"xtick_6\">\r\n     <g id=\"line2d_6\">\r\n      <g>\r\n       <use style=\"stroke:#000000;stroke-width:0.8;\" x=\"789.472159\" xlink:href=\"#m59f61d13b8\" y=\"457.198125\"/>\r\n      </g>\r\n     </g>\r\n     <g id=\"text_6\">\r\n      <!-- 1.0 -->\r\n      <defs>\r\n       <path d=\"M 12.40625 8.296875 \r\nL 28.515625 8.296875 \r\nL 28.515625 63.921875 \r\nL 10.984375 60.40625 \r\nL 10.984375 69.390625 \r\nL 28.421875 72.90625 \r\nL 38.28125 72.90625 \r\nL 38.28125 8.296875 \r\nL 54.390625 8.296875 \r\nL 54.390625 0 \r\nL 12.40625 0 \r\nz\r\n\" id=\"DejaVuSans-31\"/>\r\n      </defs>\r\n      <g transform=\"translate(781.520597 471.796562)scale(0.1 -0.1)\">\r\n       <use xlink:href=\"#DejaVuSans-31\"/>\r\n       <use x=\"63.623047\" xlink:href=\"#DejaVuSans-2e\"/>\r\n       <use x=\"95.410156\" xlink:href=\"#DejaVuSans-30\"/>\r\n      </g>\r\n     </g>\r\n    </g>\r\n    <g id=\"text_7\">\r\n     <!-- False positive rate -->\r\n     <defs>\r\n      <path d=\"M 9.8125 72.90625 \r\nL 51.703125 72.90625 \r\nL 51.703125 64.59375 \r\nL 19.671875 64.59375 \r\nL 19.671875 43.109375 \r\nL 48.578125 43.109375 \r\nL 48.578125 34.8125 \r\nL 19.671875 34.8125 \r\nL 19.671875 0 \r\nL 9.8125 0 \r\nz\r\n\" id=\"DejaVuSans-46\"/>\r\n      <path d=\"M 34.28125 27.484375 \r\nQ 23.390625 27.484375 19.1875 25 \r\nQ 14.984375 22.515625 14.984375 16.5 \r\nQ 14.984375 11.71875 18.140625 8.90625 \r\nQ 21.296875 6.109375 26.703125 6.109375 \r\nQ 34.1875 6.109375 38.703125 11.40625 \r\nQ 43.21875 16.703125 43.21875 25.484375 \r\nL 43.21875 27.484375 \r\nz\r\nM 52.203125 31.203125 \r\nL 52.203125 0 \r\nL 43.21875 0 \r\nL 43.21875 8.296875 \r\nQ 40.140625 3.328125 35.546875 0.953125 \r\nQ 30.953125 -1.421875 24.3125 -1.421875 \r\nQ 15.921875 -1.421875 10.953125 3.296875 \r\nQ 6 8.015625 6 15.921875 \r\nQ 6 25.140625 12.171875 29.828125 \r\nQ 18.359375 34.515625 30.609375 34.515625 \r\nL 43.21875 34.515625 \r\nL 43.21875 35.40625 \r\nQ 43.21875 41.609375 39.140625 45 \r\nQ 35.0625 48.390625 27.6875 48.390625 \r\nQ 23 48.390625 18.546875 47.265625 \r\nQ 14.109375 46.140625 10.015625 43.890625 \r\nL 10.015625 52.203125 \r\nQ 14.9375 54.109375 19.578125 55.046875 \r\nQ 24.21875 56 28.609375 56 \r\nQ 40.484375 56 46.34375 49.84375 \r\nQ 52.203125 43.703125 52.203125 31.203125 \r\nz\r\n\" id=\"DejaVuSans-61\"/>\r\n      <path d=\"M 9.421875 75.984375 \r\nL 18.40625 75.984375 \r\nL 18.40625 0 \r\nL 9.421875 0 \r\nz\r\n\" id=\"DejaVuSans-6c\"/>\r\n      <path d=\"M 44.28125 53.078125 \r\nL 44.28125 44.578125 \r\nQ 40.484375 46.53125 36.375 47.5 \r\nQ 32.28125 48.484375 27.875 48.484375 \r\nQ 21.1875 48.484375 17.84375 46.4375 \r\nQ 14.5 44.390625 14.5 40.28125 \r\nQ 14.5 37.15625 16.890625 35.375 \r\nQ 19.28125 33.59375 26.515625 31.984375 \r\nL 29.59375 31.296875 \r\nQ 39.15625 29.25 43.1875 25.515625 \r\nQ 47.21875 21.78125 47.21875 15.09375 \r\nQ 47.21875 7.46875 41.1875 3.015625 \r\nQ 35.15625 -1.421875 24.609375 -1.421875 \r\nQ 20.21875 -1.421875 15.453125 -0.5625 \r\nQ 10.6875 0.296875 5.421875 2 \r\nL 5.421875 11.28125 \r\nQ 10.40625 8.6875 15.234375 7.390625 \r\nQ 20.0625 6.109375 24.8125 6.109375 \r\nQ 31.15625 6.109375 34.5625 8.28125 \r\nQ 37.984375 10.453125 37.984375 14.40625 \r\nQ 37.984375 18.0625 35.515625 20.015625 \r\nQ 33.0625 21.96875 24.703125 23.78125 \r\nL 21.578125 24.515625 \r\nQ 13.234375 26.265625 9.515625 29.90625 \r\nQ 5.8125 33.546875 5.8125 39.890625 \r\nQ 5.8125 47.609375 11.28125 51.796875 \r\nQ 16.75 56 26.8125 56 \r\nQ 31.78125 56 36.171875 55.265625 \r\nQ 40.578125 54.546875 44.28125 53.078125 \r\nz\r\n\" id=\"DejaVuSans-73\"/>\r\n      <path d=\"M 56.203125 29.59375 \r\nL 56.203125 25.203125 \r\nL 14.890625 25.203125 \r\nQ 15.484375 15.921875 20.484375 11.0625 \r\nQ 25.484375 6.203125 34.421875 6.203125 \r\nQ 39.59375 6.203125 44.453125 7.46875 \r\nQ 49.3125 8.734375 54.109375 11.28125 \r\nL 54.109375 2.78125 \r\nQ 49.265625 0.734375 44.1875 -0.34375 \r\nQ 39.109375 -1.421875 33.890625 -1.421875 \r\nQ 20.796875 -1.421875 13.15625 6.1875 \r\nQ 5.515625 13.8125 5.515625 26.8125 \r\nQ 5.515625 40.234375 12.765625 48.109375 \r\nQ 20.015625 56 32.328125 56 \r\nQ 43.359375 56 49.78125 48.890625 \r\nQ 56.203125 41.796875 56.203125 29.59375 \r\nz\r\nM 47.21875 32.234375 \r\nQ 47.125 39.59375 43.09375 43.984375 \r\nQ 39.0625 48.390625 32.421875 48.390625 \r\nQ 24.90625 48.390625 20.390625 44.140625 \r\nQ 15.875 39.890625 15.1875 32.171875 \r\nz\r\n\" id=\"DejaVuSans-65\"/>\r\n      <path id=\"DejaVuSans-20\"/>\r\n      <path d=\"M 18.109375 8.203125 \r\nL 18.109375 -20.796875 \r\nL 9.078125 -20.796875 \r\nL 9.078125 54.6875 \r\nL 18.109375 54.6875 \r\nL 18.109375 46.390625 \r\nQ 20.953125 51.265625 25.265625 53.625 \r\nQ 29.59375 56 35.59375 56 \r\nQ 45.5625 56 51.78125 48.09375 \r\nQ 58.015625 40.1875 58.015625 27.296875 \r\nQ 58.015625 14.40625 51.78125 6.484375 \r\nQ 45.5625 -1.421875 35.59375 -1.421875 \r\nQ 29.59375 -1.421875 25.265625 0.953125 \r\nQ 20.953125 3.328125 18.109375 8.203125 \r\nz\r\nM 48.6875 27.296875 \r\nQ 48.6875 37.203125 44.609375 42.84375 \r\nQ 40.53125 48.484375 33.40625 48.484375 \r\nQ 26.265625 48.484375 22.1875 42.84375 \r\nQ 18.109375 37.203125 18.109375 27.296875 \r\nQ 18.109375 17.390625 22.1875 11.75 \r\nQ 26.265625 6.109375 33.40625 6.109375 \r\nQ 40.53125 6.109375 44.609375 11.75 \r\nQ 48.6875 17.390625 48.6875 27.296875 \r\nz\r\n\" id=\"DejaVuSans-70\"/>\r\n      <path d=\"M 30.609375 48.390625 \r\nQ 23.390625 48.390625 19.1875 42.75 \r\nQ 14.984375 37.109375 14.984375 27.296875 \r\nQ 14.984375 17.484375 19.15625 11.84375 \r\nQ 23.34375 6.203125 30.609375 6.203125 \r\nQ 37.796875 6.203125 41.984375 11.859375 \r\nQ 46.1875 17.53125 46.1875 27.296875 \r\nQ 46.1875 37.015625 41.984375 42.703125 \r\nQ 37.796875 48.390625 30.609375 48.390625 \r\nz\r\nM 30.609375 56 \r\nQ 42.328125 56 49.015625 48.375 \r\nQ 55.71875 40.765625 55.71875 27.296875 \r\nQ 55.71875 13.875 49.015625 6.21875 \r\nQ 42.328125 -1.421875 30.609375 -1.421875 \r\nQ 18.84375 -1.421875 12.171875 6.21875 \r\nQ 5.515625 13.875 5.515625 27.296875 \r\nQ 5.515625 40.765625 12.171875 48.375 \r\nQ 18.84375 56 30.609375 56 \r\nz\r\n\" id=\"DejaVuSans-6f\"/>\r\n      <path d=\"M 9.421875 54.6875 \r\nL 18.40625 54.6875 \r\nL 18.40625 0 \r\nL 9.421875 0 \r\nz\r\nM 9.421875 75.984375 \r\nL 18.40625 75.984375 \r\nL 18.40625 64.59375 \r\nL 9.421875 64.59375 \r\nz\r\n\" id=\"DejaVuSans-69\"/>\r\n      <path d=\"M 18.3125 70.21875 \r\nL 18.3125 54.6875 \r\nL 36.8125 54.6875 \r\nL 36.8125 47.703125 \r\nL 18.3125 47.703125 \r\nL 18.3125 18.015625 \r\nQ 18.3125 11.328125 20.140625 9.421875 \r\nQ 21.96875 7.515625 27.59375 7.515625 \r\nL 36.8125 7.515625 \r\nL 36.8125 0 \r\nL 27.59375 0 \r\nQ 17.1875 0 13.234375 3.875 \r\nQ 9.28125 7.765625 9.28125 18.015625 \r\nL 9.28125 47.703125 \r\nL 2.6875 47.703125 \r\nL 2.6875 54.6875 \r\nL 9.28125 54.6875 \r\nL 9.28125 70.21875 \r\nz\r\n\" id=\"DejaVuSans-74\"/>\r\n      <path d=\"M 2.984375 54.6875 \r\nL 12.5 54.6875 \r\nL 29.59375 8.796875 \r\nL 46.6875 54.6875 \r\nL 56.203125 54.6875 \r\nL 35.6875 0 \r\nL 23.484375 0 \r\nz\r\n\" id=\"DejaVuSans-76\"/>\r\n      <path d=\"M 41.109375 46.296875 \r\nQ 39.59375 47.171875 37.8125 47.578125 \r\nQ 36.03125 48 33.890625 48 \r\nQ 26.265625 48 22.1875 43.046875 \r\nQ 18.109375 38.09375 18.109375 28.8125 \r\nL 18.109375 0 \r\nL 9.078125 0 \r\nL 9.078125 54.6875 \r\nL 18.109375 54.6875 \r\nL 18.109375 46.1875 \r\nQ 20.953125 51.171875 25.484375 53.578125 \r\nQ 30.03125 56 36.53125 56 \r\nQ 37.453125 56 38.578125 55.875 \r\nQ 39.703125 55.765625 41.0625 55.515625 \r\nz\r\n\" id=\"DejaVuSans-72\"/>\r\n     </defs>\r\n     <g transform=\"translate(388.43125 485.474687)scale(0.1 -0.1)\">\r\n      <use xlink:href=\"#DejaVuSans-46\"/>\r\n      <use x=\"57.378906\" xlink:href=\"#DejaVuSans-61\"/>\r\n      <use x=\"118.658203\" xlink:href=\"#DejaVuSans-6c\"/>\r\n      <use x=\"146.441406\" xlink:href=\"#DejaVuSans-73\"/>\r\n      <use x=\"198.541016\" xlink:href=\"#DejaVuSans-65\"/>\r\n      <use x=\"260.064453\" xlink:href=\"#DejaVuSans-20\"/>\r\n      <use x=\"291.851562\" xlink:href=\"#DejaVuSans-70\"/>\r\n      <use x=\"355.328125\" xlink:href=\"#DejaVuSans-6f\"/>\r\n      <use x=\"416.509766\" xlink:href=\"#DejaVuSans-73\"/>\r\n      <use x=\"468.609375\" xlink:href=\"#DejaVuSans-69\"/>\r\n      <use x=\"496.392578\" xlink:href=\"#DejaVuSans-74\"/>\r\n      <use x=\"535.601562\" xlink:href=\"#DejaVuSans-69\"/>\r\n      <use x=\"563.384766\" xlink:href=\"#DejaVuSans-76\"/>\r\n      <use x=\"622.564453\" xlink:href=\"#DejaVuSans-65\"/>\r\n      <use x=\"684.087891\" xlink:href=\"#DejaVuSans-20\"/>\r\n      <use x=\"715.875\" xlink:href=\"#DejaVuSans-72\"/>\r\n      <use x=\"756.988281\" xlink:href=\"#DejaVuSans-61\"/>\r\n      <use x=\"818.267578\" xlink:href=\"#DejaVuSans-74\"/>\r\n      <use x=\"857.476562\" xlink:href=\"#DejaVuSans-65\"/>\r\n     </g>\r\n    </g>\r\n   </g>\r\n   <g id=\"matplotlib.axis_2\">\r\n    <g id=\"ytick_1\">\r\n     <g id=\"line2d_7\">\r\n      <defs>\r\n       <path d=\"M 0 0 \r\nL -3.5 0 \r\n\" id=\"m8538bcbf96\" style=\"stroke:#000000;stroke-width:0.8;\"/>\r\n      </defs>\r\n      <g>\r\n       <use style=\"stroke:#000000;stroke-width:0.8;\" x=\"43.78125\" xlink:href=\"#m8538bcbf96\" y=\"437.430852\"/>\r\n      </g>\r\n     </g>\r\n     <g id=\"text_8\">\r\n      <!-- 0.0 -->\r\n      <g transform=\"translate(20.878125 441.230071)scale(0.1 -0.1)\">\r\n       <use xlink:href=\"#DejaVuSans-30\"/>\r\n       <use x=\"63.623047\" xlink:href=\"#DejaVuSans-2e\"/>\r\n       <use x=\"95.410156\" xlink:href=\"#DejaVuSans-30\"/>\r\n      </g>\r\n     </g>\r\n    </g>\r\n    <g id=\"ytick_2\">\r\n     <g id=\"line2d_8\">\r\n      <g>\r\n       <use style=\"stroke:#000000;stroke-width:0.8;\" x=\"43.78125\" xlink:href=\"#m8538bcbf96\" y=\"358.361761\"/>\r\n      </g>\r\n     </g>\r\n     <g id=\"text_9\">\r\n      <!-- 0.2 -->\r\n      <g transform=\"translate(20.878125 362.16098)scale(0.1 -0.1)\">\r\n       <use xlink:href=\"#DejaVuSans-30\"/>\r\n       <use x=\"63.623047\" xlink:href=\"#DejaVuSans-2e\"/>\r\n       <use x=\"95.410156\" xlink:href=\"#DejaVuSans-32\"/>\r\n      </g>\r\n     </g>\r\n    </g>\r\n    <g id=\"ytick_3\">\r\n     <g id=\"line2d_9\">\r\n      <g>\r\n       <use style=\"stroke:#000000;stroke-width:0.8;\" x=\"43.78125\" xlink:href=\"#m8538bcbf96\" y=\"279.29267\"/>\r\n      </g>\r\n     </g>\r\n     <g id=\"text_10\">\r\n      <!-- 0.4 -->\r\n      <g transform=\"translate(20.878125 283.091889)scale(0.1 -0.1)\">\r\n       <use xlink:href=\"#DejaVuSans-30\"/>\r\n       <use x=\"63.623047\" xlink:href=\"#DejaVuSans-2e\"/>\r\n       <use x=\"95.410156\" xlink:href=\"#DejaVuSans-34\"/>\r\n      </g>\r\n     </g>\r\n    </g>\r\n    <g id=\"ytick_4\">\r\n     <g id=\"line2d_10\">\r\n      <g>\r\n       <use style=\"stroke:#000000;stroke-width:0.8;\" x=\"43.78125\" xlink:href=\"#m8538bcbf96\" y=\"200.22358\"/>\r\n      </g>\r\n     </g>\r\n     <g id=\"text_11\">\r\n      <!-- 0.6 -->\r\n      <g transform=\"translate(20.878125 204.022798)scale(0.1 -0.1)\">\r\n       <use xlink:href=\"#DejaVuSans-30\"/>\r\n       <use x=\"63.623047\" xlink:href=\"#DejaVuSans-2e\"/>\r\n       <use x=\"95.410156\" xlink:href=\"#DejaVuSans-36\"/>\r\n      </g>\r\n     </g>\r\n    </g>\r\n    <g id=\"ytick_5\">\r\n     <g id=\"line2d_11\">\r\n      <g>\r\n       <use style=\"stroke:#000000;stroke-width:0.8;\" x=\"43.78125\" xlink:href=\"#m8538bcbf96\" y=\"121.154489\"/>\r\n      </g>\r\n     </g>\r\n     <g id=\"text_12\">\r\n      <!-- 0.8 -->\r\n      <g transform=\"translate(20.878125 124.953707)scale(0.1 -0.1)\">\r\n       <use xlink:href=\"#DejaVuSans-30\"/>\r\n       <use x=\"63.623047\" xlink:href=\"#DejaVuSans-2e\"/>\r\n       <use x=\"95.410156\" xlink:href=\"#DejaVuSans-38\"/>\r\n      </g>\r\n     </g>\r\n    </g>\r\n    <g id=\"ytick_6\">\r\n     <g id=\"line2d_12\">\r\n      <g>\r\n       <use style=\"stroke:#000000;stroke-width:0.8;\" x=\"43.78125\" xlink:href=\"#m8538bcbf96\" y=\"42.085398\"/>\r\n      </g>\r\n     </g>\r\n     <g id=\"text_13\">\r\n      <!-- 1.0 -->\r\n      <g transform=\"translate(20.878125 45.884616)scale(0.1 -0.1)\">\r\n       <use xlink:href=\"#DejaVuSans-31\"/>\r\n       <use x=\"63.623047\" xlink:href=\"#DejaVuSans-2e\"/>\r\n       <use x=\"95.410156\" xlink:href=\"#DejaVuSans-30\"/>\r\n      </g>\r\n     </g>\r\n    </g>\r\n    <g id=\"text_14\">\r\n     <!-- True positive rate -->\r\n     <defs>\r\n      <path d=\"M -0.296875 72.90625 \r\nL 61.375 72.90625 \r\nL 61.375 64.59375 \r\nL 35.5 64.59375 \r\nL 35.5 0 \r\nL 25.59375 0 \r\nL 25.59375 64.59375 \r\nL -0.296875 64.59375 \r\nz\r\n\" id=\"DejaVuSans-54\"/>\r\n      <path d=\"M 8.5 21.578125 \r\nL 8.5 54.6875 \r\nL 17.484375 54.6875 \r\nL 17.484375 21.921875 \r\nQ 17.484375 14.15625 20.5 10.265625 \r\nQ 23.53125 6.390625 29.59375 6.390625 \r\nQ 36.859375 6.390625 41.078125 11.03125 \r\nQ 45.3125 15.671875 45.3125 23.6875 \r\nL 45.3125 54.6875 \r\nL 54.296875 54.6875 \r\nL 54.296875 0 \r\nL 45.3125 0 \r\nL 45.3125 8.40625 \r\nQ 42.046875 3.421875 37.71875 1 \r\nQ 33.40625 -1.421875 27.6875 -1.421875 \r\nQ 18.265625 -1.421875 13.375 4.4375 \r\nQ 8.5 10.296875 8.5 21.578125 \r\nz\r\nM 31.109375 56 \r\nz\r\n\" id=\"DejaVuSans-75\"/>\r\n     </defs>\r\n     <g transform=\"translate(14.798438 284.04875)rotate(-90)scale(0.1 -0.1)\">\r\n      <use xlink:href=\"#DejaVuSans-54\"/>\r\n      <use x=\"60.865234\" xlink:href=\"#DejaVuSans-72\"/>\r\n      <use x=\"101.978516\" xlink:href=\"#DejaVuSans-75\"/>\r\n      <use x=\"165.357422\" xlink:href=\"#DejaVuSans-65\"/>\r\n      <use x=\"226.880859\" xlink:href=\"#DejaVuSans-20\"/>\r\n      <use x=\"258.667969\" xlink:href=\"#DejaVuSans-70\"/>\r\n      <use x=\"322.144531\" xlink:href=\"#DejaVuSans-6f\"/>\r\n      <use x=\"383.326172\" xlink:href=\"#DejaVuSans-73\"/>\r\n      <use x=\"435.425781\" xlink:href=\"#DejaVuSans-69\"/>\r\n      <use x=\"463.208984\" xlink:href=\"#DejaVuSans-74\"/>\r\n      <use x=\"502.417969\" xlink:href=\"#DejaVuSans-69\"/>\r\n      <use x=\"530.201172\" xlink:href=\"#DejaVuSans-76\"/>\r\n      <use x=\"589.380859\" xlink:href=\"#DejaVuSans-65\"/>\r\n      <use x=\"650.904297\" xlink:href=\"#DejaVuSans-20\"/>\r\n      <use x=\"682.691406\" xlink:href=\"#DejaVuSans-72\"/>\r\n      <use x=\"723.804688\" xlink:href=\"#DejaVuSans-61\"/>\r\n      <use x=\"785.083984\" xlink:href=\"#DejaVuSans-74\"/>\r\n      <use x=\"824.292969\" xlink:href=\"#DejaVuSans-65\"/>\r\n     </g>\r\n    </g>\r\n   </g>\r\n   <g id=\"line2d_13\">\r\n    <path clip-path=\"url(#p1bab3a6c9d)\" d=\"M 79.290341 437.430852 \r\nL 81.785125 123.320765 \r\nL 789.472159 42.085398 \r\n\" style=\"fill:none;stroke:#ff0000;stroke-linecap:square;stroke-width:1.5;\"/>\r\n   </g>\r\n   <g id=\"line2d_14\">\r\n    <path clip-path=\"url(#p1bab3a6c9d)\" d=\"M 79.290341 437.430852 \r\nL 789.472159 42.085398 \r\n\" style=\"fill:none;stroke:#0000ff;stroke-dasharray:5.55,2.4;stroke-dashoffset:0;stroke-width:1.5;\"/>\r\n   </g>\r\n   <g id=\"patch_3\">\r\n    <path d=\"M 43.78125 457.198125 \r\nL 43.78125 22.318125 \r\n\" style=\"fill:none;stroke:#000000;stroke-linecap:square;stroke-linejoin:miter;stroke-width:0.8;\"/>\r\n   </g>\r\n   <g id=\"patch_4\">\r\n    <path d=\"M 824.98125 457.198125 \r\nL 824.98125 22.318125 \r\n\" style=\"fill:none;stroke:#000000;stroke-linecap:square;stroke-linejoin:miter;stroke-width:0.8;\"/>\r\n   </g>\r\n   <g id=\"patch_5\">\r\n    <path d=\"M 43.78125 457.198125 \r\nL 824.98125 457.198125 \r\n\" style=\"fill:none;stroke:#000000;stroke-linecap:square;stroke-linejoin:miter;stroke-width:0.8;\"/>\r\n   </g>\r\n   <g id=\"patch_6\">\r\n    <path d=\"M 43.78125 22.318125 \r\nL 824.98125 22.318125 \r\n\" style=\"fill:none;stroke:#000000;stroke-linecap:square;stroke-linejoin:miter;stroke-width:0.8;\"/>\r\n   </g>\r\n   <g id=\"text_15\">\r\n    <!-- Reciever Operating Characteristics -->\r\n    <defs>\r\n     <path d=\"M 44.390625 34.1875 \r\nQ 47.5625 33.109375 50.5625 29.59375 \r\nQ 53.5625 26.078125 56.59375 19.921875 \r\nL 66.609375 0 \r\nL 56 0 \r\nL 46.6875 18.703125 \r\nQ 43.0625 26.03125 39.671875 28.421875 \r\nQ 36.28125 30.8125 30.421875 30.8125 \r\nL 19.671875 30.8125 \r\nL 19.671875 0 \r\nL 9.8125 0 \r\nL 9.8125 72.90625 \r\nL 32.078125 72.90625 \r\nQ 44.578125 72.90625 50.734375 67.671875 \r\nQ 56.890625 62.453125 56.890625 51.90625 \r\nQ 56.890625 45.015625 53.6875 40.46875 \r\nQ 50.484375 35.9375 44.390625 34.1875 \r\nz\r\nM 19.671875 64.796875 \r\nL 19.671875 38.921875 \r\nL 32.078125 38.921875 \r\nQ 39.203125 38.921875 42.84375 42.21875 \r\nQ 46.484375 45.515625 46.484375 51.90625 \r\nQ 46.484375 58.296875 42.84375 61.546875 \r\nQ 39.203125 64.796875 32.078125 64.796875 \r\nz\r\n\" id=\"DejaVuSans-52\"/>\r\n     <path d=\"M 48.78125 52.59375 \r\nL 48.78125 44.1875 \r\nQ 44.96875 46.296875 41.140625 47.34375 \r\nQ 37.3125 48.390625 33.40625 48.390625 \r\nQ 24.65625 48.390625 19.8125 42.84375 \r\nQ 14.984375 37.3125 14.984375 27.296875 \r\nQ 14.984375 17.28125 19.8125 11.734375 \r\nQ 24.65625 6.203125 33.40625 6.203125 \r\nQ 37.3125 6.203125 41.140625 7.25 \r\nQ 44.96875 8.296875 48.78125 10.40625 \r\nL 48.78125 2.09375 \r\nQ 45.015625 0.34375 40.984375 -0.53125 \r\nQ 36.96875 -1.421875 32.421875 -1.421875 \r\nQ 20.0625 -1.421875 12.78125 6.34375 \r\nQ 5.515625 14.109375 5.515625 27.296875 \r\nQ 5.515625 40.671875 12.859375 48.328125 \r\nQ 20.21875 56 33.015625 56 \r\nQ 37.15625 56 41.109375 55.140625 \r\nQ 45.0625 54.296875 48.78125 52.59375 \r\nz\r\n\" id=\"DejaVuSans-63\"/>\r\n     <path d=\"M 39.40625 66.21875 \r\nQ 28.65625 66.21875 22.328125 58.203125 \r\nQ 16.015625 50.203125 16.015625 36.375 \r\nQ 16.015625 22.609375 22.328125 14.59375 \r\nQ 28.65625 6.59375 39.40625 6.59375 \r\nQ 50.140625 6.59375 56.421875 14.59375 \r\nQ 62.703125 22.609375 62.703125 36.375 \r\nQ 62.703125 50.203125 56.421875 58.203125 \r\nQ 50.140625 66.21875 39.40625 66.21875 \r\nz\r\nM 39.40625 74.21875 \r\nQ 54.734375 74.21875 63.90625 63.9375 \r\nQ 73.09375 53.65625 73.09375 36.375 \r\nQ 73.09375 19.140625 63.90625 8.859375 \r\nQ 54.734375 -1.421875 39.40625 -1.421875 \r\nQ 24.03125 -1.421875 14.8125 8.828125 \r\nQ 5.609375 19.09375 5.609375 36.375 \r\nQ 5.609375 53.65625 14.8125 63.9375 \r\nQ 24.03125 74.21875 39.40625 74.21875 \r\nz\r\n\" id=\"DejaVuSans-4f\"/>\r\n     <path d=\"M 54.890625 33.015625 \r\nL 54.890625 0 \r\nL 45.90625 0 \r\nL 45.90625 32.71875 \r\nQ 45.90625 40.484375 42.875 44.328125 \r\nQ 39.84375 48.1875 33.796875 48.1875 \r\nQ 26.515625 48.1875 22.3125 43.546875 \r\nQ 18.109375 38.921875 18.109375 30.90625 \r\nL 18.109375 0 \r\nL 9.078125 0 \r\nL 9.078125 54.6875 \r\nL 18.109375 54.6875 \r\nL 18.109375 46.1875 \r\nQ 21.34375 51.125 25.703125 53.5625 \r\nQ 30.078125 56 35.796875 56 \r\nQ 45.21875 56 50.046875 50.171875 \r\nQ 54.890625 44.34375 54.890625 33.015625 \r\nz\r\n\" id=\"DejaVuSans-6e\"/>\r\n     <path d=\"M 45.40625 27.984375 \r\nQ 45.40625 37.75 41.375 43.109375 \r\nQ 37.359375 48.484375 30.078125 48.484375 \r\nQ 22.859375 48.484375 18.828125 43.109375 \r\nQ 14.796875 37.75 14.796875 27.984375 \r\nQ 14.796875 18.265625 18.828125 12.890625 \r\nQ 22.859375 7.515625 30.078125 7.515625 \r\nQ 37.359375 7.515625 41.375 12.890625 \r\nQ 45.40625 18.265625 45.40625 27.984375 \r\nz\r\nM 54.390625 6.78125 \r\nQ 54.390625 -7.171875 48.1875 -13.984375 \r\nQ 42 -20.796875 29.203125 -20.796875 \r\nQ 24.46875 -20.796875 20.265625 -20.09375 \r\nQ 16.0625 -19.390625 12.109375 -17.921875 \r\nL 12.109375 -9.1875 \r\nQ 16.0625 -11.328125 19.921875 -12.34375 \r\nQ 23.78125 -13.375 27.78125 -13.375 \r\nQ 36.625 -13.375 41.015625 -8.765625 \r\nQ 45.40625 -4.15625 45.40625 5.171875 \r\nL 45.40625 9.625 \r\nQ 42.625 4.78125 38.28125 2.390625 \r\nQ 33.9375 0 27.875 0 \r\nQ 17.828125 0 11.671875 7.65625 \r\nQ 5.515625 15.328125 5.515625 27.984375 \r\nQ 5.515625 40.671875 11.671875 48.328125 \r\nQ 17.828125 56 27.875 56 \r\nQ 33.9375 56 38.28125 53.609375 \r\nQ 42.625 51.21875 45.40625 46.390625 \r\nL 45.40625 54.6875 \r\nL 54.390625 54.6875 \r\nz\r\n\" id=\"DejaVuSans-67\"/>\r\n     <path d=\"M 64.40625 67.28125 \r\nL 64.40625 56.890625 \r\nQ 59.421875 61.53125 53.78125 63.8125 \r\nQ 48.140625 66.109375 41.796875 66.109375 \r\nQ 29.296875 66.109375 22.65625 58.46875 \r\nQ 16.015625 50.828125 16.015625 36.375 \r\nQ 16.015625 21.96875 22.65625 14.328125 \r\nQ 29.296875 6.6875 41.796875 6.6875 \r\nQ 48.140625 6.6875 53.78125 8.984375 \r\nQ 59.421875 11.28125 64.40625 15.921875 \r\nL 64.40625 5.609375 \r\nQ 59.234375 2.09375 53.4375 0.328125 \r\nQ 47.65625 -1.421875 41.21875 -1.421875 \r\nQ 24.65625 -1.421875 15.125 8.703125 \r\nQ 5.609375 18.84375 5.609375 36.375 \r\nQ 5.609375 53.953125 15.125 64.078125 \r\nQ 24.65625 74.21875 41.21875 74.21875 \r\nQ 47.75 74.21875 53.53125 72.484375 \r\nQ 59.328125 70.75 64.40625 67.28125 \r\nz\r\n\" id=\"DejaVuSans-43\"/>\r\n     <path d=\"M 54.890625 33.015625 \r\nL 54.890625 0 \r\nL 45.90625 0 \r\nL 45.90625 32.71875 \r\nQ 45.90625 40.484375 42.875 44.328125 \r\nQ 39.84375 48.1875 33.796875 48.1875 \r\nQ 26.515625 48.1875 22.3125 43.546875 \r\nQ 18.109375 38.921875 18.109375 30.90625 \r\nL 18.109375 0 \r\nL 9.078125 0 \r\nL 9.078125 75.984375 \r\nL 18.109375 75.984375 \r\nL 18.109375 46.1875 \r\nQ 21.34375 51.125 25.703125 53.5625 \r\nQ 30.078125 56 35.796875 56 \r\nQ 45.21875 56 50.046875 50.171875 \r\nQ 54.890625 44.34375 54.890625 33.015625 \r\nz\r\n\" id=\"DejaVuSans-68\"/>\r\n    </defs>\r\n    <g transform=\"translate(329.48625 16.318125)scale(0.12 -0.12)\">\r\n     <use xlink:href=\"#DejaVuSans-52\"/>\r\n     <use x=\"69.419922\" xlink:href=\"#DejaVuSans-65\"/>\r\n     <use x=\"130.943359\" xlink:href=\"#DejaVuSans-63\"/>\r\n     <use x=\"185.923828\" xlink:href=\"#DejaVuSans-69\"/>\r\n     <use x=\"213.707031\" xlink:href=\"#DejaVuSans-65\"/>\r\n     <use x=\"275.230469\" xlink:href=\"#DejaVuSans-76\"/>\r\n     <use x=\"334.410156\" xlink:href=\"#DejaVuSans-65\"/>\r\n     <use x=\"395.933594\" xlink:href=\"#DejaVuSans-72\"/>\r\n     <use x=\"437.046875\" xlink:href=\"#DejaVuSans-20\"/>\r\n     <use x=\"468.833984\" xlink:href=\"#DejaVuSans-4f\"/>\r\n     <use x=\"547.544922\" xlink:href=\"#DejaVuSans-70\"/>\r\n     <use x=\"611.021484\" xlink:href=\"#DejaVuSans-65\"/>\r\n     <use x=\"672.544922\" xlink:href=\"#DejaVuSans-72\"/>\r\n     <use x=\"713.658203\" xlink:href=\"#DejaVuSans-61\"/>\r\n     <use x=\"774.9375\" xlink:href=\"#DejaVuSans-74\"/>\r\n     <use x=\"814.146484\" xlink:href=\"#DejaVuSans-69\"/>\r\n     <use x=\"841.929688\" xlink:href=\"#DejaVuSans-6e\"/>\r\n     <use x=\"905.308594\" xlink:href=\"#DejaVuSans-67\"/>\r\n     <use x=\"968.785156\" xlink:href=\"#DejaVuSans-20\"/>\r\n     <use x=\"1000.572266\" xlink:href=\"#DejaVuSans-43\"/>\r\n     <use x=\"1070.396484\" xlink:href=\"#DejaVuSans-68\"/>\r\n     <use x=\"1133.775391\" xlink:href=\"#DejaVuSans-61\"/>\r\n     <use x=\"1195.054688\" xlink:href=\"#DejaVuSans-72\"/>\r\n     <use x=\"1236.167969\" xlink:href=\"#DejaVuSans-61\"/>\r\n     <use x=\"1297.447266\" xlink:href=\"#DejaVuSans-63\"/>\r\n     <use x=\"1352.427734\" xlink:href=\"#DejaVuSans-74\"/>\r\n     <use x=\"1391.636719\" xlink:href=\"#DejaVuSans-65\"/>\r\n     <use x=\"1453.160156\" xlink:href=\"#DejaVuSans-72\"/>\r\n     <use x=\"1494.273438\" xlink:href=\"#DejaVuSans-69\"/>\r\n     <use x=\"1522.056641\" xlink:href=\"#DejaVuSans-73\"/>\r\n     <use x=\"1574.15625\" xlink:href=\"#DejaVuSans-74\"/>\r\n     <use x=\"1613.365234\" xlink:href=\"#DejaVuSans-69\"/>\r\n     <use x=\"1641.148438\" xlink:href=\"#DejaVuSans-63\"/>\r\n     <use x=\"1696.128906\" xlink:href=\"#DejaVuSans-73\"/>\r\n    </g>\r\n   </g>\r\n   <g id=\"legend_1\">\r\n    <g id=\"patch_7\">\r\n     <path d=\"M 727.8375 452.198125 \r\nL 817.98125 452.198125 \r\nQ 819.98125 452.198125 819.98125 450.198125 \r\nL 819.98125 436.52 \r\nQ 819.98125 434.52 817.98125 434.52 \r\nL 727.8375 434.52 \r\nQ 725.8375 434.52 725.8375 436.52 \r\nL 725.8375 450.198125 \r\nQ 725.8375 452.198125 727.8375 452.198125 \r\nz\r\n\" style=\"fill:#ffffff;opacity:0.8;stroke:#cccccc;stroke-linejoin:miter;\"/>\r\n    </g>\r\n    <g id=\"line2d_15\">\r\n     <path d=\"M 729.8375 442.618437 \r\nL 749.8375 442.618437 \r\n\" style=\"fill:none;stroke:#ff0000;stroke-linecap:square;stroke-width:1.5;\"/>\r\n    </g>\r\n    <g id=\"line2d_16\"/>\r\n    <g id=\"text_16\">\r\n     <!-- AUC = 0.90 -->\r\n     <defs>\r\n      <path d=\"M 34.1875 63.1875 \r\nL 20.796875 26.90625 \r\nL 47.609375 26.90625 \r\nz\r\nM 28.609375 72.90625 \r\nL 39.796875 72.90625 \r\nL 67.578125 0 \r\nL 57.328125 0 \r\nL 50.6875 18.703125 \r\nL 17.828125 18.703125 \r\nL 11.1875 0 \r\nL 0.78125 0 \r\nz\r\n\" id=\"DejaVuSans-41\"/>\r\n      <path d=\"M 8.6875 72.90625 \r\nL 18.609375 72.90625 \r\nL 18.609375 28.609375 \r\nQ 18.609375 16.890625 22.84375 11.734375 \r\nQ 27.09375 6.59375 36.625 6.59375 \r\nQ 46.09375 6.59375 50.34375 11.734375 \r\nQ 54.59375 16.890625 54.59375 28.609375 \r\nL 54.59375 72.90625 \r\nL 64.5 72.90625 \r\nL 64.5 27.390625 \r\nQ 64.5 13.140625 57.4375 5.859375 \r\nQ 50.390625 -1.421875 36.625 -1.421875 \r\nQ 22.796875 -1.421875 15.734375 5.859375 \r\nQ 8.6875 13.140625 8.6875 27.390625 \r\nz\r\n\" id=\"DejaVuSans-55\"/>\r\n      <path d=\"M 10.59375 45.40625 \r\nL 73.1875 45.40625 \r\nL 73.1875 37.203125 \r\nL 10.59375 37.203125 \r\nz\r\nM 10.59375 25.484375 \r\nL 73.1875 25.484375 \r\nL 73.1875 17.1875 \r\nL 10.59375 17.1875 \r\nz\r\n\" id=\"DejaVuSans-3d\"/>\r\n      <path d=\"M 10.984375 1.515625 \r\nL 10.984375 10.5 \r\nQ 14.703125 8.734375 18.5 7.8125 \r\nQ 22.3125 6.890625 25.984375 6.890625 \r\nQ 35.75 6.890625 40.890625 13.453125 \r\nQ 46.046875 20.015625 46.78125 33.40625 \r\nQ 43.953125 29.203125 39.59375 26.953125 \r\nQ 35.25 24.703125 29.984375 24.703125 \r\nQ 19.046875 24.703125 12.671875 31.3125 \r\nQ 6.296875 37.9375 6.296875 49.421875 \r\nQ 6.296875 60.640625 12.9375 67.421875 \r\nQ 19.578125 74.21875 30.609375 74.21875 \r\nQ 43.265625 74.21875 49.921875 64.515625 \r\nQ 56.59375 54.828125 56.59375 36.375 \r\nQ 56.59375 19.140625 48.40625 8.859375 \r\nQ 40.234375 -1.421875 26.421875 -1.421875 \r\nQ 22.703125 -1.421875 18.890625 -0.6875 \r\nQ 15.09375 0.046875 10.984375 1.515625 \r\nz\r\nM 30.609375 32.421875 \r\nQ 37.25 32.421875 41.125 36.953125 \r\nQ 45.015625 41.5 45.015625 49.421875 \r\nQ 45.015625 57.28125 41.125 61.84375 \r\nQ 37.25 66.40625 30.609375 66.40625 \r\nQ 23.96875 66.40625 20.09375 61.84375 \r\nQ 16.21875 57.28125 16.21875 49.421875 \r\nQ 16.21875 41.5 20.09375 36.953125 \r\nQ 23.96875 32.421875 30.609375 32.421875 \r\nz\r\n\" id=\"DejaVuSans-39\"/>\r\n     </defs>\r\n     <g transform=\"translate(757.8375 446.118437)scale(0.1 -0.1)\">\r\n      <use xlink:href=\"#DejaVuSans-41\"/>\r\n      <use x=\"68.408203\" xlink:href=\"#DejaVuSans-55\"/>\r\n      <use x=\"141.601562\" xlink:href=\"#DejaVuSans-43\"/>\r\n      <use x=\"211.425781\" xlink:href=\"#DejaVuSans-20\"/>\r\n      <use x=\"243.212891\" xlink:href=\"#DejaVuSans-3d\"/>\r\n      <use x=\"327.001953\" xlink:href=\"#DejaVuSans-20\"/>\r\n      <use x=\"358.789062\" xlink:href=\"#DejaVuSans-30\"/>\r\n      <use x=\"422.412109\" xlink:href=\"#DejaVuSans-2e\"/>\r\n      <use x=\"454.199219\" xlink:href=\"#DejaVuSans-39\"/>\r\n      <use x=\"517.822266\" xlink:href=\"#DejaVuSans-30\"/>\r\n     </g>\r\n    </g>\r\n   </g>\r\n  </g>\r\n </g>\r\n <defs>\r\n  <clipPath id=\"p1bab3a6c9d\">\r\n   <rect height=\"434.88\" width=\"781.2\" x=\"43.78125\" y=\"22.318125\"/>\r\n  </clipPath>\r\n </defs>\r\n</svg>\r\n",
            "text/plain": [
              "<matplotlib.figure.Figure at 0x1a75d75b518>"
            ]
          },
          "metadata": {
            "tags": []
          }
        }
      ]
    },
    {
      "metadata": {
        "id": "wSEhe_PJp8X6",
        "colab_type": "text"
      },
      "cell_type": "markdown",
      "source": [
        "### Задание 5  \n",
        "  \n",
        "Настройте гиперпараметры модели SVM на 5-fold валидации из 5 повторений. В качестве метрики используйте F1-score. Замерьте время, затраченное на вычисления.    \n",
        "Каково качество модели? Каков разброс значений метрики? Насколько сильно различие между лучшей и худшей конфигурациями параметров?"
      ]
    },
    {
      "metadata": {
        "id": "GpDiR6mDp8X7",
        "colab_type": "code",
        "colab": {}
      },
      "cell_type": "code",
      "source": [
        "from sklearn.svm import SVC, LinearSVC\n",
        "from sklearn.metrics import f1_score\n",
        "from sklearn.preprocessing import StandardScaler"
      ],
      "execution_count": 0,
      "outputs": []
    },
    {
      "metadata": {
        "id": "pyel6cGcQuE8",
        "colab_type": "code",
        "colab": {}
      },
      "cell_type": "code",
      "source": [
        "std_scaler = StandardScaler()\n",
        "std_scaler.fit(Data)"
      ],
      "execution_count": 0,
      "outputs": []
    },
    {
      "metadata": {
        "id": "CUjk8llJQ8Ly",
        "colab_type": "code",
        "colab": {}
      },
      "cell_type": "code",
      "source": [
        "Scaled_Data = std_scaler.transform(Data)"
      ],
      "execution_count": 0,
      "outputs": []
    },
    {
      "metadata": {
        "id": "lkZxpbcSRBWA",
        "colab_type": "code",
        "colab": {}
      },
      "cell_type": "code",
      "source": [
        "Scaled_Data.head()"
      ],
      "execution_count": 0,
      "outputs": []
    },
    {
      "metadata": {
        "id": "koOz-kS9ROmG",
        "colab_type": "code",
        "colab": {}
      },
      "cell_type": "code",
      "source": [
        "params = {\n",
        "    'gamma': np.append(np.arange(0.01, 0.1, 0.01), np.arange(0.1, 1.51, 0.05))\n",
        "}\n",
        "\n",
        "rskf = RepeatedStratifiedKFold(n_splits=5, n_repeats=5)\n",
        "svc_model = SVC(kernel='rbf')\n",
        "\n",
        "clf = GridSearchCV(svm_model, params, cv=rskf, scoring='f1_micro', n_jobs=4)"
      ],
      "execution_count": 0,
      "outputs": []
    },
    {
      "metadata": {
        "id": "rR3qiCJNSYtn",
        "colab_type": "code",
        "colab": {}
      },
      "cell_type": "code",
      "source": [
        "Label = data['Churn']"
      ],
      "execution_count": 0,
      "outputs": []
    },
    {
      "metadata": {
        "id": "MMsHx4UxR20_",
        "colab_type": "code",
        "colab": {}
      },
      "cell_type": "code",
      "source": [
        "%%time\n",
        "clf.fit(Scaled_Data, Label)"
      ],
      "execution_count": 0,
      "outputs": []
    },
    {
      "metadata": {
        "id": "4BIS6-uuSioQ",
        "colab_type": "code",
        "colab": {}
      },
      "cell_type": "code",
      "source": [
        "result = pd.DataFrame({k: clf.cv_results_[k] for k in ['mean_test_score', 'mean_train_score']})\n",
        "result['gamma'] = params['gamma']"
      ],
      "execution_count": 0,
      "outputs": []
    },
    {
      "metadata": {
        "id": "vtDYuNz7TFM5",
        "colab_type": "code",
        "colab": {}
      },
      "cell_type": "code",
      "source": [
        "clf.best_params_"
      ],
      "execution_count": 0,
      "outputs": []
    },
    {
      "metadata": {
        "id": "7fM_QlfBTHgS",
        "colab_type": "code",
        "colab": {}
      },
      "cell_type": "code",
      "source": [
        "clf.best_score_"
      ],
      "execution_count": 0,
      "outputs": []
    },
    {
      "metadata": {
        "id": "tHyh3iwvTJw9",
        "colab_type": "code",
        "colab": {}
      },
      "cell_type": "code",
      "source": [
        "result.plit(x='gamma', figsize=(10,6), xticks=result['gamma'][::2], rot=90, fontsize=7)\n",
        "plt.axvline(x=clf.best_params_['gamma'], c='r')\n",
        "plt.ylabel('f1-score')\n",
        "plt.show()"
      ],
      "execution_count": 0,
      "outputs": []
    },
    {
      "metadata": {
        "id": "s6AMxBg2Sjye",
        "colab_type": "text"
      },
      "cell_type": "markdown",
      "source": [
        "Тест"
      ]
    },
    {
      "metadata": {
        "id": "YmWjmTDcp8YB",
        "colab_type": "code",
        "colab": {}
      },
      "cell_type": "code",
      "source": [
        "clf = LinearSVC(tol=1e-5)\n",
        "skf = StratifiedKFold(n_splits=5)"
      ],
      "execution_count": 0,
      "outputs": []
    },
    {
      "metadata": {
        "id": "JEto4dyhp8YD",
        "colab_type": "code",
        "colab": {},
        "outputId": "066b604c-47b1-43fe-d458-35e3d7cb1385"
      },
      "cell_type": "code",
      "source": [
        "clf.fit(trainData, train_label)"
      ],
      "execution_count": 0,
      "outputs": [
        {
          "output_type": "execute_result",
          "data": {
            "text/plain": [
              "LinearSVC(C=1.0, class_weight=None, dual=True, fit_intercept=True,\n",
              "     intercept_scaling=1, loss='squared_hinge', max_iter=1000,\n",
              "     multi_class='ovr', penalty='l2', random_state=None, tol=1e-05,\n",
              "     verbose=0)"
            ]
          },
          "metadata": {
            "tags": []
          },
          "execution_count": 545
        }
      ]
    },
    {
      "metadata": {
        "id": "VqG5l5I2p8YG",
        "colab_type": "code",
        "colab": {},
        "outputId": "3c7f8130-7c2b-4e99-eb5c-c505612457d0"
      },
      "cell_type": "code",
      "source": [
        "svc_scores = []\n",
        "f1_scores = []\n",
        "\n",
        "n_repeats = 5\n",
        "\n",
        "Data = data.drop(['Churn'], axis=1)\n",
        "label = data['Churn']\n",
        "\n",
        "for i in range(n_repeats):\n",
        "    svc_scores.extend(cross_val_score(clf, Data, label, cv=skf, scoring='f1_micro'))\n",
        "    for train_index,test_index in skf.split(Data,label):\n",
        "        x_train,x_test = Data.loc[train_index],Data.loc[test_index]\n",
        "        y_train,y_test = label.loc[train_index],label.loc[test_index]\n",
        "    \n",
        "        score = f1_score(y_test, clf.predict(x_test))\n",
        "        \n",
        "        print('f1 score:', score)\n",
        "        f1_scores.append(score)    \n",
        "        \n",
        "del Data, label"
      ],
      "execution_count": 0,
      "outputs": [
        {
          "output_type": "stream",
          "text": [
            "f1 score: 0.020408163265306124\n",
            "f1 score: 0.0\n",
            "f1 score: 0.0\n",
            "f1 score: 0.0\n",
            "f1 score: 0.0\n",
            "f1 score: 0.020408163265306124\n",
            "f1 score: 0.0\n",
            "f1 score: 0.0\n",
            "f1 score: 0.0\n",
            "f1 score: 0.0\n",
            "f1 score: 0.020408163265306124\n",
            "f1 score: 0.0\n",
            "f1 score: 0.0\n",
            "f1 score: 0.0\n",
            "f1 score: 0.0\n",
            "f1 score: 0.020408163265306124\n",
            "f1 score: 0.0\n",
            "f1 score: 0.0\n",
            "f1 score: 0.0\n",
            "f1 score: 0.0\n",
            "f1 score: 0.020408163265306124\n",
            "f1 score: 0.0\n",
            "f1 score: 0.0\n",
            "f1 score: 0.0\n",
            "f1 score: 0.0\n"
          ],
          "name": "stdout"
        }
      ]
    },
    {
      "metadata": {
        "id": "JCVn_3NIp8YJ",
        "colab_type": "code",
        "colab": {},
        "outputId": "bbd8303b-00d1-43c9-cdf3-ab30a7a33c8f"
      },
      "cell_type": "code",
      "source": [
        "svc_scores"
      ],
      "execution_count": 0,
      "outputs": [
        {
          "output_type": "execute_result",
          "data": {
            "text/plain": [
              "[0.856071964017991,\n",
              " 0.8545727136431784,\n",
              " 0.21739130434782608,\n",
              " 0.8573573573573574,\n",
              " 0.8573573573573574,\n",
              " 0.32233883058470764,\n",
              " 0.8575712143928035,\n",
              " 0.856071964017991,\n",
              " 0.8573573573573574,\n",
              " 0.8558558558558559,\n",
              " 0.856071964017991,\n",
              " 0.8545727136431784,\n",
              " 0.856071964017991,\n",
              " 0.8573573573573574,\n",
              " 0.8558558558558559,\n",
              " 0.856071964017991,\n",
              " 0.23388305847076463,\n",
              " 0.8530734632683659,\n",
              " 0.19219219219219222,\n",
              " 0.8618618618618619,\n",
              " 0.19490254872563717,\n",
              " 0.856071964017991,\n",
              " 0.8530734632683659,\n",
              " 0.2147147147147147,\n",
              " 0.8543543543543544]"
            ]
          },
          "metadata": {
            "tags": []
          },
          "execution_count": 547
        }
      ]
    },
    {
      "metadata": {
        "id": "wuZW9r6ip8YP",
        "colab_type": "code",
        "colab": {},
        "outputId": "cc4d54c1-20e7-4233-b38f-0f3921c6b91c"
      },
      "cell_type": "code",
      "source": [
        "print('Mean score for svc:', round(np.mean(svc_scores), 5),\n",
        "      '\\nMean score F1:', round(np.mean(f1_scores), 5))"
      ],
      "execution_count": 0,
      "outputs": [
        {
          "output_type": "stream",
          "text": [
            "Mean score for svc: 0.77666 \n",
            "Mean score F1: 0.02429\n"
          ],
          "name": "stdout"
        }
      ]
    },
    {
      "metadata": {
        "id": "kMyPl-xZp8YT",
        "colab_type": "text"
      },
      "cell_type": "markdown",
      "source": [
        "### Задание 6  \n",
        "  \n",
        "Для алгоритма AdaBoost с параметрами по умолчанию оцените на 5-fold валидации, как растет качество модели на обучающей и на тестовой выборках при добавлении каждого дерева. Провизуализируйте результаты. "
      ]
    },
    {
      "metadata": {
        "collapsed": true,
        "id": "BFAd1Oypp8YT",
        "colab_type": "code",
        "colab": {}
      },
      "cell_type": "code",
      "source": [
        "from sklearn.ensemble import AdaBoostClassifier"
      ],
      "execution_count": 0,
      "outputs": []
    },
    {
      "metadata": {
        "id": "4Z9LSPIpp8YW",
        "colab_type": "code",
        "colab": {},
        "outputId": "a62d5ceb-ad5c-4495-c2a6-1feadaa22321"
      },
      "cell_type": "code",
      "source": [
        "ab_model = AdaBoostClassifier()\n",
        "ab_model.fit(trainData, train_label)"
      ],
      "execution_count": 0,
      "outputs": [
        {
          "output_type": "execute_result",
          "data": {
            "text/plain": [
              "AdaBoostClassifier(algorithm='SAMME.R', base_estimator=None,\n",
              "          learning_rate=1.0, n_estimators=50, random_state=None)"
            ]
          },
          "metadata": {
            "tags": []
          },
          "execution_count": 589
        }
      ]
    },
    {
      "metadata": {
        "collapsed": true,
        "id": "U6NCs8Q8p8YZ",
        "colab_type": "code",
        "colab": {}
      },
      "cell_type": "code",
      "source": [
        "staged_scores = []\n",
        "\n",
        "for x in ab_model.staged_predict(testData):\n",
        "    staged_scores.append(metrics.f1_score(test_label, x))\n",
        "    \n",
        "staged_scores = pd.Series(staged_scores)"
      ],
      "execution_count": 0,
      "outputs": []
    },
    {
      "metadata": {
        "collapsed": true,
        "id": "d_ly-wehp8Yc",
        "colab_type": "code",
        "colab": {}
      },
      "cell_type": "code",
      "source": [
        "from sklearn.model_selection import KFold"
      ],
      "execution_count": 0,
      "outputs": []
    },
    {
      "metadata": {
        "id": "6X_VreJPp8Ye",
        "colab_type": "code",
        "colab": {}
      },
      "cell_type": "code",
      "source": [
        "kf = KFold(n_splits=5)\n",
        "scores = []\n",
        "scores_train = []\n",
        "\n",
        "for train_index, test_index in kf.split(Data):\n",
        "    x_train, x_test = Data.iloc[train_index], Data.iloc[test_index]\n",
        "    y_train, y_test = label.iloc[train_index], label.iloc[test_index]\n",
        "    \n",
        "    ab_model = AdaBoostClassifier()\n",
        "    ab_model.fit(x_train, y_train)\n",
        "    \n",
        "    staged_scores = []\n",
        "    for x in ab_model.staged_predict(x_test):\n",
        "        staged_scores.append(metrics.f1_score(y_test,x))\n",
        "        \n",
        "    staged_scores_train = []\n",
        "    for x in ab_model.staged_predict(x_train):\n",
        "        staged_scores_train.append(metrics.f1_score(y_train,x))  \n",
        "        \n",
        "    staged_scores = pd.Series(staged_scores)\n",
        "    staged_scores_train = pd.Series(staged_scores_train)\n",
        "    \n",
        "    scores.append(staged_scores)\n",
        "    scores_train.append(staged_scores_train)"
      ],
      "execution_count": 0,
      "outputs": []
    },
    {
      "metadata": {
        "id": "H64NfFuAp8Yj",
        "colab_type": "code",
        "colab": {},
        "outputId": "3bddb81f-3240-4848-8d44-bc91c306d0d2"
      },
      "cell_type": "code",
      "source": [
        "for i in range(len(scores)):\n",
        "    scores[i].plot()\n",
        "\n",
        "plt.xlabel('step')\n",
        "plt.ylabel('f1_micro_value')\n",
        "\n",
        "plt.title('Staged')\n",
        "plt.show()"
      ],
      "execution_count": 0,
      "outputs": [
        {
          "output_type": "display_data",
          "data": {
            "image/svg+xml": "<?xml version=\"1.0\" encoding=\"utf-8\" standalone=\"no\"?>\r\n<!DOCTYPE svg PUBLIC \"-//W3C//DTD SVG 1.1//EN\"\r\n  \"http://www.w3.org/Graphics/SVG/1.1/DTD/svg11.dtd\">\r\n<!-- Created with matplotlib (http://matplotlib.org/) -->\r\n<svg height=\"277pt\" version=\"1.1\" viewBox=\"0 0 389 277\" width=\"389pt\" xmlns=\"http://www.w3.org/2000/svg\" xmlns:xlink=\"http://www.w3.org/1999/xlink\">\r\n <defs>\r\n  <style type=\"text/css\">\r\n*{stroke-linecap:butt;stroke-linejoin:round;}\r\n  </style>\r\n </defs>\r\n <g id=\"figure_1\">\r\n  <g id=\"patch_1\">\r\n   <path d=\"M 0 277.314375 \r\nL 389.559375 277.314375 \r\nL 389.559375 0 \r\nL 0 0 \r\nz\r\n\" style=\"fill:none;\"/>\r\n  </g>\r\n  <g id=\"axes_1\">\r\n   <g id=\"patch_2\">\r\n    <path d=\"M 44.059375 239.758125 \r\nL 378.859375 239.758125 \r\nL 378.859375 22.318125 \r\nL 44.059375 22.318125 \r\nz\r\n\" style=\"fill:#ffffff;\"/>\r\n   </g>\r\n   <g id=\"matplotlib.axis_1\">\r\n    <g id=\"xtick_1\">\r\n     <g id=\"line2d_1\">\r\n      <defs>\r\n       <path d=\"M 0 0 \r\nL 0 3.5 \r\n\" id=\"m04afd29706\" style=\"stroke:#000000;stroke-width:0.8;\"/>\r\n      </defs>\r\n      <g>\r\n       <use style=\"stroke:#000000;stroke-width:0.8;\" x=\"59.277557\" xlink:href=\"#m04afd29706\" y=\"239.758125\"/>\r\n      </g>\r\n     </g>\r\n     <g id=\"text_1\">\r\n      <!-- 0 -->\r\n      <defs>\r\n       <path d=\"M 31.78125 66.40625 \r\nQ 24.171875 66.40625 20.328125 58.90625 \r\nQ 16.5 51.421875 16.5 36.375 \r\nQ 16.5 21.390625 20.328125 13.890625 \r\nQ 24.171875 6.390625 31.78125 6.390625 \r\nQ 39.453125 6.390625 43.28125 13.890625 \r\nQ 47.125 21.390625 47.125 36.375 \r\nQ 47.125 51.421875 43.28125 58.90625 \r\nQ 39.453125 66.40625 31.78125 66.40625 \r\nz\r\nM 31.78125 74.21875 \r\nQ 44.046875 74.21875 50.515625 64.515625 \r\nQ 56.984375 54.828125 56.984375 36.375 \r\nQ 56.984375 17.96875 50.515625 8.265625 \r\nQ 44.046875 -1.421875 31.78125 -1.421875 \r\nQ 19.53125 -1.421875 13.0625 8.265625 \r\nQ 6.59375 17.96875 6.59375 36.375 \r\nQ 6.59375 54.828125 13.0625 64.515625 \r\nQ 19.53125 74.21875 31.78125 74.21875 \r\nz\r\n\" id=\"DejaVuSans-30\"/>\r\n      </defs>\r\n      <g transform=\"translate(56.096307 254.356562)scale(0.1 -0.1)\">\r\n       <use xlink:href=\"#DejaVuSans-30\"/>\r\n      </g>\r\n     </g>\r\n    </g>\r\n    <g id=\"xtick_2\">\r\n     <g id=\"line2d_2\">\r\n      <g>\r\n       <use style=\"stroke:#000000;stroke-width:0.8;\" x=\"121.392585\" xlink:href=\"#m04afd29706\" y=\"239.758125\"/>\r\n      </g>\r\n     </g>\r\n     <g id=\"text_2\">\r\n      <!-- 10 -->\r\n      <defs>\r\n       <path d=\"M 12.40625 8.296875 \r\nL 28.515625 8.296875 \r\nL 28.515625 63.921875 \r\nL 10.984375 60.40625 \r\nL 10.984375 69.390625 \r\nL 28.421875 72.90625 \r\nL 38.28125 72.90625 \r\nL 38.28125 8.296875 \r\nL 54.390625 8.296875 \r\nL 54.390625 0 \r\nL 12.40625 0 \r\nz\r\n\" id=\"DejaVuSans-31\"/>\r\n      </defs>\r\n      <g transform=\"translate(115.030085 254.356562)scale(0.1 -0.1)\">\r\n       <use xlink:href=\"#DejaVuSans-31\"/>\r\n       <use x=\"63.623047\" xlink:href=\"#DejaVuSans-30\"/>\r\n      </g>\r\n     </g>\r\n    </g>\r\n    <g id=\"xtick_3\">\r\n     <g id=\"line2d_3\">\r\n      <g>\r\n       <use style=\"stroke:#000000;stroke-width:0.8;\" x=\"183.507612\" xlink:href=\"#m04afd29706\" y=\"239.758125\"/>\r\n      </g>\r\n     </g>\r\n     <g id=\"text_3\">\r\n      <!-- 20 -->\r\n      <defs>\r\n       <path d=\"M 19.1875 8.296875 \r\nL 53.609375 8.296875 \r\nL 53.609375 0 \r\nL 7.328125 0 \r\nL 7.328125 8.296875 \r\nQ 12.9375 14.109375 22.625 23.890625 \r\nQ 32.328125 33.6875 34.8125 36.53125 \r\nQ 39.546875 41.84375 41.421875 45.53125 \r\nQ 43.3125 49.21875 43.3125 52.78125 \r\nQ 43.3125 58.59375 39.234375 62.25 \r\nQ 35.15625 65.921875 28.609375 65.921875 \r\nQ 23.96875 65.921875 18.8125 64.3125 \r\nQ 13.671875 62.703125 7.8125 59.421875 \r\nL 7.8125 69.390625 \r\nQ 13.765625 71.78125 18.9375 73 \r\nQ 24.125 74.21875 28.421875 74.21875 \r\nQ 39.75 74.21875 46.484375 68.546875 \r\nQ 53.21875 62.890625 53.21875 53.421875 \r\nQ 53.21875 48.921875 51.53125 44.890625 \r\nQ 49.859375 40.875 45.40625 35.40625 \r\nQ 44.1875 33.984375 37.640625 27.21875 \r\nQ 31.109375 20.453125 19.1875 8.296875 \r\nz\r\n\" id=\"DejaVuSans-32\"/>\r\n      </defs>\r\n      <g transform=\"translate(177.145112 254.356562)scale(0.1 -0.1)\">\r\n       <use xlink:href=\"#DejaVuSans-32\"/>\r\n       <use x=\"63.623047\" xlink:href=\"#DejaVuSans-30\"/>\r\n      </g>\r\n     </g>\r\n    </g>\r\n    <g id=\"xtick_4\">\r\n     <g id=\"line2d_4\">\r\n      <g>\r\n       <use style=\"stroke:#000000;stroke-width:0.8;\" x=\"245.62264\" xlink:href=\"#m04afd29706\" y=\"239.758125\"/>\r\n      </g>\r\n     </g>\r\n     <g id=\"text_4\">\r\n      <!-- 30 -->\r\n      <defs>\r\n       <path d=\"M 40.578125 39.3125 \r\nQ 47.65625 37.796875 51.625 33 \r\nQ 55.609375 28.21875 55.609375 21.1875 \r\nQ 55.609375 10.40625 48.1875 4.484375 \r\nQ 40.765625 -1.421875 27.09375 -1.421875 \r\nQ 22.515625 -1.421875 17.65625 -0.515625 \r\nQ 12.796875 0.390625 7.625 2.203125 \r\nL 7.625 11.71875 \r\nQ 11.71875 9.328125 16.59375 8.109375 \r\nQ 21.484375 6.890625 26.8125 6.890625 \r\nQ 36.078125 6.890625 40.9375 10.546875 \r\nQ 45.796875 14.203125 45.796875 21.1875 \r\nQ 45.796875 27.640625 41.28125 31.265625 \r\nQ 36.765625 34.90625 28.71875 34.90625 \r\nL 20.21875 34.90625 \r\nL 20.21875 43.015625 \r\nL 29.109375 43.015625 \r\nQ 36.375 43.015625 40.234375 45.921875 \r\nQ 44.09375 48.828125 44.09375 54.296875 \r\nQ 44.09375 59.90625 40.109375 62.90625 \r\nQ 36.140625 65.921875 28.71875 65.921875 \r\nQ 24.65625 65.921875 20.015625 65.03125 \r\nQ 15.375 64.15625 9.8125 62.3125 \r\nL 9.8125 71.09375 \r\nQ 15.4375 72.65625 20.34375 73.4375 \r\nQ 25.25 74.21875 29.59375 74.21875 \r\nQ 40.828125 74.21875 47.359375 69.109375 \r\nQ 53.90625 64.015625 53.90625 55.328125 \r\nQ 53.90625 49.265625 50.4375 45.09375 \r\nQ 46.96875 40.921875 40.578125 39.3125 \r\nz\r\n\" id=\"DejaVuSans-33\"/>\r\n      </defs>\r\n      <g transform=\"translate(239.26014 254.356562)scale(0.1 -0.1)\">\r\n       <use xlink:href=\"#DejaVuSans-33\"/>\r\n       <use x=\"63.623047\" xlink:href=\"#DejaVuSans-30\"/>\r\n      </g>\r\n     </g>\r\n    </g>\r\n    <g id=\"xtick_5\">\r\n     <g id=\"line2d_5\">\r\n      <g>\r\n       <use style=\"stroke:#000000;stroke-width:0.8;\" x=\"307.737668\" xlink:href=\"#m04afd29706\" y=\"239.758125\"/>\r\n      </g>\r\n     </g>\r\n     <g id=\"text_5\">\r\n      <!-- 40 -->\r\n      <defs>\r\n       <path d=\"M 37.796875 64.3125 \r\nL 12.890625 25.390625 \r\nL 37.796875 25.390625 \r\nz\r\nM 35.203125 72.90625 \r\nL 47.609375 72.90625 \r\nL 47.609375 25.390625 \r\nL 58.015625 25.390625 \r\nL 58.015625 17.1875 \r\nL 47.609375 17.1875 \r\nL 47.609375 0 \r\nL 37.796875 0 \r\nL 37.796875 17.1875 \r\nL 4.890625 17.1875 \r\nL 4.890625 26.703125 \r\nz\r\n\" id=\"DejaVuSans-34\"/>\r\n      </defs>\r\n      <g transform=\"translate(301.375168 254.356562)scale(0.1 -0.1)\">\r\n       <use xlink:href=\"#DejaVuSans-34\"/>\r\n       <use x=\"63.623047\" xlink:href=\"#DejaVuSans-30\"/>\r\n      </g>\r\n     </g>\r\n    </g>\r\n    <g id=\"xtick_6\">\r\n     <g id=\"line2d_6\">\r\n      <g>\r\n       <use style=\"stroke:#000000;stroke-width:0.8;\" x=\"369.852696\" xlink:href=\"#m04afd29706\" y=\"239.758125\"/>\r\n      </g>\r\n     </g>\r\n     <g id=\"text_6\">\r\n      <!-- 50 -->\r\n      <defs>\r\n       <path d=\"M 10.796875 72.90625 \r\nL 49.515625 72.90625 \r\nL 49.515625 64.59375 \r\nL 19.828125 64.59375 \r\nL 19.828125 46.734375 \r\nQ 21.96875 47.46875 24.109375 47.828125 \r\nQ 26.265625 48.1875 28.421875 48.1875 \r\nQ 40.625 48.1875 47.75 41.5 \r\nQ 54.890625 34.8125 54.890625 23.390625 \r\nQ 54.890625 11.625 47.5625 5.09375 \r\nQ 40.234375 -1.421875 26.90625 -1.421875 \r\nQ 22.3125 -1.421875 17.546875 -0.640625 \r\nQ 12.796875 0.140625 7.71875 1.703125 \r\nL 7.71875 11.625 \r\nQ 12.109375 9.234375 16.796875 8.0625 \r\nQ 21.484375 6.890625 26.703125 6.890625 \r\nQ 35.15625 6.890625 40.078125 11.328125 \r\nQ 45.015625 15.765625 45.015625 23.390625 \r\nQ 45.015625 31 40.078125 35.4375 \r\nQ 35.15625 39.890625 26.703125 39.890625 \r\nQ 22.75 39.890625 18.8125 39.015625 \r\nQ 14.890625 38.140625 10.796875 36.28125 \r\nz\r\n\" id=\"DejaVuSans-35\"/>\r\n      </defs>\r\n      <g transform=\"translate(363.490196 254.356562)scale(0.1 -0.1)\">\r\n       <use xlink:href=\"#DejaVuSans-35\"/>\r\n       <use x=\"63.623047\" xlink:href=\"#DejaVuSans-30\"/>\r\n      </g>\r\n     </g>\r\n    </g>\r\n    <g id=\"text_7\">\r\n     <!-- step -->\r\n     <defs>\r\n      <path d=\"M 44.28125 53.078125 \r\nL 44.28125 44.578125 \r\nQ 40.484375 46.53125 36.375 47.5 \r\nQ 32.28125 48.484375 27.875 48.484375 \r\nQ 21.1875 48.484375 17.84375 46.4375 \r\nQ 14.5 44.390625 14.5 40.28125 \r\nQ 14.5 37.15625 16.890625 35.375 \r\nQ 19.28125 33.59375 26.515625 31.984375 \r\nL 29.59375 31.296875 \r\nQ 39.15625 29.25 43.1875 25.515625 \r\nQ 47.21875 21.78125 47.21875 15.09375 \r\nQ 47.21875 7.46875 41.1875 3.015625 \r\nQ 35.15625 -1.421875 24.609375 -1.421875 \r\nQ 20.21875 -1.421875 15.453125 -0.5625 \r\nQ 10.6875 0.296875 5.421875 2 \r\nL 5.421875 11.28125 \r\nQ 10.40625 8.6875 15.234375 7.390625 \r\nQ 20.0625 6.109375 24.8125 6.109375 \r\nQ 31.15625 6.109375 34.5625 8.28125 \r\nQ 37.984375 10.453125 37.984375 14.40625 \r\nQ 37.984375 18.0625 35.515625 20.015625 \r\nQ 33.0625 21.96875 24.703125 23.78125 \r\nL 21.578125 24.515625 \r\nQ 13.234375 26.265625 9.515625 29.90625 \r\nQ 5.8125 33.546875 5.8125 39.890625 \r\nQ 5.8125 47.609375 11.28125 51.796875 \r\nQ 16.75 56 26.8125 56 \r\nQ 31.78125 56 36.171875 55.265625 \r\nQ 40.578125 54.546875 44.28125 53.078125 \r\nz\r\n\" id=\"DejaVuSans-73\"/>\r\n      <path d=\"M 18.3125 70.21875 \r\nL 18.3125 54.6875 \r\nL 36.8125 54.6875 \r\nL 36.8125 47.703125 \r\nL 18.3125 47.703125 \r\nL 18.3125 18.015625 \r\nQ 18.3125 11.328125 20.140625 9.421875 \r\nQ 21.96875 7.515625 27.59375 7.515625 \r\nL 36.8125 7.515625 \r\nL 36.8125 0 \r\nL 27.59375 0 \r\nQ 17.1875 0 13.234375 3.875 \r\nQ 9.28125 7.765625 9.28125 18.015625 \r\nL 9.28125 47.703125 \r\nL 2.6875 47.703125 \r\nL 2.6875 54.6875 \r\nL 9.28125 54.6875 \r\nL 9.28125 70.21875 \r\nz\r\n\" id=\"DejaVuSans-74\"/>\r\n      <path d=\"M 56.203125 29.59375 \r\nL 56.203125 25.203125 \r\nL 14.890625 25.203125 \r\nQ 15.484375 15.921875 20.484375 11.0625 \r\nQ 25.484375 6.203125 34.421875 6.203125 \r\nQ 39.59375 6.203125 44.453125 7.46875 \r\nQ 49.3125 8.734375 54.109375 11.28125 \r\nL 54.109375 2.78125 \r\nQ 49.265625 0.734375 44.1875 -0.34375 \r\nQ 39.109375 -1.421875 33.890625 -1.421875 \r\nQ 20.796875 -1.421875 13.15625 6.1875 \r\nQ 5.515625 13.8125 5.515625 26.8125 \r\nQ 5.515625 40.234375 12.765625 48.109375 \r\nQ 20.015625 56 32.328125 56 \r\nQ 43.359375 56 49.78125 48.890625 \r\nQ 56.203125 41.796875 56.203125 29.59375 \r\nz\r\nM 47.21875 32.234375 \r\nQ 47.125 39.59375 43.09375 43.984375 \r\nQ 39.0625 48.390625 32.421875 48.390625 \r\nQ 24.90625 48.390625 20.390625 44.140625 \r\nQ 15.875 39.890625 15.1875 32.171875 \r\nz\r\n\" id=\"DejaVuSans-65\"/>\r\n      <path d=\"M 18.109375 8.203125 \r\nL 18.109375 -20.796875 \r\nL 9.078125 -20.796875 \r\nL 9.078125 54.6875 \r\nL 18.109375 54.6875 \r\nL 18.109375 46.390625 \r\nQ 20.953125 51.265625 25.265625 53.625 \r\nQ 29.59375 56 35.59375 56 \r\nQ 45.5625 56 51.78125 48.09375 \r\nQ 58.015625 40.1875 58.015625 27.296875 \r\nQ 58.015625 14.40625 51.78125 6.484375 \r\nQ 45.5625 -1.421875 35.59375 -1.421875 \r\nQ 29.59375 -1.421875 25.265625 0.953125 \r\nQ 20.953125 3.328125 18.109375 8.203125 \r\nz\r\nM 48.6875 27.296875 \r\nQ 48.6875 37.203125 44.609375 42.84375 \r\nQ 40.53125 48.484375 33.40625 48.484375 \r\nQ 26.265625 48.484375 22.1875 42.84375 \r\nQ 18.109375 37.203125 18.109375 27.296875 \r\nQ 18.109375 17.390625 22.1875 11.75 \r\nQ 26.265625 6.109375 33.40625 6.109375 \r\nQ 40.53125 6.109375 44.609375 11.75 \r\nQ 48.6875 17.390625 48.6875 27.296875 \r\nz\r\n\" id=\"DejaVuSans-70\"/>\r\n     </defs>\r\n     <g transform=\"translate(200.64375 268.034687)scale(0.1 -0.1)\">\r\n      <use xlink:href=\"#DejaVuSans-73\"/>\r\n      <use x=\"52.099609\" xlink:href=\"#DejaVuSans-74\"/>\r\n      <use x=\"91.308594\" xlink:href=\"#DejaVuSans-65\"/>\r\n      <use x=\"152.832031\" xlink:href=\"#DejaVuSans-70\"/>\r\n     </g>\r\n    </g>\r\n   </g>\r\n   <g id=\"matplotlib.axis_2\">\r\n    <g id=\"ytick_1\">\r\n     <g id=\"line2d_7\">\r\n      <defs>\r\n       <path d=\"M 0 0 \r\nL -3.5 0 \r\n\" id=\"m89860c8616\" style=\"stroke:#000000;stroke-width:0.8;\"/>\r\n      </defs>\r\n      <g>\r\n       <use style=\"stroke:#000000;stroke-width:0.8;\" x=\"44.059375\" xlink:href=\"#m89860c8616\" y=\"225.214523\"/>\r\n      </g>\r\n     </g>\r\n     <g id=\"text_8\">\r\n      <!-- 0.2 -->\r\n      <defs>\r\n       <path d=\"M 10.6875 12.40625 \r\nL 21 12.40625 \r\nL 21 0 \r\nL 10.6875 0 \r\nz\r\n\" id=\"DejaVuSans-2e\"/>\r\n      </defs>\r\n      <g transform=\"translate(21.15625 229.013742)scale(0.1 -0.1)\">\r\n       <use xlink:href=\"#DejaVuSans-30\"/>\r\n       <use x=\"63.623047\" xlink:href=\"#DejaVuSans-2e\"/>\r\n       <use x=\"95.410156\" xlink:href=\"#DejaVuSans-32\"/>\r\n      </g>\r\n     </g>\r\n    </g>\r\n    <g id=\"ytick_2\">\r\n     <g id=\"line2d_8\">\r\n      <g>\r\n       <use style=\"stroke:#000000;stroke-width:0.8;\" x=\"44.059375\" xlink:href=\"#m89860c8616\" y=\"189.599073\"/>\r\n      </g>\r\n     </g>\r\n     <g id=\"text_9\">\r\n      <!-- 0.3 -->\r\n      <g transform=\"translate(21.15625 193.398292)scale(0.1 -0.1)\">\r\n       <use xlink:href=\"#DejaVuSans-30\"/>\r\n       <use x=\"63.623047\" xlink:href=\"#DejaVuSans-2e\"/>\r\n       <use x=\"95.410156\" xlink:href=\"#DejaVuSans-33\"/>\r\n      </g>\r\n     </g>\r\n    </g>\r\n    <g id=\"ytick_3\">\r\n     <g id=\"line2d_9\">\r\n      <g>\r\n       <use style=\"stroke:#000000;stroke-width:0.8;\" x=\"44.059375\" xlink:href=\"#m89860c8616\" y=\"153.983623\"/>\r\n      </g>\r\n     </g>\r\n     <g id=\"text_10\">\r\n      <!-- 0.4 -->\r\n      <g transform=\"translate(21.15625 157.782842)scale(0.1 -0.1)\">\r\n       <use xlink:href=\"#DejaVuSans-30\"/>\r\n       <use x=\"63.623047\" xlink:href=\"#DejaVuSans-2e\"/>\r\n       <use x=\"95.410156\" xlink:href=\"#DejaVuSans-34\"/>\r\n      </g>\r\n     </g>\r\n    </g>\r\n    <g id=\"ytick_4\">\r\n     <g id=\"line2d_10\">\r\n      <g>\r\n       <use style=\"stroke:#000000;stroke-width:0.8;\" x=\"44.059375\" xlink:href=\"#m89860c8616\" y=\"118.368173\"/>\r\n      </g>\r\n     </g>\r\n     <g id=\"text_11\">\r\n      <!-- 0.5 -->\r\n      <g transform=\"translate(21.15625 122.167392)scale(0.1 -0.1)\">\r\n       <use xlink:href=\"#DejaVuSans-30\"/>\r\n       <use x=\"63.623047\" xlink:href=\"#DejaVuSans-2e\"/>\r\n       <use x=\"95.410156\" xlink:href=\"#DejaVuSans-35\"/>\r\n      </g>\r\n     </g>\r\n    </g>\r\n    <g id=\"ytick_5\">\r\n     <g id=\"line2d_11\">\r\n      <g>\r\n       <use style=\"stroke:#000000;stroke-width:0.8;\" x=\"44.059375\" xlink:href=\"#m89860c8616\" y=\"82.752723\"/>\r\n      </g>\r\n     </g>\r\n     <g id=\"text_12\">\r\n      <!-- 0.6 -->\r\n      <defs>\r\n       <path d=\"M 33.015625 40.375 \r\nQ 26.375 40.375 22.484375 35.828125 \r\nQ 18.609375 31.296875 18.609375 23.390625 \r\nQ 18.609375 15.53125 22.484375 10.953125 \r\nQ 26.375 6.390625 33.015625 6.390625 \r\nQ 39.65625 6.390625 43.53125 10.953125 \r\nQ 47.40625 15.53125 47.40625 23.390625 \r\nQ 47.40625 31.296875 43.53125 35.828125 \r\nQ 39.65625 40.375 33.015625 40.375 \r\nz\r\nM 52.59375 71.296875 \r\nL 52.59375 62.3125 \r\nQ 48.875 64.0625 45.09375 64.984375 \r\nQ 41.3125 65.921875 37.59375 65.921875 \r\nQ 27.828125 65.921875 22.671875 59.328125 \r\nQ 17.53125 52.734375 16.796875 39.40625 \r\nQ 19.671875 43.65625 24.015625 45.921875 \r\nQ 28.375 48.1875 33.59375 48.1875 \r\nQ 44.578125 48.1875 50.953125 41.515625 \r\nQ 57.328125 34.859375 57.328125 23.390625 \r\nQ 57.328125 12.15625 50.6875 5.359375 \r\nQ 44.046875 -1.421875 33.015625 -1.421875 \r\nQ 20.359375 -1.421875 13.671875 8.265625 \r\nQ 6.984375 17.96875 6.984375 36.375 \r\nQ 6.984375 53.65625 15.1875 63.9375 \r\nQ 23.390625 74.21875 37.203125 74.21875 \r\nQ 40.921875 74.21875 44.703125 73.484375 \r\nQ 48.484375 72.75 52.59375 71.296875 \r\nz\r\n\" id=\"DejaVuSans-36\"/>\r\n      </defs>\r\n      <g transform=\"translate(21.15625 86.551942)scale(0.1 -0.1)\">\r\n       <use xlink:href=\"#DejaVuSans-30\"/>\r\n       <use x=\"63.623047\" xlink:href=\"#DejaVuSans-2e\"/>\r\n       <use x=\"95.410156\" xlink:href=\"#DejaVuSans-36\"/>\r\n      </g>\r\n     </g>\r\n    </g>\r\n    <g id=\"ytick_6\">\r\n     <g id=\"line2d_12\">\r\n      <g>\r\n       <use style=\"stroke:#000000;stroke-width:0.8;\" x=\"44.059375\" xlink:href=\"#m89860c8616\" y=\"47.137273\"/>\r\n      </g>\r\n     </g>\r\n     <g id=\"text_13\">\r\n      <!-- 0.7 -->\r\n      <defs>\r\n       <path d=\"M 8.203125 72.90625 \r\nL 55.078125 72.90625 \r\nL 55.078125 68.703125 \r\nL 28.609375 0 \r\nL 18.3125 0 \r\nL 43.21875 64.59375 \r\nL 8.203125 64.59375 \r\nz\r\n\" id=\"DejaVuSans-37\"/>\r\n      </defs>\r\n      <g transform=\"translate(21.15625 50.936491)scale(0.1 -0.1)\">\r\n       <use xlink:href=\"#DejaVuSans-30\"/>\r\n       <use x=\"63.623047\" xlink:href=\"#DejaVuSans-2e\"/>\r\n       <use x=\"95.410156\" xlink:href=\"#DejaVuSans-37\"/>\r\n      </g>\r\n     </g>\r\n    </g>\r\n    <g id=\"text_14\">\r\n     <!-- f1_micro_value -->\r\n     <defs>\r\n      <path d=\"M 37.109375 75.984375 \r\nL 37.109375 68.5 \r\nL 28.515625 68.5 \r\nQ 23.6875 68.5 21.796875 66.546875 \r\nQ 19.921875 64.59375 19.921875 59.515625 \r\nL 19.921875 54.6875 \r\nL 34.71875 54.6875 \r\nL 34.71875 47.703125 \r\nL 19.921875 47.703125 \r\nL 19.921875 0 \r\nL 10.890625 0 \r\nL 10.890625 47.703125 \r\nL 2.296875 47.703125 \r\nL 2.296875 54.6875 \r\nL 10.890625 54.6875 \r\nL 10.890625 58.5 \r\nQ 10.890625 67.625 15.140625 71.796875 \r\nQ 19.390625 75.984375 28.609375 75.984375 \r\nz\r\n\" id=\"DejaVuSans-66\"/>\r\n      <path d=\"M 50.984375 -16.609375 \r\nL 50.984375 -23.578125 \r\nL -0.984375 -23.578125 \r\nL -0.984375 -16.609375 \r\nz\r\n\" id=\"DejaVuSans-5f\"/>\r\n      <path d=\"M 52 44.1875 \r\nQ 55.375 50.25 60.0625 53.125 \r\nQ 64.75 56 71.09375 56 \r\nQ 79.640625 56 84.28125 50.015625 \r\nQ 88.921875 44.046875 88.921875 33.015625 \r\nL 88.921875 0 \r\nL 79.890625 0 \r\nL 79.890625 32.71875 \r\nQ 79.890625 40.578125 77.09375 44.375 \r\nQ 74.3125 48.1875 68.609375 48.1875 \r\nQ 61.625 48.1875 57.5625 43.546875 \r\nQ 53.515625 38.921875 53.515625 30.90625 \r\nL 53.515625 0 \r\nL 44.484375 0 \r\nL 44.484375 32.71875 \r\nQ 44.484375 40.625 41.703125 44.40625 \r\nQ 38.921875 48.1875 33.109375 48.1875 \r\nQ 26.21875 48.1875 22.15625 43.53125 \r\nQ 18.109375 38.875 18.109375 30.90625 \r\nL 18.109375 0 \r\nL 9.078125 0 \r\nL 9.078125 54.6875 \r\nL 18.109375 54.6875 \r\nL 18.109375 46.1875 \r\nQ 21.1875 51.21875 25.484375 53.609375 \r\nQ 29.78125 56 35.6875 56 \r\nQ 41.65625 56 45.828125 52.96875 \r\nQ 50 49.953125 52 44.1875 \r\nz\r\n\" id=\"DejaVuSans-6d\"/>\r\n      <path d=\"M 9.421875 54.6875 \r\nL 18.40625 54.6875 \r\nL 18.40625 0 \r\nL 9.421875 0 \r\nz\r\nM 9.421875 75.984375 \r\nL 18.40625 75.984375 \r\nL 18.40625 64.59375 \r\nL 9.421875 64.59375 \r\nz\r\n\" id=\"DejaVuSans-69\"/>\r\n      <path d=\"M 48.78125 52.59375 \r\nL 48.78125 44.1875 \r\nQ 44.96875 46.296875 41.140625 47.34375 \r\nQ 37.3125 48.390625 33.40625 48.390625 \r\nQ 24.65625 48.390625 19.8125 42.84375 \r\nQ 14.984375 37.3125 14.984375 27.296875 \r\nQ 14.984375 17.28125 19.8125 11.734375 \r\nQ 24.65625 6.203125 33.40625 6.203125 \r\nQ 37.3125 6.203125 41.140625 7.25 \r\nQ 44.96875 8.296875 48.78125 10.40625 \r\nL 48.78125 2.09375 \r\nQ 45.015625 0.34375 40.984375 -0.53125 \r\nQ 36.96875 -1.421875 32.421875 -1.421875 \r\nQ 20.0625 -1.421875 12.78125 6.34375 \r\nQ 5.515625 14.109375 5.515625 27.296875 \r\nQ 5.515625 40.671875 12.859375 48.328125 \r\nQ 20.21875 56 33.015625 56 \r\nQ 37.15625 56 41.109375 55.140625 \r\nQ 45.0625 54.296875 48.78125 52.59375 \r\nz\r\n\" id=\"DejaVuSans-63\"/>\r\n      <path d=\"M 41.109375 46.296875 \r\nQ 39.59375 47.171875 37.8125 47.578125 \r\nQ 36.03125 48 33.890625 48 \r\nQ 26.265625 48 22.1875 43.046875 \r\nQ 18.109375 38.09375 18.109375 28.8125 \r\nL 18.109375 0 \r\nL 9.078125 0 \r\nL 9.078125 54.6875 \r\nL 18.109375 54.6875 \r\nL 18.109375 46.1875 \r\nQ 20.953125 51.171875 25.484375 53.578125 \r\nQ 30.03125 56 36.53125 56 \r\nQ 37.453125 56 38.578125 55.875 \r\nQ 39.703125 55.765625 41.0625 55.515625 \r\nz\r\n\" id=\"DejaVuSans-72\"/>\r\n      <path d=\"M 30.609375 48.390625 \r\nQ 23.390625 48.390625 19.1875 42.75 \r\nQ 14.984375 37.109375 14.984375 27.296875 \r\nQ 14.984375 17.484375 19.15625 11.84375 \r\nQ 23.34375 6.203125 30.609375 6.203125 \r\nQ 37.796875 6.203125 41.984375 11.859375 \r\nQ 46.1875 17.53125 46.1875 27.296875 \r\nQ 46.1875 37.015625 41.984375 42.703125 \r\nQ 37.796875 48.390625 30.609375 48.390625 \r\nz\r\nM 30.609375 56 \r\nQ 42.328125 56 49.015625 48.375 \r\nQ 55.71875 40.765625 55.71875 27.296875 \r\nQ 55.71875 13.875 49.015625 6.21875 \r\nQ 42.328125 -1.421875 30.609375 -1.421875 \r\nQ 18.84375 -1.421875 12.171875 6.21875 \r\nQ 5.515625 13.875 5.515625 27.296875 \r\nQ 5.515625 40.765625 12.171875 48.375 \r\nQ 18.84375 56 30.609375 56 \r\nz\r\n\" id=\"DejaVuSans-6f\"/>\r\n      <path d=\"M 2.984375 54.6875 \r\nL 12.5 54.6875 \r\nL 29.59375 8.796875 \r\nL 46.6875 54.6875 \r\nL 56.203125 54.6875 \r\nL 35.6875 0 \r\nL 23.484375 0 \r\nz\r\n\" id=\"DejaVuSans-76\"/>\r\n      <path d=\"M 34.28125 27.484375 \r\nQ 23.390625 27.484375 19.1875 25 \r\nQ 14.984375 22.515625 14.984375 16.5 \r\nQ 14.984375 11.71875 18.140625 8.90625 \r\nQ 21.296875 6.109375 26.703125 6.109375 \r\nQ 34.1875 6.109375 38.703125 11.40625 \r\nQ 43.21875 16.703125 43.21875 25.484375 \r\nL 43.21875 27.484375 \r\nz\r\nM 52.203125 31.203125 \r\nL 52.203125 0 \r\nL 43.21875 0 \r\nL 43.21875 8.296875 \r\nQ 40.140625 3.328125 35.546875 0.953125 \r\nQ 30.953125 -1.421875 24.3125 -1.421875 \r\nQ 15.921875 -1.421875 10.953125 3.296875 \r\nQ 6 8.015625 6 15.921875 \r\nQ 6 25.140625 12.171875 29.828125 \r\nQ 18.359375 34.515625 30.609375 34.515625 \r\nL 43.21875 34.515625 \r\nL 43.21875 35.40625 \r\nQ 43.21875 41.609375 39.140625 45 \r\nQ 35.0625 48.390625 27.6875 48.390625 \r\nQ 23 48.390625 18.546875 47.265625 \r\nQ 14.109375 46.140625 10.015625 43.890625 \r\nL 10.015625 52.203125 \r\nQ 14.9375 54.109375 19.578125 55.046875 \r\nQ 24.21875 56 28.609375 56 \r\nQ 40.484375 56 46.34375 49.84375 \r\nQ 52.203125 43.703125 52.203125 31.203125 \r\nz\r\n\" id=\"DejaVuSans-61\"/>\r\n      <path d=\"M 9.421875 75.984375 \r\nL 18.40625 75.984375 \r\nL 18.40625 0 \r\nL 9.421875 0 \r\nz\r\n\" id=\"DejaVuSans-6c\"/>\r\n      <path d=\"M 8.5 21.578125 \r\nL 8.5 54.6875 \r\nL 17.484375 54.6875 \r\nL 17.484375 21.921875 \r\nQ 17.484375 14.15625 20.5 10.265625 \r\nQ 23.53125 6.390625 29.59375 6.390625 \r\nQ 36.859375 6.390625 41.078125 11.03125 \r\nQ 45.3125 15.671875 45.3125 23.6875 \r\nL 45.3125 54.6875 \r\nL 54.296875 54.6875 \r\nL 54.296875 0 \r\nL 45.3125 0 \r\nL 45.3125 8.40625 \r\nQ 42.046875 3.421875 37.71875 1 \r\nQ 33.40625 -1.421875 27.6875 -1.421875 \r\nQ 18.265625 -1.421875 13.375 4.4375 \r\nQ 8.5 10.296875 8.5 21.578125 \r\nz\r\nM 31.109375 56 \r\nz\r\n\" id=\"DejaVuSans-75\"/>\r\n     </defs>\r\n     <g transform=\"translate(14.798438 168.759219)rotate(-90)scale(0.1 -0.1)\">\r\n      <use xlink:href=\"#DejaVuSans-66\"/>\r\n      <use x=\"35.205078\" xlink:href=\"#DejaVuSans-31\"/>\r\n      <use x=\"98.828125\" xlink:href=\"#DejaVuSans-5f\"/>\r\n      <use x=\"148.828125\" xlink:href=\"#DejaVuSans-6d\"/>\r\n      <use x=\"246.240234\" xlink:href=\"#DejaVuSans-69\"/>\r\n      <use x=\"274.023438\" xlink:href=\"#DejaVuSans-63\"/>\r\n      <use x=\"329.003906\" xlink:href=\"#DejaVuSans-72\"/>\r\n      <use x=\"370.085938\" xlink:href=\"#DejaVuSans-6f\"/>\r\n      <use x=\"431.267578\" xlink:href=\"#DejaVuSans-5f\"/>\r\n      <use x=\"481.267578\" xlink:href=\"#DejaVuSans-76\"/>\r\n      <use x=\"540.447266\" xlink:href=\"#DejaVuSans-61\"/>\r\n      <use x=\"601.726562\" xlink:href=\"#DejaVuSans-6c\"/>\r\n      <use x=\"629.509766\" xlink:href=\"#DejaVuSans-75\"/>\r\n      <use x=\"692.888672\" xlink:href=\"#DejaVuSans-65\"/>\r\n     </g>\r\n    </g>\r\n   </g>\r\n   <g id=\"line2d_13\">\r\n    <path clip-path=\"url(#p41185f1ce4)\" d=\"M 59.277557 105.827521 \r\nL 65.48906 105.827521 \r\nL 71.700562 101.292272 \r\nL 77.912065 229.874489 \r\nL 84.123568 107.160514 \r\nL 90.335071 82.752723 \r\nL 96.546574 96.413443 \r\nL 102.758076 96.413443 \r\nL 108.969579 92.928566 \r\nL 115.181082 82.752723 \r\nL 121.392585 82.752723 \r\nL 127.604087 82.752723 \r\nL 133.81559 82.752723 \r\nL 140.027093 82.752723 \r\nL 146.238596 79.864984 \r\nL 152.450099 83.237287 \r\nL 158.661601 79.864984 \r\nL 164.873104 85.208961 \r\nL 171.084607 85.208961 \r\nL 177.29611 85.208961 \r\nL 183.507612 81.776957 \r\nL 189.719115 85.208961 \r\nL 195.930618 88.688631 \r\nL 202.142121 90.121437 \r\nL 208.353624 85.208961 \r\nL 214.565126 85.208961 \r\nL 220.776629 90.121437 \r\nL 226.988132 90.121437 \r\nL 233.199635 90.879738 \r\nL 239.411138 100.440933 \r\nL 245.62264 92.250176 \r\nL 251.834143 93.602463 \r\nL 258.045646 90.879738 \r\nL 264.257149 90.121437 \r\nL 270.468651 90.879738 \r\nL 276.680154 90.879738 \r\nL 282.891657 90.879738 \r\nL 289.10316 84.677882 \r\nL 295.314663 84.167906 \r\nL 301.526165 84.167906 \r\nL 307.737668 77.631547 \r\nL 313.949171 88.885184 \r\nL 320.160674 88.885184 \r\nL 326.372176 79.450628 \r\nL 332.583679 79.450628 \r\nL 338.795182 79.450628 \r\nL 345.006685 82.752723 \r\nL 351.218188 81.318544 \r\nL 357.42969 82.752723 \r\nL 363.641193 81.318544 \r\n\" style=\"fill:none;stroke:#1f77b4;stroke-linecap:square;stroke-width:1.5;\"/>\r\n   </g>\r\n   <g id=\"line2d_14\">\r\n    <path clip-path=\"url(#p41185f1ce4)\" d=\"M 59.277557 118.368173 \r\nL 65.48906 118.368173 \r\nL 71.700562 112.623745 \r\nL 77.912065 92.928566 \r\nL 84.123568 109.610275 \r\nL 90.335071 109.610275 \r\nL 96.546574 118.368173 \r\nL 102.758076 113.953034 \r\nL 108.969579 105.33813 \r\nL 115.181082 88.232023 \r\nL 121.392585 84.383965 \r\nL 127.604087 75.574415 \r\nL 133.81559 77.273423 \r\nL 140.027093 85.990491 \r\nL 146.238596 84.383965 \r\nL 152.450099 84.383965 \r\nL 158.661601 78.500132 \r\nL 164.873104 78.500132 \r\nL 171.084607 78.500132 \r\nL 177.29611 78.500132 \r\nL 183.507612 80.114541 \r\nL 189.719115 78.500132 \r\nL 195.930618 73.184393 \r\nL 202.142121 71.230077 \r\nL 208.353624 75.19793 \r\nL 214.565126 78.500132 \r\nL 220.776629 83.815871 \r\nL 226.988132 80.594211 \r\nL 233.199635 78.500132 \r\nL 239.411138 82.217152 \r\nL 245.62264 76.861445 \r\nL 251.834143 76.467643 \r\nL 258.045646 84.817387 \r\nL 264.257149 79.655727 \r\nL 270.468651 84.817387 \r\nL 276.680154 78.073321 \r\nL 282.891657 81.70521 \r\nL 289.10316 73.184393 \r\nL 295.314663 73.184393 \r\nL 301.526165 78.500132 \r\nL 307.737668 76.861445 \r\nL 313.949171 71.230077 \r\nL 320.160674 69.561815 \r\nL 326.372176 69.561815 \r\nL 332.583679 73.184393 \r\nL 338.795182 73.184393 \r\nL 345.006685 71.230077 \r\nL 351.218188 71.230077 \r\nL 357.42969 71.230077 \r\nL 363.641193 72.873985 \r\n\" style=\"fill:none;stroke:#ff7f0e;stroke-linecap:square;stroke-width:1.5;\"/>\r\n   </g>\r\n   <g id=\"line2d_15\">\r\n    <path clip-path=\"url(#p41185f1ce4)\" d=\"M 59.277557 117.219287 \r\nL 65.48906 117.219287 \r\nL 71.700562 108.535687 \r\nL 77.912065 108.535687 \r\nL 84.123568 97.553949 \r\nL 90.335071 90.971673 \r\nL 96.546574 105.33813 \r\nL 102.758076 81.09619 \r\nL 108.969579 81.09619 \r\nL 115.181082 81.09619 \r\nL 121.392585 79.836838 \r\nL 127.604087 64.730447 \r\nL 133.81559 61.852638 \r\nL 140.027093 61.852638 \r\nL 146.238596 71.290279 \r\nL 152.450099 61.852638 \r\nL 158.661601 61.852638 \r\nL 164.873104 74.106197 \r\nL 171.084607 61.852638 \r\nL 177.29611 76.954859 \r\nL 183.507612 71.960162 \r\nL 189.719115 69.021465 \r\nL 195.930618 73.312483 \r\nL 202.142121 70.383285 \r\nL 208.353624 73.312483 \r\nL 214.565126 73.312483 \r\nL 220.776629 77.273423 \r\nL 226.988132 80.208762 \r\nL 233.199635 78.56267 \r\nL 239.411138 86.685717 \r\nL 245.62264 89.787873 \r\nL 251.834143 89.787873 \r\nL 258.045646 92.928566 \r\nL 264.257149 89.228259 \r\nL 270.468651 84.911235 \r\nL 276.680154 92.928566 \r\nL 282.891657 84.911235 \r\nL 289.10316 92.928566 \r\nL 295.314663 84.911235 \r\nL 301.526165 87.96474 \r\nL 307.737668 77.273423 \r\nL 313.949171 95.425705 \r\nL 320.160674 92.308087 \r\nL 326.372176 86.185537 \r\nL 332.583679 80.208762 \r\nL 338.795182 89.228259 \r\nL 345.006685 78.913932 \r\nL 351.218188 78.913932 \r\nL 357.42969 86.685717 \r\nL 363.641193 81.894519 \r\n\" style=\"fill:none;stroke:#2ca02c;stroke-linecap:square;stroke-width:1.5;\"/>\r\n   </g>\r\n   <g id=\"line2d_16\">\r\n    <path clip-path=\"url(#p41185f1ce4)\" d=\"M 59.277557 97.1685 \r\nL 65.48906 97.1685 \r\nL 71.700562 91.132829 \r\nL 77.912065 92.928566 \r\nL 84.123568 97.661516 \r\nL 90.335071 221.160732 \r\nL 96.546574 88.167937 \r\nL 102.758076 97.661516 \r\nL 108.969579 76.647217 \r\nL 115.181082 73.84886 \r\nL 121.392585 72.57688 \r\nL 127.604087 80.717554 \r\nL 133.81559 71.290279 \r\nL 140.027093 74.106197 \r\nL 146.238596 71.290279 \r\nL 152.450099 73.84886 \r\nL 158.661601 77.579529 \r\nL 164.873104 72.57688 \r\nL 171.084607 69.80165 \r\nL 177.29611 69.80165 \r\nL 183.507612 69.80165 \r\nL 189.719115 71.082123 \r\nL 195.930618 72.57688 \r\nL 202.142121 73.84886 \r\nL 208.353624 69.80165 \r\nL 214.565126 76.647217 \r\nL 220.776629 71.082123 \r\nL 226.988132 69.80165 \r\nL 233.199635 73.84886 \r\nL 239.411138 71.290279 \r\nL 245.62264 71.290279 \r\nL 251.834143 76.954859 \r\nL 258.045646 71.290279 \r\nL 264.257149 76.954859 \r\nL 270.468651 75.671288 \r\nL 276.680154 76.954859 \r\nL 282.891657 78.22359 \r\nL 289.10316 65.75444 \r\nL 295.314663 72.813527 \r\nL 301.526165 68.506543 \r\nL 307.737668 68.506543 \r\nL 313.949171 68.506543 \r\nL 320.160674 64.344737 \r\nL 326.372176 63.033434 \r\nL 332.583679 71.290279 \r\nL 338.795182 65.75444 \r\nL 345.006685 65.641389 \r\nL 351.218188 71.082123 \r\nL 357.42969 69.80165 \r\nL 363.641193 72.57688 \r\n\" style=\"fill:none;stroke:#d62728;stroke-linecap:square;stroke-width:1.5;\"/>\r\n   </g>\r\n   <g id=\"line2d_17\">\r\n    <path clip-path=\"url(#p41185f1ce4)\" d=\"M 59.277557 81.09619 \r\nL 65.48906 81.09619 \r\nL 71.700562 68.346473 \r\nL 77.912065 168.332294 \r\nL 84.123568 56.341265 \r\nL 90.335071 56.341265 \r\nL 96.546574 51.094545 \r\nL 102.758076 60.320892 \r\nL 108.969579 42.848501 \r\nL 115.181082 38.095008 \r\nL 121.392585 43.933767 \r\nL 127.604087 33.614829 \r\nL 133.81559 33.614829 \r\nL 140.027093 32.201761 \r\nL 146.238596 33.614829 \r\nL 152.450099 48.514666 \r\nL 158.661601 33.614829 \r\nL 164.873104 38.474055 \r\nL 171.084607 46.174693 \r\nL 177.29611 51.224292 \r\nL 183.507612 46.174693 \r\nL 189.719115 49.876923 \r\nL 195.930618 53.790708 \r\nL 202.142121 43.690616 \r\nL 208.353624 43.690616 \r\nL 214.565126 43.690616 \r\nL 220.776629 56.385483 \r\nL 226.988132 52.557015 \r\nL 233.199635 52.450075 \r\nL 239.411138 42.590619 \r\nL 245.62264 42.590619 \r\nL 251.834143 42.590619 \r\nL 258.045646 43.933767 \r\nL 264.257149 40.164936 \r\nL 270.468651 43.933767 \r\nL 276.680154 39.119135 \r\nL 282.891657 39.119135 \r\nL 289.10316 39.119135 \r\nL 295.314663 39.119135 \r\nL 301.526165 47.520235 \r\nL 307.737668 39.119135 \r\nL 313.949171 39.119135 \r\nL 320.160674 41.513781 \r\nL 326.372176 40.459376 \r\nL 332.583679 39.119135 \r\nL 338.795182 48.851385 \r\nL 345.006685 48.851385 \r\nL 351.218188 43.933767 \r\nL 357.42969 41.513781 \r\nL 363.641193 43.933767 \r\n\" style=\"fill:none;stroke:#9467bd;stroke-linecap:square;stroke-width:1.5;\"/>\r\n   </g>\r\n   <g id=\"patch_3\">\r\n    <path d=\"M 44.059375 239.758125 \r\nL 44.059375 22.318125 \r\n\" style=\"fill:none;stroke:#000000;stroke-linecap:square;stroke-linejoin:miter;stroke-width:0.8;\"/>\r\n   </g>\r\n   <g id=\"patch_4\">\r\n    <path d=\"M 378.859375 239.758125 \r\nL 378.859375 22.318125 \r\n\" style=\"fill:none;stroke:#000000;stroke-linecap:square;stroke-linejoin:miter;stroke-width:0.8;\"/>\r\n   </g>\r\n   <g id=\"patch_5\">\r\n    <path d=\"M 44.059375 239.758125 \r\nL 378.859375 239.758125 \r\n\" style=\"fill:none;stroke:#000000;stroke-linecap:square;stroke-linejoin:miter;stroke-width:0.8;\"/>\r\n   </g>\r\n   <g id=\"patch_6\">\r\n    <path d=\"M 44.059375 22.318125 \r\nL 378.859375 22.318125 \r\n\" style=\"fill:none;stroke:#000000;stroke-linecap:square;stroke-linejoin:miter;stroke-width:0.8;\"/>\r\n   </g>\r\n   <g id=\"text_15\">\r\n    <!-- Staged -->\r\n    <defs>\r\n     <path d=\"M 53.515625 70.515625 \r\nL 53.515625 60.890625 \r\nQ 47.90625 63.578125 42.921875 64.890625 \r\nQ 37.9375 66.21875 33.296875 66.21875 \r\nQ 25.25 66.21875 20.875 63.09375 \r\nQ 16.5 59.96875 16.5 54.203125 \r\nQ 16.5 49.359375 19.40625 46.890625 \r\nQ 22.3125 44.4375 30.421875 42.921875 \r\nL 36.375 41.703125 \r\nQ 47.40625 39.59375 52.65625 34.296875 \r\nQ 57.90625 29 57.90625 20.125 \r\nQ 57.90625 9.515625 50.796875 4.046875 \r\nQ 43.703125 -1.421875 29.984375 -1.421875 \r\nQ 24.8125 -1.421875 18.96875 -0.25 \r\nQ 13.140625 0.921875 6.890625 3.21875 \r\nL 6.890625 13.375 \r\nQ 12.890625 10.015625 18.65625 8.296875 \r\nQ 24.421875 6.59375 29.984375 6.59375 \r\nQ 38.421875 6.59375 43.015625 9.90625 \r\nQ 47.609375 13.234375 47.609375 19.390625 \r\nQ 47.609375 24.75 44.3125 27.78125 \r\nQ 41.015625 30.8125 33.5 32.328125 \r\nL 27.484375 33.5 \r\nQ 16.453125 35.6875 11.515625 40.375 \r\nQ 6.59375 45.0625 6.59375 53.421875 \r\nQ 6.59375 63.09375 13.40625 68.65625 \r\nQ 20.21875 74.21875 32.171875 74.21875 \r\nQ 37.3125 74.21875 42.625 73.28125 \r\nQ 47.953125 72.359375 53.515625 70.515625 \r\nz\r\n\" id=\"DejaVuSans-53\"/>\r\n     <path d=\"M 45.40625 27.984375 \r\nQ 45.40625 37.75 41.375 43.109375 \r\nQ 37.359375 48.484375 30.078125 48.484375 \r\nQ 22.859375 48.484375 18.828125 43.109375 \r\nQ 14.796875 37.75 14.796875 27.984375 \r\nQ 14.796875 18.265625 18.828125 12.890625 \r\nQ 22.859375 7.515625 30.078125 7.515625 \r\nQ 37.359375 7.515625 41.375 12.890625 \r\nQ 45.40625 18.265625 45.40625 27.984375 \r\nz\r\nM 54.390625 6.78125 \r\nQ 54.390625 -7.171875 48.1875 -13.984375 \r\nQ 42 -20.796875 29.203125 -20.796875 \r\nQ 24.46875 -20.796875 20.265625 -20.09375 \r\nQ 16.0625 -19.390625 12.109375 -17.921875 \r\nL 12.109375 -9.1875 \r\nQ 16.0625 -11.328125 19.921875 -12.34375 \r\nQ 23.78125 -13.375 27.78125 -13.375 \r\nQ 36.625 -13.375 41.015625 -8.765625 \r\nQ 45.40625 -4.15625 45.40625 5.171875 \r\nL 45.40625 9.625 \r\nQ 42.625 4.78125 38.28125 2.390625 \r\nQ 33.9375 0 27.875 0 \r\nQ 17.828125 0 11.671875 7.65625 \r\nQ 5.515625 15.328125 5.515625 27.984375 \r\nQ 5.515625 40.671875 11.671875 48.328125 \r\nQ 17.828125 56 27.875 56 \r\nQ 33.9375 56 38.28125 53.609375 \r\nQ 42.625 51.21875 45.40625 46.390625 \r\nL 45.40625 54.6875 \r\nL 54.390625 54.6875 \r\nz\r\n\" id=\"DejaVuSans-67\"/>\r\n     <path d=\"M 45.40625 46.390625 \r\nL 45.40625 75.984375 \r\nL 54.390625 75.984375 \r\nL 54.390625 0 \r\nL 45.40625 0 \r\nL 45.40625 8.203125 \r\nQ 42.578125 3.328125 38.25 0.953125 \r\nQ 33.9375 -1.421875 27.875 -1.421875 \r\nQ 17.96875 -1.421875 11.734375 6.484375 \r\nQ 5.515625 14.40625 5.515625 27.296875 \r\nQ 5.515625 40.1875 11.734375 48.09375 \r\nQ 17.96875 56 27.875 56 \r\nQ 33.9375 56 38.25 53.625 \r\nQ 42.578125 51.265625 45.40625 46.390625 \r\nz\r\nM 14.796875 27.296875 \r\nQ 14.796875 17.390625 18.875 11.75 \r\nQ 22.953125 6.109375 30.078125 6.109375 \r\nQ 37.203125 6.109375 41.296875 11.75 \r\nQ 45.40625 17.390625 45.40625 27.296875 \r\nQ 45.40625 37.203125 41.296875 42.84375 \r\nQ 37.203125 48.484375 30.078125 48.484375 \r\nQ 22.953125 48.484375 18.875 42.84375 \r\nQ 14.796875 37.203125 14.796875 27.296875 \r\nz\r\n\" id=\"DejaVuSans-64\"/>\r\n    </defs>\r\n    <g transform=\"translate(190.31125 16.318125)scale(0.12 -0.12)\">\r\n     <use xlink:href=\"#DejaVuSans-53\"/>\r\n     <use x=\"63.476562\" xlink:href=\"#DejaVuSans-74\"/>\r\n     <use x=\"102.685547\" xlink:href=\"#DejaVuSans-61\"/>\r\n     <use x=\"163.964844\" xlink:href=\"#DejaVuSans-67\"/>\r\n     <use x=\"227.441406\" xlink:href=\"#DejaVuSans-65\"/>\r\n     <use x=\"288.964844\" xlink:href=\"#DejaVuSans-64\"/>\r\n    </g>\r\n   </g>\r\n  </g>\r\n </g>\r\n <defs>\r\n  <clipPath id=\"p41185f1ce4\">\r\n   <rect height=\"217.44\" width=\"334.8\" x=\"44.059375\" y=\"22.318125\"/>\r\n  </clipPath>\r\n </defs>\r\n</svg>\r\n",
            "text/plain": [
              "<matplotlib.figure.Figure at 0x1a75d9a63c8>"
            ]
          },
          "metadata": {
            "tags": []
          }
        }
      ]
    },
    {
      "metadata": {
        "id": "sfrxZ_pnp8Yl",
        "colab_type": "text"
      },
      "cell_type": "markdown",
      "source": [
        "### Задание 7  \n",
        "  \n",
        "* Настройте гиперпараметры AdaBoost на 5-fold валидации из 5 повторений, используя в качестве базовых классификаторов дерево решений и SVM. В качестве метрики используйте F1-score. Замерьте время, затраченное на вычисления.    \n",
        "* Выведите наилучшую конфигурацию параметров для каждого базового классификатора. Сравните качество. "
      ]
    },
    {
      "metadata": {
        "collapsed": true,
        "id": "_bgCj1Cnp8Yl",
        "colab_type": "code",
        "colab": {}
      },
      "cell_type": "code",
      "source": [
        "# your code here"
      ],
      "execution_count": 0,
      "outputs": []
    },
    {
      "metadata": {
        "id": "Hzcffusgp8Yn",
        "colab_type": "text"
      },
      "cell_type": "markdown",
      "source": [
        "## Часть 3. Соревнование по машинному обучению <a id=\"part3\"></a>"
      ]
    },
    {
      "metadata": {
        "id": "rNPl0-chp8Yn",
        "colab_type": "text"
      },
      "cell_type": "markdown",
      "source": [
        "В данном задании вам предлагается принять участие в соревновании на kaggle: [PUBG Finish Placement Prediction](https://www.kaggle.com/c/pubg-finish-placement-prediction).  \n",
        "Задача соревнования заключается в том, чтобы предсказать итоговый результат игрока (место в турнирном зачете) в [популярной](https://meduza.io/feature/2017/12/22/u-etoy-igry-net-syuzheta-i-prokachki-ya-potratil-na-nee-100-chasov-zhizni-i-eto-tolko-nachalo) игре PlayerUnknownʼs Battlegrounds на основании результатов предыдущих игр.  \n",
        " \n",
        "Подробное описание задачи, данные и их описание, целевую метрику и правила вы можете найти на странице соревнования. "
      ]
    },
    {
      "metadata": {
        "id": "n8BI-le4p8Yo",
        "colab_type": "text"
      },
      "cell_type": "markdown",
      "source": [
        "Для участия в соревновании, т.е. для того, чтобы скачать данные, сабмитить результаты и попасть в leaderboard, вам необходимо создать аккаунт на [kaggle](https://www.kaggle.com/)."
      ]
    },
    {
      "metadata": {
        "id": "WxHBQk97p8Yo",
        "colab_type": "text"
      },
      "cell_type": "markdown",
      "source": [
        "Данное соревнование является `Kernels Only` - это означает, что вы должны сабмитить не файл с предсказаниями для тестовой выборки, а код, который будет выполняться (преобразовывать данные, обучать модель) и создавать файл с предсказаниями. Как это сделать сказано в [описании](https://www.kaggle.com/c/pubg-finish-placement-prediction#Kernels-FAQ), также есть хороший [тьюториал](https://www.kaggle.com/dansbecker/submitting-from-a-kernel)."
      ]
    },
    {
      "metadata": {
        "id": "jG5MJkynp8Yo",
        "colab_type": "text"
      },
      "cell_type": "markdown",
      "source": [
        "После того, как вы выполните сабмит, в leaderboard вы сможете посмотреть качество вашей модели на тестовой выборке и место в общем зачете.  \n",
        "Вы можете делать много (до 10 в день) сабмитов - в leaderbord всегда отображается самый лучший (остальные можно посмотреть в `My Submissions`)."
      ]
    },
    {
      "metadata": {
        "id": "z1R_bGKTp8Yp",
        "colab_type": "text"
      },
      "cell_type": "markdown",
      "source": [
        "### Задание  \n",
        "  \n",
        "Необходимо построить и засабмитить модель, которая:   \n",
        "* Задача минимум – покажет на тестовой выборке качество выше baseline: 0.2\n",
        "* Задача максимум - решит задачу как можно точнее  \n",
        "  \n",
        "При решении можно и нужно выполнять различные преобразования признаков и применять различные модели машинного обучения.  \n",
        "\n",
        "В качестве результата необходимо: \n",
        "* Сказать ваш логин на kaggle, чтобы мы могли найти вас в leaderboard\n",
        "* Предоставить скрипт, выполняющий преобразования данных (из формата начальных данных в тот формат, который должна принимать на вход модель) и предсказания, а также сохраненную обученную модель. \n",
        "* Предоставить скрипт, который вы сабмитили.\n",
        "* Сделать краткое описание преобразования данных и итоговой модели. В описание можно также включить некоторые результаты анализа данных (если считаете их полезными и интересными) и собственную оценку модели на кросс-валидации.  \n",
        "  \n",
        "По результатам будет составлен наш локальный leaderboard. "
      ]
    }
  ]
}