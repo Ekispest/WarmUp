{
 "cells": [
  {
   "cell_type": "markdown",
   "metadata": {
    "colab_type": "text",
    "id": "TC-mRhKap8QA"
   },
   "source": [
    "# <center> Майнор \"Интеллектуальный анализ данных\" <center>"
   ]
  },
  {
   "cell_type": "markdown",
   "metadata": {
    "colab_type": "text",
    "id": "K4lUSGQkp8QE"
   },
   "source": [
    "# <center> Курс \"Современные методы машинного обучения\" <center>"
   ]
  },
  {
   "cell_type": "markdown",
   "metadata": {
    "colab_type": "text",
    "id": "crKpX73lp8QG"
   },
   "source": [
    "# <center> Лабораторная работа №1. Supervised learning <center>"
   ]
  },
  {
   "cell_type": "markdown",
   "metadata": {
    "colab_type": "text",
    "id": "BpI9OgF0p8QH"
   },
   "source": [
    "## Table of contents  \n",
    "  \n",
    "* [Часть 1. Работа с данными](#part1)\n",
    "* [Часть 2. Методы машинного обучения](#part2)\n",
    "* [Часть 3. Соревнование по машинному обучению](#part3)"
   ]
  },
  {
   "cell_type": "markdown",
   "metadata": {
    "colab_type": "text",
    "id": "mL9Al7Xgp8QI"
   },
   "source": [
    "## Часть 1. Работа с данными <a id=\"part1\"></a>"
   ]
  },
  {
   "cell_type": "markdown",
   "metadata": {
    "colab_type": "text",
    "id": "NPpD1alqp8QK"
   },
   "source": [
    "В данной части лабораторной вам предстоит работать с данными по оттоку клиентов одной телекомуникационной компании. Оригинал данных доступен [здесь](https://bigml.com/user/francisco/gallery/dataset/5163ad540c0b5e5b22000383). Для лабораторной работы данные были модифицированы."
   ]
  },
  {
   "cell_type": "markdown",
   "metadata": {
    "colab_type": "text",
    "id": "YKaNV8-4p8QL"
   },
   "source": [
    "Данные находятся в файле `telecom_churn_mod.csv`"
   ]
  },
  {
   "cell_type": "markdown",
   "metadata": {
    "colab_type": "text",
    "id": "8iGw7Tugp8QN"
   },
   "source": [
    "**Описание данных:**"
   ]
  },
  {
   "cell_type": "code",
   "execution_count": 359,
   "metadata": {
    "colab": {},
    "colab_type": "code",
    "collapsed": true,
    "id": "unNciOJ1p8QO"
   },
   "outputs": [],
   "source": [
    "import numpy as np\n",
    "import pandas as pd\n",
    "\n",
    "%matplotlib inline\n",
    "import matplotlib.pyplot as plt\n",
    "import seaborn as sns\n",
    "\n",
    "%config InlineBackend.figure_format = 'svg' \n",
    "\n",
    "import warnings\n",
    "warnings.simplefilter('ignore')"
   ]
  },
  {
   "cell_type": "code",
   "execution_count": 360,
   "metadata": {
    "colab": {},
    "colab_type": "code",
    "collapsed": true,
    "id": "CxAppcSGp8QU"
   },
   "outputs": [],
   "source": [
    "pd.set_option('display.max_columns', 25)\n",
    "pd.set_option('display.max_colwidth', -1)"
   ]
  },
  {
   "cell_type": "code",
   "execution_count": 361,
   "metadata": {
    "colab": {},
    "colab_type": "code",
    "id": "cyk54CWFp8QZ",
    "outputId": "794452e7-ffca-4829-d87a-62c9cda8229c",
    "scrolled": false
   },
   "outputs": [
    {
     "data": {
      "text/html": [
       "<div>\n",
       "<style scoped>\n",
       "    .dataframe tbody tr th:only-of-type {\n",
       "        vertical-align: middle;\n",
       "    }\n",
       "\n",
       "    .dataframe tbody tr th {\n",
       "        vertical-align: top;\n",
       "    }\n",
       "\n",
       "    .dataframe thead th {\n",
       "        text-align: right;\n",
       "    }\n",
       "</style>\n",
       "<table border=\"1\" class=\"dataframe\">\n",
       "  <thead>\n",
       "    <tr style=\"text-align: right;\">\n",
       "      <th></th>\n",
       "      <th>Признак</th>\n",
       "      <th>Описание</th>\n",
       "      <th>Тип</th>\n",
       "    </tr>\n",
       "  </thead>\n",
       "  <tbody>\n",
       "    <tr>\n",
       "      <th>0</th>\n",
       "      <td>ID</td>\n",
       "      <td>Уникальный идентификатор объекта</td>\n",
       "      <td>Числовой (integer)</td>\n",
       "    </tr>\n",
       "    <tr>\n",
       "      <th>1</th>\n",
       "      <td>Sex</td>\n",
       "      <td>Пол</td>\n",
       "      <td>Символьный</td>\n",
       "    </tr>\n",
       "    <tr>\n",
       "      <th>2</th>\n",
       "      <td>Age</td>\n",
       "      <td>Возраст</td>\n",
       "      <td>Числовой (integer)</td>\n",
       "    </tr>\n",
       "    <tr>\n",
       "      <th>3</th>\n",
       "      <td>State</td>\n",
       "      <td>Буквенный код штата</td>\n",
       "      <td>Символьный</td>\n",
       "    </tr>\n",
       "    <tr>\n",
       "      <th>4</th>\n",
       "      <td>Account length</td>\n",
       "      <td>Как долго клиент обслуживается компанией</td>\n",
       "      <td>Числовой (integer)</td>\n",
       "    </tr>\n",
       "    <tr>\n",
       "      <th>5</th>\n",
       "      <td>Phone number</td>\n",
       "      <td>Номер телефона клиента</td>\n",
       "      <td>Символьный</td>\n",
       "    </tr>\n",
       "    <tr>\n",
       "      <th>6</th>\n",
       "      <td>Plans</td>\n",
       "      <td>Подключенные планы</td>\n",
       "      <td>Символьный (None; International/Voice mail or both)</td>\n",
       "    </tr>\n",
       "    <tr>\n",
       "      <th>7</th>\n",
       "      <td>Number vmail messages</td>\n",
       "      <td>Количество голосовых сообщений</td>\n",
       "      <td>Числовой (integer)</td>\n",
       "    </tr>\n",
       "    <tr>\n",
       "      <th>8</th>\n",
       "      <td>Total day minutes</td>\n",
       "      <td>Общая длительность разговоров днем</td>\n",
       "      <td>Числовой (float)</td>\n",
       "    </tr>\n",
       "    <tr>\n",
       "      <th>9</th>\n",
       "      <td>Total day calls</td>\n",
       "      <td>Общее количество звонков днем</td>\n",
       "      <td>Числовой (float)</td>\n",
       "    </tr>\n",
       "    <tr>\n",
       "      <th>10</th>\n",
       "      <td>Total day charge</td>\n",
       "      <td>Общая сумма оплаты за услуги днем</td>\n",
       "      <td>Числовой (float)</td>\n",
       "    </tr>\n",
       "    <tr>\n",
       "      <th>11</th>\n",
       "      <td>Total eve minutes</td>\n",
       "      <td>Общая длительность разговоров вечером</td>\n",
       "      <td>Числовой (float)</td>\n",
       "    </tr>\n",
       "    <tr>\n",
       "      <th>12</th>\n",
       "      <td>Total eve calls</td>\n",
       "      <td>Общее количество звонков вечером</td>\n",
       "      <td>Числовой (float)</td>\n",
       "    </tr>\n",
       "    <tr>\n",
       "      <th>13</th>\n",
       "      <td>Total eve charge</td>\n",
       "      <td>Общая сумма оплаты за услуги вечером</td>\n",
       "      <td>Числовой (float)</td>\n",
       "    </tr>\n",
       "    <tr>\n",
       "      <th>14</th>\n",
       "      <td>Total night minutes</td>\n",
       "      <td>Общая длительность разговоров ночью</td>\n",
       "      <td>Числовой (float)</td>\n",
       "    </tr>\n",
       "    <tr>\n",
       "      <th>15</th>\n",
       "      <td>Total night calls</td>\n",
       "      <td>Общее количество звонков ночью</td>\n",
       "      <td>Числовой (float)</td>\n",
       "    </tr>\n",
       "    <tr>\n",
       "      <th>16</th>\n",
       "      <td>Total night charge</td>\n",
       "      <td>Общая сумма оплаты за услуги ночью</td>\n",
       "      <td>Числовой (float)</td>\n",
       "    </tr>\n",
       "    <tr>\n",
       "      <th>17</th>\n",
       "      <td>Total intl minutes</td>\n",
       "      <td>Общая длительность международных разговоров</td>\n",
       "      <td>Числовой (float)</td>\n",
       "    </tr>\n",
       "    <tr>\n",
       "      <th>18</th>\n",
       "      <td>Total intl calls</td>\n",
       "      <td>Общее количество международных разговоров</td>\n",
       "      <td>Числовой (float)</td>\n",
       "    </tr>\n",
       "    <tr>\n",
       "      <th>19</th>\n",
       "      <td>Total intl charge</td>\n",
       "      <td>Общая сумма оплаты за международные разговор</td>\n",
       "      <td>Числовой (float)</td>\n",
       "    </tr>\n",
       "    <tr>\n",
       "      <th>20</th>\n",
       "      <td>Total charge</td>\n",
       "      <td>Общая сумма оплаты за услуги</td>\n",
       "      <td>Числовой (float)</td>\n",
       "    </tr>\n",
       "    <tr>\n",
       "      <th>21</th>\n",
       "      <td>Customer service calls</td>\n",
       "      <td>Число обращений в сервисный центр</td>\n",
       "      <td>Числовой (integer)</td>\n",
       "    </tr>\n",
       "    <tr>\n",
       "      <th>22</th>\n",
       "      <td>Churn</td>\n",
       "      <td>Отток клиента (остался или ушел)</td>\n",
       "      <td>Логический (True - ушел; False - остался)</td>\n",
       "    </tr>\n",
       "  </tbody>\n",
       "</table>\n",
       "</div>"
      ],
      "text/plain": [
       "                   Признак                                      Описание  \\\n",
       "0   ID                      Уникальный идентификатор объекта               \n",
       "1   Sex                     Пол                                            \n",
       "2   Age                     Возраст                                        \n",
       "3   State                   Буквенный код штата                            \n",
       "4   Account length          Как долго клиент обслуживается компанией       \n",
       "5   Phone number            Номер телефона клиента                         \n",
       "6   Plans                   Подключенные планы                             \n",
       "7   Number vmail messages   Количество голосовых сообщений                 \n",
       "8   Total day minutes       Общая длительность разговоров днем             \n",
       "9   Total day calls         Общее количество звонков днем                  \n",
       "10  Total day charge        Общая сумма оплаты за услуги днем              \n",
       "11  Total eve minutes       Общая длительность разговоров вечером          \n",
       "12  Total eve calls         Общее количество звонков вечером               \n",
       "13  Total eve charge        Общая сумма оплаты за услуги вечером           \n",
       "14  Total night minutes     Общая длительность разговоров ночью            \n",
       "15  Total night calls       Общее количество звонков ночью                 \n",
       "16  Total night charge      Общая сумма оплаты за услуги ночью             \n",
       "17  Total intl minutes      Общая длительность международных разговоров    \n",
       "18  Total intl calls        Общее количество международных разговоров      \n",
       "19  Total intl charge       Общая сумма оплаты за международные разговор   \n",
       "20  Total charge            Общая сумма оплаты за услуги                   \n",
       "21  Customer service calls  Число обращений в сервисный центр              \n",
       "22  Churn                   Отток клиента (остался или ушел)               \n",
       "\n",
       "                                                    Тип  \n",
       "0   Числовой (integer)                                   \n",
       "1   Символьный                                           \n",
       "2   Числовой (integer)                                   \n",
       "3   Символьный                                           \n",
       "4   Числовой (integer)                                   \n",
       "5   Символьный                                           \n",
       "6   Символьный (None; International/Voice mail or both)  \n",
       "7   Числовой (integer)                                   \n",
       "8    Числовой (float)                                    \n",
       "9   Числовой (float)                                     \n",
       "10  Числовой (float)                                     \n",
       "11  Числовой (float)                                     \n",
       "12  Числовой (float)                                     \n",
       "13  Числовой (float)                                     \n",
       "14  Числовой (float)                                     \n",
       "15  Числовой (float)                                     \n",
       "16  Числовой (float)                                     \n",
       "17  Числовой (float)                                     \n",
       "18  Числовой (float)                                     \n",
       "19  Числовой (float)                                     \n",
       "20  Числовой (float)                                     \n",
       "21   Числовой (integer)                                  \n",
       "22  Логический (True - ушел; False - остался)            "
      ]
     },
     "execution_count": 361,
     "metadata": {},
     "output_type": "execute_result"
    }
   ],
   "source": [
    "pd.read_csv('telecom_churn_description.csv')"
   ]
  },
  {
   "cell_type": "markdown",
   "metadata": {
    "colab_type": "text",
    "id": "SVZon7jZp8Qi"
   },
   "source": [
    "### Задание 1  \n",
    "  \n",
    "Считайте данные из файла. Оцените размерность данных, есть ли в данных пропущенные значения. Посмотрите на автоматически определенные типы признаков."
   ]
  },
  {
   "cell_type": "code",
   "execution_count": 362,
   "metadata": {
    "colab": {},
    "colab_type": "code",
    "id": "svaL-1Edp8Qj",
    "outputId": "4d076c74-5c3f-4f33-b07e-fa514552724a"
   },
   "outputs": [
    {
     "data": {
      "text/html": [
       "<div>\n",
       "<style scoped>\n",
       "    .dataframe tbody tr th:only-of-type {\n",
       "        vertical-align: middle;\n",
       "    }\n",
       "\n",
       "    .dataframe tbody tr th {\n",
       "        vertical-align: top;\n",
       "    }\n",
       "\n",
       "    .dataframe thead th {\n",
       "        text-align: right;\n",
       "    }\n",
       "</style>\n",
       "<table border=\"1\" class=\"dataframe\">\n",
       "  <thead>\n",
       "    <tr style=\"text-align: right;\">\n",
       "      <th></th>\n",
       "      <th>ID</th>\n",
       "      <th>Sex</th>\n",
       "      <th>Age</th>\n",
       "      <th>State</th>\n",
       "      <th>Account length</th>\n",
       "      <th>Phone number</th>\n",
       "      <th>Plans</th>\n",
       "      <th>Number vmail messages</th>\n",
       "      <th>Total day minutes</th>\n",
       "      <th>Total day calls</th>\n",
       "      <th>Total day charge</th>\n",
       "      <th>Total eve minutes</th>\n",
       "      <th>Total eve calls</th>\n",
       "      <th>Total eve charge</th>\n",
       "      <th>Total night minutes</th>\n",
       "      <th>Total night calls</th>\n",
       "      <th>Total night charge</th>\n",
       "      <th>Total intl minutes</th>\n",
       "      <th>Total intl calls</th>\n",
       "      <th>Total intl charge</th>\n",
       "      <th>Total charge</th>\n",
       "      <th>Customer service calls</th>\n",
       "      <th>Churn</th>\n",
       "    </tr>\n",
       "  </thead>\n",
       "  <tbody>\n",
       "    <tr>\n",
       "      <th>0</th>\n",
       "      <td>40075</td>\n",
       "      <td>Female</td>\n",
       "      <td>37.0</td>\n",
       "      <td>KS</td>\n",
       "      <td>128</td>\n",
       "      <td>415 424 17 55</td>\n",
       "      <td>Voice mail</td>\n",
       "      <td>25</td>\n",
       "      <td>265.1</td>\n",
       "      <td>110.0</td>\n",
       "      <td>45.07</td>\n",
       "      <td>197.4</td>\n",
       "      <td>99.0</td>\n",
       "      <td>16.78</td>\n",
       "      <td>244.7</td>\n",
       "      <td>91.0</td>\n",
       "      <td>11.01</td>\n",
       "      <td>10.0</td>\n",
       "      <td>3.0</td>\n",
       "      <td>2.70</td>\n",
       "      <td>75.56</td>\n",
       "      <td>1</td>\n",
       "      <td>False</td>\n",
       "    </tr>\n",
       "    <tr>\n",
       "      <th>1</th>\n",
       "      <td>17475</td>\n",
       "      <td>Female</td>\n",
       "      <td>NaN</td>\n",
       "      <td>OH</td>\n",
       "      <td>107</td>\n",
       "      <td>415 759 41 43</td>\n",
       "      <td>Voice mail</td>\n",
       "      <td>26</td>\n",
       "      <td>161.6</td>\n",
       "      <td>123.0</td>\n",
       "      <td>27.47</td>\n",
       "      <td>195.5</td>\n",
       "      <td>103.0</td>\n",
       "      <td>16.62</td>\n",
       "      <td>254.4</td>\n",
       "      <td>103.0</td>\n",
       "      <td>11.45</td>\n",
       "      <td>13.7</td>\n",
       "      <td>3.0</td>\n",
       "      <td>3.70</td>\n",
       "      <td>59.24</td>\n",
       "      <td>1</td>\n",
       "      <td>False</td>\n",
       "    </tr>\n",
       "    <tr>\n",
       "      <th>2</th>\n",
       "      <td>62242</td>\n",
       "      <td>Female</td>\n",
       "      <td>19.0</td>\n",
       "      <td>NJ</td>\n",
       "      <td>137</td>\n",
       "      <td>415 213 11 40</td>\n",
       "      <td>None</td>\n",
       "      <td>0</td>\n",
       "      <td>243.4</td>\n",
       "      <td>114.0</td>\n",
       "      <td>41.38</td>\n",
       "      <td>121.2</td>\n",
       "      <td>110.0</td>\n",
       "      <td>10.30</td>\n",
       "      <td>l62.6</td>\n",
       "      <td>104.0</td>\n",
       "      <td>7.32</td>\n",
       "      <td>12.2</td>\n",
       "      <td>5.0</td>\n",
       "      <td>3.29</td>\n",
       "      <td>62.29</td>\n",
       "      <td>0</td>\n",
       "      <td>False</td>\n",
       "    </tr>\n",
       "    <tr>\n",
       "      <th>3</th>\n",
       "      <td>81231</td>\n",
       "      <td>Female</td>\n",
       "      <td>31.0</td>\n",
       "      <td>OH</td>\n",
       "      <td>84</td>\n",
       "      <td>408 487 53 35</td>\n",
       "      <td>International</td>\n",
       "      <td>0</td>\n",
       "      <td>299.4</td>\n",
       "      <td>71.0</td>\n",
       "      <td>50.90</td>\n",
       "      <td>61.9</td>\n",
       "      <td>88.0</td>\n",
       "      <td>5.26</td>\n",
       "      <td>196.9</td>\n",
       "      <td>89.0</td>\n",
       "      <td>8.86</td>\n",
       "      <td>6.6</td>\n",
       "      <td>7.0</td>\n",
       "      <td>1.78</td>\n",
       "      <td>66.8</td>\n",
       "      <td>2</td>\n",
       "      <td>False</td>\n",
       "    </tr>\n",
       "    <tr>\n",
       "      <th>4</th>\n",
       "      <td>78542</td>\n",
       "      <td>Female</td>\n",
       "      <td>30.0</td>\n",
       "      <td>OK</td>\n",
       "      <td>75</td>\n",
       "      <td>415 509 25 27</td>\n",
       "      <td>International</td>\n",
       "      <td>0</td>\n",
       "      <td>166.7</td>\n",
       "      <td>113.0</td>\n",
       "      <td>28.34</td>\n",
       "      <td>148.3</td>\n",
       "      <td>122.0</td>\n",
       "      <td>12.61</td>\n",
       "      <td>186.9</td>\n",
       "      <td>121.0</td>\n",
       "      <td>8.41</td>\n",
       "      <td>10.1</td>\n",
       "      <td>3.0</td>\n",
       "      <td>2.73</td>\n",
       "      <td>52.09</td>\n",
       "      <td>3</td>\n",
       "      <td>False</td>\n",
       "    </tr>\n",
       "  </tbody>\n",
       "</table>\n",
       "</div>"
      ],
      "text/plain": [
       "      ID     Sex   Age State  Account length   Phone number          Plans  \\\n",
       "0  40075  Female  37.0  KS    128             415 424 17 55  Voice mail      \n",
       "1  17475  Female NaN    OH    107             415 759 41 43  Voice mail      \n",
       "2  62242  Female  19.0  NJ    137             415 213 11 40  None            \n",
       "3  81231  Female  31.0  OH    84              408 487 53 35  International   \n",
       "4  78542  Female  30.0  OK    75              415 509 25 27  International   \n",
       "\n",
       "   Number vmail messages Total day minutes Total day calls  Total day charge  \\\n",
       "0  25                     265.1             110.0           45.07              \n",
       "1  26                     161.6             123.0           27.47              \n",
       "2  0                      243.4             114.0           41.38              \n",
       "3  0                      299.4             71.0            50.90              \n",
       "4  0                      166.7             113.0           28.34              \n",
       "\n",
       "   Total eve minutes  Total eve calls  Total eve charge Total night minutes  \\\n",
       "0  197.4              99.0             16.78             244.7                \n",
       "1  195.5              103.0            16.62             254.4                \n",
       "2  121.2              110.0            10.30             l62.6                \n",
       "3  61.9               88.0             5.26              196.9                \n",
       "4  148.3              122.0            12.61             186.9                \n",
       "\n",
       "   Total night calls  Total night charge Total intl minutes  Total intl calls  \\\n",
       "0  91.0               11.01               10.0               3.0                \n",
       "1  103.0              11.45               13.7               3.0                \n",
       "2  104.0              7.32                12.2               5.0                \n",
       "3  89.0               8.86                6.6                7.0                \n",
       "4  121.0              8.41                10.1               3.0                \n",
       "\n",
       "   Total intl charge Total charge Customer service calls  Churn  \n",
       "0  2.70               75.56        1                      False  \n",
       "1  3.70               59.24        1                      False  \n",
       "2  3.29               62.29        0                      False  \n",
       "3  1.78               66.8         2                      False  \n",
       "4  2.73               52.09        3                      False  "
      ]
     },
     "execution_count": 362,
     "metadata": {},
     "output_type": "execute_result"
    }
   ],
   "source": [
    "data = pd.read_csv('telecom_churn_mod.csv', sep=';')\n",
    "data.head(5)"
   ]
  },
  {
   "cell_type": "code",
   "execution_count": 363,
   "metadata": {
    "colab": {},
    "colab_type": "code",
    "id": "qSjmq88xp8Qp",
    "outputId": "61f8da51-aea0-4323-bc49-d2b1ab605744"
   },
   "outputs": [
    {
     "data": {
      "text/plain": [
       "(3333, 23)"
      ]
     },
     "execution_count": 363,
     "metadata": {},
     "output_type": "execute_result"
    }
   ],
   "source": [
    "data.shape"
   ]
  },
  {
   "cell_type": "markdown",
   "metadata": {},
   "source": [
    "Посмотрю на автоматически определенные типы признаков."
   ]
  },
  {
   "cell_type": "code",
   "execution_count": 364,
   "metadata": {
    "colab": {},
    "colab_type": "code",
    "id": "4ZudsOzbp8Qu",
    "outputId": "5e2f1283-7f6f-4acc-936f-60cd40853b8a"
   },
   "outputs": [
    {
     "name": "stdout",
     "output_type": "stream",
     "text": [
      "<class 'pandas.core.frame.DataFrame'>\n",
      "RangeIndex: 3333 entries, 0 to 3332\n",
      "Data columns (total 23 columns):\n",
      "ID                        3333 non-null int64\n",
      "Sex                       3333 non-null object\n",
      "Age                       2333 non-null float64\n",
      "State                     3333 non-null object\n",
      "Account length            3333 non-null int64\n",
      "Phone number              3333 non-null object\n",
      "Plans                     3233 non-null object\n",
      "Number vmail messages     3333 non-null int64\n",
      "Total day minutes         3333 non-null object\n",
      "Total day calls           3333 non-null object\n",
      "Total day charge          3333 non-null float64\n",
      "Total eve minutes         3333 non-null float64\n",
      "Total eve calls           3333 non-null float64\n",
      "Total eve charge          3333 non-null float64\n",
      "Total night minutes       3333 non-null object\n",
      "Total night calls         3333 non-null float64\n",
      "Total night charge        3333 non-null float64\n",
      "Total intl minutes        3333 non-null object\n",
      "Total intl calls          3333 non-null float64\n",
      "Total intl charge         3333 non-null float64\n",
      "Total charge              3333 non-null object\n",
      "Customer service calls    3333 non-null object\n",
      "Churn                     3333 non-null bool\n",
      "dtypes: bool(1), float64(9), int64(3), object(10)\n",
      "memory usage: 576.2+ KB\n"
     ]
    }
   ],
   "source": [
    "data.info()"
   ]
  },
  {
   "cell_type": "markdown",
   "metadata": {
    "colab_type": "text",
    "id": "Z5LPje69p8Q0"
   },
   "source": [
    "Признак Age имеет 1000 пропущенных значений, а Plans - 100 значений."
   ]
  },
  {
   "cell_type": "markdown",
   "metadata": {
    "colab_type": "text",
    "id": "ktoqxSIdp8Q3"
   },
   "source": [
    "### Задание 2  \n",
    "  \n",
    "Приведите числовые признаки, которые были распознаны некорректно, к числовому типу данных.  \n",
    "Найдите и опишите ошибки в данных, которые мешают приведению типов. Сколько признаков содержат ошибки, сколько наблюдений по каждому такому признаку? Исправьте эти ошибки и снова выполните приведение типов.  \n",
    "**NB:** Исправлять ошибки необходимо программно (используя python), изменять исходный файл \"руками\" не разрешается. "
   ]
  },
  {
   "cell_type": "markdown",
   "metadata": {
    "colab_type": "text",
    "id": "-hUuz3Xbp8Q3"
   },
   "source": [
    "Ошибки, содержащиеся в признаках  Customer service calls, Total day minutes, Total day calls, Total night minutes, Total intl minutes, Total charge:\n",
    "\n",
    "1. В числах были запятые вместо точек, буква O вместо нуля и L вместо единицы. \n",
    "2. Слово hundred, а также названия месяцев  вместо его числового значения в признаке Total Charge."
   ]
  },
  {
   "cell_type": "code",
   "execution_count": 365,
   "metadata": {
    "colab": {},
    "colab_type": "code",
    "collapsed": true,
    "id": "6HT5ysZep8Q5"
   },
   "outputs": [],
   "source": [
    "total_intl_minutes_errors = [] \n",
    "total_charge_errors = [] \n",
    "customer_service_calls_errors = []\n",
    "total_day_minutes_errors = [] \n",
    "total_day_calls_errors = [] \n",
    "total_night_minutes_errors = [] "
   ]
  },
  {
   "cell_type": "code",
   "execution_count": 366,
   "metadata": {
    "colab": {},
    "colab_type": "code",
    "collapsed": true,
    "id": "cy0umm0Pp8Q9"
   },
   "outputs": [],
   "source": [
    "for i in range(len(data)):        \n",
    "    try: float (data['Total intl minutes'][i]) \n",
    "    except ValueError: total_intl_minutes_errors.append(data['Total intl minutes'][i])\n",
    "        \n",
    "    try: float (data['Total charge'][i]) \n",
    "    except ValueError: total_charge_errors.append(data['Total charge'][i])\n",
    "        \n",
    "    try: int (data['Customer service calls'][i]) \n",
    "    except ValueError: customer_service_calls_errors.append(data['Customer service calls'][i])\n",
    "      \n",
    "    try: float (data['Total day minutes'][i]) \n",
    "    except ValueError: total_day_minutes_errors.append(data['Total day minutes'][i])\n",
    "        \n",
    "    try: float (data['Total day calls'][i]) \n",
    "    except ValueError: total_day_calls_errors.append(data['Total day calls'][i])\n",
    "        \n",
    "    try: float (data['Total night minutes'][i]) \n",
    "    except ValueError: total_night_minutes_errors.append(data['Total night minutes'][i])  "
   ]
  },
  {
   "cell_type": "code",
   "execution_count": 367,
   "metadata": {
    "colab": {},
    "colab_type": "code",
    "id": "Ie4XrFppp8RB",
    "outputId": "761ab6e6-760e-45a1-aa6f-f26446ff8bc0"
   },
   "outputs": [
    {
     "name": "stdout",
     "output_type": "stream",
     "text": [
      "Количество ошибок:\n",
      "Total intl charge  32 \n",
      "Total charge  15 \n",
      "Customer service calls 6 \n",
      "Total day minutes  50 \n",
      "Total day calls  4 \n",
      "Total night minutes  10\n"
     ]
    }
   ],
   "source": [
    "print('Количество ошибок:\\nTotal intl charge ', len(total_intl_minutes_errors),\n",
    "     '\\nTotal charge ', len(total_charge_errors),\n",
    "     '\\nCustomer service calls', len(customer_service_calls_errors),\n",
    "     '\\nTotal day minutes ', len(total_day_minutes_errors),\n",
    "     '\\nTotal day calls ', len(total_day_calls_errors),\n",
    "     '\\nTotal night minutes ', len(total_night_minutes_errors),)"
   ]
  },
  {
   "cell_type": "markdown",
   "metadata": {
    "colab_type": "text",
    "id": "eWY1wseyp8RI"
   },
   "source": [
    "Дабы пофиксить некоторые записи в Total charge, удалю подстроку 'hundread' и умножу полученное число на 100, приведя его к типу float."
   ]
  },
  {
   "cell_type": "code",
   "execution_count": 368,
   "metadata": {
    "colab": {},
    "colab_type": "code",
    "collapsed": true,
    "id": "-s2YozSFp8RI"
   },
   "outputs": [],
   "source": [
    "for i in range(len(data['Total charge'])):\n",
    "    try: float(data['Total charge'][i])\n",
    "    except ValueError:\n",
    "        data['Total charge'][i] = float(data['Total charge'][i].split(' ')[0]) * 100\n",
    "        \n",
    "data['Total charge'] = data['Total charge'].astype('float64')        "
   ]
  },
  {
   "cell_type": "markdown",
   "metadata": {
    "colab_type": "text",
    "id": "zbiINOc_p8RS"
   },
   "source": [
    "Заменю запятые, L и O на . , 0, 1, чтобы поправить данные в других признаках, а также приведу их к типам int, float."
   ]
  },
  {
   "cell_type": "code",
   "execution_count": 369,
   "metadata": {
    "colab": {},
    "colab_type": "code",
    "id": "gQZvMUoip8RX"
   },
   "outputs": [],
   "source": [
    "data['Customer service calls'] = data['Customer service calls'].str.replace('o','0').apply(pd.to_numeric)\n",
    "data['Total day minutes'] = data['Total day minutes'].str.replace(',','.')\n",
    "data['Total intl minutes'] = data['Total intl minutes'].str.replace(',','.').apply(pd.to_numeric)\n",
    "data['Total day calls'] = data['Total day calls'].str.replace('o','0').apply(pd.to_numeric)\n",
    "data['Total night minutes'] = data['Total night minutes'].str.replace('l','1').apply(pd.to_numeric)\n",
    "data['Total day minutes'] = data['Total day minutes'].str.replace('o','0').apply(pd.to_numeric)"
   ]
  },
  {
   "cell_type": "code",
   "execution_count": 370,
   "metadata": {
    "colab": {},
    "colab_type": "code",
    "id": "DNRLuZ8wp8Re",
    "outputId": "d4ca65ad-57df-4b1d-eb6d-31d97a811f38"
   },
   "outputs": [
    {
     "name": "stdout",
     "output_type": "stream",
     "text": [
      "<class 'pandas.core.frame.DataFrame'>\n",
      "RangeIndex: 3333 entries, 0 to 3332\n",
      "Data columns (total 23 columns):\n",
      "ID                        3333 non-null int64\n",
      "Sex                       3333 non-null object\n",
      "Age                       2333 non-null float64\n",
      "State                     3333 non-null object\n",
      "Account length            3333 non-null int64\n",
      "Phone number              3333 non-null object\n",
      "Plans                     3233 non-null object\n",
      "Number vmail messages     3333 non-null int64\n",
      "Total day minutes         3333 non-null float64\n",
      "Total day calls           3333 non-null float64\n",
      "Total day charge          3333 non-null float64\n",
      "Total eve minutes         3333 non-null float64\n",
      "Total eve calls           3333 non-null float64\n",
      "Total eve charge          3333 non-null float64\n",
      "Total night minutes       3333 non-null float64\n",
      "Total night calls         3333 non-null float64\n",
      "Total night charge        3333 non-null float64\n",
      "Total intl minutes        3333 non-null float64\n",
      "Total intl calls          3333 non-null float64\n",
      "Total intl charge         3333 non-null float64\n",
      "Total charge              3333 non-null float64\n",
      "Customer service calls    3333 non-null int64\n",
      "Churn                     3333 non-null bool\n",
      "dtypes: bool(1), float64(14), int64(4), object(4)\n",
      "memory usage: 576.2+ KB\n"
     ]
    }
   ],
   "source": [
    "data.info()"
   ]
  },
  {
   "cell_type": "markdown",
   "metadata": {
    "colab_type": "text",
    "id": "G398kYlPp8Rl"
   },
   "source": [
    "### Задание 3  \n",
    "  \n",
    "Оцените набор данных на предмет пропущенных значений. Какие признаки содержат пропуски? Сколько наблюдений с пропусками по каждому такому признаку?  \n",
    "По каждому признаку предложите и обоснуйте, что делать с пропущенными значениями. "
   ]
  },
  {
   "cell_type": "code",
   "execution_count": 371,
   "metadata": {
    "colab": {},
    "colab_type": "code",
    "id": "OD9mow-5p8Rm",
    "outputId": "05edbbb9-0e21-4b88-bf4d-7016cece3b10"
   },
   "outputs": [
    {
     "data": {
      "text/plain": [
       "ID                        0   \n",
       "Sex                       0   \n",
       "Age                       1000\n",
       "State                     0   \n",
       "Account length            0   \n",
       "Phone number              0   \n",
       "Plans                     100 \n",
       "Number vmail messages     0   \n",
       "Total day minutes         0   \n",
       "Total day calls           0   \n",
       "Total day charge          0   \n",
       "Total eve minutes         0   \n",
       "Total eve calls           0   \n",
       "Total eve charge          0   \n",
       "Total night minutes       0   \n",
       "Total night calls         0   \n",
       "Total night charge        0   \n",
       "Total intl minutes        0   \n",
       "Total intl calls          0   \n",
       "Total intl charge         0   \n",
       "Total charge              0   \n",
       "Customer service calls    0   \n",
       "Churn                     0   \n",
       "dtype: int64"
      ]
     },
     "execution_count": 371,
     "metadata": {},
     "output_type": "execute_result"
    }
   ],
   "source": [
    "data.isnull().sum()"
   ]
  },
  {
   "cell_type": "markdown",
   "metadata": {
    "colab_type": "text",
    "id": "alfFLwqHp8Rr"
   },
   "source": [
    "У Plans пропущено 100 значений, а у Age 1000. Age заполню средним значением в пропусках. В Plans будет None."
   ]
  },
  {
   "cell_type": "code",
   "execution_count": 372,
   "metadata": {
    "colab": {},
    "colab_type": "code",
    "collapsed": true,
    "id": "FyT8n1YEp8Rt"
   },
   "outputs": [],
   "source": [
    "data['Plans'] = data['Plans'].fillna('None')\n",
    "data['Age'] = data['Age'].fillna(data['Age'].mean())"
   ]
  },
  {
   "cell_type": "code",
   "execution_count": 373,
   "metadata": {
    "colab": {},
    "colab_type": "code",
    "id": "LT9JJDE0p8Rw",
    "outputId": "74500882-7123-45b9-bfe3-35688d66159c"
   },
   "outputs": [
    {
     "data": {
      "text/plain": [
       "ID                        0\n",
       "Sex                       0\n",
       "Age                       0\n",
       "State                     0\n",
       "Account length            0\n",
       "Phone number              0\n",
       "Plans                     0\n",
       "Number vmail messages     0\n",
       "Total day minutes         0\n",
       "Total day calls           0\n",
       "Total day charge          0\n",
       "Total eve minutes         0\n",
       "Total eve calls           0\n",
       "Total eve charge          0\n",
       "Total night minutes       0\n",
       "Total night calls         0\n",
       "Total night charge        0\n",
       "Total intl minutes        0\n",
       "Total intl calls          0\n",
       "Total intl charge         0\n",
       "Total charge              0\n",
       "Customer service calls    0\n",
       "Churn                     0\n",
       "dtype: int64"
      ]
     },
     "execution_count": 373,
     "metadata": {},
     "output_type": "execute_result"
    }
   ],
   "source": [
    "data.isnull().sum()"
   ]
  },
  {
   "cell_type": "markdown",
   "metadata": {
    "colab_type": "text",
    "id": "GaIKpZaQp8R2"
   },
   "source": [
    "### Задание 4  \n",
    "  \n",
    "В признаке `Phone number` первые три цифры номера отвечают за код зоны покрытия сети.  \n",
    "Создайте новый признак `Area code`, содержайщий код покрытия сети.  \n",
    "Вычислите, сколько таких зон представлено в данных. Сколько наблюдений по каждой зоне?  \n",
    "Вычислите, сколько штатов входит в каждую зону. Есть ли штаты, которые находятся сразу в нескольких зонах покрытия? Если есть, приведите примеры."
   ]
  },
  {
   "cell_type": "markdown",
   "metadata": {
    "colab_type": "text",
    "id": "UKJ6kZbLp8R4"
   },
   "source": [
    "Создам признак из трех первых цифр признака Phone Number и приведу его к long int."
   ]
  },
  {
   "cell_type": "code",
   "execution_count": 374,
   "metadata": {
    "colab": {},
    "colab_type": "code",
    "collapsed": true,
    "id": "iUBZ778op8R4"
   },
   "outputs": [],
   "source": [
    "data['Area code'] = [x[:3] for x in data['Phone number']]\n",
    "data['Area code'] = data['Area code'].astype('int64')"
   ]
  },
  {
   "cell_type": "code",
   "execution_count": 375,
   "metadata": {
    "colab": {},
    "colab_type": "code",
    "id": "q_btAffrp8SB",
    "outputId": "fe7446f9-c13f-41f6-9bd6-be1ad4aac9ce"
   },
   "outputs": [
    {
     "data": {
      "text/html": [
       "<div>\n",
       "<style scoped>\n",
       "    .dataframe tbody tr th:only-of-type {\n",
       "        vertical-align: middle;\n",
       "    }\n",
       "\n",
       "    .dataframe tbody tr th {\n",
       "        vertical-align: top;\n",
       "    }\n",
       "\n",
       "    .dataframe thead th {\n",
       "        text-align: right;\n",
       "    }\n",
       "</style>\n",
       "<table border=\"1\" class=\"dataframe\">\n",
       "  <thead>\n",
       "    <tr style=\"text-align: right;\">\n",
       "      <th></th>\n",
       "      <th>ID</th>\n",
       "      <th>Sex</th>\n",
       "      <th>Age</th>\n",
       "      <th>State</th>\n",
       "      <th>Account length</th>\n",
       "      <th>Phone number</th>\n",
       "      <th>Plans</th>\n",
       "      <th>Number vmail messages</th>\n",
       "      <th>Total day minutes</th>\n",
       "      <th>Total day calls</th>\n",
       "      <th>Total day charge</th>\n",
       "      <th>Total eve minutes</th>\n",
       "      <th>Total eve calls</th>\n",
       "      <th>Total eve charge</th>\n",
       "      <th>Total night minutes</th>\n",
       "      <th>Total night calls</th>\n",
       "      <th>Total night charge</th>\n",
       "      <th>Total intl minutes</th>\n",
       "      <th>Total intl calls</th>\n",
       "      <th>Total intl charge</th>\n",
       "      <th>Total charge</th>\n",
       "      <th>Customer service calls</th>\n",
       "      <th>Churn</th>\n",
       "      <th>Area code</th>\n",
       "    </tr>\n",
       "  </thead>\n",
       "  <tbody>\n",
       "    <tr>\n",
       "      <th>0</th>\n",
       "      <td>40075</td>\n",
       "      <td>Female</td>\n",
       "      <td>37.000000</td>\n",
       "      <td>KS</td>\n",
       "      <td>128</td>\n",
       "      <td>415 424 17 55</td>\n",
       "      <td>Voice mail</td>\n",
       "      <td>25</td>\n",
       "      <td>265.1</td>\n",
       "      <td>110.0</td>\n",
       "      <td>45.07</td>\n",
       "      <td>197.4</td>\n",
       "      <td>99.0</td>\n",
       "      <td>16.78</td>\n",
       "      <td>244.7</td>\n",
       "      <td>91.0</td>\n",
       "      <td>11.01</td>\n",
       "      <td>10.0</td>\n",
       "      <td>3.0</td>\n",
       "      <td>2.70</td>\n",
       "      <td>75.56</td>\n",
       "      <td>1</td>\n",
       "      <td>False</td>\n",
       "      <td>415</td>\n",
       "    </tr>\n",
       "    <tr>\n",
       "      <th>1</th>\n",
       "      <td>17475</td>\n",
       "      <td>Female</td>\n",
       "      <td>34.504501</td>\n",
       "      <td>OH</td>\n",
       "      <td>107</td>\n",
       "      <td>415 759 41 43</td>\n",
       "      <td>Voice mail</td>\n",
       "      <td>26</td>\n",
       "      <td>161.6</td>\n",
       "      <td>123.0</td>\n",
       "      <td>27.47</td>\n",
       "      <td>195.5</td>\n",
       "      <td>103.0</td>\n",
       "      <td>16.62</td>\n",
       "      <td>254.4</td>\n",
       "      <td>103.0</td>\n",
       "      <td>11.45</td>\n",
       "      <td>13.7</td>\n",
       "      <td>3.0</td>\n",
       "      <td>3.70</td>\n",
       "      <td>59.24</td>\n",
       "      <td>1</td>\n",
       "      <td>False</td>\n",
       "      <td>415</td>\n",
       "    </tr>\n",
       "    <tr>\n",
       "      <th>2</th>\n",
       "      <td>62242</td>\n",
       "      <td>Female</td>\n",
       "      <td>19.000000</td>\n",
       "      <td>NJ</td>\n",
       "      <td>137</td>\n",
       "      <td>415 213 11 40</td>\n",
       "      <td>None</td>\n",
       "      <td>0</td>\n",
       "      <td>243.4</td>\n",
       "      <td>114.0</td>\n",
       "      <td>41.38</td>\n",
       "      <td>121.2</td>\n",
       "      <td>110.0</td>\n",
       "      <td>10.30</td>\n",
       "      <td>162.6</td>\n",
       "      <td>104.0</td>\n",
       "      <td>7.32</td>\n",
       "      <td>12.2</td>\n",
       "      <td>5.0</td>\n",
       "      <td>3.29</td>\n",
       "      <td>62.29</td>\n",
       "      <td>0</td>\n",
       "      <td>False</td>\n",
       "      <td>415</td>\n",
       "    </tr>\n",
       "    <tr>\n",
       "      <th>3</th>\n",
       "      <td>81231</td>\n",
       "      <td>Female</td>\n",
       "      <td>31.000000</td>\n",
       "      <td>OH</td>\n",
       "      <td>84</td>\n",
       "      <td>408 487 53 35</td>\n",
       "      <td>International</td>\n",
       "      <td>0</td>\n",
       "      <td>299.4</td>\n",
       "      <td>71.0</td>\n",
       "      <td>50.90</td>\n",
       "      <td>61.9</td>\n",
       "      <td>88.0</td>\n",
       "      <td>5.26</td>\n",
       "      <td>196.9</td>\n",
       "      <td>89.0</td>\n",
       "      <td>8.86</td>\n",
       "      <td>6.6</td>\n",
       "      <td>7.0</td>\n",
       "      <td>1.78</td>\n",
       "      <td>66.80</td>\n",
       "      <td>2</td>\n",
       "      <td>False</td>\n",
       "      <td>408</td>\n",
       "    </tr>\n",
       "    <tr>\n",
       "      <th>4</th>\n",
       "      <td>78542</td>\n",
       "      <td>Female</td>\n",
       "      <td>30.000000</td>\n",
       "      <td>OK</td>\n",
       "      <td>75</td>\n",
       "      <td>415 509 25 27</td>\n",
       "      <td>International</td>\n",
       "      <td>0</td>\n",
       "      <td>166.7</td>\n",
       "      <td>113.0</td>\n",
       "      <td>28.34</td>\n",
       "      <td>148.3</td>\n",
       "      <td>122.0</td>\n",
       "      <td>12.61</td>\n",
       "      <td>186.9</td>\n",
       "      <td>121.0</td>\n",
       "      <td>8.41</td>\n",
       "      <td>10.1</td>\n",
       "      <td>3.0</td>\n",
       "      <td>2.73</td>\n",
       "      <td>52.09</td>\n",
       "      <td>3</td>\n",
       "      <td>False</td>\n",
       "      <td>415</td>\n",
       "    </tr>\n",
       "  </tbody>\n",
       "</table>\n",
       "</div>"
      ],
      "text/plain": [
       "      ID     Sex        Age State  Account length   Phone number  \\\n",
       "0  40075  Female  37.000000  KS    128             415 424 17 55   \n",
       "1  17475  Female  34.504501  OH    107             415 759 41 43   \n",
       "2  62242  Female  19.000000  NJ    137             415 213 11 40   \n",
       "3  81231  Female  31.000000  OH    84              408 487 53 35   \n",
       "4  78542  Female  30.000000  OK    75              415 509 25 27   \n",
       "\n",
       "           Plans  Number vmail messages  Total day minutes  Total day calls  \\\n",
       "0  Voice mail     25                     265.1              110.0             \n",
       "1  Voice mail     26                     161.6              123.0             \n",
       "2  None           0                      243.4              114.0             \n",
       "3  International  0                      299.4              71.0              \n",
       "4  International  0                      166.7              113.0             \n",
       "\n",
       "   Total day charge  Total eve minutes  Total eve calls  Total eve charge  \\\n",
       "0  45.07             197.4              99.0             16.78              \n",
       "1  27.47             195.5              103.0            16.62              \n",
       "2  41.38             121.2              110.0            10.30              \n",
       "3  50.90             61.9               88.0             5.26               \n",
       "4  28.34             148.3              122.0            12.61              \n",
       "\n",
       "   Total night minutes  Total night calls  Total night charge  \\\n",
       "0  244.7                91.0               11.01                \n",
       "1  254.4                103.0              11.45                \n",
       "2  162.6                104.0              7.32                 \n",
       "3  196.9                89.0               8.86                 \n",
       "4  186.9                121.0              8.41                 \n",
       "\n",
       "   Total intl minutes  Total intl calls  Total intl charge  Total charge  \\\n",
       "0  10.0                3.0               2.70               75.56          \n",
       "1  13.7                3.0               3.70               59.24          \n",
       "2  12.2                5.0               3.29               62.29          \n",
       "3  6.6                 7.0               1.78               66.80          \n",
       "4  10.1                3.0               2.73               52.09          \n",
       "\n",
       "   Customer service calls  Churn  Area code  \n",
       "0  1                       False  415        \n",
       "1  1                       False  415        \n",
       "2  0                       False  415        \n",
       "3  2                       False  408        \n",
       "4  3                       False  415        "
      ]
     },
     "execution_count": 375,
     "metadata": {},
     "output_type": "execute_result"
    }
   ],
   "source": [
    "data.head(5)"
   ]
  },
  {
   "cell_type": "markdown",
   "metadata": {
    "colab_type": "text",
    "id": "9gumkVwnp8SG"
   },
   "source": [
    "Всего имеестя 3 зоны"
   ]
  },
  {
   "cell_type": "code",
   "execution_count": 376,
   "metadata": {
    "colab": {},
    "colab_type": "code",
    "id": "7XoGn2Q1p8SJ",
    "outputId": "61804ac4-6997-41b6-936f-5640dc3eeea6"
   },
   "outputs": [
    {
     "data": {
      "text/plain": [
       "415    1655\n",
       "510    840 \n",
       "408    838 \n",
       "Name: Area code, dtype: int64"
      ]
     },
     "execution_count": 376,
     "metadata": {},
     "output_type": "execute_result"
    }
   ],
   "source": [
    "data['Area code'].value_counts()"
   ]
  },
  {
   "cell_type": "markdown",
   "metadata": {
    "colab_type": "text",
    "id": "a757qLqzp8SP"
   },
   "source": [
    "По кросс-таблице вижу, что любая зона покрывает все штаты."
   ]
  },
  {
   "cell_type": "code",
   "execution_count": 377,
   "metadata": {
    "colab": {},
    "colab_type": "code",
    "id": "bmQYszacp8SQ",
    "outputId": "9dd1cc59-2b3d-4136-be8d-cdc4768b41c1"
   },
   "outputs": [
    {
     "data": {
      "text/html": [
       "<div>\n",
       "<style scoped>\n",
       "    .dataframe tbody tr th:only-of-type {\n",
       "        vertical-align: middle;\n",
       "    }\n",
       "\n",
       "    .dataframe tbody tr th {\n",
       "        vertical-align: top;\n",
       "    }\n",
       "\n",
       "    .dataframe thead th {\n",
       "        text-align: right;\n",
       "    }\n",
       "</style>\n",
       "<table border=\"1\" class=\"dataframe\">\n",
       "  <thead>\n",
       "    <tr style=\"text-align: right;\">\n",
       "      <th>State</th>\n",
       "      <th>AK</th>\n",
       "      <th>AL</th>\n",
       "      <th>AR</th>\n",
       "      <th>AZ</th>\n",
       "      <th>CA</th>\n",
       "      <th>CO</th>\n",
       "      <th>CT</th>\n",
       "      <th>DC</th>\n",
       "      <th>DE</th>\n",
       "      <th>FL</th>\n",
       "      <th>GA</th>\n",
       "      <th>HI</th>\n",
       "      <th>...</th>\n",
       "      <th>RI</th>\n",
       "      <th>SC</th>\n",
       "      <th>SD</th>\n",
       "      <th>TN</th>\n",
       "      <th>TX</th>\n",
       "      <th>UT</th>\n",
       "      <th>VA</th>\n",
       "      <th>VT</th>\n",
       "      <th>WA</th>\n",
       "      <th>WI</th>\n",
       "      <th>WV</th>\n",
       "      <th>WY</th>\n",
       "    </tr>\n",
       "    <tr>\n",
       "      <th>Area code</th>\n",
       "      <th></th>\n",
       "      <th></th>\n",
       "      <th></th>\n",
       "      <th></th>\n",
       "      <th></th>\n",
       "      <th></th>\n",
       "      <th></th>\n",
       "      <th></th>\n",
       "      <th></th>\n",
       "      <th></th>\n",
       "      <th></th>\n",
       "      <th></th>\n",
       "      <th></th>\n",
       "      <th></th>\n",
       "      <th></th>\n",
       "      <th></th>\n",
       "      <th></th>\n",
       "      <th></th>\n",
       "      <th></th>\n",
       "      <th></th>\n",
       "      <th></th>\n",
       "      <th></th>\n",
       "      <th></th>\n",
       "      <th></th>\n",
       "      <th></th>\n",
       "    </tr>\n",
       "  </thead>\n",
       "  <tbody>\n",
       "    <tr>\n",
       "      <th>408</th>\n",
       "      <td>14</td>\n",
       "      <td>25</td>\n",
       "      <td>13</td>\n",
       "      <td>15</td>\n",
       "      <td>7</td>\n",
       "      <td>25</td>\n",
       "      <td>22</td>\n",
       "      <td>14</td>\n",
       "      <td>13</td>\n",
       "      <td>12</td>\n",
       "      <td>15</td>\n",
       "      <td>15</td>\n",
       "      <td>...</td>\n",
       "      <td>12</td>\n",
       "      <td>13</td>\n",
       "      <td>16</td>\n",
       "      <td>11</td>\n",
       "      <td>20</td>\n",
       "      <td>12</td>\n",
       "      <td>25</td>\n",
       "      <td>17</td>\n",
       "      <td>23</td>\n",
       "      <td>22</td>\n",
       "      <td>20</td>\n",
       "      <td>17</td>\n",
       "    </tr>\n",
       "    <tr>\n",
       "      <th>415</th>\n",
       "      <td>24</td>\n",
       "      <td>40</td>\n",
       "      <td>27</td>\n",
       "      <td>36</td>\n",
       "      <td>17</td>\n",
       "      <td>29</td>\n",
       "      <td>39</td>\n",
       "      <td>27</td>\n",
       "      <td>31</td>\n",
       "      <td>31</td>\n",
       "      <td>21</td>\n",
       "      <td>30</td>\n",
       "      <td>...</td>\n",
       "      <td>35</td>\n",
       "      <td>30</td>\n",
       "      <td>28</td>\n",
       "      <td>30</td>\n",
       "      <td>37</td>\n",
       "      <td>37</td>\n",
       "      <td>35</td>\n",
       "      <td>36</td>\n",
       "      <td>26</td>\n",
       "      <td>35</td>\n",
       "      <td>52</td>\n",
       "      <td>41</td>\n",
       "    </tr>\n",
       "    <tr>\n",
       "      <th>510</th>\n",
       "      <td>14</td>\n",
       "      <td>15</td>\n",
       "      <td>15</td>\n",
       "      <td>13</td>\n",
       "      <td>10</td>\n",
       "      <td>12</td>\n",
       "      <td>13</td>\n",
       "      <td>13</td>\n",
       "      <td>17</td>\n",
       "      <td>20</td>\n",
       "      <td>18</td>\n",
       "      <td>8</td>\n",
       "      <td>...</td>\n",
       "      <td>18</td>\n",
       "      <td>17</td>\n",
       "      <td>16</td>\n",
       "      <td>12</td>\n",
       "      <td>15</td>\n",
       "      <td>23</td>\n",
       "      <td>17</td>\n",
       "      <td>20</td>\n",
       "      <td>17</td>\n",
       "      <td>21</td>\n",
       "      <td>34</td>\n",
       "      <td>19</td>\n",
       "    </tr>\n",
       "  </tbody>\n",
       "</table>\n",
       "<p>3 rows × 51 columns</p>\n",
       "</div>"
      ],
      "text/plain": [
       "State      AK  AL  AR  AZ  CA  CO  CT  DC  DE  FL  GA  HI ...  RI  SC  SD  TN  \\\n",
       "Area code                                                 ...                   \n",
       "408        14  25  13  15  7   25  22  14  13  12  15  15 ...  12  13  16  11   \n",
       "415        24  40  27  36  17  29  39  27  31  31  21  30 ...  35  30  28  30   \n",
       "510        14  15  15  13  10  12  13  13  17  20  18  8  ...  18  17  16  12   \n",
       "\n",
       "State      TX  UT  VA  VT  WA  WI  WV  WY  \n",
       "Area code                                  \n",
       "408        20  12  25  17  23  22  20  17  \n",
       "415        37  37  35  36  26  35  52  41  \n",
       "510        15  23  17  20  17  21  34  19  \n",
       "\n",
       "[3 rows x 51 columns]"
      ]
     },
     "execution_count": 377,
     "metadata": {},
     "output_type": "execute_result"
    }
   ],
   "source": [
    "pd.crosstab(data['Area code'], data['State'])"
   ]
  },
  {
   "cell_type": "code",
   "execution_count": 378,
   "metadata": {
    "colab": {},
    "colab_type": "code",
    "id": "Ctji0TKrp8SX",
    "outputId": "7d7191ff-8f9c-4079-9ab1-41b0feac383e"
   },
   "outputs": [
    {
     "data": {
      "text/plain": [
       "State\n",
       "AK    0\n",
       "AL    0\n",
       "AR    0\n",
       "AZ    0\n",
       "CA    0\n",
       "CO    0\n",
       "CT    0\n",
       "DC    0\n",
       "DE    0\n",
       "FL    0\n",
       "GA    0\n",
       "HI    0\n",
       "IA    0\n",
       "ID    0\n",
       "IL    0\n",
       "IN    0\n",
       "KS    0\n",
       "KY    0\n",
       "LA    0\n",
       "MA    0\n",
       "MD    0\n",
       "ME    0\n",
       "MI    0\n",
       "MN    0\n",
       "MO    0\n",
       "MS    0\n",
       "MT    0\n",
       "NC    0\n",
       "ND    0\n",
       "NE    0\n",
       "NH    0\n",
       "NJ    0\n",
       "NM    0\n",
       "NV    0\n",
       "NY    0\n",
       "OH    0\n",
       "OK    0\n",
       "OR    0\n",
       "PA    0\n",
       "RI    0\n",
       "SC    0\n",
       "SD    0\n",
       "TN    0\n",
       "TX    0\n",
       "UT    0\n",
       "VA    0\n",
       "VT    0\n",
       "WA    0\n",
       "WI    0\n",
       "WV    0\n",
       "WY    0\n",
       "dtype: int64"
      ]
     },
     "execution_count": 378,
     "metadata": {},
     "output_type": "execute_result"
    }
   ],
   "source": [
    "pd.crosstab(data['Area code'], data['State']).isnull().sum()"
   ]
  },
  {
   "cell_type": "markdown",
   "metadata": {
    "colab_type": "text",
    "id": "03wKOlkup8Sb"
   },
   "source": [
    "### Задание 5  \n",
    "  \n",
    "Вычислите тарифные планы (стоимость минуты разговора): day, eve, night, intl.  \n",
    "Проверьте, различаются ли они для различных зон покрытия сети. "
   ]
  },
  {
   "cell_type": "markdown",
   "metadata": {
    "colab_type": "text",
    "id": "pDE6Nt72p8Sd"
   },
   "source": [
    "Чтобы создать признак со стоимостью 1 минуты разговора, разделю стоимось на минуты для каждого наблюдения."
   ]
  },
  {
   "cell_type": "code",
   "execution_count": 379,
   "metadata": {
    "colab": {},
    "colab_type": "code",
    "collapsed": true,
    "id": "pZ8CXZVcp8Sf"
   },
   "outputs": [],
   "source": [
    "night_cost = []\n",
    "intl_cost = []\n",
    "\n",
    "day_cost = []\n",
    "eve_cost = []\n",
    "\n",
    "for i in range (0, data.shape[0]):\n",
    "    night_cost = data['Total night charge'][i] / data['Total night minutes'][i]\n",
    "    intl_cost = data['Total intl charge'][i] / data['Total intl minutes'][i]\n",
    "    day_cost = data['Total day charge'][i] / data['Total day minutes'][i]\n",
    "    eve_cost = data['Total eve charge'][i] / data['Total eve minutes'][i]\n",
    "    \n",
    "\n",
    "data['Night cost'] = night_cost\n",
    "data['Intl cost'] = intl_cost\n",
    "\n",
    "data['Day cost'] = day_cost\n",
    "data['Eve cost']= eve_cost"
   ]
  },
  {
   "cell_type": "code",
   "execution_count": 380,
   "metadata": {
    "colab": {},
    "colab_type": "code",
    "id": "B7yzqGpNp8Si",
    "outputId": "63023a92-25ab-4668-8b36-102ff90d5ae4"
   },
   "outputs": [
    {
     "data": {
      "text/html": [
       "<div>\n",
       "<style scoped>\n",
       "    .dataframe tbody tr th:only-of-type {\n",
       "        vertical-align: middle;\n",
       "    }\n",
       "\n",
       "    .dataframe tbody tr th {\n",
       "        vertical-align: top;\n",
       "    }\n",
       "\n",
       "    .dataframe thead th {\n",
       "        text-align: right;\n",
       "    }\n",
       "</style>\n",
       "<table border=\"1\" class=\"dataframe\">\n",
       "  <thead>\n",
       "    <tr style=\"text-align: right;\">\n",
       "      <th></th>\n",
       "      <th>ID</th>\n",
       "      <th>Sex</th>\n",
       "      <th>Age</th>\n",
       "      <th>State</th>\n",
       "      <th>Account length</th>\n",
       "      <th>Phone number</th>\n",
       "      <th>Plans</th>\n",
       "      <th>Number vmail messages</th>\n",
       "      <th>Total day minutes</th>\n",
       "      <th>Total day calls</th>\n",
       "      <th>Total day charge</th>\n",
       "      <th>Total eve minutes</th>\n",
       "      <th>...</th>\n",
       "      <th>Total night charge</th>\n",
       "      <th>Total intl minutes</th>\n",
       "      <th>Total intl calls</th>\n",
       "      <th>Total intl charge</th>\n",
       "      <th>Total charge</th>\n",
       "      <th>Customer service calls</th>\n",
       "      <th>Churn</th>\n",
       "      <th>Area code</th>\n",
       "      <th>Night cost</th>\n",
       "      <th>Intl cost</th>\n",
       "      <th>Day cost</th>\n",
       "      <th>Eve cost</th>\n",
       "    </tr>\n",
       "  </thead>\n",
       "  <tbody>\n",
       "    <tr>\n",
       "      <th>0</th>\n",
       "      <td>40075</td>\n",
       "      <td>Female</td>\n",
       "      <td>37.000000</td>\n",
       "      <td>KS</td>\n",
       "      <td>128</td>\n",
       "      <td>415 424 17 55</td>\n",
       "      <td>Voice mail</td>\n",
       "      <td>25</td>\n",
       "      <td>265.1</td>\n",
       "      <td>110.0</td>\n",
       "      <td>45.07</td>\n",
       "      <td>197.4</td>\n",
       "      <td>...</td>\n",
       "      <td>11.01</td>\n",
       "      <td>10.0</td>\n",
       "      <td>3.0</td>\n",
       "      <td>2.70</td>\n",
       "      <td>75.56</td>\n",
       "      <td>1</td>\n",
       "      <td>False</td>\n",
       "      <td>415</td>\n",
       "      <td>0.044988</td>\n",
       "      <td>0.270073</td>\n",
       "      <td>0.170009</td>\n",
       "      <td>0.084994</td>\n",
       "    </tr>\n",
       "    <tr>\n",
       "      <th>1</th>\n",
       "      <td>17475</td>\n",
       "      <td>Female</td>\n",
       "      <td>34.504501</td>\n",
       "      <td>OH</td>\n",
       "      <td>107</td>\n",
       "      <td>415 759 41 43</td>\n",
       "      <td>Voice mail</td>\n",
       "      <td>26</td>\n",
       "      <td>161.6</td>\n",
       "      <td>123.0</td>\n",
       "      <td>27.47</td>\n",
       "      <td>195.5</td>\n",
       "      <td>...</td>\n",
       "      <td>11.45</td>\n",
       "      <td>13.7</td>\n",
       "      <td>3.0</td>\n",
       "      <td>3.70</td>\n",
       "      <td>59.24</td>\n",
       "      <td>1</td>\n",
       "      <td>False</td>\n",
       "      <td>415</td>\n",
       "      <td>0.044988</td>\n",
       "      <td>0.270073</td>\n",
       "      <td>0.170009</td>\n",
       "      <td>0.084994</td>\n",
       "    </tr>\n",
       "    <tr>\n",
       "      <th>2</th>\n",
       "      <td>62242</td>\n",
       "      <td>Female</td>\n",
       "      <td>19.000000</td>\n",
       "      <td>NJ</td>\n",
       "      <td>137</td>\n",
       "      <td>415 213 11 40</td>\n",
       "      <td>None</td>\n",
       "      <td>0</td>\n",
       "      <td>243.4</td>\n",
       "      <td>114.0</td>\n",
       "      <td>41.38</td>\n",
       "      <td>121.2</td>\n",
       "      <td>...</td>\n",
       "      <td>7.32</td>\n",
       "      <td>12.2</td>\n",
       "      <td>5.0</td>\n",
       "      <td>3.29</td>\n",
       "      <td>62.29</td>\n",
       "      <td>0</td>\n",
       "      <td>False</td>\n",
       "      <td>415</td>\n",
       "      <td>0.044988</td>\n",
       "      <td>0.270073</td>\n",
       "      <td>0.170009</td>\n",
       "      <td>0.084994</td>\n",
       "    </tr>\n",
       "    <tr>\n",
       "      <th>3</th>\n",
       "      <td>81231</td>\n",
       "      <td>Female</td>\n",
       "      <td>31.000000</td>\n",
       "      <td>OH</td>\n",
       "      <td>84</td>\n",
       "      <td>408 487 53 35</td>\n",
       "      <td>International</td>\n",
       "      <td>0</td>\n",
       "      <td>299.4</td>\n",
       "      <td>71.0</td>\n",
       "      <td>50.90</td>\n",
       "      <td>61.9</td>\n",
       "      <td>...</td>\n",
       "      <td>8.86</td>\n",
       "      <td>6.6</td>\n",
       "      <td>7.0</td>\n",
       "      <td>1.78</td>\n",
       "      <td>66.80</td>\n",
       "      <td>2</td>\n",
       "      <td>False</td>\n",
       "      <td>408</td>\n",
       "      <td>0.044988</td>\n",
       "      <td>0.270073</td>\n",
       "      <td>0.170009</td>\n",
       "      <td>0.084994</td>\n",
       "    </tr>\n",
       "    <tr>\n",
       "      <th>4</th>\n",
       "      <td>78542</td>\n",
       "      <td>Female</td>\n",
       "      <td>30.000000</td>\n",
       "      <td>OK</td>\n",
       "      <td>75</td>\n",
       "      <td>415 509 25 27</td>\n",
       "      <td>International</td>\n",
       "      <td>0</td>\n",
       "      <td>166.7</td>\n",
       "      <td>113.0</td>\n",
       "      <td>28.34</td>\n",
       "      <td>148.3</td>\n",
       "      <td>...</td>\n",
       "      <td>8.41</td>\n",
       "      <td>10.1</td>\n",
       "      <td>3.0</td>\n",
       "      <td>2.73</td>\n",
       "      <td>52.09</td>\n",
       "      <td>3</td>\n",
       "      <td>False</td>\n",
       "      <td>415</td>\n",
       "      <td>0.044988</td>\n",
       "      <td>0.270073</td>\n",
       "      <td>0.170009</td>\n",
       "      <td>0.084994</td>\n",
       "    </tr>\n",
       "  </tbody>\n",
       "</table>\n",
       "<p>5 rows × 28 columns</p>\n",
       "</div>"
      ],
      "text/plain": [
       "      ID     Sex        Age State  Account length   Phone number  \\\n",
       "0  40075  Female  37.000000  KS    128             415 424 17 55   \n",
       "1  17475  Female  34.504501  OH    107             415 759 41 43   \n",
       "2  62242  Female  19.000000  NJ    137             415 213 11 40   \n",
       "3  81231  Female  31.000000  OH    84              408 487 53 35   \n",
       "4  78542  Female  30.000000  OK    75              415 509 25 27   \n",
       "\n",
       "           Plans  Number vmail messages  Total day minutes  Total day calls  \\\n",
       "0  Voice mail     25                     265.1              110.0             \n",
       "1  Voice mail     26                     161.6              123.0             \n",
       "2  None           0                      243.4              114.0             \n",
       "3  International  0                      299.4              71.0              \n",
       "4  International  0                      166.7              113.0             \n",
       "\n",
       "   Total day charge  Total eve minutes    ...     Total night charge  \\\n",
       "0  45.07             197.4                ...     11.01                \n",
       "1  27.47             195.5                ...     11.45                \n",
       "2  41.38             121.2                ...     7.32                 \n",
       "3  50.90             61.9                 ...     8.86                 \n",
       "4  28.34             148.3                ...     8.41                 \n",
       "\n",
       "   Total intl minutes  Total intl calls  Total intl charge  Total charge  \\\n",
       "0  10.0                3.0               2.70               75.56          \n",
       "1  13.7                3.0               3.70               59.24          \n",
       "2  12.2                5.0               3.29               62.29          \n",
       "3  6.6                 7.0               1.78               66.80          \n",
       "4  10.1                3.0               2.73               52.09          \n",
       "\n",
       "   Customer service calls  Churn  Area code  Night cost  Intl cost  Day cost  \\\n",
       "0  1                       False  415        0.044988    0.270073   0.170009   \n",
       "1  1                       False  415        0.044988    0.270073   0.170009   \n",
       "2  0                       False  415        0.044988    0.270073   0.170009   \n",
       "3  2                       False  408        0.044988    0.270073   0.170009   \n",
       "4  3                       False  415        0.044988    0.270073   0.170009   \n",
       "\n",
       "   Eve cost  \n",
       "0  0.084994  \n",
       "1  0.084994  \n",
       "2  0.084994  \n",
       "3  0.084994  \n",
       "4  0.084994  \n",
       "\n",
       "[5 rows x 28 columns]"
      ]
     },
     "execution_count": 380,
     "metadata": {},
     "output_type": "execute_result"
    }
   ],
   "source": [
    "data.head(5)"
   ]
  },
  {
   "cell_type": "code",
   "execution_count": 381,
   "metadata": {
    "colab": {},
    "colab_type": "code",
    "id": "fJnmi3sZp8Sn",
    "outputId": "ea6c31b8-ff05-4b3e-dfca-a4aa9f323b44"
   },
   "outputs": [
    {
     "name": "stdout",
     "output_type": "stream",
     "text": [
      "Mean night cost per min:0.04498757249378569\n",
      "Mean intl cost per min:0.2700729927007371\n",
      "Mean day cost per min:0.1700085324232049\n",
      "Mean eve cost per min:0.08499435878149932\n"
     ]
    }
   ],
   "source": [
    "print('Mean night cost per min:' + str(data['Night cost'].mean()))\n",
    "print('Mean intl cost per min:' + str(data['Intl cost'].mean()))\n",
    "print('Mean day cost per min:' + str(data['Day cost'].mean()))\n",
    "print('Mean eve cost per min:' + str(data['Eve cost'].mean()))"
   ]
  },
  {
   "cell_type": "markdown",
   "metadata": {
    "colab_type": "text",
    "id": "hXUV--9dp8Sr"
   },
   "source": [
    "\n",
    "Отличаются ли средняя стоимость за минуты для разных Area Code? Проверю это"
   ]
  },
  {
   "cell_type": "code",
   "execution_count": 382,
   "metadata": {
    "colab": {},
    "colab_type": "code",
    "id": "SnmOOpY8p8Ss",
    "outputId": "f2afa608-7ba8-4d4a-c88d-86b18e384459"
   },
   "outputs": [
    {
     "data": {
      "text/html": [
       "<div>\n",
       "<style scoped>\n",
       "    .dataframe tbody tr th:only-of-type {\n",
       "        vertical-align: middle;\n",
       "    }\n",
       "\n",
       "    .dataframe tbody tr th {\n",
       "        vertical-align: top;\n",
       "    }\n",
       "\n",
       "    .dataframe thead th {\n",
       "        text-align: right;\n",
       "    }\n",
       "</style>\n",
       "<table border=\"1\" class=\"dataframe\">\n",
       "  <thead>\n",
       "    <tr style=\"text-align: right;\">\n",
       "      <th></th>\n",
       "      <th>count</th>\n",
       "      <th>mean</th>\n",
       "      <th>std</th>\n",
       "      <th>min</th>\n",
       "      <th>25%</th>\n",
       "      <th>50%</th>\n",
       "      <th>75%</th>\n",
       "      <th>max</th>\n",
       "    </tr>\n",
       "    <tr>\n",
       "      <th>Area code</th>\n",
       "      <th></th>\n",
       "      <th></th>\n",
       "      <th></th>\n",
       "      <th></th>\n",
       "      <th></th>\n",
       "      <th></th>\n",
       "      <th></th>\n",
       "      <th></th>\n",
       "    </tr>\n",
       "  </thead>\n",
       "  <tbody>\n",
       "    <tr>\n",
       "      <th>408</th>\n",
       "      <td>838.0</td>\n",
       "      <td>0.084994</td>\n",
       "      <td>1.097000e-15</td>\n",
       "      <td>0.084994</td>\n",
       "      <td>0.084994</td>\n",
       "      <td>0.084994</td>\n",
       "      <td>0.084994</td>\n",
       "      <td>0.084994</td>\n",
       "    </tr>\n",
       "    <tr>\n",
       "      <th>415</th>\n",
       "      <td>1655.0</td>\n",
       "      <td>0.084994</td>\n",
       "      <td>1.263260e-15</td>\n",
       "      <td>0.084994</td>\n",
       "      <td>0.084994</td>\n",
       "      <td>0.084994</td>\n",
       "      <td>0.084994</td>\n",
       "      <td>0.084994</td>\n",
       "    </tr>\n",
       "    <tr>\n",
       "      <th>510</th>\n",
       "      <td>840.0</td>\n",
       "      <td>0.084994</td>\n",
       "      <td>1.083112e-15</td>\n",
       "      <td>0.084994</td>\n",
       "      <td>0.084994</td>\n",
       "      <td>0.084994</td>\n",
       "      <td>0.084994</td>\n",
       "      <td>0.084994</td>\n",
       "    </tr>\n",
       "  </tbody>\n",
       "</table>\n",
       "</div>"
      ],
      "text/plain": [
       "            count      mean           std       min       25%       50%  \\\n",
       "Area code                                                                 \n",
       "408        838.0   0.084994  1.097000e-15  0.084994  0.084994  0.084994   \n",
       "415        1655.0  0.084994  1.263260e-15  0.084994  0.084994  0.084994   \n",
       "510        840.0   0.084994  1.083112e-15  0.084994  0.084994  0.084994   \n",
       "\n",
       "                75%       max  \n",
       "Area code                      \n",
       "408        0.084994  0.084994  \n",
       "415        0.084994  0.084994  \n",
       "510        0.084994  0.084994  "
      ]
     },
     "execution_count": 382,
     "metadata": {},
     "output_type": "execute_result"
    }
   ],
   "source": [
    "data.groupby('Area code')['Eve cost'].describe()"
   ]
  },
  {
   "cell_type": "code",
   "execution_count": 383,
   "metadata": {
    "colab": {},
    "colab_type": "code",
    "id": "PdUKaxYvp8Sx",
    "outputId": "8b69a422-bb6b-4d43-b115-dfdddffe5c2b"
   },
   "outputs": [
    {
     "data": {
      "text/html": [
       "<div>\n",
       "<style scoped>\n",
       "    .dataframe tbody tr th:only-of-type {\n",
       "        vertical-align: middle;\n",
       "    }\n",
       "\n",
       "    .dataframe tbody tr th {\n",
       "        vertical-align: top;\n",
       "    }\n",
       "\n",
       "    .dataframe thead th {\n",
       "        text-align: right;\n",
       "    }\n",
       "</style>\n",
       "<table border=\"1\" class=\"dataframe\">\n",
       "  <thead>\n",
       "    <tr style=\"text-align: right;\">\n",
       "      <th></th>\n",
       "      <th>count</th>\n",
       "      <th>mean</th>\n",
       "      <th>std</th>\n",
       "      <th>min</th>\n",
       "      <th>25%</th>\n",
       "      <th>50%</th>\n",
       "      <th>75%</th>\n",
       "      <th>max</th>\n",
       "    </tr>\n",
       "    <tr>\n",
       "      <th>Area code</th>\n",
       "      <th></th>\n",
       "      <th></th>\n",
       "      <th></th>\n",
       "      <th></th>\n",
       "      <th></th>\n",
       "      <th></th>\n",
       "      <th></th>\n",
       "      <th></th>\n",
       "    </tr>\n",
       "  </thead>\n",
       "  <tbody>\n",
       "    <tr>\n",
       "      <th>408</th>\n",
       "      <td>838.0</td>\n",
       "      <td>0.044988</td>\n",
       "      <td>2.777215e-16</td>\n",
       "      <td>0.044988</td>\n",
       "      <td>0.044988</td>\n",
       "      <td>0.044988</td>\n",
       "      <td>0.044988</td>\n",
       "      <td>0.044988</td>\n",
       "    </tr>\n",
       "    <tr>\n",
       "      <th>415</th>\n",
       "      <td>1655.0</td>\n",
       "      <td>0.044988</td>\n",
       "      <td>1.388198e-16</td>\n",
       "      <td>0.044988</td>\n",
       "      <td>0.044988</td>\n",
       "      <td>0.044988</td>\n",
       "      <td>0.044988</td>\n",
       "      <td>0.044988</td>\n",
       "    </tr>\n",
       "    <tr>\n",
       "      <th>510</th>\n",
       "      <td>840.0</td>\n",
       "      <td>0.044988</td>\n",
       "      <td>2.707781e-16</td>\n",
       "      <td>0.044988</td>\n",
       "      <td>0.044988</td>\n",
       "      <td>0.044988</td>\n",
       "      <td>0.044988</td>\n",
       "      <td>0.044988</td>\n",
       "    </tr>\n",
       "  </tbody>\n",
       "</table>\n",
       "</div>"
      ],
      "text/plain": [
       "            count      mean           std       min       25%       50%  \\\n",
       "Area code                                                                 \n",
       "408        838.0   0.044988  2.777215e-16  0.044988  0.044988  0.044988   \n",
       "415        1655.0  0.044988  1.388198e-16  0.044988  0.044988  0.044988   \n",
       "510        840.0   0.044988  2.707781e-16  0.044988  0.044988  0.044988   \n",
       "\n",
       "                75%       max  \n",
       "Area code                      \n",
       "408        0.044988  0.044988  \n",
       "415        0.044988  0.044988  \n",
       "510        0.044988  0.044988  "
      ]
     },
     "execution_count": 383,
     "metadata": {},
     "output_type": "execute_result"
    }
   ],
   "source": [
    "data.groupby('Area code')['Night cost'].describe()"
   ]
  },
  {
   "cell_type": "code",
   "execution_count": 384,
   "metadata": {
    "colab": {},
    "colab_type": "code",
    "id": "Uf1gJjDop8S2",
    "outputId": "bf4e149e-5029-45b6-83ef-3a4ea2f60b4e"
   },
   "outputs": [
    {
     "data": {
      "text/html": [
       "<div>\n",
       "<style scoped>\n",
       "    .dataframe tbody tr th:only-of-type {\n",
       "        vertical-align: middle;\n",
       "    }\n",
       "\n",
       "    .dataframe tbody tr th {\n",
       "        vertical-align: top;\n",
       "    }\n",
       "\n",
       "    .dataframe thead th {\n",
       "        text-align: right;\n",
       "    }\n",
       "</style>\n",
       "<table border=\"1\" class=\"dataframe\">\n",
       "  <thead>\n",
       "    <tr style=\"text-align: right;\">\n",
       "      <th></th>\n",
       "      <th>count</th>\n",
       "      <th>mean</th>\n",
       "      <th>std</th>\n",
       "      <th>min</th>\n",
       "      <th>25%</th>\n",
       "      <th>50%</th>\n",
       "      <th>75%</th>\n",
       "      <th>max</th>\n",
       "    </tr>\n",
       "    <tr>\n",
       "      <th>Area code</th>\n",
       "      <th></th>\n",
       "      <th></th>\n",
       "      <th></th>\n",
       "      <th></th>\n",
       "      <th></th>\n",
       "      <th></th>\n",
       "      <th></th>\n",
       "      <th></th>\n",
       "    </tr>\n",
       "  </thead>\n",
       "  <tbody>\n",
       "    <tr>\n",
       "      <th>408</th>\n",
       "      <td>838.0</td>\n",
       "      <td>0.270073</td>\n",
       "      <td>2.610582e-15</td>\n",
       "      <td>0.270073</td>\n",
       "      <td>0.270073</td>\n",
       "      <td>0.270073</td>\n",
       "      <td>0.270073</td>\n",
       "      <td>0.270073</td>\n",
       "    </tr>\n",
       "    <tr>\n",
       "      <th>415</th>\n",
       "      <td>1655.0</td>\n",
       "      <td>0.270073</td>\n",
       "      <td>9.328692e-15</td>\n",
       "      <td>0.270073</td>\n",
       "      <td>0.270073</td>\n",
       "      <td>0.270073</td>\n",
       "      <td>0.270073</td>\n",
       "      <td>0.270073</td>\n",
       "    </tr>\n",
       "    <tr>\n",
       "      <th>510</th>\n",
       "      <td>840.0</td>\n",
       "      <td>0.270073</td>\n",
       "      <td>2.610578e-15</td>\n",
       "      <td>0.270073</td>\n",
       "      <td>0.270073</td>\n",
       "      <td>0.270073</td>\n",
       "      <td>0.270073</td>\n",
       "      <td>0.270073</td>\n",
       "    </tr>\n",
       "  </tbody>\n",
       "</table>\n",
       "</div>"
      ],
      "text/plain": [
       "            count      mean           std       min       25%       50%  \\\n",
       "Area code                                                                 \n",
       "408        838.0   0.270073  2.610582e-15  0.270073  0.270073  0.270073   \n",
       "415        1655.0  0.270073  9.328692e-15  0.270073  0.270073  0.270073   \n",
       "510        840.0   0.270073  2.610578e-15  0.270073  0.270073  0.270073   \n",
       "\n",
       "                75%       max  \n",
       "Area code                      \n",
       "408        0.270073  0.270073  \n",
       "415        0.270073  0.270073  \n",
       "510        0.270073  0.270073  "
      ]
     },
     "execution_count": 384,
     "metadata": {},
     "output_type": "execute_result"
    }
   ],
   "source": [
    "data.groupby('Area code')['Intl cost'].describe()"
   ]
  },
  {
   "cell_type": "code",
   "execution_count": 385,
   "metadata": {
    "colab": {},
    "colab_type": "code",
    "id": "7IfrdxBpp8TA",
    "outputId": "83109270-d93e-4515-b479-37bf04a895d6"
   },
   "outputs": [
    {
     "data": {
      "text/html": [
       "<div>\n",
       "<style scoped>\n",
       "    .dataframe tbody tr th:only-of-type {\n",
       "        vertical-align: middle;\n",
       "    }\n",
       "\n",
       "    .dataframe tbody tr th {\n",
       "        vertical-align: top;\n",
       "    }\n",
       "\n",
       "    .dataframe thead th {\n",
       "        text-align: right;\n",
       "    }\n",
       "</style>\n",
       "<table border=\"1\" class=\"dataframe\">\n",
       "  <thead>\n",
       "    <tr style=\"text-align: right;\">\n",
       "      <th></th>\n",
       "      <th>count</th>\n",
       "      <th>mean</th>\n",
       "      <th>std</th>\n",
       "      <th>min</th>\n",
       "      <th>25%</th>\n",
       "      <th>50%</th>\n",
       "      <th>75%</th>\n",
       "      <th>max</th>\n",
       "    </tr>\n",
       "    <tr>\n",
       "      <th>Area code</th>\n",
       "      <th></th>\n",
       "      <th></th>\n",
       "      <th></th>\n",
       "      <th></th>\n",
       "      <th></th>\n",
       "      <th></th>\n",
       "      <th></th>\n",
       "      <th></th>\n",
       "    </tr>\n",
       "  </thead>\n",
       "  <tbody>\n",
       "    <tr>\n",
       "      <th>408</th>\n",
       "      <td>838.0</td>\n",
       "      <td>0.170009</td>\n",
       "      <td>2.777215e-16</td>\n",
       "      <td>0.170009</td>\n",
       "      <td>0.170009</td>\n",
       "      <td>0.170009</td>\n",
       "      <td>0.170009</td>\n",
       "      <td>0.170009</td>\n",
       "    </tr>\n",
       "    <tr>\n",
       "      <th>415</th>\n",
       "      <td>1655.0</td>\n",
       "      <td>0.170009</td>\n",
       "      <td>5.663849e-15</td>\n",
       "      <td>0.170009</td>\n",
       "      <td>0.170009</td>\n",
       "      <td>0.170009</td>\n",
       "      <td>0.170009</td>\n",
       "      <td>0.170009</td>\n",
       "    </tr>\n",
       "    <tr>\n",
       "      <th>510</th>\n",
       "      <td>840.0</td>\n",
       "      <td>0.170009</td>\n",
       "      <td>2.499490e-16</td>\n",
       "      <td>0.170009</td>\n",
       "      <td>0.170009</td>\n",
       "      <td>0.170009</td>\n",
       "      <td>0.170009</td>\n",
       "      <td>0.170009</td>\n",
       "    </tr>\n",
       "  </tbody>\n",
       "</table>\n",
       "</div>"
      ],
      "text/plain": [
       "            count      mean           std       min       25%       50%  \\\n",
       "Area code                                                                 \n",
       "408        838.0   0.170009  2.777215e-16  0.170009  0.170009  0.170009   \n",
       "415        1655.0  0.170009  5.663849e-15  0.170009  0.170009  0.170009   \n",
       "510        840.0   0.170009  2.499490e-16  0.170009  0.170009  0.170009   \n",
       "\n",
       "                75%       max  \n",
       "Area code                      \n",
       "408        0.170009  0.170009  \n",
       "415        0.170009  0.170009  \n",
       "510        0.170009  0.170009  "
      ]
     },
     "execution_count": 385,
     "metadata": {},
     "output_type": "execute_result"
    }
   ],
   "source": [
    "data.groupby('Area code')['Day cost'].describe()"
   ]
  },
  {
   "cell_type": "markdown",
   "metadata": {
    "colab_type": "text",
    "id": "LBl-xtX8p8TF"
   },
   "source": [
    "Из результатов mean видно, что тарифы не отличаются"
   ]
  },
  {
   "cell_type": "markdown",
   "metadata": {
    "colab_type": "text",
    "id": "iJwR4zfjp8TG"
   },
   "source": [
    "### Задание 6  \n",
    "  \n",
    "По каждому штату и каждому плану в признаке `Plans` (International и Voice mail) вычислите количество клиентов, подключивших этот план и их долю внутри штата. Пример вывода:\n",
    "  \n",
    "<table border=\"1\" class=\"dataframe\">\n",
    "  <thead>\n",
    "    <tr style=\"text-align: right;\">\n",
    "      <th></th>\n",
    "      <th>State</th>\n",
    "      <th>Plan</th>\n",
    "      <th>Count</th>\n",
    "      <th>Frac</th>\n",
    "    </tr>\n",
    "  </thead>\n",
    "  <tbody>\n",
    "    <tr>\n",
    "      <th>0</th>\n",
    "      <td>state_1</td>\n",
    "      <td>International</td>\n",
    "      <td>40</td>\n",
    "      <td>0.4</td>\n",
    "    </tr>\n",
    "    <tr>\n",
    "      <th>1</th>\n",
    "      <td>state_1</td>\n",
    "      <td>Voice mail</td>\n",
    "      <td>30</td>\n",
    "      <td>0.3</td>\n",
    "    </tr>\n",
    "    <tr>\n",
    "      <th>2</th>\n",
    "      <td>state_2</td>\n",
    "      <td>International</td>\n",
    "      <td>25</td>\n",
    "      <td>0.5</td>\n",
    "    </tr>\n",
    "    <tr>\n",
    "      <th>3</th>\n",
    "      <td>state_2</td>\n",
    "      <td>Voice mail</td>\n",
    "      <td>35</td>\n",
    "      <td>0.7</td>\n",
    "    </tr>\n",
    "  </tbody>\n",
    "</table>"
   ]
  },
  {
   "cell_type": "code",
   "execution_count": 386,
   "metadata": {
    "colab": {},
    "colab_type": "code",
    "collapsed": true,
    "id": "_dGcVbodp8TH"
   },
   "outputs": [],
   "source": [
    "new_data = data.copy()"
   ]
  },
  {
   "cell_type": "code",
   "execution_count": 387,
   "metadata": {
    "colab": {},
    "colab_type": "code",
    "id": "m8U2Nhmvp8TN",
    "outputId": "fd5bb1c9-4bcd-4e76-effd-0f98ac4a41b8"
   },
   "outputs": [
    {
     "data": {
      "text/html": [
       "<div>\n",
       "<style scoped>\n",
       "    .dataframe tbody tr th:only-of-type {\n",
       "        vertical-align: middle;\n",
       "    }\n",
       "\n",
       "    .dataframe tbody tr th {\n",
       "        vertical-align: top;\n",
       "    }\n",
       "\n",
       "    .dataframe thead th {\n",
       "        text-align: right;\n",
       "    }\n",
       "</style>\n",
       "<table border=\"1\" class=\"dataframe\">\n",
       "  <thead>\n",
       "    <tr style=\"text-align: right;\">\n",
       "      <th></th>\n",
       "      <th>ID</th>\n",
       "      <th>Sex</th>\n",
       "      <th>Age</th>\n",
       "      <th>State</th>\n",
       "      <th>Account length</th>\n",
       "      <th>Phone number</th>\n",
       "      <th>Plans</th>\n",
       "      <th>Number vmail messages</th>\n",
       "      <th>Total day minutes</th>\n",
       "      <th>Total day calls</th>\n",
       "      <th>Total day charge</th>\n",
       "      <th>Total eve minutes</th>\n",
       "      <th>...</th>\n",
       "      <th>Total night charge</th>\n",
       "      <th>Total intl minutes</th>\n",
       "      <th>Total intl calls</th>\n",
       "      <th>Total intl charge</th>\n",
       "      <th>Total charge</th>\n",
       "      <th>Customer service calls</th>\n",
       "      <th>Churn</th>\n",
       "      <th>Area code</th>\n",
       "      <th>Night cost</th>\n",
       "      <th>Intl cost</th>\n",
       "      <th>Day cost</th>\n",
       "      <th>Eve cost</th>\n",
       "    </tr>\n",
       "  </thead>\n",
       "  <tbody>\n",
       "    <tr>\n",
       "      <th>0</th>\n",
       "      <td>40075</td>\n",
       "      <td>Female</td>\n",
       "      <td>37.000000</td>\n",
       "      <td>KS</td>\n",
       "      <td>128</td>\n",
       "      <td>415 424 17 55</td>\n",
       "      <td>Voice mail</td>\n",
       "      <td>25</td>\n",
       "      <td>265.1</td>\n",
       "      <td>110.0</td>\n",
       "      <td>45.07</td>\n",
       "      <td>197.4</td>\n",
       "      <td>...</td>\n",
       "      <td>11.01</td>\n",
       "      <td>10.0</td>\n",
       "      <td>3.0</td>\n",
       "      <td>2.70</td>\n",
       "      <td>75.56</td>\n",
       "      <td>1</td>\n",
       "      <td>False</td>\n",
       "      <td>415</td>\n",
       "      <td>0.044988</td>\n",
       "      <td>0.270073</td>\n",
       "      <td>0.170009</td>\n",
       "      <td>0.084994</td>\n",
       "    </tr>\n",
       "    <tr>\n",
       "      <th>1</th>\n",
       "      <td>17475</td>\n",
       "      <td>Female</td>\n",
       "      <td>34.504501</td>\n",
       "      <td>OH</td>\n",
       "      <td>107</td>\n",
       "      <td>415 759 41 43</td>\n",
       "      <td>Voice mail</td>\n",
       "      <td>26</td>\n",
       "      <td>161.6</td>\n",
       "      <td>123.0</td>\n",
       "      <td>27.47</td>\n",
       "      <td>195.5</td>\n",
       "      <td>...</td>\n",
       "      <td>11.45</td>\n",
       "      <td>13.7</td>\n",
       "      <td>3.0</td>\n",
       "      <td>3.70</td>\n",
       "      <td>59.24</td>\n",
       "      <td>1</td>\n",
       "      <td>False</td>\n",
       "      <td>415</td>\n",
       "      <td>0.044988</td>\n",
       "      <td>0.270073</td>\n",
       "      <td>0.170009</td>\n",
       "      <td>0.084994</td>\n",
       "    </tr>\n",
       "    <tr>\n",
       "      <th>2</th>\n",
       "      <td>62242</td>\n",
       "      <td>Female</td>\n",
       "      <td>19.000000</td>\n",
       "      <td>NJ</td>\n",
       "      <td>137</td>\n",
       "      <td>415 213 11 40</td>\n",
       "      <td>None</td>\n",
       "      <td>0</td>\n",
       "      <td>243.4</td>\n",
       "      <td>114.0</td>\n",
       "      <td>41.38</td>\n",
       "      <td>121.2</td>\n",
       "      <td>...</td>\n",
       "      <td>7.32</td>\n",
       "      <td>12.2</td>\n",
       "      <td>5.0</td>\n",
       "      <td>3.29</td>\n",
       "      <td>62.29</td>\n",
       "      <td>0</td>\n",
       "      <td>False</td>\n",
       "      <td>415</td>\n",
       "      <td>0.044988</td>\n",
       "      <td>0.270073</td>\n",
       "      <td>0.170009</td>\n",
       "      <td>0.084994</td>\n",
       "    </tr>\n",
       "    <tr>\n",
       "      <th>3</th>\n",
       "      <td>81231</td>\n",
       "      <td>Female</td>\n",
       "      <td>31.000000</td>\n",
       "      <td>OH</td>\n",
       "      <td>84</td>\n",
       "      <td>408 487 53 35</td>\n",
       "      <td>International</td>\n",
       "      <td>0</td>\n",
       "      <td>299.4</td>\n",
       "      <td>71.0</td>\n",
       "      <td>50.90</td>\n",
       "      <td>61.9</td>\n",
       "      <td>...</td>\n",
       "      <td>8.86</td>\n",
       "      <td>6.6</td>\n",
       "      <td>7.0</td>\n",
       "      <td>1.78</td>\n",
       "      <td>66.80</td>\n",
       "      <td>2</td>\n",
       "      <td>False</td>\n",
       "      <td>408</td>\n",
       "      <td>0.044988</td>\n",
       "      <td>0.270073</td>\n",
       "      <td>0.170009</td>\n",
       "      <td>0.084994</td>\n",
       "    </tr>\n",
       "    <tr>\n",
       "      <th>4</th>\n",
       "      <td>78542</td>\n",
       "      <td>Female</td>\n",
       "      <td>30.000000</td>\n",
       "      <td>OK</td>\n",
       "      <td>75</td>\n",
       "      <td>415 509 25 27</td>\n",
       "      <td>International</td>\n",
       "      <td>0</td>\n",
       "      <td>166.7</td>\n",
       "      <td>113.0</td>\n",
       "      <td>28.34</td>\n",
       "      <td>148.3</td>\n",
       "      <td>...</td>\n",
       "      <td>8.41</td>\n",
       "      <td>10.1</td>\n",
       "      <td>3.0</td>\n",
       "      <td>2.73</td>\n",
       "      <td>52.09</td>\n",
       "      <td>3</td>\n",
       "      <td>False</td>\n",
       "      <td>415</td>\n",
       "      <td>0.044988</td>\n",
       "      <td>0.270073</td>\n",
       "      <td>0.170009</td>\n",
       "      <td>0.084994</td>\n",
       "    </tr>\n",
       "  </tbody>\n",
       "</table>\n",
       "<p>5 rows × 28 columns</p>\n",
       "</div>"
      ],
      "text/plain": [
       "      ID     Sex        Age State  Account length   Phone number  \\\n",
       "0  40075  Female  37.000000  KS    128             415 424 17 55   \n",
       "1  17475  Female  34.504501  OH    107             415 759 41 43   \n",
       "2  62242  Female  19.000000  NJ    137             415 213 11 40   \n",
       "3  81231  Female  31.000000  OH    84              408 487 53 35   \n",
       "4  78542  Female  30.000000  OK    75              415 509 25 27   \n",
       "\n",
       "           Plans  Number vmail messages  Total day minutes  Total day calls  \\\n",
       "0  Voice mail     25                     265.1              110.0             \n",
       "1  Voice mail     26                     161.6              123.0             \n",
       "2  None           0                      243.4              114.0             \n",
       "3  International  0                      299.4              71.0              \n",
       "4  International  0                      166.7              113.0             \n",
       "\n",
       "   Total day charge  Total eve minutes    ...     Total night charge  \\\n",
       "0  45.07             197.4                ...     11.01                \n",
       "1  27.47             195.5                ...     11.45                \n",
       "2  41.38             121.2                ...     7.32                 \n",
       "3  50.90             61.9                 ...     8.86                 \n",
       "4  28.34             148.3                ...     8.41                 \n",
       "\n",
       "   Total intl minutes  Total intl calls  Total intl charge  Total charge  \\\n",
       "0  10.0                3.0               2.70               75.56          \n",
       "1  13.7                3.0               3.70               59.24          \n",
       "2  12.2                5.0               3.29               62.29          \n",
       "3  6.6                 7.0               1.78               66.80          \n",
       "4  10.1                3.0               2.73               52.09          \n",
       "\n",
       "   Customer service calls  Churn  Area code  Night cost  Intl cost  Day cost  \\\n",
       "0  1                       False  415        0.044988    0.270073   0.170009   \n",
       "1  1                       False  415        0.044988    0.270073   0.170009   \n",
       "2  0                       False  415        0.044988    0.270073   0.170009   \n",
       "3  2                       False  408        0.044988    0.270073   0.170009   \n",
       "4  3                       False  415        0.044988    0.270073   0.170009   \n",
       "\n",
       "   Eve cost  \n",
       "0  0.084994  \n",
       "1  0.084994  \n",
       "2  0.084994  \n",
       "3  0.084994  \n",
       "4  0.084994  \n",
       "\n",
       "[5 rows x 28 columns]"
      ]
     },
     "execution_count": 387,
     "metadata": {},
     "output_type": "execute_result"
    }
   ],
   "source": [
    "new_data.head(5)"
   ]
  },
  {
   "cell_type": "code",
   "execution_count": 388,
   "metadata": {
    "colab": {},
    "colab_type": "code",
    "collapsed": true,
    "id": "B6Cc5X1rp8TS"
   },
   "outputs": [],
   "source": [
    "new_data.drop(new_data[new_data['Plans'] == 'None'].index, inplace = True)\n",
    "\n",
    "new_data = new_data.reset_index()\n",
    "\n",
    "for i in range(len(new_data)):\n",
    "    if new_data.Plans[i] == 'International, Voice mail':\n",
    "        new_data.append(new_data.loc[i], ignore_index = True)\n",
    "        \n",
    "        new_data.Plans[i] = 'International'\n",
    "        new_data.Plans[len(new_data) - 1] = 'Voice mail'\n",
    "        \n",
    "plans = new_data.groupby(['State', 'Plans'])['ID'].count().reset_index()\n",
    "states = data['State'].value_counts().reset_index().rename(index=str, columns = {'index' : 'State', 'State' : 'Count'})\n",
    "\n",
    "new_data = pd.merge(plans, states)\n",
    "\n",
    "new_data['Frac'] = new_data['ID'] / new_data['Count']\n",
    "new_data.drop(['Count'], axis = 1, inplace=True)\n",
    "\n",
    "new_data.rename(index=str, columns = {'ID' : 'Count'}, inplace=True)"
   ]
  },
  {
   "cell_type": "code",
   "execution_count": 389,
   "metadata": {
    "colab": {},
    "colab_type": "code",
    "id": "q6WiJF1Mp8TV",
    "outputId": "1ff9b90c-dc04-4d7d-b204-4b354ee4ae39"
   },
   "outputs": [
    {
     "data": {
      "text/html": [
       "<div>\n",
       "<style scoped>\n",
       "    .dataframe tbody tr th:only-of-type {\n",
       "        vertical-align: middle;\n",
       "    }\n",
       "\n",
       "    .dataframe tbody tr th {\n",
       "        vertical-align: top;\n",
       "    }\n",
       "\n",
       "    .dataframe thead th {\n",
       "        text-align: right;\n",
       "    }\n",
       "</style>\n",
       "<table border=\"1\" class=\"dataframe\">\n",
       "  <thead>\n",
       "    <tr style=\"text-align: right;\">\n",
       "      <th></th>\n",
       "      <th>State</th>\n",
       "      <th>Plans</th>\n",
       "      <th>Count</th>\n",
       "      <th>Frac</th>\n",
       "    </tr>\n",
       "  </thead>\n",
       "  <tbody>\n",
       "    <tr>\n",
       "      <th>0</th>\n",
       "      <td>AK</td>\n",
       "      <td>International</td>\n",
       "      <td>4</td>\n",
       "      <td>0.076923</td>\n",
       "    </tr>\n",
       "    <tr>\n",
       "      <th>1</th>\n",
       "      <td>AK</td>\n",
       "      <td>Voice mail</td>\n",
       "      <td>14</td>\n",
       "      <td>0.269231</td>\n",
       "    </tr>\n",
       "    <tr>\n",
       "      <th>2</th>\n",
       "      <td>AL</td>\n",
       "      <td>International</td>\n",
       "      <td>8</td>\n",
       "      <td>0.100000</td>\n",
       "    </tr>\n",
       "    <tr>\n",
       "      <th>3</th>\n",
       "      <td>AL</td>\n",
       "      <td>Voice mail</td>\n",
       "      <td>20</td>\n",
       "      <td>0.250000</td>\n",
       "    </tr>\n",
       "    <tr>\n",
       "      <th>4</th>\n",
       "      <td>AR</td>\n",
       "      <td>International</td>\n",
       "      <td>8</td>\n",
       "      <td>0.145455</td>\n",
       "    </tr>\n",
       "    <tr>\n",
       "      <th>5</th>\n",
       "      <td>AR</td>\n",
       "      <td>Voice mail</td>\n",
       "      <td>13</td>\n",
       "      <td>0.236364</td>\n",
       "    </tr>\n",
       "    <tr>\n",
       "      <th>6</th>\n",
       "      <td>AZ</td>\n",
       "      <td>International</td>\n",
       "      <td>3</td>\n",
       "      <td>0.046875</td>\n",
       "    </tr>\n",
       "    <tr>\n",
       "      <th>7</th>\n",
       "      <td>AZ</td>\n",
       "      <td>Voice mail</td>\n",
       "      <td>18</td>\n",
       "      <td>0.281250</td>\n",
       "    </tr>\n",
       "    <tr>\n",
       "      <th>8</th>\n",
       "      <td>CA</td>\n",
       "      <td>International</td>\n",
       "      <td>4</td>\n",
       "      <td>0.117647</td>\n",
       "    </tr>\n",
       "    <tr>\n",
       "      <th>9</th>\n",
       "      <td>CA</td>\n",
       "      <td>Voice mail</td>\n",
       "      <td>11</td>\n",
       "      <td>0.323529</td>\n",
       "    </tr>\n",
       "  </tbody>\n",
       "</table>\n",
       "</div>"
      ],
      "text/plain": [
       "  State          Plans  Count      Frac\n",
       "0  AK    International  4      0.076923\n",
       "1  AK    Voice mail     14     0.269231\n",
       "2  AL    International  8      0.100000\n",
       "3  AL    Voice mail     20     0.250000\n",
       "4  AR    International  8      0.145455\n",
       "5  AR    Voice mail     13     0.236364\n",
       "6  AZ    International  3      0.046875\n",
       "7  AZ    Voice mail     18     0.281250\n",
       "8  CA    International  4      0.117647\n",
       "9  CA    Voice mail     11     0.323529"
      ]
     },
     "execution_count": 389,
     "metadata": {},
     "output_type": "execute_result"
    }
   ],
   "source": [
    "new_data.head(10)"
   ]
  },
  {
   "cell_type": "markdown",
   "metadata": {
    "colab_type": "text",
    "id": "8zjxd_FEp8Ta"
   },
   "source": [
    "### Задание 7  \n",
    "  \n",
    "Для нечисловых признаков выполните преобразование к числовому виду. Обоснуйте выбранное преобразование для каждого признака. "
   ]
  },
  {
   "cell_type": "code",
   "execution_count": 390,
   "metadata": {
    "colab": {},
    "colab_type": "code",
    "id": "BoKshyySp8Ta",
    "outputId": "856a57ad-cd33-4a85-e5be-f8bdc4961024"
   },
   "outputs": [
    {
     "data": {
      "text/html": [
       "<div>\n",
       "<style scoped>\n",
       "    .dataframe tbody tr th:only-of-type {\n",
       "        vertical-align: middle;\n",
       "    }\n",
       "\n",
       "    .dataframe tbody tr th {\n",
       "        vertical-align: top;\n",
       "    }\n",
       "\n",
       "    .dataframe thead th {\n",
       "        text-align: right;\n",
       "    }\n",
       "</style>\n",
       "<table border=\"1\" class=\"dataframe\">\n",
       "  <thead>\n",
       "    <tr style=\"text-align: right;\">\n",
       "      <th></th>\n",
       "      <th>ID</th>\n",
       "      <th>Sex</th>\n",
       "      <th>Age</th>\n",
       "      <th>State</th>\n",
       "      <th>Account length</th>\n",
       "      <th>Phone number</th>\n",
       "      <th>Plans</th>\n",
       "      <th>Number vmail messages</th>\n",
       "      <th>Total day minutes</th>\n",
       "      <th>Total day calls</th>\n",
       "      <th>Total day charge</th>\n",
       "      <th>Total eve minutes</th>\n",
       "      <th>...</th>\n",
       "      <th>Total night charge</th>\n",
       "      <th>Total intl minutes</th>\n",
       "      <th>Total intl calls</th>\n",
       "      <th>Total intl charge</th>\n",
       "      <th>Total charge</th>\n",
       "      <th>Customer service calls</th>\n",
       "      <th>Churn</th>\n",
       "      <th>Area code</th>\n",
       "      <th>Night cost</th>\n",
       "      <th>Intl cost</th>\n",
       "      <th>Day cost</th>\n",
       "      <th>Eve cost</th>\n",
       "    </tr>\n",
       "  </thead>\n",
       "  <tbody>\n",
       "    <tr>\n",
       "      <th>0</th>\n",
       "      <td>40075</td>\n",
       "      <td>0</td>\n",
       "      <td>37.000000</td>\n",
       "      <td>KS</td>\n",
       "      <td>128</td>\n",
       "      <td>4154241755</td>\n",
       "      <td>1</td>\n",
       "      <td>25</td>\n",
       "      <td>265.1</td>\n",
       "      <td>110.0</td>\n",
       "      <td>45.07</td>\n",
       "      <td>197.4</td>\n",
       "      <td>...</td>\n",
       "      <td>11.01</td>\n",
       "      <td>10.0</td>\n",
       "      <td>3.0</td>\n",
       "      <td>2.70</td>\n",
       "      <td>75.56</td>\n",
       "      <td>1</td>\n",
       "      <td>False</td>\n",
       "      <td>415</td>\n",
       "      <td>0.044988</td>\n",
       "      <td>0.270073</td>\n",
       "      <td>0.170009</td>\n",
       "      <td>0.084994</td>\n",
       "    </tr>\n",
       "    <tr>\n",
       "      <th>1</th>\n",
       "      <td>17475</td>\n",
       "      <td>0</td>\n",
       "      <td>34.504501</td>\n",
       "      <td>OH</td>\n",
       "      <td>107</td>\n",
       "      <td>4157594143</td>\n",
       "      <td>1</td>\n",
       "      <td>26</td>\n",
       "      <td>161.6</td>\n",
       "      <td>123.0</td>\n",
       "      <td>27.47</td>\n",
       "      <td>195.5</td>\n",
       "      <td>...</td>\n",
       "      <td>11.45</td>\n",
       "      <td>13.7</td>\n",
       "      <td>3.0</td>\n",
       "      <td>3.70</td>\n",
       "      <td>59.24</td>\n",
       "      <td>1</td>\n",
       "      <td>False</td>\n",
       "      <td>415</td>\n",
       "      <td>0.044988</td>\n",
       "      <td>0.270073</td>\n",
       "      <td>0.170009</td>\n",
       "      <td>0.084994</td>\n",
       "    </tr>\n",
       "    <tr>\n",
       "      <th>2</th>\n",
       "      <td>62242</td>\n",
       "      <td>0</td>\n",
       "      <td>19.000000</td>\n",
       "      <td>NJ</td>\n",
       "      <td>137</td>\n",
       "      <td>4152131140</td>\n",
       "      <td>0</td>\n",
       "      <td>0</td>\n",
       "      <td>243.4</td>\n",
       "      <td>114.0</td>\n",
       "      <td>41.38</td>\n",
       "      <td>121.2</td>\n",
       "      <td>...</td>\n",
       "      <td>7.32</td>\n",
       "      <td>12.2</td>\n",
       "      <td>5.0</td>\n",
       "      <td>3.29</td>\n",
       "      <td>62.29</td>\n",
       "      <td>0</td>\n",
       "      <td>False</td>\n",
       "      <td>415</td>\n",
       "      <td>0.044988</td>\n",
       "      <td>0.270073</td>\n",
       "      <td>0.170009</td>\n",
       "      <td>0.084994</td>\n",
       "    </tr>\n",
       "    <tr>\n",
       "      <th>3</th>\n",
       "      <td>81231</td>\n",
       "      <td>0</td>\n",
       "      <td>31.000000</td>\n",
       "      <td>OH</td>\n",
       "      <td>84</td>\n",
       "      <td>4084875335</td>\n",
       "      <td>2</td>\n",
       "      <td>0</td>\n",
       "      <td>299.4</td>\n",
       "      <td>71.0</td>\n",
       "      <td>50.90</td>\n",
       "      <td>61.9</td>\n",
       "      <td>...</td>\n",
       "      <td>8.86</td>\n",
       "      <td>6.6</td>\n",
       "      <td>7.0</td>\n",
       "      <td>1.78</td>\n",
       "      <td>66.80</td>\n",
       "      <td>2</td>\n",
       "      <td>False</td>\n",
       "      <td>408</td>\n",
       "      <td>0.044988</td>\n",
       "      <td>0.270073</td>\n",
       "      <td>0.170009</td>\n",
       "      <td>0.084994</td>\n",
       "    </tr>\n",
       "    <tr>\n",
       "      <th>4</th>\n",
       "      <td>78542</td>\n",
       "      <td>0</td>\n",
       "      <td>30.000000</td>\n",
       "      <td>OK</td>\n",
       "      <td>75</td>\n",
       "      <td>4155092527</td>\n",
       "      <td>2</td>\n",
       "      <td>0</td>\n",
       "      <td>166.7</td>\n",
       "      <td>113.0</td>\n",
       "      <td>28.34</td>\n",
       "      <td>148.3</td>\n",
       "      <td>...</td>\n",
       "      <td>8.41</td>\n",
       "      <td>10.1</td>\n",
       "      <td>3.0</td>\n",
       "      <td>2.73</td>\n",
       "      <td>52.09</td>\n",
       "      <td>3</td>\n",
       "      <td>False</td>\n",
       "      <td>415</td>\n",
       "      <td>0.044988</td>\n",
       "      <td>0.270073</td>\n",
       "      <td>0.170009</td>\n",
       "      <td>0.084994</td>\n",
       "    </tr>\n",
       "  </tbody>\n",
       "</table>\n",
       "<p>5 rows × 28 columns</p>\n",
       "</div>"
      ],
      "text/plain": [
       "      ID Sex        Age State  Account length  Phone number Plans  \\\n",
       "0  40075  0   37.000000  KS    128             4154241755    1      \n",
       "1  17475  0   34.504501  OH    107             4157594143    1      \n",
       "2  62242  0   19.000000  NJ    137             4152131140    0      \n",
       "3  81231  0   31.000000  OH    84              4084875335    2      \n",
       "4  78542  0   30.000000  OK    75              4155092527    2      \n",
       "\n",
       "   Number vmail messages  Total day minutes  Total day calls  \\\n",
       "0  25                     265.1              110.0             \n",
       "1  26                     161.6              123.0             \n",
       "2  0                      243.4              114.0             \n",
       "3  0                      299.4              71.0              \n",
       "4  0                      166.7              113.0             \n",
       "\n",
       "   Total day charge  Total eve minutes    ...     Total night charge  \\\n",
       "0  45.07             197.4                ...     11.01                \n",
       "1  27.47             195.5                ...     11.45                \n",
       "2  41.38             121.2                ...     7.32                 \n",
       "3  50.90             61.9                 ...     8.86                 \n",
       "4  28.34             148.3                ...     8.41                 \n",
       "\n",
       "   Total intl minutes  Total intl calls  Total intl charge  Total charge  \\\n",
       "0  10.0                3.0               2.70               75.56          \n",
       "1  13.7                3.0               3.70               59.24          \n",
       "2  12.2                5.0               3.29               62.29          \n",
       "3  6.6                 7.0               1.78               66.80          \n",
       "4  10.1                3.0               2.73               52.09          \n",
       "\n",
       "   Customer service calls  Churn  Area code  Night cost  Intl cost  Day cost  \\\n",
       "0  1                       False  415        0.044988    0.270073   0.170009   \n",
       "1  1                       False  415        0.044988    0.270073   0.170009   \n",
       "2  0                       False  415        0.044988    0.270073   0.170009   \n",
       "3  2                       False  408        0.044988    0.270073   0.170009   \n",
       "4  3                       False  415        0.044988    0.270073   0.170009   \n",
       "\n",
       "   Eve cost  \n",
       "0  0.084994  \n",
       "1  0.084994  \n",
       "2  0.084994  \n",
       "3  0.084994  \n",
       "4  0.084994  \n",
       "\n",
       "[5 rows x 28 columns]"
      ]
     },
     "execution_count": 390,
     "metadata": {},
     "output_type": "execute_result"
    }
   ],
   "source": [
    "data = data.replace({'Plans': {'None' : '0', 'Voice mail' : '1', 'International' : '2', 'International, Voice mail' : '3'}})\n",
    "\n",
    "data = data.replace({'Sex': {'Female' : '0', 'Male' : '1'}})\n",
    "\n",
    "data['Phone number'] = data['Phone number'].str.replace(' ', '').apply(pd.to_numeric)\n",
    "\n",
    "data.head(5)"
   ]
  },
  {
   "cell_type": "code",
   "execution_count": 391,
   "metadata": {
    "colab": {},
    "colab_type": "code",
    "id": "8UXEXJDTp8Te"
   },
   "outputs": [],
   "source": [
    "list_states = data['State'].values\n",
    "unique_states = np.unique(list_states)\n",
    "\n",
    "for i in range(0, len(unique_states)):\n",
    "    data['State'] = data['State'].str.replace(str(unique_states[i]), str(i))\n",
    "    \n",
    "data[['State']] = data[['State']].apply(pd.to_numeric)"
   ]
  },
  {
   "cell_type": "code",
   "execution_count": 392,
   "metadata": {
    "colab": {},
    "colab_type": "code",
    "collapsed": true,
    "id": "Un7ys4ZOp8Tk"
   },
   "outputs": [],
   "source": [
    "data['Sex'] = data['Sex'].astype('int64')\n",
    "data['Plans'] = data['Plans'].astype('int64')"
   ]
  },
  {
   "cell_type": "code",
   "execution_count": 393,
   "metadata": {
    "colab": {},
    "colab_type": "code",
    "id": "dEle0Pt_p8To",
    "outputId": "5a15075a-0cca-45cd-9bf8-141814bb752d"
   },
   "outputs": [
    {
     "name": "stdout",
     "output_type": "stream",
     "text": [
      "<class 'pandas.core.frame.DataFrame'>\n",
      "RangeIndex: 3333 entries, 0 to 3332\n",
      "Data columns (total 28 columns):\n",
      "ID                        3333 non-null int64\n",
      "Sex                       3333 non-null int64\n",
      "Age                       3333 non-null float64\n",
      "State                     3333 non-null int64\n",
      "Account length            3333 non-null int64\n",
      "Phone number              3333 non-null int64\n",
      "Plans                     3333 non-null int64\n",
      "Number vmail messages     3333 non-null int64\n",
      "Total day minutes         3333 non-null float64\n",
      "Total day calls           3333 non-null float64\n",
      "Total day charge          3333 non-null float64\n",
      "Total eve minutes         3333 non-null float64\n",
      "Total eve calls           3333 non-null float64\n",
      "Total eve charge          3333 non-null float64\n",
      "Total night minutes       3333 non-null float64\n",
      "Total night calls         3333 non-null float64\n",
      "Total night charge        3333 non-null float64\n",
      "Total intl minutes        3333 non-null float64\n",
      "Total intl calls          3333 non-null float64\n",
      "Total intl charge         3333 non-null float64\n",
      "Total charge              3333 non-null float64\n",
      "Customer service calls    3333 non-null int64\n",
      "Churn                     3333 non-null bool\n",
      "Area code                 3333 non-null int64\n",
      "Night cost                3333 non-null float64\n",
      "Intl cost                 3333 non-null float64\n",
      "Day cost                  3333 non-null float64\n",
      "Eve cost                  3333 non-null float64\n",
      "dtypes: bool(1), float64(18), int64(9)\n",
      "memory usage: 706.4 KB\n"
     ]
    }
   ],
   "source": [
    "data.info()"
   ]
  },
  {
   "cell_type": "markdown",
   "metadata": {
    "colab_type": "text",
    "id": "ziK2b4Fmp8Tw"
   },
   "source": [
    "### Задание 8  \n",
    "  \n",
    "Сколько линейно-зависимых признаков присуствует в данных?  \n",
    "Определите и удалите признаки, которые линейно зависят от остальных."
   ]
  },
  {
   "cell_type": "code",
   "execution_count": 394,
   "metadata": {
    "colab": {},
    "colab_type": "code",
    "id": "yUMoPkFbp8Tx",
    "outputId": "6bc4dcf2-a835-46a6-dbbb-c92138ff8b0f"
   },
   "outputs": [
    {
     "data": {
      "text/html": [
       "<div>\n",
       "<style scoped>\n",
       "    .dataframe tbody tr th:only-of-type {\n",
       "        vertical-align: middle;\n",
       "    }\n",
       "\n",
       "    .dataframe tbody tr th {\n",
       "        vertical-align: top;\n",
       "    }\n",
       "\n",
       "    .dataframe thead th {\n",
       "        text-align: right;\n",
       "    }\n",
       "</style>\n",
       "<table border=\"1\" class=\"dataframe\">\n",
       "  <thead>\n",
       "    <tr style=\"text-align: right;\">\n",
       "      <th></th>\n",
       "      <th>ID</th>\n",
       "      <th>Sex</th>\n",
       "      <th>Age</th>\n",
       "      <th>State</th>\n",
       "      <th>Account length</th>\n",
       "      <th>Phone number</th>\n",
       "      <th>Plans</th>\n",
       "      <th>Number vmail messages</th>\n",
       "      <th>Total day minutes</th>\n",
       "      <th>Total day calls</th>\n",
       "      <th>Total day charge</th>\n",
       "      <th>Total eve minutes</th>\n",
       "      <th>...</th>\n",
       "      <th>Total night charge</th>\n",
       "      <th>Total intl minutes</th>\n",
       "      <th>Total intl calls</th>\n",
       "      <th>Total intl charge</th>\n",
       "      <th>Total charge</th>\n",
       "      <th>Customer service calls</th>\n",
       "      <th>Churn</th>\n",
       "      <th>Area code</th>\n",
       "      <th>Night cost</th>\n",
       "      <th>Intl cost</th>\n",
       "      <th>Day cost</th>\n",
       "      <th>Eve cost</th>\n",
       "    </tr>\n",
       "  </thead>\n",
       "  <tbody>\n",
       "    <tr>\n",
       "      <th>ID</th>\n",
       "      <td>1.000000e+00</td>\n",
       "      <td>-1.044890e-02</td>\n",
       "      <td>-1.419577e-02</td>\n",
       "      <td>-2.394812e-02</td>\n",
       "      <td>-1.659955e-02</td>\n",
       "      <td>-1.642188e-04</td>\n",
       "      <td>1.645982e-02</td>\n",
       "      <td>-2.036087e-02</td>\n",
       "      <td>1.073995e-02</td>\n",
       "      <td>5.606874e-02</td>\n",
       "      <td>1.073951e-02</td>\n",
       "      <td>1.909680e-02</td>\n",
       "      <td>...</td>\n",
       "      <td>-1.023016e-03</td>\n",
       "      <td>1.582428e-02</td>\n",
       "      <td>8.416481e-03</td>\n",
       "      <td>1.582630e-02</td>\n",
       "      <td>1.740054e-02</td>\n",
       "      <td>1.657236e-02</td>\n",
       "      <td>4.713963e-02</td>\n",
       "      <td>5.724255e-05</td>\n",
       "      <td>5.608721e-16</td>\n",
       "      <td>3.736663e-16</td>\n",
       "      <td>-4.388292e-16</td>\n",
       "      <td>4.448992e-16</td>\n",
       "    </tr>\n",
       "    <tr>\n",
       "      <th>Sex</th>\n",
       "      <td>-1.044890e-02</td>\n",
       "      <td>1.000000e+00</td>\n",
       "      <td>9.690194e-03</td>\n",
       "      <td>-2.471007e-02</td>\n",
       "      <td>-3.322147e-02</td>\n",
       "      <td>-1.837849e-02</td>\n",
       "      <td>1.931164e-02</td>\n",
       "      <td>6.578438e-03</td>\n",
       "      <td>2.401611e-02</td>\n",
       "      <td>2.532569e-02</td>\n",
       "      <td>2.402348e-02</td>\n",
       "      <td>6.159425e-04</td>\n",
       "      <td>...</td>\n",
       "      <td>4.655161e-03</td>\n",
       "      <td>2.336080e-02</td>\n",
       "      <td>-5.576471e-03</td>\n",
       "      <td>2.347708e-02</td>\n",
       "      <td>2.337831e-02</td>\n",
       "      <td>8.171014e-03</td>\n",
       "      <td>3.413041e-02</td>\n",
       "      <td>-1.823072e-02</td>\n",
       "      <td>-2.709624e-16</td>\n",
       "      <td>4.290209e-16</td>\n",
       "      <td>-4.057083e-16</td>\n",
       "      <td>3.007377e-16</td>\n",
       "    </tr>\n",
       "    <tr>\n",
       "      <th>Age</th>\n",
       "      <td>-1.419577e-02</td>\n",
       "      <td>9.690194e-03</td>\n",
       "      <td>1.000000e+00</td>\n",
       "      <td>1.831308e-02</td>\n",
       "      <td>-2.319941e-02</td>\n",
       "      <td>-8.004639e-03</td>\n",
       "      <td>-3.417345e-02</td>\n",
       "      <td>-1.434118e-03</td>\n",
       "      <td>-8.822428e-03</td>\n",
       "      <td>1.358471e-02</td>\n",
       "      <td>-8.829204e-03</td>\n",
       "      <td>-1.164749e-02</td>\n",
       "      <td>...</td>\n",
       "      <td>-2.311171e-02</td>\n",
       "      <td>-2.686698e-02</td>\n",
       "      <td>-3.585190e-02</td>\n",
       "      <td>-2.685821e-02</td>\n",
       "      <td>-1.851726e-02</td>\n",
       "      <td>1.099395e-02</td>\n",
       "      <td>-1.927359e-02</td>\n",
       "      <td>-7.992670e-03</td>\n",
       "      <td>1.227942e-13</td>\n",
       "      <td>-1.228343e-13</td>\n",
       "      <td>1.231133e-13</td>\n",
       "      <td>-1.227534e-13</td>\n",
       "    </tr>\n",
       "    <tr>\n",
       "      <th>State</th>\n",
       "      <td>-2.394812e-02</td>\n",
       "      <td>-2.471007e-02</td>\n",
       "      <td>1.831308e-02</td>\n",
       "      <td>1.000000e+00</td>\n",
       "      <td>3.677624e-03</td>\n",
       "      <td>1.583891e-02</td>\n",
       "      <td>-2.269752e-02</td>\n",
       "      <td>-2.776213e-02</td>\n",
       "      <td>-1.470829e-03</td>\n",
       "      <td>2.876444e-03</td>\n",
       "      <td>-1.470696e-03</td>\n",
       "      <td>1.693419e-02</td>\n",
       "      <td>...</td>\n",
       "      <td>2.754260e-02</td>\n",
       "      <td>-4.675942e-03</td>\n",
       "      <td>1.513684e-02</td>\n",
       "      <td>-4.665382e-03</td>\n",
       "      <td>1.050271e-02</td>\n",
       "      <td>-2.586065e-02</td>\n",
       "      <td>7.780314e-03</td>\n",
       "      <td>1.581410e-02</td>\n",
       "      <td>-6.650370e-16</td>\n",
       "      <td>5.739001e-16</td>\n",
       "      <td>-2.412714e-16</td>\n",
       "      <td>-2.947027e-16</td>\n",
       "    </tr>\n",
       "    <tr>\n",
       "      <th>Account length</th>\n",
       "      <td>-1.659955e-02</td>\n",
       "      <td>-3.322147e-02</td>\n",
       "      <td>-2.319941e-02</td>\n",
       "      <td>3.677624e-03</td>\n",
       "      <td>1.000000e+00</td>\n",
       "      <td>-1.246845e-02</td>\n",
       "      <td>2.142851e-02</td>\n",
       "      <td>-4.627824e-03</td>\n",
       "      <td>1.114693e-02</td>\n",
       "      <td>4.189633e-02</td>\n",
       "      <td>1.114460e-02</td>\n",
       "      <td>-2.495030e-03</td>\n",
       "      <td>...</td>\n",
       "      <td>-5.322643e-03</td>\n",
       "      <td>1.181584e-02</td>\n",
       "      <td>2.301951e-02</td>\n",
       "      <td>1.186038e-02</td>\n",
       "      <td>8.329346e-03</td>\n",
       "      <td>-3.795939e-03</td>\n",
       "      <td>1.654074e-02</td>\n",
       "      <td>-1.246350e-02</td>\n",
       "      <td>1.791777e-15</td>\n",
       "      <td>-1.282276e-15</td>\n",
       "      <td>1.672809e-15</td>\n",
       "      <td>1.042363e-15</td>\n",
       "    </tr>\n",
       "    <tr>\n",
       "      <th>Phone number</th>\n",
       "      <td>-1.642188e-04</td>\n",
       "      <td>-1.837849e-02</td>\n",
       "      <td>-8.004639e-03</td>\n",
       "      <td>1.583891e-02</td>\n",
       "      <td>-1.246845e-02</td>\n",
       "      <td>1.000000e+00</td>\n",
       "      <td>3.817973e-02</td>\n",
       "      <td>-1.978761e-03</td>\n",
       "      <td>-5.065636e-03</td>\n",
       "      <td>-7.510867e-03</td>\n",
       "      <td>-5.066155e-03</td>\n",
       "      <td>4.468693e-03</td>\n",
       "      <td>...</td>\n",
       "      <td>-3.293703e-03</td>\n",
       "      <td>-1.631452e-02</td>\n",
       "      <td>-2.284824e-02</td>\n",
       "      <td>-1.640984e-02</td>\n",
       "      <td>-4.388152e-03</td>\n",
       "      <td>2.761395e-02</td>\n",
       "      <td>6.135952e-03</td>\n",
       "      <td>9.999814e-01</td>\n",
       "      <td>4.593260e-17</td>\n",
       "      <td>5.358594e-16</td>\n",
       "      <td>-4.591657e-16</td>\n",
       "      <td>5.677029e-17</td>\n",
       "    </tr>\n",
       "    <tr>\n",
       "      <th>Plans</th>\n",
       "      <td>1.645982e-02</td>\n",
       "      <td>1.931164e-02</td>\n",
       "      <td>-3.417345e-02</td>\n",
       "      <td>-2.269752e-02</td>\n",
       "      <td>2.142851e-02</td>\n",
       "      <td>3.817973e-02</td>\n",
       "      <td>1.000000e+00</td>\n",
       "      <td>5.824021e-01</td>\n",
       "      <td>3.394954e-02</td>\n",
       "      <td>-6.110922e-03</td>\n",
       "      <td>3.395103e-02</td>\n",
       "      <td>2.634115e-02</td>\n",
       "      <td>...</td>\n",
       "      <td>-2.037962e-02</td>\n",
       "      <td>3.421817e-02</td>\n",
       "      <td>1.783326e-02</td>\n",
       "      <td>3.416261e-02</td>\n",
       "      <td>3.741751e-02</td>\n",
       "      <td>-3.022275e-02</td>\n",
       "      <td>1.452552e-01</td>\n",
       "      <td>3.816700e-02</td>\n",
       "      <td>4.456384e-17</td>\n",
       "      <td>2.287786e-16</td>\n",
       "      <td>1.824181e-16</td>\n",
       "      <td>7.445138e-16</td>\n",
       "    </tr>\n",
       "    <tr>\n",
       "      <th>Number vmail messages</th>\n",
       "      <td>-2.036087e-02</td>\n",
       "      <td>6.578438e-03</td>\n",
       "      <td>-1.434118e-03</td>\n",
       "      <td>-2.776213e-02</td>\n",
       "      <td>-4.627824e-03</td>\n",
       "      <td>-1.978761e-03</td>\n",
       "      <td>5.824021e-01</td>\n",
       "      <td>1.000000e+00</td>\n",
       "      <td>-4.984348e-03</td>\n",
       "      <td>-1.358182e-02</td>\n",
       "      <td>-4.986244e-03</td>\n",
       "      <td>1.357696e-02</td>\n",
       "      <td>...</td>\n",
       "      <td>3.345408e-03</td>\n",
       "      <td>-1.187269e-03</td>\n",
       "      <td>1.107412e-02</td>\n",
       "      <td>-1.157466e-03</td>\n",
       "      <td>1.535805e-03</td>\n",
       "      <td>-1.326258e-02</td>\n",
       "      <td>-8.972797e-02</td>\n",
       "      <td>-1.994370e-03</td>\n",
       "      <td>-3.257347e-16</td>\n",
       "      <td>-8.285029e-16</td>\n",
       "      <td>3.193436e-17</td>\n",
       "      <td>-4.185288e-16</td>\n",
       "    </tr>\n",
       "    <tr>\n",
       "      <th>Total day minutes</th>\n",
       "      <td>1.073995e-02</td>\n",
       "      <td>2.401611e-02</td>\n",
       "      <td>-8.822428e-03</td>\n",
       "      <td>-1.470829e-03</td>\n",
       "      <td>1.114693e-02</td>\n",
       "      <td>-5.065636e-03</td>\n",
       "      <td>3.394954e-02</td>\n",
       "      <td>-4.984348e-03</td>\n",
       "      <td>1.000000e+00</td>\n",
       "      <td>5.028695e-02</td>\n",
       "      <td>1.000000e+00</td>\n",
       "      <td>6.366366e-02</td>\n",
       "      <td>...</td>\n",
       "      <td>6.086239e-02</td>\n",
       "      <td>3.623371e-02</td>\n",
       "      <td>4.546451e-02</td>\n",
       "      <td>3.633946e-02</td>\n",
       "      <td>8.978302e-01</td>\n",
       "      <td>-1.630746e-02</td>\n",
       "      <td>2.254889e-01</td>\n",
       "      <td>-5.032806e-03</td>\n",
       "      <td>-4.057895e-15</td>\n",
       "      <td>3.488762e-15</td>\n",
       "      <td>-3.520689e-15</td>\n",
       "      <td>3.641282e-15</td>\n",
       "    </tr>\n",
       "    <tr>\n",
       "      <th>Total day calls</th>\n",
       "      <td>5.606874e-02</td>\n",
       "      <td>2.532569e-02</td>\n",
       "      <td>1.358471e-02</td>\n",
       "      <td>2.876444e-03</td>\n",
       "      <td>4.189633e-02</td>\n",
       "      <td>-7.510867e-03</td>\n",
       "      <td>-6.110922e-03</td>\n",
       "      <td>-1.358182e-02</td>\n",
       "      <td>5.028695e-02</td>\n",
       "      <td>1.000000e+00</td>\n",
       "      <td>5.028937e-02</td>\n",
       "      <td>-5.959685e-03</td>\n",
       "      <td>...</td>\n",
       "      <td>3.792744e-02</td>\n",
       "      <td>3.220132e-02</td>\n",
       "      <td>1.488002e-02</td>\n",
       "      <td>3.233170e-02</td>\n",
       "      <td>5.073594e-02</td>\n",
       "      <td>-2.184551e-02</td>\n",
       "      <td>4.171803e-02</td>\n",
       "      <td>-7.341956e-03</td>\n",
       "      <td>9.697089e-17</td>\n",
       "      <td>-1.771136e-16</td>\n",
       "      <td>1.606955e-16</td>\n",
       "      <td>-5.941096e-16</td>\n",
       "    </tr>\n",
       "    <tr>\n",
       "      <th>Total day charge</th>\n",
       "      <td>1.073951e-02</td>\n",
       "      <td>2.402348e-02</td>\n",
       "      <td>-8.829204e-03</td>\n",
       "      <td>-1.470696e-03</td>\n",
       "      <td>1.114460e-02</td>\n",
       "      <td>-5.066155e-03</td>\n",
       "      <td>3.395103e-02</td>\n",
       "      <td>-4.986244e-03</td>\n",
       "      <td>1.000000e+00</td>\n",
       "      <td>5.028937e-02</td>\n",
       "      <td>1.000000e+00</td>\n",
       "      <td>6.367061e-02</td>\n",
       "      <td>...</td>\n",
       "      <td>6.086427e-02</td>\n",
       "      <td>3.623304e-02</td>\n",
       "      <td>4.546306e-02</td>\n",
       "      <td>3.633878e-02</td>\n",
       "      <td>8.978333e-01</td>\n",
       "      <td>-1.631132e-02</td>\n",
       "      <td>2.254878e-01</td>\n",
       "      <td>-5.033292e-03</td>\n",
       "      <td>-1.587882e-15</td>\n",
       "      <td>1.489547e-15</td>\n",
       "      <td>-1.551124e-15</td>\n",
       "      <td>1.535296e-15</td>\n",
       "    </tr>\n",
       "    <tr>\n",
       "      <th>Total eve minutes</th>\n",
       "      <td>1.909680e-02</td>\n",
       "      <td>6.159425e-04</td>\n",
       "      <td>-1.164749e-02</td>\n",
       "      <td>1.693419e-02</td>\n",
       "      <td>-2.495030e-03</td>\n",
       "      <td>4.468693e-03</td>\n",
       "      <td>2.634115e-02</td>\n",
       "      <td>1.357696e-02</td>\n",
       "      <td>6.366366e-02</td>\n",
       "      <td>-5.959685e-03</td>\n",
       "      <td>6.367061e-02</td>\n",
       "      <td>1.000000e+00</td>\n",
       "      <td>...</td>\n",
       "      <td>1.322077e-02</td>\n",
       "      <td>8.499699e-03</td>\n",
       "      <td>2.305616e-02</td>\n",
       "      <td>8.493248e-03</td>\n",
       "      <td>4.416758e-01</td>\n",
       "      <td>-1.484773e-02</td>\n",
       "      <td>1.145607e-01</td>\n",
       "      <td>4.518669e-03</td>\n",
       "      <td>7.370286e-16</td>\n",
       "      <td>-6.172896e-16</td>\n",
       "      <td>6.996245e-16</td>\n",
       "      <td>-5.897760e-16</td>\n",
       "    </tr>\n",
       "    <tr>\n",
       "      <th>Total eve calls</th>\n",
       "      <td>2.080517e-02</td>\n",
       "      <td>-2.861186e-02</td>\n",
       "      <td>1.963489e-02</td>\n",
       "      <td>-1.153659e-02</td>\n",
       "      <td>2.420330e-02</td>\n",
       "      <td>-8.900324e-03</td>\n",
       "      <td>-1.556174e-03</td>\n",
       "      <td>-1.070767e-02</td>\n",
       "      <td>8.012304e-02</td>\n",
       "      <td>2.623927e-02</td>\n",
       "      <td>8.012304e-02</td>\n",
       "      <td>1.837792e-02</td>\n",
       "      <td>...</td>\n",
       "      <td>2.698827e-02</td>\n",
       "      <td>3.026811e-02</td>\n",
       "      <td>3.767569e-02</td>\n",
       "      <td>3.026903e-02</td>\n",
       "      <td>8.334029e-02</td>\n",
       "      <td>-7.453021e-04</td>\n",
       "      <td>3.697755e-02</td>\n",
       "      <td>-8.979466e-03</td>\n",
       "      <td>1.742619e-16</td>\n",
       "      <td>4.053775e-16</td>\n",
       "      <td>-8.571541e-17</td>\n",
       "      <td>3.730140e-16</td>\n",
       "    </tr>\n",
       "    <tr>\n",
       "      <th>Total eve charge</th>\n",
       "      <td>1.910008e-02</td>\n",
       "      <td>6.252942e-04</td>\n",
       "      <td>-1.162085e-02</td>\n",
       "      <td>1.692644e-02</td>\n",
       "      <td>-2.483687e-03</td>\n",
       "      <td>4.494642e-03</td>\n",
       "      <td>2.635674e-02</td>\n",
       "      <td>1.359335e-02</td>\n",
       "      <td>6.364638e-02</td>\n",
       "      <td>-5.964748e-03</td>\n",
       "      <td>6.365334e-02</td>\n",
       "      <td>9.999998e-01</td>\n",
       "      <td>...</td>\n",
       "      <td>1.321157e-02</td>\n",
       "      <td>8.489986e-03</td>\n",
       "      <td>2.305708e-02</td>\n",
       "      <td>8.483518e-03</td>\n",
       "      <td>4.416586e-01</td>\n",
       "      <td>-1.485000e-02</td>\n",
       "      <td>1.145503e-01</td>\n",
       "      <td>4.544616e-03</td>\n",
       "      <td>2.100032e-15</td>\n",
       "      <td>-2.115096e-15</td>\n",
       "      <td>2.060565e-15</td>\n",
       "      <td>-2.065644e-15</td>\n",
       "    </tr>\n",
       "    <tr>\n",
       "      <th>Total night minutes</th>\n",
       "      <td>-9.816821e-04</td>\n",
       "      <td>4.659882e-03</td>\n",
       "      <td>-2.310387e-02</td>\n",
       "      <td>2.754457e-02</td>\n",
       "      <td>-5.316104e-03</td>\n",
       "      <td>-3.271512e-03</td>\n",
       "      <td>-2.036106e-02</td>\n",
       "      <td>3.363316e-03</td>\n",
       "      <td>6.088449e-02</td>\n",
       "      <td>3.793146e-02</td>\n",
       "      <td>6.088638e-02</td>\n",
       "      <td>1.323113e-02</td>\n",
       "      <td>...</td>\n",
       "      <td>9.999992e-01</td>\n",
       "      <td>5.468056e-03</td>\n",
       "      <td>7.275165e-03</td>\n",
       "      <td>5.519169e-03</td>\n",
       "      <td>2.603648e-01</td>\n",
       "      <td>-1.198021e-02</td>\n",
       "      <td>5.805897e-02</td>\n",
       "      <td>-3.203340e-03</td>\n",
       "      <td>-1.444201e-15</td>\n",
       "      <td>1.490744e-15</td>\n",
       "      <td>-1.484044e-15</td>\n",
       "      <td>1.795704e-15</td>\n",
       "    </tr>\n",
       "    <tr>\n",
       "      <th>Total night calls</th>\n",
       "      <td>-9.036895e-03</td>\n",
       "      <td>-6.880899e-03</td>\n",
       "      <td>1.035556e-02</td>\n",
       "      <td>1.218937e-02</td>\n",
       "      <td>-7.887772e-03</td>\n",
       "      <td>1.807926e-02</td>\n",
       "      <td>1.657180e-02</td>\n",
       "      <td>1.804258e-03</td>\n",
       "      <td>9.191493e-02</td>\n",
       "      <td>2.087932e-03</td>\n",
       "      <td>9.191561e-02</td>\n",
       "      <td>4.072662e-02</td>\n",
       "      <td>...</td>\n",
       "      <td>4.336589e-02</td>\n",
       "      <td>1.070679e-02</td>\n",
       "      <td>2.410629e-02</td>\n",
       "      <td>1.071122e-02</td>\n",
       "      <td>1.040573e-01</td>\n",
       "      <td>-1.496801e-02</td>\n",
       "      <td>3.519512e-02</td>\n",
       "      <td>1.825685e-02</td>\n",
       "      <td>-4.734190e-16</td>\n",
       "      <td>-4.446731e-16</td>\n",
       "      <td>4.342700e-16</td>\n",
       "      <td>-2.967396e-16</td>\n",
       "    </tr>\n",
       "    <tr>\n",
       "      <th>Total night charge</th>\n",
       "      <td>-1.023016e-03</td>\n",
       "      <td>4.655161e-03</td>\n",
       "      <td>-2.311171e-02</td>\n",
       "      <td>2.754260e-02</td>\n",
       "      <td>-5.322643e-03</td>\n",
       "      <td>-3.293703e-03</td>\n",
       "      <td>-2.037962e-02</td>\n",
       "      <td>3.345408e-03</td>\n",
       "      <td>6.086239e-02</td>\n",
       "      <td>3.792744e-02</td>\n",
       "      <td>6.086427e-02</td>\n",
       "      <td>1.322077e-02</td>\n",
       "      <td>...</td>\n",
       "      <td>1.000000e+00</td>\n",
       "      <td>5.467745e-03</td>\n",
       "      <td>7.297016e-03</td>\n",
       "      <td>5.518789e-03</td>\n",
       "      <td>2.603419e-01</td>\n",
       "      <td>-1.196948e-02</td>\n",
       "      <td>5.805818e-02</td>\n",
       "      <td>-3.225501e-03</td>\n",
       "      <td>-6.170676e-15</td>\n",
       "      <td>6.126715e-15</td>\n",
       "      <td>-6.183849e-15</td>\n",
       "      <td>6.164614e-15</td>\n",
       "    </tr>\n",
       "    <tr>\n",
       "      <th>Total intl minutes</th>\n",
       "      <td>1.582428e-02</td>\n",
       "      <td>2.336080e-02</td>\n",
       "      <td>-2.686698e-02</td>\n",
       "      <td>-4.675942e-03</td>\n",
       "      <td>1.181584e-02</td>\n",
       "      <td>-1.631452e-02</td>\n",
       "      <td>3.421817e-02</td>\n",
       "      <td>-1.187269e-03</td>\n",
       "      <td>3.623371e-02</td>\n",
       "      <td>3.220132e-02</td>\n",
       "      <td>3.623304e-02</td>\n",
       "      <td>8.499699e-03</td>\n",
       "      <td>...</td>\n",
       "      <td>5.467745e-03</td>\n",
       "      <td>1.000000e+00</td>\n",
       "      <td>4.832407e-02</td>\n",
       "      <td>9.999928e-01</td>\n",
       "      <td>1.022378e-01</td>\n",
       "      <td>-1.276848e-02</td>\n",
       "      <td>8.744605e-02</td>\n",
       "      <td>-1.624782e-02</td>\n",
       "      <td>1.156621e-16</td>\n",
       "      <td>-3.924904e-16</td>\n",
       "      <td>3.347243e-16</td>\n",
       "      <td>-1.275391e-16</td>\n",
       "    </tr>\n",
       "    <tr>\n",
       "      <th>Total intl calls</th>\n",
       "      <td>8.416481e-03</td>\n",
       "      <td>-5.576471e-03</td>\n",
       "      <td>-3.585190e-02</td>\n",
       "      <td>1.513684e-02</td>\n",
       "      <td>2.301951e-02</td>\n",
       "      <td>-2.284824e-02</td>\n",
       "      <td>1.783326e-02</td>\n",
       "      <td>1.107412e-02</td>\n",
       "      <td>4.546451e-02</td>\n",
       "      <td>1.488002e-02</td>\n",
       "      <td>4.546306e-02</td>\n",
       "      <td>2.305616e-02</td>\n",
       "      <td>...</td>\n",
       "      <td>7.297016e-03</td>\n",
       "      <td>4.832407e-02</td>\n",
       "      <td>1.000000e+00</td>\n",
       "      <td>4.839975e-02</td>\n",
       "      <td>5.259494e-02</td>\n",
       "      <td>-1.850979e-02</td>\n",
       "      <td>-3.930937e-02</td>\n",
       "      <td>-2.288826e-02</td>\n",
       "      <td>6.077782e-16</td>\n",
       "      <td>-6.255191e-16</td>\n",
       "      <td>3.846672e-17</td>\n",
       "      <td>-4.438720e-16</td>\n",
       "    </tr>\n",
       "    <tr>\n",
       "      <th>Total intl charge</th>\n",
       "      <td>1.582630e-02</td>\n",
       "      <td>2.347708e-02</td>\n",
       "      <td>-2.685821e-02</td>\n",
       "      <td>-4.665382e-03</td>\n",
       "      <td>1.186038e-02</td>\n",
       "      <td>-1.640984e-02</td>\n",
       "      <td>3.416261e-02</td>\n",
       "      <td>-1.157466e-03</td>\n",
       "      <td>3.633946e-02</td>\n",
       "      <td>3.233170e-02</td>\n",
       "      <td>3.633878e-02</td>\n",
       "      <td>8.493248e-03</td>\n",
       "      <td>...</td>\n",
       "      <td>5.518789e-03</td>\n",
       "      <td>9.999928e-01</td>\n",
       "      <td>4.839975e-02</td>\n",
       "      <td>1.000000e+00</td>\n",
       "      <td>1.023369e-01</td>\n",
       "      <td>-1.280529e-02</td>\n",
       "      <td>8.747499e-02</td>\n",
       "      <td>-1.634368e-02</td>\n",
       "      <td>1.432129e-14</td>\n",
       "      <td>-1.427423e-14</td>\n",
       "      <td>1.430349e-14</td>\n",
       "      <td>-1.432139e-14</td>\n",
       "    </tr>\n",
       "    <tr>\n",
       "      <th>Total charge</th>\n",
       "      <td>1.740054e-02</td>\n",
       "      <td>2.337831e-02</td>\n",
       "      <td>-1.851726e-02</td>\n",
       "      <td>1.050271e-02</td>\n",
       "      <td>8.329346e-03</td>\n",
       "      <td>-4.388152e-03</td>\n",
       "      <td>3.741751e-02</td>\n",
       "      <td>1.535805e-03</td>\n",
       "      <td>8.978302e-01</td>\n",
       "      <td>5.073594e-02</td>\n",
       "      <td>8.978333e-01</td>\n",
       "      <td>4.416758e-01</td>\n",
       "      <td>...</td>\n",
       "      <td>2.603419e-01</td>\n",
       "      <td>1.022378e-01</td>\n",
       "      <td>5.259494e-02</td>\n",
       "      <td>1.023369e-01</td>\n",
       "      <td>1.000000e+00</td>\n",
       "      <td>-2.298489e-02</td>\n",
       "      <td>2.551789e-01</td>\n",
       "      <td>-4.322518e-03</td>\n",
       "      <td>4.524922e-15</td>\n",
       "      <td>-4.559454e-15</td>\n",
       "      <td>4.562938e-15</td>\n",
       "      <td>-4.541289e-15</td>\n",
       "    </tr>\n",
       "    <tr>\n",
       "      <th>Customer service calls</th>\n",
       "      <td>1.657236e-02</td>\n",
       "      <td>8.171014e-03</td>\n",
       "      <td>1.099395e-02</td>\n",
       "      <td>-2.586065e-02</td>\n",
       "      <td>-3.795939e-03</td>\n",
       "      <td>2.761395e-02</td>\n",
       "      <td>-3.022275e-02</td>\n",
       "      <td>-1.326258e-02</td>\n",
       "      <td>-1.630746e-02</td>\n",
       "      <td>-2.184551e-02</td>\n",
       "      <td>-1.631132e-02</td>\n",
       "      <td>-1.484773e-02</td>\n",
       "      <td>...</td>\n",
       "      <td>-1.196948e-02</td>\n",
       "      <td>-1.276848e-02</td>\n",
       "      <td>-1.850979e-02</td>\n",
       "      <td>-1.280529e-02</td>\n",
       "      <td>-2.298489e-02</td>\n",
       "      <td>1.000000e+00</td>\n",
       "      <td>2.087500e-01</td>\n",
       "      <td>2.757223e-02</td>\n",
       "      <td>2.427163e-16</td>\n",
       "      <td>-1.883658e-16</td>\n",
       "      <td>-4.808587e-16</td>\n",
       "      <td>5.314096e-16</td>\n",
       "    </tr>\n",
       "    <tr>\n",
       "      <th>Churn</th>\n",
       "      <td>4.713963e-02</td>\n",
       "      <td>3.413041e-02</td>\n",
       "      <td>-1.927359e-02</td>\n",
       "      <td>7.780314e-03</td>\n",
       "      <td>1.654074e-02</td>\n",
       "      <td>6.135952e-03</td>\n",
       "      <td>1.452552e-01</td>\n",
       "      <td>-8.972797e-02</td>\n",
       "      <td>2.254889e-01</td>\n",
       "      <td>4.171803e-02</td>\n",
       "      <td>2.254878e-01</td>\n",
       "      <td>1.145607e-01</td>\n",
       "      <td>...</td>\n",
       "      <td>5.805818e-02</td>\n",
       "      <td>8.744605e-02</td>\n",
       "      <td>-3.930937e-02</td>\n",
       "      <td>8.747499e-02</td>\n",
       "      <td>2.551789e-01</td>\n",
       "      <td>2.087500e-01</td>\n",
       "      <td>1.000000e+00</td>\n",
       "      <td>6.174233e-03</td>\n",
       "      <td>-1.124167e-15</td>\n",
       "      <td>1.285352e-15</td>\n",
       "      <td>1.192747e-16</td>\n",
       "      <td>-1.565439e-15</td>\n",
       "    </tr>\n",
       "    <tr>\n",
       "      <th>Area code</th>\n",
       "      <td>5.724255e-05</td>\n",
       "      <td>-1.823072e-02</td>\n",
       "      <td>-7.992670e-03</td>\n",
       "      <td>1.581410e-02</td>\n",
       "      <td>-1.246350e-02</td>\n",
       "      <td>9.999814e-01</td>\n",
       "      <td>3.816700e-02</td>\n",
       "      <td>-1.994370e-03</td>\n",
       "      <td>-5.032806e-03</td>\n",
       "      <td>-7.341956e-03</td>\n",
       "      <td>-5.033292e-03</td>\n",
       "      <td>4.518669e-03</td>\n",
       "      <td>...</td>\n",
       "      <td>-3.225501e-03</td>\n",
       "      <td>-1.624782e-02</td>\n",
       "      <td>-2.288826e-02</td>\n",
       "      <td>-1.634368e-02</td>\n",
       "      <td>-4.322518e-03</td>\n",
       "      <td>2.757223e-02</td>\n",
       "      <td>6.174233e-03</td>\n",
       "      <td>1.000000e+00</td>\n",
       "      <td>6.220468e-16</td>\n",
       "      <td>-5.194802e-16</td>\n",
       "      <td>1.233466e-15</td>\n",
       "      <td>5.390822e-17</td>\n",
       "    </tr>\n",
       "    <tr>\n",
       "      <th>Night cost</th>\n",
       "      <td>5.608721e-16</td>\n",
       "      <td>-2.709624e-16</td>\n",
       "      <td>1.227942e-13</td>\n",
       "      <td>-6.650370e-16</td>\n",
       "      <td>1.791777e-15</td>\n",
       "      <td>4.593260e-17</td>\n",
       "      <td>4.456384e-17</td>\n",
       "      <td>-3.257347e-16</td>\n",
       "      <td>-4.057895e-15</td>\n",
       "      <td>9.697089e-17</td>\n",
       "      <td>-1.587882e-15</td>\n",
       "      <td>7.370286e-16</td>\n",
       "      <td>...</td>\n",
       "      <td>-6.170676e-15</td>\n",
       "      <td>1.156621e-16</td>\n",
       "      <td>6.077782e-16</td>\n",
       "      <td>1.432129e-14</td>\n",
       "      <td>4.524922e-15</td>\n",
       "      <td>2.427163e-16</td>\n",
       "      <td>-1.124167e-15</td>\n",
       "      <td>6.220468e-16</td>\n",
       "      <td>1.000000e+00</td>\n",
       "      <td>-1.000000e+00</td>\n",
       "      <td>1.000000e+00</td>\n",
       "      <td>-1.000000e+00</td>\n",
       "    </tr>\n",
       "    <tr>\n",
       "      <th>Intl cost</th>\n",
       "      <td>3.736663e-16</td>\n",
       "      <td>4.290209e-16</td>\n",
       "      <td>-1.228343e-13</td>\n",
       "      <td>5.739001e-16</td>\n",
       "      <td>-1.282276e-15</td>\n",
       "      <td>5.358594e-16</td>\n",
       "      <td>2.287786e-16</td>\n",
       "      <td>-8.285029e-16</td>\n",
       "      <td>3.488762e-15</td>\n",
       "      <td>-1.771136e-16</td>\n",
       "      <td>1.489547e-15</td>\n",
       "      <td>-6.172896e-16</td>\n",
       "      <td>...</td>\n",
       "      <td>6.126715e-15</td>\n",
       "      <td>-3.924904e-16</td>\n",
       "      <td>-6.255191e-16</td>\n",
       "      <td>-1.427423e-14</td>\n",
       "      <td>-4.559454e-15</td>\n",
       "      <td>-1.883658e-16</td>\n",
       "      <td>1.285352e-15</td>\n",
       "      <td>-5.194802e-16</td>\n",
       "      <td>-1.000000e+00</td>\n",
       "      <td>1.000000e+00</td>\n",
       "      <td>-1.000000e+00</td>\n",
       "      <td>1.000000e+00</td>\n",
       "    </tr>\n",
       "    <tr>\n",
       "      <th>Day cost</th>\n",
       "      <td>-4.388292e-16</td>\n",
       "      <td>-4.057083e-16</td>\n",
       "      <td>1.231133e-13</td>\n",
       "      <td>-2.412714e-16</td>\n",
       "      <td>1.672809e-15</td>\n",
       "      <td>-4.591657e-16</td>\n",
       "      <td>1.824181e-16</td>\n",
       "      <td>3.193436e-17</td>\n",
       "      <td>-3.520689e-15</td>\n",
       "      <td>1.606955e-16</td>\n",
       "      <td>-1.551124e-15</td>\n",
       "      <td>6.996245e-16</td>\n",
       "      <td>...</td>\n",
       "      <td>-6.183849e-15</td>\n",
       "      <td>3.347243e-16</td>\n",
       "      <td>3.846672e-17</td>\n",
       "      <td>1.430349e-14</td>\n",
       "      <td>4.562938e-15</td>\n",
       "      <td>-4.808587e-16</td>\n",
       "      <td>1.192747e-16</td>\n",
       "      <td>1.233466e-15</td>\n",
       "      <td>1.000000e+00</td>\n",
       "      <td>-1.000000e+00</td>\n",
       "      <td>1.000000e+00</td>\n",
       "      <td>-1.000000e+00</td>\n",
       "    </tr>\n",
       "    <tr>\n",
       "      <th>Eve cost</th>\n",
       "      <td>4.448992e-16</td>\n",
       "      <td>3.007377e-16</td>\n",
       "      <td>-1.227534e-13</td>\n",
       "      <td>-2.947027e-16</td>\n",
       "      <td>1.042363e-15</td>\n",
       "      <td>5.677029e-17</td>\n",
       "      <td>7.445138e-16</td>\n",
       "      <td>-4.185288e-16</td>\n",
       "      <td>3.641282e-15</td>\n",
       "      <td>-5.941096e-16</td>\n",
       "      <td>1.535296e-15</td>\n",
       "      <td>-5.897760e-16</td>\n",
       "      <td>...</td>\n",
       "      <td>6.164614e-15</td>\n",
       "      <td>-1.275391e-16</td>\n",
       "      <td>-4.438720e-16</td>\n",
       "      <td>-1.432139e-14</td>\n",
       "      <td>-4.541289e-15</td>\n",
       "      <td>5.314096e-16</td>\n",
       "      <td>-1.565439e-15</td>\n",
       "      <td>5.390822e-17</td>\n",
       "      <td>-1.000000e+00</td>\n",
       "      <td>1.000000e+00</td>\n",
       "      <td>-1.000000e+00</td>\n",
       "      <td>1.000000e+00</td>\n",
       "    </tr>\n",
       "  </tbody>\n",
       "</table>\n",
       "<p>28 rows × 28 columns</p>\n",
       "</div>"
      ],
      "text/plain": [
       "                                  ID           Sex           Age  \\\n",
       "ID                      1.000000e+00 -1.044890e-02 -1.419577e-02   \n",
       "Sex                    -1.044890e-02  1.000000e+00  9.690194e-03   \n",
       "Age                    -1.419577e-02  9.690194e-03  1.000000e+00   \n",
       "State                  -2.394812e-02 -2.471007e-02  1.831308e-02   \n",
       "Account length         -1.659955e-02 -3.322147e-02 -2.319941e-02   \n",
       "Phone number           -1.642188e-04 -1.837849e-02 -8.004639e-03   \n",
       "Plans                   1.645982e-02  1.931164e-02 -3.417345e-02   \n",
       "Number vmail messages  -2.036087e-02  6.578438e-03 -1.434118e-03   \n",
       "Total day minutes       1.073995e-02  2.401611e-02 -8.822428e-03   \n",
       "Total day calls         5.606874e-02  2.532569e-02  1.358471e-02   \n",
       "Total day charge        1.073951e-02  2.402348e-02 -8.829204e-03   \n",
       "Total eve minutes       1.909680e-02  6.159425e-04 -1.164749e-02   \n",
       "Total eve calls         2.080517e-02 -2.861186e-02  1.963489e-02   \n",
       "Total eve charge        1.910008e-02  6.252942e-04 -1.162085e-02   \n",
       "Total night minutes    -9.816821e-04  4.659882e-03 -2.310387e-02   \n",
       "Total night calls      -9.036895e-03 -6.880899e-03  1.035556e-02   \n",
       "Total night charge     -1.023016e-03  4.655161e-03 -2.311171e-02   \n",
       "Total intl minutes      1.582428e-02  2.336080e-02 -2.686698e-02   \n",
       "Total intl calls        8.416481e-03 -5.576471e-03 -3.585190e-02   \n",
       "Total intl charge       1.582630e-02  2.347708e-02 -2.685821e-02   \n",
       "Total charge            1.740054e-02  2.337831e-02 -1.851726e-02   \n",
       "Customer service calls  1.657236e-02  8.171014e-03  1.099395e-02   \n",
       "Churn                   4.713963e-02  3.413041e-02 -1.927359e-02   \n",
       "Area code               5.724255e-05 -1.823072e-02 -7.992670e-03   \n",
       "Night cost              5.608721e-16 -2.709624e-16  1.227942e-13   \n",
       "Intl cost               3.736663e-16  4.290209e-16 -1.228343e-13   \n",
       "Day cost               -4.388292e-16 -4.057083e-16  1.231133e-13   \n",
       "Eve cost                4.448992e-16  3.007377e-16 -1.227534e-13   \n",
       "\n",
       "                               State  Account length  Phone number  \\\n",
       "ID                     -2.394812e-02 -1.659955e-02   -1.642188e-04   \n",
       "Sex                    -2.471007e-02 -3.322147e-02   -1.837849e-02   \n",
       "Age                     1.831308e-02 -2.319941e-02   -8.004639e-03   \n",
       "State                   1.000000e+00  3.677624e-03    1.583891e-02   \n",
       "Account length          3.677624e-03  1.000000e+00   -1.246845e-02   \n",
       "Phone number            1.583891e-02 -1.246845e-02    1.000000e+00   \n",
       "Plans                  -2.269752e-02  2.142851e-02    3.817973e-02   \n",
       "Number vmail messages  -2.776213e-02 -4.627824e-03   -1.978761e-03   \n",
       "Total day minutes      -1.470829e-03  1.114693e-02   -5.065636e-03   \n",
       "Total day calls         2.876444e-03  4.189633e-02   -7.510867e-03   \n",
       "Total day charge       -1.470696e-03  1.114460e-02   -5.066155e-03   \n",
       "Total eve minutes       1.693419e-02 -2.495030e-03    4.468693e-03   \n",
       "Total eve calls        -1.153659e-02  2.420330e-02   -8.900324e-03   \n",
       "Total eve charge        1.692644e-02 -2.483687e-03    4.494642e-03   \n",
       "Total night minutes     2.754457e-02 -5.316104e-03   -3.271512e-03   \n",
       "Total night calls       1.218937e-02 -7.887772e-03    1.807926e-02   \n",
       "Total night charge      2.754260e-02 -5.322643e-03   -3.293703e-03   \n",
       "Total intl minutes     -4.675942e-03  1.181584e-02   -1.631452e-02   \n",
       "Total intl calls        1.513684e-02  2.301951e-02   -2.284824e-02   \n",
       "Total intl charge      -4.665382e-03  1.186038e-02   -1.640984e-02   \n",
       "Total charge            1.050271e-02  8.329346e-03   -4.388152e-03   \n",
       "Customer service calls -2.586065e-02 -3.795939e-03    2.761395e-02   \n",
       "Churn                   7.780314e-03  1.654074e-02    6.135952e-03   \n",
       "Area code               1.581410e-02 -1.246350e-02    9.999814e-01   \n",
       "Night cost             -6.650370e-16  1.791777e-15    4.593260e-17   \n",
       "Intl cost               5.739001e-16 -1.282276e-15    5.358594e-16   \n",
       "Day cost               -2.412714e-16  1.672809e-15   -4.591657e-16   \n",
       "Eve cost               -2.947027e-16  1.042363e-15    5.677029e-17   \n",
       "\n",
       "                               Plans  Number vmail messages  \\\n",
       "ID                      1.645982e-02 -2.036087e-02            \n",
       "Sex                     1.931164e-02  6.578438e-03            \n",
       "Age                    -3.417345e-02 -1.434118e-03            \n",
       "State                  -2.269752e-02 -2.776213e-02            \n",
       "Account length          2.142851e-02 -4.627824e-03            \n",
       "Phone number            3.817973e-02 -1.978761e-03            \n",
       "Plans                   1.000000e+00  5.824021e-01            \n",
       "Number vmail messages   5.824021e-01  1.000000e+00            \n",
       "Total day minutes       3.394954e-02 -4.984348e-03            \n",
       "Total day calls        -6.110922e-03 -1.358182e-02            \n",
       "Total day charge        3.395103e-02 -4.986244e-03            \n",
       "Total eve minutes       2.634115e-02  1.357696e-02            \n",
       "Total eve calls        -1.556174e-03 -1.070767e-02            \n",
       "Total eve charge        2.635674e-02  1.359335e-02            \n",
       "Total night minutes    -2.036106e-02  3.363316e-03            \n",
       "Total night calls       1.657180e-02  1.804258e-03            \n",
       "Total night charge     -2.037962e-02  3.345408e-03            \n",
       "Total intl minutes      3.421817e-02 -1.187269e-03            \n",
       "Total intl calls        1.783326e-02  1.107412e-02            \n",
       "Total intl charge       3.416261e-02 -1.157466e-03            \n",
       "Total charge            3.741751e-02  1.535805e-03            \n",
       "Customer service calls -3.022275e-02 -1.326258e-02            \n",
       "Churn                   1.452552e-01 -8.972797e-02            \n",
       "Area code               3.816700e-02 -1.994370e-03            \n",
       "Night cost              4.456384e-17 -3.257347e-16            \n",
       "Intl cost               2.287786e-16 -8.285029e-16            \n",
       "Day cost                1.824181e-16  3.193436e-17            \n",
       "Eve cost                7.445138e-16 -4.185288e-16            \n",
       "\n",
       "                        Total day minutes  Total day calls  Total day charge  \\\n",
       "ID                      1.073995e-02       5.606874e-02     1.073951e-02       \n",
       "Sex                     2.401611e-02       2.532569e-02     2.402348e-02       \n",
       "Age                    -8.822428e-03       1.358471e-02    -8.829204e-03       \n",
       "State                  -1.470829e-03       2.876444e-03    -1.470696e-03       \n",
       "Account length          1.114693e-02       4.189633e-02     1.114460e-02       \n",
       "Phone number           -5.065636e-03      -7.510867e-03    -5.066155e-03       \n",
       "Plans                   3.394954e-02      -6.110922e-03     3.395103e-02       \n",
       "Number vmail messages  -4.984348e-03      -1.358182e-02    -4.986244e-03       \n",
       "Total day minutes       1.000000e+00       5.028695e-02     1.000000e+00       \n",
       "Total day calls         5.028695e-02       1.000000e+00     5.028937e-02       \n",
       "Total day charge        1.000000e+00       5.028937e-02     1.000000e+00       \n",
       "Total eve minutes       6.366366e-02      -5.959685e-03     6.367061e-02       \n",
       "Total eve calls         8.012304e-02       2.623927e-02     8.012304e-02       \n",
       "Total eve charge        6.364638e-02      -5.964748e-03     6.365334e-02       \n",
       "Total night minutes     6.088449e-02       3.793146e-02     6.088638e-02       \n",
       "Total night calls       9.191493e-02       2.087932e-03     9.191561e-02       \n",
       "Total night charge      6.086239e-02       3.792744e-02     6.086427e-02       \n",
       "Total intl minutes      3.623371e-02       3.220132e-02     3.623304e-02       \n",
       "Total intl calls        4.546451e-02       1.488002e-02     4.546306e-02       \n",
       "Total intl charge       3.633946e-02       3.233170e-02     3.633878e-02       \n",
       "Total charge            8.978302e-01       5.073594e-02     8.978333e-01       \n",
       "Customer service calls -1.630746e-02      -2.184551e-02    -1.631132e-02       \n",
       "Churn                   2.254889e-01       4.171803e-02     2.254878e-01       \n",
       "Area code              -5.032806e-03      -7.341956e-03    -5.033292e-03       \n",
       "Night cost             -4.057895e-15       9.697089e-17    -1.587882e-15       \n",
       "Intl cost               3.488762e-15      -1.771136e-16     1.489547e-15       \n",
       "Day cost               -3.520689e-15       1.606955e-16    -1.551124e-15       \n",
       "Eve cost                3.641282e-15      -5.941096e-16     1.535296e-15       \n",
       "\n",
       "                        Total eve minutes      ...       Total night charge  \\\n",
       "ID                      1.909680e-02           ...      -1.023016e-03         \n",
       "Sex                     6.159425e-04           ...       4.655161e-03         \n",
       "Age                    -1.164749e-02           ...      -2.311171e-02         \n",
       "State                   1.693419e-02           ...       2.754260e-02         \n",
       "Account length         -2.495030e-03           ...      -5.322643e-03         \n",
       "Phone number            4.468693e-03           ...      -3.293703e-03         \n",
       "Plans                   2.634115e-02           ...      -2.037962e-02         \n",
       "Number vmail messages   1.357696e-02           ...       3.345408e-03         \n",
       "Total day minutes       6.366366e-02           ...       6.086239e-02         \n",
       "Total day calls        -5.959685e-03           ...       3.792744e-02         \n",
       "Total day charge        6.367061e-02           ...       6.086427e-02         \n",
       "Total eve minutes       1.000000e+00           ...       1.322077e-02         \n",
       "Total eve calls         1.837792e-02           ...       2.698827e-02         \n",
       "Total eve charge        9.999998e-01           ...       1.321157e-02         \n",
       "Total night minutes     1.323113e-02           ...       9.999992e-01         \n",
       "Total night calls       4.072662e-02           ...       4.336589e-02         \n",
       "Total night charge      1.322077e-02           ...       1.000000e+00         \n",
       "Total intl minutes      8.499699e-03           ...       5.467745e-03         \n",
       "Total intl calls        2.305616e-02           ...       7.297016e-03         \n",
       "Total intl charge       8.493248e-03           ...       5.518789e-03         \n",
       "Total charge            4.416758e-01           ...       2.603419e-01         \n",
       "Customer service calls -1.484773e-02           ...      -1.196948e-02         \n",
       "Churn                   1.145607e-01           ...       5.805818e-02         \n",
       "Area code               4.518669e-03           ...      -3.225501e-03         \n",
       "Night cost              7.370286e-16           ...      -6.170676e-15         \n",
       "Intl cost              -6.172896e-16           ...       6.126715e-15         \n",
       "Day cost                6.996245e-16           ...      -6.183849e-15         \n",
       "Eve cost               -5.897760e-16           ...       6.164614e-15         \n",
       "\n",
       "                        Total intl minutes  Total intl calls  \\\n",
       "ID                      1.582428e-02        8.416481e-03       \n",
       "Sex                     2.336080e-02       -5.576471e-03       \n",
       "Age                    -2.686698e-02       -3.585190e-02       \n",
       "State                  -4.675942e-03        1.513684e-02       \n",
       "Account length          1.181584e-02        2.301951e-02       \n",
       "Phone number           -1.631452e-02       -2.284824e-02       \n",
       "Plans                   3.421817e-02        1.783326e-02       \n",
       "Number vmail messages  -1.187269e-03        1.107412e-02       \n",
       "Total day minutes       3.623371e-02        4.546451e-02       \n",
       "Total day calls         3.220132e-02        1.488002e-02       \n",
       "Total day charge        3.623304e-02        4.546306e-02       \n",
       "Total eve minutes       8.499699e-03        2.305616e-02       \n",
       "Total eve calls         3.026811e-02        3.767569e-02       \n",
       "Total eve charge        8.489986e-03        2.305708e-02       \n",
       "Total night minutes     5.468056e-03        7.275165e-03       \n",
       "Total night calls       1.070679e-02        2.410629e-02       \n",
       "Total night charge      5.467745e-03        7.297016e-03       \n",
       "Total intl minutes      1.000000e+00        4.832407e-02       \n",
       "Total intl calls        4.832407e-02        1.000000e+00       \n",
       "Total intl charge       9.999928e-01        4.839975e-02       \n",
       "Total charge            1.022378e-01        5.259494e-02       \n",
       "Customer service calls -1.276848e-02       -1.850979e-02       \n",
       "Churn                   8.744605e-02       -3.930937e-02       \n",
       "Area code              -1.624782e-02       -2.288826e-02       \n",
       "Night cost              1.156621e-16        6.077782e-16       \n",
       "Intl cost              -3.924904e-16       -6.255191e-16       \n",
       "Day cost                3.347243e-16        3.846672e-17       \n",
       "Eve cost               -1.275391e-16       -4.438720e-16       \n",
       "\n",
       "                        Total intl charge  Total charge  \\\n",
       "ID                      1.582630e-02       1.740054e-02   \n",
       "Sex                     2.347708e-02       2.337831e-02   \n",
       "Age                    -2.685821e-02      -1.851726e-02   \n",
       "State                  -4.665382e-03       1.050271e-02   \n",
       "Account length          1.186038e-02       8.329346e-03   \n",
       "Phone number           -1.640984e-02      -4.388152e-03   \n",
       "Plans                   3.416261e-02       3.741751e-02   \n",
       "Number vmail messages  -1.157466e-03       1.535805e-03   \n",
       "Total day minutes       3.633946e-02       8.978302e-01   \n",
       "Total day calls         3.233170e-02       5.073594e-02   \n",
       "Total day charge        3.633878e-02       8.978333e-01   \n",
       "Total eve minutes       8.493248e-03       4.416758e-01   \n",
       "Total eve calls         3.026903e-02       8.334029e-02   \n",
       "Total eve charge        8.483518e-03       4.416586e-01   \n",
       "Total night minutes     5.519169e-03       2.603648e-01   \n",
       "Total night calls       1.071122e-02       1.040573e-01   \n",
       "Total night charge      5.518789e-03       2.603419e-01   \n",
       "Total intl minutes      9.999928e-01       1.022378e-01   \n",
       "Total intl calls        4.839975e-02       5.259494e-02   \n",
       "Total intl charge       1.000000e+00       1.023369e-01   \n",
       "Total charge            1.023369e-01       1.000000e+00   \n",
       "Customer service calls -1.280529e-02      -2.298489e-02   \n",
       "Churn                   8.747499e-02       2.551789e-01   \n",
       "Area code              -1.634368e-02      -4.322518e-03   \n",
       "Night cost              1.432129e-14       4.524922e-15   \n",
       "Intl cost              -1.427423e-14      -4.559454e-15   \n",
       "Day cost                1.430349e-14       4.562938e-15   \n",
       "Eve cost               -1.432139e-14      -4.541289e-15   \n",
       "\n",
       "                        Customer service calls         Churn     Area code  \\\n",
       "ID                      1.657236e-02            4.713963e-02  5.724255e-05   \n",
       "Sex                     8.171014e-03            3.413041e-02 -1.823072e-02   \n",
       "Age                     1.099395e-02           -1.927359e-02 -7.992670e-03   \n",
       "State                  -2.586065e-02            7.780314e-03  1.581410e-02   \n",
       "Account length         -3.795939e-03            1.654074e-02 -1.246350e-02   \n",
       "Phone number            2.761395e-02            6.135952e-03  9.999814e-01   \n",
       "Plans                  -3.022275e-02            1.452552e-01  3.816700e-02   \n",
       "Number vmail messages  -1.326258e-02           -8.972797e-02 -1.994370e-03   \n",
       "Total day minutes      -1.630746e-02            2.254889e-01 -5.032806e-03   \n",
       "Total day calls        -2.184551e-02            4.171803e-02 -7.341956e-03   \n",
       "Total day charge       -1.631132e-02            2.254878e-01 -5.033292e-03   \n",
       "Total eve minutes      -1.484773e-02            1.145607e-01  4.518669e-03   \n",
       "Total eve calls        -7.453021e-04            3.697755e-02 -8.979466e-03   \n",
       "Total eve charge       -1.485000e-02            1.145503e-01  4.544616e-03   \n",
       "Total night minutes    -1.198021e-02            5.805897e-02 -3.203340e-03   \n",
       "Total night calls      -1.496801e-02            3.519512e-02  1.825685e-02   \n",
       "Total night charge     -1.196948e-02            5.805818e-02 -3.225501e-03   \n",
       "Total intl minutes     -1.276848e-02            8.744605e-02 -1.624782e-02   \n",
       "Total intl calls       -1.850979e-02           -3.930937e-02 -2.288826e-02   \n",
       "Total intl charge      -1.280529e-02            8.747499e-02 -1.634368e-02   \n",
       "Total charge           -2.298489e-02            2.551789e-01 -4.322518e-03   \n",
       "Customer service calls  1.000000e+00            2.087500e-01  2.757223e-02   \n",
       "Churn                   2.087500e-01            1.000000e+00  6.174233e-03   \n",
       "Area code               2.757223e-02            6.174233e-03  1.000000e+00   \n",
       "Night cost              2.427163e-16           -1.124167e-15  6.220468e-16   \n",
       "Intl cost              -1.883658e-16            1.285352e-15 -5.194802e-16   \n",
       "Day cost               -4.808587e-16            1.192747e-16  1.233466e-15   \n",
       "Eve cost                5.314096e-16           -1.565439e-15  5.390822e-17   \n",
       "\n",
       "                          Night cost     Intl cost      Day cost      Eve cost  \n",
       "ID                      5.608721e-16  3.736663e-16 -4.388292e-16  4.448992e-16  \n",
       "Sex                    -2.709624e-16  4.290209e-16 -4.057083e-16  3.007377e-16  \n",
       "Age                     1.227942e-13 -1.228343e-13  1.231133e-13 -1.227534e-13  \n",
       "State                  -6.650370e-16  5.739001e-16 -2.412714e-16 -2.947027e-16  \n",
       "Account length          1.791777e-15 -1.282276e-15  1.672809e-15  1.042363e-15  \n",
       "Phone number            4.593260e-17  5.358594e-16 -4.591657e-16  5.677029e-17  \n",
       "Plans                   4.456384e-17  2.287786e-16  1.824181e-16  7.445138e-16  \n",
       "Number vmail messages  -3.257347e-16 -8.285029e-16  3.193436e-17 -4.185288e-16  \n",
       "Total day minutes      -4.057895e-15  3.488762e-15 -3.520689e-15  3.641282e-15  \n",
       "Total day calls         9.697089e-17 -1.771136e-16  1.606955e-16 -5.941096e-16  \n",
       "Total day charge       -1.587882e-15  1.489547e-15 -1.551124e-15  1.535296e-15  \n",
       "Total eve minutes       7.370286e-16 -6.172896e-16  6.996245e-16 -5.897760e-16  \n",
       "Total eve calls         1.742619e-16  4.053775e-16 -8.571541e-17  3.730140e-16  \n",
       "Total eve charge        2.100032e-15 -2.115096e-15  2.060565e-15 -2.065644e-15  \n",
       "Total night minutes    -1.444201e-15  1.490744e-15 -1.484044e-15  1.795704e-15  \n",
       "Total night calls      -4.734190e-16 -4.446731e-16  4.342700e-16 -2.967396e-16  \n",
       "Total night charge     -6.170676e-15  6.126715e-15 -6.183849e-15  6.164614e-15  \n",
       "Total intl minutes      1.156621e-16 -3.924904e-16  3.347243e-16 -1.275391e-16  \n",
       "Total intl calls        6.077782e-16 -6.255191e-16  3.846672e-17 -4.438720e-16  \n",
       "Total intl charge       1.432129e-14 -1.427423e-14  1.430349e-14 -1.432139e-14  \n",
       "Total charge            4.524922e-15 -4.559454e-15  4.562938e-15 -4.541289e-15  \n",
       "Customer service calls  2.427163e-16 -1.883658e-16 -4.808587e-16  5.314096e-16  \n",
       "Churn                  -1.124167e-15  1.285352e-15  1.192747e-16 -1.565439e-15  \n",
       "Area code               6.220468e-16 -5.194802e-16  1.233466e-15  5.390822e-17  \n",
       "Night cost              1.000000e+00 -1.000000e+00  1.000000e+00 -1.000000e+00  \n",
       "Intl cost              -1.000000e+00  1.000000e+00 -1.000000e+00  1.000000e+00  \n",
       "Day cost                1.000000e+00 -1.000000e+00  1.000000e+00 -1.000000e+00  \n",
       "Eve cost               -1.000000e+00  1.000000e+00 -1.000000e+00  1.000000e+00  \n",
       "\n",
       "[28 rows x 28 columns]"
      ]
     },
     "execution_count": 394,
     "metadata": {},
     "output_type": "execute_result"
    }
   ],
   "source": [
    "data.corr()"
   ]
  },
  {
   "cell_type": "markdown",
   "metadata": {
    "colab_type": "text",
    "id": "16opGGG-p8T1"
   },
   "source": [
    "ID - уникальный признак и не дает чего-то полезного в плане информации => можно удалить.\n",
    "Area Code создан из Phone Number (уникальный признак) => Area Code оставлю, а Phone Number удалю. \n",
    "Стоимость ночью, днем, вечером итд получаются из минут, которые наговорил абонент => их удаляю, как и признаки о поминутной оплате."
   ]
  },
  {
   "cell_type": "code",
   "execution_count": null,
   "metadata": {
    "colab": {},
    "colab_type": "code",
    "collapsed": true,
    "id": "NBixqgpfp8T2"
   },
   "outputs": [],
   "source": [
    "data = data.drop(['ID', 'Phone number', 'Total day minutes', 'Total eve minutes', 'Total night minutes',\n",
    "                  'Total intl minutes', 'Day cost', 'Eve cost', 'Night cost', 'Intl cost'], axis=1) "
   ]
  },
  {
   "cell_type": "markdown",
   "metadata": {
    "colab_type": "text",
    "id": "7Rdb7BWVp8T6"
   },
   "source": [
    "### Задание 9  \n",
    "  \n",
    "Проведите анализ зависимости признаков.  \n",
    "Для числовых признаков вычислите корреляции друг с другом и с целевой переменной `Churn`. Постройте heatmap.  \n",
    "Для категориальных признаков оцените их связь с целевой переменной, постройте графики.  \n",
    "  \n",
    "Сделайте выводы по результатм анализа. Можно ли избавиться от некоторых признаков? Если да, то от каких и почему?"
   ]
  },
  {
   "cell_type": "code",
   "execution_count": null,
   "metadata": {
    "colab": {},
    "colab_type": "code",
    "id": "mRAOmgp9p8T7",
    "outputId": "8527f270-569e-421c-9d27-4eb6f0493980"
   },
   "outputs": [
    {
     "data": {
      "text/plain": [
       "<matplotlib.axes._subplots.AxesSubplot at 0x28c3e9eea20>"
      ]
     },
     "execution_count": 396,
     "metadata": {},
     "output_type": "execute_result"
    }
   ],
   "source": [
    "plt.figure(figsize=(14, 6))\n",
    "sns.heatmap(data.corr(), annot=True, fmt=\".2f\", linewidths=.45)"
   ]
  },
  {
   "cell_type": "markdown",
   "metadata": {
    "colab_type": "text",
    "id": "dBt-gQOgp8UL"
   },
   "source": [
    "Меньше всего на нужный нам признак Churn оказывают влияние такие признаки, как Sex, Age, Account length, State, Total day calls, Total eve calls, Total night calls, Total intl calls, Area code, Number vmail messages => их можно удалить."
   ]
  },
  {
   "cell_type": "code",
   "execution_count": null,
   "metadata": {
    "colab": {},
    "colab_type": "code",
    "id": "zGd97hEdp8UM"
   },
   "outputs": [],
   "source": [
    "data = data.drop([ 'Sex', 'Age', 'State', 'Account length', 'Area code', 'Number vmail messages',\n",
    "                  'Total day calls', 'Total eve calls', 'Total night calls', 'Total intl calls'], axis=1) "
   ]
  },
  {
   "cell_type": "code",
   "execution_count": null,
   "metadata": {
    "colab": {},
    "colab_type": "code",
    "id": "K2GogvY-p8US",
    "outputId": "a8ccc4f9-2cc9-4820-e0e9-046422a89d51"
   },
   "outputs": [],
   "source": [
    "plt.figure(figsize=(18, 8))\n",
    "sns.heatmap(data.corr(), annot=True, fmt=\".2f\", linewidths=.50)"
   ]
  },
  {
   "cell_type": "markdown",
   "metadata": {
    "colab_type": "text",
    "id": "A4M5d7B9p8UW"
   },
   "source": [
    "Всех сильнее Churn поддается влиянию от Total day charge, Total charge, Customer service calls"
   ]
  },
  {
   "cell_type": "markdown",
   "metadata": {
    "colab_type": "text",
    "id": "a2Ckb9Yzp8UX"
   },
   "source": [
    "### Задание 10  \n",
    "  \n",
    "Рассмотрим основанную на правилах модель для предсказания оттока клиентов: \n",
    "* Если у пользователя подключен роуминг (International plan) & клиент звонил в тех. поддержку более 3-х раз => клиент уйдет (Churn = True)\n",
    "* Иначе => клиент останется (Churn = False)  \n",
    "  \n",
    "  \n",
    "Оцените качество данной модели на 5-fold валидации из 5 повторений. Для оценки качества рассмотрите различные метрики: F1-score, precision, recall, accuracy, balanced accuracy. Дайте комментарий к оценке."
   ]
  },
  {
   "cell_type": "code",
   "execution_count": null,
   "metadata": {
    "colab": {},
    "colab_type": "code",
    "collapsed": true,
    "id": "JyeaBn0vp8UZ"
   },
   "outputs": [],
   "source": [
    "from sklearn.model_selection import train_test_split\n",
    "from sklearn.model_selection import cross_val_score\n",
    "from sklearn.model_selection import RepeatedStratifiedKFold\n",
    "from sklearn import metrics"
   ]
  },
  {
   "cell_type": "code",
   "execution_count": null,
   "metadata": {
    "colab": {},
    "colab_type": "code",
    "collapsed": true,
    "id": "XV8qKPhjp8Ud"
   },
   "outputs": [],
   "source": [
    "(trainData, \n",
    " testData, \n",
    " train_label, \n",
    " test_label) = train_test_split(data.drop(['Churn'], axis=1),\n",
    "                                data['Churn'],\n",
    "                                test_size=0.3, \n",
    "                                random_state=236584)"
   ]
  },
  {
   "cell_type": "code",
   "execution_count": null,
   "metadata": {
    "colab": {},
    "colab_type": "code",
    "collapsed": true,
    "id": "VvkSszhlp8Uf"
   },
   "outputs": [],
   "source": [
    "class PorkClassifier:       \n",
    "    def __init__(self, demo_param='demo'):\n",
    "        self.demo_param = demo_param\n",
    "\n",
    "    def fit(self, X, Y):\n",
    "        self.X = X\n",
    "        self.Y = Y\n",
    "        return self\n",
    "        \n",
    "    def predict(self, data):\n",
    "        predictions = []\n",
    "        for index, row in data.iterrows():\n",
    "            if row['Plans'] == 2 and row['Customer service calls'] > 3:\n",
    "                predictions.append(True)\n",
    "            else:\n",
    "                predictions.append(False)\n",
    "        \n",
    "        return predictions\n",
    "    \n",
    "    def get_params(self, deep=True):\n",
    "        return {\"demo_param\": self.demo_param}\n",
    "\n",
    "    def set_params(self, **parameters):\n",
    "        for parameter, value in parameters.items():\n",
    "            setattr(self, parameter, value)\n",
    "        return self"
   ]
  },
  {
   "cell_type": "code",
   "execution_count": null,
   "metadata": {
    "colab": {},
    "colab_type": "code",
    "collapsed": true,
    "id": "EiRPidd_p8Uk"
   },
   "outputs": [],
   "source": [
    "porkModel = PorkClassifier()\n",
    "preds = porkModel.predict(testData)"
   ]
  },
  {
   "cell_type": "code",
   "execution_count": null,
   "metadata": {
    "colab": {},
    "colab_type": "code",
    "id": "d2TUL9zJp8Uo",
    "outputId": "ef30ef5b-097d-47e9-dfec-d1cf3c0abd78"
   },
   "outputs": [],
   "source": [
    "round(metrics.accuracy_score(test_label, preds), 5)"
   ]
  },
  {
   "cell_type": "code",
   "execution_count": null,
   "metadata": {
    "collapsed": true
   },
   "outputs": [],
   "source": [
    "Data = data.drop(['Churn'], axis=1)\n",
    "label = data['Churn']"
   ]
  },
  {
   "cell_type": "code",
   "execution_count": null,
   "metadata": {
    "collapsed": true
   },
   "outputs": [],
   "source": [
    "rskf = RepeatedStratifiedKFold(n_splits=5, n_repeats=5)"
   ]
  },
  {
   "cell_type": "code",
   "execution_count": null,
   "metadata": {},
   "outputs": [],
   "source": [
    "f1_sc = cross_val_score(porkModel, Data, label, cv=rskf, scoring='f1')\n",
    "print('F1 score:' + str(f1_sc.mean()))"
   ]
  },
  {
   "cell_type": "code",
   "execution_count": null,
   "metadata": {},
   "outputs": [],
   "source": [
    "prec_sc = cross_val_score(porkModel, Data, label, cv=rskf, scoring='precision')\n",
    "print('Precision:' + str(prec_sc.mean()))"
   ]
  },
  {
   "cell_type": "code",
   "execution_count": null,
   "metadata": {},
   "outputs": [],
   "source": [
    "rec_sc = cross_val_score(porkModel, Data, label, cv=rskf, scoring='recall')\n",
    "print('Recall:' + str(rec_sc.mean()))"
   ]
  },
  {
   "cell_type": "code",
   "execution_count": null,
   "metadata": {},
   "outputs": [],
   "source": [
    "acc_sc = cross_val_score(porkModel, Data, label, cv=rskf, scoring='accuracy')\n",
    "print('Accuracy:' + str(acc_sc.mean()))"
   ]
  },
  {
   "cell_type": "code",
   "execution_count": null,
   "metadata": {},
   "outputs": [],
   "source": [
    "balacc_sc = cross_val_score(porkModel, Data, label, cv=rskf, scoring='balanced_accuracy')\n",
    "print('Balanced accuracy:' + str(balacc_sc.mean()))"
   ]
  },
  {
   "cell_type": "markdown",
   "metadata": {
    "colab_type": "text",
    "id": "FJN0I4Ibp8Ut"
   },
   "source": [
    "Из значения метрик видно, что полнота очень маленькая, и данная модель является сильно неточной. Значит для нашей задачи она не подходит."
   ]
  },
  {
   "cell_type": "markdown",
   "metadata": {
    "colab_type": "text",
    "id": "JoUlqB0wp8Uw"
   },
   "source": [
    "## Часть 2. Методы машинного обучения <a id=\"part2\"></a>"
   ]
  },
  {
   "cell_type": "markdown",
   "metadata": {
    "colab_type": "text",
    "id": "897VSr8ip8Uw"
   },
   "source": [
    "Продолжаем работать с данными по оттоку клиентов.  \n",
    "Сформулируем задачу машинного обучения: необходимо построить модель, определяющую, останется клиент или уйдет. \n",
    "  \n",
    "Для решения заданий, представленных ниже, необходимо использовать данные, полученные после выполнения всех преобразований в первой части. "
   ]
  },
  {
   "cell_type": "markdown",
   "metadata": {
    "colab_type": "text",
    "id": "fuiUdFOcp8Ux"
   },
   "source": [
    "### Задание 1  \n",
    "  \n",
    "* Постройте дерево решений глубины 5 (остальные параметры по умолчанию), оцените качество на 5-fold валидации.  \n",
    "* Для одного из деревьев (т.е. обученного на одной из итераций кросс-валидации) выведите само дерево - постройте график или выведите в текстовом виде. По структуре дерева сформулируйте правила, по которым принимается решение.  \n",
    "* Сравните между собой деревья решений, полученных на различных итерациях 5-fold валидации. Сделайте вывод, насколько сильно они похожи или различаются между собой. "
   ]
  },
  {
   "cell_type": "code",
   "execution_count": null,
   "metadata": {
    "colab": {},
    "colab_type": "code",
    "id": "N84cPXo_p8Uy",
    "outputId": "9081c66c-6a9b-4abe-f28f-1bf7df23811e"
   },
   "outputs": [],
   "source": [
    "data.head(5)"
   ]
  },
  {
   "cell_type": "markdown",
   "metadata": {
    "colab_type": "text",
    "id": "x0wHhb-_p8U2"
   },
   "source": [
    "Разделим данные на обучающую и тестовую выборки:"
   ]
  },
  {
   "cell_type": "code",
   "execution_count": null,
   "metadata": {
    "colab": {},
    "colab_type": "code",
    "collapsed": true,
    "id": "UZaIcAO5p8U3"
   },
   "outputs": [],
   "source": [
    "(trainData, \n",
    " testData, \n",
    " train_label, \n",
    " test_label) = train_test_split(data.drop(['Churn'], axis=1),\n",
    "                                data['Churn'],\n",
    "                                test_size=0.3, \n",
    "                                random_state=236584)"
   ]
  },
  {
   "cell_type": "code",
   "execution_count": null,
   "metadata": {
    "colab": {},
    "colab_type": "code",
    "id": "2IXOnQMOp8U5",
    "outputId": "710214a1-e933-44f8-a0ac-ff5d708ab5bb"
   },
   "outputs": [],
   "source": [
    "print('Size of train set:', trainData.shape)\n",
    "print('Size of test set:', testData.shape)"
   ]
  },
  {
   "cell_type": "code",
   "execution_count": null,
   "metadata": {
    "colab": {},
    "colab_type": "code",
    "id": "m8x28ik0p8U9",
    "outputId": "8c3bd425-877f-419d-afc1-5a9346c4f443"
   },
   "outputs": [],
   "source": [
    "print('Class distribution on train:',\n",
    "      train_label.value_counts(normalize=True),\n",
    "      '\\nClass distribution on test:', \n",
    "      test_label.value_counts(normalize=True),\n",
    "      sep='\\n')"
   ]
  },
  {
   "cell_type": "markdown",
   "metadata": {
    "colab_type": "text",
    "id": "TNMVeyXpp8VC"
   },
   "source": [
    "Построим базовую модель:"
   ]
  },
  {
   "cell_type": "code",
   "execution_count": null,
   "metadata": {
    "colab": {},
    "colab_type": "code",
    "collapsed": true,
    "id": "B-iuP4kap8VC"
   },
   "outputs": [],
   "source": [
    "from sklearn.tree import DecisionTreeClassifier"
   ]
  },
  {
   "cell_type": "markdown",
   "metadata": {
    "colab_type": "text",
    "id": "rDPPqMIMp8VP"
   },
   "source": [
    "Оценим качество на 5-fold:"
   ]
  },
  {
   "cell_type": "code",
   "execution_count": null,
   "metadata": {
    "colab": {},
    "colab_type": "code",
    "collapsed": true,
    "id": "4d9pnkIYp8VT"
   },
   "outputs": [],
   "source": [
    "from sklearn.dummy import DummyClassifier\n",
    "from sklearn.model_selection import StratifiedKFold\n",
    "import graphviz\n",
    "from sklearn.tree import export_graphviz\n",
    "from sklearn.model_selection import KFold"
   ]
  },
  {
   "cell_type": "code",
   "execution_count": null,
   "metadata": {
    "collapsed": true
   },
   "outputs": [],
   "source": [
    "Data = data.drop(['Churn'], axis=1)\n",
    "label = data['Churn']"
   ]
  },
  {
   "cell_type": "code",
   "execution_count": null,
   "metadata": {
    "collapsed": true
   },
   "outputs": [],
   "source": [
    "def get_dot_data(model):\n",
    "    dot_data = export_graphviz(model, \n",
    "                           out_file=None, \n",
    "                           feature_names=Data.columns, \n",
    "                           class_names=['0', '1'],\n",
    "                           filled=True, \n",
    "                           rounded=True, \n",
    "                           special_characters=True)\n",
    "    return dot_data"
   ]
  },
  {
   "cell_type": "code",
   "execution_count": null,
   "metadata": {
    "colab": {},
    "colab_type": "code",
    "id": "elWvRKtkp8Va"
   },
   "outputs": [],
   "source": [
    "kf = KFold(n_splits=5)\n",
    "\n",
    "scores_f1 = []\n",
    "\n",
    "d_trees = []\n",
    "    \n",
    "for train_index, test_index in skf.split(Data, label): \n",
    "    x_train,x_test = Data.iloc[train_index],Data.iloc[test_index]\n",
    "    y_train,y_test = label.iloc[train_index],label.iloc[test_index]\n",
    "    \n",
    "    dtree_model = DecisionTreeClassifier(max_depth = 5)\n",
    "    dtree_model.fit(x_train, y_train)\n",
    "    \n",
    "    d_trees.append(dtree_model)\n",
    "    \n",
    "    preds = dtree_model.predict(x_test)\n",
    "    \n",
    "    scores_f1.append(metrics.f1_score(y_true=y_test, y_pred=preds))\n",
    "        \n",
    "scores_f1 = np.array(scores_f1)"
   ]
  },
  {
   "cell_type": "code",
   "execution_count": null,
   "metadata": {
    "colab": {},
    "colab_type": "code",
    "id": "VG1glcoNp8Ve",
    "outputId": "07a2cd16-adea-4a6a-dfad-489fd8d8d183"
   },
   "outputs": [],
   "source": [
    "print('\\nMean score F1:', round(np.mean(scores_f1), 5))"
   ]
  },
  {
   "cell_type": "code",
   "execution_count": null,
   "metadata": {},
   "outputs": [],
   "source": [
    "i = 0\n",
    "for d_tr in d_trees:\n",
    "    graph = graphviz.Source(get_dot_data(d_tr)) \n",
    "    graph.render('dtree_' + str(i))\n",
    "    i+=1"
   ]
  },
  {
   "cell_type": "markdown",
   "metadata": {},
   "source": [
    "От дерева к дереву меняются условия принятия решения. Чаще всего отличия присутствуют в значениях признаков. Реже отличаются части ветвей дерева и их порядок."
   ]
  },
  {
   "cell_type": "markdown",
   "metadata": {
    "colab_type": "text",
    "id": "NPl2KGmQp8Vl"
   },
   "source": [
    "Построю третье дерево и запишу для него правила принятия решения:"
   ]
  },
  {
   "cell_type": "code",
   "execution_count": null,
   "metadata": {
    "colab": {},
    "colab_type": "code",
    "id": "defa2kyRp8Vl",
    "outputId": "1ae72be2-f375-4492-aff5-d32b7ef6ba49"
   },
   "outputs": [],
   "source": [
    "graph = graphviz.Source(get_dot_data(d_trees[2])) \n",
    "graph.render(\"dtree_33\") "
   ]
  },
  {
   "cell_type": "markdown",
   "metadata": {
    "colab_type": "text",
    "id": "5Pvn6kp3p8Vo"
   },
   "source": [
    "Правила принятия решения (писал для одного из графиков деревьев, когда еще не поменял код, поэтому это описание может немного не совпадать, не успел переписать по времени :( )"
   ]
  },
  {
   "cell_type": "markdown",
   "metadata": {
    "colab_type": "text",
    "id": "QrRwr0l1p8Vp"
   },
   "source": [
    "Принадлежность к class 0:\n",
    "1. Если Total charge <= 74.04 && Customer service calls <= 3.5 && Plans <= 1.5 && Total night charge <= 7.405 && Total day charge <= 19.425\n",
    "\n",
    "2. Если Total charge <= 74.04 && Customer service calls <= 3.5 && Plans <= 1.5 && Total night charge <= 7.405 && Total day charge > 19.425\n",
    "\n",
    "3. Если Total charge <= 74.04 && Customer service calls <= 3.5 && Plans > 1.5 && Total intl charge <= 3.535 && Total day charge <=(>) 22.77\n",
    "\n",
    "4. Если Total charge <= 74.04 && Customer service calls > 3.5 && Total charge > 56.71 && Customer service calls <= 8.5 && Total eve charge <=(>=) 25.0\n",
    "\n",
    "5. Если Total charge > 74.04 && Plans > 0.5 && Plans <= 1.5 && Total day charge <= 67.935\n",
    "\n",
    "6. Если Total charge > 74.04 && Plans > 2.5 && Total night charge > 12.07"
   ]
  },
  {
   "cell_type": "markdown",
   "metadata": {
    "colab_type": "text",
    "id": "d3KGBaOxp8Vp"
   },
   "source": [
    "Принадлежность к class 1:\n",
    "\n",
    "1. Если Total charge <= 74.04 && Customer service calls <= 3.5 && Plans > 1.5 && Total intl charge > 3.535\n",
    "\n",
    "2. Если Total charge <= 74.04 && Customer service calls > 3.5 && Total charge <= 56.71\n",
    "\n",
    "3. Если Total charge <= 74.04 && Customer service calls > 3.5 && Total charge > 56.71 && Customer service calls > 8.5\n",
    "\n",
    "4. Если Total charge > 74.04 && Plans <= 0.5\n",
    "\n",
    "5. Если Total charge > 74.04 && Plans > 0.5 && Plans <= 1.5 && Total day charge > 67.935\n",
    "\n",
    "6. Если Total charge > 74.04 && Plans > 1.5 && Plans <= 2.5\n",
    "\n",
    "7. Если Total charge > 74.04 && Plans > 2.5 && Total night charge <= 12.07"
   ]
  },
  {
   "cell_type": "markdown",
   "metadata": {
    "colab_type": "text",
    "id": "p9JKdjQBp8Vy"
   },
   "source": [
    "## Задание 2  \n",
    "  \n",
    "На кросс-валидации (5-fold из 5 повторений) оцените, как меняется качество модели Random Forest с ростом числа деревьев (при дефолтных значениях остальных параметров). Провизуализируйте результаты. Сколько деревьев достаточно в данном случае и почему?  \n",
    "**NB:** В сравнение включите конфигурацию, аналогичную простому дереву решений. "
   ]
  },
  {
   "cell_type": "code",
   "execution_count": null,
   "metadata": {
    "colab": {},
    "colab_type": "code",
    "collapsed": true,
    "id": "wG2GvMidp8Vz"
   },
   "outputs": [],
   "source": [
    "from sklearn.model_selection import RepeatedStratifiedKFold\n",
    "from sklearn.ensemble.forest import RandomForestClassifier"
   ]
  },
  {
   "cell_type": "code",
   "execution_count": null,
   "metadata": {
    "colab": {},
    "colab_type": "code",
    "collapsed": true,
    "id": "IVkFg8JCp8V2"
   },
   "outputs": [],
   "source": [
    "trees_numbers = [1,2,5,10,50,100]"
   ]
  },
  {
   "cell_type": "code",
   "execution_count": null,
   "metadata": {
    "colab": {},
    "colab_type": "code",
    "collapsed": true,
    "id": "6-lS_Hyip8V5"
   },
   "outputs": [],
   "source": [
    "scores = {\n",
    "    1: [],\n",
    "    2:[],\n",
    "    5:[],\n",
    "    10:[],\n",
    "    50:[],\n",
    "    100:[]\n",
    "}\n",
    "\n",
    "Data = data.drop(['Churn'], axis=1)\n",
    "label = data['Churn']\n",
    "\n",
    "rskf = RepeatedStratifiedKFold(n_splits=5, n_repeats=5)\n",
    "\n",
    "for i in scores:\n",
    "    if i == 1:\n",
    "        bootstrap = False\n",
    "    else:\n",
    "        bootstrap = True\n",
    "        \n",
    "    randf_model = RandomForestClassifier(n_estimators=i, bootstrap=bootstrap)\n",
    "    scores[i] = pd.Series(cross_val_score(randf_model, Data, label, cv=rskf, scoring='f1_micro'))\n",
    "\n",
    "del Data, label"
   ]
  },
  {
   "cell_type": "code",
   "execution_count": null,
   "metadata": {
    "colab": {},
    "colab_type": "code",
    "id": "o4_TZ_Yjp8WA",
    "outputId": "ccac4331-e351-4577-e936-847d4747ed07"
   },
   "outputs": [],
   "source": [
    "for i in trees_numbers:  \n",
    "    scores[i].plot()\n",
    "    \n",
    "plt.ylabel('f1_micro')\n",
    "plt.xlabel('meausures_number')\n",
    "\n",
    "L = plt.legend()\n",
    "i = 0\n",
    "for num in trees_numbers:\n",
    "    L.get_texts()[i].set_text(str(num))\n",
    "    i = i + 1\n",
    "    \n",
    "plt.title('By trees_number')\n",
    "plt.show()"
   ]
  },
  {
   "cell_type": "markdown",
   "metadata": {
    "colab_type": "text",
    "id": "xgomYQT3p8WD"
   },
   "source": [
    "Из графика видно, что начиная с кол-ва деревьев равному 50, метрика изменяется незначительно. Отсюда следует вывод, что будет достаточно 50-100 деревьев."
   ]
  },
  {
   "cell_type": "markdown",
   "metadata": {
    "colab_type": "text",
    "id": "gk3_bn9Jp8WE"
   },
   "source": [
    "Добавлю на график scores решающего дерева из предыдущего задания для сравнения."
   ]
  },
  {
   "cell_type": "code",
   "execution_count": null,
   "metadata": {
    "colab": {},
    "colab_type": "code",
    "id": "0hfo-Ahzp8WF",
    "outputId": "ef4889c4-665e-4f97-c9c6-e54999f10838"
   },
   "outputs": [],
   "source": [
    "for i in trees_numbers:  \n",
    "    scores[i].plot()\n",
    "    \n",
    "pd.Series(scores_dtree).plot()\n",
    "\n",
    "plt.ylabel('f1_micro')\n",
    "plt.xlabel('meausures_number')\n",
    "\n",
    "L = plt.legend()\n",
    "i = 0\n",
    "for num in trees_numbers:\n",
    "    L.get_texts()[i].set_text(str(num))\n",
    "    i = i + 1\n",
    "    \n",
    "L.get_texts()[len(trees_numbers)].set_text('dtree_score')\n",
    "    \n",
    "plt.title('By trees_number')\n",
    "plt.show()"
   ]
  },
  {
   "cell_type": "markdown",
   "metadata": {
    "colab_type": "text",
    "id": "xxtwWvSdp8WI"
   },
   "source": [
    "Видно, что результаты решающего дерева и случайного леса с кол-вом деревьев 50-100, практически не отличаются"
   ]
  },
  {
   "cell_type": "code",
   "execution_count": null,
   "metadata": {
    "colab": {},
    "colab_type": "code",
    "id": "3m4wFtIXp8WJ",
    "outputId": "168934dd-664c-43f7-e996-8ef5500f655a"
   },
   "outputs": [],
   "source": [
    "scores = pd.DataFrame(scores)\n",
    "scores.columns = [str(i) + ' estimators' for i in scores.columns]\n",
    "scores.describe()"
   ]
  },
  {
   "cell_type": "markdown",
   "metadata": {
    "colab_type": "text",
    "id": "1nXuXIyXp8WM"
   },
   "source": [
    "### Задание 3  \n",
    "  \n",
    "* Настройте гиперпараметры модели Random Forest на 5-fold валдиации из 5 повторений. В качестве метрики используйте F1-score. Замерьте время, затраченное на вычисления.\n",
    "* Разделите данные на обучающую и тестовую выборки в пропорциях 70:30. Обучите Random Forest  с настроенными параметрами на обучающей выборке. На тестовой выборке оцените качество (F1-score) всего ансамбля и <u>каждого дерева отдельно</u>. Постройте график распределения качества деревьев в ансамбле и сравните результаты с качеством всего леса. Дайте комментарий.  \n",
    "* Выведите важность признаков в Random Forest, сделайте выводы. "
   ]
  },
  {
   "cell_type": "code",
   "execution_count": null,
   "metadata": {
    "colab": {},
    "colab_type": "code",
    "collapsed": true,
    "id": "BFN6ypSrp8WM"
   },
   "outputs": [],
   "source": [
    "from sklearn.model_selection import GridSearchCV"
   ]
  },
  {
   "cell_type": "code",
   "execution_count": null,
   "metadata": {
    "collapsed": true
   },
   "outputs": [],
   "source": [
    "params= {\n",
    "    \"n_estimators\": [10,20,30], \n",
    "    \"bootstrap\": [True, False],\n",
    "    \"max_depth\": [3, 5, None], \n",
    "    \"max_features\": [1, 5, 7], \n",
    "    \"min_samples_split\": [2, 4, 8], \n",
    "    \"min_samples_leaf\": [1, 3, 10], \n",
    "}"
   ]
  },
  {
   "cell_type": "code",
   "execution_count": null,
   "metadata": {
    "colab": {},
    "colab_type": "code",
    "collapsed": true,
    "id": "5fHp4lGFp8WT",
    "outputId": "4b2c53ea-9c74-4794-cebd-f4995c83d399"
   },
   "outputs": [],
   "source": [
    "rdf_model = RandomForestClassifier()\n",
    "rskf = RepeatedStratifiedKFold(n_splits = 5, n_repeats = 5)\n",
    "clf = GridSearchCV(rdf_model, params, cv=rskf, scoring=\"f1\", n_jobs=8)"
   ]
  },
  {
   "cell_type": "code",
   "execution_count": null,
   "metadata": {
    "colab": {},
    "colab_type": "code",
    "collapsed": true,
    "id": "hS2ONfImp8WV",
    "outputId": "feefdf36-e37e-4d98-d3f5-78e16e3054b1"
   },
   "outputs": [],
   "source": [
    "Data = data.drop(['Churn'], axis=1)\n",
    "label = data['Churn']"
   ]
  },
  {
   "cell_type": "code",
   "execution_count": null,
   "metadata": {
    "colab": {},
    "colab_type": "code",
    "id": "6Zq5w722p8WZ",
    "outputId": "2331edc7-45d3-4775-c43c-1a8223228fa7"
   },
   "outputs": [],
   "source": [
    "%%time\n",
    "clf.fit(Data, label)"
   ]
  },
  {
   "cell_type": "code",
   "execution_count": null,
   "metadata": {},
   "outputs": [],
   "source": [
    "clf.best_score_"
   ]
  },
  {
   "cell_type": "code",
   "execution_count": null,
   "metadata": {
    "colab": {},
    "colab_type": "code",
    "id": "_yoGoZSEp8Wb",
    "outputId": "be0594c8-0489-45a4-edf0-1c449245ee8a"
   },
   "outputs": [],
   "source": [
    "clf.best_params_"
   ]
  },
  {
   "cell_type": "markdown",
   "metadata": {
    "colab_type": "text",
    "id": "0AeRg0bFp8Wi"
   },
   "source": [
    "Оценю качество всего леса на тестовых данных."
   ]
  },
  {
   "cell_type": "code",
   "execution_count": null,
   "metadata": {
    "colab": {},
    "colab_type": "code",
    "collapsed": true,
    "id": "v8DpiRcZp8Wk"
   },
   "outputs": [],
   "source": [
    "(trainData, \n",
    " testData, \n",
    " train_label, \n",
    " test_label) = train_test_split(data.drop(['Churn'], axis=1),\n",
    "                                data['Churn'],\n",
    "                                test_size=0.3, \n",
    "                                random_state=236584)"
   ]
  },
  {
   "cell_type": "code",
   "execution_count": null,
   "metadata": {
    "colab": {},
    "colab_type": "code",
    "id": "m080bjyxp8Wn",
    "outputId": "4a91a7f7-fe46-4eb5-eed9-419b763c755b"
   },
   "outputs": [],
   "source": [
    "rdf_model = RandomForestClassifier(\n",
    "bootstrap=True,\n",
    "n_estimators=20,\n",
    "max_depth=None,\n",
    "min_samples_leaf=10,\n",
    "min_samples_split=2,\n",
    "max_features=6)\n",
    "\n",
    "skf = RepeatedStratifiedKFold(n_splits = 5, n_repeats=5)\n",
    "\n",
    "rdf_model.fit(trainData, train_label)"
   ]
  },
  {
   "cell_type": "markdown",
   "metadata": {
    "colab_type": "text",
    "id": "f3vDYJvgp8Wp"
   },
   "source": [
    "На тестовой выборке оценю качество f1 score всего ансамбля и каждого дерева отдельно. Построю график распределения качества деревьев в ансамбле"
   ]
  },
  {
   "cell_type": "code",
   "execution_count": null,
   "metadata": {
    "colab": {},
    "colab_type": "code",
    "collapsed": true,
    "id": "htfW8EOtp8Wq"
   },
   "outputs": [],
   "source": [
    "scores = pd.Series(\n",
    "    [\n",
    "        metrics.f1_score(test_label, x.predict(testData)) for x in rdf_model.estimators_ \n",
    "    ]\n",
    ")"
   ]
  },
  {
   "cell_type": "code",
   "execution_count": null,
   "metadata": {
    "colab": {},
    "colab_type": "code",
    "id": "aHgwF0oAp8Ws",
    "outputId": "67dc47c4-2dcf-4aa7-8090-06a29bc0a895"
   },
   "outputs": [],
   "source": [
    "scores"
   ]
  },
  {
   "cell_type": "code",
   "execution_count": null,
   "metadata": {
    "colab": {},
    "colab_type": "code",
    "id": "EYbooa2pp8Wu",
    "outputId": "826391af-eb4c-4236-b6f5-fe25d665126b"
   },
   "outputs": [],
   "source": [
    "scores.describe()"
   ]
  },
  {
   "cell_type": "code",
   "execution_count": null,
   "metadata": {
    "colab": {},
    "colab_type": "code",
    "id": "ZjzCOp7Pp8Wy",
    "outputId": "89caf8ea-3ae9-4146-ba4d-68e5c0eac056"
   },
   "outputs": [],
   "source": [
    "sns.boxplot(scores)\n",
    "plt.xlabel('f1-score')\n",
    "plt.show()"
   ]
  },
  {
   "cell_type": "code",
   "execution_count": null,
   "metadata": {
    "colab": {},
    "colab_type": "code",
    "id": "PbN2qHGxp8W1",
    "outputId": "0be3be32-0d45-46f0-dc0d-0059799d5e63"
   },
   "outputs": [],
   "source": [
    "rdf_score = metrics.f1_score(test_label, rdf_model.predict(testData))\n",
    "rdf_score"
   ]
  },
  {
   "cell_type": "markdown",
   "metadata": {
    "colab_type": "text",
    "id": "voNsGx-_p8W5"
   },
   "source": [
    "Средний score по всем деревьям примерно равен score-у всего леса."
   ]
  },
  {
   "cell_type": "markdown",
   "metadata": {
    "colab_type": "text",
    "id": "379FSkVVp8W5"
   },
   "source": [
    "Оценю важность признаков в Random forest"
   ]
  },
  {
   "cell_type": "code",
   "execution_count": null,
   "metadata": {
    "colab": {},
    "colab_type": "code",
    "id": "U1tJZopbp8W6",
    "outputId": "dda3061f-8fe1-420a-f77b-1bc5af954487"
   },
   "outputs": [],
   "source": [
    "scores = cross_val_score(rdf_model, testData, test_label, cv=rskf, scoring='f1_micro')\n",
    "scores"
   ]
  },
  {
   "cell_type": "code",
   "execution_count": null,
   "metadata": {
    "colab": {},
    "colab_type": "code",
    "id": "PYzp-WgVp8W9",
    "outputId": "1f339e84-2e7e-421a-e0c7-df4f868b1f22"
   },
   "outputs": [],
   "source": [
    "rdf_model.feature_importances_"
   ]
  },
  {
   "cell_type": "code",
   "execution_count": null,
   "metadata": {
    "colab": {},
    "colab_type": "code",
    "id": "Nyk7rx4sp8W_",
    "outputId": "d9d1cc2c-ff59-4555-de9d-db38633dd95e"
   },
   "outputs": [],
   "source": [
    "d = data.drop(['Churn'], axis = 1)\n",
    "pd.Series(rdf_model.feature_importances_, index=d.columns).sort_values(ascending=False)"
   ]
  },
  {
   "cell_type": "markdown",
   "metadata": {
    "colab_type": "text",
    "id": "WkSz7o8Wp8XE"
   },
   "source": [
    "Видно, что общее кол-во оплат за услуги, а также выбранный тариф имеют наибольший вклад. Люди могут быть недовольны либо высокими ценами, либо конкретно ценами или услугами в рамках какого-то тарифа. На 3-м месте стоит признак - кол-во обращений в службу поддержки. То есть, если потребителю что-то не нравится, он звонит в компанию и с более высокой выроятностью он может потом отказаться от услуг."
   ]
  },
  {
   "cell_type": "markdown",
   "metadata": {
    "colab_type": "text",
    "id": "EGwwLaqjp8XE"
   },
   "source": [
    "### Задание 4  \n",
    "  \n",
    "* Используйте логистическую регрессию для решения задачи, оцените качество (roc auc) на 5-fold валидации из 5 повторений. \n",
    "* Аналогично (на такой же валидации с такой же метрикой) оцените качество Random Forest  с подобранными в предыдущем задании параметрами. Сравните с качеством логистическом регрессии.\n",
    "* Разделите данные на обучающую и тестовую выборки в пропорциях 70:30. На обучающей выборке обучите логистическую регрессию и Random Forest  с настроенными параметрами. Для обеих моделей оцените качество на тестовой выборке - постройте ROC-кривую, вычислите roc auc."
   ]
  },
  {
   "cell_type": "markdown",
   "metadata": {
    "colab_type": "text",
    "id": "Cw-oFkuHp8XF"
   },
   "source": [
    "Логистическая регрессия."
   ]
  },
  {
   "cell_type": "code",
   "execution_count": null,
   "metadata": {
    "colab": {},
    "colab_type": "code",
    "collapsed": true,
    "id": "Fhjq8l8Wp8XF"
   },
   "outputs": [],
   "source": [
    "from sklearn.linear_model import LogisticRegression\n",
    "from sklearn.metrics import roc_curve, auc, roc_auc_score\n",
    "from pylab import *"
   ]
  },
  {
   "cell_type": "code",
   "execution_count": null,
   "metadata": {
    "colab": {},
    "colab_type": "code",
    "collapsed": true,
    "id": "KXidk3WtGa5Q"
   },
   "outputs": [],
   "source": [
    "Data = data.drop(['Churn'], axis = 1)\n",
    "Label = data['Churn']"
   ]
  },
  {
   "cell_type": "code",
   "execution_count": null,
   "metadata": {
    "colab": {},
    "colab_type": "code",
    "id": "_ym-MYvnp8XH",
    "outputId": "acf23a84-28fe-4c07-8bff-2bed31b2be9b"
   },
   "outputs": [],
   "source": [
    "log_model = LogisticRegression(C=2)\n",
    "log_model.fit(Data, Label)"
   ]
  },
  {
   "cell_type": "code",
   "execution_count": null,
   "metadata": {
    "colab": {},
    "colab_type": "code",
    "collapsed": true,
    "id": "lw81Lc-1p8XU"
   },
   "outputs": [],
   "source": [
    "predictedLabels = log_model.predict(testData)"
   ]
  },
  {
   "cell_type": "code",
   "execution_count": null,
   "metadata": {
    "colab": {},
    "colab_type": "code",
    "id": "5adsgU9kp8XW",
    "outputId": "842bc515-cab7-4ca0-84aa-7082a2742658"
   },
   "outputs": [],
   "source": [
    "predictedLabels.shape"
   ]
  },
  {
   "cell_type": "code",
   "execution_count": null,
   "metadata": {
    "colab": {},
    "colab_type": "code",
    "id": "3OACqEHOp8Xg",
    "outputId": "3a6e869e-945a-4889-b58d-8279d824cacb"
   },
   "outputs": [],
   "source": [
    "plt.plot(test_label[1:300].values, 'b-', label='true')\n",
    "plt.plot(predictedLabels[1:300], 'r-', label='pred')\n",
    "\n",
    "plt.xlabel(\"observations\")\n",
    "plt.ylabel(\"Churn\")\n",
    "\n",
    "plt.legend(loc='best')\n",
    "\n",
    "plt.show()"
   ]
  },
  {
   "cell_type": "code",
   "execution_count": null,
   "metadata": {
    "collapsed": true
   },
   "outputs": [],
   "source": [
    "rskf = RepeatedStratifiedKFold(n_splits=5, n_repeats=5)\n",
    "roc_auc_log = cross_val_score(log_model, Data, Label, cv=rskf, scoring='roc_auc')"
   ]
  },
  {
   "cell_type": "code",
   "execution_count": null,
   "metadata": {},
   "outputs": [],
   "source": [
    "roc_auc_log.mean()"
   ]
  },
  {
   "cell_type": "markdown",
   "metadata": {
    "colab_type": "text",
    "id": "r6rid_syp8Xr"
   },
   "source": [
    "Random Forest"
   ]
  },
  {
   "cell_type": "code",
   "execution_count": null,
   "metadata": {
    "colab": {},
    "colab_type": "code",
    "id": "TkDZYUa4p8Xr",
    "outputId": "c357438e-88dd-436c-de3d-25c3a94eafef"
   },
   "outputs": [],
   "source": [
    "rdf_model = RandomForestClassifier(\n",
    "    n_estimators=5,\n",
    "    max_depth=5,\n",
    "    min_samples_leaf=1,\n",
    "    min_samples_split=4,\n",
    "    max_features=6)\n",
    "\n",
    "rdf_model.fit(Data, Label)"
   ]
  },
  {
   "cell_type": "code",
   "execution_count": null,
   "metadata": {
    "colab": {},
    "colab_type": "code",
    "collapsed": true,
    "id": "K_cp21X7p8Xt",
    "outputId": "7d8cc701-bc8b-4377-f2cc-557747495e98"
   },
   "outputs": [],
   "source": [
    "rskf = RepeatedStratifiedKFold(n_splits=5, n_repeats=5)\n",
    "roc_auc_rdf = cross_val_score(rdf_model, Data, Label, cv=rskf, scoring='roc_auc')"
   ]
  },
  {
   "cell_type": "code",
   "execution_count": null,
   "metadata": {
    "colab": {},
    "colab_type": "code",
    "id": "8mYtINdIp8Xv",
    "outputId": "fcf281fb-773c-4d2e-a47e-6fda24928e74"
   },
   "outputs": [],
   "source": [
    "roc_auc_rdf.mean()"
   ]
  },
  {
   "cell_type": "markdown",
   "metadata": {
    "colab_type": "text",
    "id": "eLJLLpQ2p8Xx"
   },
   "source": [
    "Если судить по roc_auc, то качество у случайного леса практически не отличается от логистической регрессии."
   ]
  },
  {
   "cell_type": "markdown",
   "metadata": {},
   "source": [
    "Обучу модели на тренировочных данных."
   ]
  },
  {
   "cell_type": "code",
   "execution_count": null,
   "metadata": {},
   "outputs": [],
   "source": [
    "log_model = LogisticRegression(C=2)\n",
    "log_model.fit(trainData, train_label)"
   ]
  },
  {
   "cell_type": "code",
   "execution_count": null,
   "metadata": {
    "collapsed": true
   },
   "outputs": [],
   "source": [
    "preds = log_model.predict(testData)\n",
    "roc_auc_log_test = metrics.roc_auc_score(test_label, preds)"
   ]
  },
  {
   "cell_type": "code",
   "execution_count": null,
   "metadata": {},
   "outputs": [],
   "source": [
    "roc_auc_log_test"
   ]
  },
  {
   "cell_type": "code",
   "execution_count": null,
   "metadata": {},
   "outputs": [],
   "source": [
    "rdf_model = RandomForestClassifier(\n",
    "    n_estimators=5,\n",
    "    max_depth=5,\n",
    "    min_samples_leaf=1,\n",
    "    min_samples_split=4,\n",
    "    max_features=6)\n",
    "\n",
    "rdf_model.fit(trainData, train_label)"
   ]
  },
  {
   "cell_type": "code",
   "execution_count": null,
   "metadata": {
    "collapsed": true
   },
   "outputs": [],
   "source": [
    "preds = rdf_model.predict(testData)\n",
    "roc_auc_rdf_test = metrics.roc_auc_score(test_label, preds)"
   ]
  },
  {
   "cell_type": "code",
   "execution_count": null,
   "metadata": {},
   "outputs": [],
   "source": [
    "roc_auc_rdf_test"
   ]
  },
  {
   "cell_type": "markdown",
   "metadata": {
    "colab_type": "text",
    "id": "etkhReCvp8Xy"
   },
   "source": [
    "Построю roc кривую для логистической модели."
   ]
  },
  {
   "cell_type": "code",
   "execution_count": null,
   "metadata": {
    "colab": {},
    "colab_type": "code",
    "id": "praBvJbCp8Xy",
    "outputId": "2a12843a-9006-4ca2-f5f3-fb218d5629cf"
   },
   "outputs": [],
   "source": [
    "preds = log_model.predict_proba(testData)[:,1]\n",
    "frp,trp, threshold = roc_curve(test_label, preds)\n",
    "roc_auc_ = auc(frp,trp)\n",
    "\n",
    "plt.figure(figsize=(14,8))\n",
    "plt.title('Reciever Operating Characteristics')\n",
    "plt.plot(frp,trp,'r',label = 'AUC = %0.2f' % roc_auc_)\n",
    "plt.legend(loc='lower right')\n",
    "plt.plot([0,1],[0,1],'b--')\n",
    "plt.ylabel('True positive rate')\n",
    "plt.xlabel('False positive rate')"
   ]
  },
  {
   "cell_type": "markdown",
   "metadata": {
    "colab_type": "text",
    "id": "zvMrvhJPp8X3"
   },
   "source": [
    "Построю roc кривую для случайного леса."
   ]
  },
  {
   "cell_type": "code",
   "execution_count": null,
   "metadata": {
    "colab": {},
    "colab_type": "code",
    "id": "Bm_v_mWNp8X3",
    "outputId": "346d0ba3-e8f4-4a84-8218-23966b08066d"
   },
   "outputs": [],
   "source": [
    "preds = rdf_model.predict_proba(testData)[:,1]\n",
    "frp,trp, threshold = roc_curve(test_label, preds)\n",
    "roc_auc_ = auc(frp,trp)\n",
    "\n",
    "plt.figure(figsize=(14,8))\n",
    "plt.title('Reciever Operating Characteristics')\n",
    "plt.plot(frp,trp,'r',label = 'AUC = %0.2f' % roc_auc_)\n",
    "plt.legend(loc='lower right')\n",
    "plt.plot([0,1],[0,1],'b--')\n",
    "plt.ylabel('True positive rate')\n",
    "plt.xlabel('False positive rate')"
   ]
  },
  {
   "cell_type": "markdown",
   "metadata": {
    "colab_type": "text",
    "id": "wSEhe_PJp8X6"
   },
   "source": [
    "### Задание 5  \n",
    "  \n",
    "Настройте гиперпараметры модели SVM на 5-fold валидации из 5 повторений. В качестве метрики используйте F1-score. Замерьте время, затраченное на вычисления.    \n",
    "Каково качество модели? Каков разброс значений метрики? Насколько сильно различие между лучшей и худшей конфигурациями параметров?"
   ]
  },
  {
   "cell_type": "code",
   "execution_count": null,
   "metadata": {
    "colab": {},
    "colab_type": "code",
    "collapsed": true,
    "id": "GpDiR6mDp8X7"
   },
   "outputs": [],
   "source": [
    "from sklearn.svm import SVC, LinearSVC\n",
    "from sklearn.metrics import f1_score\n",
    "from sklearn.preprocessing import StandardScaler\n",
    "from sklearn.model_selection import GridSearchCV"
   ]
  },
  {
   "cell_type": "code",
   "execution_count": null,
   "metadata": {
    "collapsed": true
   },
   "outputs": [],
   "source": [
    "Data = data.drop(['Churn'], axis = 1)"
   ]
  },
  {
   "cell_type": "code",
   "execution_count": null,
   "metadata": {
    "colab": {},
    "colab_type": "code",
    "id": "pyel6cGcQuE8"
   },
   "outputs": [],
   "source": [
    "std_scaler = StandardScaler()\n",
    "std_scaler.fit(Data)"
   ]
  },
  {
   "cell_type": "code",
   "execution_count": null,
   "metadata": {
    "colab": {},
    "colab_type": "code",
    "collapsed": true,
    "id": "CUjk8llJQ8Ly"
   },
   "outputs": [],
   "source": [
    "Data.iloc[:,:] = std_scaler.transform(Data)"
   ]
  },
  {
   "cell_type": "code",
   "execution_count": null,
   "metadata": {},
   "outputs": [],
   "source": [
    "Data.shape"
   ]
  },
  {
   "cell_type": "code",
   "execution_count": null,
   "metadata": {
    "colab": {},
    "colab_type": "code",
    "id": "lkZxpbcSRBWA"
   },
   "outputs": [],
   "source": [
    "Data.head()"
   ]
  },
  {
   "cell_type": "code",
   "execution_count": null,
   "metadata": {
    "colab": {},
    "colab_type": "code",
    "id": "koOz-kS9ROmG"
   },
   "outputs": [],
   "source": [
    "params = {\n",
    "    'C': [0.001, 0.01, 0.1, 1, 10],\n",
    "    'gamma': [0.001, 0.01, 0.1, 1]\n",
    "}\n",
    "\n",
    "rskf = RepeatedStratifiedKFold(n_splits=5, n_repeats=5)\n",
    "svm_model = SVC(kernel='rbf')\n",
    "\n",
    "clf = GridSearchCV(svm_model, params, cv=rskf, scoring='f1_micro', n_jobs=8)"
   ]
  },
  {
   "cell_type": "code",
   "execution_count": null,
   "metadata": {
    "colab": {},
    "colab_type": "code",
    "collapsed": true,
    "id": "rR3qiCJNSYtn"
   },
   "outputs": [],
   "source": [
    "Label = data['Churn']"
   ]
  },
  {
   "cell_type": "code",
   "execution_count": null,
   "metadata": {
    "colab": {},
    "colab_type": "code",
    "id": "MMsHx4UxR20_"
   },
   "outputs": [],
   "source": [
    "%%time\n",
    "clf.fit(Data, Label)"
   ]
  },
  {
   "cell_type": "code",
   "execution_count": null,
   "metadata": {
    "colab": {},
    "colab_type": "code",
    "id": "vtDYuNz7TFM5"
   },
   "outputs": [],
   "source": [
    "clf.best_params_"
   ]
  },
  {
   "cell_type": "code",
   "execution_count": null,
   "metadata": {
    "colab": {},
    "colab_type": "code",
    "id": "7fM_QlfBTHgS"
   },
   "outputs": [],
   "source": [
    "clf.best_score_"
   ]
  },
  {
   "cell_type": "code",
   "execution_count": null,
   "metadata": {},
   "outputs": [],
   "source": [
    "clf.cv_results_"
   ]
  },
  {
   "cell_type": "code",
   "execution_count": null,
   "metadata": {},
   "outputs": [],
   "source": [
    "pd.DataFrame.from_dict(clf.cv_results_).mean_test_score.plot.box()"
   ]
  },
  {
   "cell_type": "code",
   "execution_count": null,
   "metadata": {
    "collapsed": true
   },
   "outputs": [],
   "source": [
    "def GridSearch_table_plot(grid_clf, param_name,\n",
    "                          num_results=15,\n",
    "                          negative=True,\n",
    "                          graph=True,\n",
    "                          display_all_params=True):\n",
    "    from matplotlib      import pyplot as plt\n",
    "    from IPython.display import display\n",
    "    import pandas as pd\n",
    "\n",
    "    clf = grid_clf.best_estimator_\n",
    "    clf_params = grid_clf.best_params_\n",
    "    if negative:\n",
    "        clf_score = -grid_clf.best_score_\n",
    "    else:\n",
    "        clf_score = grid_clf.best_score_\n",
    "    clf_stdev = grid_clf.cv_results_['std_test_score'][grid_clf.best_index_]\n",
    "    cv_results = grid_clf.cv_results_\n",
    "\n",
    "    print(\"best parameters: {}\".format(clf_params))\n",
    "    print(\"best score:      {:0.5f} (+/-{:0.5f})\".format(clf_score, clf_stdev))\n",
    "    if display_all_params:\n",
    "        import pprint\n",
    "        pprint.pprint(clf.get_params())\n",
    "\n",
    "    scores_df = pd.DataFrame(cv_results).sort_values(by='rank_test_score')\n",
    "\n",
    "    best_row = scores_df.iloc[0, :]\n",
    "    if negative:\n",
    "        best_mean = -best_row['mean_test_score']\n",
    "    else:\n",
    "        best_mean = best_row['mean_test_score']\n",
    "    best_stdev = best_row['std_test_score']\n",
    "    best_param = best_row['param_' + param_name]\n",
    "\n",
    "    display(pd.DataFrame(cv_results) \\\n",
    "            .sort_values(by='rank_test_score').head(num_results))\n",
    "\n",
    "    scores_df = scores_df.sort_values(by='param_' + param_name)\n",
    "\n",
    "    if negative:\n",
    "        means = -scores_df['mean_test_score']\n",
    "    else:\n",
    "        means = scores_df['mean_test_score']\n",
    "    stds = scores_df['std_test_score']\n",
    "    params = scores_df['param_' + param_name]\n",
    "\n",
    "    if graph:\n",
    "        plt.figure(figsize=(8, 8))\n",
    "        plt.errorbar(params, means, yerr=stds)\n",
    "\n",
    "        plt.axhline(y=best_mean + best_stdev, color='red')\n",
    "        plt.axhline(y=best_mean - best_stdev, color='red')\n",
    "        plt.plot(best_param, best_mean, 'or')\n",
    "\n",
    "        plt.title(param_name + \" vs Score\\nBest Score {:0.5f}\".format(clf_score))\n",
    "        plt.xlabel(param_name)\n",
    "        plt.ylabel('Score')\n",
    "        plt.show()"
   ]
  },
  {
   "cell_type": "code",
   "execution_count": null,
   "metadata": {},
   "outputs": [],
   "source": [
    "GridSearch_table_plot(clf, 'C')"
   ]
  },
  {
   "cell_type": "code",
   "execution_count": null,
   "metadata": {},
   "outputs": [],
   "source": [
    "GridSearch_table_plot(clf, 'gamma')"
   ]
  },
  {
   "cell_type": "markdown",
   "metadata": {},
   "source": [
    "# Задание 6"
   ]
  },
  {
   "cell_type": "markdown",
   "metadata": {},
   "source": [
    "Для алгоритма AdaBoost с параметрами по умолчанию оцените на 5-fold валидации, как растет качество модели на обучающей и на тестовой выборках при добавлении каждого дерева. Провизуализируйте результаты."
   ]
  },
  {
   "cell_type": "code",
   "execution_count": null,
   "metadata": {
    "colab": {},
    "colab_type": "code",
    "id": "4Z9LSPIpp8YW",
    "outputId": "a62d5ceb-ad5c-4495-c2a6-1feadaa22321"
   },
   "outputs": [],
   "source": [
    "ab_model = AdaBoostClassifier()\n",
    "ab_model.fit(trainData, train_label)"
   ]
  },
  {
   "cell_type": "code",
   "execution_count": null,
   "metadata": {
    "colab": {},
    "colab_type": "code",
    "collapsed": true,
    "id": "U6NCs8Q8p8YZ"
   },
   "outputs": [],
   "source": [
    "staged_scores = []\n",
    "\n",
    "for x in ab_model.staged_predict(testData):\n",
    "    staged_scores.append(metrics.f1_score(test_label, x))\n",
    "    \n",
    "staged_scores = pd.Series(staged_scores)"
   ]
  },
  {
   "cell_type": "code",
   "execution_count": null,
   "metadata": {
    "colab": {},
    "colab_type": "code",
    "collapsed": true,
    "id": "d_ly-wehp8Yc"
   },
   "outputs": [],
   "source": [
    "from sklearn.model_selection import KFold"
   ]
  },
  {
   "cell_type": "code",
   "execution_count": null,
   "metadata": {
    "colab": {},
    "colab_type": "code",
    "collapsed": true,
    "id": "6X_VreJPp8Ye"
   },
   "outputs": [],
   "source": [
    "kf = KFold(n_splits=5)\n",
    "\n",
    "scores = []\n",
    "scores_train = []\n",
    "\n",
    "Data = data.drop(['Churn'], axis = 1)\n",
    "label = data['Churn']\n",
    "\n",
    "for train_index, test_index in kf.split(Data):\n",
    "    x_train, x_test = Data.iloc[train_index], Data.iloc[test_index]\n",
    "    y_train, y_test = label.iloc[train_index], label.iloc[test_index]\n",
    "    \n",
    "    ab_model = AdaBoostClassifier()\n",
    "    ab_model.fit(x_train, y_train)\n",
    "    \n",
    "    staged_scores = []\n",
    "    for x in ab_model.staged_predict(x_test):\n",
    "        staged_scores.append(metrics.f1_score(y_test,x))\n",
    "        \n",
    "    staged_scores_train = []\n",
    "    for x in ab_model.staged_predict(x_train):\n",
    "        staged_scores_train.append(metrics.f1_score(y_train,x))  \n",
    "        \n",
    "    staged_scores = pd.Series(staged_scores)\n",
    "    staged_scores_train = pd.Series(staged_scores_train)\n",
    "    \n",
    "    scores.append(staged_scores)\n",
    "    scores_train.append(staged_scores_train)\n",
    "    \n",
    "del Data, label"
   ]
  },
  {
   "cell_type": "code",
   "execution_count": null,
   "metadata": {
    "colab": {},
    "colab_type": "code",
    "id": "H64NfFuAp8Yj",
    "outputId": "3bddb81f-3240-4848-8d44-bc91c306d0d2"
   },
   "outputs": [],
   "source": [
    "for i in range(len(scores)):\n",
    "    scores[i].plot()\n",
    "\n",
    "plt.xlabel('step')\n",
    "plt.ylabel('f1_micro_value')\n",
    "\n",
    "plt.title('Staged')\n",
    "plt.show()"
   ]
  },
  {
   "cell_type": "markdown",
   "metadata": {
    "colab_type": "text",
    "id": "sfrxZ_pnp8Yl"
   },
   "source": [
    "### Задание 7  \n",
    "  \n",
    "* Настройте гиперпараметры AdaBoost на 5-fold валидации из 5 повторений, используя в качестве базовых классификаторов дерево решений и SVM. В качестве метрики используйте F1-score. Замерьте время, затраченное на вычисления.    \n",
    "* Выведите наилучшую конфигурацию параметров для каждого базового классификатора. Сравните качество. "
   ]
  },
  {
   "cell_type": "code",
   "execution_count": null,
   "metadata": {
    "collapsed": true
   },
   "outputs": [],
   "source": [
    "from sklearn.ensemble import AdaBoostClassifier"
   ]
  },
  {
   "cell_type": "code",
   "execution_count": null,
   "metadata": {
    "collapsed": true
   },
   "outputs": [],
   "source": [
    "Data = data.drop(['Churn'], axis=1)\n",
    "Label = data['Churn']"
   ]
  },
  {
   "cell_type": "code",
   "execution_count": null,
   "metadata": {
    "colab": {},
    "colab_type": "code",
    "collapsed": true,
    "id": "_bgCj1Cnp8Yl"
   },
   "outputs": [],
   "source": [
    "params = {\n",
    "    'base_estimator__criterion' : ['gini', 'entropy'],\n",
    "    'base_estimator__splitter' :   ['best', 'random'],\n",
    "    'base_estimator__max_depth': range(1, 6),\n",
    "    'n_estimators': range(10,101,10),\n",
    "    'learning_rate': [0.5, 0.6, 0.7, 0.8, 0.9, 1]\n",
    "}"
   ]
  },
  {
   "cell_type": "code",
   "execution_count": null,
   "metadata": {
    "collapsed": true
   },
   "outputs": [],
   "source": [
    "rskf = RepeatedStratifiedKFold(n_splits=5, n_repeats=5)\n",
    "dtree_model = DecisionTreeClassifier()\n",
    "ab_model = AdaBoostClassifier(base_estimator=dtree_model)\n",
    "clf = GridSearchCV(ab_model, params, cv=rskf, scoring='f1_micro', n_jobs=8)"
   ]
  },
  {
   "cell_type": "code",
   "execution_count": null,
   "metadata": {
    "collapsed": true
   },
   "outputs": [],
   "source": [
    "frac_data = Data.sample(frac =.01) \n",
    "frac_label = Label.sample(frac =.01)"
   ]
  },
  {
   "cell_type": "code",
   "execution_count": null,
   "metadata": {},
   "outputs": [],
   "source": [
    "frac_data.shape"
   ]
  },
  {
   "cell_type": "code",
   "execution_count": null,
   "metadata": {},
   "outputs": [],
   "source": [
    "%%time\n",
    "clf.fit(frac_data, frac_label)"
   ]
  },
  {
   "cell_type": "code",
   "execution_count": null,
   "metadata": {},
   "outputs": [],
   "source": [
    "clf.best_score_"
   ]
  },
  {
   "cell_type": "code",
   "execution_count": null,
   "metadata": {},
   "outputs": [],
   "source": [
    "clf.best_params_"
   ]
  },
  {
   "cell_type": "code",
   "execution_count": null,
   "metadata": {
    "collapsed": true
   },
   "outputs": [],
   "source": [
    "rskf = RepeatedStratifiedKFold(n_splits=5, n_repeats=5)\n",
    "svm_model = SVC(probability=True, kernel='linear', C=10.0, gamma=0.1)\n",
    "ab_model = AdaBoostClassifier()"
   ]
  },
  {
   "cell_type": "code",
   "execution_count": null,
   "metadata": {
    "collapsed": true
   },
   "outputs": [],
   "source": [
    "params = {\n",
    "    'base_estimator': [svm_model],\n",
    "    'n_estimators': range(10,101,10),\n",
    "    'learning_rate': [0.5, 0.6, 0.7, 0.8, 0.9, 1],\n",
    "    'algorithm': ['SAMME']\n",
    "}"
   ]
  },
  {
   "cell_type": "code",
   "execution_count": null,
   "metadata": {
    "collapsed": true
   },
   "outputs": [],
   "source": [
    "clf = GridSearchCV(ab_model, param_grid=params, cv=rskf, scoring='f1_micro', n_jobs=8)"
   ]
  },
  {
   "cell_type": "code",
   "execution_count": null,
   "metadata": {
    "collapsed": true
   },
   "outputs": [],
   "source": [
    "frac_data = Data.sample(frac =.30) \n",
    "frac_label = Label.sample(frac =.30)"
   ]
  },
  {
   "cell_type": "code",
   "execution_count": null,
   "metadata": {},
   "outputs": [],
   "source": [
    "%%time\n",
    "clf.fit(frac_data, frac_label)"
   ]
  },
  {
   "cell_type": "code",
   "execution_count": null,
   "metadata": {},
   "outputs": [],
   "source": [
    "clf.best_score_"
   ]
  },
  {
   "cell_type": "code",
   "execution_count": null,
   "metadata": {},
   "outputs": [],
   "source": [
    "clf.best_params_"
   ]
  },
  {
   "cell_type": "markdown",
   "metadata": {
    "colab_type": "text",
    "id": "Hzcffusgp8Yn"
   },
   "source": [
    "## Часть 3. Соревнование по машинному обучению <a id=\"part3\"></a>"
   ]
  },
  {
   "cell_type": "markdown",
   "metadata": {
    "colab_type": "text",
    "id": "rNPl0-chp8Yn"
   },
   "source": [
    "В данном задании вам предлагается принять участие в соревновании на kaggle: [PUBG Finish Placement Prediction](https://www.kaggle.com/c/pubg-finish-placement-prediction).  \n",
    "Задача соревнования заключается в том, чтобы предсказать итоговый результат игрока (место в турнирном зачете) в [популярной](https://meduza.io/feature/2017/12/22/u-etoy-igry-net-syuzheta-i-prokachki-ya-potratil-na-nee-100-chasov-zhizni-i-eto-tolko-nachalo) игре PlayerUnknownʼs Battlegrounds на основании результатов предыдущих игр.  \n",
    " \n",
    "Подробное описание задачи, данные и их описание, целевую метрику и правила вы можете найти на странице соревнования. "
   ]
  },
  {
   "cell_type": "markdown",
   "metadata": {
    "colab_type": "text",
    "id": "n8BI-le4p8Yo"
   },
   "source": [
    "Для участия в соревновании, т.е. для того, чтобы скачать данные, сабмитить результаты и попасть в leaderboard, вам необходимо создать аккаунт на [kaggle](https://www.kaggle.com/)."
   ]
  },
  {
   "cell_type": "markdown",
   "metadata": {
    "colab_type": "text",
    "id": "WxHBQk97p8Yo"
   },
   "source": [
    "Данное соревнование является `Kernels Only` - это означает, что вы должны сабмитить не файл с предсказаниями для тестовой выборки, а код, который будет выполняться (преобразовывать данные, обучать модель) и создавать файл с предсказаниями. Как это сделать сказано в [описании](https://www.kaggle.com/c/pubg-finish-placement-prediction#Kernels-FAQ), также есть хороший [тьюториал](https://www.kaggle.com/dansbecker/submitting-from-a-kernel)."
   ]
  },
  {
   "cell_type": "markdown",
   "metadata": {
    "colab_type": "text",
    "id": "jG5MJkynp8Yo"
   },
   "source": [
    "После того, как вы выполните сабмит, в leaderboard вы сможете посмотреть качество вашей модели на тестовой выборке и место в общем зачете.  \n",
    "Вы можете делать много (до 10 в день) сабмитов - в leaderbord всегда отображается самый лучший (остальные можно посмотреть в `My Submissions`)."
   ]
  },
  {
   "cell_type": "markdown",
   "metadata": {
    "colab_type": "text",
    "id": "z1R_bGKTp8Yp"
   },
   "source": [
    "### Задание  \n",
    "  \n",
    "Необходимо построить и засабмитить модель, которая:   \n",
    "* Задача минимум – покажет на тестовой выборке качество выше baseline: 0.2\n",
    "* Задача максимум - решит задачу как можно точнее  \n",
    "  \n",
    "При решении можно и нужно выполнять различные преобразования признаков и применять различные модели машинного обучения.  \n",
    "\n",
    "В качестве результата необходимо: \n",
    "* Сказать ваш логин на kaggle, чтобы мы могли найти вас в leaderboard\n",
    "* Предоставить скрипт, выполняющий преобразования данных (из формата начальных данных в тот формат, который должна принимать на вход модель) и предсказания, а также сохраненную обученную модель. \n",
    "* Предоставить скрипт, который вы сабмитили.\n",
    "* Сделать краткое описание преобразования данных и итоговой модели. В описание можно также включить некоторые результаты анализа данных (если считаете их полезными и интересными) и собственную оценку модели на кросс-валидации.  \n",
    "  \n",
    "По результатам будет составлен наш локальный leaderboard. "
   ]
  }
 ],
 "metadata": {
  "colab": {
   "name": "Yo_Modern_ML_Lab_1_Supervised_learning.ipynb",
   "provenance": [],
   "version": "0.3.2"
  },
  "kernelspec": {
   "display_name": "Python 3",
   "language": "python",
   "name": "python3"
  },
  "language_info": {
   "codemirror_mode": {
    "name": "ipython",
    "version": 3
   },
   "file_extension": ".py",
   "mimetype": "text/x-python",
   "name": "python",
   "nbconvert_exporter": "python",
   "pygments_lexer": "ipython3",
   "version": "3.6.3"
  }
 },
 "nbformat": 4,
 "nbformat_minor": 1
}
