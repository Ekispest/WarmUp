{
 "cells": [
  {
   "cell_type": "markdown",
   "metadata": {},
   "source": [
    "# <center> Майнор \"Интеллектуальный анализ данных\" <center>"
   ]
  },
  {
   "cell_type": "markdown",
   "metadata": {},
   "source": [
    "# <center> Курс \"Современные методы машинного обучения\" <center>"
   ]
  },
  {
   "cell_type": "markdown",
   "metadata": {},
   "source": [
    "# <center> Лабораторная работа №1. Supervised learning <center>"
   ]
  },
  {
   "cell_type": "markdown",
   "metadata": {},
   "source": [
    "## Table of contents  \n",
    "  \n",
    "* [Часть 1. Работа с данными](#part1)\n",
    "* [Часть 2. Методы машинного обучения](#part2)\n",
    "* [Часть 3. Соревнование по машинному обучению](#part3)"
   ]
  },
  {
   "cell_type": "markdown",
   "metadata": {},
   "source": [
    "## Часть 1. Работа с данными <a id=\"part1\"></a>"
   ]
  },
  {
   "cell_type": "markdown",
   "metadata": {},
   "source": [
    "В данной части лабораторной вам предстоит работать с данными по оттоку клиентов одной телекомуникационной компании. Оригинал данных доступен [здесь](https://bigml.com/user/francisco/gallery/dataset/5163ad540c0b5e5b22000383). Для лабораторной работы данные были модифицированы."
   ]
  },
  {
   "cell_type": "markdown",
   "metadata": {},
   "source": [
    "Данные находятся в файле `telecom_churn_mod.csv`"
   ]
  },
  {
   "cell_type": "markdown",
   "metadata": {},
   "source": [
    "**Описание данных:**"
   ]
  },
  {
   "cell_type": "code",
   "execution_count": 2,
   "metadata": {
    "collapsed": true
   },
   "outputs": [],
   "source": [
    "import pandas as pd"
   ]
  },
  {
   "cell_type": "code",
   "execution_count": 3,
   "metadata": {
    "collapsed": true
   },
   "outputs": [],
   "source": [
    "pd.set_option('display.max_columns', 25)\n",
    "pd.set_option('display.max_colwidth', -1)"
   ]
  },
  {
   "cell_type": "code",
   "execution_count": 4,
   "metadata": {
    "scrolled": false
   },
   "outputs": [
    {
     "data": {
      "text/html": [
       "<div>\n",
       "<style scoped>\n",
       "    .dataframe tbody tr th:only-of-type {\n",
       "        vertical-align: middle;\n",
       "    }\n",
       "\n",
       "    .dataframe tbody tr th {\n",
       "        vertical-align: top;\n",
       "    }\n",
       "\n",
       "    .dataframe thead th {\n",
       "        text-align: right;\n",
       "    }\n",
       "</style>\n",
       "<table border=\"1\" class=\"dataframe\">\n",
       "  <thead>\n",
       "    <tr style=\"text-align: right;\">\n",
       "      <th></th>\n",
       "      <th>Признак</th>\n",
       "      <th>Описание</th>\n",
       "      <th>Тип</th>\n",
       "    </tr>\n",
       "  </thead>\n",
       "  <tbody>\n",
       "    <tr>\n",
       "      <th>0</th>\n",
       "      <td>ID</td>\n",
       "      <td>Уникальный идентификатор объекта</td>\n",
       "      <td>Числовой (integer)</td>\n",
       "    </tr>\n",
       "    <tr>\n",
       "      <th>1</th>\n",
       "      <td>Sex</td>\n",
       "      <td>Пол</td>\n",
       "      <td>Символьный</td>\n",
       "    </tr>\n",
       "    <tr>\n",
       "      <th>2</th>\n",
       "      <td>Age</td>\n",
       "      <td>Возраст</td>\n",
       "      <td>Числовой (integer)</td>\n",
       "    </tr>\n",
       "    <tr>\n",
       "      <th>3</th>\n",
       "      <td>State</td>\n",
       "      <td>Буквенный код штата</td>\n",
       "      <td>Символьный</td>\n",
       "    </tr>\n",
       "    <tr>\n",
       "      <th>4</th>\n",
       "      <td>Account length</td>\n",
       "      <td>Как долго клиент обслуживается компанией</td>\n",
       "      <td>Числовой (integer)</td>\n",
       "    </tr>\n",
       "    <tr>\n",
       "      <th>5</th>\n",
       "      <td>Phone number</td>\n",
       "      <td>Номер телефона клиента</td>\n",
       "      <td>Символьный</td>\n",
       "    </tr>\n",
       "    <tr>\n",
       "      <th>6</th>\n",
       "      <td>Plans</td>\n",
       "      <td>Подключенные планы</td>\n",
       "      <td>Символьный (None; International/Voice mail or both)</td>\n",
       "    </tr>\n",
       "    <tr>\n",
       "      <th>7</th>\n",
       "      <td>Number vmail messages</td>\n",
       "      <td>Количество голосовых сообщений</td>\n",
       "      <td>Числовой (integer)</td>\n",
       "    </tr>\n",
       "    <tr>\n",
       "      <th>8</th>\n",
       "      <td>Total day minutes</td>\n",
       "      <td>Общая длительность разговоров днем</td>\n",
       "      <td>Числовой (float)</td>\n",
       "    </tr>\n",
       "    <tr>\n",
       "      <th>9</th>\n",
       "      <td>Total day calls</td>\n",
       "      <td>Общее количество звонков днем</td>\n",
       "      <td>Числовой (float)</td>\n",
       "    </tr>\n",
       "    <tr>\n",
       "      <th>10</th>\n",
       "      <td>Total day charge</td>\n",
       "      <td>Общая сумма оплаты за услуги днем</td>\n",
       "      <td>Числовой (float)</td>\n",
       "    </tr>\n",
       "    <tr>\n",
       "      <th>11</th>\n",
       "      <td>Total eve minutes</td>\n",
       "      <td>Общая длительность разговоров вечером</td>\n",
       "      <td>Числовой (float)</td>\n",
       "    </tr>\n",
       "    <tr>\n",
       "      <th>12</th>\n",
       "      <td>Total eve calls</td>\n",
       "      <td>Общее количество звонков вечером</td>\n",
       "      <td>Числовой (float)</td>\n",
       "    </tr>\n",
       "    <tr>\n",
       "      <th>13</th>\n",
       "      <td>Total eve charge</td>\n",
       "      <td>Общая сумма оплаты за услуги вечером</td>\n",
       "      <td>Числовой (float)</td>\n",
       "    </tr>\n",
       "    <tr>\n",
       "      <th>14</th>\n",
       "      <td>Total night minutes</td>\n",
       "      <td>Общая длительность разговоров ночью</td>\n",
       "      <td>Числовой (float)</td>\n",
       "    </tr>\n",
       "    <tr>\n",
       "      <th>15</th>\n",
       "      <td>Total night calls</td>\n",
       "      <td>Общее количество звонков ночью</td>\n",
       "      <td>Числовой (float)</td>\n",
       "    </tr>\n",
       "    <tr>\n",
       "      <th>16</th>\n",
       "      <td>Total night charge</td>\n",
       "      <td>Общая сумма оплаты за услуги ночью</td>\n",
       "      <td>Числовой (float)</td>\n",
       "    </tr>\n",
       "    <tr>\n",
       "      <th>17</th>\n",
       "      <td>Total intl minutes</td>\n",
       "      <td>Общая длительность международных разговоров</td>\n",
       "      <td>Числовой (float)</td>\n",
       "    </tr>\n",
       "    <tr>\n",
       "      <th>18</th>\n",
       "      <td>Total intl calls</td>\n",
       "      <td>Общее количество международных разговоров</td>\n",
       "      <td>Числовой (float)</td>\n",
       "    </tr>\n",
       "    <tr>\n",
       "      <th>19</th>\n",
       "      <td>Total intl charge</td>\n",
       "      <td>Общая сумма оплаты за международные разговор</td>\n",
       "      <td>Числовой (float)</td>\n",
       "    </tr>\n",
       "    <tr>\n",
       "      <th>20</th>\n",
       "      <td>Total charge</td>\n",
       "      <td>Общая сумма оплаты за услуги</td>\n",
       "      <td>Числовой (float)</td>\n",
       "    </tr>\n",
       "    <tr>\n",
       "      <th>21</th>\n",
       "      <td>Customer service calls</td>\n",
       "      <td>Число обращений в сервисный центр</td>\n",
       "      <td>Числовой (integer)</td>\n",
       "    </tr>\n",
       "    <tr>\n",
       "      <th>22</th>\n",
       "      <td>Churn</td>\n",
       "      <td>Отток клиента (остался или ушел)</td>\n",
       "      <td>Логический (True - ушел; False - остался)</td>\n",
       "    </tr>\n",
       "  </tbody>\n",
       "</table>\n",
       "</div>"
      ],
      "text/plain": [
       "                   Признак                                      Описание  \\\n",
       "0   ID                      Уникальный идентификатор объекта               \n",
       "1   Sex                     Пол                                            \n",
       "2   Age                     Возраст                                        \n",
       "3   State                   Буквенный код штата                            \n",
       "4   Account length          Как долго клиент обслуживается компанией       \n",
       "5   Phone number            Номер телефона клиента                         \n",
       "6   Plans                   Подключенные планы                             \n",
       "7   Number vmail messages   Количество голосовых сообщений                 \n",
       "8   Total day minutes       Общая длительность разговоров днем             \n",
       "9   Total day calls         Общее количество звонков днем                  \n",
       "10  Total day charge        Общая сумма оплаты за услуги днем              \n",
       "11  Total eve minutes       Общая длительность разговоров вечером          \n",
       "12  Total eve calls         Общее количество звонков вечером               \n",
       "13  Total eve charge        Общая сумма оплаты за услуги вечером           \n",
       "14  Total night minutes     Общая длительность разговоров ночью            \n",
       "15  Total night calls       Общее количество звонков ночью                 \n",
       "16  Total night charge      Общая сумма оплаты за услуги ночью             \n",
       "17  Total intl minutes      Общая длительность международных разговоров    \n",
       "18  Total intl calls        Общее количество международных разговоров      \n",
       "19  Total intl charge       Общая сумма оплаты за международные разговор   \n",
       "20  Total charge            Общая сумма оплаты за услуги                   \n",
       "21  Customer service calls  Число обращений в сервисный центр              \n",
       "22  Churn                   Отток клиента (остался или ушел)               \n",
       "\n",
       "                                                    Тип  \n",
       "0   Числовой (integer)                                   \n",
       "1   Символьный                                           \n",
       "2   Числовой (integer)                                   \n",
       "3   Символьный                                           \n",
       "4   Числовой (integer)                                   \n",
       "5   Символьный                                           \n",
       "6   Символьный (None; International/Voice mail or both)  \n",
       "7   Числовой (integer)                                   \n",
       "8    Числовой (float)                                    \n",
       "9   Числовой (float)                                     \n",
       "10  Числовой (float)                                     \n",
       "11  Числовой (float)                                     \n",
       "12  Числовой (float)                                     \n",
       "13  Числовой (float)                                     \n",
       "14  Числовой (float)                                     \n",
       "15  Числовой (float)                                     \n",
       "16  Числовой (float)                                     \n",
       "17  Числовой (float)                                     \n",
       "18  Числовой (float)                                     \n",
       "19  Числовой (float)                                     \n",
       "20  Числовой (float)                                     \n",
       "21   Числовой (integer)                                  \n",
       "22  Логический (True - ушел; False - остался)            "
      ]
     },
     "execution_count": 4,
     "metadata": {},
     "output_type": "execute_result"
    }
   ],
   "source": [
    "pd.read_csv('telecom_churn_description.csv')"
   ]
  },
  {
   "cell_type": "markdown",
   "metadata": {},
   "source": [
    "### Задание 1  \n",
    "  \n",
    "Считайте данные из файла. Оцените размерность данных, есть ли в данных пропущенные значения. Посмотрите на автоматически определенные типы признаков."
   ]
  },
  {
   "cell_type": "code",
   "execution_count": 1,
   "metadata": {},
   "outputs": [
    {
     "ename": "NameError",
     "evalue": "name 'pd' is not defined",
     "output_type": "error",
     "traceback": [
      "\u001b[1;31m---------------------------------------------------------------------------\u001b[0m",
      "\u001b[1;31mNameError\u001b[0m                                 Traceback (most recent call last)",
      "\u001b[1;32m<ipython-input-1-aa37c388a04b>\u001b[0m in \u001b[0;36m<module>\u001b[1;34m()\u001b[0m\n\u001b[1;32m----> 1\u001b[1;33m \u001b[0mdata\u001b[0m \u001b[1;33m=\u001b[0m \u001b[0mpd\u001b[0m\u001b[1;33m.\u001b[0m\u001b[0mread_csv\u001b[0m\u001b[1;33m(\u001b[0m\u001b[1;34m'telecom_churn_mod.csv'\u001b[0m\u001b[1;33m)\u001b[0m\u001b[1;33m\u001b[0m\u001b[0m\n\u001b[0m",
      "\u001b[1;31mNameError\u001b[0m: name 'pd' is not defined"
     ]
    }
   ],
   "source": [
    "data = pd.read_csv('telecom_churn_mod.csv')"
   ]
  },
  {
   "cell_type": "markdown",
   "metadata": {},
   "source": [
    "### Задание 2  \n",
    "  \n",
    "Приведите числовые признаки, которые были распознаны некорректно, к числовому типу данных.  \n",
    "Найдите и опишите ошибки в данных, которые мешают приведению типов. Сколько признаков содержат ошибки, сколько наблюдений по каждому такому признаку? Исправьте эти ошибки и снова выполните приведение типов.  \n",
    "**NB:** Исправлять ошибки необходимо программно (используя python), изменять исходный файл \"руками\" не разрешается. "
   ]
  },
  {
   "cell_type": "code",
   "execution_count": null,
   "metadata": {
    "collapsed": true
   },
   "outputs": [],
   "source": [
    "# your code here"
   ]
  },
  {
   "cell_type": "markdown",
   "metadata": {},
   "source": [
    "### Задание 3  \n",
    "  \n",
    "Оцените набор данных на предмет пропущенных значений. Какие признаки содержат пропуски? Сколько наблюдений с пропусками по каждому такому признаку?  \n",
    "По каждому признаку предложите и обоснуйте, что делать с пропущенными значениями. "
   ]
  },
  {
   "cell_type": "code",
   "execution_count": null,
   "metadata": {
    "collapsed": true
   },
   "outputs": [],
   "source": [
    "# your code here"
   ]
  },
  {
   "cell_type": "markdown",
   "metadata": {},
   "source": [
    "### Задание 4  \n",
    "  \n",
    "В признаке `Phone number` первые три цифры номера отвечают за код зоны покрытия сети.  \n",
    "Создайте новый признак `Area code`, содержайщий код покрытия сети.  \n",
    "Вычислите, сколько таких зон представлено в данных. Сколько наблюдений по каждой зоне?  \n",
    "Вычислите, сколько штатов входит в каждую зону. Есть ли штаты, которые находятся сразу в нескольких зонах покрытия? Если есть, приведите примеры."
   ]
  },
  {
   "cell_type": "code",
   "execution_count": null,
   "metadata": {
    "collapsed": true
   },
   "outputs": [],
   "source": [
    "# your code here"
   ]
  },
  {
   "cell_type": "markdown",
   "metadata": {},
   "source": [
    "### Задание 5  \n",
    "  \n",
    "Вычислите тарифные планы (стоимость минуты разговора): day, eve, night, intl.  \n",
    "Проверьте, различаются ли они для различных зон покрытия сети. "
   ]
  },
  {
   "cell_type": "code",
   "execution_count": null,
   "metadata": {
    "collapsed": true
   },
   "outputs": [],
   "source": [
    "# your code here"
   ]
  },
  {
   "cell_type": "markdown",
   "metadata": {},
   "source": [
    "### Задание 6  \n",
    "  \n",
    "По каждому штату и каждому плану в признаке `Plans` (International и Voice mail) вычислите количество клиентов, подключивших этот план и их долю внутри штата. Пример вывода:\n",
    "  \n",
    "<table border=\"1\" class=\"dataframe\">\n",
    "  <thead>\n",
    "    <tr style=\"text-align: right;\">\n",
    "      <th></th>\n",
    "      <th>State</th>\n",
    "      <th>Plan</th>\n",
    "      <th>Count</th>\n",
    "      <th>Frac</th>\n",
    "    </tr>\n",
    "  </thead>\n",
    "  <tbody>\n",
    "    <tr>\n",
    "      <th>0</th>\n",
    "      <td>state_1</td>\n",
    "      <td>International</td>\n",
    "      <td>40</td>\n",
    "      <td>0.4</td>\n",
    "    </tr>\n",
    "    <tr>\n",
    "      <th>1</th>\n",
    "      <td>state_1</td>\n",
    "      <td>Voice mail</td>\n",
    "      <td>30</td>\n",
    "      <td>0.3</td>\n",
    "    </tr>\n",
    "    <tr>\n",
    "      <th>2</th>\n",
    "      <td>state_2</td>\n",
    "      <td>International</td>\n",
    "      <td>25</td>\n",
    "      <td>0.5</td>\n",
    "    </tr>\n",
    "    <tr>\n",
    "      <th>3</th>\n",
    "      <td>state_2</td>\n",
    "      <td>Voice mail</td>\n",
    "      <td>35</td>\n",
    "      <td>0.7</td>\n",
    "    </tr>\n",
    "  </tbody>\n",
    "</table>"
   ]
  },
  {
   "cell_type": "code",
   "execution_count": null,
   "metadata": {
    "collapsed": true
   },
   "outputs": [],
   "source": [
    "# your code here"
   ]
  },
  {
   "cell_type": "markdown",
   "metadata": {},
   "source": [
    "### Задание 7  \n",
    "  \n",
    "Для нечисловых признаков выполните преобразование к числовому виду. Обоснуйте выбранное преобразование для каждого признака. "
   ]
  },
  {
   "cell_type": "code",
   "execution_count": null,
   "metadata": {
    "collapsed": true
   },
   "outputs": [],
   "source": [
    "# your code here"
   ]
  },
  {
   "cell_type": "markdown",
   "metadata": {},
   "source": [
    "### Задание 8  \n",
    "  \n",
    "Сколько линейно-зависимых признаков присуствует в данных?  \n",
    "Определите и удалите признаки, которые линейно зависят от остальных."
   ]
  },
  {
   "cell_type": "code",
   "execution_count": null,
   "metadata": {
    "collapsed": true
   },
   "outputs": [],
   "source": [
    "# your code here"
   ]
  },
  {
   "cell_type": "markdown",
   "metadata": {},
   "source": [
    "### Задание 9  \n",
    "  \n",
    "Проведите анализ зависимости признаков.  \n",
    "Для числовых признаков вычислите корреляции друг с другом и с целевой переменной `Churn`. Постройте heatmap.  \n",
    "Для категориальных признаков оцените их связь с целевой переменной, постройте графики.  \n",
    "  \n",
    "Сделайте выводы по результатм анализа. Можно ли избавиться от некоторых признаков? Если да, то от каких и почему?"
   ]
  },
  {
   "cell_type": "code",
   "execution_count": null,
   "metadata": {
    "collapsed": true
   },
   "outputs": [],
   "source": [
    "# your code here"
   ]
  },
  {
   "cell_type": "markdown",
   "metadata": {},
   "source": [
    "### Задание 10  \n",
    "  \n",
    "Рассмотрим основанную на правилах модель для предсказания оттока клиентов: \n",
    "* Если у пользователя подключен роуминг (International plan) & клиент звонил в тех. поддержку более 3-х раз => клиент уйдет (Churn = True)\n",
    "* Иначе => клиент останется (Churn = False)  \n",
    "  \n",
    "  \n",
    "Оцените качество данной модели на 5-fold валидации из 5 повторений. Для оценки качества рассмотрите различные метрики: F1-score, precision, recall, accuracy, balanced accuracy. Дайте комментарий к оценке."
   ]
  },
  {
   "cell_type": "code",
   "execution_count": null,
   "metadata": {
    "collapsed": true
   },
   "outputs": [],
   "source": [
    "# your code here"
   ]
  },
  {
   "cell_type": "markdown",
   "metadata": {},
   "source": [
    "## Часть 2. Методы машинного обучения <a id=\"part2\"></a>"
   ]
  },
  {
   "cell_type": "markdown",
   "metadata": {},
   "source": [
    "Продолжаем работать с данными по оттоку клиентов.  \n",
    "Сформулируем задачу машинного обучения: необходимо построить модель, определяющую, останется клиент или уйдет. \n",
    "  \n",
    "Для решения заданий, представленных ниже, необходимо использовать данные, полученные после выполнения всех преобразований в первой части. "
   ]
  },
  {
   "cell_type": "markdown",
   "metadata": {},
   "source": [
    "### Задание 1  \n",
    "  \n",
    "* Постройте дерево решений глубины 5 (остальные параметры по умолчанию), оцените качество на 5-fold валидации.  \n",
    "* Для одного из деревьев (т.е. обученного на одной из итераций кросс-валидации) выведите само дерево - постройте график или выведите в текстовом виде. По структуре дерева сформулируйте правила, по которым принимается решение.  \n",
    "* Сравните между собой деревья решений, полученных на различных итерациях 5-fold валидации. Сделайте вывод, насколько сильно они похожи или различаются между собой. "
   ]
  },
  {
   "cell_type": "code",
   "execution_count": null,
   "metadata": {
    "collapsed": true
   },
   "outputs": [],
   "source": [
    "# your code here"
   ]
  },
  {
   "cell_type": "markdown",
   "metadata": {},
   "source": [
    "### Задание 2  \n",
    "  \n",
    "На кросс-валидации (5-fold из 5 повторений) оцените, как меняется качество модели Random Forest с ростом числа деревьев (при дефолтных значениях остальных параметров). Провизуализируйте результаты. Сколько деревьев достаточно в данном случае и почему?  \n",
    "**NB:** В сравнение включите конфигурацию, аналогичную простому дереву решений. "
   ]
  },
  {
   "cell_type": "code",
   "execution_count": null,
   "metadata": {
    "collapsed": true
   },
   "outputs": [],
   "source": [
    "# your code here"
   ]
  },
  {
   "cell_type": "markdown",
   "metadata": {},
   "source": [
    "### Задание 3  \n",
    "  \n",
    "* Настройте гиперпараметры модели Random Forest на 5-fold валдиации из 5 повторений. В качестве метрики используйте F1-score. Замерьте время, затраченное на вычисления.\n",
    "* Разделите данные на обучающую и тестовую выборки в пропорциях 70:30. Обучите Random Forest  с настроенными параметрами на обучающей выборке. На тестовой выборке оцените качество (F1-score) всего ансамбля и <u>каждого дерева отдельно</u>. Постройте график распределения качества деревьев в ансамбле и сравните результаты с качеством всего леса. Дайте комментарий.  \n",
    "* Выведите важность признаков в Random Forest, сделайте выводы. "
   ]
  },
  {
   "cell_type": "code",
   "execution_count": null,
   "metadata": {
    "collapsed": true
   },
   "outputs": [],
   "source": [
    "# your code here"
   ]
  },
  {
   "cell_type": "markdown",
   "metadata": {},
   "source": [
    "### Задание 4  \n",
    "  \n",
    "* Используйте логистическую регрессию для решения задачи, оцените качество (roc auc) на 5-fold валидации из 5 повторений. \n",
    "* Аналогично (на такой же валидации с такой же метрикой) оцените качество Random Forest  с подобранными в предыдущем задании параметрами. Сравните с качеством логистическом регрессии.\n",
    "* Разделите данные на обучающую и тестовую выборки в пропорциях 70:30. На обучающей выборке обучите логистическую регрессию и Random Forest  с настроенными параметрами. Для обеих моделей оцените качество на тестовой выборке - постройте ROC-кривую, вычислите roc auc."
   ]
  },
  {
   "cell_type": "code",
   "execution_count": null,
   "metadata": {
    "collapsed": true
   },
   "outputs": [],
   "source": [
    "# your code here"
   ]
  },
  {
   "cell_type": "markdown",
   "metadata": {},
   "source": [
    "### Задание 5  \n",
    "  \n",
    "Настройте гиперпараметры модели SVM на 5-fold валидации из 5 повторений. В качестве метрики используйте F1-score. Замерьте время, затраченное на вычисления.    \n",
    "Каково качество модели? Каков разброс значений метрики? Насколько сильно различие между лучшей и худшей конфигурациями параметров?"
   ]
  },
  {
   "cell_type": "code",
   "execution_count": null,
   "metadata": {
    "collapsed": true
   },
   "outputs": [],
   "source": [
    "# your code here"
   ]
  },
  {
   "cell_type": "markdown",
   "metadata": {},
   "source": [
    "### Задание 6  \n",
    "  \n",
    "Для алгоритма AdaBoost с параметрами по умолчанию оцените на 5-fold валидации, как растет качество модели на обучающей и на тестовой выборках при добавлении каждого дерева. Провизуализируйте результаты. "
   ]
  },
  {
   "cell_type": "code",
   "execution_count": null,
   "metadata": {
    "collapsed": true
   },
   "outputs": [],
   "source": [
    "# your code here"
   ]
  },
  {
   "cell_type": "markdown",
   "metadata": {},
   "source": [
    "### Задание 7  \n",
    "  \n",
    "* Настройте гиперпараметры AdaBoost на 5-fold валидации из 5 повторений, используя в качестве базовых классификаторов дерево решений и SVM. В качестве метрики используйте F1-score. Замерьте время, затраченное на вычисления.    \n",
    "* Выведите наилучшую конфигурацию параметров для каждого базового классификатора. Сравните качество. "
   ]
  },
  {
   "cell_type": "code",
   "execution_count": null,
   "metadata": {
    "collapsed": true
   },
   "outputs": [],
   "source": [
    "# your code here"
   ]
  },
  {
   "cell_type": "markdown",
   "metadata": {},
   "source": [
    "## Часть 3. Соревнование по машинному обучению <a id=\"part3\"></a>"
   ]
  },
  {
   "cell_type": "markdown",
   "metadata": {},
   "source": [
    "В данном задании вам предлагается принять участие в соревновании на kaggle: [PUBG Finish Placement Prediction](https://www.kaggle.com/c/pubg-finish-placement-prediction).  \n",
    "Задача соревнования заключается в том, чтобы предсказать итоговый результат игрока (место в турнирном зачете) в [популярной](https://meduza.io/feature/2017/12/22/u-etoy-igry-net-syuzheta-i-prokachki-ya-potratil-na-nee-100-chasov-zhizni-i-eto-tolko-nachalo) игре PlayerUnknownʼs Battlegrounds на основании результатов предыдущих игр.  \n",
    " \n",
    "Подробное описание задачи, данные и их описание, целевую метрику и правила вы можете найти на странице соревнования. "
   ]
  },
  {
   "cell_type": "markdown",
   "metadata": {},
   "source": [
    "Для участия в соревновании, т.е. для того, чтобы скачать данные, сабмитить результаты и попасть в leaderboard, вам необходимо создать аккаунт на [kaggle](https://www.kaggle.com/)."
   ]
  },
  {
   "cell_type": "markdown",
   "metadata": {},
   "source": [
    "Данное соревнование является `Kernels Only` - это означает, что вы должны сабмитить не файл с предсказаниями для тестовой выборки, а код, который будет выполняться (преобразовывать данные, обучать модель) и создавать файл с предсказаниями. Как это сделать сказано в [описании](https://www.kaggle.com/c/pubg-finish-placement-prediction#Kernels-FAQ), также есть хороший [тьюториал](https://www.kaggle.com/dansbecker/submitting-from-a-kernel)."
   ]
  },
  {
   "cell_type": "markdown",
   "metadata": {},
   "source": [
    "После того, как вы выполните сабмит, в leaderboard вы сможете посмотреть качество вашей модели на тестовой выборке и место в общем зачете.  \n",
    "Вы можете делать много (до 10 в день) сабмитов - в leaderbord всегда отображается самый лучший (остальные можно посмотреть в `My Submissions`)."
   ]
  },
  {
   "cell_type": "markdown",
   "metadata": {},
   "source": [
    "### Задание  \n",
    "  \n",
    "Необходимо построить и засабмитить модель, которая:   \n",
    "* Задача минимум – покажет на тестовой выборке качество выше baseline: 0.2\n",
    "* Задача максимум - решит задачу как можно точнее  \n",
    "  \n",
    "При решении можно и нужно выполнять различные преобразования признаков и применять различные модели машинного обучения.  \n",
    "\n",
    "В качестве результата необходимо: \n",
    "* Сказать ваш логин на kaggle, чтобы мы могли найти вас в leaderboard\n",
    "* Предоставить скрипт, выполняющий преобразования данных (из формата начальных данных в тот формат, который должна принимать на вход модель) и предсказания, а также сохраненную обученную модель. \n",
    "* Предоставить скрипт, который вы сабмитили.\n",
    "* Сделать краткое описание преобразования данных и итоговой модели. В описание можно также включить некоторые результаты анализа данных (если считаете их полезными и интересными) и собственную оценку модели на кросс-валидации.  \n",
    "  \n",
    "По результатам будет составлен наш локальный leaderboard. "
   ]
  }
 ],
 "metadata": {
  "anaconda-cloud": {},
  "kernelspec": {
   "display_name": "Python 3",
   "language": "python",
   "name": "python3"
  },
  "language_info": {
   "codemirror_mode": {
    "name": "ipython",
    "version": 3
   },
   "file_extension": ".py",
   "mimetype": "text/x-python",
   "name": "python",
   "nbconvert_exporter": "python",
   "pygments_lexer": "ipython3",
   "version": "3.6.3"
  }
 },
 "nbformat": 4,
 "nbformat_minor": 1
}
